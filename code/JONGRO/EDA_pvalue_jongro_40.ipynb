{
 "cells": [
  {
   "cell_type": "markdown",
   "metadata": {},
   "source": [
    "# Multi Linear Regression을 이용하여 p-value 계산하기\n",
    "## p-value : 귀무가설을 가정하였을 때 표본 이상으로 극단적인 결과를 얻을 확률\n",
    "## 귀무가설 : Multi Linear Regression을 사용하여 회귀모델을 설계할 때 각 feature의 coefficient가 0이 됨\n",
    "- 따라서 p-value는 극단적인 결과를 얻을 확률이 적어야 안정적인 해당 feature가 안정적이라고 할 수 있다."
   ]
  },
  {
   "cell_type": "code",
   "execution_count": 1,
   "metadata": {},
   "outputs": [],
   "source": [
    "import warnings\n",
    "warnings.filterwarnings(\"ignore\")\n",
    "\n",
    "import pandas as pd\n",
    "import numpy as np\n",
    "\n",
    "import matplotlib.pyplot as plt\n",
    "%matplotlib inline\n",
    "\n",
    "import scipy.stats as stats\n",
    "import urllib\n",
    "from statsmodels.formula.api import ols\n",
    "import statsmodels.api as sm\n",
    "from statsmodels.stats.anova import anova_lm\n",
    "from sklearn.linear_model import Lasso, Ridge\n",
    "from sklearn.model_selection import train_test_split"
   ]
  },
  {
   "cell_type": "code",
   "execution_count": 2,
   "metadata": {},
   "outputs": [],
   "source": [
    "# 나이대 별로 약 20개 이상의 feature에 대한 p-value를 확인해야하므로 나이대 별로 서로 다른 파일에 저장\n",
    "df_40 = pd.read_csv('../data/innovation/Merge_data/df_age40_jongro.csv')"
   ]
  },
  {
   "cell_type": "code",
   "execution_count": 3,
   "metadata": {},
   "outputs": [
    {
     "data": {
      "text/plain": [
       "Index(['age40accum', 'age40leisure goods', 'age40leisure busi', 'age40culture',\n",
       "       'age40furniture', 'age40electronic', 'age40kitchen', 'age40fuel',\n",
       "       'age40optic', 'age40Appliances', 'age40circul', 'age40cloth',\n",
       "       'age40textile', 'age40stuff', 'age40book', 'age40affair',\n",
       "       'age40car sell', 'age40car repair', 'age40medical',\n",
       "       'age40public health', 'age40food', 'age40grocery',\n",
       "       'age40repair survice', 'age40', 'LCLS_10_P', 'LCLS_20_P', 'LCLS_30_P',\n",
       "       'LCLS_40_P', 'LCLS_50_P', 'LCLS_60_P', 'LCLS_70_P', 'LCLS_80_P', 'pm10',\n",
       "       'pm25', 'humi', 'temp', 'CONTENT', 'rain'],\n",
       "      dtype='object')"
      ]
     },
     "execution_count": 3,
     "metadata": {},
     "output_type": "execute_result"
    }
   ],
   "source": [
    "df_40.columns"
   ]
  },
  {
   "cell_type": "code",
   "execution_count": 4,
   "metadata": {},
   "outputs": [],
   "source": [
    "df_40.columns = ['age40accum', 'age40leisure_goods', 'age40leisure_busi', 'age40culture',\n",
    "       'age40furniture', 'age40electronic', 'age40kitchen', 'age40fuel',\n",
    "       'age40optic', 'age40Appliances', 'age40circul', 'age40cloth',\n",
    "       'age40textile', 'age40stuff', 'age40book', 'age40affair',\n",
    "       'age40car_sell', 'age40car_repair', 'age40medical',\n",
    "       'age40public_health', 'age40food', 'age40grocery',\n",
    "       'age40repair_survice', 'age40', 'LCLS_10_P', 'LCLS_20_P', 'LCLS_30_P',\n",
    "       'LCLS_40_P', 'LCLS_50_P', 'LCLS_60_P', 'LCLS_70_P', 'LCLS_80_P', 'pm10',\n",
    "       'pm25', 'humi', 'temp', 'CONTENT', 'rain']"
   ]
  },
  {
   "cell_type": "code",
   "execution_count": 5,
   "metadata": {},
   "outputs": [],
   "source": [
    "def anova(col_name):\n",
    "    formula = col_name + ' ~ pm10 + pm25 + temp + humi + CONTENT + rain + CONTENT:temp + CONTENT:rain + CONTENT:humi'\n",
    "    lm = ols(formula, df_40).fit()\n",
    "    return lm.summary()"
   ]
  },
  {
   "cell_type": "code",
   "execution_count": 6,
   "metadata": {},
   "outputs": [
    {
     "name": "stdout",
     "output_type": "stream",
     "text": [
      "                            OLS Regression Results                            \n",
      "==============================================================================\n",
      "Dep. Variable:           age40culture   R-squared:                       0.269\n",
      "Model:                            OLS   Adj. R-squared:                  0.250\n",
      "Method:                 Least Squares   F-statistic:                     14.50\n",
      "Date:                Mon, 09 Sep 2019   Prob (F-statistic):           5.20e-20\n",
      "Time:                        23:11:32   Log-Likelihood:                -2408.9\n",
      "No. Observations:                 365   AIC:                             4838.\n",
      "Df Residuals:                     355   BIC:                             4877.\n",
      "Df Model:                           9                                         \n",
      "Covariance Type:            nonrobust                                         \n",
      "================================================================================\n",
      "                   coef    std err          t      P>|t|      [0.025      0.975]\n",
      "--------------------------------------------------------------------------------\n",
      "Intercept      559.1367     91.083      6.139      0.000     380.007     738.266\n",
      "pm10             0.1873      0.851      0.220      0.826      -1.486       1.860\n",
      "pm25             0.6024      1.157      0.521      0.603      -1.672       2.877\n",
      "temp             5.2580      2.405      2.187      0.029       0.529       9.987\n",
      "humi            -0.0643      2.055     -0.031      0.975      -4.105       3.977\n",
      "CONTENT         -0.0957      0.145     -0.662      0.509      -0.380       0.189\n",
      "rain            -4.1628      2.223     -1.873      0.062      -8.534       0.209\n",
      "CONTENT:temp    -0.0124      0.005     -2.722      0.007      -0.021      -0.003\n",
      "CONTENT:rain     0.0054      0.004      1.421      0.156      -0.002       0.013\n",
      "CONTENT:humi    -0.0030      0.003     -0.889      0.375      -0.010       0.004\n",
      "==============================================================================\n",
      "Omnibus:                      100.099   Durbin-Watson:                   1.210\n",
      "Prob(Omnibus):                  0.000   Jarque-Bera (JB):              319.876\n",
      "Skew:                           1.223   Prob(JB):                     3.47e-70\n",
      "Kurtosis:                       6.880   Cond. No.                     2.97e+05\n",
      "==============================================================================\n",
      "\n",
      "Warnings:\n",
      "[1] Standard Errors assume that the covariance matrix of the errors is correctly specified.\n",
      "[2] The condition number is large, 2.97e+05. This might indicate that there are\n",
      "strong multicollinearity or other numerical problems.\n"
     ]
    }
   ],
   "source": [
    "print(anova('age40culture')) # CONTENT"
   ]
  },
  {
   "cell_type": "code",
   "execution_count": 7,
   "metadata": {},
   "outputs": [
    {
     "name": "stdout",
     "output_type": "stream",
     "text": [
      "                            OLS Regression Results                            \n",
      "==============================================================================\n",
      "Dep. Variable:           age40medical   R-squared:                       0.282\n",
      "Model:                            OLS   Adj. R-squared:                  0.264\n",
      "Method:                 Least Squares   F-statistic:                     15.48\n",
      "Date:                Mon, 09 Sep 2019   Prob (F-statistic):           2.56e-21\n",
      "Time:                        23:11:38   Log-Likelihood:                -3375.4\n",
      "No. Observations:                 365   AIC:                             6771.\n",
      "Df Residuals:                     355   BIC:                             6810.\n",
      "Df Model:                           9                                         \n",
      "Covariance Type:            nonrobust                                         \n",
      "================================================================================\n",
      "                   coef    std err          t      P>|t|      [0.025      0.975]\n",
      "--------------------------------------------------------------------------------\n",
      "Intercept     4861.9293   1286.378      3.780      0.000    2332.050    7391.808\n",
      "pm10           -11.1831     12.015     -0.931      0.353     -34.813      12.446\n",
      "pm25             1.4234     16.336      0.087      0.931     -30.704      33.551\n",
      "temp           -71.3472     33.961     -2.101      0.036    -138.137      -4.557\n",
      "humi            -6.7012     29.019     -0.231      0.818     -63.772      50.370\n",
      "CONTENT          3.2645      2.043      1.598      0.111      -0.754       7.283\n",
      "rain             1.0290     31.392      0.033      0.974     -60.709      62.767\n",
      "CONTENT:temp     0.2112      0.064      3.290      0.001       0.085       0.337\n",
      "CONTENT:rain    -0.0219      0.053     -0.412      0.681      -0.127       0.083\n",
      "CONTENT:humi     0.0057      0.047      0.120      0.904      -0.087       0.099\n",
      "==============================================================================\n",
      "Omnibus:                       16.861   Durbin-Watson:                   1.900\n",
      "Prob(Omnibus):                  0.000   Jarque-Bera (JB):               18.448\n",
      "Skew:                          -0.547   Prob(JB):                     9.86e-05\n",
      "Kurtosis:                       2.879   Cond. No.                     2.97e+05\n",
      "==============================================================================\n",
      "\n",
      "Warnings:\n",
      "[1] Standard Errors assume that the covariance matrix of the errors is correctly specified.\n",
      "[2] The condition number is large, 2.97e+05. This might indicate that there are\n",
      "strong multicollinearity or other numerical problems.\n"
     ]
    }
   ],
   "source": [
    "print(anova(\"age40medical\")) # CONTENT"
   ]
  },
  {
   "cell_type": "code",
   "execution_count": 9,
   "metadata": {},
   "outputs": [
    {
     "name": "stdout",
     "output_type": "stream",
     "text": [
      "                            OLS Regression Results                            \n",
      "==============================================================================\n",
      "Dep. Variable:              LCLS_30_P   R-squared:                       0.830\n",
      "Model:                            OLS   Adj. R-squared:                  0.826\n",
      "Method:                 Least Squares   F-statistic:                     192.8\n",
      "Date:                Mon, 09 Sep 2019   Prob (F-statistic):          7.51e-131\n",
      "Time:                        23:11:52   Log-Likelihood:                -4266.4\n",
      "No. Observations:                 365   AIC:                             8553.\n",
      "Df Residuals:                     355   BIC:                             8592.\n",
      "Df Model:                           9                                         \n",
      "Covariance Type:            nonrobust                                         \n",
      "================================================================================\n",
      "                   coef    std err          t      P>|t|      [0.025      0.975]\n",
      "--------------------------------------------------------------------------------\n",
      "Intercept     4.049e+05   1.48e+04     27.404      0.000    3.76e+05    4.34e+05\n",
      "pm10          -431.6831    137.997     -3.128      0.002    -703.078    -160.288\n",
      "pm25           577.6202    187.624      3.079      0.002     208.626     946.614\n",
      "temp          6451.6779    390.057     16.540      0.000    5684.565    7218.791\n",
      "humi         -1560.2850    333.297     -4.681      0.000   -2215.770    -904.800\n",
      "CONTENT        -31.6596     23.468     -1.349      0.178     -77.813      14.494\n",
      "rain         -1475.9778    360.552     -4.094      0.000   -2185.065    -766.891\n",
      "CONTENT:temp    -0.5439      0.737     -0.738      0.461      -1.994       0.906\n",
      "CONTENT:rain     0.3534      0.612      0.578      0.564      -0.850       1.556\n",
      "CONTENT:humi     0.8145      0.543      1.500      0.135      -0.253       1.883\n",
      "==============================================================================\n",
      "Omnibus:                        8.845   Durbin-Watson:                   1.284\n",
      "Prob(Omnibus):                  0.012   Jarque-Bera (JB):                8.768\n",
      "Skew:                          -0.358   Prob(JB):                       0.0125\n",
      "Kurtosis:                       3.250   Cond. No.                     2.97e+05\n",
      "==============================================================================\n",
      "\n",
      "Warnings:\n",
      "[1] Standard Errors assume that the covariance matrix of the errors is correctly specified.\n",
      "[2] The condition number is large, 2.97e+05. This might indicate that there are\n",
      "strong multicollinearity or other numerical problems.\n"
     ]
    }
   ],
   "source": [
    "print(anova(\"LCLS_30_P\")) # pm10"
   ]
  },
  {
   "cell_type": "code",
   "execution_count": null,
   "metadata": {},
   "outputs": [],
   "source": []
  }
 ],
 "metadata": {
  "hide_input": false,
  "kernelspec": {
   "display_name": "Python 3",
   "language": "python",
   "name": "python3"
  },
  "language_info": {
   "codemirror_mode": {
    "name": "ipython",
    "version": 3
   },
   "file_extension": ".py",
   "mimetype": "text/x-python",
   "name": "python",
   "nbconvert_exporter": "python",
   "pygments_lexer": "ipython3",
   "version": "3.7.7"
  }
 },
 "nbformat": 4,
 "nbformat_minor": 4
}

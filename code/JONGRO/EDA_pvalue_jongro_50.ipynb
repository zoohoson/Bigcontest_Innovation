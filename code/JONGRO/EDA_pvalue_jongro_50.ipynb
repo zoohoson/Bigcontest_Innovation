{
 "cells": [
  {
   "cell_type": "markdown",
   "metadata": {},
   "source": [
    "# Multi Linear Regression을 이용하여 p-value 계산하기\n",
    "## p-value : 귀무가설을 가정하였을 때 표본 이상으로 극단적인 결과를 얻을 확률\n",
    "## 귀무가설 : Multi Linear Regression을 사용하여 회귀모델을 설계할 때 각 feature의 coefficient가 0이 됨\n",
    "- 따라서 p-value는 극단적인 결과를 얻을 확률이 적어야 안정적인 해당 feature가 안정적이라고 할 수 있다."
   ]
  },
  {
   "cell_type": "code",
   "execution_count": 1,
   "metadata": {},
   "outputs": [],
   "source": [
    "import warnings\n",
    "warnings.filterwarnings(\"ignore\")\n",
    "\n",
    "import pandas as pd\n",
    "import numpy as np\n",
    "\n",
    "import matplotlib.pyplot as plt\n",
    "%matplotlib inline\n",
    "\n",
    "import scipy.stats as stats\n",
    "import urllib\n",
    "from statsmodels.formula.api import ols\n",
    "import statsmodels.api as sm\n",
    "from statsmodels.stats.anova import anova_lm\n",
    "from sklearn.linear_model import Lasso, Ridge\n",
    "from sklearn.model_selection import train_test_split"
   ]
  },
  {
   "cell_type": "code",
   "execution_count": 2,
   "metadata": {},
   "outputs": [],
   "source": [
    "# 나이대 별로 약 20개 이상의 feature에 대한 p-value를 확인해야하므로 나이대 별로 서로 다른 파일에 저장\n",
    "df_50 = pd.read_csv('../data/innovation/Merge_data/df_age50_jongro.csv')"
   ]
  },
  {
   "cell_type": "code",
   "execution_count": 4,
   "metadata": {},
   "outputs": [
    {
     "data": {
      "text/plain": [
       "Index(['age50accum', 'age50leisure goods', 'age50leisure busi', 'age50culture',\n",
       "       'age50furniture', 'age50electronic', 'age50kitchen', 'age50fuel',\n",
       "       'age50optic', 'age50Appliances', 'age50circul', 'age50cloth',\n",
       "       'age50textile', 'age50stuff', 'age50book', 'age50affair',\n",
       "       'age50car sell', 'age50car repair', 'age50medical',\n",
       "       'age50public health', 'age50food', 'age50grocery',\n",
       "       'age50repair survice', 'age50', 'LCLS_10_P', 'LCLS_20_P', 'LCLS_30_P',\n",
       "       'LCLS_40_P', 'LCLS_50_P', 'LCLS_60_P', 'LCLS_70_P', 'LCLS_80_P', 'pm10',\n",
       "       'pm25', 'humi', 'temp', 'CONTENT', 'rain'],\n",
       "      dtype='object')"
      ]
     },
     "execution_count": 4,
     "metadata": {},
     "output_type": "execute_result"
    }
   ],
   "source": [
    "df_50.columns"
   ]
  },
  {
   "cell_type": "code",
   "execution_count": 5,
   "metadata": {},
   "outputs": [],
   "source": [
    "df_50.columns = ['age50accum', 'age50leisure_goods', 'age50leisure_busi', 'age50culture',\n",
    "       'age50furniture', 'age50electronic', 'age50kitchen', 'age50fuel',\n",
    "       'age50optic', 'age50Appliances', 'age50circul', 'age50cloth',\n",
    "       'age50textile', 'age50stuff', 'age50book', 'age50affair',\n",
    "       'age50car_sell', 'age50car_repair', 'age50medical',\n",
    "       'age50public_health', 'age50food', 'age50grocery',\n",
    "       'age50repair_survice', 'age50', 'LCLS_10_P', 'LCLS_20_P', 'LCLS_30_P',\n",
    "       'LCLS_40_P', 'LCLS_50_P', 'LCLS_60_P', 'LCLS_70_P', 'LCLS_80_P', 'pm10',\n",
    "       'pm25', 'humi', 'temp', 'CONTENT', 'rain']"
   ]
  },
  {
   "cell_type": "code",
   "execution_count": 6,
   "metadata": {},
   "outputs": [],
   "source": [
    "def anova(col_name):\n",
    "    formula = col_name + ' ~ pm10 + pm25 + temp + humi + CONTENT + rain + CONTENT:temp + CONTENT:rain + CONTENT:humi'\n",
    "    lm = ols(formula, df_50).fit()\n",
    "    return lm.summary()"
   ]
  },
  {
   "cell_type": "code",
   "execution_count": 7,
   "metadata": {},
   "outputs": [
    {
     "name": "stdout",
     "output_type": "stream",
     "text": [
      "                            OLS Regression Results                            \n",
      "==============================================================================\n",
      "Dep. Variable:           age50medical   R-squared:                       0.294\n",
      "Model:                            OLS   Adj. R-squared:                  0.276\n",
      "Method:                 Least Squares   F-statistic:                     16.42\n",
      "Date:                Mon, 09 Sep 2019   Prob (F-statistic):           1.42e-22\n",
      "Time:                        23:12:53   Log-Likelihood:                -3358.2\n",
      "No. Observations:                 365   AIC:                             6736.\n",
      "Df Residuals:                     355   BIC:                             6775.\n",
      "Df Model:                           9                                         \n",
      "Covariance Type:            nonrobust                                         \n",
      "================================================================================\n",
      "                   coef    std err          t      P>|t|      [0.025      0.975]\n",
      "--------------------------------------------------------------------------------\n",
      "Intercept     3961.4861   1227.105      3.228      0.001    1548.176    6374.796\n",
      "pm10            -5.1047     11.461     -0.445      0.656     -27.645      17.436\n",
      "pm25            -4.6070     15.583     -0.296      0.768     -35.254      26.040\n",
      "temp           -59.4624     32.396     -1.835      0.067    -123.175       4.250\n",
      "humi            -1.2219     27.682     -0.044      0.965     -55.663      53.219\n",
      "CONTENT          3.7286      1.949      1.913      0.057      -0.105       7.562\n",
      "rain             0.0094     29.946      0.000      1.000     -58.884      58.903\n",
      "CONTENT:temp     0.1849      0.061      3.019      0.003       0.064       0.305\n",
      "CONTENT:rain    -0.0171      0.051     -0.336      0.737      -0.117       0.083\n",
      "CONTENT:humi     0.0004      0.045      0.010      0.992      -0.088       0.089\n",
      "==============================================================================\n",
      "Omnibus:                       10.776   Durbin-Watson:                   1.794\n",
      "Prob(Omnibus):                  0.005   Jarque-Bera (JB):               11.303\n",
      "Skew:                          -0.429   Prob(JB):                      0.00351\n",
      "Kurtosis:                       2.913   Cond. No.                     2.97e+05\n",
      "==============================================================================\n",
      "\n",
      "Warnings:\n",
      "[1] Standard Errors assume that the covariance matrix of the errors is correctly specified.\n",
      "[2] The condition number is large, 2.97e+05. This might indicate that there are\n",
      "strong multicollinearity or other numerical problems.\n"
     ]
    }
   ],
   "source": [
    "print(anova('age50medical')) # CONTENT"
   ]
  },
  {
   "cell_type": "code",
   "execution_count": 8,
   "metadata": {},
   "outputs": [
    {
     "name": "stdout",
     "output_type": "stream",
     "text": [
      "                            OLS Regression Results                            \n",
      "==============================================================================\n",
      "Dep. Variable:              LCLS_30_P   R-squared:                       0.830\n",
      "Model:                            OLS   Adj. R-squared:                  0.826\n",
      "Method:                 Least Squares   F-statistic:                     192.8\n",
      "Date:                Mon, 09 Sep 2019   Prob (F-statistic):          7.51e-131\n",
      "Time:                        23:13:17   Log-Likelihood:                -4266.4\n",
      "No. Observations:                 365   AIC:                             8553.\n",
      "Df Residuals:                     355   BIC:                             8592.\n",
      "Df Model:                           9                                         \n",
      "Covariance Type:            nonrobust                                         \n",
      "================================================================================\n",
      "                   coef    std err          t      P>|t|      [0.025      0.975]\n",
      "--------------------------------------------------------------------------------\n",
      "Intercept     4.049e+05   1.48e+04     27.404      0.000    3.76e+05    4.34e+05\n",
      "pm10          -431.6831    137.997     -3.128      0.002    -703.078    -160.288\n",
      "pm25           577.6202    187.624      3.079      0.002     208.626     946.614\n",
      "temp          6451.6779    390.057     16.540      0.000    5684.565    7218.791\n",
      "humi         -1560.2850    333.297     -4.681      0.000   -2215.770    -904.800\n",
      "CONTENT        -31.6596     23.468     -1.349      0.178     -77.813      14.494\n",
      "rain         -1475.9778    360.552     -4.094      0.000   -2185.065    -766.891\n",
      "CONTENT:temp    -0.5439      0.737     -0.738      0.461      -1.994       0.906\n",
      "CONTENT:rain     0.3534      0.612      0.578      0.564      -0.850       1.556\n",
      "CONTENT:humi     0.8145      0.543      1.500      0.135      -0.253       1.883\n",
      "==============================================================================\n",
      "Omnibus:                        8.845   Durbin-Watson:                   1.284\n",
      "Prob(Omnibus):                  0.012   Jarque-Bera (JB):                8.768\n",
      "Skew:                          -0.358   Prob(JB):                       0.0125\n",
      "Kurtosis:                       3.250   Cond. No.                     2.97e+05\n",
      "==============================================================================\n",
      "\n",
      "Warnings:\n",
      "[1] Standard Errors assume that the covariance matrix of the errors is correctly specified.\n",
      "[2] The condition number is large, 2.97e+05. This might indicate that there are\n",
      "strong multicollinearity or other numerical problems.\n"
     ]
    }
   ],
   "source": [
    "print(anova('LCLS_30_P')) # pm10"
   ]
  },
  {
   "cell_type": "code",
   "execution_count": 9,
   "metadata": {},
   "outputs": [
    {
     "name": "stdout",
     "output_type": "stream",
     "text": [
      "                            OLS Regression Results                            \n",
      "==============================================================================\n",
      "Dep. Variable:              age50food   R-squared:                       0.185\n",
      "Model:                            OLS   Adj. R-squared:                  0.164\n",
      "Method:                 Least Squares   F-statistic:                     8.926\n",
      "Date:                Mon, 09 Sep 2019   Prob (F-statistic):           3.72e-12\n",
      "Time:                        23:13:24   Log-Likelihood:                -3425.1\n",
      "No. Observations:                 365   AIC:                             6870.\n",
      "Df Residuals:                     355   BIC:                             6909.\n",
      "Df Model:                           9                                         \n",
      "Covariance Type:            nonrobust                                         \n",
      "================================================================================\n",
      "                   coef    std err          t      P>|t|      [0.025      0.975]\n",
      "--------------------------------------------------------------------------------\n",
      "Intercept     1.925e+04   1473.943     13.058      0.000    1.63e+04    2.21e+04\n",
      "pm10            -6.2086     13.767     -0.451      0.652     -33.283      20.866\n",
      "pm25            14.7999     18.718      0.791      0.430     -22.012      51.611\n",
      "temp           -61.7624     38.913     -1.587      0.113    -138.291      14.766\n",
      "humi            11.1036     33.250      0.334      0.739     -54.289      76.496\n",
      "CONTENT          4.7169      2.341      2.015      0.045       0.112       9.321\n",
      "rain           -67.7176     35.969     -1.883      0.061    -138.457       3.022\n",
      "CONTENT:temp     0.1572      0.074      2.137      0.033       0.013       0.302\n",
      "CONTENT:rain     0.0495      0.061      0.810      0.418      -0.071       0.169\n",
      "CONTENT:humi    -0.0549      0.054     -1.014      0.311      -0.161       0.052\n",
      "==============================================================================\n",
      "Omnibus:                       57.772   Durbin-Watson:                   1.276\n",
      "Prob(Omnibus):                  0.000   Jarque-Bera (JB):               87.964\n",
      "Skew:                          -0.986   Prob(JB):                     7.92e-20\n",
      "Kurtosis:                       4.376   Cond. No.                     2.97e+05\n",
      "==============================================================================\n",
      "\n",
      "Warnings:\n",
      "[1] Standard Errors assume that the covariance matrix of the errors is correctly specified.\n",
      "[2] The condition number is large, 2.97e+05. This might indicate that there are\n",
      "strong multicollinearity or other numerical problems.\n"
     ]
    }
   ],
   "source": [
    "print(anova('age50food')) # pm10"
   ]
  },
  {
   "cell_type": "code",
   "execution_count": 10,
   "metadata": {},
   "outputs": [
    {
     "name": "stdout",
     "output_type": "stream",
     "text": [
      "                            OLS Regression Results                            \n",
      "==============================================================================\n",
      "Dep. Variable:      age50leisure_busi   R-squared:                       0.322\n",
      "Model:                            OLS   Adj. R-squared:                  0.305\n",
      "Method:                 Least Squares   F-statistic:                     18.74\n",
      "Date:                Mon, 09 Sep 2019   Prob (F-statistic):           1.45e-25\n",
      "Time:                        23:13:40   Log-Likelihood:                -2074.4\n",
      "No. Observations:                 365   AIC:                             4169.\n",
      "Df Residuals:                     355   BIC:                             4208.\n",
      "Df Model:                           9                                         \n",
      "Covariance Type:            nonrobust                                         \n",
      "================================================================================\n",
      "                   coef    std err          t      P>|t|      [0.025      0.975]\n",
      "--------------------------------------------------------------------------------\n",
      "Intercept      422.4583     36.421     11.599      0.000     350.831     494.086\n",
      "pm10            -0.2800      0.340     -0.823      0.411      -0.949       0.389\n",
      "pm25             1.3539      0.463      2.927      0.004       0.444       2.263\n",
      "temp            -1.7822      0.962     -1.854      0.065      -3.673       0.109\n",
      "humi             0.4848      0.822      0.590      0.556      -1.131       2.101\n",
      "CONTENT          0.0449      0.058      0.776      0.438      -0.069       0.159\n",
      "rain            -0.4552      0.889     -0.512      0.609      -2.203       1.293\n",
      "CONTENT:temp    -0.0038      0.002     -2.075      0.039      -0.007      -0.000\n",
      "CONTENT:rain     0.0003      0.002      0.174      0.862      -0.003       0.003\n",
      "CONTENT:humi    -0.0007      0.001     -0.548      0.584      -0.003       0.002\n",
      "==============================================================================\n",
      "Omnibus:                        1.544   Durbin-Watson:                   1.497\n",
      "Prob(Omnibus):                  0.462   Jarque-Bera (JB):                1.292\n",
      "Skew:                          -0.101   Prob(JB):                        0.524\n",
      "Kurtosis:                       3.211   Cond. No.                     2.97e+05\n",
      "==============================================================================\n",
      "\n",
      "Warnings:\n",
      "[1] Standard Errors assume that the covariance matrix of the errors is correctly specified.\n",
      "[2] The condition number is large, 2.97e+05. This might indicate that there are\n",
      "strong multicollinearity or other numerical problems.\n"
     ]
    }
   ],
   "source": [
    "print(anova('age50leisure_busi')) # pm10, pm25"
   ]
  },
  {
   "cell_type": "code",
   "execution_count": null,
   "metadata": {},
   "outputs": [],
   "source": []
  }
 ],
 "metadata": {
  "hide_input": false,
  "kernelspec": {
   "display_name": "Python 3",
   "language": "python",
   "name": "python3"
  },
  "language_info": {
   "codemirror_mode": {
    "name": "ipython",
    "version": 3
   },
   "file_extension": ".py",
   "mimetype": "text/x-python",
   "name": "python",
   "nbconvert_exporter": "python",
   "pygments_lexer": "ipython3",
   "version": "3.7.7"
  }
 },
 "nbformat": 4,
 "nbformat_minor": 4
}

{
 "cells": [
  {
   "cell_type": "markdown",
   "metadata": {},
   "source": [
    "# Decision Tree를 사용한 feature importance 뽑기"
   ]
  },
  {
   "cell_type": "code",
   "execution_count": 29,
   "metadata": {},
   "outputs": [],
   "source": [
    "import pandas as pd\n",
    "import numpy as np\n",
    "import matplotlib.pyplot as plt\n",
    "\n",
    "from sklearn import tree\n",
    "from sklearn.tree.export import export_graphviz\n",
    "from sklearn.ensemble import RandomForestRegressor\n",
    "from sklearn.metrics import mean_squared_error"
   ]
  },
  {
   "cell_type": "code",
   "execution_count": 30,
   "metadata": {},
   "outputs": [],
   "source": [
    "total_20 = pd.read_csv('/root/Big_Contest/EDA/Data/Age/df_age20_jongro.csv')\n",
    "total_30 = pd.read_csv('/root/Big_Contest/EDA/Data/Age/df_age30_jongro.csv')\n",
    "total_40 = pd.read_csv('/root/Big_Contest/EDA/Data/Age/df_age40_jongro.csv')\n",
    "total_50 = pd.read_csv('/root/Big_Contest/EDA/Data/Age/df_age50_jongro.csv')"
   ]
  },
  {
   "cell_type": "code",
   "execution_count": 31,
   "metadata": {},
   "outputs": [
    {
     "data": {
      "text/html": [
       "<div>\n",
       "<style scoped>\n",
       "    .dataframe tbody tr th:only-of-type {\n",
       "        vertical-align: middle;\n",
       "    }\n",
       "\n",
       "    .dataframe tbody tr th {\n",
       "        vertical-align: top;\n",
       "    }\n",
       "\n",
       "    .dataframe thead th {\n",
       "        text-align: right;\n",
       "    }\n",
       "</style>\n",
       "<table border=\"1\" class=\"dataframe\">\n",
       "  <thead>\n",
       "    <tr style=\"text-align: right;\">\n",
       "      <th></th>\n",
       "      <th>age20accum</th>\n",
       "      <th>age20leisure goods</th>\n",
       "      <th>age20leisure busi</th>\n",
       "      <th>age20culture</th>\n",
       "      <th>age20furniture</th>\n",
       "      <th>age20electronic</th>\n",
       "      <th>age20kitchen</th>\n",
       "      <th>age20fuel</th>\n",
       "      <th>age20optic</th>\n",
       "      <th>age20Appliances</th>\n",
       "      <th>...</th>\n",
       "      <th>LCLS_50_P</th>\n",
       "      <th>LCLS_60_P</th>\n",
       "      <th>LCLS_70_P</th>\n",
       "      <th>LCLS_80_P</th>\n",
       "      <th>pm10</th>\n",
       "      <th>pm25</th>\n",
       "      <th>humi</th>\n",
       "      <th>temp</th>\n",
       "      <th>CONTENT</th>\n",
       "      <th>rain</th>\n",
       "    </tr>\n",
       "  </thead>\n",
       "  <tbody>\n",
       "    <tr>\n",
       "      <th>0</th>\n",
       "      <td>685.0</td>\n",
       "      <td>318.0</td>\n",
       "      <td>3730.0</td>\n",
       "      <td>1977.0</td>\n",
       "      <td>0.0</td>\n",
       "      <td>0.0</td>\n",
       "      <td>0.0</td>\n",
       "      <td>59.0</td>\n",
       "      <td>99.0</td>\n",
       "      <td>17.0</td>\n",
       "      <td>...</td>\n",
       "      <td>68124</td>\n",
       "      <td>10029</td>\n",
       "      <td>15065</td>\n",
       "      <td>4995</td>\n",
       "      <td>84.070139</td>\n",
       "      <td>43.877083</td>\n",
       "      <td>61.370139</td>\n",
       "      <td>16.692569</td>\n",
       "      <td>515</td>\n",
       "      <td>0.0</td>\n",
       "    </tr>\n",
       "    <tr>\n",
       "      <th>1</th>\n",
       "      <td>212.0</td>\n",
       "      <td>188.0</td>\n",
       "      <td>2626.0</td>\n",
       "      <td>596.0</td>\n",
       "      <td>0.0</td>\n",
       "      <td>0.0</td>\n",
       "      <td>0.0</td>\n",
       "      <td>55.0</td>\n",
       "      <td>91.0</td>\n",
       "      <td>0.0</td>\n",
       "      <td>...</td>\n",
       "      <td>66428</td>\n",
       "      <td>9316</td>\n",
       "      <td>15306</td>\n",
       "      <td>3638</td>\n",
       "      <td>72.274306</td>\n",
       "      <td>30.051389</td>\n",
       "      <td>58.825694</td>\n",
       "      <td>19.561181</td>\n",
       "      <td>888</td>\n",
       "      <td>0.0</td>\n",
       "    </tr>\n",
       "    <tr>\n",
       "      <th>2</th>\n",
       "      <td>257.0</td>\n",
       "      <td>192.0</td>\n",
       "      <td>2831.0</td>\n",
       "      <td>782.0</td>\n",
       "      <td>12.0</td>\n",
       "      <td>0.0</td>\n",
       "      <td>0.0</td>\n",
       "      <td>64.0</td>\n",
       "      <td>113.0</td>\n",
       "      <td>51.0</td>\n",
       "      <td>...</td>\n",
       "      <td>66698</td>\n",
       "      <td>7793</td>\n",
       "      <td>13618</td>\n",
       "      <td>2648</td>\n",
       "      <td>66.162500</td>\n",
       "      <td>19.478472</td>\n",
       "      <td>63.531944</td>\n",
       "      <td>19.282292</td>\n",
       "      <td>856</td>\n",
       "      <td>0.1</td>\n",
       "    </tr>\n",
       "    <tr>\n",
       "      <th>3</th>\n",
       "      <td>205.0</td>\n",
       "      <td>202.0</td>\n",
       "      <td>2716.0</td>\n",
       "      <td>772.0</td>\n",
       "      <td>8.0</td>\n",
       "      <td>0.0</td>\n",
       "      <td>17.0</td>\n",
       "      <td>0.0</td>\n",
       "      <td>106.0</td>\n",
       "      <td>56.0</td>\n",
       "      <td>...</td>\n",
       "      <td>83667</td>\n",
       "      <td>9649</td>\n",
       "      <td>19985</td>\n",
       "      <td>3078</td>\n",
       "      <td>18.021097</td>\n",
       "      <td>10.726442</td>\n",
       "      <td>62.014583</td>\n",
       "      <td>14.202361</td>\n",
       "      <td>893</td>\n",
       "      <td>18.5</td>\n",
       "    </tr>\n",
       "    <tr>\n",
       "      <th>4</th>\n",
       "      <td>273.0</td>\n",
       "      <td>184.0</td>\n",
       "      <td>2898.0</td>\n",
       "      <td>1001.0</td>\n",
       "      <td>0.0</td>\n",
       "      <td>0.0</td>\n",
       "      <td>21.0</td>\n",
       "      <td>47.0</td>\n",
       "      <td>60.0</td>\n",
       "      <td>21.0</td>\n",
       "      <td>...</td>\n",
       "      <td>108727</td>\n",
       "      <td>9057</td>\n",
       "      <td>13849</td>\n",
       "      <td>3796</td>\n",
       "      <td>11.831711</td>\n",
       "      <td>8.579972</td>\n",
       "      <td>79.125000</td>\n",
       "      <td>8.963056</td>\n",
       "      <td>864</td>\n",
       "      <td>10.5</td>\n",
       "    </tr>\n",
       "  </tbody>\n",
       "</table>\n",
       "<p>5 rows × 38 columns</p>\n",
       "</div>"
      ],
      "text/plain": [
       "   age20accum  age20leisure goods  age20leisure busi  age20culture  \\\n",
       "0       685.0               318.0             3730.0        1977.0   \n",
       "1       212.0               188.0             2626.0         596.0   \n",
       "2       257.0               192.0             2831.0         782.0   \n",
       "3       205.0               202.0             2716.0         772.0   \n",
       "4       273.0               184.0             2898.0        1001.0   \n",
       "\n",
       "   age20furniture  age20electronic  age20kitchen  age20fuel  age20optic  \\\n",
       "0             0.0              0.0           0.0       59.0        99.0   \n",
       "1             0.0              0.0           0.0       55.0        91.0   \n",
       "2            12.0              0.0           0.0       64.0       113.0   \n",
       "3             8.0              0.0          17.0        0.0       106.0   \n",
       "4             0.0              0.0          21.0       47.0        60.0   \n",
       "\n",
       "   age20Appliances  ...  LCLS_50_P  LCLS_60_P  LCLS_70_P  LCLS_80_P  \\\n",
       "0             17.0  ...      68124      10029      15065       4995   \n",
       "1              0.0  ...      66428       9316      15306       3638   \n",
       "2             51.0  ...      66698       7793      13618       2648   \n",
       "3             56.0  ...      83667       9649      19985       3078   \n",
       "4             21.0  ...     108727       9057      13849       3796   \n",
       "\n",
       "        pm10       pm25       humi       temp  CONTENT  rain  \n",
       "0  84.070139  43.877083  61.370139  16.692569      515   0.0  \n",
       "1  72.274306  30.051389  58.825694  19.561181      888   0.0  \n",
       "2  66.162500  19.478472  63.531944  19.282292      856   0.1  \n",
       "3  18.021097  10.726442  62.014583  14.202361      893  18.5  \n",
       "4  11.831711   8.579972  79.125000   8.963056      864  10.5  \n",
       "\n",
       "[5 rows x 38 columns]"
      ]
     },
     "execution_count": 31,
     "metadata": {},
     "output_type": "execute_result"
    }
   ],
   "source": [
    "total_20.head()"
   ]
  },
  {
   "cell_type": "code",
   "execution_count": 32,
   "metadata": {},
   "outputs": [],
   "source": [
    "dateIdx = pd.date_range('2018-04-01', '2019-03-31')\n",
    "\n",
    "total_20.index = dateIdx\n",
    "total_30.index = dateIdx\n",
    "total_40.index = dateIdx\n",
    "total_50.index = dateIdx"
   ]
  },
  {
   "cell_type": "code",
   "execution_count": 33,
   "metadata": {},
   "outputs": [],
   "source": [
    "# 이제부터는 각 feature가 CONTENT, pm10, pm25, humi, rain, temp에 영향을 얼마나 받는 지 확인\n",
    "\n",
    "## 각 연령대 별 feature들을 list로 저장한다\n",
    "\n",
    "columns_20 = total_20.columns.tolist()\n",
    "columns_30 = total_30.columns.tolist()\n",
    "columns_40 = total_40.columns.tolist()\n",
    "columns_50 = total_50.columns.tolist()"
   ]
  },
  {
   "cell_type": "code",
   "execution_count": 34,
   "metadata": {},
   "outputs": [],
   "source": [
    "# 20대\n",
    "\n",
    "target20 = columns_20[:-6]\n",
    "columns_20 = [c for c in total_20.columns.tolist() if c not in columns_20[:-6]]\n",
    "\n",
    "train_20 = total_20.sample(frac=0.8, random_state=1234)\n",
    "test_20 = total_20.loc[~total_20.index.isin(train_20.index)]\n",
    "\n",
    "models_20 = []\n",
    "model20_fit = []\n",
    "feat_importances_20 = []\n",
    "for i in range(len(target20)) :\n",
    "    models_20.append(RandomForestRegressor(n_estimators=100, min_samples_leaf=8, random_state=1))\n",
    "\n",
    "for var, model in zip(target20, models_20) :\n",
    "    model20_fit.append(model.fit(train_20[columns_20], train_20[var]))\n",
    "\n",
    "for model in model20_fit :\n",
    "    feat_importances_20.append(pd.Series(model.feature_importances_, index=total_20.T.index[-6:]))\n",
    "\n",
    "feat_importances_20_df = pd.DataFrame(feat_importances_20, \n",
    "                                      index = target20,\n",
    "                                      columns = feat_importances_20[0].index)"
   ]
  },
  {
   "cell_type": "code",
   "execution_count": 35,
   "metadata": {},
   "outputs": [],
   "source": [
    "# 30대\n",
    "\n",
    "target30 = columns_30[:-6]\n",
    "columns_30 = [c for c in columns_30 if c not in target30]\n",
    "\n",
    "train_30 = total_30.sample(frac=0.8, random_state=1234)\n",
    "test_30 = total_30.loc[~total_30.index.isin(train_30.index)]\n",
    "\n",
    "models_30 = []\n",
    "model30_fit = []\n",
    "feat_importances_30 = []\n",
    "for i in range(len(target30)) :\n",
    "    models_30.append(RandomForestRegressor(n_estimators=100, min_samples_leaf=8, random_state=1))\n",
    "\n",
    "for var, model in zip(target30, models_30) :\n",
    "    model30_fit.append(model.fit(train_30[columns_30], train_30[var]))\n",
    "\n",
    "for model in model30_fit :\n",
    "    feat_importances_30.append(pd.Series(model.feature_importances_, index=total_30.T.index[-6:]))\n",
    "\n",
    "feat_importances_30_df = pd.DataFrame(feat_importances_30, \n",
    "                                      index = target30,\n",
    "                                      columns = feat_importances_30[0].index)"
   ]
  },
  {
   "cell_type": "code",
   "execution_count": 36,
   "metadata": {},
   "outputs": [],
   "source": [
    "# 40대\n",
    "\n",
    "target40 = columns_40[:-6]\n",
    "columns_40 = [c for c in columns_40 if c not in target40]\n",
    "\n",
    "train_40 = total_40.sample(frac=0.8, random_state=1234)\n",
    "test_40 = total_40.loc[~total_40.index.isin(train_40.index)]\n",
    "\n",
    "models_40 = []\n",
    "model40_fit = []\n",
    "feat_importances_40 = []\n",
    "for i in range(len(target40)) :\n",
    "    models_40.append(RandomForestRegressor(n_estimators=100, min_samples_leaf=8, random_state=1))\n",
    "\n",
    "for var, model in zip(target40, models_40) :\n",
    "    model40_fit.append(model.fit(train_40[columns_40], train_40[var]))\n",
    "\n",
    "for model in model40_fit :\n",
    "    feat_importances_40.append(pd.Series(model.feature_importances_, index=total_40.T.index[-6:]))\n",
    "\n",
    "feat_importances_40_df = pd.DataFrame(feat_importances_40, \n",
    "                                      index = target40,\n",
    "                                      columns = feat_importances_40[0].index)"
   ]
  },
  {
   "cell_type": "code",
   "execution_count": 37,
   "metadata": {},
   "outputs": [],
   "source": [
    "# 50대\n",
    "\n",
    "target50 = columns_50[:-6]\n",
    "columns_50 = [c for c in columns_50 if c not in target50]\n",
    "\n",
    "train_50 = total_50.sample(frac=0.8, random_state=1234)\n",
    "test_50 = total_50.loc[~total_50.index.isin(train_50.index)]\n",
    "\n",
    "models_50 = []\n",
    "model50_fit = []\n",
    "feat_importances_50 = []\n",
    "for i in range(len(target50)) :\n",
    "    models_50.append(RandomForestRegressor(n_estimators=100, min_samples_leaf=8, random_state=1))\n",
    "\n",
    "for var, model in zip(target50, models_50) :\n",
    "    model50_fit.append(model.fit(train_50[columns_50], train_50[var]))\n",
    "\n",
    "for model in model50_fit :\n",
    "    feat_importances_50.append(pd.Series(model.feature_importances_, index=total_50.T.index[-6:]))\n",
    "\n",
    "feat_importances_50_df = pd.DataFrame(feat_importances_50, \n",
    "                                      index = target50,\n",
    "                                      columns = feat_importances_50[0].index)"
   ]
  },
  {
   "cell_type": "code",
   "execution_count": 38,
   "metadata": {},
   "outputs": [],
   "source": [
    "feat_importances_20_df.drop('age20', inplace = True)\n",
    "feat_importances_30_df.drop('age30', inplace = True)\n",
    "feat_importances_40_df.drop('age40', inplace = True)\n",
    "feat_importances_50_df.drop('age50', inplace = True)"
   ]
  },
  {
   "cell_type": "code",
   "execution_count": 39,
   "metadata": {},
   "outputs": [
    {
     "data": {
      "image/png": "[encoded data removed]",
      "text/plain": [
       "<Figure size 720x360 with 5 Axes>"
      ]
     },
     "metadata": {
      "needs_background": "light"
     },
     "output_type": "display_data"
    }
   ],
   "source": [
    "fig4, axes = plt.subplots(1, 5)\n",
    "\n",
    "feat_importances_20_df.CONTENT.sort_values(ascending = False)[:5].plot(kind = 'bar', ax = axes[0], figsize = (10, 5), title = 'news', ylim = [0, 1], color = 'grey')\n",
    "feat_importances_20_df.pm10.sort_values(ascending = False)[:5].plot(kind = 'bar', ax = axes[1], figsize = (10, 5), title = 'pm10', ylim = [0, 1], color = 'grey')\n",
    "feat_importances_20_df.temp.sort_values(ascending = False)[:5].plot(kind = 'bar', ax = axes[2], figsize = (10, 5), title = 'temp', ylim = [0, 1], color = 'grey')\n",
    "feat_importances_20_df.humi.sort_values(ascending = False)[:5].plot(kind = 'bar', ax = axes[3], figsize = (10, 5), title = 'humi', ylim = [0, 1], color = 'grey')\n",
    "feat_importances_20_df.rain.sort_values(ascending = False)[:5].plot(kind = 'bar', ax = axes[4], figsize = (10, 5), title = 'rain', ylim = [0, 1], color = 'grey')\n",
    "\n",
    "plt.subplots_adjust(wspace = 0.5)\n",
    "plt.savefig(\"/root/Big_Contest/EDA/JONGRO/img/feature_importance_20_jongro.png\", dpi = 300)"
   ]
  },
  {
   "cell_type": "code",
   "execution_count": 40,
   "metadata": {},
   "outputs": [
    {
     "data": {
      "image/png": "[encoded data removed]",
      "text/plain": [
       "<Figure size 720x360 with 5 Axes>"
      ]
     },
     "metadata": {
      "needs_background": "light"
     },
     "output_type": "display_data"
    }
   ],
   "source": [
    "fig5, axes = plt.subplots(1, 5)\n",
    "\n",
    "feat_importances_30_df.CONTENT.sort_values(ascending = False)[:5].plot(kind = 'bar', ax = axes[0], figsize = (10, 5), title = 'news', ylim = [0, 1], color = 'grey')\n",
    "feat_importances_30_df.pm10.sort_values(ascending = False)[:5].plot(kind = 'bar', ax = axes[1], figsize = (10, 5), title = 'pm10', ylim = [0, 1], color = 'grey')\n",
    "feat_importances_30_df.temp.sort_values(ascending = False)[:5].plot(kind = 'bar', ax = axes[2], figsize = (10, 5), title = 'temp', ylim = [0, 1], color = 'grey')\n",
    "feat_importances_30_df.humi.sort_values(ascending = False)[:5].plot(kind = 'bar', ax = axes[3], figsize = (10, 5), title = 'humi', ylim = [0, 1], color = 'grey')\n",
    "feat_importances_30_df.rain.sort_values(ascending = False)[:5].plot(kind = 'bar', ax = axes[4], figsize = (10, 5), title = 'rain', ylim = [0, 1], color = 'grey')\n",
    "\n",
    "plt.subplots_adjust(wspace = 0.5)\n",
    "plt.savefig(\"/root/Big_Contest/EDA/JONGRO/img/feature_importance_30_jongro.png\", dpi = 300)"
   ]
  },
  {
   "cell_type": "code",
   "execution_count": 41,
   "metadata": {},
   "outputs": [
    {
     "data": {
      "image/png": "[encoded data removed]",
      "text/plain": [
       "<Figure size 720x360 with 5 Axes>"
      ]
     },
     "metadata": {
      "needs_background": "light"
     },
     "output_type": "display_data"
    }
   ],
   "source": [
    "fig6, axes = plt.subplots(1, 5)\n",
    "\n",
    "feat_importances_40_df.CONTENT.sort_values(ascending = False)[:5].plot(kind = 'bar', ax = axes[0], figsize = (10, 5), title = 'news', ylim = [0, 1], color = 'grey')\n",
    "feat_importances_40_df.pm10.sort_values(ascending = False)[:5].plot(kind = 'bar', ax = axes[1], figsize = (10, 5), title = 'pm10', ylim = [0, 1], color = 'grey')\n",
    "feat_importances_40_df.temp.sort_values(ascending = False)[:5].plot(kind = 'bar', ax = axes[2], figsize = (10, 5), title = 'temp', ylim = [0, 1], color = 'grey')\n",
    "feat_importances_40_df.humi.sort_values(ascending = False)[:5].plot(kind = 'bar', ax = axes[3], figsize = (10, 5), title = 'humi', ylim = [0, 1], color = 'grey')\n",
    "feat_importances_40_df.rain.sort_values(ascending = False)[:5].plot(kind = 'bar', ax = axes[4], figsize = (10, 5), title = 'rain', ylim = [0, 1], color = 'grey')\n",
    "\n",
    "plt.subplots_adjust(wspace = 0.5)\n",
    "plt.savefig(\"/root/Big_Contest/EDA/JONGRO/img/feature_importance_40_jongro.png\", dpi = 300)"
   ]
  },
  {
   "cell_type": "code",
   "execution_count": 42,
   "metadata": {},
   "outputs": [
    {
     "data": {
      "image/png": "[encoded data removed]",
      "text/plain": [
       "<Figure size 720x360 with 5 Axes>"
      ]
     },
     "metadata": {
      "needs_background": "light"
     },
     "output_type": "display_data"
    }
   ],
   "source": [
    "fig7, axes = plt.subplots(1, 5)\n",
    "\n",
    "feat_importances_50_df.CONTENT.sort_values(ascending = False)[:5].plot(kind = 'bar', ax = axes[0], figsize = (10, 5), title = 'news', ylim = [0, 1], color = 'grey')\n",
    "feat_importances_50_df.pm10.sort_values(ascending = False)[:5].plot(kind = 'bar', ax = axes[1], figsize = (10, 5), title = 'pm10', ylim = [0, 1], color = 'grey')\n",
    "feat_importances_50_df.temp.sort_values(ascending = False)[:5].plot(kind = 'bar', ax = axes[2], figsize = (10, 5), title = 'temp', ylim = [0, 1], color = 'grey')\n",
    "feat_importances_50_df.humi.sort_values(ascending = False)[:5].plot(kind = 'bar', ax = axes[3], figsize = (10, 5), title = 'humi', ylim = [0, 1], color = 'grey')\n",
    "feat_importances_50_df.rain.sort_values(ascending = False)[:5].plot(kind = 'bar', ax = axes[4], figsize = (10, 5), title = 'rain', ylim = [0, 1], color = 'grey')\n",
    "\n",
    "plt.subplots_adjust(wspace = 0.5)\n",
    "plt.savefig(\"/root/Big_Contest/EDA/JONGRO/img/feature_importance_50_jongro.png\", dpi = 300)"
   ]
  },
  {
   "cell_type": "code",
   "execution_count": 43,
   "metadata": {},
   "outputs": [],
   "source": [
    "feat_importances_20_CONTENT = list(feat_importances_20_df.iloc[np.where(feat_importances_20_df.CONTENT >= 0.4)[0]].index)\n",
    "feat_importances_20_temp = list(feat_importances_20_df.iloc[np.where(feat_importances_20_df.temp >= 0.4)[0]].index)\n",
    "feat_importances_20_rain = list(feat_importances_20_df.iloc[np.where(feat_importances_20_df.rain >= 0.4)[0]].index)\n",
    "\n",
    "feat_importances_30_CONTENT = list(feat_importances_30_df.iloc[np.where(feat_importances_30_df.CONTENT >= 0.4)[0]].index)\n",
    "feat_importances_30_temp = list(feat_importances_30_df.iloc[np.where(feat_importances_30_df.temp >= 0.4)[0]].index)\n",
    "feat_importances_30_rain = list(feat_importances_30_df.iloc[np.where(feat_importances_30_df.rain >= 0.4)[0]].index)\n",
    "\n",
    "feat_importances_40_CONTENT = list(feat_importances_40_df.iloc[np.where(feat_importances_40_df.CONTENT >= 0.4)[0]].index)\n",
    "feat_importances_40_temp = list(feat_importances_40_df.iloc[np.where(feat_importances_40_df.temp >= 0.4)[0]].index)\n",
    "feat_importances_40_rain = list(feat_importances_40_df.iloc[np.where(feat_importances_40_df.rain >= 0.4)[0]].index)\n",
    "\n",
    "feat_importances_50_CONTENT = list(feat_importances_50_df.iloc[np.where(feat_importances_50_df.CONTENT >= 0.4)[0]].index)\n",
    "feat_importances_50_temp = list(feat_importances_50_df.iloc[np.where(feat_importances_50_df.temp >= 0.4)[0]].index)\n",
    "feat_importances_50_rain = list(feat_importances_50_df.iloc[np.where(feat_importances_50_df.rain >= 0.4)[0]].index)"
   ]
  },
  {
   "cell_type": "code",
   "execution_count": 44,
   "metadata": {},
   "outputs": [
    {
     "name": "stdout",
     "output_type": "stream",
     "text": [
      "20대\n",
      "CONTENT :  ['age20accum', 'age20leisure goods', 'age20leisure busi', 'age20culture', 'age20cloth', 'age20stuff', 'age20affair', 'age20medical', 'age20repair survice', 'LCLS_60_P']\n",
      "temp :  ['age20circul', 'age20car repair', 'age20grocery', 'LCLS_30_P']\n",
      "rain :  ['LCLS_50_P']\n",
      "\n",
      "30대\n",
      "CONTENT :  ['age30accum', 'age30leisure goods', 'age30culture', 'age30optic', 'age30Appliances', 'age30circul', 'age30cloth', 'age30stuff', 'age30book', 'age30medical', 'age30food', 'age30repair survice', 'LCLS_60_P']\n",
      "temp :  ['age30leisure busi', 'LCLS_30_P']\n",
      "rain :  ['LCLS_50_P']\n",
      "\n",
      "40대\n",
      "CONTENT :  ['age40culture', 'age40optic', 'age40circul', 'age40stuff', 'age40book', 'age40car repair', 'age40medical', 'age40food', 'age40repair survice', 'LCLS_60_P']\n",
      "temp :  ['age40leisure busi', 'age40kitchen', 'LCLS_30_P']\n",
      "rain :  ['LCLS_50_P']\n",
      "\n",
      "50대\n",
      "CONTENT :  ['age50culture', 'age50optic', 'age50Appliances', 'age50circul', 'age50affair', 'age50medical', 'age50food', 'age50repair survice', 'LCLS_60_P']\n",
      "temp :  ['age50accum', 'age50leisure busi', 'age50furniture', 'age50book', 'LCLS_30_P']\n",
      "rain :  ['LCLS_50_P']\n"
     ]
    }
   ],
   "source": [
    "print(\"20대\\nCONTENT : \", feat_importances_20_CONTENT)\n",
    "print(\"temp : \", feat_importances_20_temp)\n",
    "print(\"rain : \", feat_importances_20_rain)\n",
    "\n",
    "print(\"\\n30대\\nCONTENT : \", feat_importances_30_CONTENT)\n",
    "print(\"temp : \", feat_importances_30_temp)\n",
    "print(\"rain : \", feat_importances_30_rain)\n",
    "\n",
    "print(\"\\n40대\\nCONTENT : \", feat_importances_40_CONTENT)\n",
    "print(\"temp : \", feat_importances_40_temp)\n",
    "print(\"rain : \", feat_importances_40_rain)\n",
    "\n",
    "print(\"\\n50대\\nCONTENT : \", feat_importances_50_CONTENT)\n",
    "print(\"temp : \", feat_importances_50_temp)\n",
    "print(\"rain : \", feat_importances_50_rain)"
   ]
  },
  {
   "cell_type": "markdown",
   "metadata": {},
   "source": [
    "# 정리\n",
    "## 20대 feature importance\n",
    "1. CONTENT : 숙박(신한) > 의료(신한) > 레져 용품(신한) > 문화취미(신한) > 의복(신한) \n",
    "2. pm10 : 간식거리(GS) > 음료식품(신한) > 서적(신한) > 음식(GS) > 요식업소(신한)\n",
    "3. pm25 : 취미(GS) > 간식거리(GS) > 보건위생(신한) > 홈&리빙(GS) > 레져 업소(신한)\n",
    "\n",
    "## 30대 feature importance\n",
    "1. CONTENT : 의료(신한) > 유통업(신한) > 문화취미(신한) > 숙박(신한) > 서적(신한) \n",
    "2. pm10 : 음료식품(신한) > 레져 업소(신한) > 간식거리(GS) > 보건위생(신한) > 음식(GS)\n",
    "3. pm25 : 보건위생(신한) > 취미(GS) > 간식거리(GS) > 홈&리빙(GS) > 레져 업소(신한)\n",
    "\n",
    "## 40대 feature importance\n",
    "1. CONTENT : 의료(신한) > 유통업(신한) > 40대 인구유동(SKT) > 요식업소(신한) > 문화취미(신한) \n",
    "2. pm10 : 연료(신한) > 음료식품(신한) > 간식거리(GS) > 보건위생(신한) > 음식(신한)\n",
    "3. pm25 : 레져 용품(신한) > 보건위생(신한) > 취미(GS) > 간식거리(GS) > 홈&리빙(GS)\n",
    "\n",
    "## 50대 feature importance\n",
    "1. CONTENT : 의료(신한) > 유통업(신한) > 요식업소(신한) > 50대 인구유동(SKT) > 문화취미(신한) \n",
    "2. pm10 : 음료식품(신한) > 간식거리(GS) > 보건위생(신한) > 연료(신한) > 음식(GS)\n",
    "3. pm25 : 취미(GS) > 음료식품(신한) > 간식거리(GS) > 보건위생(신한) > 홈&리빙(GS)"
   ]
  },
  {
   "cell_type": "code",
   "execution_count": null,
   "metadata": {},
   "outputs": [],
   "source": []
  }
 ],
 "metadata": {
  "hide_input": false,
  "kernelspec": {
   "display_name": "Python 3",
   "language": "python",
   "name": "python3"
  },
  "language_info": {
   "codemirror_mode": {
    "name": "ipython",
    "version": 3
   },
   "file_extension": ".py",
   "mimetype": "text/x-python",
   "name": "python",
   "nbconvert_exporter": "python",
   "pygments_lexer": "ipython3",
   "version": "3.7.7"
  }
 },
 "nbformat": 4,
 "nbformat_minor": 4
}

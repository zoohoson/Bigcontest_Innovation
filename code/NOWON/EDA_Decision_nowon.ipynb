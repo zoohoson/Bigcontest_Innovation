{
 "cells": [
  {
   "cell_type": "markdown",
   "metadata": {},
   "source": [
    "# Decision Tree를 사용한 feature importance 뽑기"
   ]
  },
  {
   "cell_type": "code",
   "execution_count": 1,
   "metadata": {},
   "outputs": [],
   "source": [
    "%matplotlib inline\n",
    "import pandas as pd # 데이터 프레임 처리\n",
    "import numpy as np # 벡터 계산\n",
    "import matplotlib.pyplot as plt # 데이터 시각화\n",
    "\n",
    "# 사이킷런 패키지 활용\n",
    "from sklearn import tree \n",
    "from sklearn.tree.export import export_graphviz\n",
    "from sklearn.ensemble import RandomForestRegressor\n",
    "from sklearn.linear_model import LinearRegression\n",
    "from sklearn.metrics import mean_squared_error\n",
    "\n",
    "from scipy.stats import spearmanr"
   ]
  },
  {
   "cell_type": "code",
   "execution_count": 2,
   "metadata": {},
   "outputs": [],
   "source": [
    "total_20 = pd.read_csv('../data/innovation/Merge_data/df_age20_nowon.csv') # 20대 노원구 데이터\n",
    "total_30 = pd.read_csv('../data/innovation/Merge_data/df_age30_nowon.csv') # 30대 노원구 데이터\n",
    "total_40 = pd.read_csv('../data/innovation/Merge_data/df_age40_nowon.csv') # 40대 노원구 데이터\n",
    "total_50 = pd.read_csv('../data/innovation/Merge_data/df_age50_nowon.csv') # 50대 노원구 데이터"
   ]
  },
  {
   "cell_type": "code",
   "execution_count": 3,
   "metadata": {},
   "outputs": [
    {
     "data": {
      "text/html": [
       "<div>\n",
       "<style scoped>\n",
       "    .dataframe tbody tr th:only-of-type {\n",
       "        vertical-align: middle;\n",
       "    }\n",
       "\n",
       "    .dataframe tbody tr th {\n",
       "        vertical-align: top;\n",
       "    }\n",
       "\n",
       "    .dataframe thead th {\n",
       "        text-align: right;\n",
       "    }\n",
       "</style>\n",
       "<table border=\"1\" class=\"dataframe\">\n",
       "  <thead>\n",
       "    <tr style=\"text-align: right;\">\n",
       "      <th></th>\n",
       "      <th>age20accum</th>\n",
       "      <th>age20leisure goods</th>\n",
       "      <th>age20leisure busi</th>\n",
       "      <th>age20culture</th>\n",
       "      <th>age20furniture</th>\n",
       "      <th>age20electronic</th>\n",
       "      <th>age20kitchen</th>\n",
       "      <th>age20fuel</th>\n",
       "      <th>age20optic</th>\n",
       "      <th>age20Appliances</th>\n",
       "      <th>...</th>\n",
       "      <th>LCLS_50_P</th>\n",
       "      <th>LCLS_60_P</th>\n",
       "      <th>LCLS_70_P</th>\n",
       "      <th>LCLS_80_P</th>\n",
       "      <th>pm10</th>\n",
       "      <th>pm25</th>\n",
       "      <th>humi</th>\n",
       "      <th>temp</th>\n",
       "      <th>CONTENT</th>\n",
       "      <th>rain</th>\n",
       "    </tr>\n",
       "  </thead>\n",
       "  <tbody>\n",
       "    <tr>\n",
       "      <th>0</th>\n",
       "      <td>432.0</td>\n",
       "      <td>203.0</td>\n",
       "      <td>7993.0</td>\n",
       "      <td>1551.0</td>\n",
       "      <td>21.0</td>\n",
       "      <td>0.0</td>\n",
       "      <td>0.0</td>\n",
       "      <td>498.0</td>\n",
       "      <td>29.0</td>\n",
       "      <td>25.0</td>\n",
       "      <td>...</td>\n",
       "      <td>46787</td>\n",
       "      <td>5417</td>\n",
       "      <td>8331</td>\n",
       "      <td>6619</td>\n",
       "      <td>68.328472</td>\n",
       "      <td>35.256944</td>\n",
       "      <td>56.769284</td>\n",
       "      <td>16.578527</td>\n",
       "      <td>515</td>\n",
       "      <td>0.0</td>\n",
       "    </tr>\n",
       "    <tr>\n",
       "      <th>1</th>\n",
       "      <td>105.0</td>\n",
       "      <td>131.0</td>\n",
       "      <td>5367.0</td>\n",
       "      <td>791.0</td>\n",
       "      <td>0.0</td>\n",
       "      <td>0.0</td>\n",
       "      <td>0.0</td>\n",
       "      <td>470.0</td>\n",
       "      <td>63.0</td>\n",
       "      <td>70.0</td>\n",
       "      <td>...</td>\n",
       "      <td>38527</td>\n",
       "      <td>5108</td>\n",
       "      <td>9985</td>\n",
       "      <td>8507</td>\n",
       "      <td>72.005556</td>\n",
       "      <td>29.909028</td>\n",
       "      <td>57.838777</td>\n",
       "      <td>19.628631</td>\n",
       "      <td>888</td>\n",
       "      <td>0.0</td>\n",
       "    </tr>\n",
       "    <tr>\n",
       "      <th>2</th>\n",
       "      <td>87.0</td>\n",
       "      <td>126.0</td>\n",
       "      <td>5656.0</td>\n",
       "      <td>526.0</td>\n",
       "      <td>0.0</td>\n",
       "      <td>0.0</td>\n",
       "      <td>18.0</td>\n",
       "      <td>384.0</td>\n",
       "      <td>42.0</td>\n",
       "      <td>43.0</td>\n",
       "      <td>...</td>\n",
       "      <td>36532</td>\n",
       "      <td>6031</td>\n",
       "      <td>7723</td>\n",
       "      <td>4392</td>\n",
       "      <td>72.838194</td>\n",
       "      <td>24.295833</td>\n",
       "      <td>61.681723</td>\n",
       "      <td>19.191452</td>\n",
       "      <td>856</td>\n",
       "      <td>0.1</td>\n",
       "    </tr>\n",
       "    <tr>\n",
       "      <th>3</th>\n",
       "      <td>151.0</td>\n",
       "      <td>165.0</td>\n",
       "      <td>5300.0</td>\n",
       "      <td>534.0</td>\n",
       "      <td>0.0</td>\n",
       "      <td>0.0</td>\n",
       "      <td>0.0</td>\n",
       "      <td>308.0</td>\n",
       "      <td>80.0</td>\n",
       "      <td>74.0</td>\n",
       "      <td>...</td>\n",
       "      <td>48128</td>\n",
       "      <td>5592</td>\n",
       "      <td>7261</td>\n",
       "      <td>4501</td>\n",
       "      <td>17.746352</td>\n",
       "      <td>10.958304</td>\n",
       "      <td>60.144545</td>\n",
       "      <td>14.073384</td>\n",
       "      <td>893</td>\n",
       "      <td>18.5</td>\n",
       "    </tr>\n",
       "    <tr>\n",
       "      <th>4</th>\n",
       "      <td>187.0</td>\n",
       "      <td>109.0</td>\n",
       "      <td>6001.0</td>\n",
       "      <td>729.0</td>\n",
       "      <td>0.0</td>\n",
       "      <td>0.0</td>\n",
       "      <td>0.0</td>\n",
       "      <td>312.0</td>\n",
       "      <td>89.0</td>\n",
       "      <td>60.0</td>\n",
       "      <td>...</td>\n",
       "      <td>57862</td>\n",
       "      <td>6960</td>\n",
       "      <td>7867</td>\n",
       "      <td>4693</td>\n",
       "      <td>9.926160</td>\n",
       "      <td>3.922644</td>\n",
       "      <td>77.163194</td>\n",
       "      <td>8.620000</td>\n",
       "      <td>864</td>\n",
       "      <td>10.5</td>\n",
       "    </tr>\n",
       "  </tbody>\n",
       "</table>\n",
       "<p>5 rows × 38 columns</p>\n",
       "</div>"
      ],
      "text/plain": [
       "   age20accum  age20leisure goods  age20leisure busi  age20culture  \\\n",
       "0       432.0               203.0             7993.0        1551.0   \n",
       "1       105.0               131.0             5367.0         791.0   \n",
       "2        87.0               126.0             5656.0         526.0   \n",
       "3       151.0               165.0             5300.0         534.0   \n",
       "4       187.0               109.0             6001.0         729.0   \n",
       "\n",
       "   age20furniture  age20electronic  age20kitchen  age20fuel  age20optic  \\\n",
       "0            21.0              0.0           0.0      498.0        29.0   \n",
       "1             0.0              0.0           0.0      470.0        63.0   \n",
       "2             0.0              0.0          18.0      384.0        42.0   \n",
       "3             0.0              0.0           0.0      308.0        80.0   \n",
       "4             0.0              0.0           0.0      312.0        89.0   \n",
       "\n",
       "   age20Appliances  ...  LCLS_50_P  LCLS_60_P  LCLS_70_P  LCLS_80_P  \\\n",
       "0             25.0  ...      46787       5417       8331       6619   \n",
       "1             70.0  ...      38527       5108       9985       8507   \n",
       "2             43.0  ...      36532       6031       7723       4392   \n",
       "3             74.0  ...      48128       5592       7261       4501   \n",
       "4             60.0  ...      57862       6960       7867       4693   \n",
       "\n",
       "        pm10       pm25       humi       temp  CONTENT  rain  \n",
       "0  68.328472  35.256944  56.769284  16.578527      515   0.0  \n",
       "1  72.005556  29.909028  57.838777  19.628631      888   0.0  \n",
       "2  72.838194  24.295833  61.681723  19.191452      856   0.1  \n",
       "3  17.746352  10.958304  60.144545  14.073384      893  18.5  \n",
       "4   9.926160   3.922644  77.163194   8.620000      864  10.5  \n",
       "\n",
       "[5 rows x 38 columns]"
      ]
     },
     "execution_count": 3,
     "metadata": {},
     "output_type": "execute_result"
    }
   ],
   "source": [
    "total_20.head()"
   ]
  },
  {
   "cell_type": "code",
   "execution_count": 4,
   "metadata": {},
   "outputs": [],
   "source": [
    "# 시계열 데이터로 만들기 위해서 기존의 인덱스를 2018.04.01 ~ 2019.03.31로 변경\n",
    "dateIdx = pd.date_range('2018-04-01', '2019-03-31')\n",
    "\n",
    "total_20.index = dateIdx\n",
    "total_30.index = dateIdx\n",
    "total_40.index = dateIdx\n",
    "total_50.index = dateIdx"
   ]
  },
  {
   "cell_type": "code",
   "execution_count": 5,
   "metadata": {},
   "outputs": [
    {
     "name": "stdout",
     "output_type": "stream",
     "text": [
      "20대 :  Index([], dtype='object')\n",
      "30대 :  Index([], dtype='object')\n",
      "40대 :  Index([], dtype='object')\n",
      "50대 :  Index([], dtype='object')\n"
     ]
    }
   ],
   "source": [
    "# 각각의 나이대 별 매출에서 NULL값이 있는지 확인\n",
    "\n",
    "print(\"20대 : \", total_20.columns[np.where(total_20.isnull().sum()[:'LCLS_80_P'] != 0)[0]])\n",
    "print(\"30대 : \", total_30.columns[np.where(total_30.isnull().sum()[:'LCLS_80_P'] != 0)[0]])\n",
    "print(\"40대 : \", total_40.columns[np.where(total_40.isnull().sum()[:'LCLS_80_P'] != 0)[0]])\n",
    "print(\"50대 : \", total_50.columns[np.where(total_50.isnull().sum()[:'LCLS_80_P'] != 0)[0]])"
   ]
  },
  {
   "cell_type": "code",
   "execution_count": 6,
   "metadata": {},
   "outputs": [],
   "source": [
    "# 각 나이대 별 null columns이 얼마나 있는 지 확인\n",
    "age20_null = total_20.isnull().sum()[['age20furniture', 'age20electronic', 'age20kitchen', 'age20optic',\n",
    "                                      'age20Appliances', 'age20textile', 'age20affair', 'age20car sell','age20car repair']]\n",
    "\n",
    "age30_null = total_30.isnull().sum()[['age30accum', 'age30furniture', 'age30electronic', 'age30kitchen', 'age30optic', 'age30Appliances', \n",
    "                                      'age30cloth', 'age30textile', 'age30affair', 'age30car sell', 'age30repair survice']]\n",
    "\n",
    "age40_null = total_40.isnull().sum()[['age40furniture', 'age40electronic', 'age40kitchen', 'age40optic', 'age40Appliances', 'age40textile', \n",
    "                                      'age40affair', 'age40car sell', 'age40repair survice']]\n",
    "\n",
    "age50_null = total_50.isnull().sum()[['age50accum', 'age50leisure goods', 'age50furniture', 'age50electronic', 'age50kitchen', 'age50optic', \n",
    "                                      'age50Appliances', 'age50textile', 'age50affair', 'age50car sell', 'age50car repair','age50repair survice']]"
   ]
  },
  {
   "cell_type": "code",
   "execution_count": 7,
   "metadata": {},
   "outputs": [],
   "source": [
    "# 이제부터는 각 feature가 CONTENT, pm10, pm25, humi, rain, temp에 영향을 얼마나 받는 지 확인\n",
    "\n",
    "## 각 연령대 별 feature들을 list로 저장한다\n",
    "\n",
    "columns_20 = total_20.columns.tolist()\n",
    "columns_30 = total_30.columns.tolist()\n",
    "columns_40 = total_40.columns.tolist()\n",
    "columns_50 = total_50.columns.tolist()"
   ]
  },
  {
   "cell_type": "code",
   "execution_count": 8,
   "metadata": {},
   "outputs": [],
   "source": [
    "# 20대\n",
    "\n",
    "target20 = columns_20[:-6]\n",
    "columns_20 = [c for c in total_20.columns.tolist() if c not in columns_20[:-6]]\n",
    "\n",
    "train_20 = total_20.sample(frac=0.8, random_state=1234)\n",
    "test_20 = total_20.loc[~total_20.index.isin(train_20.index)]\n",
    "\n",
    "models_20 = []\n",
    "model20_fit = []\n",
    "feat_importances_20 = []\n",
    "for i in range(len(target20)) :\n",
    "    models_20.append(RandomForestRegressor(n_estimators=100, min_samples_leaf=8, random_state=1))\n",
    "\n",
    "for var, model in zip(target20, models_20) :\n",
    "    model20_fit.append(model.fit(train_20[columns_20], train_20[var]))\n",
    "\n",
    "for model in model20_fit :\n",
    "    feat_importances_20.append(pd.Series(model.feature_importances_, index=total_20.T.index[-6:]))\n",
    "\n",
    "feat_importances_20_df = pd.DataFrame(feat_importances_20, \n",
    "                                      index = target20,\n",
    "                                      columns = feat_importances_20[0].index)"
   ]
  },
  {
   "cell_type": "code",
   "execution_count": 9,
   "metadata": {},
   "outputs": [],
   "source": [
    "# 30대\n",
    "\n",
    "target30 = columns_30[:-6]\n",
    "columns_30 = [c for c in columns_30 if c not in target30]\n",
    "\n",
    "train_30 = total_30.sample(frac=0.8, random_state=1234)\n",
    "test_30 = total_30.loc[~total_30.index.isin(train_30.index)]\n",
    "\n",
    "models_30 = []\n",
    "model30_fit = []\n",
    "feat_importances_30 = []\n",
    "for i in range(len(target30)) :\n",
    "    models_30.append(RandomForestRegressor(n_estimators=100, min_samples_leaf=8, random_state=1))\n",
    "\n",
    "for var, model in zip(target30, models_30) :\n",
    "    model30_fit.append(model.fit(train_30[columns_30], train_30[var]))\n",
    "\n",
    "for model in model30_fit :\n",
    "    feat_importances_30.append(pd.Series(model.feature_importances_, index=total_30.T.index[-6:]))\n",
    "\n",
    "feat_importances_30_df = pd.DataFrame(feat_importances_30, \n",
    "                                      index = target30,\n",
    "                                      columns = feat_importances_30[0].index)"
   ]
  },
  {
   "cell_type": "code",
   "execution_count": 10,
   "metadata": {},
   "outputs": [],
   "source": [
    "# 40대\n",
    "\n",
    "target40 = columns_40[:-6]\n",
    "columns_40 = [c for c in columns_40 if c not in target40]\n",
    "\n",
    "train_40 = total_40.sample(frac=0.8, random_state=1234)\n",
    "test_40 = total_40.loc[~total_40.index.isin(train_40.index)]\n",
    "\n",
    "models_40 = []\n",
    "model40_fit = []\n",
    "feat_importances_40 = []\n",
    "for i in range(len(target40)) :\n",
    "    models_40.append(RandomForestRegressor(n_estimators=100, min_samples_leaf=8, random_state=1))\n",
    "\n",
    "for var, model in zip(target40, models_40) :\n",
    "    model40_fit.append(model.fit(train_40[columns_40], train_40[var]))\n",
    "\n",
    "for model in model40_fit :\n",
    "    feat_importances_40.append(pd.Series(model.feature_importances_, index=total_40.T.index[-6:]))\n",
    "\n",
    "feat_importances_40_df = pd.DataFrame(feat_importances_40, \n",
    "                                      index = target40,\n",
    "                                      columns = feat_importances_40[0].index)"
   ]
  },
  {
   "cell_type": "code",
   "execution_count": 11,
   "metadata": {},
   "outputs": [],
   "source": [
    "# 50대\n",
    "\n",
    "target50 = columns_50[:-6]\n",
    "columns_50 = [c for c in columns_50 if c not in target50]\n",
    "\n",
    "train_50 = total_50.sample(frac=0.8, random_state=1234)\n",
    "test_50 = total_50.loc[~total_50.index.isin(train_50.index)]\n",
    "\n",
    "models_50 = []\n",
    "model50_fit = []\n",
    "feat_importances_50 = []\n",
    "for i in range(len(target50)) :\n",
    "    models_50.append(RandomForestRegressor(n_estimators=100, min_samples_leaf=8, random_state=1))\n",
    "\n",
    "for var, model in zip(target50, models_50) :\n",
    "    model50_fit.append(model.fit(train_50[columns_50], train_50[var]))\n",
    "\n",
    "for model in model50_fit :\n",
    "    feat_importances_50.append(pd.Series(model.feature_importances_, index=total_50.T.index[-6:]))\n",
    "\n",
    "feat_importances_50_df = pd.DataFrame(feat_importances_50, \n",
    "                                      index = target50,\n",
    "                                      columns = feat_importances_50[0].index)"
   ]
  },
  {
   "cell_type": "code",
   "execution_count": 12,
   "metadata": {},
   "outputs": [],
   "source": [
    "feat_importances_20_df.drop('age20', inplace = True)\n",
    "feat_importances_30_df.drop('age30', inplace = True)\n",
    "feat_importances_40_df.drop('age40', inplace = True)\n",
    "feat_importances_50_df.drop('age50', inplace = True)"
   ]
  },
  {
   "cell_type": "code",
   "execution_count": 14,
   "metadata": {},
   "outputs": [
    {
     "data": {
      "image/png": "[encoded data removed]",
      "text/plain": [
       "<Figure size 720x216 with 5 Axes>"
      ]
     },
     "metadata": {
      "needs_background": "light"
     },
     "output_type": "display_data"
    }
   ],
   "source": [
    "fig4, axes = plt.subplots(1, 5)\n",
    "\n",
    "feat_importances_20_df.CONTENT.sort_values(ascending = False)[:5].plot(kind = 'bar', ax = axes[0], figsize = (10, 3), ylim = [0, 1], color = 'grey')\n",
    "feat_importances_20_df.pm10.sort_values(ascending = False)[:5].plot(kind = 'bar', ax = axes[1], figsize = (10, 3), ylim = [0, 1], color = 'grey')\n",
    "feat_importances_20_df.temp.sort_values(ascending = False)[:5].plot(kind = 'bar', ax = axes[2], figsize = (10, 3), ylim = [0, 1], color = 'grey')\n",
    "feat_importances_20_df.humi.sort_values(ascending = False)[:5].plot(kind = 'bar', ax = axes[3], figsize = (10, 3), ylim = [0, 1], color = 'grey')\n",
    "feat_importances_20_df.rain.sort_values(ascending = False)[:5].plot(kind = 'bar', ax = axes[4], figsize = (10, 3), ylim = [0, 1], color = 'grey')\n",
    "\n",
    "plt.subplots_adjust(wspace = 0.5)\n",
    "# plt.savefig(\"/root/Big_Contest/EDA/NOWON/img/feature_importance_20_nowon.png\", dpi = 300)"
   ]
  },
  {
   "cell_type": "code",
   "execution_count": 15,
   "metadata": {},
   "outputs": [
    {
     "data": {
      "image/png": "[encoded data removed]",
      "text/plain": [
       "<Figure size 720x360 with 5 Axes>"
      ]
     },
     "metadata": {
      "needs_background": "light"
     },
     "output_type": "display_data"
    }
   ],
   "source": [
    "fig5, axes = plt.subplots(1, 5)\n",
    "\n",
    "feat_importances_30_df.CONTENT.sort_values(ascending = False)[:5].plot(kind = 'bar', ax = axes[0], figsize = (10, 5), title = 'news', ylim = [0, 1], color = 'grey')\n",
    "feat_importances_30_df.pm10.sort_values(ascending = False)[:5].plot(kind = 'bar', ax = axes[1], figsize = (10, 5), title = 'pm10', ylim = [0, 1], color = 'grey')\n",
    "feat_importances_30_df.temp.sort_values(ascending = False)[:5].plot(kind = 'bar', ax = axes[2], figsize = (10, 5), title = 'temp', ylim = [0, 1], color = 'grey')\n",
    "feat_importances_30_df.humi.sort_values(ascending = False)[:5].plot(kind = 'bar', ax = axes[3], figsize = (10, 5), title = 'humi', ylim = [0, 1], color = 'grey')\n",
    "feat_importances_30_df.rain.sort_values(ascending = False)[:5].plot(kind = 'bar', ax = axes[4], figsize = (10, 5), title = 'rain', ylim = [0, 1], color = 'grey')\n",
    "\n",
    "plt.subplots_adjust(wspace = 0.5)\n",
    "# plt.savefig(\"/root/Big_Contest/EDA/NOWON/img/feature_importance_30_nowon.png\", dpi = 300)"
   ]
  },
  {
   "cell_type": "code",
   "execution_count": 16,
   "metadata": {},
   "outputs": [
    {
     "data": {
      "image/png": "[encoded data removed]",
      "text/plain": [
       "<Figure size 720x360 with 5 Axes>"
      ]
     },
     "metadata": {
      "needs_background": "light"
     },
     "output_type": "display_data"
    }
   ],
   "source": [
    "fig6, axes = plt.subplots(1, 5)\n",
    "\n",
    "feat_importances_40_df.CONTENT.sort_values(ascending = False)[:5].plot(kind = 'bar', ax = axes[0], figsize = (10, 5), title = 'news', ylim = [0, 1], color = 'grey')\n",
    "feat_importances_40_df.pm10.sort_values(ascending = False)[:5].plot(kind = 'bar', ax = axes[1], figsize = (10, 5), title = 'pm10', ylim = [0, 1], color = 'grey')\n",
    "feat_importances_40_df.temp.sort_values(ascending = False)[:5].plot(kind = 'bar', ax = axes[2], figsize = (10, 5), title = 'temp', ylim = [0, 1], color = 'grey')\n",
    "feat_importances_40_df.humi.sort_values(ascending = False)[:5].plot(kind = 'bar', ax = axes[3], figsize = (10, 5), title = 'humi', ylim = [0, 1], color = 'grey')\n",
    "feat_importances_40_df.rain.sort_values(ascending = False)[:5].plot(kind = 'bar', ax = axes[4], figsize = (10, 5), title = 'rain', ylim = [0, 1], color = 'grey')\n",
    "\n",
    "plt.subplots_adjust(wspace = 0.5)\n",
    "# plt.savefig(\"/root/Big_Contest/EDA/NOWON/img/feature_importance_40_nowon.png\", dpi = 300)"
   ]
  },
  {
   "cell_type": "code",
   "execution_count": 17,
   "metadata": {},
   "outputs": [
    {
     "data": {
      "image/png": "[encoded data removed]",
      "text/plain": [
       "<Figure size 720x360 with 5 Axes>"
      ]
     },
     "metadata": {
      "needs_background": "light"
     },
     "output_type": "display_data"
    }
   ],
   "source": [
    "fig7, axes = plt.subplots(1, 5)\n",
    "\n",
    "feat_importances_50_df.CONTENT.sort_values(ascending = False)[:5].plot(kind = 'bar', ax = axes[0], figsize = (10, 5), title = 'news', ylim = [0, 1], color = 'grey')\n",
    "feat_importances_50_df.pm10.sort_values(ascending = False)[:5].plot(kind = 'bar', ax = axes[1], figsize = (10, 5), title = 'pm10', ylim = [0, 1], color = 'grey')\n",
    "feat_importances_50_df.temp.sort_values(ascending = False)[:5].plot(kind = 'bar', ax = axes[2], figsize = (10, 5), title = 'temp', ylim = [0, 1], color = 'grey')\n",
    "feat_importances_50_df.humi.sort_values(ascending = False)[:5].plot(kind = 'bar', ax = axes[3], figsize = (10, 5), title = 'humi', ylim = [0, 1], color = 'grey')\n",
    "feat_importances_50_df.rain.sort_values(ascending = False)[:5].plot(kind = 'bar', ax = axes[4], figsize = (10, 5), title = 'rain', ylim = [0, 1], color = 'grey')\n",
    "\n",
    "plt.subplots_adjust(wspace = 0.5)\n",
    "# plt.savefig(\"/root/Big_Contest/EDA/NOWON/img/feature_importance_50_nowon.png\", dpi = 300)"
   ]
  },
  {
   "cell_type": "code",
   "execution_count": 18,
   "metadata": {},
   "outputs": [],
   "source": [
    "feat_importances_20_CONTENT = list(feat_importances_20_df.iloc[np.where(feat_importances_20_df.CONTENT >= 0.4)[0]].index)\n",
    "feat_importances_20_temp = list(feat_importances_20_df.iloc[np.where(feat_importances_20_df.temp >= 0.4)[0]].index)\n",
    "feat_importances_20_rain = list(feat_importances_20_df.iloc[np.where(feat_importances_20_df.rain >= 0.4)[0]].index)\n",
    "\n",
    "feat_importances_30_CONTENT = list(feat_importances_30_df.iloc[np.where(feat_importances_30_df.CONTENT >= 0.4)[0]].index)\n",
    "feat_importances_30_temp = list(feat_importances_30_df.iloc[np.where(feat_importances_30_df.temp >= 0.4)[0]].index)\n",
    "feat_importances_30_rain = list(feat_importances_30_df.iloc[np.where(feat_importances_30_df.rain >= 0.4)[0]].index)\n",
    "\n",
    "feat_importances_40_CONTENT = list(feat_importances_40_df.iloc[np.where(feat_importances_40_df.CONTENT >= 0.4)[0]].index)\n",
    "feat_importances_40_temp = list(feat_importances_40_df.iloc[np.where(feat_importances_40_df.temp >= 0.4)[0]].index)\n",
    "feat_importances_40_rain = list(feat_importances_40_df.iloc[np.where(feat_importances_40_df.rain >= 0.4)[0]].index)\n",
    "\n",
    "feat_importances_50_CONTENT = list(feat_importances_50_df.iloc[np.where(feat_importances_50_df.CONTENT >= 0.4)[0]].index)\n",
    "feat_importances_50_temp = list(feat_importances_50_df.iloc[np.where(feat_importances_50_df.temp >= 0.4)[0]].index)\n",
    "feat_importances_50_rain = list(feat_importances_50_df.iloc[np.where(feat_importances_50_df.rain >= 0.4)[0]].index)"
   ]
  },
  {
   "cell_type": "code",
   "execution_count": 19,
   "metadata": {},
   "outputs": [
    {
     "name": "stdout",
     "output_type": "stream",
     "text": [
      "20대\n",
      "CONTENT :  ['age20accum', 'age20leisure busi', 'age20culture', 'age20fuel', 'age20medical', 'age20public health']\n",
      "temp :  ['age20leisure goods', 'age20electronic', 'age20circul', 'age20cloth', 'age20book', 'age20car repair', 'age20food', 'age20repair survice', 'LCLS_30_P', 'LCLS_80_P']\n",
      "rain :  ['LCLS_50_P']\n",
      "\n",
      "30대\n",
      "CONTENT :  ['age30accum', 'age30leisure goods', 'age30leisure busi', 'age30culture', 'age30fuel', 'age30circul', 'age30book', 'age30medical', 'age30public health', 'age30food']\n",
      "temp :  ['LCLS_30_P', 'LCLS_80_P']\n",
      "rain :  ['LCLS_50_P']\n",
      "\n",
      "40대\n",
      "CONTENT :  ['age40accum', 'age40leisure goods', 'age40leisure busi', 'age40fuel', 'age40circul', 'age40stuff', 'age40medical', 'age40public health', 'age40food']\n",
      "temp :  ['age40culture', 'age40Appliances', 'LCLS_30_P', 'LCLS_80_P']\n",
      "rain :  ['LCLS_50_P']\n",
      "\n",
      "50대\n",
      "CONTENT :  ['age50leisure busi', 'age50affair', 'age50car repair', 'age50medical', 'age50public health']\n",
      "temp :  ['age50culture', 'age50Appliances', 'age50circul', 'age50cloth', 'LCLS_30_P', 'LCLS_80_P']\n",
      "rain :  ['LCLS_50_P']\n"
     ]
    }
   ],
   "source": [
    "print(\"20대\\nCONTENT : \", feat_importances_20_CONTENT)\n",
    "print(\"temp : \", feat_importances_20_temp)\n",
    "print(\"rain : \", feat_importances_20_rain)\n",
    "\n",
    "print(\"\\n30대\\nCONTENT : \", feat_importances_30_CONTENT)\n",
    "print(\"temp : \", feat_importances_30_temp)\n",
    "print(\"rain : \", feat_importances_30_rain)\n",
    "\n",
    "print(\"\\n40대\\nCONTENT : \", feat_importances_40_CONTENT)\n",
    "print(\"temp : \", feat_importances_40_temp)\n",
    "print(\"rain : \", feat_importances_40_rain)\n",
    "\n",
    "print(\"\\n50대\\nCONTENT : \", feat_importances_50_CONTENT)\n",
    "print(\"temp : \", feat_importances_50_temp)\n",
    "print(\"rain : \", feat_importances_50_rain)"
   ]
  },
  {
   "cell_type": "markdown",
   "metadata": {},
   "source": [
    "# 정리\n",
    "## 20대 feature importance\n",
    "1. CONTENT : 숙박(신한) > 연료(신한) > 의료(신한) > 문화취미(신한) > 레저업소(신한) \n",
    "2. pm10 : 간식(GS) > 서적(신한) > 홈&리빙(GS) > 수리서비스(신한) > 신변잡화(신한)\n",
    "3. pm25 : 취미&여가(GS) > 간식(GS) > 홈&리빙(GS) > 사회생활(GS) > 음식(GS)\n",
    "\n",
    "## 30대 feature importance\n",
    "1. CONTENT : 연료(신한) > 레저상품(신한) > 요식업소(신한) > 의료(신한) > 레저업소(신한) \n",
    "2. pm10 : 간식(GS) > 홈&리빙(GS) > 차량 수리(신한) > 신변잡화(신한) > 서적(신한)\n",
    "3. pm25 : 취미&여가(GS) > 간식(GS) > 홈&리빙(GS) > 사회생활(GS) > 음식(GS)\n",
    "\n",
    "## 40대 feature importance\n",
    "1. CONTENT : 레저업소(신한) > 보건위생(신한) > 요식업소(신한) > 의료(신한) > 유통(신한) \n",
    "2. pm10 : 간식(GS) > 서적(신한) > 홈&리빙(GS) > 의복(신한) > 음식(GS)\n",
    "3. pm25 : 사회생활(GS) > 서적(신한) > 간식(GS) > 홈&리빙(GS) > 레저상품(신한)\n",
    "\n",
    "## 50대 feature importance\n",
    "1. CONTENT : 의료(신한) > 레저업소(신한) > 보건위생(신한) > 요식업소(신한) > 사회생활(GS) \n",
    "2. pm10 : 간식(GS) > 서적(신한) > 홈&리빙(GS) > 음료식품(신한) > 연료(신한)\n",
    "3. pm25 : 취미&여가(GS) > 서적(신한) > 간식(GS) > 홈&리빙(GS) > 사회생활(GS)"
   ]
  },
  {
   "cell_type": "code",
   "execution_count": null,
   "metadata": {},
   "outputs": [],
   "source": []
  }
 ],
 "metadata": {
  "kernelspec": {
   "display_name": "2019BigC",
   "language": "python",
   "name": "2019bigc"
  },
  "language_info": {
   "codemirror_mode": {
    "name": "ipython",
    "version": 3
   },
   "file_extension": ".py",
   "mimetype": "text/x-python",
   "name": "python",
   "nbconvert_exporter": "python",
   "pygments_lexer": "ipython3",
   "version": "3.7.3"
  }
 },
 "nbformat": 4,
 "nbformat_minor": 4
}

{
 "cells": [
  {
   "cell_type": "markdown",
   "metadata": {},
   "source": [
    "# Multi Linear Regression을 이용하여 p-value 계산하기\n",
    "## p-value : 귀무가설을 가정하였을 때 표본 이상으로 극단적인 결과를 얻을 확률\n",
    "## 귀무가설 : Multi Linear Regression을 사용하여 회귀모델을 설계할 때 각 feature의 coefficient가 0이 됨\n",
    "- 따라서 p-value는 극단적인 결과를 얻을 확률이 적어야 안정적인 해당 feature가 안정적이라고 할 수 있다."
   ]
  },
  {
   "cell_type": "code",
   "execution_count": 10,
   "metadata": {},
   "outputs": [],
   "source": [
    "import warnings\n",
    "warnings.filterwarnings(\"ignore\")\n",
    "\n",
    "import pandas as pd\n",
    "import numpy as np\n",
    "\n",
    "import sklearn\n",
    "from sklearn.linear_model import Lasso, Ridge\n",
    "from sklearn.model_selection import train_test_split\n",
    "\n",
    "import matplotlib.pyplot as plt\n",
    "%matplotlib inline\n",
    "\n",
    "import scipy.stats as stats\n",
    "import urllib\n",
    "from statsmodels.formula.api import ols\n",
    "import statsmodels.api as sm\n",
    "from statsmodels.stats.anova import anova_lm\n",
    "from sklearn.linear_model import Lasso, Ridge\n",
    "from sklearn.model_selection import train_test_split"
   ]
  },
  {
   "cell_type": "code",
   "execution_count": 11,
   "metadata": {},
   "outputs": [],
   "source": [
    "df_20 = pd.read_csv('../data/innovation/Merge_data/df_age20_nowon.csv')"
   ]
  },
  {
   "cell_type": "code",
   "execution_count": 12,
   "metadata": {},
   "outputs": [
    {
     "data": {
      "text/html": [
       "<div>\n",
       "<style scoped>\n",
       "    .dataframe tbody tr th:only-of-type {\n",
       "        vertical-align: middle;\n",
       "    }\n",
       "\n",
       "    .dataframe tbody tr th {\n",
       "        vertical-align: top;\n",
       "    }\n",
       "\n",
       "    .dataframe thead th {\n",
       "        text-align: right;\n",
       "    }\n",
       "</style>\n",
       "<table border=\"1\" class=\"dataframe\">\n",
       "  <thead>\n",
       "    <tr style=\"text-align: right;\">\n",
       "      <th></th>\n",
       "      <th>age20accum</th>\n",
       "      <th>age20leisure goods</th>\n",
       "      <th>age20leisure busi</th>\n",
       "      <th>age20culture</th>\n",
       "      <th>age20furniture</th>\n",
       "      <th>age20electronic</th>\n",
       "      <th>age20kitchen</th>\n",
       "      <th>age20fuel</th>\n",
       "      <th>age20optic</th>\n",
       "      <th>age20Appliances</th>\n",
       "      <th>...</th>\n",
       "      <th>LCLS_50_P</th>\n",
       "      <th>LCLS_60_P</th>\n",
       "      <th>LCLS_70_P</th>\n",
       "      <th>LCLS_80_P</th>\n",
       "      <th>pm10</th>\n",
       "      <th>pm25</th>\n",
       "      <th>humi</th>\n",
       "      <th>temp</th>\n",
       "      <th>CONTENT</th>\n",
       "      <th>rain</th>\n",
       "    </tr>\n",
       "  </thead>\n",
       "  <tbody>\n",
       "    <tr>\n",
       "      <th>0</th>\n",
       "      <td>432.0</td>\n",
       "      <td>203.0</td>\n",
       "      <td>7993.0</td>\n",
       "      <td>1551.0</td>\n",
       "      <td>21.0</td>\n",
       "      <td>0.0</td>\n",
       "      <td>0.0</td>\n",
       "      <td>498.0</td>\n",
       "      <td>29.0</td>\n",
       "      <td>25.0</td>\n",
       "      <td>...</td>\n",
       "      <td>46787</td>\n",
       "      <td>5417</td>\n",
       "      <td>8331</td>\n",
       "      <td>6619</td>\n",
       "      <td>68.328472</td>\n",
       "      <td>35.256944</td>\n",
       "      <td>56.769284</td>\n",
       "      <td>16.578527</td>\n",
       "      <td>515</td>\n",
       "      <td>0.0</td>\n",
       "    </tr>\n",
       "    <tr>\n",
       "      <th>1</th>\n",
       "      <td>105.0</td>\n",
       "      <td>131.0</td>\n",
       "      <td>5367.0</td>\n",
       "      <td>791.0</td>\n",
       "      <td>0.0</td>\n",
       "      <td>0.0</td>\n",
       "      <td>0.0</td>\n",
       "      <td>470.0</td>\n",
       "      <td>63.0</td>\n",
       "      <td>70.0</td>\n",
       "      <td>...</td>\n",
       "      <td>38527</td>\n",
       "      <td>5108</td>\n",
       "      <td>9985</td>\n",
       "      <td>8507</td>\n",
       "      <td>72.005556</td>\n",
       "      <td>29.909028</td>\n",
       "      <td>57.838777</td>\n",
       "      <td>19.628631</td>\n",
       "      <td>888</td>\n",
       "      <td>0.0</td>\n",
       "    </tr>\n",
       "    <tr>\n",
       "      <th>2</th>\n",
       "      <td>87.0</td>\n",
       "      <td>126.0</td>\n",
       "      <td>5656.0</td>\n",
       "      <td>526.0</td>\n",
       "      <td>0.0</td>\n",
       "      <td>0.0</td>\n",
       "      <td>18.0</td>\n",
       "      <td>384.0</td>\n",
       "      <td>42.0</td>\n",
       "      <td>43.0</td>\n",
       "      <td>...</td>\n",
       "      <td>36532</td>\n",
       "      <td>6031</td>\n",
       "      <td>7723</td>\n",
       "      <td>4392</td>\n",
       "      <td>72.838194</td>\n",
       "      <td>24.295833</td>\n",
       "      <td>61.681723</td>\n",
       "      <td>19.191452</td>\n",
       "      <td>856</td>\n",
       "      <td>0.1</td>\n",
       "    </tr>\n",
       "    <tr>\n",
       "      <th>3</th>\n",
       "      <td>151.0</td>\n",
       "      <td>165.0</td>\n",
       "      <td>5300.0</td>\n",
       "      <td>534.0</td>\n",
       "      <td>0.0</td>\n",
       "      <td>0.0</td>\n",
       "      <td>0.0</td>\n",
       "      <td>308.0</td>\n",
       "      <td>80.0</td>\n",
       "      <td>74.0</td>\n",
       "      <td>...</td>\n",
       "      <td>48128</td>\n",
       "      <td>5592</td>\n",
       "      <td>7261</td>\n",
       "      <td>4501</td>\n",
       "      <td>17.746352</td>\n",
       "      <td>10.958304</td>\n",
       "      <td>60.144545</td>\n",
       "      <td>14.073384</td>\n",
       "      <td>893</td>\n",
       "      <td>18.5</td>\n",
       "    </tr>\n",
       "    <tr>\n",
       "      <th>4</th>\n",
       "      <td>187.0</td>\n",
       "      <td>109.0</td>\n",
       "      <td>6001.0</td>\n",
       "      <td>729.0</td>\n",
       "      <td>0.0</td>\n",
       "      <td>0.0</td>\n",
       "      <td>0.0</td>\n",
       "      <td>312.0</td>\n",
       "      <td>89.0</td>\n",
       "      <td>60.0</td>\n",
       "      <td>...</td>\n",
       "      <td>57862</td>\n",
       "      <td>6960</td>\n",
       "      <td>7867</td>\n",
       "      <td>4693</td>\n",
       "      <td>9.926160</td>\n",
       "      <td>3.922644</td>\n",
       "      <td>77.163194</td>\n",
       "      <td>8.620000</td>\n",
       "      <td>864</td>\n",
       "      <td>10.5</td>\n",
       "    </tr>\n",
       "  </tbody>\n",
       "</table>\n",
       "<p>5 rows × 38 columns</p>\n",
       "</div>"
      ],
      "text/plain": [
       "   age20accum  age20leisure goods  age20leisure busi  age20culture  \\\n",
       "0       432.0               203.0             7993.0        1551.0   \n",
       "1       105.0               131.0             5367.0         791.0   \n",
       "2        87.0               126.0             5656.0         526.0   \n",
       "3       151.0               165.0             5300.0         534.0   \n",
       "4       187.0               109.0             6001.0         729.0   \n",
       "\n",
       "   age20furniture  age20electronic  age20kitchen  age20fuel  age20optic  \\\n",
       "0            21.0              0.0           0.0      498.0        29.0   \n",
       "1             0.0              0.0           0.0      470.0        63.0   \n",
       "2             0.0              0.0          18.0      384.0        42.0   \n",
       "3             0.0              0.0           0.0      308.0        80.0   \n",
       "4             0.0              0.0           0.0      312.0        89.0   \n",
       "\n",
       "   age20Appliances  ...  LCLS_50_P  LCLS_60_P  LCLS_70_P  LCLS_80_P  \\\n",
       "0             25.0  ...      46787       5417       8331       6619   \n",
       "1             70.0  ...      38527       5108       9985       8507   \n",
       "2             43.0  ...      36532       6031       7723       4392   \n",
       "3             74.0  ...      48128       5592       7261       4501   \n",
       "4             60.0  ...      57862       6960       7867       4693   \n",
       "\n",
       "        pm10       pm25       humi       temp  CONTENT  rain  \n",
       "0  68.328472  35.256944  56.769284  16.578527      515   0.0  \n",
       "1  72.005556  29.909028  57.838777  19.628631      888   0.0  \n",
       "2  72.838194  24.295833  61.681723  19.191452      856   0.1  \n",
       "3  17.746352  10.958304  60.144545  14.073384      893  18.5  \n",
       "4   9.926160   3.922644  77.163194   8.620000      864  10.5  \n",
       "\n",
       "[5 rows x 38 columns]"
      ]
     },
     "execution_count": 12,
     "metadata": {},
     "output_type": "execute_result"
    }
   ],
   "source": [
    "df_20.head()"
   ]
  },
  {
   "cell_type": "code",
   "execution_count": 13,
   "metadata": {},
   "outputs": [
    {
     "data": {
      "text/plain": [
       "Index(['age20accum', 'age20leisure goods', 'age20leisure busi', 'age20culture',\n",
       "       'age20furniture', 'age20electronic', 'age20kitchen', 'age20fuel',\n",
       "       'age20optic', 'age20Appliances', 'age20circul', 'age20cloth',\n",
       "       'age20textile', 'age20stuff', 'age20book', 'age20affair',\n",
       "       'age20car sell', 'age20car repair', 'age20medical',\n",
       "       'age20public health', 'age20food', 'age20grocery',\n",
       "       'age20repair survice', 'age20', 'LCLS_10_P', 'LCLS_20_P', 'LCLS_30_P',\n",
       "       'LCLS_40_P', 'LCLS_50_P', 'LCLS_60_P', 'LCLS_70_P', 'LCLS_80_P', 'pm10',\n",
       "       'pm25', 'humi', 'temp', 'CONTENT', 'rain'],\n",
       "      dtype='object')"
      ]
     },
     "execution_count": 13,
     "metadata": {},
     "output_type": "execute_result"
    }
   ],
   "source": [
    "df_20.columns"
   ]
  },
  {
   "cell_type": "code",
   "execution_count": 56,
   "metadata": {},
   "outputs": [],
   "source": [
    "df_20.columns = ['age20accum', 'age20leisure_goods', 'age20leisure_busi', 'age20culture',\n",
    "       'age20furniture', 'age20electronic', 'age20kitchen', 'age20fuel',\n",
    "       'age20optic', 'age20Appliances', 'age20circul', 'age20cloth',\n",
    "       'age20textile', 'age20stuff', 'age20book', 'age20affair',\n",
    "       'age20car_sell', 'age20car_repair', 'age20medical',\n",
    "       'age20public_health', 'age20food', 'age20grocery',\n",
    "       'age20repair_service', 'age20', 'LCLS_10_P', 'LCLS_20_P', 'LCLS_30_P',\n",
    "       'LCLS_40_P', 'LCLS_50_P', 'LCLS_60_P', 'LCLS_70_P', 'LCLS_80_P', 'pm10',\n",
    "       'pm25', 'humi', 'temp', 'CONTENT', 'rain']"
   ]
  },
  {
   "cell_type": "code",
   "execution_count": 20,
   "metadata": {},
   "outputs": [],
   "source": [
    "def pvalue(col_name):\n",
    "    formula = col_name + ' ~ pm10 + pm25 + CONTENT + temp + humi + rain + CONTENT:temp + CONTENT:rain + CONTENT:humi'\n",
    "    lm = ols(formula, df_20).fit()\n",
    "    return lm.summary()"
   ]
  },
  {
   "cell_type": "markdown",
   "metadata": {},
   "source": [
    "# p-value확인"
   ]
  },
  {
   "cell_type": "markdown",
   "metadata": {},
   "source": [
    "* 10 숙박"
   ]
  },
  {
   "cell_type": "code",
   "execution_count": 69,
   "metadata": {},
   "outputs": [
    {
     "name": "stdout",
     "output_type": "stream",
     "text": [
      "                            OLS Regression Results                            \n",
      "==============================================================================\n",
      "Dep. Variable:             age20accum   R-squared:                       0.329\n",
      "Model:                            OLS   Adj. R-squared:                  0.312\n",
      "Method:                 Least Squares   F-statistic:                     19.37\n",
      "Date:                Tue, 10 Sep 2019   Prob (F-statistic):           2.25e-26\n",
      "Time:                        07:15:20   Log-Likelihood:                -2201.8\n",
      "No. Observations:                 365   AIC:                             4424.\n",
      "Df Residuals:                     355   BIC:                             4463.\n",
      "Df Model:                           9                                         \n",
      "Covariance Type:            nonrobust                                         \n",
      "================================================================================\n",
      "                   coef    std err          t      P>|t|      [0.025      0.975]\n",
      "--------------------------------------------------------------------------------\n",
      "Intercept      248.5740     51.687      4.809      0.000     146.922     350.226\n",
      "pm10            -0.9064      0.456     -1.986      0.048      -1.804      -0.009\n",
      "pm25             1.5419      0.620      2.489      0.013       0.323       2.760\n",
      "CONTENT         -0.0011      0.079     -0.013      0.989      -0.156       0.154\n",
      "temp             2.2777      1.354      1.682      0.093      -0.385       4.941\n",
      "humi             1.8749      1.120      1.674      0.095      -0.328       4.078\n",
      "rain            -0.3009      1.277     -0.236      0.814      -2.813       2.211\n",
      "CONTENT:temp    -0.0071      0.003     -2.767      0.006      -0.012      -0.002\n",
      "CONTENT:rain     0.0011      0.002      0.520      0.603      -0.003       0.005\n",
      "CONTENT:humi    -0.0035      0.002     -1.957      0.051      -0.007    1.76e-05\n",
      "==============================================================================\n",
      "Omnibus:                        8.653   Durbin-Watson:                   1.537\n",
      "Prob(Omnibus):                  0.013   Jarque-Bera (JB):                8.167\n",
      "Skew:                           0.317   Prob(JB):                       0.0168\n",
      "Kurtosis:                       2.633   Cond. No.                     3.04e+05\n",
      "==============================================================================\n",
      "\n",
      "Warnings:\n",
      "[1] Standard Errors assume that the covariance matrix of the errors is correctly specified.\n",
      "[2] The condition number is large, 3.04e+05. This might indicate that there are\n",
      "strong multicollinearity or other numerical problems.\n"
     ]
    }
   ],
   "source": [
    "print(pvalue(\"age20accum\")) # pm10 pm25"
   ]
  },
  {
   "cell_type": "markdown",
   "metadata": {},
   "source": [
    "* 20 레저용품"
   ]
  },
  {
   "cell_type": "code",
   "execution_count": 68,
   "metadata": {},
   "outputs": [
    {
     "name": "stdout",
     "output_type": "stream",
     "text": [
      "                            OLS Regression Results                            \n",
      "==============================================================================\n",
      "Dep. Variable:     age20leisure_goods   R-squared:                       0.565\n",
      "Model:                            OLS   Adj. R-squared:                  0.554\n",
      "Method:                 Least Squares   F-statistic:                     51.29\n",
      "Date:                Tue, 10 Sep 2019   Prob (F-statistic):           5.56e-59\n",
      "Time:                        07:15:14   Log-Likelihood:                -2096.1\n",
      "No. Observations:                 365   AIC:                             4212.\n",
      "Df Residuals:                     355   BIC:                             4251.\n",
      "Df Model:                           9                                         \n",
      "Covariance Type:            nonrobust                                         \n",
      "================================================================================\n",
      "                   coef    std err          t      P>|t|      [0.025      0.975]\n",
      "--------------------------------------------------------------------------------\n",
      "Intercept      372.4471     38.689      9.627      0.000     296.358     448.536\n",
      "pm10            -1.4071      0.342     -4.118      0.000      -2.079      -0.735\n",
      "pm25             3.0949      0.464      6.674      0.000       2.183       4.007\n",
      "CONTENT         -0.0125      0.059     -0.212      0.832      -0.128       0.103\n",
      "temp            -1.7428      1.013     -1.720      0.086      -3.736       0.250\n",
      "humi             0.3960      0.838      0.472      0.637      -1.253       2.045\n",
      "rain            -1.4734      0.956     -1.541      0.124      -3.354       0.407\n",
      "CONTENT:temp    -0.0086      0.002     -4.444      0.000      -0.012      -0.005\n",
      "CONTENT:rain     0.0013      0.002      0.784      0.433      -0.002       0.004\n",
      "CONTENT:humi    -0.0017      0.001     -1.291      0.198      -0.004       0.001\n",
      "==============================================================================\n",
      "Omnibus:                       33.610   Durbin-Watson:                   1.286\n",
      "Prob(Omnibus):                  0.000   Jarque-Bera (JB):               66.702\n",
      "Skew:                           0.520   Prob(JB):                     3.28e-15\n",
      "Kurtosis:                       4.817   Cond. No.                     3.04e+05\n",
      "==============================================================================\n",
      "\n",
      "Warnings:\n",
      "[1] Standard Errors assume that the covariance matrix of the errors is correctly specified.\n",
      "[2] The condition number is large, 3.04e+05. This might indicate that there are\n",
      "strong multicollinearity or other numerical problems.\n"
     ]
    }
   ],
   "source": [
    "print(pvalue(\"age20leisure_goods\")) # pm10 pm25"
   ]
  },
  {
   "cell_type": "markdown",
   "metadata": {},
   "source": [
    "* 21 레저업소"
   ]
  },
  {
   "cell_type": "code",
   "execution_count": 28,
   "metadata": {},
   "outputs": [
    {
     "name": "stdout",
     "output_type": "stream",
     "text": [
      "                            OLS Regression Results                            \n",
      "==============================================================================\n",
      "Dep. Variable:      age20leisure_busi   R-squared:                       0.493\n",
      "Model:                            OLS   Adj. R-squared:                  0.480\n",
      "Method:                 Least Squares   F-statistic:                     38.30\n",
      "Date:                Tue, 10 Sep 2019   Prob (F-statistic):           2.85e-47\n",
      "Time:                        05:14:13   Log-Likelihood:                -3032.7\n",
      "No. Observations:                 365   AIC:                             6085.\n",
      "Df Residuals:                     355   BIC:                             6124.\n",
      "Df Model:                           9                                         \n",
      "Covariance Type:            nonrobust                                         \n",
      "================================================================================\n",
      "                   coef    std err          t      P>|t|      [0.025      0.975]\n",
      "--------------------------------------------------------------------------------\n",
      "Intercept     7776.2389    503.519     15.444      0.000    6785.984    8766.494\n",
      "pm10            -8.9303      4.447     -2.008      0.045     -17.676      -0.185\n",
      "pm25            28.9880      6.036      4.803      0.000      17.118      40.858\n",
      "CONTENT          0.2389      0.767      0.311      0.756      -1.270       1.748\n",
      "temp            41.9521     13.190      3.181      0.002      16.011      67.893\n",
      "humi             2.5214     10.912      0.231      0.817     -18.939      23.982\n",
      "rain            -4.1149     12.444     -0.331      0.741     -28.588      20.358\n",
      "CONTENT:temp    -0.1532      0.025     -6.095      0.000      -0.203      -0.104\n",
      "CONTENT:rain     0.0165      0.021      0.788      0.431      -0.025       0.058\n",
      "CONTENT:humi    -0.0303      0.017     -1.734      0.084      -0.065       0.004\n",
      "==============================================================================\n",
      "Omnibus:                        5.885   Durbin-Watson:                   1.132\n",
      "Prob(Omnibus):                  0.053   Jarque-Bera (JB):                8.372\n",
      "Skew:                           0.044   Prob(JB):                       0.0152\n",
      "Kurtosis:                       3.737   Cond. No.                     3.04e+05\n",
      "==============================================================================\n",
      "\n",
      "Warnings:\n",
      "[1] Standard Errors assume that the covariance matrix of the errors is correctly specified.\n",
      "[2] The condition number is large, 3.04e+05. This might indicate that there are\n",
      "strong multicollinearity or other numerical problems.\n"
     ]
    }
   ],
   "source": [
    "print(pvalue(\"age20leisure_busi\")) # pm25"
   ]
  },
  {
   "cell_type": "markdown",
   "metadata": {},
   "source": [
    "* 22 문화취미"
   ]
  },
  {
   "cell_type": "code",
   "execution_count": 59,
   "metadata": {},
   "outputs": [
    {
     "name": "stdout",
     "output_type": "stream",
     "text": [
      "                            OLS Regression Results                            \n",
      "==============================================================================\n",
      "Dep. Variable:           age20culture   R-squared:                       0.191\n",
      "Model:                            OLS   Adj. R-squared:                  0.170\n",
      "Method:                 Least Squares   F-statistic:                     9.285\n",
      "Date:                Tue, 10 Sep 2019   Prob (F-statistic):           1.11e-12\n",
      "Time:                        05:33:55   Log-Likelihood:                -2617.8\n",
      "No. Observations:                 365   AIC:                             5256.\n",
      "Df Residuals:                     355   BIC:                             5295.\n",
      "Df Model:                           9                                         \n",
      "Covariance Type:            nonrobust                                         \n",
      "================================================================================\n",
      "                   coef    std err          t      P>|t|      [0.025      0.975]\n",
      "--------------------------------------------------------------------------------\n",
      "Intercept     1359.1631    161.571      8.412      0.000    1041.405    1676.921\n",
      "pm10            -2.2591      1.427     -1.583      0.114      -5.065       0.547\n",
      "pm25             2.9727      1.937      1.535      0.126      -0.836       6.782\n",
      "CONTENT         -0.5301      0.246     -2.153      0.032      -1.014      -0.046\n",
      "temp             3.7541      4.233      0.887      0.376      -4.570      12.078\n",
      "humi            -3.0606      3.502     -0.874      0.383      -9.947       3.826\n",
      "rain            -0.6536      3.993     -0.164      0.870      -8.507       7.199\n",
      "CONTENT:temp    -0.0114      0.008     -1.419      0.157      -0.027       0.004\n",
      "CONTENT:rain    -0.0011      0.007     -0.168      0.867      -0.014       0.012\n",
      "CONTENT:humi     0.0024      0.006      0.432      0.666      -0.009       0.013\n",
      "==============================================================================\n",
      "Omnibus:                       82.191   Durbin-Watson:                   1.071\n",
      "Prob(Omnibus):                  0.000   Jarque-Bera (JB):              221.862\n",
      "Skew:                           1.058   Prob(JB):                     6.66e-49\n",
      "Kurtosis:                       6.179   Cond. No.                     3.04e+05\n",
      "==============================================================================\n",
      "\n",
      "Warnings:\n",
      "[1] Standard Errors assume that the covariance matrix of the errors is correctly specified.\n",
      "[2] The condition number is large, 3.04e+05. This might indicate that there are\n",
      "strong multicollinearity or other numerical problems.\n"
     ]
    }
   ],
   "source": [
    "print(pvalue('age20culture'))  # CONTENT"
   ]
  },
  {
   "cell_type": "markdown",
   "metadata": {},
   "source": [
    "* 30 가구"
   ]
  },
  {
   "cell_type": "code",
   "execution_count": 29,
   "metadata": {
    "scrolled": false
   },
   "outputs": [
    {
     "name": "stdout",
     "output_type": "stream",
     "text": [
      "                            OLS Regression Results                            \n",
      "==============================================================================\n",
      "Dep. Variable:         age20furniture   R-squared:                       0.052\n",
      "Model:                            OLS   Adj. R-squared:                  0.028\n",
      "Method:                 Least Squares   F-statistic:                     2.161\n",
      "Date:                Tue, 10 Sep 2019   Prob (F-statistic):             0.0242\n",
      "Time:                        05:15:49   Log-Likelihood:                -1125.4\n",
      "No. Observations:                 365   AIC:                             2271.\n",
      "Df Residuals:                     355   BIC:                             2310.\n",
      "Df Model:                           9                                         \n",
      "Covariance Type:            nonrobust                                         \n",
      "================================================================================\n",
      "                   coef    std err          t      P>|t|      [0.025      0.975]\n",
      "--------------------------------------------------------------------------------\n",
      "Intercept        2.1969      2.708      0.811      0.418      -3.128       7.522\n",
      "pm10             0.0001      0.024      0.005      0.996      -0.047       0.047\n",
      "pm25            -0.0081      0.032     -0.249      0.804      -0.072       0.056\n",
      "CONTENT          0.0030      0.004      0.722      0.471      -0.005       0.011\n",
      "temp             0.1551      0.071      2.186      0.029       0.016       0.295\n",
      "humi            -0.0037      0.059     -0.063      0.950      -0.119       0.112\n",
      "rain             0.0686      0.067      1.025      0.306      -0.063       0.200\n",
      "CONTENT:temp    -0.0003      0.000     -2.092      0.037      -0.001   -1.69e-05\n",
      "CONTENT:rain -9.541e-05      0.000     -0.847      0.398      -0.000       0.000\n",
      "CONTENT:humi -3.757e-05    9.4e-05     -0.400      0.690      -0.000       0.000\n",
      "==============================================================================\n",
      "Omnibus:                      113.208   Durbin-Watson:                   2.098\n",
      "Prob(Omnibus):                  0.000   Jarque-Bera (JB):              229.431\n",
      "Skew:                           1.690   Prob(JB):                     1.51e-50\n",
      "Kurtosis:                       4.914   Cond. No.                     3.04e+05\n",
      "==============================================================================\n",
      "\n",
      "Warnings:\n",
      "[1] Standard Errors assume that the covariance matrix of the errors is correctly specified.\n",
      "[2] The condition number is large, 3.04e+05. This might indicate that there are\n",
      "strong multicollinearity or other numerical problems.\n"
     ]
    }
   ],
   "source": [
    "print(pvalue('age20furniture'))  # temp"
   ]
  },
  {
   "cell_type": "markdown",
   "metadata": {},
   "source": [
    "* 전기 31"
   ]
  },
  {
   "cell_type": "code",
   "execution_count": 31,
   "metadata": {},
   "outputs": [
    {
     "name": "stdout",
     "output_type": "stream",
     "text": [
      "                            OLS Regression Results                            \n",
      "==============================================================================\n",
      "Dep. Variable:        age20electronic   R-squared:                       0.007\n",
      "Model:                            OLS   Adj. R-squared:                 -0.018\n",
      "Method:                 Least Squares   F-statistic:                    0.2717\n",
      "Date:                Tue, 10 Sep 2019   Prob (F-statistic):              0.982\n",
      "Time:                        05:17:05   Log-Likelihood:                -697.87\n",
      "No. Observations:                 365   AIC:                             1416.\n",
      "Df Residuals:                     355   BIC:                             1455.\n",
      "Df Model:                           9                                         \n",
      "Covariance Type:            nonrobust                                         \n",
      "================================================================================\n",
      "                   coef    std err          t      P>|t|      [0.025      0.975]\n",
      "--------------------------------------------------------------------------------\n",
      "Intercept       -0.0477      0.839     -0.057      0.955      -1.698       1.603\n",
      "pm10            -0.0018      0.007     -0.248      0.804      -0.016       0.013\n",
      "pm25             0.0029      0.010      0.285      0.776      -0.017       0.023\n",
      "CONTENT          0.0010      0.001      0.749      0.454      -0.002       0.003\n",
      "temp             0.0082      0.022      0.372      0.710      -0.035       0.051\n",
      "humi             0.0012      0.018      0.065      0.948      -0.035       0.037\n",
      "rain            -0.0116      0.021     -0.558      0.577      -0.052       0.029\n",
      "CONTENT:temp -3.919e-06   4.19e-05     -0.094      0.926   -8.63e-05    7.85e-05\n",
      "CONTENT:rain  3.167e-05   3.49e-05      0.907      0.365    -3.7e-05       0.000\n",
      "CONTENT:humi -1.407e-05   2.91e-05     -0.483      0.629   -7.14e-05    4.32e-05\n",
      "==============================================================================\n",
      "Omnibus:                      540.953   Durbin-Watson:                   2.057\n",
      "Prob(Omnibus):                  0.000   Jarque-Bera (JB):            73164.899\n",
      "Skew:                           7.819   Prob(JB):                         0.00\n",
      "Kurtosis:                      70.574   Cond. No.                     3.04e+05\n",
      "==============================================================================\n",
      "\n",
      "Warnings:\n",
      "[1] Standard Errors assume that the covariance matrix of the errors is correctly specified.\n",
      "[2] The condition number is large, 3.04e+05. This might indicate that there are\n",
      "strong multicollinearity or other numerical problems.\n"
     ]
    }
   ],
   "source": [
    "print(pvalue('age20electronic'))"
   ]
  },
  {
   "cell_type": "markdown",
   "metadata": {},
   "source": [
    "* 32 주방용구"
   ]
  },
  {
   "cell_type": "code",
   "execution_count": 34,
   "metadata": {},
   "outputs": [
    {
     "name": "stdout",
     "output_type": "stream",
     "text": [
      "                            OLS Regression Results                            \n",
      "==============================================================================\n",
      "Dep. Variable:           age20kitchen   R-squared:                       0.093\n",
      "Model:                            OLS   Adj. R-squared:                  0.070\n",
      "Method:                 Least Squares   F-statistic:                     4.057\n",
      "Date:                Tue, 10 Sep 2019   Prob (F-statistic):           5.74e-05\n",
      "Time:                        05:17:34   Log-Likelihood:                -1354.5\n",
      "No. Observations:                 365   AIC:                             2729.\n",
      "Df Residuals:                     355   BIC:                             2768.\n",
      "Df Model:                           9                                         \n",
      "Covariance Type:            nonrobust                                         \n",
      "================================================================================\n",
      "                   coef    std err          t      P>|t|      [0.025      0.975]\n",
      "--------------------------------------------------------------------------------\n",
      "Intercept        4.5399      5.072      0.895      0.371      -5.435      14.515\n",
      "pm10             0.0178      0.045      0.397      0.692      -0.070       0.106\n",
      "pm25             0.0482      0.061      0.792      0.429      -0.071       0.168\n",
      "CONTENT         -0.0009      0.008     -0.115      0.909      -0.016       0.014\n",
      "temp            -0.1826      0.133     -1.375      0.170      -0.444       0.079\n",
      "humi             0.1414      0.110      1.286      0.199      -0.075       0.358\n",
      "rain            -0.1671      0.125     -1.333      0.183      -0.414       0.079\n",
      "CONTENT:temp -5.894e-05      0.000     -0.233      0.816      -0.001       0.000\n",
      "CONTENT:rain     0.0002      0.000      0.745      0.457      -0.000       0.001\n",
      "CONTENT:humi    -0.0001      0.000     -0.774      0.439      -0.000       0.000\n",
      "==============================================================================\n",
      "Omnibus:                       71.479   Durbin-Watson:                   1.786\n",
      "Prob(Omnibus):                  0.000   Jarque-Bera (JB):              115.823\n",
      "Skew:                           1.166   Prob(JB):                     7.07e-26\n",
      "Kurtosis:                       4.477   Cond. No.                     3.04e+05\n",
      "==============================================================================\n",
      "\n",
      "Warnings:\n",
      "[1] Standard Errors assume that the covariance matrix of the errors is correctly specified.\n",
      "[2] The condition number is large, 3.04e+05. This might indicate that there are\n",
      "strong multicollinearity or other numerical problems.\n"
     ]
    }
   ],
   "source": [
    "print(pvalue(\"age20kitchen\"))"
   ]
  },
  {
   "cell_type": "markdown",
   "metadata": {},
   "source": [
    "* 33 연료"
   ]
  },
  {
   "cell_type": "code",
   "execution_count": 46,
   "metadata": {},
   "outputs": [
    {
     "name": "stdout",
     "output_type": "stream",
     "text": [
      "                            OLS Regression Results                            \n",
      "==============================================================================\n",
      "Dep. Variable:              age20fuel   R-squared:                       0.414\n",
      "Model:                            OLS   Adj. R-squared:                  0.400\n",
      "Method:                 Least Squares   F-statistic:                     27.92\n",
      "Date:                Tue, 10 Sep 2019   Prob (F-statistic):           1.73e-36\n",
      "Time:                        05:28:04   Log-Likelihood:                -2082.3\n",
      "No. Observations:                 365   AIC:                             4185.\n",
      "Df Residuals:                     355   BIC:                             4224.\n",
      "Df Model:                           9                                         \n",
      "Covariance Type:            nonrobust                                         \n",
      "================================================================================\n",
      "                   coef    std err          t      P>|t|      [0.025      0.975]\n",
      "--------------------------------------------------------------------------------\n",
      "Intercept      530.2253     37.250     14.234      0.000     456.968     603.483\n",
      "pm10            -0.2852      0.329     -0.867      0.387      -0.932       0.362\n",
      "pm25             0.0990      0.447      0.222      0.825      -0.779       0.977\n",
      "CONTENT         -0.1128      0.057     -1.987      0.048      -0.224      -0.001\n",
      "temp             5.2595      0.976      5.390      0.000       3.340       7.179\n",
      "humi            -0.9910      0.807     -1.228      0.220      -2.579       0.597\n",
      "rain            -1.2110      0.921     -1.315      0.189      -3.021       0.599\n",
      "CONTENT:temp    -0.0074      0.002     -3.968      0.000      -0.011      -0.004\n",
      "CONTENT:rain     0.0003      0.002      0.195      0.846      -0.003       0.003\n",
      "CONTENT:humi     0.0006      0.001      0.469      0.639      -0.002       0.003\n",
      "==============================================================================\n",
      "Omnibus:                        0.516   Durbin-Watson:                   1.422\n",
      "Prob(Omnibus):                  0.773   Jarque-Bera (JB):                0.310\n",
      "Skew:                           0.012   Prob(JB):                        0.857\n",
      "Kurtosis:                       3.141   Cond. No.                     3.04e+05\n",
      "==============================================================================\n",
      "\n",
      "Warnings:\n",
      "[1] Standard Errors assume that the covariance matrix of the errors is correctly specified.\n",
      "[2] The condition number is large, 3.04e+05. This might indicate that there are\n",
      "strong multicollinearity or other numerical problems.\n"
     ]
    }
   ],
   "source": [
    "print(pvalue(\"age20fuel\")) # CONTENT, <<temp"
   ]
  },
  {
   "cell_type": "markdown",
   "metadata": {},
   "source": [
    "* 33 광학"
   ]
  },
  {
   "cell_type": "code",
   "execution_count": 47,
   "metadata": {},
   "outputs": [
    {
     "name": "stdout",
     "output_type": "stream",
     "text": [
      "                            OLS Regression Results                            \n",
      "==============================================================================\n",
      "Dep. Variable:             age20optic   R-squared:                       0.275\n",
      "Model:                            OLS   Adj. R-squared:                  0.257\n",
      "Method:                 Least Squares   F-statistic:                     14.95\n",
      "Date:                Tue, 10 Sep 2019   Prob (F-statistic):           1.28e-20\n",
      "Time:                        05:28:31   Log-Likelihood:                -1932.4\n",
      "No. Observations:                 365   AIC:                             3885.\n",
      "Df Residuals:                     355   BIC:                             3924.\n",
      "Df Model:                           9                                         \n",
      "Covariance Type:            nonrobust                                         \n",
      "================================================================================\n",
      "                   coef    std err          t      P>|t|      [0.025      0.975]\n",
      "--------------------------------------------------------------------------------\n",
      "Intercept       47.8180     24.707      1.935      0.054      -0.773      96.409\n",
      "pm10             0.2409      0.218      1.104      0.270      -0.188       0.670\n",
      "pm25             0.4242      0.296      1.432      0.153      -0.158       1.007\n",
      "CONTENT          0.0517      0.038      1.374      0.170      -0.022       0.126\n",
      "temp             0.5013      0.647      0.775      0.439      -0.772       1.774\n",
      "humi            -0.4932      0.535     -0.921      0.358      -1.546       0.560\n",
      "rain             0.0958      0.611      0.157      0.875      -1.105       1.297\n",
      "CONTENT:temp    -0.0019      0.001     -1.504      0.133      -0.004       0.001\n",
      "CONTENT:rain  3.414e-05      0.001      0.033      0.974      -0.002       0.002\n",
      "CONTENT:humi     0.0002      0.001      0.197      0.844      -0.002       0.002\n",
      "==============================================================================\n",
      "Omnibus:                       21.090   Durbin-Watson:                   1.530\n",
      "Prob(Omnibus):                  0.000   Jarque-Bera (JB):               31.257\n",
      "Skew:                           0.424   Prob(JB):                     1.63e-07\n",
      "Kurtosis:                       4.157   Cond. No.                     3.04e+05\n",
      "==============================================================================\n",
      "\n",
      "Warnings:\n",
      "[1] Standard Errors assume that the covariance matrix of the errors is correctly specified.\n",
      "[2] The condition number is large, 3.04e+05. This might indicate that there are\n",
      "strong multicollinearity or other numerical problems.\n"
     ]
    }
   ],
   "source": [
    "print(pvalue(\"age20optic\"))"
   ]
  },
  {
   "cell_type": "markdown",
   "metadata": {},
   "source": [
    "* 35 가전"
   ]
  },
  {
   "cell_type": "code",
   "execution_count": 48,
   "metadata": {},
   "outputs": [
    {
     "name": "stdout",
     "output_type": "stream",
     "text": [
      "                            OLS Regression Results                            \n",
      "==============================================================================\n",
      "Dep. Variable:        age20Appliances   R-squared:                       0.050\n",
      "Model:                            OLS   Adj. R-squared:                  0.026\n",
      "Method:                 Least Squares   F-statistic:                     2.074\n",
      "Date:                Tue, 10 Sep 2019   Prob (F-statistic):             0.0311\n",
      "Time:                        05:29:35   Log-Likelihood:                -1614.1\n",
      "No. Observations:                 365   AIC:                             3248.\n",
      "Df Residuals:                     355   BIC:                             3287.\n",
      "Df Model:                           9                                         \n",
      "Covariance Type:            nonrobust                                         \n",
      "================================================================================\n",
      "                   coef    std err          t      P>|t|      [0.025      0.975]\n",
      "--------------------------------------------------------------------------------\n",
      "Intercept       37.3160     10.329      3.613      0.000      17.003      57.630\n",
      "pm10             0.0035      0.091      0.038      0.970      -0.176       0.183\n",
      "pm25            -0.0291      0.124     -0.235      0.815      -0.273       0.214\n",
      "CONTENT          0.0076      0.016      0.486      0.628      -0.023       0.039\n",
      "temp             0.2389      0.271      0.883      0.378      -0.293       0.771\n",
      "humi            -0.0405      0.224     -0.181      0.856      -0.481       0.400\n",
      "rain            -0.1454      0.255     -0.570      0.569      -0.647       0.357\n",
      "CONTENT:temp     0.0005      0.001      0.912      0.363      -0.001       0.001\n",
      "CONTENT:rain     0.0004      0.000      1.003      0.316      -0.000       0.001\n",
      "CONTENT:humi    -0.0002      0.000     -0.511      0.610      -0.001       0.001\n",
      "==============================================================================\n",
      "Omnibus:                        1.558   Durbin-Watson:                   2.371\n",
      "Prob(Omnibus):                  0.459   Jarque-Bera (JB):                1.628\n",
      "Skew:                           0.153   Prob(JB):                        0.443\n",
      "Kurtosis:                       2.884   Cond. No.                     3.04e+05\n",
      "==============================================================================\n",
      "\n",
      "Warnings:\n",
      "[1] Standard Errors assume that the covariance matrix of the errors is correctly specified.\n",
      "[2] The condition number is large, 3.04e+05. This might indicate that there are\n",
      "strong multicollinearity or other numerical problems.\n"
     ]
    }
   ],
   "source": [
    "print(pvalue(\"age20Appliances\"))"
   ]
  },
  {
   "cell_type": "markdown",
   "metadata": {},
   "source": [
    "* 40 유통업"
   ]
  },
  {
   "cell_type": "code",
   "execution_count": 67,
   "metadata": {},
   "outputs": [
    {
     "name": "stdout",
     "output_type": "stream",
     "text": [
      "                            OLS Regression Results                            \n",
      "==============================================================================\n",
      "Dep. Variable:            age20circul   R-squared:                       0.458\n",
      "Model:                            OLS   Adj. R-squared:                  0.444\n",
      "Method:                 Least Squares   F-statistic:                     33.27\n",
      "Date:                Tue, 10 Sep 2019   Prob (F-statistic):           3.17e-42\n",
      "Time:                        07:14:58   Log-Likelihood:                -3433.1\n",
      "No. Observations:                 365   AIC:                             6886.\n",
      "Df Residuals:                     355   BIC:                             6925.\n",
      "Df Model:                           9                                         \n",
      "Covariance Type:            nonrobust                                         \n",
      "================================================================================\n",
      "                   coef    std err          t      P>|t|      [0.025      0.975]\n",
      "--------------------------------------------------------------------------------\n",
      "Intercept     3.455e+04   1508.029     22.911      0.000    3.16e+04    3.75e+04\n",
      "pm10           -23.6795     13.318     -1.778      0.076     -49.872       2.513\n",
      "pm25            -6.3684     18.077     -0.352      0.725     -41.919      29.182\n",
      "CONTENT         -0.7135      2.298     -0.310      0.756      -5.233       3.806\n",
      "temp            27.6736     39.504      0.701      0.484     -50.018     105.365\n",
      "humi            23.0291     32.682      0.705      0.481     -41.245      87.303\n",
      "rain           -83.2934     37.269     -2.235      0.026    -156.590      -9.997\n",
      "CONTENT:temp     0.3741      0.075      4.968      0.000       0.226       0.522\n",
      "CONTENT:rain    -0.0083      0.063     -0.132      0.895      -0.132       0.115\n",
      "CONTENT:humi    -0.0219      0.052     -0.418      0.676      -0.125       0.081\n",
      "==============================================================================\n",
      "Omnibus:                       13.405   Durbin-Watson:                   0.677\n",
      "Prob(Omnibus):                  0.001   Jarque-Bera (JB):               14.215\n",
      "Skew:                          -0.483   Prob(JB):                     0.000819\n",
      "Kurtosis:                       2.988   Cond. No.                     3.04e+05\n",
      "==============================================================================\n",
      "\n",
      "Warnings:\n",
      "[1] Standard Errors assume that the covariance matrix of the errors is correctly specified.\n",
      "[2] The condition number is large, 3.04e+05. This might indicate that there are\n",
      "strong multicollinearity or other numerical problems.\n"
     ]
    }
   ],
   "source": [
    "print(pvalue(\"age20circul\"))"
   ]
  },
  {
   "cell_type": "markdown",
   "metadata": {},
   "source": [
    "* 42 의복"
   ]
  },
  {
   "cell_type": "code",
   "execution_count": 36,
   "metadata": {},
   "outputs": [
    {
     "name": "stdout",
     "output_type": "stream",
     "text": [
      "                            OLS Regression Results                            \n",
      "==============================================================================\n",
      "Dep. Variable:             age20cloth   R-squared:                       0.258\n",
      "Model:                            OLS   Adj. R-squared:                  0.239\n",
      "Method:                 Least Squares   F-statistic:                     13.70\n",
      "Date:                Tue, 10 Sep 2019   Prob (F-statistic):           6.38e-19\n",
      "Time:                        05:20:49   Log-Likelihood:                -2480.4\n",
      "No. Observations:                 365   AIC:                             4981.\n",
      "Df Residuals:                     355   BIC:                             5020.\n",
      "Df Model:                           9                                         \n",
      "Covariance Type:            nonrobust                                         \n",
      "================================================================================\n",
      "                   coef    std err          t      P>|t|      [0.025      0.975]\n",
      "--------------------------------------------------------------------------------\n",
      "Intercept      406.7377    110.881      3.668      0.000     188.671     624.804\n",
      "pm10             0.3115      0.979      0.318      0.751      -1.614       2.237\n",
      "pm25            -0.9940      1.329     -0.748      0.455      -3.608       1.620\n",
      "CONTENT          0.0268      0.169      0.158      0.874      -0.306       0.359\n",
      "temp             6.8922      2.905      2.373      0.018       1.180      12.605\n",
      "humi             3.2124      2.403      1.337      0.182      -1.513       7.938\n",
      "rain            -5.8234      2.740     -2.125      0.034     -11.213      -0.434\n",
      "CONTENT:temp    -0.0024      0.006     -0.425      0.671      -0.013       0.009\n",
      "CONTENT:rain     0.0050      0.005      1.092      0.276      -0.004       0.014\n",
      "CONTENT:humi    -0.0061      0.004     -1.585      0.114      -0.014       0.001\n",
      "==============================================================================\n",
      "Omnibus:                      443.814   Durbin-Watson:                   1.503\n",
      "Prob(Omnibus):                  0.000   Jarque-Bera (JB):            43556.875\n",
      "Skew:                           5.471   Prob(JB):                         0.00\n",
      "Kurtosis:                      55.386   Cond. No.                     3.04e+05\n",
      "==============================================================================\n",
      "\n",
      "Warnings:\n",
      "[1] Standard Errors assume that the covariance matrix of the errors is correctly specified.\n",
      "[2] The condition number is large, 3.04e+05. This might indicate that there are\n",
      "strong multicollinearity or other numerical problems.\n"
     ]
    }
   ],
   "source": [
    "print(pvalue(\"age20cloth\")) # temp"
   ]
  },
  {
   "cell_type": "markdown",
   "metadata": {},
   "source": [
    "* 43 직물"
   ]
  },
  {
   "cell_type": "code",
   "execution_count": 37,
   "metadata": {},
   "outputs": [
    {
     "name": "stdout",
     "output_type": "stream",
     "text": [
      "                            OLS Regression Results                            \n",
      "==============================================================================\n",
      "Dep. Variable:           age20textile   R-squared:                       0.018\n",
      "Model:                            OLS   Adj. R-squared:                 -0.007\n",
      "Method:                 Least Squares   F-statistic:                    0.7200\n",
      "Date:                Tue, 10 Sep 2019   Prob (F-statistic):              0.691\n",
      "Time:                        05:22:07   Log-Likelihood:                -907.09\n",
      "No. Observations:                 365   AIC:                             1834.\n",
      "Df Residuals:                     355   BIC:                             1873.\n",
      "Df Model:                           9                                         \n",
      "Covariance Type:            nonrobust                                         \n",
      "================================================================================\n",
      "                   coef    std err          t      P>|t|      [0.025      0.975]\n",
      "--------------------------------------------------------------------------------\n",
      "Intercept        1.1085      1.489      0.745      0.457      -1.820       4.037\n",
      "pm10             0.0033      0.013      0.248      0.805      -0.023       0.029\n",
      "pm25             0.0002      0.018      0.009      0.993      -0.035       0.035\n",
      "CONTENT          0.0005      0.002      0.206      0.837      -0.004       0.005\n",
      "temp             0.0119      0.039      0.306      0.760      -0.065       0.089\n",
      "humi            -0.0032      0.032     -0.098      0.922      -0.067       0.060\n",
      "rain            -0.0131      0.037     -0.356      0.722      -0.085       0.059\n",
      "CONTENT:temp -8.289e-06   7.43e-05     -0.112      0.911      -0.000       0.000\n",
      "CONTENT:rain  3.765e-05    6.2e-05      0.608      0.544   -8.42e-05       0.000\n",
      "CONTENT:humi -3.077e-05   5.17e-05     -0.595      0.552      -0.000    7.09e-05\n",
      "==============================================================================\n",
      "Omnibus:                      334.905   Durbin-Watson:                   1.981\n",
      "Prob(Omnibus):                  0.000   Jarque-Bera (JB):             5609.541\n",
      "Skew:                           4.104   Prob(JB):                         0.00\n",
      "Kurtosis:                      20.363   Cond. No.                     3.04e+05\n",
      "==============================================================================\n",
      "\n",
      "Warnings:\n",
      "[1] Standard Errors assume that the covariance matrix of the errors is correctly specified.\n",
      "[2] The condition number is large, 3.04e+05. This might indicate that there are\n",
      "strong multicollinearity or other numerical problems.\n"
     ]
    }
   ],
   "source": [
    "print(pvalue(\"age20textile\")) # temp"
   ]
  },
  {
   "cell_type": "markdown",
   "metadata": {},
   "source": [
    "* 44 신변잡화"
   ]
  },
  {
   "cell_type": "code",
   "execution_count": 38,
   "metadata": {},
   "outputs": [
    {
     "name": "stdout",
     "output_type": "stream",
     "text": [
      "                            OLS Regression Results                            \n",
      "==============================================================================\n",
      "Dep. Variable:             age20stuff   R-squared:                       0.184\n",
      "Model:                            OLS   Adj. R-squared:                  0.163\n",
      "Method:                 Least Squares   F-statistic:                     8.889\n",
      "Date:                Tue, 10 Sep 2019   Prob (F-statistic):           4.21e-12\n",
      "Time:                        05:22:29   Log-Likelihood:                -2089.3\n",
      "No. Observations:                 365   AIC:                             4199.\n",
      "Df Residuals:                     355   BIC:                             4238.\n",
      "Df Model:                           9                                         \n",
      "Covariance Type:            nonrobust                                         \n",
      "================================================================================\n",
      "                   coef    std err          t      P>|t|      [0.025      0.975]\n",
      "--------------------------------------------------------------------------------\n",
      "Intercept      392.5059     37.971     10.337      0.000     317.830     467.182\n",
      "pm10            -0.3395      0.335     -1.012      0.312      -0.999       0.320\n",
      "pm25             0.6142      0.455      1.349      0.178      -0.281       1.509\n",
      "CONTENT         -0.0209      0.058     -0.361      0.718      -0.135       0.093\n",
      "temp             0.8888      0.995      0.894      0.372      -1.067       2.845\n",
      "humi            -0.3729      0.823     -0.453      0.651      -1.991       1.246\n",
      "rain            -2.1017      0.938     -2.240      0.026      -3.947      -0.256\n",
      "CONTENT:temp    -0.0008      0.002     -0.430      0.667      -0.005       0.003\n",
      "CONTENT:rain     0.0018      0.002      1.108      0.268      -0.001       0.005\n",
      "CONTENT:humi    -0.0013      0.001     -1.006      0.315      -0.004       0.001\n",
      "==============================================================================\n",
      "Omnibus:                        5.150   Durbin-Watson:                   1.255\n",
      "Prob(Omnibus):                  0.076   Jarque-Bera (JB):                4.892\n",
      "Skew:                           0.267   Prob(JB):                       0.0866\n",
      "Kurtosis:                       3.189   Cond. No.                     3.04e+05\n",
      "==============================================================================\n",
      "\n",
      "Warnings:\n",
      "[1] Standard Errors assume that the covariance matrix of the errors is correctly specified.\n",
      "[2] The condition number is large, 3.04e+05. This might indicate that there are\n",
      "strong multicollinearity or other numerical problems.\n"
     ]
    }
   ],
   "source": [
    "print(pvalue(\"age20stuff\")) # rain"
   ]
  },
  {
   "cell_type": "markdown",
   "metadata": {},
   "source": [
    "* 50 서적문구"
   ]
  },
  {
   "cell_type": "code",
   "execution_count": 39,
   "metadata": {},
   "outputs": [
    {
     "name": "stdout",
     "output_type": "stream",
     "text": [
      "                            OLS Regression Results                            \n",
      "==============================================================================\n",
      "Dep. Variable:              age20book   R-squared:                       0.116\n",
      "Model:                            OLS   Adj. R-squared:                  0.094\n",
      "Method:                 Least Squares   F-statistic:                     5.189\n",
      "Date:                Tue, 10 Sep 2019   Prob (F-statistic):           1.24e-06\n",
      "Time:                        05:23:33   Log-Likelihood:                -2721.3\n",
      "No. Observations:                 365   AIC:                             5463.\n",
      "Df Residuals:                     355   BIC:                             5502.\n",
      "Df Model:                           9                                         \n",
      "Covariance Type:            nonrobust                                         \n",
      "================================================================================\n",
      "                   coef    std err          t      P>|t|      [0.025      0.975]\n",
      "--------------------------------------------------------------------------------\n",
      "Intercept      981.8847    214.505      4.577      0.000     560.025    1403.744\n",
      "pm10             0.7566      1.894      0.399      0.690      -2.969       4.482\n",
      "pm25             2.1245      2.571      0.826      0.409      -2.932       7.181\n",
      "CONTENT          0.0125      0.327      0.038      0.969      -0.630       0.655\n",
      "temp             3.1861      5.619      0.567      0.571      -7.865      14.237\n",
      "humi            -0.5635      4.649     -0.121      0.904      -9.706       8.579\n",
      "rain             5.4093      5.301      1.020      0.308      -5.017      15.835\n",
      "CONTENT:temp     0.0236      0.011      2.200      0.028       0.003       0.045\n",
      "CONTENT:rain    -0.0100      0.009     -1.124      0.262      -0.028       0.008\n",
      "CONTENT:humi     0.0005      0.007      0.062      0.951      -0.014       0.015\n",
      "==============================================================================\n",
      "Omnibus:                      221.874   Durbin-Watson:                   0.459\n",
      "Prob(Omnibus):                  0.000   Jarque-Bera (JB):             1726.254\n",
      "Skew:                           2.532   Prob(JB):                         0.00\n",
      "Kurtosis:                      12.373   Cond. No.                     3.04e+05\n",
      "==============================================================================\n",
      "\n",
      "Warnings:\n",
      "[1] Standard Errors assume that the covariance matrix of the errors is correctly specified.\n",
      "[2] The condition number is large, 3.04e+05. This might indicate that there are\n",
      "strong multicollinearity or other numerical problems.\n"
     ]
    }
   ],
   "source": [
    "print(pvalue(\"age20book\"))"
   ]
  },
  {
   "cell_type": "markdown",
   "metadata": {},
   "source": [
    "* 52 사무통신"
   ]
  },
  {
   "cell_type": "code",
   "execution_count": 52,
   "metadata": {},
   "outputs": [
    {
     "name": "stdout",
     "output_type": "stream",
     "text": [
      "                            OLS Regression Results                            \n",
      "==============================================================================\n",
      "Dep. Variable:            age20affair   R-squared:                       0.256\n",
      "Model:                            OLS   Adj. R-squared:                  0.238\n",
      "Method:                 Least Squares   F-statistic:                     13.60\n",
      "Date:                Tue, 10 Sep 2019   Prob (F-statistic):           8.87e-19\n",
      "Time:                        05:30:38   Log-Likelihood:                -1771.0\n",
      "No. Observations:                 365   AIC:                             3562.\n",
      "Df Residuals:                     355   BIC:                             3601.\n",
      "Df Model:                           9                                         \n",
      "Covariance Type:            nonrobust                                         \n",
      "================================================================================\n",
      "                   coef    std err          t      P>|t|      [0.025      0.975]\n",
      "--------------------------------------------------------------------------------\n",
      "Intercept       55.4187     15.876      3.491      0.001      24.195      86.642\n",
      "pm10             0.1455      0.140      1.038      0.300      -0.130       0.421\n",
      "pm25            -0.4786      0.190     -2.515      0.012      -0.853      -0.104\n",
      "CONTENT         -0.0337      0.024     -1.395      0.164      -0.081       0.014\n",
      "temp            -1.3463      0.416     -3.237      0.001      -2.164      -0.528\n",
      "humi            -0.3138      0.344     -0.912      0.362      -0.990       0.363\n",
      "rain            -0.1139      0.392     -0.290      0.772      -0.886       0.658\n",
      "CONTENT:temp     0.0036      0.001      4.521      0.000       0.002       0.005\n",
      "CONTENT:rain    -0.0002      0.001     -0.268      0.789      -0.001       0.001\n",
      "CONTENT:humi     0.0010      0.001      1.767      0.078      -0.000       0.002\n",
      "==============================================================================\n",
      "Omnibus:                       53.641   Durbin-Watson:                   1.427\n",
      "Prob(Omnibus):                  0.000   Jarque-Bera (JB):               76.929\n",
      "Skew:                           0.963   Prob(JB):                     1.97e-17\n",
      "Kurtosis:                       4.162   Cond. No.                     3.04e+05\n",
      "==============================================================================\n",
      "\n",
      "Warnings:\n",
      "[1] Standard Errors assume that the covariance matrix of the errors is correctly specified.\n",
      "[2] The condition number is large, 3.04e+05. This might indicate that there are\n",
      "strong multicollinearity or other numerical problems.\n"
     ]
    }
   ],
   "source": [
    "print(pvalue('age20affair'))  # pm25, temp"
   ]
  },
  {
   "cell_type": "markdown",
   "metadata": {},
   "source": [
    "* 60 자동차판매"
   ]
  },
  {
   "cell_type": "code",
   "execution_count": 41,
   "metadata": {},
   "outputs": [
    {
     "name": "stdout",
     "output_type": "stream",
     "text": [
      "                            OLS Regression Results                            \n",
      "==============================================================================\n",
      "Dep. Variable:          age20car_sell   R-squared:                       0.025\n",
      "Model:                            OLS   Adj. R-squared:                  0.000\n",
      "Method:                 Least Squares   F-statistic:                     1.000\n",
      "Date:                Tue, 10 Sep 2019   Prob (F-statistic):              0.439\n",
      "Time:                        05:24:06   Log-Likelihood:                -730.20\n",
      "No. Observations:                 365   AIC:                             1480.\n",
      "Df Residuals:                     355   BIC:                             1519.\n",
      "Df Model:                           9                                         \n",
      "Covariance Type:            nonrobust                                         \n",
      "================================================================================\n",
      "                   coef    std err          t      P>|t|      [0.025      0.975]\n",
      "--------------------------------------------------------------------------------\n",
      "Intercept        1.6706      0.917      1.822      0.069      -0.133       3.474\n",
      "pm10            -0.0063      0.008     -0.779      0.437      -0.022       0.010\n",
      "pm25             0.0016      0.011      0.142      0.887      -0.020       0.023\n",
      "CONTENT         -0.0011      0.001     -0.810      0.419      -0.004       0.002\n",
      "temp             0.0469      0.024      1.954      0.051      -0.000       0.094\n",
      "humi            -0.0321      0.020     -1.614      0.107      -0.071       0.007\n",
      "rain             0.0132      0.023      0.584      0.559      -0.031       0.058\n",
      "CONTENT:temp -6.991e-05   4.58e-05     -1.527      0.128      -0.000    2.01e-05\n",
      "CONTENT:rain -1.983e-05   3.82e-05     -0.520      0.604   -9.49e-05    5.52e-05\n",
      "CONTENT:humi  4.019e-05   3.18e-05      1.263      0.208   -2.24e-05       0.000\n",
      "==============================================================================\n",
      "Omnibus:                      383.979   Durbin-Watson:                   2.109\n",
      "Prob(Omnibus):                  0.000   Jarque-Bera (JB):             9732.950\n",
      "Skew:                           4.875   Prob(JB):                         0.00\n",
      "Kurtosis:                      26.344   Cond. No.                     3.04e+05\n",
      "==============================================================================\n",
      "\n",
      "Warnings:\n",
      "[1] Standard Errors assume that the covariance matrix of the errors is correctly specified.\n",
      "[2] The condition number is large, 3.04e+05. This might indicate that there are\n",
      "strong multicollinearity or other numerical problems.\n"
     ]
    }
   ],
   "source": [
    "print(pvalue(\"age20car_sell\"))"
   ]
  },
  {
   "cell_type": "markdown",
   "metadata": {},
   "source": [
    "* 62 자동차정비"
   ]
  },
  {
   "cell_type": "code",
   "execution_count": 42,
   "metadata": {},
   "outputs": [
    {
     "name": "stdout",
     "output_type": "stream",
     "text": [
      "                            OLS Regression Results                            \n",
      "==============================================================================\n",
      "Dep. Variable:        age20car_repair   R-squared:                       0.067\n",
      "Model:                            OLS   Adj. R-squared:                  0.044\n",
      "Method:                 Least Squares   F-statistic:                     2.851\n",
      "Date:                Tue, 10 Sep 2019   Prob (F-statistic):            0.00295\n",
      "Time:                        05:24:26   Log-Likelihood:                -1831.7\n",
      "No. Observations:                 365   AIC:                             3683.\n",
      "Df Residuals:                     355   BIC:                             3722.\n",
      "Df Model:                           9                                         \n",
      "Covariance Type:            nonrobust                                         \n",
      "================================================================================\n",
      "                   coef    std err          t      P>|t|      [0.025      0.975]\n",
      "--------------------------------------------------------------------------------\n",
      "Intercept      113.6611     18.750      6.062      0.000      76.786     150.536\n",
      "pm10            -0.1122      0.166     -0.677      0.499      -0.438       0.214\n",
      "pm25            -0.0729      0.225     -0.324      0.746      -0.515       0.369\n",
      "CONTENT          0.0033      0.029      0.116      0.908      -0.053       0.060\n",
      "temp            -0.4366      0.491     -0.889      0.375      -1.403       0.529\n",
      "humi            -0.0484      0.406     -0.119      0.905      -0.848       0.751\n",
      "rain            -0.1942      0.463     -0.419      0.675      -1.106       0.717\n",
      "CONTENT:temp     0.0018      0.001      1.895      0.059   -6.73e-05       0.004\n",
      "CONTENT:rain    -0.0001      0.001     -0.138      0.890      -0.002       0.001\n",
      "CONTENT:humi   9.11e-05      0.001      0.140      0.889      -0.001       0.001\n",
      "==============================================================================\n",
      "Omnibus:                        3.138   Durbin-Watson:                   1.465\n",
      "Prob(Omnibus):                  0.208   Jarque-Bera (JB):                3.520\n",
      "Skew:                          -0.034   Prob(JB):                        0.172\n",
      "Kurtosis:                       3.476   Cond. No.                     3.04e+05\n",
      "==============================================================================\n",
      "\n",
      "Warnings:\n",
      "[1] Standard Errors assume that the covariance matrix of the errors is correctly specified.\n",
      "[2] The condition number is large, 3.04e+05. This might indicate that there are\n",
      "strong multicollinearity or other numerical problems.\n"
     ]
    }
   ],
   "source": [
    "print(pvalue(\"age20car_repair\"))"
   ]
  },
  {
   "cell_type": "markdown",
   "metadata": {},
   "source": [
    "* 70 의료기관"
   ]
  },
  {
   "cell_type": "code",
   "execution_count": 43,
   "metadata": {},
   "outputs": [
    {
     "name": "stdout",
     "output_type": "stream",
     "text": [
      "                            OLS Regression Results                            \n",
      "==============================================================================\n",
      "Dep. Variable:           age20medical   R-squared:                       0.145\n",
      "Model:                            OLS   Adj. R-squared:                  0.123\n",
      "Method:                 Least Squares   F-statistic:                     6.664\n",
      "Date:                Tue, 10 Sep 2019   Prob (F-statistic):           8.02e-09\n",
      "Time:                        05:24:48   Log-Likelihood:                -3083.6\n",
      "No. Observations:                 365   AIC:                             6187.\n",
      "Df Residuals:                     355   BIC:                             6226.\n",
      "Df Model:                           9                                         \n",
      "Covariance Type:            nonrobust                                         \n",
      "================================================================================\n",
      "                   coef    std err          t      P>|t|      [0.025      0.975]\n",
      "--------------------------------------------------------------------------------\n",
      "Intercept     2757.0418    578.778      4.764      0.000    1618.777    3895.306\n",
      "pm10             1.3528      5.112      0.265      0.791      -8.700      11.405\n",
      "pm25            -5.6547      6.938     -0.815      0.416     -19.299       7.990\n",
      "CONTENT          0.2274      0.882      0.258      0.797      -1.507       1.962\n",
      "temp           -26.8590     15.162     -1.772      0.077     -56.677       2.959\n",
      "humi            -3.1141     12.543     -0.248      0.804     -27.782      21.554\n",
      "rain             3.4072     14.304      0.238      0.812     -24.724      31.538\n",
      "CONTENT:temp     0.0745      0.029      2.579      0.010       0.018       0.131\n",
      "CONTENT:rain    -0.0213      0.024     -0.885      0.377      -0.069       0.026\n",
      "CONTENT:humi     0.0127      0.020      0.630      0.529      -0.027       0.052\n",
      "==============================================================================\n",
      "Omnibus:                       29.461   Durbin-Watson:                   2.460\n",
      "Prob(Omnibus):                  0.000   Jarque-Bera (JB):               35.195\n",
      "Skew:                          -0.759   Prob(JB):                     2.28e-08\n",
      "Kurtosis:                       2.910   Cond. No.                     3.04e+05\n",
      "==============================================================================\n",
      "\n",
      "Warnings:\n",
      "[1] Standard Errors assume that the covariance matrix of the errors is correctly specified.\n",
      "[2] The condition number is large, 3.04e+05. This might indicate that there are\n",
      "strong multicollinearity or other numerical problems.\n"
     ]
    }
   ],
   "source": [
    "print(pvalue(\"age20medical\"))"
   ]
  },
  {
   "cell_type": "markdown",
   "metadata": {},
   "source": [
    "* 71 보건위생"
   ]
  },
  {
   "cell_type": "code",
   "execution_count": 44,
   "metadata": {
    "scrolled": false
   },
   "outputs": [
    {
     "name": "stdout",
     "output_type": "stream",
     "text": [
      "                            OLS Regression Results                            \n",
      "==============================================================================\n",
      "Dep. Variable:     age20public_health   R-squared:                       0.225\n",
      "Model:                            OLS   Adj. R-squared:                  0.205\n",
      "Method:                 Least Squares   F-statistic:                     11.44\n",
      "Date:                Tue, 10 Sep 2019   Prob (F-statistic):           9.07e-16\n",
      "Time:                        05:25:25   Log-Likelihood:                -2653.4\n",
      "No. Observations:                 365   AIC:                             5327.\n",
      "Df Residuals:                     355   BIC:                             5366.\n",
      "Df Model:                           9                                         \n",
      "Covariance Type:            nonrobust                                         \n",
      "================================================================================\n",
      "                   coef    std err          t      P>|t|      [0.025      0.975]\n",
      "--------------------------------------------------------------------------------\n",
      "Intercept     1949.6481    178.111     10.946      0.000    1599.363    2299.933\n",
      "pm10            -2.5456      1.573     -1.618      0.106      -5.639       0.548\n",
      "pm25             4.5698      2.135      2.140      0.033       0.371       8.769\n",
      "CONTENT          0.2650      0.271      0.976      0.330      -0.269       0.799\n",
      "temp             2.5200      4.666      0.540      0.589      -6.656      11.696\n",
      "humi             7.4025      3.860      1.918      0.056      -0.189      14.994\n",
      "rain           -11.2468      4.402     -2.555      0.011     -19.904      -2.590\n",
      "CONTENT:temp     0.0016      0.009      0.179      0.858      -0.016       0.019\n",
      "CONTENT:rain     0.0095      0.007      1.286      0.199      -0.005       0.024\n",
      "CONTENT:humi    -0.0175      0.006     -2.828      0.005      -0.030      -0.005\n",
      "==============================================================================\n",
      "Omnibus:                       26.285   Durbin-Watson:                   1.046\n",
      "Prob(Omnibus):                  0.000   Jarque-Bera (JB):               85.066\n",
      "Skew:                          -0.190   Prob(JB):                     3.37e-19\n",
      "Kurtosis:                       5.334   Cond. No.                     3.04e+05\n",
      "==============================================================================\n",
      "\n",
      "Warnings:\n",
      "[1] Standard Errors assume that the covariance matrix of the errors is correctly specified.\n",
      "[2] The condition number is large, 3.04e+05. This might indicate that there are\n",
      "strong multicollinearity or other numerical problems.\n"
     ]
    }
   ],
   "source": [
    "print(pvalue(\"age20public_health\")) # pm25, rain"
   ]
  },
  {
   "cell_type": "markdown",
   "metadata": {},
   "source": [
    "* 80 요식업소"
   ]
  },
  {
   "cell_type": "code",
   "execution_count": 45,
   "metadata": {},
   "outputs": [
    {
     "name": "stdout",
     "output_type": "stream",
     "text": [
      "                            OLS Regression Results                            \n",
      "==============================================================================\n",
      "Dep. Variable:              age20food   R-squared:                       0.235\n",
      "Model:                            OLS   Adj. R-squared:                  0.215\n",
      "Method:                 Least Squares   F-statistic:                     12.09\n",
      "Date:                Tue, 10 Sep 2019   Prob (F-statistic):           1.08e-16\n",
      "Time:                        05:26:31   Log-Likelihood:                -3426.7\n",
      "No. Observations:                 365   AIC:                             6873.\n",
      "Df Residuals:                     355   BIC:                             6912.\n",
      "Df Model:                           9                                         \n",
      "Covariance Type:            nonrobust                                         \n",
      "================================================================================\n",
      "                   coef    std err          t      P>|t|      [0.025      0.975]\n",
      "--------------------------------------------------------------------------------\n",
      "Intercept     3.006e+04   1481.867     20.285      0.000    2.71e+04     3.3e+04\n",
      "pm10           -34.8607     13.087     -2.664      0.008     -60.599      -9.122\n",
      "pm25            17.5394     17.763      0.987      0.324     -17.395      52.473\n",
      "CONTENT         -0.2548      2.258     -0.113      0.910      -4.696       4.186\n",
      "temp           -96.9366     38.819     -2.497      0.013    -173.281     -20.593\n",
      "humi            26.4806     32.115      0.825      0.410     -36.679      89.640\n",
      "rain           -65.4660     36.623     -1.788      0.075    -137.491       6.559\n",
      "CONTENT:temp     0.3862      0.074      5.220      0.000       0.241       0.532\n",
      "CONTENT:rain    -0.0064      0.062     -0.104      0.917      -0.128       0.115\n",
      "CONTENT:humi    -0.0615      0.051     -1.195      0.233      -0.163       0.040\n",
      "==============================================================================\n",
      "Omnibus:                       55.581   Durbin-Watson:                   0.610\n",
      "Prob(Omnibus):                  0.000   Jarque-Bera (JB):               95.529\n",
      "Skew:                          -0.887   Prob(JB):                     1.80e-21\n",
      "Kurtosis:                       4.771   Cond. No.                     3.04e+05\n",
      "==============================================================================\n",
      "\n",
      "Warnings:\n",
      "[1] Standard Errors assume that the covariance matrix of the errors is correctly specified.\n",
      "[2] The condition number is large, 3.04e+05. This might indicate that there are\n",
      "strong multicollinearity or other numerical problems.\n"
     ]
    }
   ],
   "source": [
    "print(pvalue(\"age20food\"))# pm10 temp"
   ]
  },
  {
   "cell_type": "markdown",
   "metadata": {},
   "source": [
    "* 81 음료식품"
   ]
  },
  {
   "cell_type": "code",
   "execution_count": 54,
   "metadata": {},
   "outputs": [
    {
     "name": "stdout",
     "output_type": "stream",
     "text": [
      "                            OLS Regression Results                            \n",
      "==============================================================================\n",
      "Dep. Variable:           age20grocery   R-squared:                       0.321\n",
      "Model:                            OLS   Adj. R-squared:                  0.303\n",
      "Method:                 Least Squares   F-statistic:                     18.61\n",
      "Date:                Tue, 10 Sep 2019   Prob (F-statistic):           2.08e-25\n",
      "Time:                        05:31:24   Log-Likelihood:                -2754.2\n",
      "No. Observations:                 365   AIC:                             5528.\n",
      "Df Residuals:                     355   BIC:                             5567.\n",
      "Df Model:                           9                                         \n",
      "Covariance Type:            nonrobust                                         \n",
      "================================================================================\n",
      "                   coef    std err          t      P>|t|      [0.025      0.975]\n",
      "--------------------------------------------------------------------------------\n",
      "Intercept     3109.7218    234.734     13.248      0.000    2648.078    3571.366\n",
      "pm10            -0.3858      2.073     -0.186      0.852      -4.463       3.691\n",
      "pm25            -5.9215      2.814     -2.105      0.036     -11.455      -0.388\n",
      "CONTENT          0.2158      0.358      0.603      0.547      -0.488       0.919\n",
      "temp           -34.4648      6.149     -5.605      0.000     -46.558     -22.372\n",
      "humi             5.1661      5.087      1.016      0.311      -4.839      15.171\n",
      "rain            -5.8092      5.801     -1.001      0.317     -17.218       5.600\n",
      "CONTENT:temp     0.0764      0.012      6.522      0.000       0.053       0.099\n",
      "CONTENT:rain    -0.0019      0.010     -0.194      0.847      -0.021       0.017\n",
      "CONTENT:humi    -0.0035      0.008     -0.424      0.672      -0.019       0.013\n",
      "==============================================================================\n",
      "Omnibus:                       10.594   Durbin-Watson:                   1.077\n",
      "Prob(Omnibus):                  0.005   Jarque-Bera (JB):               14.421\n",
      "Skew:                          -0.243   Prob(JB):                     0.000739\n",
      "Kurtosis:                       3.844   Cond. No.                     3.04e+05\n",
      "==============================================================================\n",
      "\n",
      "Warnings:\n",
      "[1] Standard Errors assume that the covariance matrix of the errors is correctly specified.\n",
      "[2] The condition number is large, 3.04e+05. This might indicate that there are\n",
      "strong multicollinearity or other numerical problems.\n"
     ]
    }
   ],
   "source": [
    "print(pvalue('age20grocery'))  # pm25 <<temp"
   ]
  },
  {
   "cell_type": "markdown",
   "metadata": {},
   "source": [
    "* 92 수리서비스"
   ]
  },
  {
   "cell_type": "code",
   "execution_count": 57,
   "metadata": {},
   "outputs": [
    {
     "name": "stdout",
     "output_type": "stream",
     "text": [
      "                             OLS Regression Results                            \n",
      "===============================================================================\n",
      "Dep. Variable:     age20repair_service   R-squared:                       0.140\n",
      "Model:                             OLS   Adj. R-squared:                  0.119\n",
      "Method:                  Least Squares   F-statistic:                     6.446\n",
      "Date:                 Tue, 10 Sep 2019   Prob (F-statistic):           1.69e-08\n",
      "Time:                         05:32:38   Log-Likelihood:                -2015.4\n",
      "No. Observations:                  365   AIC:                             4051.\n",
      "Df Residuals:                      355   BIC:                             4090.\n",
      "Df Model:                            9                                         \n",
      "Covariance Type:             nonrobust                                         \n",
      "================================================================================\n",
      "                   coef    std err          t      P>|t|      [0.025      0.975]\n",
      "--------------------------------------------------------------------------------\n",
      "Intercept      186.2670     31.013      6.006      0.000     125.275     247.259\n",
      "pm10            -0.0044      0.274     -0.016      0.987      -0.543       0.534\n",
      "pm25            -0.2545      0.372     -0.685      0.494      -0.986       0.477\n",
      "CONTENT         -0.0063      0.047     -0.133      0.894      -0.099       0.087\n",
      "temp            -1.3008      0.812     -1.601      0.110      -2.898       0.297\n",
      "humi             0.4695      0.672      0.699      0.485      -0.852       1.791\n",
      "rain            -0.1529      0.766     -0.199      0.842      -1.660       1.354\n",
      "CONTENT:temp     0.0060      0.002      3.882      0.000       0.003       0.009\n",
      "CONTENT:rain    -0.0004      0.001     -0.302      0.763      -0.003       0.002\n",
      "CONTENT:humi    -0.0003      0.001     -0.261      0.794      -0.002       0.002\n",
      "==============================================================================\n",
      "Omnibus:                        3.469   Durbin-Watson:                   1.777\n",
      "Prob(Omnibus):                  0.176   Jarque-Bera (JB):                2.783\n",
      "Skew:                           0.094   Prob(JB):                        0.249\n",
      "Kurtosis:                       2.616   Cond. No.                     3.04e+05\n",
      "==============================================================================\n",
      "\n",
      "Warnings:\n",
      "[1] Standard Errors assume that the covariance matrix of the errors is correctly specified.\n",
      "[2] The condition number is large, 3.04e+05. This might indicate that there are\n",
      "strong multicollinearity or other numerical problems.\n"
     ]
    }
   ],
   "source": [
    "print(pvalue('age20repair_service'))"
   ]
  },
  {
   "cell_type": "markdown",
   "metadata": {},
   "source": [
    "# GS"
   ]
  },
  {
   "cell_type": "code",
   "execution_count": 60,
   "metadata": {
    "scrolled": false
   },
   "outputs": [
    {
     "name": "stdout",
     "output_type": "stream",
     "text": [
      "                            OLS Regression Results                            \n",
      "==============================================================================\n",
      "Dep. Variable:              LCLS_10_P   R-squared:                       0.168\n",
      "Model:                            OLS   Adj. R-squared:                  0.147\n",
      "Method:                 Least Squares   F-statistic:                     7.968\n",
      "Date:                Tue, 10 Sep 2019   Prob (F-statistic):           9.42e-11\n",
      "Time:                        05:34:30   Log-Likelihood:                -4246.8\n",
      "No. Observations:                 365   AIC:                             8514.\n",
      "Df Residuals:                     355   BIC:                             8553.\n",
      "Df Model:                           9                                         \n",
      "Covariance Type:            nonrobust                                         \n",
      "================================================================================\n",
      "                   coef    std err          t      P>|t|      [0.025      0.975]\n",
      "--------------------------------------------------------------------------------\n",
      "Intercept     3.305e+05    1.4e+04     23.582      0.000    3.03e+05    3.58e+05\n",
      "pm10            23.4118    123.775      0.189      0.850    -220.013     266.836\n",
      "pm25          -252.5885    167.998     -1.504      0.134    -582.985      77.808\n",
      "CONTENT          6.9688     21.357      0.326      0.744     -35.032      48.970\n",
      "temp          1077.7774    367.138      2.936      0.004     355.739    1799.816\n",
      "humi           375.4564    303.732      1.236      0.217    -221.884     972.797\n",
      "rain          -382.0454    346.367     -1.103      0.271   -1063.234     299.143\n",
      "CONTENT:temp    -2.1099      0.700     -3.015      0.003      -3.486      -0.734\n",
      "CONTENT:rain    -0.0674      0.583     -0.116      0.908      -1.215       1.080\n",
      "CONTENT:humi     0.0287      0.486      0.059      0.953      -0.928       0.985\n",
      "==============================================================================\n",
      "Omnibus:                      142.477   Durbin-Watson:                   0.946\n",
      "Prob(Omnibus):                  0.000   Jarque-Bera (JB):             1215.218\n",
      "Skew:                           1.397   Prob(JB):                    1.31e-264\n",
      "Kurtosis:                      11.491   Cond. No.                     3.04e+05\n",
      "==============================================================================\n",
      "\n",
      "Warnings:\n",
      "[1] Standard Errors assume that the covariance matrix of the errors is correctly specified.\n",
      "[2] The condition number is large, 3.04e+05. This might indicate that there are\n",
      "strong multicollinearity or other numerical problems.\n"
     ]
    }
   ],
   "source": [
    "print(pvalue(\"LCLS_10_P\")) # temp"
   ]
  },
  {
   "cell_type": "code",
   "execution_count": 61,
   "metadata": {
    "scrolled": false
   },
   "outputs": [
    {
     "name": "stdout",
     "output_type": "stream",
     "text": [
      "                            OLS Regression Results                            \n",
      "==============================================================================\n",
      "Dep. Variable:              LCLS_20_P   R-squared:                       0.056\n",
      "Model:                            OLS   Adj. R-squared:                  0.032\n",
      "Method:                 Least Squares   F-statistic:                     2.349\n",
      "Date:                Tue, 10 Sep 2019   Prob (F-statistic):             0.0139\n",
      "Time:                        05:35:34   Log-Likelihood:                -4509.9\n",
      "No. Observations:                 365   AIC:                             9040.\n",
      "Df Residuals:                     355   BIC:                             9079.\n",
      "Df Model:                           9                                         \n",
      "Covariance Type:            nonrobust                                         \n",
      "================================================================================\n",
      "                   coef    std err          t      P>|t|      [0.025      0.975]\n",
      "--------------------------------------------------------------------------------\n",
      "Intercept     1.872e+05   2.88e+04      6.496      0.000    1.31e+05    2.44e+05\n",
      "pm10           165.1763    254.523      0.649      0.517    -335.385     665.738\n",
      "pm25            95.1881    345.459      0.276      0.783    -584.216     774.592\n",
      "CONTENT         80.3135     43.916      1.829      0.068      -6.055     166.682\n",
      "temp           707.8551    754.957      0.938      0.349    -776.895    2192.605\n",
      "humi           768.9830    624.574      1.231      0.219    -459.347    1997.313\n",
      "rain          -845.5180    712.244     -1.187      0.236   -2246.267     555.231\n",
      "CONTENT:temp    -1.0583      1.439     -0.736      0.463      -3.888       1.772\n",
      "CONTENT:rain     1.3112      1.199      1.093      0.275      -1.048       3.670\n",
      "CONTENT:humi    -1.9824      1.000     -1.982      0.048      -3.950      -0.015\n",
      "==============================================================================\n",
      "Omnibus:                      481.540   Durbin-Watson:                   0.915\n",
      "Prob(Omnibus):                  0.000   Jarque-Bera (JB):            46671.241\n",
      "Skew:                           6.393   Prob(JB):                         0.00\n",
      "Kurtosis:                      56.901   Cond. No.                     3.04e+05\n",
      "==============================================================================\n",
      "\n",
      "Warnings:\n",
      "[1] Standard Errors assume that the covariance matrix of the errors is correctly specified.\n",
      "[2] The condition number is large, 3.04e+05. This might indicate that there are\n",
      "strong multicollinearity or other numerical problems.\n"
     ]
    }
   ],
   "source": [
    "print(pvalue(\"LCLS_20_P\"))"
   ]
  },
  {
   "cell_type": "code",
   "execution_count": 62,
   "metadata": {
    "scrolled": false
   },
   "outputs": [
    {
     "name": "stdout",
     "output_type": "stream",
     "text": [
      "                            OLS Regression Results                            \n",
      "==============================================================================\n",
      "Dep. Variable:              LCLS_30_P   R-squared:                       0.885\n",
      "Model:                            OLS   Adj. R-squared:                  0.882\n",
      "Method:                 Least Squares   F-statistic:                     304.7\n",
      "Date:                Tue, 10 Sep 2019   Prob (F-statistic):          4.61e-161\n",
      "Time:                        05:35:44   Log-Likelihood:                -4182.4\n",
      "No. Observations:                 365   AIC:                             8385.\n",
      "Df Residuals:                     355   BIC:                             8424.\n",
      "Df Model:                           9                                         \n",
      "Covariance Type:            nonrobust                                         \n",
      "================================================================================\n",
      "                   coef    std err          t      P>|t|      [0.025      0.975]\n",
      "--------------------------------------------------------------------------------\n",
      "Intercept     3.772e+05   1.17e+04     32.109      0.000    3.54e+05       4e+05\n",
      "pm10          -205.1342    103.759     -1.977      0.049    -409.195      -1.074\n",
      "pm25           260.8200    140.831      1.852      0.065     -16.148     537.788\n",
      "CONTENT        -44.5052     17.903     -2.486      0.013     -79.715      -9.296\n",
      "temp          6922.2672    307.768     22.492      0.000    6316.990    7527.545\n",
      "humi         -1035.7693    254.616     -4.068      0.000   -1536.514    -535.024\n",
      "rain         -1478.5770    290.356     -5.092      0.000   -2049.610    -907.544\n",
      "CONTENT:temp    -2.8164      0.587     -4.801      0.000      -3.970      -1.663\n",
      "CONTENT:rain     0.4173      0.489      0.854      0.394      -0.544       1.379\n",
      "CONTENT:humi     0.3773      0.408      0.925      0.355      -0.425       1.179\n",
      "==============================================================================\n",
      "Omnibus:                       17.451   Durbin-Watson:                   1.458\n",
      "Prob(Omnibus):                  0.000   Jarque-Bera (JB):               26.896\n",
      "Skew:                          -0.343   Prob(JB):                     1.44e-06\n",
      "Kurtosis:                       4.139   Cond. No.                     3.04e+05\n",
      "==============================================================================\n",
      "\n",
      "Warnings:\n",
      "[1] Standard Errors assume that the covariance matrix of the errors is correctly specified.\n",
      "[2] The condition number is large, 3.04e+05. This might indicate that there are\n",
      "strong multicollinearity or other numerical problems.\n"
     ]
    }
   ],
   "source": [
    "print(pvalue(\"LCLS_30_P\")) # pm10 CONTENT << temp humi rain"
   ]
  },
  {
   "cell_type": "code",
   "execution_count": 63,
   "metadata": {
    "scrolled": false
   },
   "outputs": [
    {
     "name": "stdout",
     "output_type": "stream",
     "text": [
      "                            OLS Regression Results                            \n",
      "==============================================================================\n",
      "Dep. Variable:              LCLS_40_P   R-squared:                       0.028\n",
      "Model:                            OLS   Adj. R-squared:                  0.004\n",
      "Method:                 Least Squares   F-statistic:                     1.146\n",
      "Date:                Tue, 10 Sep 2019   Prob (F-statistic):              0.330\n",
      "Time:                        05:35:51   Log-Likelihood:                -3592.1\n",
      "No. Observations:                 365   AIC:                             7204.\n",
      "Df Residuals:                     355   BIC:                             7243.\n",
      "Df Model:                           9                                         \n",
      "Covariance Type:            nonrobust                                         \n",
      "================================================================================\n",
      "                   coef    std err          t      P>|t|      [0.025      0.975]\n",
      "--------------------------------------------------------------------------------\n",
      "Intercept     2.877e+04   2331.629     12.340      0.000    2.42e+04    3.34e+04\n",
      "pm10            18.2595     20.592      0.887      0.376     -22.238      58.757\n",
      "pm25           -35.0900     27.949     -1.255      0.210     -90.057      19.877\n",
      "CONTENT         -4.3016      3.553     -1.211      0.227     -11.289       2.686\n",
      "temp            62.3624     61.079      1.021      0.308     -57.760     182.485\n",
      "humi           -49.4457     50.531     -0.979      0.328    -148.823      49.931\n",
      "rain            -4.8859     57.624     -0.085      0.932    -118.212     108.441\n",
      "CONTENT:temp    -0.1325      0.116     -1.138      0.256      -0.361       0.096\n",
      "CONTENT:rain    -0.0358      0.097     -0.369      0.712      -0.227       0.155\n",
      "CONTENT:humi     0.0855      0.081      1.057      0.291      -0.074       0.245\n",
      "==============================================================================\n",
      "Omnibus:                      353.560   Durbin-Watson:                   1.831\n",
      "Prob(Omnibus):                  0.000   Jarque-Bera (JB):            16392.614\n",
      "Skew:                           3.942   Prob(JB):                         0.00\n",
      "Kurtosis:                      34.870   Cond. No.                     3.04e+05\n",
      "==============================================================================\n",
      "\n",
      "Warnings:\n",
      "[1] Standard Errors assume that the covariance matrix of the errors is correctly specified.\n",
      "[2] The condition number is large, 3.04e+05. This might indicate that there are\n",
      "strong multicollinearity or other numerical problems.\n"
     ]
    }
   ],
   "source": [
    "print(pvalue(\"LCLS_40_P\"))"
   ]
  },
  {
   "cell_type": "code",
   "execution_count": 64,
   "metadata": {
    "scrolled": false
   },
   "outputs": [
    {
     "name": "stdout",
     "output_type": "stream",
     "text": [
      "                            OLS Regression Results                            \n",
      "==============================================================================\n",
      "Dep. Variable:              LCLS_50_P   R-squared:                       0.328\n",
      "Model:                            OLS   Adj. R-squared:                  0.311\n",
      "Method:                 Least Squares   F-statistic:                     19.29\n",
      "Date:                Tue, 10 Sep 2019   Prob (F-statistic):           2.91e-26\n",
      "Time:                        05:35:59   Log-Likelihood:                -3898.7\n",
      "No. Observations:                 365   AIC:                             7817.\n",
      "Df Residuals:                     355   BIC:                             7856.\n",
      "Df Model:                           9                                         \n",
      "Covariance Type:            nonrobust                                         \n",
      "================================================================================\n",
      "                   coef    std err          t      P>|t|      [0.025      0.975]\n",
      "--------------------------------------------------------------------------------\n",
      "Intercept     2.867e+04   5400.873      5.308      0.000     1.8e+04    3.93e+04\n",
      "pm10            18.9195     47.698      0.397      0.692     -74.887     112.726\n",
      "pm25            47.5603     64.740      0.735      0.463     -79.762     174.882\n",
      "CONTENT         -1.7315      8.230     -0.210      0.833     -17.917      14.454\n",
      "temp          -146.0690    141.481     -1.032      0.303    -424.315     132.177\n",
      "humi           404.0605    117.047      3.452      0.001     173.868     634.253\n",
      "rain           195.4557    133.477      1.464      0.144     -67.048     457.960\n",
      "CONTENT:temp    -0.3169      0.270     -1.175      0.241      -0.847       0.213\n",
      "CONTENT:rain     0.2505      0.225      1.114      0.266      -0.192       0.693\n",
      "CONTENT:humi    -0.1392      0.187     -0.742      0.458      -0.508       0.229\n",
      "==============================================================================\n",
      "Omnibus:                      169.507   Durbin-Watson:                   1.780\n",
      "Prob(Omnibus):                  0.000   Jarque-Bera (JB):              860.704\n",
      "Skew:                           1.958   Prob(JB):                    1.26e-187\n",
      "Kurtosis:                       9.423   Cond. No.                     3.04e+05\n",
      "==============================================================================\n",
      "\n",
      "Warnings:\n",
      "[1] Standard Errors assume that the covariance matrix of the errors is correctly specified.\n",
      "[2] The condition number is large, 3.04e+05. This might indicate that there are\n",
      "strong multicollinearity or other numerical problems.\n"
     ]
    }
   ],
   "source": [
    "print(pvalue(\"LCLS_50_P\")) # humi"
   ]
  },
  {
   "cell_type": "code",
   "execution_count": 65,
   "metadata": {
    "scrolled": false
   },
   "outputs": [
    {
     "name": "stdout",
     "output_type": "stream",
     "text": [
      "                            OLS Regression Results                            \n",
      "==============================================================================\n",
      "Dep. Variable:              LCLS_70_P   R-squared:                       0.144\n",
      "Model:                            OLS   Adj. R-squared:                  0.123\n",
      "Method:                 Least Squares   F-statistic:                     6.662\n",
      "Date:                Tue, 10 Sep 2019   Prob (F-statistic):           8.05e-09\n",
      "Time:                        05:36:10   Log-Likelihood:                -3125.5\n",
      "No. Observations:                 365   AIC:                             6271.\n",
      "Df Residuals:                     355   BIC:                             6310.\n",
      "Df Model:                           9                                         \n",
      "Covariance Type:            nonrobust                                         \n",
      "================================================================================\n",
      "                   coef    std err          t      P>|t|      [0.025      0.975]\n",
      "--------------------------------------------------------------------------------\n",
      "Intercept     9025.6428    649.304     13.900      0.000    7748.677    1.03e+04\n",
      "pm10            -3.6042      5.734     -0.629      0.530     -14.882       7.673\n",
      "pm25             7.5500      7.783      0.970      0.333      -7.757      22.857\n",
      "CONTENT         -1.7037      0.989     -1.722      0.086      -3.650       0.242\n",
      "temp            37.7186     17.009      2.218      0.027       4.267      71.170\n",
      "humi           -19.8704     14.072     -1.412      0.159     -47.545       7.804\n",
      "rain             0.8022     16.047      0.050      0.960     -30.757      32.361\n",
      "CONTENT:temp    -0.0213      0.032     -0.658      0.511      -0.085       0.042\n",
      "CONTENT:rain    -0.0226      0.027     -0.835      0.404      -0.076       0.031\n",
      "CONTENT:humi     0.0139      0.023      0.618      0.537      -0.030       0.058\n",
      "==============================================================================\n",
      "Omnibus:                       43.080   Durbin-Watson:                   1.763\n",
      "Prob(Omnibus):                  0.000   Jarque-Bera (JB):               64.519\n",
      "Skew:                           0.767   Prob(JB):                     9.77e-15\n",
      "Kurtosis:                       4.374   Cond. No.                     3.04e+05\n",
      "==============================================================================\n",
      "\n",
      "Warnings:\n",
      "[1] Standard Errors assume that the covariance matrix of the errors is correctly specified.\n",
      "[2] The condition number is large, 3.04e+05. This might indicate that there are\n",
      "strong multicollinearity or other numerical problems.\n"
     ]
    }
   ],
   "source": [
    "print(pvalue(\"LCLS_70_P\")) # temp"
   ]
  },
  {
   "cell_type": "code",
   "execution_count": 66,
   "metadata": {
    "scrolled": false
   },
   "outputs": [
    {
     "name": "stdout",
     "output_type": "stream",
     "text": [
      "                            OLS Regression Results                            \n",
      "==============================================================================\n",
      "Dep. Variable:              LCLS_80_P   R-squared:                       0.300\n",
      "Model:                            OLS   Adj. R-squared:                  0.283\n",
      "Method:                 Least Squares   F-statistic:                     16.94\n",
      "Date:                Tue, 10 Sep 2019   Prob (F-statistic):           3.01e-23\n",
      "Time:                        05:36:27   Log-Likelihood:                -3176.3\n",
      "No. Observations:                 365   AIC:                             6373.\n",
      "Df Residuals:                     355   BIC:                             6412.\n",
      "Df Model:                           9                                         \n",
      "Covariance Type:            nonrobust                                         \n",
      "================================================================================\n",
      "                   coef    std err          t      P>|t|      [0.025      0.975]\n",
      "--------------------------------------------------------------------------------\n",
      "Intercept     6037.8816    746.191      8.092      0.000    4570.372    7505.392\n",
      "pm10             0.4802      6.590      0.073      0.942     -12.480      13.441\n",
      "pm25            -5.0435      8.945     -0.564      0.573     -22.635      12.547\n",
      "CONTENT         -1.3935      1.137     -1.225      0.221      -3.630       0.843\n",
      "temp            87.4236     19.547      4.472      0.000      48.981     125.866\n",
      "humi           -25.5508     16.171     -1.580      0.115     -57.354       6.253\n",
      "rain           -20.3075     18.441     -1.101      0.272     -56.575      15.960\n",
      "CONTENT:temp    -0.0195      0.037     -0.524      0.601      -0.093       0.054\n",
      "CONTENT:rain    -0.0043      0.031     -0.138      0.891      -0.065       0.057\n",
      "CONTENT:humi     0.0128      0.026      0.496      0.620      -0.038       0.064\n",
      "==============================================================================\n",
      "Omnibus:                      139.024   Durbin-Watson:                   1.525\n",
      "Prob(Omnibus):                  0.000   Jarque-Bera (JB):              583.169\n",
      "Skew:                           1.622   Prob(JB):                    2.33e-127\n",
      "Kurtosis:                       8.275   Cond. No.                     3.04e+05\n",
      "==============================================================================\n",
      "\n",
      "Warnings:\n",
      "[1] Standard Errors assume that the covariance matrix of the errors is correctly specified.\n",
      "[2] The condition number is large, 3.04e+05. This might indicate that there are\n",
      "strong multicollinearity or other numerical problems.\n"
     ]
    }
   ],
   "source": [
    "print(pvalue(\"LCLS_80_P\")) # temp"
   ]
  }
 ],
 "metadata": {
  "kernelspec": {
   "display_name": "2019BigC",
   "language": "python",
   "name": "2019bigc"
  },
  "language_info": {
   "codemirror_mode": {
    "name": "ipython",
    "version": 3
   },
   "file_extension": ".py",
   "mimetype": "text/x-python",
   "name": "python",
   "nbconvert_exporter": "python",
   "pygments_lexer": "ipython3",
   "version": "3.7.3"
  }
 },
 "nbformat": 4,
 "nbformat_minor": 4
}

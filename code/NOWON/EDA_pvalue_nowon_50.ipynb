{
 "cells": [
  {
   "cell_type": "markdown",
   "metadata": {},
   "source": [
    "# Multi Linear Regression을 이용하여 p-value 계산하기\n",
    "## p-value : 귀무가설을 가정하였을 때 표본 이상으로 극단적인 결과를 얻을 확률\n",
    "## 귀무가설 : Multi Linear Regression을 사용하여 회귀모델을 설계할 때 각 feature의 coefficient가 0이 됨\n",
    "- 따라서 p-value는 극단적인 결과를 얻을 확률이 적어야 안정적인 해당 feature가 안정적이라고 할 수 있다."
   ]
  },
  {
   "cell_type": "code",
   "execution_count": 1,
   "metadata": {},
   "outputs": [],
   "source": [
    "import warnings\n",
    "warnings.filterwarnings(\"ignore\")\n",
    "\n",
    "import pandas as pd\n",
    "import numpy as np\n",
    "\n",
    "import sklearn\n",
    "from sklearn.linear_model import Lasso, Ridge\n",
    "from sklearn.model_selection import train_test_split\n",
    "\n",
    "import matplotlib.pyplot as plt\n",
    "%matplotlib inline\n",
    "\n",
    "import scipy.stats as stats\n",
    "import urllib\n",
    "from statsmodels.formula.api import ols\n",
    "import statsmodels.api as sm\n",
    "from statsmodels.stats.anova import anova_lm\n",
    "from sklearn.linear_model import Lasso, Ridge\n",
    "from sklearn.model_selection import train_test_split"
   ]
  },
  {
   "cell_type": "code",
   "execution_count": 3,
   "metadata": {},
   "outputs": [],
   "source": [
    "# 나이대 별로 약 20개 이상의 feature에 대한 p-value를 확인해야하므로 나이대 별로 서로 다른 파일에 저장\n",
    "df_50 = pd.read_csv('../data/innovation/Merge_data/df_age50_nowon.csv')"
   ]
  },
  {
   "cell_type": "code",
   "execution_count": 4,
   "metadata": {},
   "outputs": [
    {
     "data": {
      "text/plain": [
       "Index(['age50accum', 'age50leisure goods', 'age50leisure busi', 'age50culture',\n",
       "       'age50furniture', 'age50electronic', 'age50kitchen', 'age50fuel',\n",
       "       'age50optic', 'age50Appliances', 'age50circul', 'age50cloth',\n",
       "       'age50textile', 'age50stuff', 'age50book', 'age50affair',\n",
       "       'age50car sell', 'age50car repair', 'age50medical',\n",
       "       'age50public health', 'age50food', 'age50grocery',\n",
       "       'age50repair survice', 'age50', 'LCLS_10_P', 'LCLS_20_P', 'LCLS_30_P',\n",
       "       'LCLS_40_P', 'LCLS_50_P', 'LCLS_60_P', 'LCLS_70_P', 'LCLS_80_P', 'pm10',\n",
       "       'pm25', 'humi', 'temp', 'CONTENT', 'rain'],\n",
       "      dtype='object')"
      ]
     },
     "execution_count": 4,
     "metadata": {},
     "output_type": "execute_result"
    }
   ],
   "source": [
    "df_50.columns"
   ]
  },
  {
   "cell_type": "code",
   "execution_count": 5,
   "metadata": {},
   "outputs": [],
   "source": [
    "df_50.columns = ['age50accum', 'age50leisure_goods', 'age50leisure_busi', 'age50culture',\n",
    "       'age50furniture', 'age50electronic', 'age50kitchen', 'age50fuel',\n",
    "       'age50optic', 'age50Appliances', 'age50circul', 'age50cloth',\n",
    "       'age50textile', 'age50stuff', 'age50book', 'age50affair',\n",
    "       'age50car_sell', 'age50car_repair', 'age50medical',\n",
    "       'age50public_health', 'age50food', 'age50grocery',\n",
    "       'age50repair_service', 'age50', 'LCLS_10_P', 'LCLS_20_P', 'LCLS_30_P',\n",
    "       'LCLS_40_P', 'LCLS_50_P', 'LCLS_60_P', 'LCLS_70_P', 'LCLS_80_P', 'pm10',\n",
    "       'pm25', 'humi', 'temp', 'CONTENT', 'rain']"
   ]
  },
  {
   "cell_type": "code",
   "execution_count": 6,
   "metadata": {},
   "outputs": [],
   "source": [
    "def pvalue(col_name):\n",
    "    formula = col_name + ' ~ pm10 + pm25 + temp + humi + CONTENT + rain + CONTENT:temp + CONTENT:rain + CONTENT:humi'\n",
    "    lm = ols(formula, df_50).fit()\n",
    "    return lm.summary()"
   ]
  },
  {
   "cell_type": "markdown",
   "metadata": {},
   "source": [
    "# p-value확인"
   ]
  },
  {
   "cell_type": "markdown",
   "metadata": {},
   "source": [
    "* 10 숙박"
   ]
  },
  {
   "cell_type": "code",
   "execution_count": 7,
   "metadata": {},
   "outputs": [
    {
     "name": "stdout",
     "output_type": "stream",
     "text": [
      "                            OLS Regression Results                            \n",
      "==============================================================================\n",
      "Dep. Variable:             age50accum   R-squared:                       0.132\n",
      "Model:                            OLS   Adj. R-squared:                  0.110\n",
      "Method:                 Least Squares   F-statistic:                     5.998\n",
      "Date:                Tue, 10 Sep 2019   Prob (F-statistic):           7.81e-08\n",
      "Time:                        05:52:23   Log-Likelihood:                -1541.9\n",
      "No. Observations:                 365   AIC:                             3104.\n",
      "Df Residuals:                     355   BIC:                             3143.\n",
      "Df Model:                           9                                         \n",
      "Covariance Type:            nonrobust                                         \n",
      "================================================================================\n",
      "                   coef    std err          t      P>|t|      [0.025      0.975]\n",
      "--------------------------------------------------------------------------------\n",
      "Intercept       53.2948      8.476      6.288      0.000      36.626      69.964\n",
      "pm10            -0.1531      0.075     -2.046      0.042      -0.300      -0.006\n",
      "pm25             0.2828      0.102      2.783      0.006       0.083       0.483\n",
      "temp             0.2981      0.222      1.343      0.180      -0.139       0.735\n",
      "humi            -0.1845      0.184     -1.005      0.316      -0.546       0.177\n",
      "CONTENT         -0.0111      0.013     -0.859      0.391      -0.036       0.014\n",
      "rain             0.2736      0.209      1.306      0.192      -0.138       0.686\n",
      "CONTENT:temp    -0.0011      0.000     -2.606      0.010      -0.002      -0.000\n",
      "CONTENT:rain    -0.0003      0.000     -0.784      0.433      -0.001       0.000\n",
      "CONTENT:humi     0.0001      0.000      0.363      0.717      -0.000       0.001\n",
      "==============================================================================\n",
      "Omnibus:                        4.212   Durbin-Watson:                   1.947\n",
      "Prob(Omnibus):                  0.122   Jarque-Bera (JB):                5.096\n",
      "Skew:                           0.069   Prob(JB):                       0.0782\n",
      "Kurtosis:                       3.562   Cond. No.                     3.04e+05\n",
      "==============================================================================\n",
      "\n",
      "Warnings:\n",
      "[1] Standard Errors assume that the covariance matrix of the errors is correctly specified.\n",
      "[2] The condition number is large, 3.04e+05. This might indicate that there are\n",
      "strong multicollinearity or other numerical problems.\n"
     ]
    }
   ],
   "source": [
    "print(pvalue(\"age50accum\")) # pm10 pm25"
   ]
  },
  {
   "cell_type": "markdown",
   "metadata": {},
   "source": [
    "* 20 레저용품"
   ]
  },
  {
   "cell_type": "code",
   "execution_count": 9,
   "metadata": {},
   "outputs": [
    {
     "name": "stdout",
     "output_type": "stream",
     "text": [
      "                            OLS Regression Results                            \n",
      "==============================================================================\n",
      "Dep. Variable:     age50leisure_goods   R-squared:                       0.234\n",
      "Model:                            OLS   Adj. R-squared:                  0.215\n",
      "Method:                 Least Squares   F-statistic:                     12.06\n",
      "Date:                Tue, 10 Sep 2019   Prob (F-statistic):           1.21e-16\n",
      "Time:                        05:52:39   Log-Likelihood:                -1939.8\n",
      "No. Observations:                 365   AIC:                             3900.\n",
      "Df Residuals:                     355   BIC:                             3939.\n",
      "Df Model:                           9                                         \n",
      "Covariance Type:            nonrobust                                         \n",
      "================================================================================\n",
      "                   coef    std err          t      P>|t|      [0.025      0.975]\n",
      "--------------------------------------------------------------------------------\n",
      "Intercept      260.8802     25.211     10.348      0.000     211.299     310.462\n",
      "pm10            -0.7846      0.223     -3.524      0.000      -1.223      -0.347\n",
      "pm25             1.3723      0.302      4.541      0.000       0.778       1.967\n",
      "temp            -0.0835      0.660     -0.126      0.899      -1.382       1.215\n",
      "humi            -0.8266      0.546     -1.513      0.131      -1.901       0.248\n",
      "CONTENT         -0.0691      0.038     -1.798      0.073      -0.145       0.006\n",
      "rain            -0.7309      0.623     -1.173      0.242      -1.956       0.494\n",
      "CONTENT:temp    -0.0006      0.001     -0.505      0.614      -0.003       0.002\n",
      "CONTENT:rain  -5.31e-05      0.001     -0.051      0.960      -0.002       0.002\n",
      "CONTENT:humi     0.0002      0.001      0.221      0.825      -0.002       0.002\n",
      "==============================================================================\n",
      "Omnibus:                       13.157   Durbin-Watson:                   1.394\n",
      "Prob(Omnibus):                  0.001   Jarque-Bera (JB):               17.461\n",
      "Skew:                           0.312   Prob(JB):                     0.000162\n",
      "Kurtosis:                       3.872   Cond. No.                     3.04e+05\n",
      "==============================================================================\n",
      "\n",
      "Warnings:\n",
      "[1] Standard Errors assume that the covariance matrix of the errors is correctly specified.\n",
      "[2] The condition number is large, 3.04e+05. This might indicate that there are\n",
      "strong multicollinearity or other numerical problems.\n"
     ]
    }
   ],
   "source": [
    "print(pvalue(\"age50leisure_goods\")) # pm10 pm25"
   ]
  },
  {
   "cell_type": "markdown",
   "metadata": {},
   "source": [
    "* 21 레저업소"
   ]
  },
  {
   "cell_type": "code",
   "execution_count": 10,
   "metadata": {},
   "outputs": [
    {
     "name": "stdout",
     "output_type": "stream",
     "text": [
      "                            OLS Regression Results                            \n",
      "==============================================================================\n",
      "Dep. Variable:      age50leisure_busi   R-squared:                       0.354\n",
      "Model:                            OLS   Adj. R-squared:                  0.338\n",
      "Method:                 Least Squares   F-statistic:                     21.65\n",
      "Date:                Tue, 10 Sep 2019   Prob (F-statistic):           3.45e-29\n",
      "Time:                        05:52:51   Log-Likelihood:                -2403.5\n",
      "No. Observations:                 365   AIC:                             4827.\n",
      "Df Residuals:                     355   BIC:                             4866.\n",
      "Df Model:                           9                                         \n",
      "Covariance Type:            nonrobust                                         \n",
      "================================================================================\n",
      "                   coef    std err          t      P>|t|      [0.025      0.975]\n",
      "--------------------------------------------------------------------------------\n",
      "Intercept     1061.8482     89.820     11.822      0.000     885.202    1238.495\n",
      "pm10            -1.2945      0.793     -1.632      0.104      -2.855       0.266\n",
      "pm25             3.4161      1.077      3.173      0.002       1.299       5.534\n",
      "temp             4.4407      2.353      1.887      0.060      -0.187       9.068\n",
      "humi            -0.1258      1.947     -0.065      0.949      -3.954       3.702\n",
      "CONTENT         -0.1022      0.137     -0.747      0.456      -0.371       0.167\n",
      "rain            -2.4103      2.220     -1.086      0.278      -6.776       1.955\n",
      "CONTENT:temp    -0.0171      0.004     -3.816      0.000      -0.026      -0.008\n",
      "CONTENT:rain     0.0036      0.004      0.966      0.335      -0.004       0.011\n",
      "CONTENT:humi    -0.0030      0.003     -0.973      0.331      -0.009       0.003\n",
      "==============================================================================\n",
      "Omnibus:                       13.197   Durbin-Watson:                   1.474\n",
      "Prob(Omnibus):                  0.001   Jarque-Bera (JB):               15.609\n",
      "Skew:                           0.358   Prob(JB):                     0.000408\n",
      "Kurtosis:                       3.717   Cond. No.                     3.04e+05\n",
      "==============================================================================\n",
      "\n",
      "Warnings:\n",
      "[1] Standard Errors assume that the covariance matrix of the errors is correctly specified.\n",
      "[2] The condition number is large, 3.04e+05. This might indicate that there are\n",
      "strong multicollinearity or other numerical problems.\n"
     ]
    }
   ],
   "source": [
    "print(pvalue(\"age50leisure_busi\")) # pm25"
   ]
  },
  {
   "cell_type": "markdown",
   "metadata": {},
   "source": [
    "* 22 문화취미"
   ]
  },
  {
   "cell_type": "code",
   "execution_count": 12,
   "metadata": {},
   "outputs": [
    {
     "name": "stdout",
     "output_type": "stream",
     "text": [
      "                            OLS Regression Results                            \n",
      "==============================================================================\n",
      "Dep. Variable:           age50culture   R-squared:                       0.273\n",
      "Model:                            OLS   Adj. R-squared:                  0.254\n",
      "Method:                 Least Squares   F-statistic:                     14.80\n",
      "Date:                Tue, 10 Sep 2019   Prob (F-statistic):           2.03e-20\n",
      "Time:                        05:54:04   Log-Likelihood:                -2302.7\n",
      "No. Observations:                 365   AIC:                             4625.\n",
      "Df Residuals:                     355   BIC:                             4664.\n",
      "Df Model:                           9                                         \n",
      "Covariance Type:            nonrobust                                         \n",
      "================================================================================\n",
      "                   coef    std err          t      P>|t|      [0.025      0.975]\n",
      "--------------------------------------------------------------------------------\n",
      "Intercept      456.0919     68.145      6.693      0.000     322.074     590.110\n",
      "pm10             0.1025      0.602      0.170      0.865      -1.081       1.286\n",
      "pm25             0.8702      0.817      1.065      0.287      -0.736       2.477\n",
      "temp             6.5472      1.785      3.668      0.000       3.036      10.058\n",
      "humi            -1.6448      1.477     -1.114      0.266      -4.549       1.260\n",
      "CONTENT         -0.1249      0.104     -1.203      0.230      -0.329       0.079\n",
      "rain            -0.1356      1.684     -0.081      0.936      -3.448       3.176\n",
      "CONTENT:temp    -0.0156      0.003     -4.573      0.000      -0.022      -0.009\n",
      "CONTENT:rain    -0.0002      0.003     -0.073      0.942      -0.006       0.005\n",
      "CONTENT:humi     0.0008      0.002      0.339      0.734      -0.004       0.005\n",
      "==============================================================================\n",
      "Omnibus:                       46.680   Durbin-Watson:                   0.722\n",
      "Prob(Omnibus):                  0.000   Jarque-Bera (JB):               64.441\n",
      "Skew:                           0.872   Prob(JB):                     1.02e-14\n",
      "Kurtosis:                       4.093   Cond. No.                     3.04e+05\n",
      "==============================================================================\n",
      "\n",
      "Warnings:\n",
      "[1] Standard Errors assume that the covariance matrix of the errors is correctly specified.\n",
      "[2] The condition number is large, 3.04e+05. This might indicate that there are\n",
      "strong multicollinearity or other numerical problems.\n"
     ]
    }
   ],
   "source": [
    "print(pvalue('age50culture'))"
   ]
  },
  {
   "cell_type": "markdown",
   "metadata": {},
   "source": [
    "* 30 가구"
   ]
  },
  {
   "cell_type": "code",
   "execution_count": 14,
   "metadata": {
    "scrolled": false
   },
   "outputs": [
    {
     "name": "stdout",
     "output_type": "stream",
     "text": [
      "                            OLS Regression Results                            \n",
      "==============================================================================\n",
      "Dep. Variable:         age50furniture   R-squared:                       0.052\n",
      "Model:                            OLS   Adj. R-squared:                  0.027\n",
      "Method:                 Least Squares   F-statistic:                     2.143\n",
      "Date:                Tue, 10 Sep 2019   Prob (F-statistic):             0.0255\n",
      "Time:                        07:07:07   Log-Likelihood:                -1371.1\n",
      "No. Observations:                 365   AIC:                             2762.\n",
      "Df Residuals:                     355   BIC:                             2801.\n",
      "Df Model:                           9                                         \n",
      "Covariance Type:            nonrobust                                         \n",
      "================================================================================\n",
      "                   coef    std err          t      P>|t|      [0.025      0.975]\n",
      "--------------------------------------------------------------------------------\n",
      "Intercept       12.1019      5.309      2.280      0.023       1.661      22.543\n",
      "pm10            -0.0269      0.047     -0.573      0.567      -0.119       0.065\n",
      "pm25             0.0759      0.064      1.192      0.234      -0.049       0.201\n",
      "temp             0.1701      0.139      1.223      0.222      -0.103       0.444\n",
      "humi            -0.0434      0.115     -0.377      0.706      -0.270       0.183\n",
      "CONTENT          0.0015      0.008      0.184      0.854      -0.014       0.017\n",
      "rain            -0.0529      0.131     -0.403      0.687      -0.311       0.205\n",
      "CONTENT:temp    -0.0003      0.000     -1.152      0.250      -0.001       0.000\n",
      "CONTENT:rain     0.0001      0.000      0.602      0.547      -0.000       0.001\n",
      "CONTENT:humi    -0.0001      0.000     -0.553      0.581      -0.000       0.000\n",
      "==============================================================================\n",
      "Omnibus:                       31.007   Durbin-Watson:                   1.873\n",
      "Prob(Omnibus):                  0.000   Jarque-Bera (JB):               36.948\n",
      "Skew:                           0.776   Prob(JB):                     9.48e-09\n",
      "Kurtosis:                       3.137   Cond. No.                     3.04e+05\n",
      "==============================================================================\n",
      "\n",
      "Warnings:\n",
      "[1] Standard Errors assume that the covariance matrix of the errors is correctly specified.\n",
      "[2] The condition number is large, 3.04e+05. This might indicate that there are\n",
      "strong multicollinearity or other numerical problems.\n"
     ]
    }
   ],
   "source": [
    "print(pvalue('age50furniture')) "
   ]
  },
  {
   "cell_type": "markdown",
   "metadata": {},
   "source": [
    "* 전기 31"
   ]
  },
  {
   "cell_type": "code",
   "execution_count": 15,
   "metadata": {},
   "outputs": [
    {
     "name": "stdout",
     "output_type": "stream",
     "text": [
      "                            OLS Regression Results                            \n",
      "==============================================================================\n",
      "Dep. Variable:        age50electronic   R-squared:                       0.024\n",
      "Model:                            OLS   Adj. R-squared:                 -0.000\n",
      "Method:                 Least Squares   F-statistic:                    0.9811\n",
      "Date:                Tue, 10 Sep 2019   Prob (F-statistic):              0.455\n",
      "Time:                        07:07:25   Log-Likelihood:                -1222.5\n",
      "No. Observations:                 365   AIC:                             2465.\n",
      "Df Residuals:                     355   BIC:                             2504.\n",
      "Df Model:                           9                                         \n",
      "Covariance Type:            nonrobust                                         \n",
      "================================================================================\n",
      "                   coef    std err          t      P>|t|      [0.025      0.975]\n",
      "--------------------------------------------------------------------------------\n",
      "Intercept        2.6134      3.533      0.740      0.460      -4.334       9.561\n",
      "pm10            -0.0557      0.031     -1.784      0.075      -0.117       0.006\n",
      "pm25             0.0766      0.042      1.808      0.071      -0.007       0.160\n",
      "temp             0.0761      0.093      0.823      0.411      -0.106       0.258\n",
      "humi            -0.0042      0.077     -0.055      0.956      -0.155       0.146\n",
      "CONTENT          0.0037      0.005      0.683      0.495      -0.007       0.014\n",
      "rain            -0.0115      0.087     -0.132      0.895      -0.183       0.160\n",
      "CONTENT:temp   3.55e-05      0.000      0.201      0.841      -0.000       0.000\n",
      "CONTENT:rain  -4.15e-08      0.000     -0.000      1.000      -0.000       0.000\n",
      "CONTENT:humi -4.429e-05      0.000     -0.361      0.718      -0.000       0.000\n",
      "==============================================================================\n",
      "Omnibus:                      205.550   Durbin-Watson:                   1.794\n",
      "Prob(Omnibus):                  0.000   Jarque-Bera (JB):             1385.841\n",
      "Skew:                           2.352   Prob(JB):                    1.17e-301\n",
      "Kurtosis:                      11.306   Cond. No.                     3.04e+05\n",
      "==============================================================================\n",
      "\n",
      "Warnings:\n",
      "[1] Standard Errors assume that the covariance matrix of the errors is correctly specified.\n",
      "[2] The condition number is large, 3.04e+05. This might indicate that there are\n",
      "strong multicollinearity or other numerical problems.\n"
     ]
    }
   ],
   "source": [
    "print(pvalue('age50electronic'))  "
   ]
  },
  {
   "cell_type": "markdown",
   "metadata": {},
   "source": [
    "* 32 주방용구"
   ]
  },
  {
   "cell_type": "code",
   "execution_count": 16,
   "metadata": {},
   "outputs": [
    {
     "name": "stdout",
     "output_type": "stream",
     "text": [
      "                            OLS Regression Results                            \n",
      "==============================================================================\n",
      "Dep. Variable:           age50kitchen   R-squared:                       0.043\n",
      "Model:                            OLS   Adj. R-squared:                  0.018\n",
      "Method:                 Least Squares   F-statistic:                     1.761\n",
      "Date:                Tue, 10 Sep 2019   Prob (F-statistic):             0.0745\n",
      "Time:                        07:07:32   Log-Likelihood:                -1428.1\n",
      "No. Observations:                 365   AIC:                             2876.\n",
      "Df Residuals:                     355   BIC:                             2915.\n",
      "Df Model:                           9                                         \n",
      "Covariance Type:            nonrobust                                         \n",
      "================================================================================\n",
      "                   coef    std err          t      P>|t|      [0.025      0.975]\n",
      "--------------------------------------------------------------------------------\n",
      "Intercept        1.3592      6.205      0.219      0.827     -10.844      13.563\n",
      "pm10             0.1118      0.055      2.040      0.042       0.004       0.220\n",
      "pm25            -0.1432      0.074     -1.925      0.055      -0.289       0.003\n",
      "temp             0.1214      0.163      0.747      0.456      -0.198       0.441\n",
      "humi             0.1160      0.134      0.863      0.389      -0.148       0.380\n",
      "CONTENT          0.0147      0.009      1.557      0.120      -0.004       0.033\n",
      "rain            -0.0737      0.153     -0.481      0.631      -0.375       0.228\n",
      "CONTENT:temp    -0.0002      0.000     -0.507      0.613      -0.001       0.000\n",
      "CONTENT:rain -3.136e-05      0.000     -0.121      0.903      -0.001       0.000\n",
      "CONTENT:humi    -0.0001      0.000     -0.607      0.544      -0.001       0.000\n",
      "==============================================================================\n",
      "Omnibus:                       22.380   Durbin-Watson:                   2.110\n",
      "Prob(Omnibus):                  0.000   Jarque-Bera (JB):               15.550\n",
      "Skew:                           0.387   Prob(JB):                     0.000420\n",
      "Kurtosis:                       2.350   Cond. No.                     3.04e+05\n",
      "==============================================================================\n",
      "\n",
      "Warnings:\n",
      "[1] Standard Errors assume that the covariance matrix of the errors is correctly specified.\n",
      "[2] The condition number is large, 3.04e+05. This might indicate that there are\n",
      "strong multicollinearity or other numerical problems.\n"
     ]
    }
   ],
   "source": [
    "print(pvalue(\"age50kitchen\")) # pm10"
   ]
  },
  {
   "cell_type": "markdown",
   "metadata": {},
   "source": [
    "* 33 연료"
   ]
  },
  {
   "cell_type": "code",
   "execution_count": 17,
   "metadata": {},
   "outputs": [
    {
     "name": "stdout",
     "output_type": "stream",
     "text": [
      "                            OLS Regression Results                            \n",
      "==============================================================================\n",
      "Dep. Variable:              age50fuel   R-squared:                       0.201\n",
      "Model:                            OLS   Adj. R-squared:                  0.180\n",
      "Method:                 Least Squares   F-statistic:                     9.900\n",
      "Date:                Tue, 10 Sep 2019   Prob (F-statistic):           1.43e-13\n",
      "Time:                        07:07:45   Log-Likelihood:                -2437.7\n",
      "No. Observations:                 365   AIC:                             4895.\n",
      "Df Residuals:                     355   BIC:                             4934.\n",
      "Df Model:                           9                                         \n",
      "Covariance Type:            nonrobust                                         \n",
      "================================================================================\n",
      "                   coef    std err          t      P>|t|      [0.025      0.975]\n",
      "--------------------------------------------------------------------------------\n",
      "Intercept     2367.5999     98.648     24.000      0.000    2173.592    2561.608\n",
      "pm10            -0.3007      0.871     -0.345      0.730      -2.014       1.413\n",
      "pm25            -0.5391      1.182     -0.456      0.649      -2.865       1.786\n",
      "temp             6.4957      2.584      2.514      0.012       1.414      11.578\n",
      "humi            -1.0638      2.138     -0.498      0.619      -5.268       3.141\n",
      "CONTENT         -0.1217      0.150     -0.809      0.419      -0.417       0.174\n",
      "rain            -6.4843      2.438     -2.660      0.008     -11.279      -1.690\n",
      "CONTENT:temp    -0.0028      0.005     -0.574      0.566      -0.013       0.007\n",
      "CONTENT:rain     0.0047      0.004      1.156      0.249      -0.003       0.013\n",
      "CONTENT:humi  7.401e-05      0.003      0.022      0.983      -0.007       0.007\n",
      "==============================================================================\n",
      "Omnibus:                       29.603   Durbin-Watson:                   1.411\n",
      "Prob(Omnibus):                  0.000   Jarque-Bera (JB):               78.516\n",
      "Skew:                          -0.353   Prob(JB):                     8.92e-18\n",
      "Kurtosis:                       5.160   Cond. No.                     3.04e+05\n",
      "==============================================================================\n",
      "\n",
      "Warnings:\n",
      "[1] Standard Errors assume that the covariance matrix of the errors is correctly specified.\n",
      "[2] The condition number is large, 3.04e+05. This might indicate that there are\n",
      "strong multicollinearity or other numerical problems.\n"
     ]
    }
   ],
   "source": [
    "print(pvalue(\"age50fuel\")) # temp rain"
   ]
  },
  {
   "cell_type": "markdown",
   "metadata": {},
   "source": [
    "* 33 광학"
   ]
  },
  {
   "cell_type": "code",
   "execution_count": 18,
   "metadata": {},
   "outputs": [
    {
     "name": "stdout",
     "output_type": "stream",
     "text": [
      "                            OLS Regression Results                            \n",
      "==============================================================================\n",
      "Dep. Variable:             age50optic   R-squared:                       0.185\n",
      "Model:                            OLS   Adj. R-squared:                  0.164\n",
      "Method:                 Least Squares   F-statistic:                     8.943\n",
      "Date:                Tue, 10 Sep 2019   Prob (F-statistic):           3.51e-12\n",
      "Time:                        07:07:57   Log-Likelihood:                -1726.0\n",
      "No. Observations:                 365   AIC:                             3472.\n",
      "Df Residuals:                     355   BIC:                             3511.\n",
      "Df Model:                           9                                         \n",
      "Covariance Type:            nonrobust                                         \n",
      "================================================================================\n",
      "                   coef    std err          t      P>|t|      [0.025      0.975]\n",
      "--------------------------------------------------------------------------------\n",
      "Intercept       16.6516     14.037      1.186      0.236     -10.954      44.257\n",
      "pm10             0.1550      0.124      1.250      0.212      -0.089       0.399\n",
      "pm25             0.1003      0.168      0.596      0.551      -0.231       0.431\n",
      "temp             0.2332      0.368      0.634      0.526      -0.490       0.956\n",
      "humi            -0.0972      0.304     -0.319      0.750      -0.695       0.501\n",
      "CONTENT          0.0310      0.021      1.448      0.149      -0.011       0.073\n",
      "rain             0.0460      0.347      0.133      0.895      -0.636       0.728\n",
      "CONTENT:temp    -0.0005      0.001     -0.727      0.468      -0.002       0.001\n",
      "CONTENT:rain -6.494e-05      0.001     -0.111      0.912      -0.001       0.001\n",
      "CONTENT:humi  3.792e-05      0.000      0.078      0.938      -0.001       0.001\n",
      "==============================================================================\n",
      "Omnibus:                        8.663   Durbin-Watson:                   1.587\n",
      "Prob(Omnibus):                  0.013   Jarque-Bera (JB):                8.583\n",
      "Skew:                           0.348   Prob(JB):                       0.0137\n",
      "Kurtosis:                       3.281   Cond. No.                     3.04e+05\n",
      "==============================================================================\n",
      "\n",
      "Warnings:\n",
      "[1] Standard Errors assume that the covariance matrix of the errors is correctly specified.\n",
      "[2] The condition number is large, 3.04e+05. This might indicate that there are\n",
      "strong multicollinearity or other numerical problems.\n"
     ]
    }
   ],
   "source": [
    "print(pvalue(\"age50optic\"))  "
   ]
  },
  {
   "cell_type": "markdown",
   "metadata": {},
   "source": [
    "* 35 가전"
   ]
  },
  {
   "cell_type": "code",
   "execution_count": 19,
   "metadata": {},
   "outputs": [
    {
     "name": "stdout",
     "output_type": "stream",
     "text": [
      "                            OLS Regression Results                            \n",
      "==============================================================================\n",
      "Dep. Variable:        age50Appliances   R-squared:                       0.114\n",
      "Model:                            OLS   Adj. R-squared:                  0.091\n",
      "Method:                 Least Squares   F-statistic:                     5.068\n",
      "Date:                Tue, 10 Sep 2019   Prob (F-statistic):           1.88e-06\n",
      "Time:                        07:08:07   Log-Likelihood:                -1872.0\n",
      "No. Observations:                 365   AIC:                             3764.\n",
      "Df Residuals:                     355   BIC:                             3803.\n",
      "Df Model:                           9                                         \n",
      "Covariance Type:            nonrobust                                         \n",
      "================================================================================\n",
      "                   coef    std err          t      P>|t|      [0.025      0.975]\n",
      "--------------------------------------------------------------------------------\n",
      "Intercept      116.5556     20.936      5.567      0.000      75.381     157.730\n",
      "pm10            -0.0685      0.185     -0.371      0.711      -0.432       0.295\n",
      "pm25             0.3210      0.251      1.279      0.202      -0.173       0.815\n",
      "temp             1.3710      0.548      2.500      0.013       0.292       2.450\n",
      "humi            -0.4648      0.454     -1.025      0.306      -1.357       0.427\n",
      "CONTENT         -0.0397      0.032     -1.244      0.214      -0.102       0.023\n",
      "rain             0.0637      0.517      0.123      0.902      -0.954       1.081\n",
      "CONTENT:temp     0.0003      0.001      0.290      0.772      -0.002       0.002\n",
      "CONTENT:rain    -0.0007      0.001     -0.804      0.422      -0.002       0.001\n",
      "CONTENT:humi     0.0009      0.001      1.197      0.232      -0.001       0.002\n",
      "==============================================================================\n",
      "Omnibus:                        0.386   Durbin-Watson:                   2.033\n",
      "Prob(Omnibus):                  0.825   Jarque-Bera (JB):                0.261\n",
      "Skew:                           0.059   Prob(JB):                        0.878\n",
      "Kurtosis:                       3.058   Cond. No.                     3.04e+05\n",
      "==============================================================================\n",
      "\n",
      "Warnings:\n",
      "[1] Standard Errors assume that the covariance matrix of the errors is correctly specified.\n",
      "[2] The condition number is large, 3.04e+05. This might indicate that there are\n",
      "strong multicollinearity or other numerical problems.\n"
     ]
    }
   ],
   "source": [
    "print(pvalue(\"age50Appliances\"))  # temp"
   ]
  },
  {
   "cell_type": "markdown",
   "metadata": {},
   "source": [
    "* 40 유통업"
   ]
  },
  {
   "cell_type": "code",
   "execution_count": 21,
   "metadata": {},
   "outputs": [
    {
     "name": "stdout",
     "output_type": "stream",
     "text": [
      "                            OLS Regression Results                            \n",
      "==============================================================================\n",
      "Dep. Variable:            age50circul   R-squared:                       0.289\n",
      "Model:                            OLS   Adj. R-squared:                  0.271\n",
      "Method:                 Least Squares   F-statistic:                     16.01\n",
      "Date:                Tue, 10 Sep 2019   Prob (F-statistic):           4.99e-22\n",
      "Time:                        07:08:21   Log-Likelihood:                -3327.8\n",
      "No. Observations:                 365   AIC:                             6676.\n",
      "Df Residuals:                     355   BIC:                             6715.\n",
      "Df Model:                           9                                         \n",
      "Covariance Type:            nonrobust                                         \n",
      "================================================================================\n",
      "                   coef    std err          t      P>|t|      [0.025      0.975]\n",
      "--------------------------------------------------------------------------------\n",
      "Intercept     2.606e+04   1130.271     23.053      0.000    2.38e+04    2.83e+04\n",
      "pm10           -20.2258      9.982     -2.026      0.043     -39.857      -0.594\n",
      "pm25            33.6108     13.549      2.481      0.014       6.965      60.256\n",
      "temp           113.7903     29.609      3.843      0.000      55.560     172.020\n",
      "humi            17.6809     24.495      0.722      0.471     -30.493      65.855\n",
      "CONTENT          1.8249      1.722      1.060      0.290      -1.562       5.212\n",
      "rain           -40.2421     27.933     -1.441      0.151     -95.178      14.694\n",
      "CONTENT:temp    -0.0090      0.056     -0.160      0.873      -0.120       0.102\n",
      "CONTENT:rain    -0.0004      0.047     -0.009      0.993      -0.093       0.092\n",
      "CONTENT:humi    -0.0709      0.039     -1.807      0.072      -0.148       0.006\n",
      "==============================================================================\n",
      "Omnibus:                       63.108   Durbin-Watson:                   1.680\n",
      "Prob(Omnibus):                  0.000   Jarque-Bera (JB):              583.420\n",
      "Skew:                          -0.347   Prob(JB):                    2.05e-127\n",
      "Kurtosis:                       9.155   Cond. No.                     3.04e+05\n",
      "==============================================================================\n",
      "\n",
      "Warnings:\n",
      "[1] Standard Errors assume that the covariance matrix of the errors is correctly specified.\n",
      "[2] The condition number is large, 3.04e+05. This might indicate that there are\n",
      "strong multicollinearity or other numerical problems.\n"
     ]
    }
   ],
   "source": [
    "print(pvalue(\"age50circul\")) # pm10, pm25 <<temp"
   ]
  },
  {
   "cell_type": "markdown",
   "metadata": {},
   "source": [
    "* 42 의복"
   ]
  },
  {
   "cell_type": "code",
   "execution_count": 22,
   "metadata": {},
   "outputs": [
    {
     "name": "stdout",
     "output_type": "stream",
     "text": [
      "                            OLS Regression Results                            \n",
      "==============================================================================\n",
      "Dep. Variable:             age50cloth   R-squared:                       0.256\n",
      "Model:                            OLS   Adj. R-squared:                  0.237\n",
      "Method:                 Least Squares   F-statistic:                     13.54\n",
      "Date:                Tue, 10 Sep 2019   Prob (F-statistic):           1.07e-18\n",
      "Time:                        07:08:33   Log-Likelihood:                -2136.0\n",
      "No. Observations:                 365   AIC:                             4292.\n",
      "Df Residuals:                     355   BIC:                             4331.\n",
      "Df Model:                           9                                         \n",
      "Covariance Type:            nonrobust                                         \n",
      "================================================================================\n",
      "                   coef    std err          t      P>|t|      [0.025      0.975]\n",
      "--------------------------------------------------------------------------------\n",
      "Intercept      316.3248     43.158      7.330      0.000     231.448     401.201\n",
      "pm10            -0.1016      0.381     -0.266      0.790      -0.851       0.648\n",
      "pm25            -0.3254      0.517     -0.629      0.530      -1.343       0.692\n",
      "temp            -1.5155      1.131     -1.340      0.181      -3.739       0.708\n",
      "humi             0.7777      0.935      0.832      0.406      -1.062       2.617\n",
      "CONTENT          0.0465      0.066      0.708      0.480      -0.083       0.176\n",
      "rain            -2.5625      1.067     -2.402      0.017      -4.660      -0.465\n",
      "CONTENT:temp     0.0114      0.002      5.288      0.000       0.007       0.016\n",
      "CONTENT:rain     0.0013      0.002      0.701      0.484      -0.002       0.005\n",
      "CONTENT:humi    -0.0027      0.001     -1.826      0.069      -0.006       0.000\n",
      "==============================================================================\n",
      "Omnibus:                       27.614   Durbin-Watson:                   1.226\n",
      "Prob(Omnibus):                  0.000   Jarque-Bera (JB):               49.722\n",
      "Skew:                           0.463   Prob(JB):                     1.60e-11\n",
      "Kurtosis:                       4.554   Cond. No.                     3.04e+05\n",
      "==============================================================================\n",
      "\n",
      "Warnings:\n",
      "[1] Standard Errors assume that the covariance matrix of the errors is correctly specified.\n",
      "[2] The condition number is large, 3.04e+05. This might indicate that there are\n",
      "strong multicollinearity or other numerical problems.\n"
     ]
    }
   ],
   "source": [
    "print(pvalue(\"age50cloth\")) # rain"
   ]
  },
  {
   "cell_type": "markdown",
   "metadata": {},
   "source": [
    "* 43 직물"
   ]
  },
  {
   "cell_type": "code",
   "execution_count": 23,
   "metadata": {},
   "outputs": [
    {
     "name": "stdout",
     "output_type": "stream",
     "text": [
      "                            OLS Regression Results                            \n",
      "==============================================================================\n",
      "Dep. Variable:           age50textile   R-squared:                       0.044\n",
      "Model:                            OLS   Adj. R-squared:                  0.020\n",
      "Method:                 Least Squares   F-statistic:                     1.809\n",
      "Date:                Tue, 10 Sep 2019   Prob (F-statistic):             0.0654\n",
      "Time:                        07:08:43   Log-Likelihood:                -1463.1\n",
      "No. Observations:                 365   AIC:                             2946.\n",
      "Df Residuals:                     355   BIC:                             2985.\n",
      "Df Model:                           9                                         \n",
      "Covariance Type:            nonrobust                                         \n",
      "================================================================================\n",
      "                   coef    std err          t      P>|t|      [0.025      0.975]\n",
      "--------------------------------------------------------------------------------\n",
      "Intercept       19.6435      6.829      2.876      0.004       6.213      33.074\n",
      "pm10             0.0233      0.060      0.387      0.699      -0.095       0.142\n",
      "pm25            -0.0094      0.082     -0.115      0.909      -0.170       0.152\n",
      "temp            -0.0940      0.179     -0.525      0.600      -0.446       0.258\n",
      "humi             0.0183      0.148      0.124      0.901      -0.273       0.309\n",
      "CONTENT         -0.0147      0.010     -1.415      0.158      -0.035       0.006\n",
      "rain            -0.3147      0.169     -1.865      0.063      -0.647       0.017\n",
      "CONTENT:temp     0.0003      0.000      0.906      0.365      -0.000       0.001\n",
      "CONTENT:rain     0.0002      0.000      0.846      0.398      -0.000       0.001\n",
      "CONTENT:humi     0.0001      0.000      0.424      0.672      -0.000       0.001\n",
      "==============================================================================\n",
      "Omnibus:                       27.888   Durbin-Watson:                   1.783\n",
      "Prob(Omnibus):                  0.000   Jarque-Bera (JB):               32.752\n",
      "Skew:                           0.655   Prob(JB):                     7.73e-08\n",
      "Kurtosis:                       3.660   Cond. No.                     3.04e+05\n",
      "==============================================================================\n",
      "\n",
      "Warnings:\n",
      "[1] Standard Errors assume that the covariance matrix of the errors is correctly specified.\n",
      "[2] The condition number is large, 3.04e+05. This might indicate that there are\n",
      "strong multicollinearity or other numerical problems.\n"
     ]
    }
   ],
   "source": [
    "print(pvalue(\"age50textile\")) "
   ]
  },
  {
   "cell_type": "markdown",
   "metadata": {},
   "source": [
    "* 44 신변잡화"
   ]
  },
  {
   "cell_type": "code",
   "execution_count": 25,
   "metadata": {},
   "outputs": [
    {
     "name": "stdout",
     "output_type": "stream",
     "text": [
      "                            OLS Regression Results                            \n",
      "==============================================================================\n",
      "Dep. Variable:             age50stuff   R-squared:                       0.054\n",
      "Model:                            OLS   Adj. R-squared:                  0.030\n",
      "Method:                 Least Squares   F-statistic:                     2.252\n",
      "Date:                Tue, 10 Sep 2019   Prob (F-statistic):             0.0185\n",
      "Time:                        07:08:56   Log-Likelihood:                -1732.1\n",
      "No. Observations:                 365   AIC:                             3484.\n",
      "Df Residuals:                     355   BIC:                             3523.\n",
      "Df Model:                           9                                         \n",
      "Covariance Type:            nonrobust                                         \n",
      "================================================================================\n",
      "                   coef    std err          t      P>|t|      [0.025      0.975]\n",
      "--------------------------------------------------------------------------------\n",
      "Intercept      108.9741     14.273      7.635      0.000      80.903     137.045\n",
      "pm10            -0.2000      0.126     -1.587      0.113      -0.448       0.048\n",
      "pm25             0.2120      0.171      1.239      0.216      -0.125       0.548\n",
      "temp             0.3443      0.374      0.921      0.358      -0.391       1.080\n",
      "humi            -0.2131      0.309     -0.689      0.491      -0.821       0.395\n",
      "CONTENT          0.0079      0.022      0.364      0.716      -0.035       0.051\n",
      "rain            -0.3890      0.353     -1.103      0.271      -1.083       0.305\n",
      "CONTENT:temp     0.0004      0.001      0.536      0.592      -0.001       0.002\n",
      "CONTENT:rain     0.0004      0.001      0.698      0.485      -0.001       0.002\n",
      "CONTENT:humi    -0.0002      0.000     -0.476      0.634      -0.001       0.001\n",
      "==============================================================================\n",
      "Omnibus:                        4.022   Durbin-Watson:                   1.591\n",
      "Prob(Omnibus):                  0.134   Jarque-Bera (JB):                4.110\n",
      "Skew:                           0.246   Prob(JB):                        0.128\n",
      "Kurtosis:                       2.830   Cond. No.                     3.04e+05\n",
      "==============================================================================\n",
      "\n",
      "Warnings:\n",
      "[1] Standard Errors assume that the covariance matrix of the errors is correctly specified.\n",
      "[2] The condition number is large, 3.04e+05. This might indicate that there are\n",
      "strong multicollinearity or other numerical problems.\n"
     ]
    }
   ],
   "source": [
    "print(pvalue(\"age50stuff\")) "
   ]
  },
  {
   "cell_type": "markdown",
   "metadata": {},
   "source": [
    "* 50 서적문구"
   ]
  },
  {
   "cell_type": "code",
   "execution_count": 26,
   "metadata": {},
   "outputs": [
    {
     "name": "stdout",
     "output_type": "stream",
     "text": [
      "                            OLS Regression Results                            \n",
      "==============================================================================\n",
      "Dep. Variable:              age50book   R-squared:                       0.188\n",
      "Model:                            OLS   Adj. R-squared:                  0.168\n",
      "Method:                 Least Squares   F-statistic:                     9.150\n",
      "Date:                Tue, 10 Sep 2019   Prob (F-statistic):           1.75e-12\n",
      "Time:                        07:09:05   Log-Likelihood:                -2493.4\n",
      "No. Observations:                 365   AIC:                             5007.\n",
      "Df Residuals:                     355   BIC:                             5046.\n",
      "Df Model:                           9                                         \n",
      "Covariance Type:            nonrobust                                         \n",
      "================================================================================\n",
      "                   coef    std err          t      P>|t|      [0.025      0.975]\n",
      "--------------------------------------------------------------------------------\n",
      "Intercept      528.7515    114.905      4.602      0.000     302.771     754.732\n",
      "pm10            -0.2236      1.015     -0.220      0.826      -2.219       1.772\n",
      "pm25             4.5722      1.377      3.320      0.001       1.863       7.281\n",
      "temp             4.9626      3.010      1.649      0.100      -0.957      10.882\n",
      "humi            -2.4812      2.490     -0.996      0.320      -7.379       2.416\n",
      "CONTENT         -0.0467      0.175     -0.267      0.790      -0.391       0.298\n",
      "rain             3.6132      2.840      1.272      0.204      -1.972       9.198\n",
      "CONTENT:temp     0.0025      0.006      0.428      0.669      -0.009       0.014\n",
      "CONTENT:rain    -0.0050      0.005     -1.039      0.300      -0.014       0.004\n",
      "CONTENT:humi     0.0014      0.004      0.339      0.735      -0.006       0.009\n",
      "==============================================================================\n",
      "Omnibus:                      199.915   Durbin-Watson:                   0.477\n",
      "Prob(Omnibus):                  0.000   Jarque-Bera (JB):             1512.257\n",
      "Skew:                           2.215   Prob(JB):                         0.00\n",
      "Kurtosis:                      11.934   Cond. No.                     3.04e+05\n",
      "==============================================================================\n",
      "\n",
      "Warnings:\n",
      "[1] Standard Errors assume that the covariance matrix of the errors is correctly specified.\n",
      "[2] The condition number is large, 3.04e+05. This might indicate that there are\n",
      "strong multicollinearity or other numerical problems.\n"
     ]
    }
   ],
   "source": [
    "print(pvalue(\"age50book\"))  # pm25"
   ]
  },
  {
   "cell_type": "markdown",
   "metadata": {},
   "source": [
    "* 52 사무통신"
   ]
  },
  {
   "cell_type": "code",
   "execution_count": 27,
   "metadata": {},
   "outputs": [
    {
     "name": "stdout",
     "output_type": "stream",
     "text": [
      "                            OLS Regression Results                            \n",
      "==============================================================================\n",
      "Dep. Variable:            age50affair   R-squared:                       0.118\n",
      "Model:                            OLS   Adj. R-squared:                  0.096\n",
      "Method:                 Least Squares   F-statistic:                     5.275\n",
      "Date:                Tue, 10 Sep 2019   Prob (F-statistic):           9.25e-07\n",
      "Time:                        07:09:38   Log-Likelihood:                -1430.3\n",
      "No. Observations:                 365   AIC:                             2881.\n",
      "Df Residuals:                     355   BIC:                             2920.\n",
      "Df Model:                           9                                         \n",
      "Covariance Type:            nonrobust                                         \n",
      "================================================================================\n",
      "                   coef    std err          t      P>|t|      [0.025      0.975]\n",
      "--------------------------------------------------------------------------------\n",
      "Intercept       13.9138      6.242      2.229      0.026       1.637      26.191\n",
      "pm10             0.0604      0.055      1.096      0.274      -0.048       0.169\n",
      "pm25            -0.1371      0.075     -1.832      0.068      -0.284       0.010\n",
      "temp            -0.2088      0.164     -1.277      0.202      -0.530       0.113\n",
      "humi            -0.0333      0.135     -0.247      0.805      -0.299       0.233\n",
      "CONTENT         -0.0019      0.010     -0.195      0.846      -0.021       0.017\n",
      "rain             0.0495      0.154      0.321      0.748      -0.254       0.353\n",
      "CONTENT:temp     0.0006      0.000      1.804      0.072   -5.07e-05       0.001\n",
      "CONTENT:rain    -0.0002      0.000     -0.851      0.395      -0.001       0.000\n",
      "CONTENT:humi     0.0002      0.000      1.059      0.290      -0.000       0.001\n",
      "==============================================================================\n",
      "Omnibus:                        6.187   Durbin-Watson:                   1.793\n",
      "Prob(Omnibus):                  0.045   Jarque-Bera (JB):                5.141\n",
      "Skew:                           0.203   Prob(JB):                       0.0765\n",
      "Kurtosis:                       2.584   Cond. No.                     3.04e+05\n",
      "==============================================================================\n",
      "\n",
      "Warnings:\n",
      "[1] Standard Errors assume that the covariance matrix of the errors is correctly specified.\n",
      "[2] The condition number is large, 3.04e+05. This might indicate that there are\n",
      "strong multicollinearity or other numerical problems.\n"
     ]
    }
   ],
   "source": [
    "print(pvalue('age50affair'))  "
   ]
  },
  {
   "cell_type": "markdown",
   "metadata": {},
   "source": [
    "* 60 자동차판매"
   ]
  },
  {
   "cell_type": "code",
   "execution_count": 28,
   "metadata": {},
   "outputs": [
    {
     "name": "stdout",
     "output_type": "stream",
     "text": [
      "                            OLS Regression Results                            \n",
      "==============================================================================\n",
      "Dep. Variable:          age50car_sell   R-squared:                       0.016\n",
      "Model:                            OLS   Adj. R-squared:                 -0.009\n",
      "Method:                 Least Squares   F-statistic:                    0.6407\n",
      "Date:                Tue, 10 Sep 2019   Prob (F-statistic):              0.762\n",
      "Time:                        07:09:44   Log-Likelihood:                -936.84\n",
      "No. Observations:                 365   AIC:                             1894.\n",
      "Df Residuals:                     355   BIC:                             1933.\n",
      "Df Model:                           9                                         \n",
      "Covariance Type:            nonrobust                                         \n",
      "================================================================================\n",
      "                   coef    std err          t      P>|t|      [0.025      0.975]\n",
      "--------------------------------------------------------------------------------\n",
      "Intercept        0.1770      1.615      0.110      0.913      -3.000       3.354\n",
      "pm10             0.0027      0.014      0.189      0.850      -0.025       0.031\n",
      "pm25            -0.0025      0.019     -0.128      0.898      -0.041       0.036\n",
      "temp             0.0179      0.042      0.422      0.673      -0.065       0.101\n",
      "humi             0.0150      0.035      0.429      0.668      -0.054       0.084\n",
      "CONTENT         -0.0010      0.002     -0.398      0.691      -0.006       0.004\n",
      "rain            -0.0445      0.040     -1.114      0.266      -0.123       0.034\n",
      "CONTENT:temp -6.552e-05   8.06e-05     -0.812      0.417      -0.000    9.31e-05\n",
      "CONTENT:rain  5.592e-05   6.72e-05      0.832      0.406   -7.63e-05       0.000\n",
      "CONTENT:humi  2.654e-05   5.61e-05      0.473      0.636   -8.37e-05       0.000\n",
      "==============================================================================\n",
      "Omnibus:                      258.338   Durbin-Watson:                   2.167\n",
      "Prob(Omnibus):                  0.000   Jarque-Bera (JB):             1995.212\n",
      "Skew:                           3.140   Prob(JB):                         0.00\n",
      "Kurtosis:                      12.578   Cond. No.                     3.04e+05\n",
      "==============================================================================\n",
      "\n",
      "Warnings:\n",
      "[1] Standard Errors assume that the covariance matrix of the errors is correctly specified.\n",
      "[2] The condition number is large, 3.04e+05. This might indicate that there are\n",
      "strong multicollinearity or other numerical problems.\n"
     ]
    }
   ],
   "source": [
    "print(pvalue(\"age50car_sell\"))"
   ]
  },
  {
   "cell_type": "markdown",
   "metadata": {},
   "source": [
    "* 62 자동차정비"
   ]
  },
  {
   "cell_type": "code",
   "execution_count": 30,
   "metadata": {},
   "outputs": [
    {
     "name": "stdout",
     "output_type": "stream",
     "text": [
      "                            OLS Regression Results                            \n",
      "==============================================================================\n",
      "Dep. Variable:        age50car_repair   R-squared:                       0.070\n",
      "Model:                            OLS   Adj. R-squared:                  0.047\n",
      "Method:                 Least Squares   F-statistic:                     2.991\n",
      "Date:                Tue, 10 Sep 2019   Prob (F-statistic):            0.00189\n",
      "Time:                        07:09:59   Log-Likelihood:                -2068.8\n",
      "No. Observations:                 365   AIC:                             4158.\n",
      "Df Residuals:                     355   BIC:                             4197.\n",
      "Df Model:                           9                                         \n",
      "Covariance Type:            nonrobust                                         \n",
      "================================================================================\n",
      "                   coef    std err          t      P>|t|      [0.025      0.975]\n",
      "--------------------------------------------------------------------------------\n",
      "Intercept      251.2878     35.897      7.000      0.000     180.689     321.886\n",
      "pm10            -0.0878      0.317     -0.277      0.782      -0.711       0.536\n",
      "pm25             0.2150      0.430      0.500      0.618      -0.631       1.061\n",
      "temp            -0.2311      0.940     -0.246      0.806      -2.080       1.618\n",
      "humi            -1.1101      0.778     -1.427      0.154      -2.640       0.420\n",
      "CONTENT         -0.0271      0.055     -0.496      0.620      -0.135       0.080\n",
      "rain            -0.2043      0.887     -0.230      0.818      -1.949       1.540\n",
      "CONTENT:temp     0.0025      0.002      1.387      0.166      -0.001       0.006\n",
      "CONTENT:rain    -0.0008      0.001     -0.560      0.576      -0.004       0.002\n",
      "CONTENT:humi     0.0009      0.001      0.759      0.448      -0.002       0.003\n",
      "==============================================================================\n",
      "Omnibus:                       15.676   Durbin-Watson:                   2.235\n",
      "Prob(Omnibus):                  0.000   Jarque-Bera (JB):               16.659\n",
      "Skew:                          -0.520   Prob(JB):                     0.000241\n",
      "Kurtosis:                       3.116   Cond. No.                     3.04e+05\n",
      "==============================================================================\n",
      "\n",
      "Warnings:\n",
      "[1] Standard Errors assume that the covariance matrix of the errors is correctly specified.\n",
      "[2] The condition number is large, 3.04e+05. This might indicate that there are\n",
      "strong multicollinearity or other numerical problems.\n"
     ]
    }
   ],
   "source": [
    "print(pvalue(\"age50car_repair\"))"
   ]
  },
  {
   "cell_type": "markdown",
   "metadata": {},
   "source": [
    "* 70 의료기관"
   ]
  },
  {
   "cell_type": "code",
   "execution_count": 31,
   "metadata": {},
   "outputs": [
    {
     "name": "stdout",
     "output_type": "stream",
     "text": [
      "                            OLS Regression Results                            \n",
      "==============================================================================\n",
      "Dep. Variable:           age50medical   R-squared:                       0.184\n",
      "Model:                            OLS   Adj. R-squared:                  0.164\n",
      "Method:                 Least Squares   F-statistic:                     8.920\n",
      "Date:                Tue, 10 Sep 2019   Prob (F-statistic):           3.79e-12\n",
      "Time:                        07:10:05   Log-Likelihood:                -3358.7\n",
      "No. Observations:                 365   AIC:                             6737.\n",
      "Df Residuals:                     355   BIC:                             6776.\n",
      "Df Model:                           9                                         \n",
      "Covariance Type:            nonrobust                                         \n",
      "================================================================================\n",
      "                   coef    std err          t      P>|t|      [0.025      0.975]\n",
      "--------------------------------------------------------------------------------\n",
      "Intercept     4911.4948   1229.834      3.994      0.000    2492.819    7330.170\n",
      "pm10            10.8152     10.861      0.996      0.320     -10.545      32.176\n",
      "pm25           -17.2778     14.742     -1.172      0.242     -46.270      11.715\n",
      "temp           -50.3677     32.217     -1.563      0.119    -113.727      12.992\n",
      "humi            -8.5582     26.653     -0.321      0.748     -60.975      43.859\n",
      "CONTENT          1.3599      1.874      0.726      0.469      -2.326       5.046\n",
      "rain            13.4507     30.394      0.443      0.658     -46.324      73.225\n",
      "CONTENT:temp     0.1317      0.061      2.145      0.033       0.011       0.252\n",
      "CONTENT:rain    -0.0446      0.051     -0.871      0.384      -0.145       0.056\n",
      "CONTENT:humi     0.0274      0.043      0.641      0.522      -0.057       0.111\n",
      "==============================================================================\n",
      "Omnibus:                       34.633   Durbin-Watson:                   2.293\n",
      "Prob(Omnibus):                  0.000   Jarque-Bera (JB):               42.717\n",
      "Skew:                          -0.838   Prob(JB):                     5.30e-10\n",
      "Kurtosis:                       3.028   Cond. No.                     3.04e+05\n",
      "==============================================================================\n",
      "\n",
      "Warnings:\n",
      "[1] Standard Errors assume that the covariance matrix of the errors is correctly specified.\n",
      "[2] The condition number is large, 3.04e+05. This might indicate that there are\n",
      "strong multicollinearity or other numerical problems.\n"
     ]
    }
   ],
   "source": [
    "print(pvalue(\"age50medical\")) "
   ]
  },
  {
   "cell_type": "markdown",
   "metadata": {},
   "source": [
    "* 71 보건위생"
   ]
  },
  {
   "cell_type": "code",
   "execution_count": 32,
   "metadata": {
    "scrolled": false
   },
   "outputs": [
    {
     "name": "stdout",
     "output_type": "stream",
     "text": [
      "                            OLS Regression Results                            \n",
      "==============================================================================\n",
      "Dep. Variable:     age50public_health   R-squared:                       0.350\n",
      "Model:                            OLS   Adj. R-squared:                  0.333\n",
      "Method:                 Least Squares   F-statistic:                     21.22\n",
      "Date:                Tue, 10 Sep 2019   Prob (F-statistic):           1.14e-28\n",
      "Time:                        07:10:19   Log-Likelihood:                -2533.1\n",
      "No. Observations:                 365   AIC:                             5086.\n",
      "Df Residuals:                     355   BIC:                             5125.\n",
      "Df Model:                           9                                         \n",
      "Covariance Type:            nonrobust                                         \n",
      "================================================================================\n",
      "                   coef    std err          t      P>|t|      [0.025      0.975]\n",
      "--------------------------------------------------------------------------------\n",
      "Intercept     1558.5567    128.115     12.165      0.000    1306.596    1810.517\n",
      "pm10            -3.3146      1.131     -2.929      0.004      -5.540      -1.089\n",
      "pm25             7.1016      1.536      4.624      0.000       4.081      10.122\n",
      "temp           -10.0424      3.356     -2.992      0.003     -16.643      -3.442\n",
      "humi             5.5263      2.776      1.990      0.047       0.066      10.987\n",
      "CONTENT          0.1475      0.195      0.755      0.451      -0.236       0.531\n",
      "rain            -5.7157      3.166     -1.805      0.072     -11.943       0.511\n",
      "CONTENT:temp     0.0026      0.006      0.408      0.684      -0.010       0.015\n",
      "CONTENT:rain     0.0071      0.005      1.327      0.185      -0.003       0.018\n",
      "CONTENT:humi    -0.0150      0.004     -3.380      0.001      -0.024      -0.006\n",
      "==============================================================================\n",
      "Omnibus:                       17.051   Durbin-Watson:                   1.310\n",
      "Prob(Omnibus):                  0.000   Jarque-Bera (JB):               43.669\n",
      "Skew:                           0.056   Prob(JB):                     3.29e-10\n",
      "Kurtosis:                       4.691   Cond. No.                     3.04e+05\n",
      "==============================================================================\n",
      "\n",
      "Warnings:\n",
      "[1] Standard Errors assume that the covariance matrix of the errors is correctly specified.\n",
      "[2] The condition number is large, 3.04e+05. This might indicate that there are\n",
      "strong multicollinearity or other numerical problems.\n"
     ]
    }
   ],
   "source": [
    "print(pvalue(\"age50public_health\")) # pm10 pm25 temp humi"
   ]
  },
  {
   "cell_type": "markdown",
   "metadata": {},
   "source": [
    "* 80 요식업소"
   ]
  },
  {
   "cell_type": "code",
   "execution_count": 33,
   "metadata": {},
   "outputs": [
    {
     "name": "stdout",
     "output_type": "stream",
     "text": [
      "                            OLS Regression Results                            \n",
      "==============================================================================\n",
      "Dep. Variable:              age50food   R-squared:                       0.196\n",
      "Model:                            OLS   Adj. R-squared:                  0.176\n",
      "Method:                 Least Squares   F-statistic:                     9.628\n",
      "Date:                Tue, 10 Sep 2019   Prob (F-statistic):           3.54e-13\n",
      "Time:                        07:10:40   Log-Likelihood:                -3103.5\n",
      "No. Observations:                 365   AIC:                             6227.\n",
      "Df Residuals:                     355   BIC:                             6266.\n",
      "Df Model:                           9                                         \n",
      "Covariance Type:            nonrobust                                         \n",
      "================================================================================\n",
      "                   coef    std err          t      P>|t|      [0.025      0.975]\n",
      "--------------------------------------------------------------------------------\n",
      "Intercept     1.471e+04    611.257     24.072      0.000    1.35e+04    1.59e+04\n",
      "pm10           -20.1150      5.398     -3.726      0.000     -30.732      -9.498\n",
      "pm25            31.2185      7.327      4.261      0.000      16.809      45.629\n",
      "temp            49.0370     16.012      3.062      0.002      17.546      80.528\n",
      "humi            -0.8797     13.247     -0.066      0.947     -26.932      25.173\n",
      "CONTENT          1.3436      0.931      1.442      0.150      -0.488       3.175\n",
      "rain           -27.4559     15.107     -1.817      0.070     -57.165       2.254\n",
      "CONTENT:temp    -0.0495      0.031     -1.622      0.106      -0.110       0.011\n",
      "CONTENT:rain     0.0161      0.025      0.632      0.528      -0.034       0.066\n",
      "CONTENT:humi    -0.0348      0.021     -1.642      0.102      -0.077       0.007\n",
      "==============================================================================\n",
      "Omnibus:                      239.696   Durbin-Watson:                   1.007\n",
      "Prob(Omnibus):                  0.000   Jarque-Bera (JB):             4117.010\n",
      "Skew:                          -2.453   Prob(JB):                         0.00\n",
      "Kurtosis:                      18.705   Cond. No.                     3.04e+05\n",
      "==============================================================================\n",
      "\n",
      "Warnings:\n",
      "[1] Standard Errors assume that the covariance matrix of the errors is correctly specified.\n",
      "[2] The condition number is large, 3.04e+05. This might indicate that there are\n",
      "strong multicollinearity or other numerical problems.\n"
     ]
    }
   ],
   "source": [
    "print(pvalue(\"age50food\"))# pm10 pm25 temp"
   ]
  },
  {
   "cell_type": "markdown",
   "metadata": {},
   "source": [
    "* 81 음료식품"
   ]
  },
  {
   "cell_type": "code",
   "execution_count": 34,
   "metadata": {},
   "outputs": [
    {
     "name": "stdout",
     "output_type": "stream",
     "text": [
      "                            OLS Regression Results                            \n",
      "==============================================================================\n",
      "Dep. Variable:           age50grocery   R-squared:                       0.088\n",
      "Model:                            OLS   Adj. R-squared:                  0.065\n",
      "Method:                 Least Squares   F-statistic:                     3.818\n",
      "Date:                Tue, 10 Sep 2019   Prob (F-statistic):           0.000127\n",
      "Time:                        07:10:54   Log-Likelihood:                -2742.9\n",
      "No. Observations:                 365   AIC:                             5506.\n",
      "Df Residuals:                     355   BIC:                             5545.\n",
      "Df Model:                           9                                         \n",
      "Covariance Type:            nonrobust                                         \n",
      "================================================================================\n",
      "                   coef    std err          t      P>|t|      [0.025      0.975]\n",
      "--------------------------------------------------------------------------------\n",
      "Intercept     2976.4068    227.590     13.078      0.000    2528.813    3424.001\n",
      "pm10            -0.5537      2.010     -0.275      0.783      -4.507       3.399\n",
      "pm25             1.1237      2.728      0.412      0.681      -4.242       6.489\n",
      "temp           -20.8841      5.962     -3.503      0.001     -32.609      -9.159\n",
      "humi            10.3186      4.932      2.092      0.037       0.618      20.019\n",
      "CONTENT          0.8316      0.347      2.398      0.017       0.150       1.514\n",
      "rain            -4.8947      5.625     -0.870      0.385     -15.956       6.167\n",
      "CONTENT:temp     0.0280      0.011      2.462      0.014       0.006       0.050\n",
      "CONTENT:rain     0.0044      0.009      0.461      0.645      -0.014       0.023\n",
      "CONTENT:humi    -0.0200      0.008     -2.538      0.012      -0.036      -0.005\n",
      "==============================================================================\n",
      "Omnibus:                       78.369   Durbin-Watson:                   1.505\n",
      "Prob(Omnibus):                  0.000   Jarque-Bera (JB):              973.632\n",
      "Skew:                           0.457   Prob(JB):                    3.79e-212\n",
      "Kurtosis:                      10.949   Cond. No.                     3.04e+05\n",
      "==============================================================================\n",
      "\n",
      "Warnings:\n",
      "[1] Standard Errors assume that the covariance matrix of the errors is correctly specified.\n",
      "[2] The condition number is large, 3.04e+05. This might indicate that there are\n",
      "strong multicollinearity or other numerical problems.\n"
     ]
    }
   ],
   "source": [
    "print(pvalue('age50grocery'))  # temp humi CONTENT"
   ]
  },
  {
   "cell_type": "markdown",
   "metadata": {},
   "source": [
    "* 92 수리서비스"
   ]
  },
  {
   "cell_type": "code",
   "execution_count": 35,
   "metadata": {
    "scrolled": false
   },
   "outputs": [
    {
     "name": "stdout",
     "output_type": "stream",
     "text": [
      "                             OLS Regression Results                            \n",
      "===============================================================================\n",
      "Dep. Variable:     age50repair_service   R-squared:                       0.107\n",
      "Model:                             OLS   Adj. R-squared:                  0.084\n",
      "Method:                  Least Squares   F-statistic:                     4.722\n",
      "Date:                 Tue, 10 Sep 2019   Prob (F-statistic):           6.08e-06\n",
      "Time:                         07:11:10   Log-Likelihood:                -2197.4\n",
      "No. Observations:                  365   AIC:                             4415.\n",
      "Df Residuals:                      355   BIC:                             4454.\n",
      "Df Model:                            9                                         \n",
      "Covariance Type:             nonrobust                                         \n",
      "================================================================================\n",
      "                   coef    std err          t      P>|t|      [0.025      0.975]\n",
      "--------------------------------------------------------------------------------\n",
      "Intercept      273.2330     51.068      5.350      0.000     172.799     373.667\n",
      "pm10            -0.2286      0.451     -0.507      0.613      -1.116       0.658\n",
      "pm25             0.4790      0.612      0.783      0.434      -0.725       1.683\n",
      "temp            -3.8462      1.338     -2.875      0.004      -6.477      -1.215\n",
      "humi            -1.3097      1.107     -1.183      0.237      -3.486       0.867\n",
      "CONTENT         -0.0775      0.078     -0.996      0.320      -0.231       0.076\n",
      "rain             1.0268      1.262      0.814      0.416      -1.455       3.509\n",
      "CONTENT:temp     0.0080      0.003      3.136      0.002       0.003       0.013\n",
      "CONTENT:rain    -0.0031      0.002     -1.479      0.140      -0.007       0.001\n",
      "CONTENT:humi     0.0012      0.002      0.694      0.488      -0.002       0.005\n",
      "==============================================================================\n",
      "Omnibus:                       22.067   Durbin-Watson:                   2.414\n",
      "Prob(Omnibus):                  0.000   Jarque-Bera (JB):               33.754\n",
      "Skew:                           0.429   Prob(JB):                     4.68e-08\n",
      "Kurtosis:                       4.218   Cond. No.                     3.04e+05\n",
      "==============================================================================\n",
      "\n",
      "Warnings:\n",
      "[1] Standard Errors assume that the covariance matrix of the errors is correctly specified.\n",
      "[2] The condition number is large, 3.04e+05. This might indicate that there are\n",
      "strong multicollinearity or other numerical problems.\n"
     ]
    }
   ],
   "source": [
    "print(pvalue('age50repair_service')) # temp"
   ]
  },
  {
   "cell_type": "code",
   "execution_count": null,
   "metadata": {},
   "outputs": [],
   "source": []
  },
  {
   "cell_type": "code",
   "execution_count": null,
   "metadata": {},
   "outputs": [],
   "source": []
  }
 ],
 "metadata": {
  "kernelspec": {
   "display_name": "2019BigC",
   "language": "python",
   "name": "2019bigc"
  }
 },
 "nbformat": 4,
 "nbformat_minor": 4
}

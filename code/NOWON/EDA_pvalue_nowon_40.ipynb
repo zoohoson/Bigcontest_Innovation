{
 "cells": [
  {
   "cell_type": "markdown",
   "metadata": {},
   "source": [
    "# Multi Linear Regression을 이용하여 p-value 계산하기\n",
    "## p-value : 귀무가설을 가정하였을 때 표본 이상으로 극단적인 결과를 얻을 확률\n",
    "## 귀무가설 : Multi Linear Regression을 사용하여 회귀모델을 설계할 때 각 feature의 coefficient가 0이 됨\n",
    "- 따라서 p-value는 극단적인 결과를 얻을 확률이 적어야 안정적인 해당 feature가 안정적이라고 할 수 있다."
   ]
  },
  {
   "cell_type": "code",
   "execution_count": 1,
   "metadata": {},
   "outputs": [],
   "source": [
    "import warnings\n",
    "warnings.filterwarnings(\"ignore\")\n",
    "\n",
    "import pandas as pd\n",
    "import numpy as np\n",
    "\n",
    "import sklearn\n",
    "from sklearn.linear_model import Lasso, Ridge\n",
    "from sklearn.model_selection import train_test_split\n",
    "\n",
    "import matplotlib.pyplot as plt\n",
    "%matplotlib inline\n",
    "\n",
    "import scipy.stats as stats\n",
    "import urllib\n",
    "from statsmodels.formula.api import ols\n",
    "import statsmodels.api as sm\n",
    "from statsmodels.stats.anova import anova_lm\n",
    "from sklearn.linear_model import Lasso, Ridge\n",
    "from sklearn.model_selection import train_test_split"
   ]
  },
  {
   "cell_type": "code",
   "execution_count": 3,
   "metadata": {},
   "outputs": [],
   "source": [
    "# 나이대 별로 약 20개 이상의 feature에 대한 p-value를 확인해야하므로 나이대 별로 서로 다른 파일에 저장\n",
    "df_40 = pd.read_csv('../data/innovation/Merge_data/df_age40_nowon.csv')"
   ]
  },
  {
   "cell_type": "code",
   "execution_count": 4,
   "metadata": {},
   "outputs": [
    {
     "data": {
      "text/plain": [
       "Index(['age40accum', 'age40leisure goods', 'age40leisure busi', 'age40culture',\n",
       "       'age40furniture', 'age40electronic', 'age40kitchen', 'age40fuel',\n",
       "       'age40optic', 'age40Appliances', 'age40circul', 'age40cloth',\n",
       "       'age40textile', 'age40stuff', 'age40book', 'age40affair',\n",
       "       'age40car sell', 'age40car repair', 'age40medical',\n",
       "       'age40public health', 'age40food', 'age40grocery',\n",
       "       'age40repair survice', 'age40', 'LCLS_10_P', 'LCLS_20_P', 'LCLS_30_P',\n",
       "       'LCLS_40_P', 'LCLS_50_P', 'LCLS_60_P', 'LCLS_70_P', 'LCLS_80_P', 'pm10',\n",
       "       'pm25', 'humi', 'temp', 'CONTENT', 'rain'],\n",
       "      dtype='object')"
      ]
     },
     "execution_count": 4,
     "metadata": {},
     "output_type": "execute_result"
    }
   ],
   "source": [
    "df_40.columns"
   ]
  },
  {
   "cell_type": "code",
   "execution_count": 6,
   "metadata": {},
   "outputs": [],
   "source": [
    "df_40.columns = ['age40accum', 'age40leisure_goods', 'age40leisure_busi', 'age40culture',\n",
    "       'age40furniture', 'age40electronic', 'age40kitchen', 'age40fuel',\n",
    "       'age40optic', 'age40Appliances', 'age40circul', 'age40cloth',\n",
    "       'age40textile', 'age40stuff', 'age40book', 'age40affair',\n",
    "       'age40car_sell', 'age40car_repair', 'age40medical',\n",
    "       'age40public_health', 'age40food', 'age40grocery',\n",
    "       'age40repair_service', 'age40', 'LCLS_10_P', 'LCLS_20_P', 'LCLS_30_P',\n",
    "       'LCLS_40_P', 'LCLS_50_P', 'LCLS_60_P', 'LCLS_70_P', 'LCLS_80_P', 'pm10',\n",
    "       'pm25', 'humi', 'temp', 'CONTENT', 'rain']"
   ]
  },
  {
   "cell_type": "code",
   "execution_count": 7,
   "metadata": {},
   "outputs": [],
   "source": [
    "def pvalue(col_name):\n",
    "    formula = col_name + ' ~ pm10 + pm25 + temp + humi + CONTENT + rain + CONTENT:temp + CONTENT:rain + CONTENT:humi'\n",
    "    lm = ols(formula, df_40).fit()\n",
    "    return lm.summary()"
   ]
  },
  {
   "cell_type": "markdown",
   "metadata": {},
   "source": [
    "# p-value확인"
   ]
  },
  {
   "cell_type": "markdown",
   "metadata": {},
   "source": [
    "* 10 숙박"
   ]
  },
  {
   "cell_type": "code",
   "execution_count": 8,
   "metadata": {},
   "outputs": [
    {
     "name": "stdout",
     "output_type": "stream",
     "text": [
      "                            OLS Regression Results                            \n",
      "==============================================================================\n",
      "Dep. Variable:             age40accum   R-squared:                       0.127\n",
      "Model:                            OLS   Adj. R-squared:                  0.105\n",
      "Method:                 Least Squares   F-statistic:                     5.758\n",
      "Date:                Tue, 10 Sep 2019   Prob (F-statistic):           1.78e-07\n",
      "Time:                        06:49:25   Log-Likelihood:                -1581.0\n",
      "No. Observations:                 365   AIC:                             3182.\n",
      "Df Residuals:                     355   BIC:                             3221.\n",
      "Df Model:                           9                                         \n",
      "Covariance Type:            nonrobust                                         \n",
      "================================================================================\n",
      "                   coef    std err          t      P>|t|      [0.025      0.975]\n",
      "--------------------------------------------------------------------------------\n",
      "Intercept       73.6517      9.435      7.806      0.000      55.096      92.208\n",
      "pm10            -0.0309      0.083     -0.371      0.711      -0.195       0.133\n",
      "pm25             0.0118      0.113      0.105      0.917      -0.211       0.234\n",
      "temp            -0.0694      0.247     -0.281      0.779      -0.556       0.417\n",
      "humi             0.1120      0.204      0.548      0.584      -0.290       0.514\n",
      "CONTENT         -0.0094      0.014     -0.652      0.515      -0.038       0.019\n",
      "rain            -0.0700      0.233     -0.300      0.764      -0.529       0.389\n",
      "CONTENT:temp    -0.0004      0.000     -0.859      0.391      -0.001       0.001\n",
      "CONTENT:rain     0.0002      0.000      0.573      0.567      -0.001       0.001\n",
      "CONTENT:humi    -0.0003      0.000     -0.773      0.440      -0.001       0.000\n",
      "==============================================================================\n",
      "Omnibus:                        1.135   Durbin-Watson:                   1.741\n",
      "Prob(Omnibus):                  0.567   Jarque-Bera (JB):                1.236\n",
      "Skew:                           0.109   Prob(JB):                        0.539\n",
      "Kurtosis:                       2.817   Cond. No.                     3.04e+05\n",
      "==============================================================================\n",
      "\n",
      "Warnings:\n",
      "[1] Standard Errors assume that the covariance matrix of the errors is correctly specified.\n",
      "[2] The condition number is large, 3.04e+05. This might indicate that there are\n",
      "strong multicollinearity or other numerical problems.\n"
     ]
    }
   ],
   "source": [
    "print(pvalue(\"age40accum\"))"
   ]
  },
  {
   "cell_type": "markdown",
   "metadata": {},
   "source": [
    "* 20 레저용품"
   ]
  },
  {
   "cell_type": "code",
   "execution_count": 11,
   "metadata": {},
   "outputs": [
    {
     "name": "stdout",
     "output_type": "stream",
     "text": [
      "                            OLS Regression Results                            \n",
      "==============================================================================\n",
      "Dep. Variable:     age40leisure_goods   R-squared:                       0.435\n",
      "Model:                            OLS   Adj. R-squared:                  0.421\n",
      "Method:                 Least Squares   F-statistic:                     30.38\n",
      "Date:                Tue, 10 Sep 2019   Prob (F-statistic):           3.57e-39\n",
      "Time:                        06:56:43   Log-Likelihood:                -2276.5\n",
      "No. Observations:                 365   AIC:                             4573.\n",
      "Df Residuals:                     355   BIC:                             4612.\n",
      "Df Model:                           9                                         \n",
      "Covariance Type:            nonrobust                                         \n",
      "================================================================================\n",
      "                   coef    std err          t      P>|t|      [0.025      0.975]\n",
      "--------------------------------------------------------------------------------\n",
      "Intercept      415.9408     63.424      6.558      0.000     291.207     540.675\n",
      "pm10            -2.4954      0.560     -4.455      0.000      -3.597      -1.394\n",
      "pm25             5.7544      0.760      7.569      0.000       4.259       7.250\n",
      "temp             2.4749      1.661      1.490      0.137      -0.793       5.742\n",
      "humi            -0.4008      1.375     -0.292      0.771      -3.104       2.302\n",
      "CONTENT         -0.0144      0.097     -0.149      0.881      -0.204       0.176\n",
      "rain            -1.1463      1.567     -0.731      0.465      -4.229       1.936\n",
      "CONTENT:temp    -0.0103      0.003     -3.245      0.001      -0.017      -0.004\n",
      "CONTENT:rain     0.0018      0.003      0.671      0.503      -0.003       0.007\n",
      "CONTENT:humi    -0.0033      0.002     -1.518      0.130      -0.008       0.001\n",
      "==============================================================================\n",
      "Omnibus:                        6.405   Durbin-Watson:                   1.455\n",
      "Prob(Omnibus):                  0.041   Jarque-Bera (JB):                6.186\n",
      "Skew:                           0.294   Prob(JB):                       0.0454\n",
      "Kurtosis:                       3.245   Cond. No.                     3.04e+05\n",
      "==============================================================================\n",
      "\n",
      "Warnings:\n",
      "[1] Standard Errors assume that the covariance matrix of the errors is correctly specified.\n",
      "[2] The condition number is large, 3.04e+05. This might indicate that there are\n",
      "strong multicollinearity or other numerical problems.\n"
     ]
    }
   ],
   "source": [
    "print(pvalue(\"age40leisure_goods\")) # pm10 pm25"
   ]
  },
  {
   "cell_type": "markdown",
   "metadata": {},
   "source": [
    "* 21 레저업소"
   ]
  },
  {
   "cell_type": "code",
   "execution_count": 12,
   "metadata": {},
   "outputs": [
    {
     "name": "stdout",
     "output_type": "stream",
     "text": [
      "                            OLS Regression Results                            \n",
      "==============================================================================\n",
      "Dep. Variable:      age40leisure_busi   R-squared:                       0.404\n",
      "Model:                            OLS   Adj. R-squared:                  0.389\n",
      "Method:                 Least Squares   F-statistic:                     26.78\n",
      "Date:                Tue, 10 Sep 2019   Prob (F-statistic):           3.29e-35\n",
      "Time:                        06:56:50   Log-Likelihood:                -2469.3\n",
      "No. Observations:                 365   AIC:                             4959.\n",
      "Df Residuals:                     355   BIC:                             4998.\n",
      "Df Model:                           9                                         \n",
      "Covariance Type:            nonrobust                                         \n",
      "================================================================================\n",
      "                   coef    std err          t      P>|t|      [0.025      0.975]\n",
      "--------------------------------------------------------------------------------\n",
      "Intercept     1320.6461    107.566     12.278      0.000    1109.100    1532.192\n",
      "pm10            -2.7018      0.950     -2.844      0.005      -4.570      -0.834\n",
      "pm25             4.8262      1.289      3.743      0.000       2.290       7.362\n",
      "temp             7.2357      2.818      2.568      0.011       1.694      12.777\n",
      "humi            -0.9007      2.331     -0.386      0.699      -5.485       3.684\n",
      "CONTENT         -0.1811      0.164     -1.105      0.270      -0.503       0.141\n",
      "rain            -3.0750      2.658     -1.157      0.248      -8.303       2.153\n",
      "CONTENT:temp    -0.0250      0.005     -4.663      0.000      -0.036      -0.014\n",
      "CONTENT:rain     0.0038      0.004      0.851      0.395      -0.005       0.013\n",
      "CONTENT:humi    -0.0026      0.004     -0.701      0.483      -0.010       0.005\n",
      "==============================================================================\n",
      "Omnibus:                        4.738   Durbin-Watson:                   1.416\n",
      "Prob(Omnibus):                  0.094   Jarque-Bera (JB):                5.279\n",
      "Skew:                           0.146   Prob(JB):                       0.0714\n",
      "Kurtosis:                       3.512   Cond. No.                     3.04e+05\n",
      "==============================================================================\n",
      "\n",
      "Warnings:\n",
      "[1] Standard Errors assume that the covariance matrix of the errors is correctly specified.\n",
      "[2] The condition number is large, 3.04e+05. This might indicate that there are\n",
      "strong multicollinearity or other numerical problems.\n"
     ]
    }
   ],
   "source": [
    "print(pvalue(\"age40leisure_busi\")) # pm10 pm25 temp"
   ]
  },
  {
   "cell_type": "markdown",
   "metadata": {},
   "source": [
    "* 22 문화취미"
   ]
  },
  {
   "cell_type": "code",
   "execution_count": 13,
   "metadata": {},
   "outputs": [
    {
     "name": "stdout",
     "output_type": "stream",
     "text": [
      "                            OLS Regression Results                            \n",
      "==============================================================================\n",
      "Dep. Variable:           age40culture   R-squared:                       0.311\n",
      "Model:                            OLS   Adj. R-squared:                  0.294\n",
      "Method:                 Least Squares   F-statistic:                     17.81\n",
      "Date:                Tue, 10 Sep 2019   Prob (F-statistic):           2.20e-24\n",
      "Time:                        06:57:05   Log-Likelihood:                -2586.6\n",
      "No. Observations:                 365   AIC:                             5193.\n",
      "Df Residuals:                     355   BIC:                             5232.\n",
      "Df Model:                           9                                         \n",
      "Covariance Type:            nonrobust                                         \n",
      "================================================================================\n",
      "                   coef    std err          t      P>|t|      [0.025      0.975]\n",
      "--------------------------------------------------------------------------------\n",
      "Intercept     1014.5932    148.315      6.841      0.000     722.906    1306.280\n",
      "pm10            -1.8836      1.310     -1.438      0.151      -4.460       0.692\n",
      "pm25             4.3371      1.778      2.439      0.015       0.841       7.834\n",
      "temp            17.5088      3.885      4.506      0.000       9.868      25.150\n",
      "humi            -7.1300      3.214     -2.218      0.027     -13.451      -0.809\n",
      "CONTENT         -0.4117      0.226     -1.821      0.069      -0.856       0.033\n",
      "rain             0.4879      3.665      0.133      0.894      -6.721       7.697\n",
      "CONTENT:temp    -0.0376      0.007     -5.079      0.000      -0.052      -0.023\n",
      "CONTENT:rain    -0.0004      0.006     -0.058      0.953      -0.013       0.012\n",
      "CONTENT:humi     0.0046      0.005      0.896      0.371      -0.006       0.015\n",
      "==============================================================================\n",
      "Omnibus:                       44.044   Durbin-Watson:                   0.885\n",
      "Prob(Omnibus):                  0.000   Jarque-Bera (JB):               63.190\n",
      "Skew:                           0.804   Prob(JB):                     1.90e-14\n",
      "Kurtosis:                       4.253   Cond. No.                     3.04e+05\n",
      "==============================================================================\n",
      "\n",
      "Warnings:\n",
      "[1] Standard Errors assume that the covariance matrix of the errors is correctly specified.\n",
      "[2] The condition number is large, 3.04e+05. This might indicate that there are\n",
      "strong multicollinearity or other numerical problems.\n"
     ]
    }
   ],
   "source": [
    "print(pvalue('age40culture'))  # pm25 temp humi"
   ]
  },
  {
   "cell_type": "markdown",
   "metadata": {},
   "source": [
    "* 30 가구"
   ]
  },
  {
   "cell_type": "code",
   "execution_count": 15,
   "metadata": {
    "scrolled": false
   },
   "outputs": [
    {
     "name": "stdout",
     "output_type": "stream",
     "text": [
      "                            OLS Regression Results                            \n",
      "==============================================================================\n",
      "Dep. Variable:         age40furniture   R-squared:                       0.047\n",
      "Model:                            OLS   Adj. R-squared:                  0.022\n",
      "Method:                 Least Squares   F-statistic:                     1.924\n",
      "Date:                Tue, 10 Sep 2019   Prob (F-statistic):             0.0475\n",
      "Time:                        07:02:17   Log-Likelihood:                -1443.0\n",
      "No. Observations:                 365   AIC:                             2906.\n",
      "Df Residuals:                     355   BIC:                             2945.\n",
      "Df Model:                           9                                         \n",
      "Covariance Type:            nonrobust                                         \n",
      "================================================================================\n",
      "                   coef    std err          t      P>|t|      [0.025      0.975]\n",
      "--------------------------------------------------------------------------------\n",
      "Intercept       15.7954      6.465      2.443      0.015       3.081      28.510\n",
      "pm10            -0.0045      0.057     -0.079      0.937      -0.117       0.108\n",
      "pm25             0.0219      0.077      0.282      0.778      -0.131       0.174\n",
      "temp             0.2390      0.169      1.411      0.159      -0.094       0.572\n",
      "humi             0.0007      0.140      0.005      0.996      -0.275       0.276\n",
      "CONTENT          0.0050      0.010      0.508      0.612      -0.014       0.024\n",
      "rain            -0.0505      0.160     -0.316      0.752      -0.365       0.264\n",
      "CONTENT:temp    -0.0007      0.000     -2.021      0.044      -0.001   -1.76e-05\n",
      "CONTENT:rain     0.0001      0.000      0.412      0.681      -0.000       0.001\n",
      "CONTENT:humi    -0.0001      0.000     -0.498      0.619      -0.001       0.000\n",
      "==============================================================================\n",
      "Omnibus:                       12.048   Durbin-Watson:                   1.768\n",
      "Prob(Omnibus):                  0.002   Jarque-Bera (JB):               11.205\n",
      "Skew:                           0.374   Prob(JB):                      0.00369\n",
      "Kurtosis:                       2.581   Cond. No.                     3.04e+05\n",
      "==============================================================================\n",
      "\n",
      "Warnings:\n",
      "[1] Standard Errors assume that the covariance matrix of the errors is correctly specified.\n",
      "[2] The condition number is large, 3.04e+05. This might indicate that there are\n",
      "strong multicollinearity or other numerical problems.\n"
     ]
    }
   ],
   "source": [
    "print(pvalue('age40furniture')) "
   ]
  },
  {
   "cell_type": "markdown",
   "metadata": {},
   "source": [
    "* 전기 31"
   ]
  },
  {
   "cell_type": "code",
   "execution_count": 16,
   "metadata": {},
   "outputs": [
    {
     "name": "stdout",
     "output_type": "stream",
     "text": [
      "                            OLS Regression Results                            \n",
      "==============================================================================\n",
      "Dep. Variable:        age40electronic   R-squared:                       0.053\n",
      "Model:                            OLS   Adj. R-squared:                  0.029\n",
      "Method:                 Least Squares   F-statistic:                     2.200\n",
      "Date:                Tue, 10 Sep 2019   Prob (F-statistic):             0.0216\n",
      "Time:                        07:02:38   Log-Likelihood:                -1165.0\n",
      "No. Observations:                 365   AIC:                             2350.\n",
      "Df Residuals:                     355   BIC:                             2389.\n",
      "Df Model:                           9                                         \n",
      "Covariance Type:            nonrobust                                         \n",
      "================================================================================\n",
      "                   coef    std err          t      P>|t|      [0.025      0.975]\n",
      "--------------------------------------------------------------------------------\n",
      "Intercept        3.2416      3.018      1.074      0.284      -2.694       9.177\n",
      "pm10             0.0429      0.027      1.609      0.109      -0.010       0.095\n",
      "pm25            -0.0683      0.036     -1.887      0.060      -0.139       0.003\n",
      "temp            -0.0647      0.079     -0.819      0.413      -0.220       0.091\n",
      "humi             0.0070      0.065      0.108      0.914      -0.122       0.136\n",
      "CONTENT          0.0017      0.005      0.361      0.718      -0.007       0.011\n",
      "rain            -0.0558      0.075     -0.748      0.455      -0.202       0.091\n",
      "CONTENT:temp    -0.0001      0.000     -0.691      0.490      -0.000       0.000\n",
      "CONTENT:rain  5.084e-05      0.000      0.405      0.686      -0.000       0.000\n",
      "CONTENT:humi -8.461e-06      0.000     -0.081      0.936      -0.000       0.000\n",
      "==============================================================================\n",
      "Omnibus:                      138.691   Durbin-Watson:                   1.862\n",
      "Prob(Omnibus):                  0.000   Jarque-Bera (JB):              350.070\n",
      "Skew:                           1.911   Prob(JB):                     9.62e-77\n",
      "Kurtosis:                       5.899   Cond. No.                     3.04e+05\n",
      "==============================================================================\n",
      "\n",
      "Warnings:\n",
      "[1] Standard Errors assume that the covariance matrix of the errors is correctly specified.\n",
      "[2] The condition number is large, 3.04e+05. This might indicate that there are\n",
      "strong multicollinearity or other numerical problems.\n"
     ]
    }
   ],
   "source": [
    "print(pvalue('age40electronic'))  "
   ]
  },
  {
   "cell_type": "markdown",
   "metadata": {},
   "source": [
    "* 32 주방용구"
   ]
  },
  {
   "cell_type": "code",
   "execution_count": 17,
   "metadata": {},
   "outputs": [
    {
     "name": "stdout",
     "output_type": "stream",
     "text": [
      "                            OLS Regression Results                            \n",
      "==============================================================================\n",
      "Dep. Variable:           age40kitchen   R-squared:                       0.024\n",
      "Model:                            OLS   Adj. R-squared:                 -0.000\n",
      "Method:                 Least Squares   F-statistic:                    0.9837\n",
      "Date:                Tue, 10 Sep 2019   Prob (F-statistic):              0.453\n",
      "Time:                        07:02:47   Log-Likelihood:                -1316.9\n",
      "No. Observations:                 365   AIC:                             2654.\n",
      "Df Residuals:                     355   BIC:                             2693.\n",
      "Df Model:                           9                                         \n",
      "Covariance Type:            nonrobust                                         \n",
      "================================================================================\n",
      "                   coef    std err          t      P>|t|      [0.025      0.975]\n",
      "--------------------------------------------------------------------------------\n",
      "Intercept        7.9001      4.575      1.727      0.085      -1.098      16.898\n",
      "pm10            -0.0578      0.040     -1.430      0.154      -0.137       0.022\n",
      "pm25             0.0692      0.055      1.262      0.208      -0.039       0.177\n",
      "temp             0.0777      0.120      0.648      0.517      -0.158       0.313\n",
      "humi            -0.0380      0.099     -0.383      0.702      -0.233       0.157\n",
      "CONTENT          0.0010      0.007      0.150      0.881      -0.013       0.015\n",
      "rain            -0.1320      0.113     -1.168      0.244      -0.354       0.090\n",
      "CONTENT:temp -3.197e-05      0.000     -0.140      0.889      -0.000       0.000\n",
      "CONTENT:rain     0.0002      0.000      0.972      0.332      -0.000       0.001\n",
      "CONTENT:humi  4.741e-05      0.000      0.299      0.765      -0.000       0.000\n",
      "==============================================================================\n",
      "Omnibus:                       38.457   Durbin-Watson:                   1.953\n",
      "Prob(Omnibus):                  0.000   Jarque-Bera (JB):               48.782\n",
      "Skew:                           0.891   Prob(JB):                     2.55e-11\n",
      "Kurtosis:                       2.822   Cond. No.                     3.04e+05\n",
      "==============================================================================\n",
      "\n",
      "Warnings:\n",
      "[1] Standard Errors assume that the covariance matrix of the errors is correctly specified.\n",
      "[2] The condition number is large, 3.04e+05. This might indicate that there are\n",
      "strong multicollinearity or other numerical problems.\n"
     ]
    }
   ],
   "source": [
    "print(pvalue(\"age40kitchen\"))"
   ]
  },
  {
   "cell_type": "markdown",
   "metadata": {},
   "source": [
    "* 33 연료"
   ]
  },
  {
   "cell_type": "code",
   "execution_count": 18,
   "metadata": {},
   "outputs": [
    {
     "name": "stdout",
     "output_type": "stream",
     "text": [
      "                            OLS Regression Results                            \n",
      "==============================================================================\n",
      "Dep. Variable:              age40fuel   R-squared:                       0.371\n",
      "Model:                            OLS   Adj. R-squared:                  0.355\n",
      "Method:                 Least Squares   F-statistic:                     23.28\n",
      "Date:                Tue, 10 Sep 2019   Prob (F-statistic):           3.77e-31\n",
      "Time:                        07:02:52   Log-Likelihood:                -2452.7\n",
      "No. Observations:                 365   AIC:                             4925.\n",
      "Df Residuals:                     355   BIC:                             4964.\n",
      "Df Model:                           9                                         \n",
      "Covariance Type:            nonrobust                                         \n",
      "================================================================================\n",
      "                   coef    std err          t      P>|t|      [0.025      0.975]\n",
      "--------------------------------------------------------------------------------\n",
      "Intercept     1929.8917    102.773     18.778      0.000    1727.771    2132.012\n",
      "pm10            -0.6822      0.908     -0.752      0.453      -2.467       1.103\n",
      "pm25             0.6108      1.232      0.496      0.620      -1.812       3.034\n",
      "temp            13.8638      2.692      5.150      0.000       8.569      19.159\n",
      "humi            -0.7625      2.227     -0.342      0.732      -5.143       3.618\n",
      "CONTENT         -0.1398      0.157     -0.893      0.373      -0.448       0.168\n",
      "rain            -5.7515      2.540     -2.264      0.024     -10.747      -0.756\n",
      "CONTENT:temp    -0.0186      0.005     -3.620      0.000      -0.029      -0.008\n",
      "CONTENT:rain     0.0037      0.004      0.854      0.394      -0.005       0.012\n",
      "CONTENT:humi    -0.0011      0.004     -0.316      0.752      -0.008       0.006\n",
      "==============================================================================\n",
      "Omnibus:                       16.832   Durbin-Watson:                   1.266\n",
      "Prob(Omnibus):                  0.000   Jarque-Bera (JB):               21.443\n",
      "Skew:                           0.402   Prob(JB):                     2.21e-05\n",
      "Kurtosis:                       3.873   Cond. No.                     3.04e+05\n",
      "==============================================================================\n",
      "\n",
      "Warnings:\n",
      "[1] Standard Errors assume that the covariance matrix of the errors is correctly specified.\n",
      "[2] The condition number is large, 3.04e+05. This might indicate that there are\n",
      "strong multicollinearity or other numerical problems.\n"
     ]
    }
   ],
   "source": [
    "print(pvalue(\"age40fuel\")) # temp  rain"
   ]
  },
  {
   "cell_type": "markdown",
   "metadata": {},
   "source": [
    "* 33 광학"
   ]
  },
  {
   "cell_type": "code",
   "execution_count": 19,
   "metadata": {},
   "outputs": [
    {
     "name": "stdout",
     "output_type": "stream",
     "text": [
      "                            OLS Regression Results                            \n",
      "==============================================================================\n",
      "Dep. Variable:             age40optic   R-squared:                       0.210\n",
      "Model:                            OLS   Adj. R-squared:                  0.189\n",
      "Method:                 Least Squares   F-statistic:                     10.46\n",
      "Date:                Tue, 10 Sep 2019   Prob (F-statistic):           2.27e-14\n",
      "Time:                        07:03:06   Log-Likelihood:                -1754.2\n",
      "No. Observations:                 365   AIC:                             3528.\n",
      "Df Residuals:                     355   BIC:                             3567.\n",
      "Df Model:                           9                                         \n",
      "Covariance Type:            nonrobust                                         \n",
      "================================================================================\n",
      "                   coef    std err          t      P>|t|      [0.025      0.975]\n",
      "--------------------------------------------------------------------------------\n",
      "Intercept       51.5077     15.161      3.397      0.001      21.691      81.325\n",
      "pm10            -0.0411      0.134     -0.307      0.759      -0.304       0.222\n",
      "pm25             0.5028      0.182      2.767      0.006       0.145       0.860\n",
      "temp             0.1910      0.397      0.481      0.631      -0.590       0.972\n",
      "humi            -0.4534      0.329     -1.380      0.168      -1.100       0.193\n",
      "CONTENT          0.0168      0.023      0.728      0.467      -0.029       0.062\n",
      "rain             0.4791      0.375      1.279      0.202      -0.258       1.216\n",
      "CONTENT:temp -2.823e-05      0.001     -0.037      0.970      -0.002       0.001\n",
      "CONTENT:rain    -0.0003      0.001     -0.511      0.610      -0.002       0.001\n",
      "CONTENT:humi  8.509e-05      0.001      0.162      0.872      -0.001       0.001\n",
      "==============================================================================\n",
      "Omnibus:                        6.590   Durbin-Watson:                   1.744\n",
      "Prob(Omnibus):                  0.037   Jarque-Bera (JB):                8.173\n",
      "Skew:                           0.167   Prob(JB):                       0.0168\n",
      "Kurtosis:                       3.653   Cond. No.                     3.04e+05\n",
      "==============================================================================\n",
      "\n",
      "Warnings:\n",
      "[1] Standard Errors assume that the covariance matrix of the errors is correctly specified.\n",
      "[2] The condition number is large, 3.04e+05. This might indicate that there are\n",
      "strong multicollinearity or other numerical problems.\n"
     ]
    }
   ],
   "source": [
    "print(pvalue(\"age40optic\"))  # pm25"
   ]
  },
  {
   "cell_type": "markdown",
   "metadata": {},
   "source": [
    "* 35 가전"
   ]
  },
  {
   "cell_type": "code",
   "execution_count": 20,
   "metadata": {},
   "outputs": [
    {
     "name": "stdout",
     "output_type": "stream",
     "text": [
      "                            OLS Regression Results                            \n",
      "==============================================================================\n",
      "Dep. Variable:        age40Appliances   R-squared:                       0.140\n",
      "Model:                            OLS   Adj. R-squared:                  0.118\n",
      "Method:                 Least Squares   F-statistic:                     6.425\n",
      "Date:                Tue, 10 Sep 2019   Prob (F-statistic):           1.82e-08\n",
      "Time:                        07:03:24   Log-Likelihood:                -1889.9\n",
      "No. Observations:                 365   AIC:                             3800.\n",
      "Df Residuals:                     355   BIC:                             3839.\n",
      "Df Model:                           9                                         \n",
      "Covariance Type:            nonrobust                                         \n",
      "================================================================================\n",
      "                   coef    std err          t      P>|t|      [0.025      0.975]\n",
      "--------------------------------------------------------------------------------\n",
      "Intercept      133.1414     21.991      6.054      0.000      89.892     176.390\n",
      "pm10            -0.0324      0.194     -0.167      0.868      -0.414       0.350\n",
      "pm25             0.2007      0.264      0.761      0.447      -0.318       0.719\n",
      "temp             2.1315      0.576      3.700      0.000       0.999       3.264\n",
      "humi            -0.9165      0.477     -1.923      0.055      -1.854       0.021\n",
      "CONTENT         -0.0424      0.034     -1.265      0.207      -0.108       0.024\n",
      "rain             0.3507      0.543      0.645      0.519      -0.718       1.420\n",
      "CONTENT:temp    -0.0005      0.001     -0.417      0.677      -0.003       0.002\n",
      "CONTENT:rain    -0.0006      0.001     -0.684      0.494      -0.002       0.001\n",
      "CONTENT:humi     0.0009      0.001      1.125      0.261      -0.001       0.002\n",
      "==============================================================================\n",
      "Omnibus:                        3.128   Durbin-Watson:                   2.386\n",
      "Prob(Omnibus):                  0.209   Jarque-Bera (JB):                3.161\n",
      "Skew:                           0.113   Prob(JB):                        0.206\n",
      "Kurtosis:                       3.396   Cond. No.                     3.04e+05\n",
      "==============================================================================\n",
      "\n",
      "Warnings:\n",
      "[1] Standard Errors assume that the covariance matrix of the errors is correctly specified.\n",
      "[2] The condition number is large, 3.04e+05. This might indicate that there are\n",
      "strong multicollinearity or other numerical problems.\n"
     ]
    }
   ],
   "source": [
    "print(pvalue(\"age40Appliances\")) # temp"
   ]
  },
  {
   "cell_type": "markdown",
   "metadata": {},
   "source": [
    "* 40 유통업"
   ]
  },
  {
   "cell_type": "code",
   "execution_count": 23,
   "metadata": {},
   "outputs": [
    {
     "name": "stdout",
     "output_type": "stream",
     "text": [
      "                            OLS Regression Results                            \n",
      "==============================================================================\n",
      "Dep. Variable:            age40circul   R-squared:                       0.389\n",
      "Model:                            OLS   Adj. R-squared:                  0.374\n",
      "Method:                 Least Squares   F-statistic:                     25.12\n",
      "Date:                Tue, 10 Sep 2019   Prob (F-statistic):           2.63e-33\n",
      "Time:                        07:04:11   Log-Likelihood:                -3517.6\n",
      "No. Observations:                 365   AIC:                             7055.\n",
      "Df Residuals:                     355   BIC:                             7094.\n",
      "Df Model:                           9                                         \n",
      "Covariance Type:            nonrobust                                         \n",
      "================================================================================\n",
      "                   coef    std err          t      P>|t|      [0.025      0.975]\n",
      "--------------------------------------------------------------------------------\n",
      "Intercept     3.818e+04   1900.992     20.086      0.000    3.44e+04    4.19e+04\n",
      "pm10           -47.7628     16.789     -2.845      0.005     -80.781     -14.745\n",
      "pm25            58.2358     22.787      2.556      0.011      13.421     103.050\n",
      "temp           200.2594     49.798      4.021      0.000     102.323     298.196\n",
      "humi            21.1672     41.198      0.514      0.608     -59.856     102.190\n",
      "CONTENT         -0.2782      2.897     -0.096      0.924      -5.975       5.419\n",
      "rain           -74.3987     46.981     -1.584      0.114    -166.795      17.997\n",
      "CONTENT:temp    -0.0618      0.095     -0.651      0.515      -0.248       0.125\n",
      "CONTENT:rain     0.0162      0.079      0.205      0.837      -0.139       0.172\n",
      "CONTENT:humi    -0.1018      0.066     -1.543      0.124      -0.232       0.028\n",
      "==============================================================================\n",
      "Omnibus:                       21.013   Durbin-Watson:                   1.724\n",
      "Prob(Omnibus):                  0.000   Jarque-Bera (JB):               54.205\n",
      "Skew:                           0.195   Prob(JB):                     1.70e-12\n",
      "Kurtosis:                       4.847   Cond. No.                     3.04e+05\n",
      "==============================================================================\n",
      "\n",
      "Warnings:\n",
      "[1] Standard Errors assume that the covariance matrix of the errors is correctly specified.\n",
      "[2] The condition number is large, 3.04e+05. This might indicate that there are\n",
      "strong multicollinearity or other numerical problems.\n"
     ]
    }
   ],
   "source": [
    "print(pvalue(\"age40circul\")) # pm10, pm25 temp"
   ]
  },
  {
   "cell_type": "markdown",
   "metadata": {},
   "source": [
    "* 42 의복"
   ]
  },
  {
   "cell_type": "code",
   "execution_count": 25,
   "metadata": {},
   "outputs": [
    {
     "name": "stdout",
     "output_type": "stream",
     "text": [
      "                            OLS Regression Results                            \n",
      "==============================================================================\n",
      "Dep. Variable:             age40cloth   R-squared:                       0.093\n",
      "Model:                            OLS   Adj. R-squared:                  0.070\n",
      "Method:                 Least Squares   F-statistic:                     4.042\n",
      "Date:                Tue, 10 Sep 2019   Prob (F-statistic):           6.02e-05\n",
      "Time:                        07:04:21   Log-Likelihood:                -2309.3\n",
      "No. Observations:                 365   AIC:                             4639.\n",
      "Df Residuals:                     355   BIC:                             4678.\n",
      "Df Model:                           9                                         \n",
      "Covariance Type:            nonrobust                                         \n",
      "================================================================================\n",
      "                   coef    std err          t      P>|t|      [0.025      0.975]\n",
      "--------------------------------------------------------------------------------\n",
      "Intercept      313.0453     69.382      4.512      0.000     176.594     449.497\n",
      "pm10             0.2785      0.613      0.455      0.650      -0.927       1.484\n",
      "pm25            -0.1647      0.832     -0.198      0.843      -1.800       1.471\n",
      "temp            -2.9107      1.818     -1.601      0.110      -6.485       0.664\n",
      "humi             2.5567      1.504      1.700      0.090      -0.400       5.514\n",
      "CONTENT          0.0921      0.106      0.871      0.384      -0.116       0.300\n",
      "rain            -4.2289      1.715     -2.466      0.014      -7.601      -0.857\n",
      "CONTENT:temp     0.0112      0.003      3.244      0.001       0.004       0.018\n",
      "CONTENT:rain     0.0036      0.003      1.263      0.208      -0.002       0.009\n",
      "CONTENT:humi    -0.0054      0.002     -2.230      0.026      -0.010      -0.001\n",
      "==============================================================================\n",
      "Omnibus:                      226.205   Durbin-Watson:                   0.896\n",
      "Prob(Omnibus):                  0.000   Jarque-Bera (JB):             2956.169\n",
      "Skew:                           2.365   Prob(JB):                         0.00\n",
      "Kurtosis:                      16.115   Cond. No.                     3.04e+05\n",
      "==============================================================================\n",
      "\n",
      "Warnings:\n",
      "[1] Standard Errors assume that the covariance matrix of the errors is correctly specified.\n",
      "[2] The condition number is large, 3.04e+05. This might indicate that there are\n",
      "strong multicollinearity or other numerical problems.\n"
     ]
    }
   ],
   "source": [
    "print(pvalue(\"age40cloth\")) # rain"
   ]
  },
  {
   "cell_type": "markdown",
   "metadata": {},
   "source": [
    "* 43 직물"
   ]
  },
  {
   "cell_type": "code",
   "execution_count": 26,
   "metadata": {},
   "outputs": [
    {
     "name": "stdout",
     "output_type": "stream",
     "text": [
      "                            OLS Regression Results                            \n",
      "==============================================================================\n",
      "Dep. Variable:           age40textile   R-squared:                       0.049\n",
      "Model:                            OLS   Adj. R-squared:                  0.025\n",
      "Method:                 Least Squares   F-statistic:                     2.047\n",
      "Date:                Tue, 10 Sep 2019   Prob (F-statistic):             0.0336\n",
      "Time:                        07:04:32   Log-Likelihood:                -1414.7\n",
      "No. Observations:                 365   AIC:                             2849.\n",
      "Df Residuals:                     355   BIC:                             2888.\n",
      "Df Model:                           9                                         \n",
      "Covariance Type:            nonrobust                                         \n",
      "================================================================================\n",
      "                   coef    std err          t      P>|t|      [0.025      0.975]\n",
      "--------------------------------------------------------------------------------\n",
      "Intercept       16.8406      5.981      2.815      0.005       5.077      28.604\n",
      "pm10            -0.0099      0.053     -0.187      0.852      -0.114       0.094\n",
      "pm25             0.0216      0.072      0.302      0.763      -0.119       0.163\n",
      "temp             0.3328      0.157      2.124      0.034       0.025       0.641\n",
      "humi            -0.2100      0.130     -1.620      0.106      -0.465       0.045\n",
      "CONTENT         -0.0138      0.009     -1.514      0.131      -0.032       0.004\n",
      "rain            -0.0992      0.148     -0.671      0.503      -0.390       0.192\n",
      "CONTENT:temp    -0.0004      0.000     -1.199      0.231      -0.001       0.000\n",
      "CONTENT:rain    -0.0001      0.000     -0.426      0.670      -0.001       0.000\n",
      "CONTENT:humi     0.0004      0.000      1.896      0.059   -1.46e-05       0.001\n",
      "==============================================================================\n",
      "Omnibus:                       47.739   Durbin-Watson:                   1.756\n",
      "Prob(Omnibus):                  0.000   Jarque-Bera (JB):               64.419\n",
      "Skew:                           0.912   Prob(JB):                     1.03e-14\n",
      "Kurtosis:                       3.953   Cond. No.                     3.04e+05\n",
      "==============================================================================\n",
      "\n",
      "Warnings:\n",
      "[1] Standard Errors assume that the covariance matrix of the errors is correctly specified.\n",
      "[2] The condition number is large, 3.04e+05. This might indicate that there are\n",
      "strong multicollinearity or other numerical problems.\n"
     ]
    }
   ],
   "source": [
    "print(pvalue(\"age40textile\")) # temp"
   ]
  },
  {
   "cell_type": "markdown",
   "metadata": {},
   "source": [
    "* 44 신변잡화"
   ]
  },
  {
   "cell_type": "code",
   "execution_count": 27,
   "metadata": {},
   "outputs": [
    {
     "name": "stdout",
     "output_type": "stream",
     "text": [
      "                            OLS Regression Results                            \n",
      "==============================================================================\n",
      "Dep. Variable:             age40stuff   R-squared:                       0.224\n",
      "Model:                            OLS   Adj. R-squared:                  0.205\n",
      "Method:                 Least Squares   F-statistic:                     11.40\n",
      "Date:                Tue, 10 Sep 2019   Prob (F-statistic):           1.03e-15\n",
      "Time:                        07:04:41   Log-Likelihood:                -1902.7\n",
      "No. Observations:                 365   AIC:                             3825.\n",
      "Df Residuals:                     355   BIC:                             3864.\n",
      "Df Model:                           9                                         \n",
      "Covariance Type:            nonrobust                                         \n",
      "================================================================================\n",
      "                   coef    std err          t      P>|t|      [0.025      0.975]\n",
      "--------------------------------------------------------------------------------\n",
      "Intercept      203.8518     22.773      8.951      0.000     159.064     248.640\n",
      "pm10            -0.5139      0.201     -2.555      0.011      -0.909      -0.118\n",
      "pm25             0.6169      0.273      2.260      0.024       0.080       1.154\n",
      "temp             0.2550      0.597      0.427      0.669      -0.918       1.428\n",
      "humi            -0.3552      0.494     -0.720      0.472      -1.326       0.615\n",
      "CONTENT         -0.0375      0.035     -1.081      0.280      -0.106       0.031\n",
      "rain            -0.9612      0.563     -1.708      0.089      -2.068       0.146\n",
      "CONTENT:temp     0.0003      0.001      0.222      0.824      -0.002       0.002\n",
      "CONTENT:rain     0.0007      0.001      0.694      0.488      -0.001       0.003\n",
      "CONTENT:humi    -0.0007      0.001     -0.869      0.385      -0.002       0.001\n",
      "==============================================================================\n",
      "Omnibus:                       28.307   Durbin-Watson:                   1.572\n",
      "Prob(Omnibus):                  0.000   Jarque-Bera (JB):               33.165\n",
      "Skew:                           0.667   Prob(JB):                     6.28e-08\n",
      "Kurtosis:                       3.634   Cond. No.                     3.04e+05\n",
      "==============================================================================\n",
      "\n",
      "Warnings:\n",
      "[1] Standard Errors assume that the covariance matrix of the errors is correctly specified.\n",
      "[2] The condition number is large, 3.04e+05. This might indicate that there are\n",
      "strong multicollinearity or other numerical problems.\n"
     ]
    }
   ],
   "source": [
    "print(pvalue(\"age40stuff\"))  # pm10 pm25"
   ]
  },
  {
   "cell_type": "markdown",
   "metadata": {},
   "source": [
    "* 50 서적문구"
   ]
  },
  {
   "cell_type": "code",
   "execution_count": 28,
   "metadata": {},
   "outputs": [
    {
     "name": "stdout",
     "output_type": "stream",
     "text": [
      "                            OLS Regression Results                            \n",
      "==============================================================================\n",
      "Dep. Variable:              age40book   R-squared:                       0.241\n",
      "Model:                            OLS   Adj. R-squared:                  0.222\n",
      "Method:                 Least Squares   F-statistic:                     12.54\n",
      "Date:                Tue, 10 Sep 2019   Prob (F-statistic):           2.62e-17\n",
      "Time:                        07:04:53   Log-Likelihood:                -2809.0\n",
      "No. Observations:                 365   AIC:                             5638.\n",
      "Df Residuals:                     355   BIC:                             5677.\n",
      "Df Model:                           9                                         \n",
      "Covariance Type:            nonrobust                                         \n",
      "================================================================================\n",
      "                   coef    std err          t      P>|t|      [0.025      0.975]\n",
      "--------------------------------------------------------------------------------\n",
      "Intercept     1316.2751    272.760      4.826      0.000     779.847    1852.703\n",
      "pm10            -2.4760      2.409     -1.028      0.305      -7.214       2.261\n",
      "pm25            15.1701      3.270      4.640      0.000       8.740      21.600\n",
      "temp            20.4199      7.145      2.858      0.005       6.368      34.472\n",
      "humi            -5.3175      5.911     -0.900      0.369     -16.943       6.308\n",
      "CONTENT         -0.1459      0.416     -0.351      0.726      -0.963       0.672\n",
      "rain             4.9509      6.741      0.734      0.463      -8.306      18.208\n",
      "CONTENT:temp    -0.0094      0.014     -0.688      0.492      -0.036       0.017\n",
      "CONTENT:rain    -0.0068      0.011     -0.598      0.550      -0.029       0.016\n",
      "CONTENT:humi    -0.0007      0.009     -0.072      0.943      -0.019       0.018\n",
      "==============================================================================\n",
      "Omnibus:                      222.990   Durbin-Watson:                   0.589\n",
      "Prob(Omnibus):                  0.000   Jarque-Bera (JB):             3106.248\n",
      "Skew:                           2.292   Prob(JB):                         0.00\n",
      "Kurtosis:                      16.537   Cond. No.                     3.04e+05\n",
      "==============================================================================\n",
      "\n",
      "Warnings:\n",
      "[1] Standard Errors assume that the covariance matrix of the errors is correctly specified.\n",
      "[2] The condition number is large, 3.04e+05. This might indicate that there are\n",
      "strong multicollinearity or other numerical problems.\n"
     ]
    }
   ],
   "source": [
    "print(pvalue(\"age40book\"))  # pm25 temp"
   ]
  },
  {
   "cell_type": "markdown",
   "metadata": {},
   "source": [
    "* 52 사무통신"
   ]
  },
  {
   "cell_type": "code",
   "execution_count": 29,
   "metadata": {},
   "outputs": [
    {
     "name": "stdout",
     "output_type": "stream",
     "text": [
      "                            OLS Regression Results                            \n",
      "==============================================================================\n",
      "Dep. Variable:            age40affair   R-squared:                       0.086\n",
      "Model:                            OLS   Adj. R-squared:                  0.063\n",
      "Method:                 Least Squares   F-statistic:                     3.707\n",
      "Date:                Tue, 10 Sep 2019   Prob (F-statistic):           0.000184\n",
      "Time:                        07:05:06   Log-Likelihood:                -1443.0\n",
      "No. Observations:                 365   AIC:                             2906.\n",
      "Df Residuals:                     355   BIC:                             2945.\n",
      "Df Model:                           9                                         \n",
      "Covariance Type:            nonrobust                                         \n",
      "================================================================================\n",
      "                   coef    std err          t      P>|t|      [0.025      0.975]\n",
      "--------------------------------------------------------------------------------\n",
      "Intercept       11.2203      6.465      1.736      0.083      -1.494      23.934\n",
      "pm10             0.0561      0.057      0.982      0.327      -0.056       0.168\n",
      "pm25            -0.0762      0.077     -0.984      0.326      -0.229       0.076\n",
      "temp            -0.4325      0.169     -2.554      0.011      -0.766      -0.099\n",
      "humi             0.1021      0.140      0.729      0.466      -0.173       0.378\n",
      "CONTENT          0.0152      0.010      1.543      0.124      -0.004       0.035\n",
      "rain             0.0312      0.160      0.195      0.845      -0.283       0.345\n",
      "CONTENT:temp     0.0007      0.000      2.177      0.030     6.8e-05       0.001\n",
      "CONTENT:rain    -0.0001      0.000     -0.445      0.656      -0.001       0.000\n",
      "CONTENT:humi    -0.0003      0.000     -1.301      0.194      -0.001       0.000\n",
      "==============================================================================\n",
      "Omnibus:                        7.945   Durbin-Watson:                   2.026\n",
      "Prob(Omnibus):                  0.019   Jarque-Bera (JB):                7.390\n",
      "Skew:                           0.295   Prob(JB):                       0.0249\n",
      "Kurtosis:                       2.629   Cond. No.                     3.04e+05\n",
      "==============================================================================\n",
      "\n",
      "Warnings:\n",
      "[1] Standard Errors assume that the covariance matrix of the errors is correctly specified.\n",
      "[2] The condition number is large, 3.04e+05. This might indicate that there are\n",
      "strong multicollinearity or other numerical problems.\n"
     ]
    }
   ],
   "source": [
    "print(pvalue('age40affair'))  # temp"
   ]
  },
  {
   "cell_type": "markdown",
   "metadata": {},
   "source": [
    "* 60 자동차판매"
   ]
  },
  {
   "cell_type": "code",
   "execution_count": 30,
   "metadata": {},
   "outputs": [
    {
     "name": "stdout",
     "output_type": "stream",
     "text": [
      "                            OLS Regression Results                            \n",
      "==============================================================================\n",
      "Dep. Variable:          age40car_sell   R-squared:                       0.016\n",
      "Model:                            OLS   Adj. R-squared:                 -0.009\n",
      "Method:                 Least Squares   F-statistic:                    0.6558\n",
      "Date:                Tue, 10 Sep 2019   Prob (F-statistic):              0.749\n",
      "Time:                        07:05:17   Log-Likelihood:                -874.67\n",
      "No. Observations:                 365   AIC:                             1769.\n",
      "Df Residuals:                     355   BIC:                             1808.\n",
      "Df Model:                           9                                         \n",
      "Covariance Type:            nonrobust                                         \n",
      "================================================================================\n",
      "                   coef    std err          t      P>|t|      [0.025      0.975]\n",
      "--------------------------------------------------------------------------------\n",
      "Intercept       -1.6364      1.362     -1.201      0.230      -4.316       1.043\n",
      "pm10             0.0146      0.012      1.216      0.225      -0.009       0.038\n",
      "pm25            -0.0179      0.016     -1.098      0.273      -0.050       0.014\n",
      "temp             0.0095      0.036      0.265      0.791      -0.061       0.080\n",
      "humi             0.0320      0.030      1.085      0.279      -0.026       0.090\n",
      "CONTENT          0.0020      0.002      0.966      0.335      -0.002       0.006\n",
      "rain            -0.0122      0.034     -0.363      0.717      -0.078       0.054\n",
      "CONTENT:temp  1.541e-05    6.8e-05      0.226      0.821      -0.000       0.000\n",
      "CONTENT:rain  5.498e-06   5.67e-05      0.097      0.923      -0.000       0.000\n",
      "CONTENT:humi  -3.47e-05   4.73e-05     -0.734      0.464      -0.000    5.83e-05\n",
      "==============================================================================\n",
      "Omnibus:                      375.910   Durbin-Watson:                   2.068\n",
      "Prob(Omnibus):                  0.000   Jarque-Bera (JB):            10011.394\n",
      "Skew:                           4.673   Prob(JB):                         0.00\n",
      "Kurtosis:                      26.895   Cond. No.                     3.04e+05\n",
      "==============================================================================\n",
      "\n",
      "Warnings:\n",
      "[1] Standard Errors assume that the covariance matrix of the errors is correctly specified.\n",
      "[2] The condition number is large, 3.04e+05. This might indicate that there are\n",
      "strong multicollinearity or other numerical problems.\n"
     ]
    }
   ],
   "source": [
    "print(pvalue(\"age40car_sell\")) # "
   ]
  },
  {
   "cell_type": "markdown",
   "metadata": {},
   "source": [
    "* 62 자동차정비"
   ]
  },
  {
   "cell_type": "code",
   "execution_count": 31,
   "metadata": {},
   "outputs": [
    {
     "name": "stdout",
     "output_type": "stream",
     "text": [
      "                            OLS Regression Results                            \n",
      "==============================================================================\n",
      "Dep. Variable:        age40car_repair   R-squared:                       0.080\n",
      "Model:                            OLS   Adj. R-squared:                  0.057\n",
      "Method:                 Least Squares   F-statistic:                     3.435\n",
      "Date:                Tue, 10 Sep 2019   Prob (F-statistic):           0.000450\n",
      "Time:                        07:05:25   Log-Likelihood:                -2077.2\n",
      "No. Observations:                 365   AIC:                             4174.\n",
      "Df Residuals:                     355   BIC:                             4213.\n",
      "Df Model:                           9                                         \n",
      "Covariance Type:            nonrobust                                         \n",
      "================================================================================\n",
      "                   coef    std err          t      P>|t|      [0.025      0.975]\n",
      "--------------------------------------------------------------------------------\n",
      "Intercept      263.8246     36.735      7.182      0.000     191.579     336.070\n",
      "pm10            -0.2711      0.324     -0.836      0.404      -0.909       0.367\n",
      "pm25             0.7293      0.440      1.656      0.099      -0.137       1.595\n",
      "temp            -0.5458      0.962     -0.567      0.571      -2.438       1.347\n",
      "humi            -0.2241      0.796     -0.281      0.779      -1.790       1.342\n",
      "CONTENT         -0.0046      0.056     -0.082      0.935      -0.115       0.106\n",
      "rain            -0.9306      0.908     -1.025      0.306      -2.716       0.855\n",
      "CONTENT:temp     0.0024      0.002      1.295      0.196      -0.001       0.006\n",
      "CONTENT:rain     0.0009      0.002      0.598      0.550      -0.002       0.004\n",
      "CONTENT:humi    -0.0013      0.001     -1.054      0.293      -0.004       0.001\n",
      "==============================================================================\n",
      "Omnibus:                       17.280   Durbin-Watson:                   2.353\n",
      "Prob(Omnibus):                  0.000   Jarque-Bera (JB):               27.488\n",
      "Skew:                           0.328   Prob(JB):                     1.07e-06\n",
      "Kurtosis:                       4.173   Cond. No.                     3.04e+05\n",
      "==============================================================================\n",
      "\n",
      "Warnings:\n",
      "[1] Standard Errors assume that the covariance matrix of the errors is correctly specified.\n",
      "[2] The condition number is large, 3.04e+05. This might indicate that there are\n",
      "strong multicollinearity or other numerical problems.\n"
     ]
    }
   ],
   "source": [
    "print(pvalue(\"age40car_repair\"))  "
   ]
  },
  {
   "cell_type": "markdown",
   "metadata": {},
   "source": [
    "* 70 의료기관"
   ]
  },
  {
   "cell_type": "code",
   "execution_count": 33,
   "metadata": {},
   "outputs": [
    {
     "name": "stdout",
     "output_type": "stream",
     "text": [
      "                            OLS Regression Results                            \n",
      "==============================================================================\n",
      "Dep. Variable:           age40medical   R-squared:                       0.138\n",
      "Model:                            OLS   Adj. R-squared:                  0.116\n",
      "Method:                 Least Squares   F-statistic:                     6.314\n",
      "Date:                Tue, 10 Sep 2019   Prob (F-statistic):           2.65e-08\n",
      "Time:                        07:05:45   Log-Likelihood:                -3407.8\n",
      "No. Observations:                 365   AIC:                             6836.\n",
      "Df Residuals:                     355   BIC:                             6875.\n",
      "Df Model:                           9                                         \n",
      "Covariance Type:            nonrobust                                         \n",
      "================================================================================\n",
      "                   coef    std err          t      P>|t|      [0.025      0.975]\n",
      "--------------------------------------------------------------------------------\n",
      "Intercept     7357.8674   1406.935      5.230      0.000    4590.892    1.01e+04\n",
      "pm10             3.5535     12.425      0.286      0.775     -20.883      27.990\n",
      "pm25           -17.1482     16.865     -1.017      0.310     -50.316      16.019\n",
      "temp           -77.1078     36.856     -2.092      0.037    -149.591      -4.624\n",
      "humi           -11.0035     30.491     -0.361      0.718     -70.969      48.962\n",
      "CONTENT          0.5918      2.144      0.276      0.783      -3.625       4.808\n",
      "rain             8.5469     34.771      0.246      0.806     -59.836      76.930\n",
      "CONTENT:temp     0.1513      0.070      2.154      0.032       0.013       0.289\n",
      "CONTENT:rain    -0.0480      0.059     -0.820      0.413      -0.163       0.067\n",
      "CONTENT:humi     0.0330      0.049      0.675      0.500      -0.063       0.129\n",
      "==============================================================================\n",
      "Omnibus:                       37.718   Durbin-Watson:                   2.553\n",
      "Prob(Omnibus):                  0.000   Jarque-Bera (JB):               47.624\n",
      "Skew:                          -0.885   Prob(JB):                     4.56e-11\n",
      "Kurtosis:                       3.002   Cond. No.                     3.04e+05\n",
      "==============================================================================\n",
      "\n",
      "Warnings:\n",
      "[1] Standard Errors assume that the covariance matrix of the errors is correctly specified.\n",
      "[2] The condition number is large, 3.04e+05. This might indicate that there are\n",
      "strong multicollinearity or other numerical problems.\n"
     ]
    }
   ],
   "source": [
    "print(pvalue(\"age40medical\")) # temp"
   ]
  },
  {
   "cell_type": "markdown",
   "metadata": {},
   "source": [
    "* 71 보건위생"
   ]
  },
  {
   "cell_type": "code",
   "execution_count": 35,
   "metadata": {
    "scrolled": false
   },
   "outputs": [
    {
     "name": "stdout",
     "output_type": "stream",
     "text": [
      "                            OLS Regression Results                            \n",
      "==============================================================================\n",
      "Dep. Variable:     age40public_health   R-squared:                       0.320\n",
      "Model:                            OLS   Adj. R-squared:                  0.303\n",
      "Method:                 Least Squares   F-statistic:                     18.58\n",
      "Date:                Tue, 10 Sep 2019   Prob (F-statistic):           2.31e-25\n",
      "Time:                        07:05:52   Log-Likelihood:                -2739.7\n",
      "No. Observations:                 365   AIC:                             5499.\n",
      "Df Residuals:                     355   BIC:                             5538.\n",
      "Df Model:                           9                                         \n",
      "Covariance Type:            nonrobust                                         \n",
      "================================================================================\n",
      "                   coef    std err          t      P>|t|      [0.025      0.975]\n",
      "--------------------------------------------------------------------------------\n",
      "Intercept     2137.7728    225.646      9.474      0.000    1694.002    2581.544\n",
      "pm10            -5.2679      1.993     -2.643      0.009      -9.187      -1.349\n",
      "pm25             9.8212      2.705      3.631      0.000       4.502      15.141\n",
      "temp            -5.6047      5.911     -0.948      0.344     -17.230       6.020\n",
      "humi             7.6819      4.890      1.571      0.117      -1.935      17.299\n",
      "CONTENT         -0.0120      0.344     -0.035      0.972      -0.688       0.664\n",
      "rain            -8.6086      5.577     -1.544      0.124     -19.576       2.359\n",
      "CONTENT:temp    -0.0073      0.011     -0.651      0.515      -0.029       0.015\n",
      "CONTENT:rain     0.0083      0.009      0.880      0.380      -0.010       0.027\n",
      "CONTENT:humi    -0.0201      0.008     -2.561      0.011      -0.035      -0.005\n",
      "==============================================================================\n",
      "Omnibus:                        4.613   Durbin-Watson:                   1.295\n",
      "Prob(Omnibus):                  0.100   Jarque-Bera (JB):                5.603\n",
      "Skew:                           0.093   Prob(JB):                       0.0607\n",
      "Kurtosis:                       3.578   Cond. No.                     3.04e+05\n",
      "==============================================================================\n",
      "\n",
      "Warnings:\n",
      "[1] Standard Errors assume that the covariance matrix of the errors is correctly specified.\n",
      "[2] The condition number is large, 3.04e+05. This might indicate that there are\n",
      "strong multicollinearity or other numerical problems.\n"
     ]
    }
   ],
   "source": [
    "print(pvalue(\"age40public_health\")) # pm10 pm25"
   ]
  },
  {
   "cell_type": "markdown",
   "metadata": {},
   "source": [
    "* 80 요식업소"
   ]
  },
  {
   "cell_type": "code",
   "execution_count": 36,
   "metadata": {},
   "outputs": [
    {
     "name": "stdout",
     "output_type": "stream",
     "text": [
      "                            OLS Regression Results                            \n",
      "==============================================================================\n",
      "Dep. Variable:              age40food   R-squared:                       0.336\n",
      "Model:                            OLS   Adj. R-squared:                  0.319\n",
      "Method:                 Least Squares   F-statistic:                     19.92\n",
      "Date:                Tue, 10 Sep 2019   Prob (F-statistic):           4.67e-27\n",
      "Time:                        07:06:13   Log-Likelihood:                -3372.0\n",
      "No. Observations:                 365   AIC:                             6764.\n",
      "Df Residuals:                     355   BIC:                             6803.\n",
      "Df Model:                           9                                         \n",
      "Covariance Type:            nonrobust                                         \n",
      "================================================================================\n",
      "                   coef    std err          t      P>|t|      [0.025      0.975]\n",
      "--------------------------------------------------------------------------------\n",
      "Intercept     2.198e+04   1275.544     17.235      0.000    1.95e+04    2.45e+04\n",
      "pm10           -36.1313     11.265     -3.207      0.001     -58.286     -13.977\n",
      "pm25            48.4816     15.290      3.171      0.002      18.411      78.552\n",
      "temp           126.9045     33.414      3.798      0.000      61.190     192.619\n",
      "humi            20.6236     27.643      0.746      0.456     -33.742      74.989\n",
      "CONTENT          1.2972      1.944      0.667      0.505      -2.525       5.120\n",
      "rain           -72.5212     31.524     -2.301      0.022    -134.518     -10.525\n",
      "CONTENT:temp    -0.1614      0.064     -2.535      0.012      -0.287      -0.036\n",
      "CONTENT:rain     0.0547      0.053      1.031      0.303      -0.050       0.159\n",
      "CONTENT:humi    -0.0850      0.044     -1.920      0.056      -0.172       0.002\n",
      "==============================================================================\n",
      "Omnibus:                       95.276   Durbin-Watson:                   1.239\n",
      "Prob(Omnibus):                  0.000   Jarque-Bera (JB):              465.512\n",
      "Skew:                          -1.010   Prob(JB):                    8.23e-102\n",
      "Kurtosis:                       8.150   Cond. No.                     3.04e+05\n",
      "==============================================================================\n",
      "\n",
      "Warnings:\n",
      "[1] Standard Errors assume that the covariance matrix of the errors is correctly specified.\n",
      "[2] The condition number is large, 3.04e+05. This might indicate that there are\n",
      "strong multicollinearity or other numerical problems.\n"
     ]
    }
   ],
   "source": [
    "print(pvalue(\"age40food\"))# pm10 pm25 temp rain"
   ]
  },
  {
   "cell_type": "markdown",
   "metadata": {},
   "source": [
    "* 81 음료식품"
   ]
  },
  {
   "cell_type": "code",
   "execution_count": 37,
   "metadata": {},
   "outputs": [
    {
     "name": "stdout",
     "output_type": "stream",
     "text": [
      "                            OLS Regression Results                            \n",
      "==============================================================================\n",
      "Dep. Variable:           age40grocery   R-squared:                       0.073\n",
      "Model:                            OLS   Adj. R-squared:                  0.049\n",
      "Method:                 Least Squares   F-statistic:                     3.098\n",
      "Date:                Tue, 10 Sep 2019   Prob (F-statistic):            0.00135\n",
      "Time:                        07:06:28   Log-Likelihood:                -2790.0\n",
      "No. Observations:                 365   AIC:                             5600.\n",
      "Df Residuals:                     355   BIC:                             5639.\n",
      "Df Model:                           9                                         \n",
      "Covariance Type:            nonrobust                                         \n",
      "================================================================================\n",
      "                   coef    std err          t      P>|t|      [0.025      0.975]\n",
      "--------------------------------------------------------------------------------\n",
      "Intercept     4511.5042    258.975     17.421      0.000    4002.186    5020.823\n",
      "pm10            -1.2498      2.287     -0.546      0.585      -5.748       3.248\n",
      "pm25            -1.6462      3.104     -0.530      0.596      -7.751       4.459\n",
      "temp           -18.6561      6.784     -2.750      0.006     -31.998      -5.314\n",
      "humi             7.8379      5.612      1.397      0.163      -3.200      18.876\n",
      "CONTENT          0.4244      0.395      1.075      0.283      -0.352       1.200\n",
      "rain            -6.2300      6.400     -0.973      0.331     -18.817       6.357\n",
      "CONTENT:temp     0.0359      0.013      2.777      0.006       0.010       0.061\n",
      "CONTENT:rain    -0.0021      0.011     -0.198      0.843      -0.023       0.019\n",
      "CONTENT:humi    -0.0104      0.009     -1.161      0.246      -0.028       0.007\n",
      "==============================================================================\n",
      "Omnibus:                      122.211   Durbin-Watson:                   1.623\n",
      "Prob(Omnibus):                  0.000   Jarque-Bera (JB):             1851.223\n",
      "Skew:                          -0.956   Prob(JB):                         0.00\n",
      "Kurtosis:                      13.866   Cond. No.                     3.04e+05\n",
      "==============================================================================\n",
      "\n",
      "Warnings:\n",
      "[1] Standard Errors assume that the covariance matrix of the errors is correctly specified.\n",
      "[2] The condition number is large, 3.04e+05. This might indicate that there are\n",
      "strong multicollinearity or other numerical problems.\n"
     ]
    }
   ],
   "source": [
    "print(pvalue('age40grocery'))  # temp"
   ]
  },
  {
   "cell_type": "markdown",
   "metadata": {},
   "source": [
    "* 92 수리서비스"
   ]
  },
  {
   "cell_type": "code",
   "execution_count": 38,
   "metadata": {
    "scrolled": false
   },
   "outputs": [
    {
     "name": "stdout",
     "output_type": "stream",
     "text": [
      "                             OLS Regression Results                            \n",
      "===============================================================================\n",
      "Dep. Variable:     age40repair_service   R-squared:                       0.063\n",
      "Model:                             OLS   Adj. R-squared:                  0.040\n",
      "Method:                  Least Squares   F-statistic:                     2.671\n",
      "Date:                 Tue, 10 Sep 2019   Prob (F-statistic):            0.00520\n",
      "Time:                         07:06:38   Log-Likelihood:                -2408.1\n",
      "No. Observations:                  365   AIC:                             4836.\n",
      "Df Residuals:                      355   BIC:                             4875.\n",
      "Df Model:                            9                                         \n",
      "Covariance Type:             nonrobust                                         \n",
      "================================================================================\n",
      "                   coef    std err          t      P>|t|      [0.025      0.975]\n",
      "--------------------------------------------------------------------------------\n",
      "Intercept      502.8295     90.946      5.529      0.000     323.968     681.691\n",
      "pm10            -0.4862      0.803     -0.605      0.545      -2.066       1.093\n",
      "pm25             1.1437      1.090      1.049      0.295      -1.000       3.288\n",
      "temp            -6.3479      2.382     -2.664      0.008     -11.033      -1.662\n",
      "humi            -2.1253      1.971     -1.078      0.282      -6.002       1.751\n",
      "CONTENT         -0.2332      0.139     -1.683      0.093      -0.506       0.039\n",
      "rain             0.8000      2.248      0.356      0.722      -3.620       5.220\n",
      "CONTENT:temp     0.0137      0.005      3.013      0.003       0.005       0.023\n",
      "CONTENT:rain    -0.0031      0.004     -0.825      0.410      -0.011       0.004\n",
      "CONTENT:humi     0.0016      0.003      0.508      0.612      -0.005       0.008\n",
      "==============================================================================\n",
      "Omnibus:                       59.671   Durbin-Watson:                   2.581\n",
      "Prob(Omnibus):                  0.000   Jarque-Bera (JB):              131.347\n",
      "Skew:                           0.842   Prob(JB):                     3.01e-29\n",
      "Kurtosis:                       5.408   Cond. No.                     3.04e+05\n",
      "==============================================================================\n",
      "\n",
      "Warnings:\n",
      "[1] Standard Errors assume that the covariance matrix of the errors is correctly specified.\n",
      "[2] The condition number is large, 3.04e+05. This might indicate that there are\n",
      "strong multicollinearity or other numerical problems.\n"
     ]
    }
   ],
   "source": [
    "print(pvalue('age40repair_service')) # temp"
   ]
  },
  {
   "cell_type": "code",
   "execution_count": null,
   "metadata": {},
   "outputs": [],
   "source": []
  }
 ],
 "metadata": {
  "kernelspec": {
   "display_name": "2019BigC",
   "language": "python",
   "name": "2019bigc"
  },
  "language_info": {
   "codemirror_mode": {
    "name": "ipython",
    "version": 3
   },
   "file_extension": ".py",
   "mimetype": "text/x-python",
   "name": "python",
   "nbconvert_exporter": "python",
   "pygments_lexer": "ipython3",
   "version": "3.7.3"
  }
 },
 "nbformat": 4,
 "nbformat_minor": 4
}

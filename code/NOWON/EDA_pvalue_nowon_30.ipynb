{
 "cells": [
  {
   "cell_type": "markdown",
   "metadata": {},
   "source": [
    "# Multi Linear Regression을 이용하여 p-value 계산하기\n",
    "## p-value : 귀무가설을 가정하였을 때 표본 이상으로 극단적인 결과를 얻을 확률\n",
    "## 귀무가설 : Multi Linear Regression을 사용하여 회귀모델을 설계할 때 각 feature의 coefficient가 0이 됨\n",
    "- 따라서 p-value는 극단적인 결과를 얻을 확률이 적어야 안정적인 해당 feature가 안정적이라고 할 수 있다."
   ]
  },
  {
   "cell_type": "code",
   "execution_count": 9,
   "metadata": {},
   "outputs": [],
   "source": [
    "import warnings\n",
    "warnings.filterwarnings(\"ignore\")\n",
    "\n",
    "import pandas as pd\n",
    "import numpy as np\n",
    "\n",
    "import sklearn\n",
    "from sklearn.linear_model import Lasso, Ridge\n",
    "from sklearn.model_selection import train_test_split\n",
    "\n",
    "import matplotlib.pyplot as plt\n",
    "%matplotlib inline\n",
    "\n",
    "import scipy.stats as stats\n",
    "import urllib\n",
    "from statsmodels.formula.api import ols\n",
    "import statsmodels.api as sm\n",
    "from statsmodels.stats.anova import anova_lm\n",
    "from sklearn.linear_model import Lasso, Ridge\n",
    "from sklearn.model_selection import train_test_split"
   ]
  },
  {
   "cell_type": "code",
   "execution_count": 10,
   "metadata": {},
   "outputs": [],
   "source": [
    "# 나이대 별로 약 20개 이상의 feature에 대한 p-value를 확인해야하므로 나이대 별로 서로 다른 파일에 저장\n",
    "df_30 = pd.read_csv('../data/innovation/Merge_data/df_age30_nowon.csv')"
   ]
  },
  {
   "cell_type": "code",
   "execution_count": 11,
   "metadata": {},
   "outputs": [
    {
     "data": {
      "text/html": [
       "<div>\n",
       "<style scoped>\n",
       "    .dataframe tbody tr th:only-of-type {\n",
       "        vertical-align: middle;\n",
       "    }\n",
       "\n",
       "    .dataframe tbody tr th {\n",
       "        vertical-align: top;\n",
       "    }\n",
       "\n",
       "    .dataframe thead th {\n",
       "        text-align: right;\n",
       "    }\n",
       "</style>\n",
       "<table border=\"1\" class=\"dataframe\">\n",
       "  <thead>\n",
       "    <tr style=\"text-align: right;\">\n",
       "      <th></th>\n",
       "      <th>age30accum</th>\n",
       "      <th>age30leisure goods</th>\n",
       "      <th>age30leisure busi</th>\n",
       "      <th>age30culture</th>\n",
       "      <th>age30furniture</th>\n",
       "      <th>age30electronic</th>\n",
       "      <th>age30kitchen</th>\n",
       "      <th>age30fuel</th>\n",
       "      <th>age30optic</th>\n",
       "      <th>age30Appliances</th>\n",
       "      <th>...</th>\n",
       "      <th>LCLS_50_P</th>\n",
       "      <th>LCLS_60_P</th>\n",
       "      <th>LCLS_70_P</th>\n",
       "      <th>LCLS_80_P</th>\n",
       "      <th>pm10</th>\n",
       "      <th>pm25</th>\n",
       "      <th>humi</th>\n",
       "      <th>temp</th>\n",
       "      <th>CONTENT</th>\n",
       "      <th>rain</th>\n",
       "    </tr>\n",
       "  </thead>\n",
       "  <tbody>\n",
       "    <tr>\n",
       "      <th>0</th>\n",
       "      <td>170.0</td>\n",
       "      <td>588.0</td>\n",
       "      <td>1435.0</td>\n",
       "      <td>481.0</td>\n",
       "      <td>8.0</td>\n",
       "      <td>0.0</td>\n",
       "      <td>0.0</td>\n",
       "      <td>1346.0</td>\n",
       "      <td>45.0</td>\n",
       "      <td>21.0</td>\n",
       "      <td>...</td>\n",
       "      <td>46787</td>\n",
       "      <td>5417</td>\n",
       "      <td>8331</td>\n",
       "      <td>6619</td>\n",
       "      <td>68.328472</td>\n",
       "      <td>35.256944</td>\n",
       "      <td>56.769284</td>\n",
       "      <td>16.578527</td>\n",
       "      <td>515</td>\n",
       "      <td>0.0</td>\n",
       "    </tr>\n",
       "    <tr>\n",
       "      <th>1</th>\n",
       "      <td>33.0</td>\n",
       "      <td>144.0</td>\n",
       "      <td>905.0</td>\n",
       "      <td>319.0</td>\n",
       "      <td>8.0</td>\n",
       "      <td>0.0</td>\n",
       "      <td>16.0</td>\n",
       "      <td>1198.0</td>\n",
       "      <td>70.0</td>\n",
       "      <td>95.0</td>\n",
       "      <td>...</td>\n",
       "      <td>38527</td>\n",
       "      <td>5108</td>\n",
       "      <td>9985</td>\n",
       "      <td>8507</td>\n",
       "      <td>72.005556</td>\n",
       "      <td>29.909028</td>\n",
       "      <td>57.838777</td>\n",
       "      <td>19.628631</td>\n",
       "      <td>888</td>\n",
       "      <td>0.0</td>\n",
       "    </tr>\n",
       "    <tr>\n",
       "      <th>2</th>\n",
       "      <td>74.0</td>\n",
       "      <td>86.0</td>\n",
       "      <td>875.0</td>\n",
       "      <td>270.0</td>\n",
       "      <td>0.0</td>\n",
       "      <td>0.0</td>\n",
       "      <td>12.0</td>\n",
       "      <td>953.0</td>\n",
       "      <td>40.0</td>\n",
       "      <td>86.0</td>\n",
       "      <td>...</td>\n",
       "      <td>36532</td>\n",
       "      <td>6031</td>\n",
       "      <td>7723</td>\n",
       "      <td>4392</td>\n",
       "      <td>72.838194</td>\n",
       "      <td>24.295833</td>\n",
       "      <td>61.681723</td>\n",
       "      <td>19.191452</td>\n",
       "      <td>856</td>\n",
       "      <td>0.1</td>\n",
       "    </tr>\n",
       "    <tr>\n",
       "      <th>3</th>\n",
       "      <td>62.0</td>\n",
       "      <td>85.0</td>\n",
       "      <td>877.0</td>\n",
       "      <td>155.0</td>\n",
       "      <td>0.0</td>\n",
       "      <td>0.0</td>\n",
       "      <td>0.0</td>\n",
       "      <td>1051.0</td>\n",
       "      <td>53.0</td>\n",
       "      <td>74.0</td>\n",
       "      <td>...</td>\n",
       "      <td>48128</td>\n",
       "      <td>5592</td>\n",
       "      <td>7261</td>\n",
       "      <td>4501</td>\n",
       "      <td>17.746352</td>\n",
       "      <td>10.958304</td>\n",
       "      <td>60.144545</td>\n",
       "      <td>14.073384</td>\n",
       "      <td>893</td>\n",
       "      <td>18.5</td>\n",
       "    </tr>\n",
       "    <tr>\n",
       "      <th>4</th>\n",
       "      <td>38.0</td>\n",
       "      <td>129.0</td>\n",
       "      <td>915.0</td>\n",
       "      <td>294.0</td>\n",
       "      <td>0.0</td>\n",
       "      <td>0.0</td>\n",
       "      <td>8.0</td>\n",
       "      <td>1019.0</td>\n",
       "      <td>58.0</td>\n",
       "      <td>56.0</td>\n",
       "      <td>...</td>\n",
       "      <td>57862</td>\n",
       "      <td>6960</td>\n",
       "      <td>7867</td>\n",
       "      <td>4693</td>\n",
       "      <td>9.926160</td>\n",
       "      <td>3.922644</td>\n",
       "      <td>77.163194</td>\n",
       "      <td>8.620000</td>\n",
       "      <td>864</td>\n",
       "      <td>10.5</td>\n",
       "    </tr>\n",
       "  </tbody>\n",
       "</table>\n",
       "<p>5 rows × 38 columns</p>\n",
       "</div>"
      ],
      "text/plain": [
       "   age30accum  age30leisure goods  age30leisure busi  age30culture  \\\n",
       "0       170.0               588.0             1435.0         481.0   \n",
       "1        33.0               144.0              905.0         319.0   \n",
       "2        74.0                86.0              875.0         270.0   \n",
       "3        62.0                85.0              877.0         155.0   \n",
       "4        38.0               129.0              915.0         294.0   \n",
       "\n",
       "   age30furniture  age30electronic  age30kitchen  age30fuel  age30optic  \\\n",
       "0             8.0              0.0           0.0     1346.0        45.0   \n",
       "1             8.0              0.0          16.0     1198.0        70.0   \n",
       "2             0.0              0.0          12.0      953.0        40.0   \n",
       "3             0.0              0.0           0.0     1051.0        53.0   \n",
       "4             0.0              0.0           8.0     1019.0        58.0   \n",
       "\n",
       "   age30Appliances  ...  LCLS_50_P  LCLS_60_P  LCLS_70_P  LCLS_80_P  \\\n",
       "0             21.0  ...      46787       5417       8331       6619   \n",
       "1             95.0  ...      38527       5108       9985       8507   \n",
       "2             86.0  ...      36532       6031       7723       4392   \n",
       "3             74.0  ...      48128       5592       7261       4501   \n",
       "4             56.0  ...      57862       6960       7867       4693   \n",
       "\n",
       "        pm10       pm25       humi       temp  CONTENT  rain  \n",
       "0  68.328472  35.256944  56.769284  16.578527      515   0.0  \n",
       "1  72.005556  29.909028  57.838777  19.628631      888   0.0  \n",
       "2  72.838194  24.295833  61.681723  19.191452      856   0.1  \n",
       "3  17.746352  10.958304  60.144545  14.073384      893  18.5  \n",
       "4   9.926160   3.922644  77.163194   8.620000      864  10.5  \n",
       "\n",
       "[5 rows x 38 columns]"
      ]
     },
     "execution_count": 11,
     "metadata": {},
     "output_type": "execute_result"
    }
   ],
   "source": [
    "df_30.head()"
   ]
  },
  {
   "cell_type": "code",
   "execution_count": 12,
   "metadata": {},
   "outputs": [
    {
     "data": {
      "text/plain": [
       "Index(['age30accum', 'age30leisure goods', 'age30leisure busi', 'age30culture',\n",
       "       'age30furniture', 'age30electronic', 'age30kitchen', 'age30fuel',\n",
       "       'age30optic', 'age30Appliances', 'age30circul', 'age30cloth',\n",
       "       'age30textile', 'age30stuff', 'age30book', 'age30affair',\n",
       "       'age30car sell', 'age30car repair', 'age30medical',\n",
       "       'age30public health', 'age30food', 'age30grocery',\n",
       "       'age30repair survice', 'age30', 'LCLS_10_P', 'LCLS_20_P', 'LCLS_30_P',\n",
       "       'LCLS_40_P', 'LCLS_50_P', 'LCLS_60_P', 'LCLS_70_P', 'LCLS_80_P', 'pm10',\n",
       "       'pm25', 'humi', 'temp', 'CONTENT', 'rain'],\n",
       "      dtype='object')"
      ]
     },
     "execution_count": 12,
     "metadata": {},
     "output_type": "execute_result"
    }
   ],
   "source": [
    "df_30.columns"
   ]
  },
  {
   "cell_type": "code",
   "execution_count": 13,
   "metadata": {},
   "outputs": [],
   "source": [
    "df_30.columns =['age30accum', 'age30leisure_goods', 'age30leisure_busi', 'age30culture',\n",
    "       'age30furniture', 'age30electronic', 'age30kitchen', 'age30fuel',\n",
    "       'age30optic', 'age30Appliances', 'age30circul', 'age30cloth',\n",
    "       'age30textile', 'age30stuff', 'age30book', 'age30affair',\n",
    "       'age30car_sell', 'age30car_repair', 'age30medical',\n",
    "       'age30public_health', 'age30food', 'age30grocery',\n",
    "       'age30repair_service', 'age30', 'LCLS_10_P', 'LCLS_20_P', 'LCLS_30_P',\n",
    "       'LCLS_40_P', 'LCLS_50_P', 'LCLS_60_P', 'LCLS_70_P', 'LCLS_80_P', 'pm10',\n",
    "       'pm25', 'humi', 'temp', 'CONTENT', 'rain']"
   ]
  },
  {
   "cell_type": "code",
   "execution_count": 16,
   "metadata": {},
   "outputs": [],
   "source": [
    "def pvalue(col_name):\n",
    "    formula = col_name + ' ~ pm10 + pm25 + temp + humi + CONTENT + rain + CONTENT:temp + CONTENT:rain + CONTENT:humi'\n",
    "    lm = ols(formula, df_30).fit()\n",
    "    return lm.summary()"
   ]
  },
  {
   "cell_type": "markdown",
   "metadata": {},
   "source": [
    "# p-value확인"
   ]
  },
  {
   "cell_type": "markdown",
   "metadata": {},
   "source": [
    "* 10 숙박"
   ]
  },
  {
   "cell_type": "code",
   "execution_count": 17,
   "metadata": {},
   "outputs": [
    {
     "name": "stdout",
     "output_type": "stream",
     "text": [
      "                            OLS Regression Results                            \n",
      "==============================================================================\n",
      "Dep. Variable:             age30accum   R-squared:                       0.312\n",
      "Model:                            OLS   Adj. R-squared:                  0.294\n",
      "Method:                 Least Squares   F-statistic:                     17.85\n",
      "Date:                Tue, 10 Sep 2019   Prob (F-statistic):           1.97e-24\n",
      "Time:                        05:42:50   Log-Likelihood:                -1871.3\n",
      "No. Observations:                 365   AIC:                             3763.\n",
      "Df Residuals:                     355   BIC:                             3802.\n",
      "Df Model:                           9                                         \n",
      "Covariance Type:            nonrobust                                         \n",
      "================================================================================\n",
      "                   coef    std err          t      P>|t|      [0.025      0.975]\n",
      "--------------------------------------------------------------------------------\n",
      "Intercept      110.2793     20.897      5.277      0.000      69.182     151.376\n",
      "pm10            -0.1518      0.185     -0.823      0.411      -0.515       0.211\n",
      "pm25             0.3714      0.250      1.483      0.139      -0.121       0.864\n",
      "temp             1.8256      0.547      3.335      0.001       0.749       2.902\n",
      "humi            -0.0406      0.453     -0.090      0.929      -0.931       0.850\n",
      "CONTENT         -0.0325      0.032     -1.021      0.308      -0.095       0.030\n",
      "rain             0.6223      0.516      1.205      0.229      -0.393       1.638\n",
      "CONTENT:temp    -0.0040      0.001     -3.865      0.000      -0.006      -0.002\n",
      "CONTENT:rain    -0.0007      0.001     -0.834      0.405      -0.002       0.001\n",
      "CONTENT:humi    -0.0003      0.001     -0.404      0.687      -0.002       0.001\n",
      "==============================================================================\n",
      "Omnibus:                        8.221   Durbin-Watson:                   1.541\n",
      "Prob(Omnibus):                  0.016   Jarque-Bera (JB):                8.503\n",
      "Skew:                           0.370   Prob(JB):                       0.0142\n",
      "Kurtosis:                       2.889   Cond. No.                     3.04e+05\n",
      "==============================================================================\n",
      "\n",
      "Warnings:\n",
      "[1] Standard Errors assume that the covariance matrix of the errors is correctly specified.\n",
      "[2] The condition number is large, 3.04e+05. This might indicate that there are\n",
      "strong multicollinearity or other numerical problems.\n"
     ]
    }
   ],
   "source": [
    "print(pvalue(\"age30accum\")) # temp"
   ]
  },
  {
   "cell_type": "markdown",
   "metadata": {},
   "source": [
    "* 20 레저용품"
   ]
  },
  {
   "cell_type": "code",
   "execution_count": 50,
   "metadata": {},
   "outputs": [
    {
     "name": "stdout",
     "output_type": "stream",
     "text": [
      "                            OLS Regression Results                            \n",
      "==============================================================================\n",
      "Dep. Variable:     age30leisure_goods   R-squared:                       0.385\n",
      "Model:                            OLS   Adj. R-squared:                  0.369\n",
      "Method:                 Least Squares   F-statistic:                     24.66\n",
      "Date:                Tue, 10 Sep 2019   Prob (F-statistic):           8.99e-33\n",
      "Time:                        07:16:05   Log-Likelihood:                -2345.7\n",
      "No. Observations:                 365   AIC:                             4711.\n",
      "Df Residuals:                     355   BIC:                             4750.\n",
      "Df Model:                           9                                         \n",
      "Covariance Type:            nonrobust                                         \n",
      "================================================================================\n",
      "                   coef    std err          t      P>|t|      [0.025      0.975]\n",
      "--------------------------------------------------------------------------------\n",
      "Intercept      423.7932     76.668      5.528      0.000     273.012     574.574\n",
      "pm10            -2.6076      0.677     -3.851      0.000      -3.939      -1.276\n",
      "pm25             5.0176      0.919      5.460      0.000       3.210       6.825\n",
      "temp             2.0720      2.008      1.032      0.303      -1.878       6.022\n",
      "humi             1.8413      1.662      1.108      0.269      -1.426       5.109\n",
      "CONTENT          0.0185      0.117      0.158      0.874      -0.211       0.248\n",
      "rain            -1.7226      1.895     -0.909      0.364      -5.449       2.004\n",
      "CONTENT:temp    -0.0106      0.004     -2.767      0.006      -0.018      -0.003\n",
      "CONTENT:rain     0.0026      0.003      0.817      0.414      -0.004       0.009\n",
      "CONTENT:humi    -0.0062      0.003     -2.324      0.021      -0.011      -0.001\n",
      "==============================================================================\n",
      "Omnibus:                        2.904   Durbin-Watson:                   1.473\n",
      "Prob(Omnibus):                  0.234   Jarque-Bera (JB):                2.981\n",
      "Skew:                           0.208   Prob(JB):                        0.225\n",
      "Kurtosis:                       2.851   Cond. No.                     3.04e+05\n",
      "==============================================================================\n",
      "\n",
      "Warnings:\n",
      "[1] Standard Errors assume that the covariance matrix of the errors is correctly specified.\n",
      "[2] The condition number is large, 3.04e+05. This might indicate that there are\n",
      "strong multicollinearity or other numerical problems.\n"
     ]
    }
   ],
   "source": [
    "print(pvalue(\"age30leisure_goods\")) # pm10 pm25"
   ]
  },
  {
   "cell_type": "markdown",
   "metadata": {},
   "source": [
    "* 21 레저업소"
   ]
  },
  {
   "cell_type": "code",
   "execution_count": 21,
   "metadata": {},
   "outputs": [
    {
     "name": "stdout",
     "output_type": "stream",
     "text": [
      "                            OLS Regression Results                            \n",
      "==============================================================================\n",
      "Dep. Variable:      age30leisure_busi   R-squared:                       0.391\n",
      "Model:                            OLS   Adj. R-squared:                  0.375\n",
      "Method:                 Least Squares   F-statistic:                     25.28\n",
      "Date:                Tue, 10 Sep 2019   Prob (F-statistic):           1.71e-33\n",
      "Time:                        05:45:22   Log-Likelihood:                -2572.0\n",
      "No. Observations:                 365   AIC:                             5164.\n",
      "Df Residuals:                     355   BIC:                             5203.\n",
      "Df Model:                           9                                         \n",
      "Covariance Type:            nonrobust                                         \n",
      "================================================================================\n",
      "                   coef    std err          t      P>|t|      [0.025      0.975]\n",
      "--------------------------------------------------------------------------------\n",
      "Intercept     1411.5806    142.507      9.905      0.000    1131.316    1691.846\n",
      "pm10            -1.8280      1.259     -1.452      0.147      -4.303       0.647\n",
      "pm25             6.2494      1.708      3.658      0.000       2.890       9.609\n",
      "temp             4.3683      3.733      1.170      0.243      -2.973      11.710\n",
      "humi            -0.6772      3.088     -0.219      0.827      -6.751       5.397\n",
      "CONTENT         -0.2236      0.217     -1.029      0.304      -0.651       0.204\n",
      "rain            -1.5688      3.522     -0.445      0.656      -8.495       5.358\n",
      "CONTENT:temp    -0.0230      0.007     -3.230      0.001      -0.037      -0.009\n",
      "CONTENT:rain     0.0048      0.006      0.803      0.422      -0.007       0.016\n",
      "CONTENT:humi    -0.0055      0.005     -1.113      0.266      -0.015       0.004\n",
      "==============================================================================\n",
      "Omnibus:                       18.997   Durbin-Watson:                   1.088\n",
      "Prob(Omnibus):                  0.000   Jarque-Bera (JB):               20.946\n",
      "Skew:                           0.519   Prob(JB):                     2.83e-05\n",
      "Kurtosis:                       3.546   Cond. No.                     3.04e+05\n",
      "==============================================================================\n",
      "\n",
      "Warnings:\n",
      "[1] Standard Errors assume that the covariance matrix of the errors is correctly specified.\n",
      "[2] The condition number is large, 3.04e+05. This might indicate that there are\n",
      "strong multicollinearity or other numerical problems.\n"
     ]
    }
   ],
   "source": [
    "print(pvalue(\"age30leisure_busi\")) # pm25"
   ]
  },
  {
   "cell_type": "markdown",
   "metadata": {},
   "source": [
    "* 22 문화취미"
   ]
  },
  {
   "cell_type": "code",
   "execution_count": 22,
   "metadata": {},
   "outputs": [
    {
     "name": "stdout",
     "output_type": "stream",
     "text": [
      "                            OLS Regression Results                            \n",
      "==============================================================================\n",
      "Dep. Variable:           age30culture   R-squared:                       0.246\n",
      "Model:                            OLS   Adj. R-squared:                  0.227\n",
      "Method:                 Least Squares   F-statistic:                     12.90\n",
      "Date:                Tue, 10 Sep 2019   Prob (F-statistic):           8.08e-18\n",
      "Time:                        05:45:33   Log-Likelihood:                -2449.9\n",
      "No. Observations:                 365   AIC:                             4920.\n",
      "Df Residuals:                     355   BIC:                             4959.\n",
      "Df Model:                           9                                         \n",
      "Covariance Type:            nonrobust                                         \n",
      "================================================================================\n",
      "                   coef    std err          t      P>|t|      [0.025      0.975]\n",
      "--------------------------------------------------------------------------------\n",
      "Intercept      672.9740    102.000      6.598      0.000     472.373     873.575\n",
      "pm10            -1.3429      0.901     -1.491      0.137      -3.114       0.429\n",
      "pm25             3.1855      1.223      2.605      0.010       0.781       5.590\n",
      "temp             5.1557      2.672      1.930      0.054      -0.099      10.411\n",
      "humi            -2.4677      2.211     -1.116      0.265      -6.815       1.880\n",
      "CONTENT         -0.2379      0.155     -1.531      0.127      -0.544       0.068\n",
      "rain             1.1981      2.521      0.475      0.635      -3.760       6.156\n",
      "CONTENT:temp    -0.0098      0.005     -1.922      0.055      -0.020       0.000\n",
      "CONTENT:rain    -0.0014      0.004     -0.321      0.748      -0.010       0.007\n",
      "CONTENT:humi    -0.0008      0.004     -0.234      0.815      -0.008       0.006\n",
      "==============================================================================\n",
      "Omnibus:                       53.806   Durbin-Watson:                   0.834\n",
      "Prob(Omnibus):                  0.000   Jarque-Bera (JB):               79.358\n",
      "Skew:                           0.944   Prob(JB):                     5.85e-18\n",
      "Kurtosis:                       4.287   Cond. No.                     3.04e+05\n",
      "==============================================================================\n",
      "\n",
      "Warnings:\n",
      "[1] Standard Errors assume that the covariance matrix of the errors is correctly specified.\n",
      "[2] The condition number is large, 3.04e+05. This might indicate that there are\n",
      "strong multicollinearity or other numerical problems.\n"
     ]
    }
   ],
   "source": [
    "print(pvalue('age30culture'))  # pm25"
   ]
  },
  {
   "cell_type": "markdown",
   "metadata": {},
   "source": [
    "* 30 가구"
   ]
  },
  {
   "cell_type": "code",
   "execution_count": 23,
   "metadata": {
    "scrolled": false
   },
   "outputs": [
    {
     "name": "stdout",
     "output_type": "stream",
     "text": [
      "                            OLS Regression Results                            \n",
      "==============================================================================\n",
      "Dep. Variable:         age30furniture   R-squared:                       0.026\n",
      "Model:                            OLS   Adj. R-squared:                  0.002\n",
      "Method:                 Least Squares   F-statistic:                     1.072\n",
      "Date:                Tue, 10 Sep 2019   Prob (F-statistic):              0.383\n",
      "Time:                        05:45:47   Log-Likelihood:                -1113.3\n",
      "No. Observations:                 365   AIC:                             2247.\n",
      "Df Residuals:                     355   BIC:                             2286.\n",
      "Df Model:                           9                                         \n",
      "Covariance Type:            nonrobust                                         \n",
      "================================================================================\n",
      "                   coef    std err          t      P>|t|      [0.025      0.975]\n",
      "--------------------------------------------------------------------------------\n",
      "Intercept        3.6546      2.619      1.395      0.164      -1.497       8.806\n",
      "pm10            -0.0232      0.023     -1.002      0.317      -0.069       0.022\n",
      "pm25             0.0431      0.031      1.374      0.170      -0.019       0.105\n",
      "temp             0.0558      0.069      0.814      0.416      -0.079       0.191\n",
      "humi            -0.0265      0.057     -0.468      0.640      -0.138       0.085\n",
      "CONTENT         -0.0004      0.004     -0.110      0.912      -0.008       0.007\n",
      "rain            -0.0132      0.065     -0.204      0.839      -0.141       0.114\n",
      "CONTENT:temp    -0.0001      0.000     -1.107      0.269      -0.000       0.000\n",
      "CONTENT:rain  8.396e-06      0.000      0.077      0.939      -0.000       0.000\n",
      "CONTENT:humi  2.775e-06   9.09e-05      0.031      0.976      -0.000       0.000\n",
      "==============================================================================\n",
      "Omnibus:                      243.631   Durbin-Watson:                   1.996\n",
      "Prob(Omnibus):                  0.000   Jarque-Bera (JB):             2034.227\n",
      "Skew:                           2.845   Prob(JB):                         0.00\n",
      "Kurtosis:                      13.069   Cond. No.                     3.04e+05\n",
      "==============================================================================\n",
      "\n",
      "Warnings:\n",
      "[1] Standard Errors assume that the covariance matrix of the errors is correctly specified.\n",
      "[2] The condition number is large, 3.04e+05. This might indicate that there are\n",
      "strong multicollinearity or other numerical problems.\n"
     ]
    }
   ],
   "source": [
    "print(pvalue('age30furniture'))  # temp"
   ]
  },
  {
   "cell_type": "markdown",
   "metadata": {},
   "source": [
    "* 전기 31"
   ]
  },
  {
   "cell_type": "code",
   "execution_count": 24,
   "metadata": {},
   "outputs": [
    {
     "name": "stdout",
     "output_type": "stream",
     "text": [
      "                            OLS Regression Results                            \n",
      "==============================================================================\n",
      "Dep. Variable:        age30electronic   R-squared:                       0.057\n",
      "Model:                            OLS   Adj. R-squared:                  0.033\n",
      "Method:                 Least Squares   F-statistic:                     2.390\n",
      "Date:                Tue, 10 Sep 2019   Prob (F-statistic):             0.0123\n",
      "Time:                        05:45:58   Log-Likelihood:                -933.27\n",
      "No. Observations:                 365   AIC:                             1887.\n",
      "Df Residuals:                     355   BIC:                             1926.\n",
      "Df Model:                           9                                         \n",
      "Covariance Type:            nonrobust                                         \n",
      "================================================================================\n",
      "                   coef    std err          t      P>|t|      [0.025      0.975]\n",
      "--------------------------------------------------------------------------------\n",
      "Intercept       -3.2688      1.600     -2.044      0.042      -6.415      -0.123\n",
      "pm10             0.0457      0.014      3.232      0.001       0.018       0.073\n",
      "pm25            -0.0573      0.019     -2.987      0.003      -0.095      -0.020\n",
      "temp            -0.0464      0.042     -1.107      0.269      -0.129       0.036\n",
      "humi             0.0756      0.035      2.182      0.030       0.007       0.144\n",
      "CONTENT          0.0048      0.002      1.953      0.052   -3.25e-05       0.010\n",
      "rain            -0.0179      0.040     -0.453      0.651      -0.096       0.060\n",
      "CONTENT:temp   1.46e-05   7.99e-05      0.183      0.855      -0.000       0.000\n",
      "CONTENT:rain  5.352e-05   6.66e-05      0.804      0.422   -7.74e-05       0.000\n",
      "CONTENT:humi -9.696e-05   5.55e-05     -1.746      0.082      -0.000    1.22e-05\n",
      "==============================================================================\n",
      "Omnibus:                      351.792   Durbin-Watson:                   1.799\n",
      "Prob(Omnibus):                  0.000   Jarque-Bera (JB):             8290.488\n",
      "Skew:                           4.246   Prob(JB):                         0.00\n",
      "Kurtosis:                      24.749   Cond. No.                     3.04e+05\n",
      "==============================================================================\n",
      "\n",
      "Warnings:\n",
      "[1] Standard Errors assume that the covariance matrix of the errors is correctly specified.\n",
      "[2] The condition number is large, 3.04e+05. This might indicate that there are\n",
      "strong multicollinearity or other numerical problems.\n"
     ]
    }
   ],
   "source": [
    "print(pvalue('age30electronic'))  # pm10 pm25 humi"
   ]
  },
  {
   "cell_type": "markdown",
   "metadata": {},
   "source": [
    "* 32 주방용구"
   ]
  },
  {
   "cell_type": "code",
   "execution_count": 25,
   "metadata": {},
   "outputs": [
    {
     "name": "stdout",
     "output_type": "stream",
     "text": [
      "                            OLS Regression Results                            \n",
      "==============================================================================\n",
      "Dep. Variable:           age30kitchen   R-squared:                       0.046\n",
      "Model:                            OLS   Adj. R-squared:                  0.022\n",
      "Method:                 Least Squares   F-statistic:                     1.920\n",
      "Date:                Tue, 10 Sep 2019   Prob (F-statistic):             0.0481\n",
      "Time:                        05:46:13   Log-Likelihood:                -1263.0\n",
      "No. Observations:                 365   AIC:                             2546.\n",
      "Df Residuals:                     355   BIC:                             2585.\n",
      "Df Model:                           9                                         \n",
      "Covariance Type:            nonrobust                                         \n",
      "================================================================================\n",
      "                   coef    std err          t      P>|t|      [0.025      0.975]\n",
      "--------------------------------------------------------------------------------\n",
      "Intercept       12.2713      3.947      3.109      0.002       4.509      20.034\n",
      "pm10             0.0366      0.035      1.050      0.295      -0.032       0.105\n",
      "pm25            -0.0395      0.047     -0.836      0.404      -0.133       0.054\n",
      "temp            -0.1314      0.103     -1.271      0.205      -0.335       0.072\n",
      "humi            -0.0927      0.086     -1.084      0.279      -0.261       0.075\n",
      "CONTENT         -0.0135      0.006     -2.245      0.025      -0.025      -0.002\n",
      "rain            -0.0689      0.098     -0.706      0.481      -0.261       0.123\n",
      "CONTENT:temp     0.0003      0.000      1.480      0.140    -9.6e-05       0.001\n",
      "CONTENT:rain   1.96e-06      0.000      0.012      0.990      -0.000       0.000\n",
      "CONTENT:humi     0.0001      0.000      1.046      0.296      -0.000       0.000\n",
      "==============================================================================\n",
      "Omnibus:                       83.817   Durbin-Watson:                   1.971\n",
      "Prob(Omnibus):                  0.000   Jarque-Bera (JB):              139.773\n",
      "Skew:                           1.372   Prob(JB):                     4.45e-31\n",
      "Kurtosis:                       4.288   Cond. No.                     3.04e+05\n",
      "==============================================================================\n",
      "\n",
      "Warnings:\n",
      "[1] Standard Errors assume that the covariance matrix of the errors is correctly specified.\n",
      "[2] The condition number is large, 3.04e+05. This might indicate that there are\n",
      "strong multicollinearity or other numerical problems.\n"
     ]
    }
   ],
   "source": [
    "print(pvalue(\"age30kitchen\"))"
   ]
  },
  {
   "cell_type": "markdown",
   "metadata": {},
   "source": [
    "* 33 연료"
   ]
  },
  {
   "cell_type": "code",
   "execution_count": 27,
   "metadata": {},
   "outputs": [
    {
     "name": "stdout",
     "output_type": "stream",
     "text": [
      "                            OLS Regression Results                            \n",
      "==============================================================================\n",
      "Dep. Variable:              age30fuel   R-squared:                       0.419\n",
      "Model:                            OLS   Adj. R-squared:                  0.404\n",
      "Method:                 Least Squares   F-statistic:                     28.39\n",
      "Date:                Tue, 10 Sep 2019   Prob (F-statistic):           5.18e-37\n",
      "Time:                        05:46:22   Log-Likelihood:                -2428.4\n",
      "No. Observations:                 365   AIC:                             4877.\n",
      "Df Residuals:                     355   BIC:                             4916.\n",
      "Df Model:                           9                                         \n",
      "Covariance Type:            nonrobust                                         \n",
      "================================================================================\n",
      "                   coef    std err          t      P>|t|      [0.025      0.975]\n",
      "--------------------------------------------------------------------------------\n",
      "Intercept     1563.5309     96.150     16.261      0.000    1374.436    1752.626\n",
      "pm10            -1.1999      0.849     -1.413      0.159      -2.870       0.470\n",
      "pm25             1.5973      1.153      1.386      0.167      -0.669       3.864\n",
      "temp            12.4292      2.519      4.935      0.000       7.476      17.383\n",
      "humi            -3.3419      2.084     -1.604      0.110      -7.440       0.756\n",
      "CONTENT         -0.3337      0.147     -2.277      0.023      -0.622      -0.046\n",
      "rain            -4.2770      2.376     -1.800      0.073      -8.950       0.396\n",
      "CONTENT:temp    -0.0181      0.005     -3.773      0.000      -0.028      -0.009\n",
      "CONTENT:rain     0.0038      0.004      0.948      0.344      -0.004       0.012\n",
      "CONTENT:humi     0.0011      0.003      0.322      0.748      -0.005       0.008\n",
      "==============================================================================\n",
      "Omnibus:                        1.611   Durbin-Watson:                   1.264\n",
      "Prob(Omnibus):                  0.447   Jarque-Bera (JB):                1.370\n",
      "Skew:                           0.090   Prob(JB):                        0.504\n",
      "Kurtosis:                       3.239   Cond. No.                     3.04e+05\n",
      "==============================================================================\n",
      "\n",
      "Warnings:\n",
      "[1] Standard Errors assume that the covariance matrix of the errors is correctly specified.\n",
      "[2] The condition number is large, 3.04e+05. This might indicate that there are\n",
      "strong multicollinearity or other numerical problems.\n"
     ]
    }
   ],
   "source": [
    "print(pvalue(\"age30fuel\")) # temp CONTENT"
   ]
  },
  {
   "cell_type": "markdown",
   "metadata": {},
   "source": [
    "* 33 광학"
   ]
  },
  {
   "cell_type": "code",
   "execution_count": 28,
   "metadata": {},
   "outputs": [
    {
     "name": "stdout",
     "output_type": "stream",
     "text": [
      "                            OLS Regression Results                            \n",
      "==============================================================================\n",
      "Dep. Variable:             age30optic   R-squared:                       0.162\n",
      "Model:                            OLS   Adj. R-squared:                  0.140\n",
      "Method:                 Least Squares   F-statistic:                     7.603\n",
      "Date:                Tue, 10 Sep 2019   Prob (F-statistic):           3.26e-10\n",
      "Time:                        05:46:46   Log-Likelihood:                -1678.3\n",
      "No. Observations:                 365   AIC:                             3377.\n",
      "Df Residuals:                     355   BIC:                             3416.\n",
      "Df Model:                           9                                         \n",
      "Covariance Type:            nonrobust                                         \n",
      "================================================================================\n",
      "                   coef    std err          t      P>|t|      [0.025      0.975]\n",
      "--------------------------------------------------------------------------------\n",
      "Intercept       63.3439     12.315      5.144      0.000      39.124      87.564\n",
      "pm10             0.0995      0.109      0.915      0.361      -0.114       0.313\n",
      "pm25             0.0740      0.148      0.501      0.616      -0.216       0.364\n",
      "temp            -0.1922      0.323     -0.596      0.552      -0.827       0.442\n",
      "humi            -0.4935      0.267     -1.849      0.065      -1.018       0.031\n",
      "CONTENT         -0.0086      0.019     -0.457      0.648      -0.045       0.028\n",
      "rain             0.1853      0.304      0.609      0.543      -0.413       0.784\n",
      "CONTENT:temp     0.0003      0.001      0.565      0.572      -0.001       0.002\n",
      "CONTENT:rain    -0.0004      0.001     -0.849      0.396      -0.001       0.001\n",
      "CONTENT:humi     0.0004      0.000      0.993      0.321      -0.000       0.001\n",
      "==============================================================================\n",
      "Omnibus:                       32.191   Durbin-Watson:                   2.016\n",
      "Prob(Omnibus):                  0.000   Jarque-Bera (JB):               89.729\n",
      "Skew:                           0.376   Prob(JB):                     3.28e-20\n",
      "Kurtosis:                       5.309   Cond. No.                     3.04e+05\n",
      "==============================================================================\n",
      "\n",
      "Warnings:\n",
      "[1] Standard Errors assume that the covariance matrix of the errors is correctly specified.\n",
      "[2] The condition number is large, 3.04e+05. This might indicate that there are\n",
      "strong multicollinearity or other numerical problems.\n"
     ]
    }
   ],
   "source": [
    "print(pvalue(\"age30optic\"))  "
   ]
  },
  {
   "cell_type": "markdown",
   "metadata": {},
   "source": [
    "* 35 가전"
   ]
  },
  {
   "cell_type": "code",
   "execution_count": 29,
   "metadata": {},
   "outputs": [
    {
     "name": "stdout",
     "output_type": "stream",
     "text": [
      "                            OLS Regression Results                            \n",
      "==============================================================================\n",
      "Dep. Variable:        age30Appliances   R-squared:                       0.077\n",
      "Model:                            OLS   Adj. R-squared:                  0.054\n",
      "Method:                 Least Squares   F-statistic:                     3.290\n",
      "Date:                Tue, 10 Sep 2019   Prob (F-statistic):           0.000722\n",
      "Time:                        05:46:52   Log-Likelihood:                -1720.5\n",
      "No. Observations:                 365   AIC:                             3461.\n",
      "Df Residuals:                     355   BIC:                             3500.\n",
      "Df Model:                           9                                         \n",
      "Covariance Type:            nonrobust                                         \n",
      "================================================================================\n",
      "                   coef    std err          t      P>|t|      [0.025      0.975]\n",
      "--------------------------------------------------------------------------------\n",
      "Intercept       63.7197     13.828      4.608      0.000      36.526      90.914\n",
      "pm10             0.0224      0.122      0.184      0.854      -0.218       0.263\n",
      "pm25             0.0267      0.166      0.161      0.872      -0.299       0.353\n",
      "temp             0.5812      0.362      1.605      0.109      -0.131       1.294\n",
      "humi            -0.1554      0.300     -0.518      0.604      -0.745       0.434\n",
      "CONTENT         -0.0003      0.021     -0.016      0.988      -0.042       0.041\n",
      "rain            -0.2272      0.342     -0.665      0.507      -0.899       0.445\n",
      "CONTENT:temp     0.0006      0.001      0.909      0.364      -0.001       0.002\n",
      "CONTENT:rain     0.0005      0.001      0.863      0.389      -0.001       0.002\n",
      "CONTENT:humi    -0.0001      0.000     -0.244      0.807      -0.001       0.001\n",
      "==============================================================================\n",
      "Omnibus:                        1.821   Durbin-Watson:                   2.409\n",
      "Prob(Omnibus):                  0.402   Jarque-Bera (JB):                1.909\n",
      "Skew:                           0.157   Prob(JB):                        0.385\n",
      "Kurtosis:                       2.834   Cond. No.                     3.04e+05\n",
      "==============================================================================\n",
      "\n",
      "Warnings:\n",
      "[1] Standard Errors assume that the covariance matrix of the errors is correctly specified.\n",
      "[2] The condition number is large, 3.04e+05. This might indicate that there are\n",
      "strong multicollinearity or other numerical problems.\n"
     ]
    }
   ],
   "source": [
    "print(pvalue(\"age30Appliances\"))"
   ]
  },
  {
   "cell_type": "markdown",
   "metadata": {},
   "source": [
    "* 40 유통업"
   ]
  },
  {
   "cell_type": "code",
   "execution_count": 30,
   "metadata": {},
   "outputs": [
    {
     "name": "stdout",
     "output_type": "stream",
     "text": [
      "                            OLS Regression Results                            \n",
      "==============================================================================\n",
      "Dep. Variable:            age30circul   R-squared:                       0.456\n",
      "Model:                            OLS   Adj. R-squared:                  0.442\n",
      "Method:                 Least Squares   F-statistic:                     33.07\n",
      "Date:                Tue, 10 Sep 2019   Prob (F-statistic):           5.02e-42\n",
      "Time:                        05:46:56   Log-Likelihood:                -3368.9\n",
      "No. Observations:                 365   AIC:                             6758.\n",
      "Df Residuals:                     355   BIC:                             6797.\n",
      "Df Model:                           9                                         \n",
      "Covariance Type:            nonrobust                                         \n",
      "================================================================================\n",
      "                   coef    std err          t      P>|t|      [0.025      0.975]\n",
      "--------------------------------------------------------------------------------\n",
      "Intercept     2.957e+04   1264.975     23.378      0.000    2.71e+04    3.21e+04\n",
      "pm10           -30.0872     11.172     -2.693      0.007     -52.058      -8.116\n",
      "pm25            33.6818     15.163      2.221      0.027       3.861      63.503\n",
      "temp           141.7908     33.137      4.279      0.000      76.621     206.961\n",
      "humi            15.7020     27.414      0.573      0.567     -38.213      69.617\n",
      "CONTENT         -0.7024      1.928     -0.364      0.716      -4.493       3.089\n",
      "rain           -58.1424     31.262     -1.860      0.064    -119.625       3.340\n",
      "CONTENT:temp    -0.0338      0.063     -0.535      0.593      -0.158       0.090\n",
      "CONTENT:rain     0.0146      0.053      0.277      0.782      -0.089       0.118\n",
      "CONTENT:humi    -0.0745      0.044     -1.698      0.090      -0.161       0.012\n",
      "==============================================================================\n",
      "Omnibus:                        7.964   Durbin-Watson:                   1.621\n",
      "Prob(Omnibus):                  0.019   Jarque-Bera (JB):                7.976\n",
      "Skew:                           0.311   Prob(JB):                       0.0185\n",
      "Kurtosis:                       3.372   Cond. No.                     3.04e+05\n",
      "==============================================================================\n",
      "\n",
      "Warnings:\n",
      "[1] Standard Errors assume that the covariance matrix of the errors is correctly specified.\n",
      "[2] The condition number is large, 3.04e+05. This might indicate that there are\n",
      "strong multicollinearity or other numerical problems.\n"
     ]
    }
   ],
   "source": [
    "print(pvalue(\"age30circul\")) # pm10, pm25 temp"
   ]
  },
  {
   "cell_type": "markdown",
   "metadata": {},
   "source": [
    "* 42 의복"
   ]
  },
  {
   "cell_type": "code",
   "execution_count": 31,
   "metadata": {},
   "outputs": [
    {
     "name": "stdout",
     "output_type": "stream",
     "text": [
      "                            OLS Regression Results                            \n",
      "==============================================================================\n",
      "Dep. Variable:             age30cloth   R-squared:                       0.208\n",
      "Model:                            OLS   Adj. R-squared:                  0.188\n",
      "Method:                 Least Squares   F-statistic:                     10.37\n",
      "Date:                Tue, 10 Sep 2019   Prob (F-statistic):           3.02e-14\n",
      "Time:                        05:47:07   Log-Likelihood:                -2201.8\n",
      "No. Observations:                 365   AIC:                             4424.\n",
      "Df Residuals:                     355   BIC:                             4463.\n",
      "Df Model:                           9                                         \n",
      "Covariance Type:            nonrobust                                         \n",
      "================================================================================\n",
      "                   coef    std err          t      P>|t|      [0.025      0.975]\n",
      "--------------------------------------------------------------------------------\n",
      "Intercept      258.7977     51.685      5.007      0.000     157.150     360.445\n",
      "pm10            -1.0988      0.456     -2.407      0.017      -1.996      -0.201\n",
      "pm25             1.3584      0.620      2.193      0.029       0.140       2.577\n",
      "temp             0.7243      1.354      0.535      0.593      -1.938       3.387\n",
      "humi             1.3218      1.120      1.180      0.239      -0.881       3.525\n",
      "CONTENT          0.0109      0.079      0.139      0.890      -0.144       0.166\n",
      "rain            -3.5998      1.277     -2.818      0.005      -6.112      -1.088\n",
      "CONTENT:temp     0.0028      0.003      1.073      0.284      -0.002       0.008\n",
      "CONTENT:rain     0.0046      0.002      2.125      0.034       0.000       0.009\n",
      "CONTENT:humi    -0.0037      0.002     -2.075      0.039      -0.007      -0.000\n",
      "==============================================================================\n",
      "Omnibus:                      114.804   Durbin-Watson:                   1.134\n",
      "Prob(Omnibus):                  0.000   Jarque-Bera (JB):              365.874\n",
      "Skew:                           1.416   Prob(JB):                     3.56e-80\n",
      "Kurtosis:                       7.004   Cond. No.                     3.04e+05\n",
      "==============================================================================\n",
      "\n",
      "Warnings:\n",
      "[1] Standard Errors assume that the covariance matrix of the errors is correctly specified.\n",
      "[2] The condition number is large, 3.04e+05. This might indicate that there are\n",
      "strong multicollinearity or other numerical problems.\n"
     ]
    }
   ],
   "source": [
    "print(pvalue(\"age30cloth\")) # pm10 pm25 rain"
   ]
  },
  {
   "cell_type": "markdown",
   "metadata": {},
   "source": [
    "* 43 직물"
   ]
  },
  {
   "cell_type": "code",
   "execution_count": 33,
   "metadata": {},
   "outputs": [
    {
     "name": "stdout",
     "output_type": "stream",
     "text": [
      "                            OLS Regression Results                            \n",
      "==============================================================================\n",
      "Dep. Variable:           age30textile   R-squared:                       0.040\n",
      "Model:                            OLS   Adj. R-squared:                  0.015\n",
      "Method:                 Least Squares   F-statistic:                     1.623\n",
      "Date:                Tue, 10 Sep 2019   Prob (F-statistic):              0.107\n",
      "Time:                        05:47:28   Log-Likelihood:                -1273.5\n",
      "No. Observations:                 365   AIC:                             2567.\n",
      "Df Residuals:                     355   BIC:                             2606.\n",
      "Df Model:                           9                                         \n",
      "Covariance Type:            nonrobust                                         \n",
      "================================================================================\n",
      "                   coef    std err          t      P>|t|      [0.025      0.975]\n",
      "--------------------------------------------------------------------------------\n",
      "Intercept        8.0270      4.062      1.976      0.049       0.037      16.017\n",
      "pm10            -0.0170      0.036     -0.474      0.636      -0.088       0.054\n",
      "pm25             0.0225      0.049      0.462      0.645      -0.073       0.118\n",
      "temp             0.0424      0.106      0.399      0.690      -0.167       0.252\n",
      "humi            -0.0341      0.088     -0.387      0.699      -0.207       0.139\n",
      "CONTENT         -0.0087      0.006     -1.409      0.160      -0.021       0.003\n",
      "rain            -0.1161      0.100     -1.157      0.248      -0.314       0.081\n",
      "CONTENT:temp  -1.81e-05      0.000     -0.089      0.929      -0.000       0.000\n",
      "CONTENT:rain  4.331e-05      0.000      0.256      0.798      -0.000       0.000\n",
      "CONTENT:humi     0.0001      0.000      0.764      0.446      -0.000       0.000\n",
      "==============================================================================\n",
      "Omnibus:                      127.664   Durbin-Watson:                   1.910\n",
      "Prob(Omnibus):                  0.000   Jarque-Bera (JB):              308.463\n",
      "Skew:                           1.762   Prob(JB):                     1.04e-67\n",
      "Kurtosis:                       5.804   Cond. No.                     3.04e+05\n",
      "==============================================================================\n",
      "\n",
      "Warnings:\n",
      "[1] Standard Errors assume that the covariance matrix of the errors is correctly specified.\n",
      "[2] The condition number is large, 3.04e+05. This might indicate that there are\n",
      "strong multicollinearity or other numerical problems.\n"
     ]
    }
   ],
   "source": [
    "print(pvalue(\"age30textile\")) "
   ]
  },
  {
   "cell_type": "markdown",
   "metadata": {},
   "source": [
    "* 44 신변잡화"
   ]
  },
  {
   "cell_type": "code",
   "execution_count": 34,
   "metadata": {},
   "outputs": [
    {
     "name": "stdout",
     "output_type": "stream",
     "text": [
      "                            OLS Regression Results                            \n",
      "==============================================================================\n",
      "Dep. Variable:             age30stuff   R-squared:                       0.164\n",
      "Model:                            OLS   Adj. R-squared:                  0.143\n",
      "Method:                 Least Squares   F-statistic:                     7.726\n",
      "Date:                Tue, 10 Sep 2019   Prob (F-statistic):           2.14e-10\n",
      "Time:                        05:47:40   Log-Likelihood:                -1809.6\n",
      "No. Observations:                 365   AIC:                             3639.\n",
      "Df Residuals:                     355   BIC:                             3678.\n",
      "Df Model:                           9                                         \n",
      "Covariance Type:            nonrobust                                         \n",
      "================================================================================\n",
      "                   coef    std err          t      P>|t|      [0.025      0.975]\n",
      "--------------------------------------------------------------------------------\n",
      "Intercept      132.9164     17.646      7.532      0.000      98.212     167.621\n",
      "pm10            -0.0990      0.156     -0.635      0.526      -0.405       0.208\n",
      "pm25             0.2173      0.212      1.027      0.305      -0.199       0.633\n",
      "temp             0.0706      0.462      0.153      0.879      -0.839       0.980\n",
      "humi             0.0213      0.382      0.056      0.956      -0.731       0.773\n",
      "CONTENT         -0.0248      0.027     -0.921      0.357      -0.078       0.028\n",
      "rain            -0.9959      0.436     -2.284      0.023      -1.854      -0.138\n",
      "CONTENT:temp  9.057e-05      0.001      0.103      0.918      -0.002       0.002\n",
      "CONTENT:rain     0.0009      0.001      1.195      0.233      -0.001       0.002\n",
      "CONTENT:humi    -0.0005      0.001     -0.845      0.399      -0.002       0.001\n",
      "==============================================================================\n",
      "Omnibus:                       38.531   Durbin-Watson:                   1.798\n",
      "Prob(Omnibus):                  0.000   Jarque-Bera (JB):               49.376\n",
      "Skew:                           0.786   Prob(JB):                     1.90e-11\n",
      "Kurtosis:                       3.880   Cond. No.                     3.04e+05\n",
      "==============================================================================\n",
      "\n",
      "Warnings:\n",
      "[1] Standard Errors assume that the covariance matrix of the errors is correctly specified.\n",
      "[2] The condition number is large, 3.04e+05. This might indicate that there are\n",
      "strong multicollinearity or other numerical problems.\n"
     ]
    }
   ],
   "source": [
    "print(pvalue(\"age30stuff\"))  # rain"
   ]
  },
  {
   "cell_type": "markdown",
   "metadata": {},
   "source": [
    "* 50 서적문구"
   ]
  },
  {
   "cell_type": "code",
   "execution_count": 35,
   "metadata": {},
   "outputs": [
    {
     "name": "stdout",
     "output_type": "stream",
     "text": [
      "                            OLS Regression Results                            \n",
      "==============================================================================\n",
      "Dep. Variable:              age30book   R-squared:                       0.229\n",
      "Model:                            OLS   Adj. R-squared:                  0.209\n",
      "Method:                 Least Squares   F-statistic:                     11.70\n",
      "Date:                Tue, 10 Sep 2019   Prob (F-statistic):           3.83e-16\n",
      "Time:                        05:47:49   Log-Likelihood:                -2346.2\n",
      "No. Observations:                 365   AIC:                             4712.\n",
      "Df Residuals:                     355   BIC:                             4751.\n",
      "Df Model:                           9                                         \n",
      "Covariance Type:            nonrobust                                         \n",
      "================================================================================\n",
      "                   coef    std err          t      P>|t|      [0.025      0.975]\n",
      "--------------------------------------------------------------------------------\n",
      "Intercept      622.0605     76.768      8.103      0.000     471.084     773.037\n",
      "pm10            -1.3159      0.678     -1.941      0.053      -2.649       0.018\n",
      "pm25             3.5506      0.920      3.858      0.000       1.741       5.360\n",
      "temp             3.9367      2.011      1.958      0.051      -0.018       7.892\n",
      "humi             1.6517      1.664      0.993      0.321      -1.620       4.924\n",
      "CONTENT          0.0577      0.117      0.493      0.622      -0.172       0.288\n",
      "rain            -0.7394      1.897     -0.390      0.697      -4.471       2.992\n",
      "CONTENT:temp    -0.0018      0.004     -0.460      0.646      -0.009       0.006\n",
      "CONTENT:rain    -0.0005      0.003     -0.151      0.880      -0.007       0.006\n",
      "CONTENT:humi    -0.0053      0.003     -2.002      0.046      -0.011   -9.36e-05\n",
      "==============================================================================\n",
      "Omnibus:                      151.759   Durbin-Watson:                   1.357\n",
      "Prob(Omnibus):                  0.000   Jarque-Bera (JB):             1162.005\n",
      "Skew:                           1.552   Prob(JB):                    4.72e-253\n",
      "Kurtosis:                      11.171   Cond. No.                     3.04e+05\n",
      "==============================================================================\n",
      "\n",
      "Warnings:\n",
      "[1] Standard Errors assume that the covariance matrix of the errors is correctly specified.\n",
      "[2] The condition number is large, 3.04e+05. This might indicate that there are\n",
      "strong multicollinearity or other numerical problems.\n"
     ]
    }
   ],
   "source": [
    "print(pvalue(\"age30book\"))  # pm25"
   ]
  },
  {
   "cell_type": "markdown",
   "metadata": {},
   "source": [
    "* 52 사무통신"
   ]
  },
  {
   "cell_type": "code",
   "execution_count": 36,
   "metadata": {},
   "outputs": [
    {
     "name": "stdout",
     "output_type": "stream",
     "text": [
      "                            OLS Regression Results                            \n",
      "==============================================================================\n",
      "Dep. Variable:            age30affair   R-squared:                       0.057\n",
      "Model:                            OLS   Adj. R-squared:                  0.033\n",
      "Method:                 Least Squares   F-statistic:                     2.398\n",
      "Date:                Tue, 10 Sep 2019   Prob (F-statistic):             0.0120\n",
      "Time:                        05:47:58   Log-Likelihood:                -1285.2\n",
      "No. Observations:                 365   AIC:                             2590.\n",
      "Df Residuals:                     355   BIC:                             2629.\n",
      "Df Model:                           9                                         \n",
      "Covariance Type:            nonrobust                                         \n",
      "================================================================================\n",
      "                   coef    std err          t      P>|t|      [0.025      0.975]\n",
      "--------------------------------------------------------------------------------\n",
      "Intercept       10.0916      4.195      2.406      0.017       1.841      18.342\n",
      "pm10            -0.0645      0.037     -1.741      0.082      -0.137       0.008\n",
      "pm25             0.0968      0.050      1.926      0.055      -0.002       0.196\n",
      "temp            -0.3310      0.110     -3.012      0.003      -0.547      -0.115\n",
      "humi             0.0373      0.091      0.410      0.682      -0.142       0.216\n",
      "CONTENT          0.0042      0.006      0.651      0.515      -0.008       0.017\n",
      "rain            -0.0435      0.104     -0.420      0.675      -0.247       0.160\n",
      "CONTENT:temp     0.0006      0.000      2.932      0.004       0.000       0.001\n",
      "CONTENT:rain     0.0001      0.000      0.580      0.563      -0.000       0.000\n",
      "CONTENT:humi    -0.0002      0.000     -1.420      0.157      -0.000    7.96e-05\n",
      "==============================================================================\n",
      "Omnibus:                       26.275   Durbin-Watson:                   2.095\n",
      "Prob(Omnibus):                  0.000   Jarque-Bera (JB):               27.782\n",
      "Skew:                           0.638   Prob(JB):                     9.27e-07\n",
      "Kurtosis:                       2.557   Cond. No.                     3.04e+05\n",
      "==============================================================================\n",
      "\n",
      "Warnings:\n",
      "[1] Standard Errors assume that the covariance matrix of the errors is correctly specified.\n",
      "[2] The condition number is large, 3.04e+05. This might indicate that there are\n",
      "strong multicollinearity or other numerical problems.\n"
     ]
    }
   ],
   "source": [
    "print(pvalue('age30affair'))  "
   ]
  },
  {
   "cell_type": "markdown",
   "metadata": {},
   "source": [
    "* 60 자동차판매"
   ]
  },
  {
   "cell_type": "code",
   "execution_count": 37,
   "metadata": {},
   "outputs": [
    {
     "name": "stdout",
     "output_type": "stream",
     "text": [
      "                            OLS Regression Results                            \n",
      "==============================================================================\n",
      "Dep. Variable:          age30car_sell   R-squared:                       0.024\n",
      "Model:                            OLS   Adj. R-squared:                 -0.001\n",
      "Method:                 Least Squares   F-statistic:                    0.9629\n",
      "Date:                Tue, 10 Sep 2019   Prob (F-statistic):              0.471\n",
      "Time:                        05:48:06   Log-Likelihood:                -823.42\n",
      "No. Observations:                 365   AIC:                             1667.\n",
      "Df Residuals:                     355   BIC:                             1706.\n",
      "Df Model:                           9                                         \n",
      "Covariance Type:            nonrobust                                         \n",
      "================================================================================\n",
      "                   coef    std err          t      P>|t|      [0.025      0.975]\n",
      "--------------------------------------------------------------------------------\n",
      "Intercept       -0.3919      1.184     -0.331      0.741      -2.720       1.936\n",
      "pm10             0.0147      0.010      1.403      0.162      -0.006       0.035\n",
      "pm25            -0.0173      0.014     -1.218      0.224      -0.045       0.011\n",
      "temp            -0.0135      0.031     -0.436      0.663      -0.074       0.047\n",
      "humi             0.0148      0.026      0.578      0.564      -0.036       0.065\n",
      "CONTENT         -0.0007      0.002     -0.413      0.680      -0.004       0.003\n",
      "rain            -0.0340      0.029     -1.161      0.247      -0.092       0.024\n",
      "CONTENT:temp  6.257e-05   5.91e-05      1.059      0.291   -5.37e-05       0.000\n",
      "CONTENT:rain  4.401e-05   4.93e-05      0.893      0.372   -5.29e-05       0.000\n",
      "CONTENT:humi  2.767e-06   4.11e-05      0.067      0.946    -7.8e-05    8.36e-05\n",
      "==============================================================================\n",
      "Omnibus:                      364.425   Durbin-Watson:                   2.080\n",
      "Prob(Omnibus):                  0.000   Jarque-Bera (JB):             8993.108\n",
      "Skew:                           4.476   Prob(JB):                         0.00\n",
      "Kurtosis:                      25.609   Cond. No.                     3.04e+05\n",
      "==============================================================================\n",
      "\n",
      "Warnings:\n",
      "[1] Standard Errors assume that the covariance matrix of the errors is correctly specified.\n",
      "[2] The condition number is large, 3.04e+05. This might indicate that there are\n",
      "strong multicollinearity or other numerical problems.\n"
     ]
    }
   ],
   "source": [
    "print(pvalue(\"age30car_sell\"))"
   ]
  },
  {
   "cell_type": "markdown",
   "metadata": {},
   "source": [
    "* 62 자동차정비"
   ]
  },
  {
   "cell_type": "code",
   "execution_count": 38,
   "metadata": {},
   "outputs": [
    {
     "name": "stdout",
     "output_type": "stream",
     "text": [
      "                            OLS Regression Results                            \n",
      "==============================================================================\n",
      "Dep. Variable:        age30car_repair   R-squared:                       0.132\n",
      "Model:                            OLS   Adj. R-squared:                  0.110\n",
      "Method:                 Least Squares   F-statistic:                     5.983\n",
      "Date:                Tue, 10 Sep 2019   Prob (F-statistic):           8.22e-08\n",
      "Time:                        05:48:12   Log-Likelihood:                -1978.7\n",
      "No. Observations:                 365   AIC:                             3977.\n",
      "Df Residuals:                     355   BIC:                             4016.\n",
      "Df Model:                           9                                         \n",
      "Covariance Type:            nonrobust                                         \n",
      "================================================================================\n",
      "                   coef    std err          t      P>|t|      [0.025      0.975]\n",
      "--------------------------------------------------------------------------------\n",
      "Intercept      277.0346     28.050      9.876      0.000     221.869     332.200\n",
      "pm10            -0.5135      0.248     -2.073      0.039      -1.001      -0.026\n",
      "pm25             0.8540      0.336      2.540      0.012       0.193       1.515\n",
      "temp             0.4723      0.735      0.643      0.521      -0.973       1.917\n",
      "humi            -1.0268      0.608     -1.689      0.092      -2.222       0.169\n",
      "CONTENT         -0.0459      0.043     -1.075      0.283      -0.130       0.038\n",
      "rain            -0.6680      0.693     -0.964      0.336      -2.031       0.695\n",
      "CONTENT:temp    -0.0008      0.001     -0.577      0.564      -0.004       0.002\n",
      "CONTENT:rain     0.0008      0.001      0.718      0.473      -0.001       0.003\n",
      "CONTENT:humi  8.679e-06      0.001      0.009      0.993      -0.002       0.002\n",
      "==============================================================================\n",
      "Omnibus:                       38.231   Durbin-Watson:                   1.843\n",
      "Prob(Omnibus):                  0.000   Jarque-Bera (JB):              118.758\n",
      "Skew:                           0.430   Prob(JB):                     1.63e-26\n",
      "Kurtosis:                       5.659   Cond. No.                     3.04e+05\n",
      "==============================================================================\n",
      "\n",
      "Warnings:\n",
      "[1] Standard Errors assume that the covariance matrix of the errors is correctly specified.\n",
      "[2] The condition number is large, 3.04e+05. This might indicate that there are\n",
      "strong multicollinearity or other numerical problems.\n"
     ]
    }
   ],
   "source": [
    "print(pvalue(\"age30car_repair\"))  # pm10 pm25"
   ]
  },
  {
   "cell_type": "markdown",
   "metadata": {},
   "source": [
    "* 70 의료기관"
   ]
  },
  {
   "cell_type": "code",
   "execution_count": 39,
   "metadata": {},
   "outputs": [
    {
     "name": "stdout",
     "output_type": "stream",
     "text": [
      "                            OLS Regression Results                            \n",
      "==============================================================================\n",
      "Dep. Variable:           age30medical   R-squared:                       0.147\n",
      "Model:                            OLS   Adj. R-squared:                  0.125\n",
      "Method:                 Least Squares   F-statistic:                     6.781\n",
      "Date:                Tue, 10 Sep 2019   Prob (F-statistic):           5.37e-09\n",
      "Time:                        05:48:22   Log-Likelihood:                -3286.2\n",
      "No. Observations:                 365   AIC:                             6592.\n",
      "Df Residuals:                     355   BIC:                             6631.\n",
      "Df Model:                           9                                         \n",
      "Covariance Type:            nonrobust                                         \n",
      "================================================================================\n",
      "                   coef    std err          t      P>|t|      [0.025      0.975]\n",
      "--------------------------------------------------------------------------------\n",
      "Intercept     5861.3173   1008.286      5.813      0.000    3878.353    7844.282\n",
      "pm10             0.7750      8.905      0.087      0.931     -16.738      18.288\n",
      "pm25           -12.0327     12.086     -0.996      0.320     -35.802      11.737\n",
      "temp           -63.3804     26.413     -2.400      0.017    -115.326     -11.435\n",
      "humi            -8.0492     21.851     -0.368      0.713     -51.024      34.925\n",
      "CONTENT         -0.0021      1.536     -0.001      0.999      -3.024       3.020\n",
      "rain             7.8808     24.919      0.316      0.752     -41.126      56.888\n",
      "CONTENT:temp     0.1477      0.050      2.934      0.004       0.049       0.247\n",
      "CONTENT:rain    -0.0417      0.042     -0.993      0.321      -0.124       0.041\n",
      "CONTENT:humi     0.0243      0.035      0.694      0.488      -0.045       0.093\n",
      "==============================================================================\n",
      "Omnibus:                       29.706   Durbin-Watson:                   2.698\n",
      "Prob(Omnibus):                  0.000   Jarque-Bera (JB):               35.540\n",
      "Skew:                          -0.762   Prob(JB):                     1.92e-08\n",
      "Kurtosis:                       2.874   Cond. No.                     3.04e+05\n",
      "==============================================================================\n",
      "\n",
      "Warnings:\n",
      "[1] Standard Errors assume that the covariance matrix of the errors is correctly specified.\n",
      "[2] The condition number is large, 3.04e+05. This might indicate that there are\n",
      "strong multicollinearity or other numerical problems.\n"
     ]
    }
   ],
   "source": [
    "print(pvalue(\"age30medical\")) # temp"
   ]
  },
  {
   "cell_type": "markdown",
   "metadata": {},
   "source": [
    "* 71 보건위생"
   ]
  },
  {
   "cell_type": "code",
   "execution_count": 40,
   "metadata": {
    "scrolled": false
   },
   "outputs": [
    {
     "name": "stdout",
     "output_type": "stream",
     "text": [
      "                            OLS Regression Results                            \n",
      "==============================================================================\n",
      "Dep. Variable:     age30public_health   R-squared:                       0.307\n",
      "Model:                            OLS   Adj. R-squared:                  0.289\n",
      "Method:                 Least Squares   F-statistic:                     17.46\n",
      "Date:                Tue, 10 Sep 2019   Prob (F-statistic):           6.21e-24\n",
      "Time:                        05:48:42   Log-Likelihood:                -2613.2\n",
      "No. Observations:                 365   AIC:                             5246.\n",
      "Df Residuals:                     355   BIC:                             5285.\n",
      "Df Model:                           9                                         \n",
      "Covariance Type:            nonrobust                                         \n",
      "================================================================================\n",
      "                   coef    std err          t      P>|t|      [0.025      0.975]\n",
      "--------------------------------------------------------------------------------\n",
      "Intercept     1539.9932    159.555      9.652      0.000    1226.201    1853.785\n",
      "pm10            -2.7610      1.409     -1.959      0.051      -5.532       0.010\n",
      "pm25             5.5096      1.913      2.881      0.004       1.748       9.271\n",
      "temp            -2.9877      4.180     -0.715      0.475     -11.208       5.232\n",
      "humi             5.2157      3.458      1.508      0.132      -1.585      12.016\n",
      "CONTENT         -0.1080      0.243     -0.444      0.657      -0.586       0.370\n",
      "rain            -5.2954      3.943     -1.343      0.180     -13.050       2.460\n",
      "CONTENT:temp    -0.0011      0.008     -0.143      0.886      -0.017       0.015\n",
      "CONTENT:rain     0.0037      0.007      0.558      0.577      -0.009       0.017\n",
      "CONTENT:humi    -0.0130      0.006     -2.347      0.019      -0.024      -0.002\n",
      "==============================================================================\n",
      "Omnibus:                        3.327   Durbin-Watson:                   1.310\n",
      "Prob(Omnibus):                  0.189   Jarque-Bera (JB):                3.669\n",
      "Skew:                           0.072   Prob(JB):                        0.160\n",
      "Kurtosis:                       3.470   Cond. No.                     3.04e+05\n",
      "==============================================================================\n",
      "\n",
      "Warnings:\n",
      "[1] Standard Errors assume that the covariance matrix of the errors is correctly specified.\n",
      "[2] The condition number is large, 3.04e+05. This might indicate that there are\n",
      "strong multicollinearity or other numerical problems.\n"
     ]
    }
   ],
   "source": [
    "print(pvalue(\"age30public_health\")) # pm25"
   ]
  },
  {
   "cell_type": "markdown",
   "metadata": {},
   "source": [
    "* 80 요식업소"
   ]
  },
  {
   "cell_type": "code",
   "execution_count": 41,
   "metadata": {},
   "outputs": [
    {
     "name": "stdout",
     "output_type": "stream",
     "text": [
      "                            OLS Regression Results                            \n",
      "==============================================================================\n",
      "Dep. Variable:              age30food   R-squared:                       0.398\n",
      "Model:                            OLS   Adj. R-squared:                  0.382\n",
      "Method:                 Least Squares   F-statistic:                     26.03\n",
      "Date:                Tue, 10 Sep 2019   Prob (F-statistic):           2.36e-34\n",
      "Time:                        05:48:52   Log-Likelihood:                -3227.3\n",
      "No. Observations:                 365   AIC:                             6475.\n",
      "Df Residuals:                     355   BIC:                             6514.\n",
      "Df Model:                           9                                         \n",
      "Covariance Type:            nonrobust                                         \n",
      "================================================================================\n",
      "                   coef    std err          t      P>|t|      [0.025      0.975]\n",
      "--------------------------------------------------------------------------------\n",
      "Intercept     1.716e+04    858.163     19.992      0.000    1.55e+04    1.88e+04\n",
      "pm10           -21.1979      7.579     -2.797      0.005     -36.103      -6.293\n",
      "pm25            27.9864     10.287      2.721      0.007       7.756      48.217\n",
      "temp            76.6235     22.480      3.408      0.001      32.412     120.835\n",
      "humi            16.0469     18.598      0.863      0.389     -20.529      52.623\n",
      "CONTENT          0.7180      1.308      0.549      0.583      -1.854       3.290\n",
      "rain           -56.7574     21.209     -2.676      0.008     -98.468     -15.047\n",
      "CONTENT:temp    -0.0527      0.043     -1.230      0.219      -0.137       0.032\n",
      "CONTENT:rain     0.0511      0.036      1.431      0.153      -0.019       0.121\n",
      "CONTENT:humi    -0.0767      0.030     -2.575      0.010      -0.135      -0.018\n",
      "==============================================================================\n",
      "Omnibus:                       35.097   Durbin-Watson:                   1.229\n",
      "Prob(Omnibus):                  0.000   Jarque-Bera (JB):               81.380\n",
      "Skew:                          -0.489   Prob(JB):                     2.13e-18\n",
      "Kurtosis:                       5.097   Cond. No.                     3.04e+05\n",
      "==============================================================================\n",
      "\n",
      "Warnings:\n",
      "[1] Standard Errors assume that the covariance matrix of the errors is correctly specified.\n",
      "[2] The condition number is large, 3.04e+05. This might indicate that there are\n",
      "strong multicollinearity or other numerical problems.\n"
     ]
    }
   ],
   "source": [
    "print(pvalue(\"age30food\"))# pm10 pm25 temp rain"
   ]
  },
  {
   "cell_type": "markdown",
   "metadata": {},
   "source": [
    "* 81 음료식품"
   ]
  },
  {
   "cell_type": "code",
   "execution_count": 43,
   "metadata": {},
   "outputs": [
    {
     "name": "stdout",
     "output_type": "stream",
     "text": [
      "                            OLS Regression Results                            \n",
      "==============================================================================\n",
      "Dep. Variable:           age30grocery   R-squared:                       0.157\n",
      "Model:                            OLS   Adj. R-squared:                  0.136\n",
      "Method:                 Least Squares   F-statistic:                     7.371\n",
      "Date:                Tue, 10 Sep 2019   Prob (F-statistic):           7.17e-10\n",
      "Time:                        05:49:05   Log-Likelihood:                -2662.2\n",
      "No. Observations:                 365   AIC:                             5344.\n",
      "Df Residuals:                     355   BIC:                             5383.\n",
      "Df Model:                           9                                         \n",
      "Covariance Type:            nonrobust                                         \n",
      "================================================================================\n",
      "                   coef    std err          t      P>|t|      [0.025      0.975]\n",
      "--------------------------------------------------------------------------------\n",
      "Intercept     3198.6737    182.460     17.531      0.000    2839.835    3557.513\n",
      "pm10             0.2084      1.611      0.129      0.897      -2.961       3.377\n",
      "pm25            -3.3770      2.187     -1.544      0.123      -7.678       0.924\n",
      "temp           -13.4453      4.780     -2.813      0.005     -22.845      -4.045\n",
      "humi             4.8791      3.954      1.234      0.218      -2.898      12.656\n",
      "CONTENT          0.3298      0.278      1.186      0.236      -0.217       0.877\n",
      "rain            -6.3120      4.509     -1.400      0.162     -15.180       2.556\n",
      "CONTENT:temp     0.0409      0.009      4.492      0.000       0.023       0.059\n",
      "CONTENT:rain     0.0020      0.008      0.261      0.795      -0.013       0.017\n",
      "CONTENT:humi    -0.0091      0.006     -1.440      0.151      -0.022       0.003\n",
      "==============================================================================\n",
      "Omnibus:                       57.860   Durbin-Watson:                   1.791\n",
      "Prob(Omnibus):                  0.000   Jarque-Bera (JB):              634.811\n",
      "Skew:                          -0.029   Prob(JB):                    1.42e-138\n",
      "Kurtosis:                       9.460   Cond. No.                     3.04e+05\n",
      "==============================================================================\n",
      "\n",
      "Warnings:\n",
      "[1] Standard Errors assume that the covariance matrix of the errors is correctly specified.\n",
      "[2] The condition number is large, 3.04e+05. This might indicate that there are\n",
      "strong multicollinearity or other numerical problems.\n"
     ]
    }
   ],
   "source": [
    "print(pvalue('age30grocery'))  # temp"
   ]
  },
  {
   "cell_type": "markdown",
   "metadata": {},
   "source": [
    "* 92 수리서비스"
   ]
  },
  {
   "cell_type": "code",
   "execution_count": 44,
   "metadata": {
    "scrolled": false
   },
   "outputs": [
    {
     "name": "stdout",
     "output_type": "stream",
     "text": [
      "                             OLS Regression Results                            \n",
      "===============================================================================\n",
      "Dep. Variable:     age30repair_service   R-squared:                       0.064\n",
      "Model:                             OLS   Adj. R-squared:                  0.041\n",
      "Method:                  Least Squares   F-statistic:                     2.716\n",
      "Date:                 Tue, 10 Sep 2019   Prob (F-statistic):            0.00451\n",
      "Time:                         05:49:15   Log-Likelihood:                -2237.9\n",
      "No. Observations:                  365   AIC:                             4496.\n",
      "Df Residuals:                      355   BIC:                             4535.\n",
      "Df Model:                            9                                         \n",
      "Covariance Type:             nonrobust                                         \n",
      "================================================================================\n",
      "                   coef    std err          t      P>|t|      [0.025      0.975]\n",
      "--------------------------------------------------------------------------------\n",
      "Intercept      304.7117     57.062      5.340      0.000     192.490     416.933\n",
      "pm10            -0.5550      0.504     -1.101      0.272      -1.546       0.436\n",
      "pm25             0.6974      0.684      1.020      0.309      -0.648       2.043\n",
      "temp            -3.9722      1.495     -2.657      0.008      -6.912      -1.032\n",
      "humi            -1.0509      1.237     -0.850      0.396      -3.483       1.381\n",
      "CONTENT         -0.0972      0.087     -1.118      0.264      -0.268       0.074\n",
      "rain             0.9350      1.410      0.663      0.508      -1.838       3.708\n",
      "CONTENT:temp     0.0100      0.003      3.502      0.001       0.004       0.016\n",
      "CONTENT:rain    -0.0028      0.002     -1.181      0.238      -0.007       0.002\n",
      "CONTENT:humi     0.0007      0.002      0.363      0.717      -0.003       0.005\n",
      "==============================================================================\n",
      "Omnibus:                       10.574   Durbin-Watson:                   2.637\n",
      "Prob(Omnibus):                  0.005   Jarque-Bera (JB):               10.716\n",
      "Skew:                           0.382   Prob(JB):                      0.00471\n",
      "Kurtosis:                       3.346   Cond. No.                     3.04e+05\n",
      "==============================================================================\n",
      "\n",
      "Warnings:\n",
      "[1] Standard Errors assume that the covariance matrix of the errors is correctly specified.\n",
      "[2] The condition number is large, 3.04e+05. This might indicate that there are\n",
      "strong multicollinearity or other numerical problems.\n"
     ]
    }
   ],
   "source": [
    "print(pvalue('age30repair_service')) # temp"
   ]
  },
  {
   "cell_type": "code",
   "execution_count": null,
   "metadata": {},
   "outputs": [],
   "source": []
  }
 ],
 "metadata": {
  "kernelspec": {
   "display_name": "2019BigC",
   "language": "python",
   "name": "2019bigc"
  },
  "language_info": {
   "codemirror_mode": {
    "name": "ipython",
    "version": 3
   },
   "file_extension": ".py",
   "mimetype": "text/x-python",
   "name": "python",
   "nbconvert_exporter": "python",
   "pygments_lexer": "ipython3",
   "version": "3.7.3"
  }
 },
 "nbformat": 4,
 "nbformat_minor": 4
}

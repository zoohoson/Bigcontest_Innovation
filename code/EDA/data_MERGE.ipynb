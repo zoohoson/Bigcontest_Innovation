{
 "cells": [
  {
   "cell_type": "markdown",
   "metadata": {},
   "source": [
    "## 필요한 라이브러리 load"
   ]
  },
  {
   "cell_type": "code",
   "execution_count": 1,
   "metadata": {},
   "outputs": [],
   "source": [
    "import pandas as pd\n",
    "import numpy as np\n",
    "import matplotlib.pyplot as plt"
   ]
  },
  {
   "cell_type": "code",
   "execution_count": 2,
   "metadata": {},
   "outputs": [],
   "source": [
    "# 필요한 패키지와 라이브러리를 가져옴\n",
    "import matplotlib as mpl\n",
    "import matplotlib.pyplot as plt\n",
    "import matplotlib.font_manager as fm\n",
    "path = 'C:\\\\Users\\\\JuhoSon\\\\AppData\\\\Local\\\\Microsoft\\\\Windows\\\\Fonts\\\\NanumGothicCoding-Bold.ttf'\n",
    "font_name = fm.FontProperties(fname=path, size=50).get_name()\n",
    "plt.rc('font', family=font_name)"
   ]
  },
  {
   "cell_type": "markdown",
   "metadata": {},
   "source": [
    "# 데이터 총 merge"
   ]
  },
  {
   "cell_type": "code",
   "execution_count": 3,
   "metadata": {},
   "outputs": [],
   "source": [
    "# GS 데이터 Load\n",
    "df_gs_nowon = pd.read_csv('../data/innovation/Merge_data/df_gs_nowon.csv')\n",
    "df_gs_jongro = pd.read_csv('../data/innovation/Merge_data/df_gs_jongro.csv')\n",
    "df_gs_nowon = df_gs_nowon.astype(int)\n",
    "df_gs_jongro = df_gs_jongro.astype(int)\n",
    "\n",
    "# 신한 데이터 Load\n",
    "df_card_nowon = pd.read_csv('../data/innovation/Merge_data/df_shinhan_nowon.csv')\n",
    "df_card_jongro = pd.read_csv('../data/innovation/Merge_data/df_shinhan_jongro.csv')\n",
    "\n",
    "# SKT 데이터 load\n",
    "df_skt_nowon = pd.read_csv('../data/innovation/Merge_data/df_skt_nowon.csv')\n",
    "df_skt_jongro = pd.read_csv('../data/innovation/Merge_data/df_skt_jongro.csv')\n",
    "\n",
    "# 미세먼지 데이터 Load\n",
    "df_asos_nowon = pd.read_csv('../data/innovation/Merge_data/df_asos_nowon.csv')\n",
    "df_asos_jongro = pd.read_csv('../data/innovation/Merge_data/df_asos_jongro.csv')"
   ]
  },
  {
   "cell_type": "code",
   "execution_count": 12,
   "metadata": {},
   "outputs": [
    {
     "data": {
      "text/plain": [
       "((365, 8), (365, 4), (365, 92), (365, 8))"
      ]
     },
     "execution_count": 12,
     "metadata": {},
     "output_type": "execute_result"
    }
   ],
   "source": [
    "df_asos_nowon.shape, df_skt_nowon.shape, df_card_nowon.shape, df_gs_nowon.shape"
   ]
  },
  {
   "cell_type": "code",
   "execution_count": 14,
   "metadata": {},
   "outputs": [],
   "source": [
    "df_asos_nowon.drop(['DATE', 'GU_NM'], axis=1, inplace=True)\n",
    "df_asos_jongro.drop(['DATE', 'GU_NM'], axis=1, inplace=True)"
   ]
  },
  {
   "cell_type": "code",
   "execution_count": 4,
   "metadata": {},
   "outputs": [
    {
     "data": {
      "text/html": [
       "<div>\n",
       "<style scoped>\n",
       "    .dataframe tbody tr th:only-of-type {\n",
       "        vertical-align: middle;\n",
       "    }\n",
       "\n",
       "    .dataframe tbody tr th {\n",
       "        vertical-align: top;\n",
       "    }\n",
       "\n",
       "    .dataframe thead th {\n",
       "        text-align: right;\n",
       "    }\n",
       "</style>\n",
       "<table border=\"1\" class=\"dataframe\">\n",
       "  <thead>\n",
       "    <tr style=\"text-align: right;\">\n",
       "      <th></th>\n",
       "      <th>age20숙박</th>\n",
       "      <th>age20레저용품</th>\n",
       "      <th>age20레저업소</th>\n",
       "      <th>age20문화취미</th>\n",
       "      <th>age20가구</th>\n",
       "      <th>age20전기</th>\n",
       "      <th>age20주방</th>\n",
       "      <th>age20연료</th>\n",
       "      <th>age20광학</th>\n",
       "      <th>age20가전</th>\n",
       "      <th>...</th>\n",
       "      <th>age50신변잡화</th>\n",
       "      <th>age50서적문구</th>\n",
       "      <th>age50사무통신</th>\n",
       "      <th>age50자동차판매</th>\n",
       "      <th>age50자동차정비</th>\n",
       "      <th>age50의료기관</th>\n",
       "      <th>age50보건위생</th>\n",
       "      <th>age50요식업소</th>\n",
       "      <th>age50음료식품</th>\n",
       "      <th>age50수리서비스</th>\n",
       "    </tr>\n",
       "  </thead>\n",
       "  <tbody>\n",
       "    <tr>\n",
       "      <th>0</th>\n",
       "      <td>432.0</td>\n",
       "      <td>203.0</td>\n",
       "      <td>7993.0</td>\n",
       "      <td>1551.0</td>\n",
       "      <td>21.0</td>\n",
       "      <td>NaN</td>\n",
       "      <td>NaN</td>\n",
       "      <td>498.0</td>\n",
       "      <td>29.0</td>\n",
       "      <td>25.0</td>\n",
       "      <td>...</td>\n",
       "      <td>72.0</td>\n",
       "      <td>760.0</td>\n",
       "      <td>NaN</td>\n",
       "      <td>NaN</td>\n",
       "      <td>58.0</td>\n",
       "      <td>978.0</td>\n",
       "      <td>1877.0</td>\n",
       "      <td>14351.0</td>\n",
       "      <td>2763.0</td>\n",
       "      <td>99.0</td>\n",
       "    </tr>\n",
       "    <tr>\n",
       "      <th>1</th>\n",
       "      <td>105.0</td>\n",
       "      <td>131.0</td>\n",
       "      <td>5367.0</td>\n",
       "      <td>791.0</td>\n",
       "      <td>NaN</td>\n",
       "      <td>NaN</td>\n",
       "      <td>NaN</td>\n",
       "      <td>470.0</td>\n",
       "      <td>63.0</td>\n",
       "      <td>70.0</td>\n",
       "      <td>...</td>\n",
       "      <td>140.0</td>\n",
       "      <td>687.0</td>\n",
       "      <td>43.0</td>\n",
       "      <td>NaN</td>\n",
       "      <td>264.0</td>\n",
       "      <td>8666.0</td>\n",
       "      <td>1307.0</td>\n",
       "      <td>13421.0</td>\n",
       "      <td>3256.0</td>\n",
       "      <td>337.0</td>\n",
       "    </tr>\n",
       "    <tr>\n",
       "      <th>2</th>\n",
       "      <td>87.0</td>\n",
       "      <td>126.0</td>\n",
       "      <td>5656.0</td>\n",
       "      <td>526.0</td>\n",
       "      <td>NaN</td>\n",
       "      <td>NaN</td>\n",
       "      <td>18.0</td>\n",
       "      <td>384.0</td>\n",
       "      <td>42.0</td>\n",
       "      <td>43.0</td>\n",
       "      <td>...</td>\n",
       "      <td>107.0</td>\n",
       "      <td>669.0</td>\n",
       "      <td>25.0</td>\n",
       "      <td>NaN</td>\n",
       "      <td>241.0</td>\n",
       "      <td>7405.0</td>\n",
       "      <td>1381.0</td>\n",
       "      <td>13933.0</td>\n",
       "      <td>3392.0</td>\n",
       "      <td>276.0</td>\n",
       "    </tr>\n",
       "    <tr>\n",
       "      <th>3</th>\n",
       "      <td>151.0</td>\n",
       "      <td>165.0</td>\n",
       "      <td>5300.0</td>\n",
       "      <td>534.0</td>\n",
       "      <td>NaN</td>\n",
       "      <td>NaN</td>\n",
       "      <td>NaN</td>\n",
       "      <td>308.0</td>\n",
       "      <td>80.0</td>\n",
       "      <td>74.0</td>\n",
       "      <td>...</td>\n",
       "      <td>107.0</td>\n",
       "      <td>659.0</td>\n",
       "      <td>NaN</td>\n",
       "      <td>NaN</td>\n",
       "      <td>198.0</td>\n",
       "      <td>6935.0</td>\n",
       "      <td>1335.0</td>\n",
       "      <td>14271.0</td>\n",
       "      <td>3537.0</td>\n",
       "      <td>347.0</td>\n",
       "    </tr>\n",
       "    <tr>\n",
       "      <th>4</th>\n",
       "      <td>187.0</td>\n",
       "      <td>109.0</td>\n",
       "      <td>6001.0</td>\n",
       "      <td>729.0</td>\n",
       "      <td>NaN</td>\n",
       "      <td>NaN</td>\n",
       "      <td>NaN</td>\n",
       "      <td>312.0</td>\n",
       "      <td>89.0</td>\n",
       "      <td>60.0</td>\n",
       "      <td>...</td>\n",
       "      <td>76.0</td>\n",
       "      <td>549.0</td>\n",
       "      <td>29.0</td>\n",
       "      <td>NaN</td>\n",
       "      <td>149.0</td>\n",
       "      <td>6381.0</td>\n",
       "      <td>1278.0</td>\n",
       "      <td>13619.0</td>\n",
       "      <td>3470.0</td>\n",
       "      <td>140.0</td>\n",
       "    </tr>\n",
       "  </tbody>\n",
       "</table>\n",
       "<p>5 rows × 92 columns</p>\n",
       "</div>"
      ],
      "text/plain": [
       "   age20숙박  age20레저용품  age20레저업소  age20문화취미  age20가구  age20전기  age20주방  \\\n",
       "0    432.0      203.0     7993.0     1551.0     21.0      NaN      NaN   \n",
       "1    105.0      131.0     5367.0      791.0      NaN      NaN      NaN   \n",
       "2     87.0      126.0     5656.0      526.0      NaN      NaN     18.0   \n",
       "3    151.0      165.0     5300.0      534.0      NaN      NaN      NaN   \n",
       "4    187.0      109.0     6001.0      729.0      NaN      NaN      NaN   \n",
       "\n",
       "   age20연료  age20광학  age20가전  ...  age50신변잡화  age50서적문구  age50사무통신  \\\n",
       "0    498.0     29.0     25.0  ...       72.0      760.0        NaN   \n",
       "1    470.0     63.0     70.0  ...      140.0      687.0       43.0   \n",
       "2    384.0     42.0     43.0  ...      107.0      669.0       25.0   \n",
       "3    308.0     80.0     74.0  ...      107.0      659.0        NaN   \n",
       "4    312.0     89.0     60.0  ...       76.0      549.0       29.0   \n",
       "\n",
       "   age50자동차판매  age50자동차정비  age50의료기관  age50보건위생  age50요식업소  age50음료식품  \\\n",
       "0         NaN        58.0      978.0     1877.0    14351.0     2763.0   \n",
       "1         NaN       264.0     8666.0     1307.0    13421.0     3256.0   \n",
       "2         NaN       241.0     7405.0     1381.0    13933.0     3392.0   \n",
       "3         NaN       198.0     6935.0     1335.0    14271.0     3537.0   \n",
       "4         NaN       149.0     6381.0     1278.0    13619.0     3470.0   \n",
       "\n",
       "   age50수리서비스  \n",
       "0        99.0  \n",
       "1       337.0  \n",
       "2       276.0  \n",
       "3       347.0  \n",
       "4       140.0  \n",
       "\n",
       "[5 rows x 92 columns]"
      ]
     },
     "execution_count": 4,
     "metadata": {},
     "output_type": "execute_result"
    }
   ],
   "source": [
    "df_card_nowon.head()"
   ]
  },
  {
   "cell_type": "code",
   "execution_count": 15,
   "metadata": {},
   "outputs": [],
   "source": [
    "# 인덱스를 datetime으로 넣어서 시계열 데이터로 변경\n",
    "dateIdx = pd.date_range('2018-04-01', '2019-03-31')\n",
    "\n",
    "df_asos_nowon = df_asos_nowon.set_index(dateIdx)\n",
    "df_skt_nowon = df_skt_nowon.set_index(dateIdx)\n",
    "df_gs_nowon = df_gs_nowon.set_index(dateIdx)\n",
    "df_card_nowon = df_card_nowon.set_index(dateIdx)\n",
    "\n",
    "df_asos_jongro = df_asos_jongro.set_index(dateIdx)\n",
    "df_skt_jongro = df_skt_jongro.set_index(dateIdx)\n",
    "df_gs_jongro = df_gs_jongro.set_index(dateIdx)\n",
    "df_card_jongro = df_card_jongro.set_index(dateIdx)"
   ]
  },
  {
   "cell_type": "code",
   "execution_count": 16,
   "metadata": {},
   "outputs": [],
   "source": [
    "df_total_nowon = df_card_nowon.merge(df_skt_nowon, on=df_card_nowon.index).set_index('key_0') # 신한 데이터에 date를 중심으로 SKT 데이터 merge\n",
    "df_total_nowon = df_total_nowon.merge(df_gs_nowon, on=df_total_nowon.index).set_index('key_0') # 신한+SKT 데이터에 date를 중심으로 GS 데이터 merge\n",
    "df_total_nowon = df_total_nowon.merge(df_asos_nowon, on=df_total_nowon.index).set_index('key_0') # 신한+SKT+GS 데이터에 date를 중심으로 미세먼지 데이터 merge\n",
    "\n",
    "df_total_nowon.index.name = 'DATE' # index 이름 변경\n",
    "\n",
    "df_total_jongro = df_card_jongro.merge(df_skt_jongro, on=df_card_jongro.index).set_index('key_0') # 신한 데이터에 date를 중심으로 SKT 데이터 merge\n",
    "df_total_jongro = df_total_jongro.merge(df_gs_jongro, on=df_total_jongro.index).set_index('key_0') # 신한+SKT 데이터에 date를 중심으로 GS 데이터 merge\n",
    "df_total_jongro = df_total_jongro.merge(df_asos_jongro, on=df_total_jongro.index).set_index('key_0') # 신한+SKT+GS 데이터에 date를 중심으로 미세먼지 데이터 merge\n",
    "\n",
    "df_total_jongro.index.name = 'DATE' # index 이름 변경"
   ]
  },
  {
   "cell_type": "code",
   "execution_count": 17,
   "metadata": {},
   "outputs": [
    {
     "data": {
      "text/plain": [
       "Index(['age20숙박', 'age20레저용품', 'age20레저업소', 'age20문화취미', 'age20가구', 'age20전기',\n",
       "       'age20주방', 'age20연료', 'age20광학', 'age20가전',\n",
       "       ...\n",
       "       'LCLS_50_P', 'LCLS_60_P', 'LCLS_70_P', 'LCLS_80_P', 'pm10', 'pm25',\n",
       "       'humi', 'temp', 'CONTENT', '강수량(mm)'],\n",
       "      dtype='object', length=110)"
      ]
     },
     "execution_count": 17,
     "metadata": {},
     "output_type": "execute_result"
    }
   ],
   "source": [
    "df_total_nowon.columns"
   ]
  },
  {
   "cell_type": "code",
   "execution_count": 18,
   "metadata": {},
   "outputs": [
    {
     "data": {
      "text/plain": [
       "Index(['age20숙박', 'age20레저용품', 'age20레저업소', 'age20문화취미', 'age20가구', 'age20전기',\n",
       "       'age20주방', 'age20연료', 'age20광학', 'age20가전',\n",
       "       ...\n",
       "       'LCLS_50_P', 'LCLS_60_P', 'LCLS_70_P', 'LCLS_80_P', 'pm10', 'pm25',\n",
       "       'humi', 'temp', 'CONTENT', '강수량(mm)'],\n",
       "      dtype='object', length=110)"
      ]
     },
     "execution_count": 18,
     "metadata": {},
     "output_type": "execute_result"
    }
   ],
   "source": [
    "df_total_jongro.columns"
   ]
  },
  {
   "cell_type": "code",
   "execution_count": 19,
   "metadata": {},
   "outputs": [],
   "source": [
    "AMT_list = ['accum', 'leisure goods','leisure busi', 'culture', 'furniture', 'electronic', 'kitchen', 'fuel', 'optic', 'Appliances', \n",
    "            'circul', 'cloth', 'textile', 'stuff','book', 'affair', 'car sell', 'car repair', 'medical', 'public health', 'food',\n",
    "            'grocery', 'repair survice']\n",
    "\n",
    "age_list = ['age20', 'age30', 'age40', 'age50']\n",
    "\n",
    "base_cols = ['LCLS_10_P', 'LCLS_20_P', 'LCLS_30_P', 'LCLS_40_P', 'LCLS_50_P', 'LCLS_60_P', 'LCLS_70_P', 'LCLS_80_P', \n",
    "             'pm10', 'pm25', 'humi', 'temp', 'CONTENT', 'rain']"
   ]
  },
  {
   "cell_type": "code",
   "execution_count": 20,
   "metadata": {},
   "outputs": [],
   "source": [
    "age20 = ['age20accum', 'age20leisure goods', 'age20leisure busi', 'age20culture', 'age20furniture', 'age20electronic', 'age20kitchen', \n",
    "         'age20fuel', 'age20optic', 'age20Appliances', 'age20circul', 'age20cloth', 'age20textile', 'age20stuff', 'age20book', \n",
    "         'age20affair', 'age20car sell', 'age20car repair', 'age20medical', 'age20public health', 'age20food', 'age20grocery', \n",
    "         'age20repair survice']\n",
    "\n",
    "age30 = ['age30accum', 'age30leisure goods', 'age30leisure busi', 'age30culture', 'age30furniture', 'age30electronic', 'age30kitchen', \n",
    "         'age30fuel', 'age30optic', 'age30Appliances', 'age30circul', 'age30cloth', 'age30textile', 'age30stuff', 'age30book', \n",
    "         'age30affair', 'age30car sell', 'age30car repair', 'age30medical', 'age30public health', 'age30food', 'age30grocery', \n",
    "         'age30repair survice']\n",
    "\n",
    "age40 = ['age40accum', 'age40leisure goods', 'age40leisure busi', 'age40culture', 'age40furniture', 'age40electronic', 'age40kitchen', \n",
    "         'age40fuel', 'age40optic', 'age40Appliances', 'age40circul', 'age40cloth', 'age40textile', 'age40stuff', 'age40book', \n",
    "         'age40affair', 'age40car sell', 'age40car repair', 'age40medical', 'age40public health', 'age40food', 'age40grocery', \n",
    "         'age40repair survice']\n",
    "\n",
    "age50 = ['age50accum', 'age50leisure goods', 'age50leisure busi', 'age50culture', 'age50furniture', 'age50electronic', 'age50kitchen', \n",
    "         'age50fuel', 'age50optic', 'age50Appliances', 'age50circul', 'age50cloth', 'age50textile', 'age50stuff', 'age50book', \n",
    "         'age50affair', 'age50car sell', 'age50car repair', 'age50medical', 'age50public health', 'age50food', 'age50grocery', \n",
    "         'age50repair survice']"
   ]
  },
  {
   "cell_type": "code",
   "execution_count": 21,
   "metadata": {},
   "outputs": [],
   "source": [
    "df_total_nowon.columns = age20 + age30 + age40 + age50 + age_list + base_cols\n",
    "df_total_jongro.columns = age20 + age30 + age40 + age50 + age_list + base_cols"
   ]
  },
  {
   "cell_type": "code",
   "execution_count": 22,
   "metadata": {},
   "outputs": [],
   "source": [
    "age20_cols = ['age20'+i for i in AMT_list]+['age20']+base_cols  # 23개업종 1개인구 8개카테고리, 6개기상데이터 총 38\n",
    "age30_cols = ['age30'+i for i in AMT_list]+['age30']+base_cols\n",
    "age40_cols = ['age40'+i for i in AMT_list]+['age40']+base_cols\n",
    "age50_cols = ['age50'+i for i in AMT_list]+['age50']+base_cols"
   ]
  },
  {
   "cell_type": "code",
   "execution_count": 23,
   "metadata": {},
   "outputs": [],
   "source": [
    "df_20_nowon = df_total_nowon[age20_cols]\n",
    "df_30_nowon = df_total_nowon[age30_cols]\n",
    "df_40_nowon = df_total_nowon[age40_cols]\n",
    "df_50_nowon = df_total_nowon[age50_cols]\n",
    "\n",
    "df_20_jongro = df_total_jongro[age20_cols]\n",
    "df_30_jongro = df_total_jongro[age30_cols]\n",
    "df_40_jongro = df_total_jongro[age40_cols]\n",
    "df_50_jongro = df_total_jongro[age50_cols]"
   ]
  },
  {
   "cell_type": "code",
   "execution_count": 24,
   "metadata": {},
   "outputs": [
    {
     "name": "stdout",
     "output_type": "stream",
     "text": [
      "========================노원구========================\n",
      "20대 :  Index(['age20furniture', 'age20electronic', 'age20kitchen', 'age20optic',\n",
      "       'age20Appliances', 'age20textile', 'age20affair', 'age20car sell',\n",
      "       'age20car repair'],\n",
      "      dtype='object')\n",
      "30대 :  Index(['age30accum', 'age30furniture', 'age30electronic', 'age30kitchen',\n",
      "       'age30optic', 'age30Appliances', 'age30cloth', 'age30textile',\n",
      "       'age30affair', 'age30car sell', 'age30repair survice'],\n",
      "      dtype='object')\n",
      "40대 :  Index(['age40furniture', 'age40electronic', 'age40kitchen', 'age40optic',\n",
      "       'age40Appliances', 'age40textile', 'age40affair', 'age40car sell',\n",
      "       'age40repair survice'],\n",
      "      dtype='object')\n",
      "50대 :  Index(['age50accum', 'age50leisure goods', 'age50furniture', 'age50electronic',\n",
      "       'age50kitchen', 'age50optic', 'age50Appliances', 'age50textile',\n",
      "       'age50affair', 'age50car sell', 'age50car repair',\n",
      "       'age50repair survice'],\n",
      "      dtype='object')\n",
      "\n",
      "========================종로구========================\n",
      "20대 :  Index(['age20furniture', 'age20electronic', 'age20kitchen', 'age20fuel',\n",
      "       'age20optic', 'age20Appliances', 'age20textile', 'age20affair',\n",
      "       'age20car sell', 'age20repair survice'],\n",
      "      dtype='object')\n",
      "30대 :  Index(['age30furniture', 'age30electronic', 'age30kitchen', 'age30optic',\n",
      "       'age30Appliances', 'age30textile', 'age30affair', 'age30car sell',\n",
      "       'age30repair survice'],\n",
      "      dtype='object')\n",
      "40대 :  Index(['age40furniture', 'age40electronic', 'age40kitchen', 'age40optic',\n",
      "       'age40Appliances', 'age40textile', 'age40affair', 'age40car sell',\n",
      "       'age40repair survice'],\n",
      "      dtype='object')\n",
      "50대 :  Index(['age50furniture', 'age50electronic', 'age50kitchen', 'age50optic',\n",
      "       'age50Appliances', 'age50textile', 'age50affair', 'age50car sell',\n",
      "       'age50repair survice'],\n",
      "      dtype='object')\n"
     ]
    }
   ],
   "source": [
    "# 각각의 나이대 별 매출에서 NULL값이 있는지 확인\n",
    "\n",
    "print(\"========================노원구========================\")\n",
    "print(\"20대 : \", df_20_nowon.columns[np.where(df_20_nowon.isnull().sum()[:'LCLS_80_P'] != 0)[0]])\n",
    "print(\"30대 : \", df_30_nowon.columns[np.where(df_30_nowon.isnull().sum()[:'LCLS_80_P'] != 0)[0]])\n",
    "print(\"40대 : \", df_40_nowon.columns[np.where(df_40_nowon.isnull().sum()[:'LCLS_80_P'] != 0)[0]])\n",
    "print(\"50대 : \", df_50_nowon.columns[np.where(df_50_nowon.isnull().sum()[:'LCLS_80_P'] != 0)[0]])\n",
    "\n",
    "print(\"\\n========================종로구========================\")\n",
    "print(\"20대 : \", df_20_jongro.columns[np.where(df_20_jongro.isnull().sum()[:'LCLS_80_P'] != 0)[0]])\n",
    "print(\"30대 : \", df_30_jongro.columns[np.where(df_30_jongro.isnull().sum()[:'LCLS_80_P'] != 0)[0]])\n",
    "print(\"40대 : \", df_40_jongro.columns[np.where(df_40_jongro.isnull().sum()[:'LCLS_80_P'] != 0)[0]])\n",
    "print(\"50대 : \", df_50_jongro.columns[np.where(df_50_jongro.isnull().sum()[:'LCLS_80_P'] != 0)[0]])\n",
    "\n",
    "### 각각의 나이대에서 전부 NULL 값이 다른 것을 알 수 있음"
   ]
  },
  {
   "cell_type": "markdown",
   "metadata": {},
   "source": [
    "# 놓친 결측치 처리\n",
    "* 신한 해당 날짜에 업종코드가 없는 경우 결측으로 잡히기때문에 매출이 없는 것을 의미하는 0으로."
   ]
  },
  {
   "cell_type": "code",
   "execution_count": 25,
   "metadata": {},
   "outputs": [],
   "source": [
    "# 각 나이대 별 null columns이 얼마나 있는 지 확인\n",
    "age20_nowon_null = df_20_nowon.isnull().sum()[['age20furniture', 'age20electronic', 'age20kitchen', 'age20optic',\n",
    "                                      'age20Appliances', 'age20textile', 'age20affair', 'age20car sell','age20car repair']]\n",
    "\n",
    "age30_nowon_null = df_30_nowon.isnull().sum()[['age30accum', 'age30furniture', 'age30electronic', 'age30kitchen', 'age30optic', 'age30Appliances', \n",
    "                                      'age30cloth', 'age30textile', 'age30affair', 'age30car sell', 'age30repair survice']]\n",
    "\n",
    "age40_nowon_null = df_40_nowon.isnull().sum()[['age40furniture', 'age40electronic', 'age40kitchen', 'age40optic', 'age40Appliances', 'age40textile', \n",
    "                                      'age40affair', 'age40car sell', 'age40repair survice']]\n",
    "\n",
    "age50_nowon_null = df_50_nowon.isnull().sum()[['age50accum', 'age50leisure goods', 'age50furniture', 'age50electronic', 'age50kitchen', 'age50optic', \n",
    "                                      'age50Appliances', 'age50textile', 'age50affair', 'age50car sell', 'age50car repair','age50repair survice']]\n",
    "\n",
    "\n",
    "age20_jongro_null = df_20_jongro.isnull().sum()[['age20furniture', 'age20electronic', 'age20kitchen', 'age20fuel',\n",
    "       'age20optic', 'age20Appliances', 'age20textile', 'age20affair',\n",
    "       'age20car sell', 'age20repair survice']]\n",
    "\n",
    "age30_jongro_null = df_30_jongro.isnull().sum()[['age30furniture', 'age30electronic', 'age30kitchen', 'age30optic',\n",
    "       'age30Appliances', 'age30textile', 'age30affair', 'age30car sell',\n",
    "       'age30repair survice']]\n",
    "\n",
    "age40_jongro_null = df_40_jongro.isnull().sum()[['age40furniture', 'age40electronic', 'age40kitchen', 'age40optic',\n",
    "       'age40Appliances', 'age40textile', 'age40affair', 'age40car sell',\n",
    "       'age40repair survice']]\n",
    "\n",
    "age50_jongro_null = df_50_jongro.isnull().sum()[['age50furniture', 'age50electronic', 'age50kitchen', 'age50optic',\n",
    "       'age50Appliances', 'age50textile', 'age50affair', 'age50car sell',\n",
    "       'age50repair survice']]"
   ]
  },
  {
   "cell_type": "code",
   "execution_count": 26,
   "metadata": {},
   "outputs": [
    {
     "data": {
      "image/png": "[encoded data removed]",
      "text/plain": [
       "<Figure size 720x360 with 4 Axes>"
      ]
     },
     "metadata": {
      "needs_background": "light"
     },
     "output_type": "display_data"
    }
   ],
   "source": [
    "fig, axes = plt.subplots(2, 2)\n",
    "age20_nowon_null.sort_values(ascending = False).plot(kind = 'bar', ax = axes[0, 0], title = 'NULL in 20age', figsize = (10, 5), color = 'grey')\n",
    "age30_nowon_null.sort_values(ascending = False).plot(kind = 'bar', ax = axes[0, 1], title = 'NULL in 30age', figsize = (10, 5), color = 'grey')\n",
    "age40_nowon_null.sort_values(ascending = False).plot(kind = 'bar', ax = axes[1, 0], title = 'NULL in 40age', figsize = (10, 5), color = 'grey')\n",
    "age50_nowon_null.sort_values(ascending = False).plot(kind = 'bar', ax = axes[1, 1], title = 'NULL in 50age', figsize = (10, 5), color = 'grey')\n",
    "\n",
    "plt.subplots_adjust(hspace = 1.5)"
   ]
  },
  {
   "cell_type": "code",
   "execution_count": 27,
   "metadata": {},
   "outputs": [
    {
     "data": {
      "image/png": "[encoded data removed]",
      "text/plain": [
       "<Figure size 720x360 with 4 Axes>"
      ]
     },
     "metadata": {
      "needs_background": "light"
     },
     "output_type": "display_data"
    }
   ],
   "source": [
    "fig, axes = plt.subplots(2, 2)\n",
    "age20_jongro_null.sort_values(ascending = False).plot(kind = 'bar', ax = axes[0, 0], title = 'NULL in 20age', figsize = (10, 5), color = 'grey')\n",
    "age30_jongro_null.sort_values(ascending = False).plot(kind = 'bar', ax = axes[0, 1], title = 'NULL in 30age', figsize = (10, 5), color = 'grey')\n",
    "age40_jongro_null.sort_values(ascending = False).plot(kind = 'bar', ax = axes[1, 0], title = 'NULL in 40age', figsize = (10, 5), color = 'grey')\n",
    "age50_jongro_null.sort_values(ascending = False).plot(kind = 'bar', ax = axes[1, 1], title = 'NULL in 50age', figsize = (10, 5), color = 'grey')\n",
    "\n",
    "plt.subplots_adjust(hspace = 1.5)"
   ]
  },
  {
   "cell_type": "code",
   "execution_count": 29,
   "metadata": {},
   "outputs": [
    {
     "name": "stderr",
     "output_type": "stream",
     "text": [
      "C:\\Users\\JuhoSon\\Miniconda3\\envs\\2019BigC\\lib\\site-packages\\pandas\\core\\frame.py:4034: SettingWithCopyWarning: \n",
      "A value is trying to be set on a copy of a slice from a DataFrame\n",
      "\n",
      "See the caveats in the documentation: http://pandas.pydata.org/pandas-docs/stable/indexing.html#indexing-view-versus-copy\n",
      "  downcast=downcast, **kwargs)\n"
     ]
    }
   ],
   "source": [
    "df_20_nowon.fillna(0, inplace = True)\n",
    "df_30_nowon.fillna(0, inplace = True)\n",
    "df_40_nowon.fillna(0, inplace = True)\n",
    "df_50_nowon.fillna(0, inplace = True)\n",
    "\n",
    "df_20_jongro.fillna(0, inplace = True)\n",
    "df_30_jongro.fillna(0, inplace = True)\n",
    "df_40_jongro.fillna(0, inplace = True)\n",
    "df_50_jongro.fillna(0, inplace = True)"
   ]
  },
  {
   "cell_type": "code",
   "execution_count": 30,
   "metadata": {},
   "outputs": [
    {
     "name": "stdout",
     "output_type": "stream",
     "text": [
      "========================노원구========================\n",
      "20대 :  Index([], dtype='object')\n",
      "30대 :  Index([], dtype='object')\n",
      "40대 :  Index([], dtype='object')\n",
      "50대 :  Index([], dtype='object')\n",
      "\n",
      "========================종로구========================\n",
      "20대 :  Index([], dtype='object')\n",
      "30대 :  Index([], dtype='object')\n",
      "40대 :  Index([], dtype='object')\n",
      "50대 :  Index([], dtype='object')\n"
     ]
    }
   ],
   "source": [
    "print(\"========================노원구========================\")\n",
    "print(\"20대 : \", df_20_nowon.columns[np.where(df_20_nowon.isnull().sum()[:'LCLS_80_P'] != 0)[0]])\n",
    "print(\"30대 : \", df_30_nowon.columns[np.where(df_30_nowon.isnull().sum()[:'LCLS_80_P'] != 0)[0]])\n",
    "print(\"40대 : \", df_40_nowon.columns[np.where(df_40_nowon.isnull().sum()[:'LCLS_80_P'] != 0)[0]])\n",
    "print(\"50대 : \", df_50_nowon.columns[np.where(df_50_nowon.isnull().sum()[:'LCLS_80_P'] != 0)[0]])\n",
    "\n",
    "print(\"\\n========================종로구========================\")\n",
    "print(\"20대 : \", df_20_jongro.columns[np.where(df_20_jongro.isnull().sum()[:'LCLS_80_P'] != 0)[0]])\n",
    "print(\"30대 : \", df_30_jongro.columns[np.where(df_30_jongro.isnull().sum()[:'LCLS_80_P'] != 0)[0]])\n",
    "print(\"40대 : \", df_40_jongro.columns[np.where(df_40_jongro.isnull().sum()[:'LCLS_80_P'] != 0)[0]])\n",
    "print(\"50대 : \", df_50_jongro.columns[np.where(df_50_jongro.isnull().sum()[:'LCLS_80_P'] != 0)[0]])"
   ]
  },
  {
   "cell_type": "code",
   "execution_count": 31,
   "metadata": {},
   "outputs": [],
   "source": [
    "df_20_nowon.to_csv('../data/innovation/Merge_data/df_age20_nowon.csv', index=False)\n",
    "df_30_nowon.to_csv('../data/innovation/Merge_data/df_age30_nowon.csv', index=False)\n",
    "df_40_nowon.to_csv('../data/innovation/Merge_data/df_age40_nowon.csv', index=False)\n",
    "df_50_nowon.to_csv('../data/innovation/Merge_data/df_age50_nowon.csv', index=False)\n",
    "\n",
    "df_20_jongro.to_csv('../data/innovation/Merge_data/df_age20_jongro.csv', index=False)\n",
    "df_30_jongro.to_csv('../data/innovation/Merge_data/df_age30_jongro.csv', index=False)\n",
    "df_40_jongro.to_csv('../data/innovation/Merge_data/df_age40_jongro.csv', index=False)\n",
    "df_50_jongro.to_csv('../data/innovation/Merge_data/df_age50_jongro.csv', index=False)"
   ]
  },
  {
   "cell_type": "code",
   "execution_count": null,
   "metadata": {},
   "outputs": [],
   "source": []
  }
 ],
 "metadata": {
  "kernelspec": {
   "display_name": "2019BigC",
   "language": "python",
   "name": "2019bigc"
  },
  "language_info": {
   "codemirror_mode": {
    "name": "ipython",
    "version": 3
   },
   "file_extension": ".py",
   "mimetype": "text/x-python",
   "name": "python",
   "nbconvert_exporter": "python",
   "pygments_lexer": "ipython3",
   "version": "3.7.3"
  }
 },
 "nbformat": 4,
 "nbformat_minor": 4
}

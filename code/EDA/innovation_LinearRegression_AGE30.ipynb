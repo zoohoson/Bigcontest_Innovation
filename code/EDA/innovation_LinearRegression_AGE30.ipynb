{
 "cells": [
  {
   "cell_type": "code",
   "execution_count": 2,
   "metadata": {},
   "outputs": [],
   "source": [
    "import warnings\n",
    "warnings.filterwarnings(\"ignore\")"
   ]
  },
  {
   "cell_type": "code",
   "execution_count": 3,
   "metadata": {},
   "outputs": [],
   "source": [
    "import pandas as pd\n",
    "import numpy as np\n",
    "pd.options.display.max_columns=50\n",
    "\n",
    "import sklearn\n",
    "from sklearn.linear_model import Lasso, Ridge\n",
    "from sklearn.model_selection import train_test_split\n",
    "\n",
    "import matplotlib.pyplot as plt\n",
    "%matplotlib inline"
   ]
  },
  {
   "cell_type": "code",
   "execution_count": 4,
   "metadata": {},
   "outputs": [],
   "source": [
    "# 필요한 패키지와 라이브러리를 가져옴\n",
    "import matplotlib as mpl\n",
    "import matplotlib.pyplot as plt\n",
    "import matplotlib.font_manager as fm\n",
    "path = 'C:\\\\Users\\\\JuhoSon\\\\AppData\\\\Local\\\\Microsoft\\\\Windows\\\\Fonts\\\\NanumGothicCoding-Bold.ttf'\n",
    "font_name = fm.FontProperties(fname=path, size=50).get_name()\n",
    "plt.rc('font', family=font_name)"
   ]
  },
  {
   "cell_type": "markdown",
   "metadata": {},
   "source": [
    "# Data Load"
   ]
  },
  {
   "cell_type": "code",
   "execution_count": 5,
   "metadata": {},
   "outputs": [],
   "source": [
    "df_20 = pd.read_csv('./data/innovation/create/df_age30.csv')"
   ]
  },
  {
   "cell_type": "code",
   "execution_count": 6,
   "metadata": {},
   "outputs": [
    {
     "data": {
      "text/plain": [
       "(365, 38)"
      ]
     },
     "execution_count": 6,
     "metadata": {},
     "output_type": "execute_result"
    }
   ],
   "source": [
    "df_20.shape"
   ]
  },
  {
   "cell_type": "code",
   "execution_count": 7,
   "metadata": {},
   "outputs": [
    {
     "data": {
      "text/html": [
       "<div>\n",
       "<style scoped>\n",
       "    .dataframe tbody tr th:only-of-type {\n",
       "        vertical-align: middle;\n",
       "    }\n",
       "\n",
       "    .dataframe tbody tr th {\n",
       "        vertical-align: top;\n",
       "    }\n",
       "\n",
       "    .dataframe thead th {\n",
       "        text-align: right;\n",
       "    }\n",
       "</style>\n",
       "<table border=\"1\" class=\"dataframe\">\n",
       "  <thead>\n",
       "    <tr style=\"text-align: right;\">\n",
       "      <th></th>\n",
       "      <th>age30숙박</th>\n",
       "      <th>age30레저용품</th>\n",
       "      <th>age30레저업소</th>\n",
       "      <th>age30문화취미</th>\n",
       "      <th>age30가구</th>\n",
       "      <th>age30전기</th>\n",
       "      <th>age30주방</th>\n",
       "      <th>age30연료</th>\n",
       "      <th>age30광학</th>\n",
       "      <th>age30가전</th>\n",
       "      <th>age30유통업</th>\n",
       "      <th>age30의복</th>\n",
       "      <th>age30직물</th>\n",
       "      <th>age30신변잡화</th>\n",
       "      <th>age30서적문구</th>\n",
       "      <th>age30사무통신</th>\n",
       "      <th>age30자동차판매</th>\n",
       "      <th>age30자동차정비</th>\n",
       "      <th>age30의료기관</th>\n",
       "      <th>age30보건위생</th>\n",
       "      <th>age30요식업소</th>\n",
       "      <th>age30음료식품</th>\n",
       "      <th>age30수리서비스</th>\n",
       "      <th>age30</th>\n",
       "      <th>LCLS_10_P</th>\n",
       "      <th>LCLS_20_P</th>\n",
       "      <th>LCLS_30_P</th>\n",
       "      <th>LCLS_40_P</th>\n",
       "      <th>LCLS_50_P</th>\n",
       "      <th>LCLS_60_P</th>\n",
       "      <th>LCLS_70_P</th>\n",
       "      <th>LCLS_80_P</th>\n",
       "      <th>pm10</th>\n",
       "      <th>pm25</th>\n",
       "      <th>CONTENT</th>\n",
       "      <th>temp</th>\n",
       "      <th>humi</th>\n",
       "      <th>강수량(mm)</th>\n",
       "    </tr>\n",
       "  </thead>\n",
       "  <tbody>\n",
       "    <tr>\n",
       "      <th>0</th>\n",
       "      <td>170.0</td>\n",
       "      <td>588.0</td>\n",
       "      <td>1435.0</td>\n",
       "      <td>481.0</td>\n",
       "      <td>8.0</td>\n",
       "      <td>NaN</td>\n",
       "      <td>NaN</td>\n",
       "      <td>1346.0</td>\n",
       "      <td>45.0</td>\n",
       "      <td>21.0</td>\n",
       "      <td>31921.0</td>\n",
       "      <td>350.0</td>\n",
       "      <td>12.0</td>\n",
       "      <td>91.0</td>\n",
       "      <td>875.0</td>\n",
       "      <td>NaN</td>\n",
       "      <td>NaN</td>\n",
       "      <td>161.0</td>\n",
       "      <td>1738.0</td>\n",
       "      <td>1946.0</td>\n",
       "      <td>17722.0</td>\n",
       "      <td>2929.0</td>\n",
       "      <td>76.0</td>\n",
       "      <td>265602.51</td>\n",
       "      <td>5.775959e+06</td>\n",
       "      <td>4.653959e+06</td>\n",
       "      <td>7.123695e+06</td>\n",
       "      <td>460575.529718</td>\n",
       "      <td>8.889679e+05</td>\n",
       "      <td>102938.908335</td>\n",
       "      <td>158304.695151</td>\n",
       "      <td>125768.139866</td>\n",
       "      <td>68.127083</td>\n",
       "      <td>35.221528</td>\n",
       "      <td>515</td>\n",
       "      <td>16.580764</td>\n",
       "      <td>56.770833</td>\n",
       "      <td>0.0</td>\n",
       "    </tr>\n",
       "    <tr>\n",
       "      <th>1</th>\n",
       "      <td>33.0</td>\n",
       "      <td>144.0</td>\n",
       "      <td>905.0</td>\n",
       "      <td>319.0</td>\n",
       "      <td>8.0</td>\n",
       "      <td>NaN</td>\n",
       "      <td>16.0</td>\n",
       "      <td>1198.0</td>\n",
       "      <td>70.0</td>\n",
       "      <td>95.0</td>\n",
       "      <td>27563.0</td>\n",
       "      <td>259.0</td>\n",
       "      <td>NaN</td>\n",
       "      <td>100.0</td>\n",
       "      <td>621.0</td>\n",
       "      <td>28.0</td>\n",
       "      <td>NaN</td>\n",
       "      <td>163.0</td>\n",
       "      <td>8115.0</td>\n",
       "      <td>1214.0</td>\n",
       "      <td>15401.0</td>\n",
       "      <td>3701.0</td>\n",
       "      <td>369.0</td>\n",
       "      <td>286616.48</td>\n",
       "      <td>5.798567e+06</td>\n",
       "      <td>4.068040e+06</td>\n",
       "      <td>6.922594e+06</td>\n",
       "      <td>517274.801816</td>\n",
       "      <td>7.320147e+05</td>\n",
       "      <td>85751.772442</td>\n",
       "      <td>189721.667844</td>\n",
       "      <td>159773.285544</td>\n",
       "      <td>71.924306</td>\n",
       "      <td>29.909028</td>\n",
       "      <td>888</td>\n",
       "      <td>19.631111</td>\n",
       "      <td>57.827083</td>\n",
       "      <td>0.0</td>\n",
       "    </tr>\n",
       "    <tr>\n",
       "      <th>2</th>\n",
       "      <td>74.0</td>\n",
       "      <td>86.0</td>\n",
       "      <td>875.0</td>\n",
       "      <td>270.0</td>\n",
       "      <td>NaN</td>\n",
       "      <td>NaN</td>\n",
       "      <td>12.0</td>\n",
       "      <td>953.0</td>\n",
       "      <td>40.0</td>\n",
       "      <td>86.0</td>\n",
       "      <td>27872.0</td>\n",
       "      <td>248.0</td>\n",
       "      <td>NaN</td>\n",
       "      <td>94.0</td>\n",
       "      <td>602.0</td>\n",
       "      <td>NaN</td>\n",
       "      <td>21.0</td>\n",
       "      <td>149.0</td>\n",
       "      <td>6476.0</td>\n",
       "      <td>1175.0</td>\n",
       "      <td>15424.0</td>\n",
       "      <td>3737.0</td>\n",
       "      <td>267.0</td>\n",
       "      <td>296960.76</td>\n",
       "      <td>5.882238e+06</td>\n",
       "      <td>4.045719e+06</td>\n",
       "      <td>6.679634e+06</td>\n",
       "      <td>396954.848039</td>\n",
       "      <td>6.941187e+05</td>\n",
       "      <td>109181.181977</td>\n",
       "      <td>146743.364491</td>\n",
       "      <td>83460.961960</td>\n",
       "      <td>72.979861</td>\n",
       "      <td>24.331944</td>\n",
       "      <td>856</td>\n",
       "      <td>19.192500</td>\n",
       "      <td>61.674306</td>\n",
       "      <td>0.1</td>\n",
       "    </tr>\n",
       "    <tr>\n",
       "      <th>3</th>\n",
       "      <td>62.0</td>\n",
       "      <td>85.0</td>\n",
       "      <td>877.0</td>\n",
       "      <td>155.0</td>\n",
       "      <td>NaN</td>\n",
       "      <td>NaN</td>\n",
       "      <td>NaN</td>\n",
       "      <td>1051.0</td>\n",
       "      <td>53.0</td>\n",
       "      <td>74.0</td>\n",
       "      <td>30752.0</td>\n",
       "      <td>249.0</td>\n",
       "      <td>NaN</td>\n",
       "      <td>103.0</td>\n",
       "      <td>668.0</td>\n",
       "      <td>NaN</td>\n",
       "      <td>NaN</td>\n",
       "      <td>119.0</td>\n",
       "      <td>5931.0</td>\n",
       "      <td>1241.0</td>\n",
       "      <td>16000.0</td>\n",
       "      <td>3715.0</td>\n",
       "      <td>480.0</td>\n",
       "      <td>298269.85</td>\n",
       "      <td>6.163598e+06</td>\n",
       "      <td>4.284199e+06</td>\n",
       "      <td>6.238373e+06</td>\n",
       "      <td>400734.630537</td>\n",
       "      <td>9.144325e+05</td>\n",
       "      <td>106260.195832</td>\n",
       "      <td>133827.487702</td>\n",
       "      <td>85526.543799</td>\n",
       "      <td>18.221528</td>\n",
       "      <td>10.952778</td>\n",
       "      <td>893</td>\n",
       "      <td>14.075417</td>\n",
       "      <td>60.129861</td>\n",
       "      <td>18.5</td>\n",
       "    </tr>\n",
       "    <tr>\n",
       "      <th>4</th>\n",
       "      <td>38.0</td>\n",
       "      <td>129.0</td>\n",
       "      <td>915.0</td>\n",
       "      <td>294.0</td>\n",
       "      <td>NaN</td>\n",
       "      <td>NaN</td>\n",
       "      <td>8.0</td>\n",
       "      <td>1019.0</td>\n",
       "      <td>58.0</td>\n",
       "      <td>56.0</td>\n",
       "      <td>25341.0</td>\n",
       "      <td>175.0</td>\n",
       "      <td>12.0</td>\n",
       "      <td>47.0</td>\n",
       "      <td>479.0</td>\n",
       "      <td>16.0</td>\n",
       "      <td>NaN</td>\n",
       "      <td>149.0</td>\n",
       "      <td>5600.0</td>\n",
       "      <td>1002.0</td>\n",
       "      <td>14145.0</td>\n",
       "      <td>3398.0</td>\n",
       "      <td>134.0</td>\n",
       "      <td>289595.03</td>\n",
       "      <td>6.131853e+06</td>\n",
       "      <td>3.723724e+06</td>\n",
       "      <td>5.135552e+06</td>\n",
       "      <td>430144.414585</td>\n",
       "      <td>1.099378e+06</td>\n",
       "      <td>120809.906702</td>\n",
       "      <td>149481.681510</td>\n",
       "      <td>89173.629481</td>\n",
       "      <td>8.854861</td>\n",
       "      <td>3.891667</td>\n",
       "      <td>864</td>\n",
       "      <td>8.620000</td>\n",
       "      <td>77.163194</td>\n",
       "      <td>10.5</td>\n",
       "    </tr>\n",
       "  </tbody>\n",
       "</table>\n",
       "</div>"
      ],
      "text/plain": [
       "   age30숙박  age30레저용품  age30레저업소  age30문화취미  age30가구  age30전기  age30주방  \\\n",
       "0    170.0      588.0     1435.0      481.0      8.0      NaN      NaN   \n",
       "1     33.0      144.0      905.0      319.0      8.0      NaN     16.0   \n",
       "2     74.0       86.0      875.0      270.0      NaN      NaN     12.0   \n",
       "3     62.0       85.0      877.0      155.0      NaN      NaN      NaN   \n",
       "4     38.0      129.0      915.0      294.0      NaN      NaN      8.0   \n",
       "\n",
       "   age30연료  age30광학  age30가전  age30유통업  age30의복  age30직물  age30신변잡화  \\\n",
       "0   1346.0     45.0     21.0   31921.0    350.0     12.0       91.0   \n",
       "1   1198.0     70.0     95.0   27563.0    259.0      NaN      100.0   \n",
       "2    953.0     40.0     86.0   27872.0    248.0      NaN       94.0   \n",
       "3   1051.0     53.0     74.0   30752.0    249.0      NaN      103.0   \n",
       "4   1019.0     58.0     56.0   25341.0    175.0     12.0       47.0   \n",
       "\n",
       "   age30서적문구  age30사무통신  age30자동차판매  age30자동차정비  age30의료기관  age30보건위생  \\\n",
       "0      875.0        NaN         NaN       161.0     1738.0     1946.0   \n",
       "1      621.0       28.0         NaN       163.0     8115.0     1214.0   \n",
       "2      602.0        NaN        21.0       149.0     6476.0     1175.0   \n",
       "3      668.0        NaN         NaN       119.0     5931.0     1241.0   \n",
       "4      479.0       16.0         NaN       149.0     5600.0     1002.0   \n",
       "\n",
       "   age30요식업소  age30음료식품  age30수리서비스      age30     LCLS_10_P     LCLS_20_P  \\\n",
       "0    17722.0     2929.0        76.0  265602.51  5.775959e+06  4.653959e+06   \n",
       "1    15401.0     3701.0       369.0  286616.48  5.798567e+06  4.068040e+06   \n",
       "2    15424.0     3737.0       267.0  296960.76  5.882238e+06  4.045719e+06   \n",
       "3    16000.0     3715.0       480.0  298269.85  6.163598e+06  4.284199e+06   \n",
       "4    14145.0     3398.0       134.0  289595.03  6.131853e+06  3.723724e+06   \n",
       "\n",
       "      LCLS_30_P      LCLS_40_P     LCLS_50_P      LCLS_60_P      LCLS_70_P  \\\n",
       "0  7.123695e+06  460575.529718  8.889679e+05  102938.908335  158304.695151   \n",
       "1  6.922594e+06  517274.801816  7.320147e+05   85751.772442  189721.667844   \n",
       "2  6.679634e+06  396954.848039  6.941187e+05  109181.181977  146743.364491   \n",
       "3  6.238373e+06  400734.630537  9.144325e+05  106260.195832  133827.487702   \n",
       "4  5.135552e+06  430144.414585  1.099378e+06  120809.906702  149481.681510   \n",
       "\n",
       "       LCLS_80_P       pm10       pm25  CONTENT       temp       humi  강수량(mm)  \n",
       "0  125768.139866  68.127083  35.221528      515  16.580764  56.770833      0.0  \n",
       "1  159773.285544  71.924306  29.909028      888  19.631111  57.827083      0.0  \n",
       "2   83460.961960  72.979861  24.331944      856  19.192500  61.674306      0.1  \n",
       "3   85526.543799  18.221528  10.952778      893  14.075417  60.129861     18.5  \n",
       "4   89173.629481   8.854861   3.891667      864   8.620000  77.163194     10.5  "
      ]
     },
     "execution_count": 7,
     "metadata": {},
     "output_type": "execute_result"
    }
   ],
   "source": [
    "df_20.head()"
   ]
  },
  {
   "cell_type": "code",
   "execution_count": 8,
   "metadata": {},
   "outputs": [
    {
     "data": {
      "text/plain": [
       "Text(0.5, 0, '업종')"
      ]
     },
     "execution_count": 8,
     "metadata": {},
     "output_type": "execute_result"
    },
    {
     "data": {
      "image/png": "[encoded data removed]",
      "text/plain": [
       "<Figure size 1296x432 with 1 Axes>"
      ]
     },
     "metadata": {
      "needs_background": "light"
     },
     "output_type": "display_data"
    }
   ],
   "source": [
    "df_null = pd.DataFrame(df_20.isnull().sum()).rename(columns={0:'null'})\n",
    "\n",
    "df_null.reset_index(inplace=True)\n",
    "\n",
    "drop_idx = np.where(df_null.null==0)[0]\n",
    "df_null.drop(drop_idx, inplace=True)\n",
    "\n",
    "df_null = df_null.sort_values(by='null', ascending=False).set_index('index')\n",
    "\n",
    "plt.figure(figsize=(18,6))\n",
    "plt.bar(df_null.index, df_null.null, color='y')\n",
    "plt.xticks(df_null.index)\n",
    "plt.ylabel('결측치 개수')\n",
    "plt.xlabel('업종')"
   ]
  },
  {
   "cell_type": "code",
   "execution_count": 40,
   "metadata": {},
   "outputs": [
    {
     "data": {
      "text/plain": [
       "age30숙박         1\n",
       "age30레저용품       0\n",
       "age30레저업소       0\n",
       "age30문화취미       0\n",
       "age30가구       305\n",
       "age30전기       337\n",
       "age30주방       241\n",
       "age30연료         0\n",
       "age30광학        16\n",
       "age30가전         3\n",
       "age30유통업        0\n",
       "age30의복         1\n",
       "age30직물       260\n",
       "age30신변잡화       0\n",
       "age30서적문구       0\n",
       "age30사무통신     181\n",
       "age30자동차판매    344\n",
       "age30자동차정비      0\n",
       "age30의료기관       0\n",
       "age30보건위생       0\n",
       "age30요식업소       0\n",
       "age30음료식품       0\n",
       "age30수리서비스      7\n",
       "age30           0\n",
       "LCLS_10_P       0\n",
       "LCLS_20_P       0\n",
       "LCLS_30_P       0\n",
       "LCLS_40_P       0\n",
       "LCLS_50_P       0\n",
       "LCLS_60_P       0\n",
       "LCLS_70_P       0\n",
       "LCLS_80_P       0\n",
       "pm10            0\n",
       "pm25            0\n",
       "CONTENT         0\n",
       "temp            0\n",
       "humi            0\n",
       "강수량(mm)         0\n",
       "dtype: int64"
      ]
     },
     "execution_count": 40,
     "metadata": {},
     "output_type": "execute_result"
    }
   ],
   "source": [
    "df_20.isnull().sum()"
   ]
  },
  {
   "cell_type": "code",
   "execution_count": 41,
   "metadata": {},
   "outputs": [
    {
     "name": "stdout",
     "output_type": "stream",
     "text": [
      "age30 null columns :  ['가구', '전기', '주방', '광학', '가전', '직물', '사무통신', '자동차판매', '의복']\n"
     ]
    }
   ],
   "source": [
    "print('age30 null columns : ', ['가구', '전기', '주방', '광학', '가전', '직물', '사무통신', '자동차판매', '의복'])"
   ]
  },
  {
   "cell_type": "code",
   "execution_count": 42,
   "metadata": {},
   "outputs": [],
   "source": [
    "df_20.drop(['age30가구', 'age30전기', 'age30주방', \n",
    "           'age30광학', 'age30가전', 'age30직물', \n",
    "           'age30사무통신', 'age30자동차판매', 'age30자동차정비',\n",
    "            \n",
    "           'age30수리서비스', 'age30의복'], axis=1, inplace=True)"
   ]
  },
  {
   "cell_type": "code",
   "execution_count": 43,
   "metadata": {},
   "outputs": [],
   "source": [
    "df_20  = df_20.rename(columns={'강수량(mm)':'prec'})"
   ]
  },
  {
   "cell_type": "code",
   "execution_count": 44,
   "metadata": {},
   "outputs": [],
   "source": [
    "df_20.columns = ['숙박', '레저용품', '레저업소', '문화취미', '연료', '유통업',\n",
    "       '신변잡화', '서적문구', '의료기관', '보건위생',\n",
    "       '요식업소', '음료식품', 'pop', 'LCLS_10_P',\n",
    "       'LCLS_20_P', 'LCLS_30_P', 'LCLS_40_P', 'LCLS_50_P', 'LCLS_60_P',\n",
    "       'LCLS_70_P', 'LCLS_80_P', 'pm10', 'pm25', 'CONTENT', 'temp', 'humi',\n",
    "       'prec']"
   ]
  },
  {
   "cell_type": "code",
   "execution_count": 45,
   "metadata": {},
   "outputs": [
    {
     "data": {
      "text/plain": [
       "<BarContainer object of 12 artists>"
      ]
     },
     "execution_count": 45,
     "metadata": {},
     "output_type": "execute_result"
    },
    {
     "data": {
      "image/png": "[encoded data removed]",
      "text/plain": [
       "<Figure size 1296x432 with 1 Axes>"
      ]
     },
     "metadata": {
      "needs_background": "light"
     },
     "output_type": "display_data"
    }
   ],
   "source": [
    "df_viz = df_20[['숙박', '레저용품', '레저업소', '문화취미', '연료', '유통업',\n",
    "       '신변잡화', '서적문구', '의료기관', '보건위생',\n",
    "       '요식업소', '음료식품']].apply(lambda df:df.sum()).sort_values()\n",
    "\n",
    "plt.figure(figsize=(18,6))\n",
    "plt.barh(df_viz.index,\n",
    "        df_viz)"
   ]
  },
  {
   "cell_type": "markdown",
   "metadata": {},
   "source": [
    "# Two_way Anova (F)"
   ]
  },
  {
   "cell_type": "code",
   "execution_count": 46,
   "metadata": {},
   "outputs": [],
   "source": [
    "import scipy.stats as stats\n",
    "import pandas as pd\n",
    "import urllib\n",
    "from statsmodels.formula.api import ols\n",
    "from statsmodels.stats.anova import anova_lm\n",
    "import matplotlib.pyplot as plt\n",
    "import numpy as np\n",
    "%matplotlib inline"
   ]
  },
  {
   "cell_type": "code",
   "execution_count": 12,
   "metadata": {},
   "outputs": [],
   "source": [
    "# good_idx = np.where(df_20.pm10<=50)[0]\n",
    "\n",
    "# bad_idx = np.where(df_20.pm10>50)[0]\n",
    "\n",
    "# df_20['pm10_category']=[0]*len(df_20)"
   ]
  },
  {
   "cell_type": "code",
   "execution_count": 13,
   "metadata": {},
   "outputs": [],
   "source": [
    "# for i in range(len(df_20)):\n",
    "#     if i in good_idx:\n",
    "#         df_20['pm10_category'].iloc[i] = 'good'\n",
    "# #     elif i in middle_idx:\n",
    "# #         df_20['pm10_category'].iloc[i] = 'middle'\n",
    "#     else:\n",
    "#         df_20['pm10_category'].iloc[i] = 'bad'"
   ]
  },
  {
   "cell_type": "code",
   "execution_count": 14,
   "metadata": {},
   "outputs": [],
   "source": [
    "# good_idx_25 = np.where(df_20.pm25<=25)[0]\n",
    "\n",
    "# bad_idx_25 = np.where(df_20.pm25>25)[0]\n",
    "\n",
    "# df_20['pm25_category']=[0]*len(df_20)"
   ]
  },
  {
   "cell_type": "code",
   "execution_count": 15,
   "metadata": {},
   "outputs": [],
   "source": [
    "# for i in range(len(df_20)):\n",
    "#     if i in good_idx:\n",
    "#         df_20['pm25_category'].iloc[i] = 'good'\n",
    "# #     elif i in middle_idx:\n",
    "# #         df_20['pm10_category'].iloc[i] = 'middle'\n",
    "#     else:\n",
    "#         df_20['pm25_category'].iloc[i] = 'bad'"
   ]
  },
  {
   "cell_type": "code",
   "execution_count": 16,
   "metadata": {},
   "outputs": [],
   "source": [
    "# good_idx_temp = np.where(df_20.temp<=35)[0]\n",
    "\n",
    "# bad_idx_temp = np.where(df_20.temp>35)[0]\n",
    "\n",
    "# df_20['temp_category']=[0]*len(df_20)"
   ]
  },
  {
   "cell_type": "code",
   "execution_count": 17,
   "metadata": {},
   "outputs": [],
   "source": [
    "# for i in range(len(df_20)):\n",
    "#     if i in good_idx:\n",
    "#         df_20['temp_category'].iloc[i] = 'bad'\n",
    "# #     elif i in middle_idx:\n",
    "# #         df_20['pm10_category'].iloc[i] = 'middle'\n",
    "#     else:\n",
    "#         df_20['temp_category'].iloc[i] = 'good'"
   ]
  },
  {
   "cell_type": "code",
   "execution_count": 16,
   "metadata": {},
   "outputs": [],
   "source": [
    "# df_anova = df_20[['age20숙박_USE_AMT', 'pm10', 'pm25', 'temp']]"
   ]
  },
  {
   "cell_type": "markdown",
   "metadata": {},
   "source": [
    "* anova function"
   ]
  },
  {
   "cell_type": "code",
   "execution_count": 101,
   "metadata": {},
   "outputs": [],
   "source": [
    "formula = '숙박 ~ pm10 + pm25 + temp + humi + prec + pm10:temp + pm10:prec + pm25:temp + pm25:prec'\n",
    "# :뒤로넣으면 서로 겹치는 변수를 고려해서 반영해주는것.\n",
    "lm = ols(formula, df_20).fit()"
   ]
  },
  {
   "cell_type": "code",
   "execution_count": 102,
   "metadata": {},
   "outputs": [
    {
     "data": {
      "text/html": [
       "<div>\n",
       "<style scoped>\n",
       "    .dataframe tbody tr th:only-of-type {\n",
       "        vertical-align: middle;\n",
       "    }\n",
       "\n",
       "    .dataframe tbody tr th {\n",
       "        vertical-align: top;\n",
       "    }\n",
       "\n",
       "    .dataframe thead th {\n",
       "        text-align: right;\n",
       "    }\n",
       "</style>\n",
       "<table border=\"1\" class=\"dataframe\">\n",
       "  <thead>\n",
       "    <tr style=\"text-align: right;\">\n",
       "      <th></th>\n",
       "      <th>df</th>\n",
       "      <th>sum_sq</th>\n",
       "      <th>mean_sq</th>\n",
       "      <th>F</th>\n",
       "      <th>PR(&gt;F)</th>\n",
       "    </tr>\n",
       "  </thead>\n",
       "  <tbody>\n",
       "    <tr>\n",
       "      <th>pm10</th>\n",
       "      <td>1.0</td>\n",
       "      <td>7.507348e+04</td>\n",
       "      <td>75073.479325</td>\n",
       "      <td>4.968606</td>\n",
       "      <td>0.026437</td>\n",
       "    </tr>\n",
       "    <tr>\n",
       "      <th>pm25</th>\n",
       "      <td>1.0</td>\n",
       "      <td>3.745534e+04</td>\n",
       "      <td>37455.337109</td>\n",
       "      <td>2.478915</td>\n",
       "      <td>0.116273</td>\n",
       "    </tr>\n",
       "    <tr>\n",
       "      <th>temp</th>\n",
       "      <td>1.0</td>\n",
       "      <td>1.757853e+04</td>\n",
       "      <td>17578.528367</td>\n",
       "      <td>1.163404</td>\n",
       "      <td>0.281493</td>\n",
       "    </tr>\n",
       "    <tr>\n",
       "      <th>humi</th>\n",
       "      <td>1.0</td>\n",
       "      <td>1.467224e+04</td>\n",
       "      <td>14672.243167</td>\n",
       "      <td>0.971056</td>\n",
       "      <td>0.325088</td>\n",
       "    </tr>\n",
       "    <tr>\n",
       "      <th>prec</th>\n",
       "      <td>1.0</td>\n",
       "      <td>6.108905e+02</td>\n",
       "      <td>610.890518</td>\n",
       "      <td>0.040431</td>\n",
       "      <td>0.840756</td>\n",
       "    </tr>\n",
       "    <tr>\n",
       "      <th>pm10:temp</th>\n",
       "      <td>1.0</td>\n",
       "      <td>1.911251e+04</td>\n",
       "      <td>19112.513535</td>\n",
       "      <td>1.264928</td>\n",
       "      <td>0.261480</td>\n",
       "    </tr>\n",
       "    <tr>\n",
       "      <th>pm10:prec</th>\n",
       "      <td>1.0</td>\n",
       "      <td>5.420094e+00</td>\n",
       "      <td>5.420094</td>\n",
       "      <td>0.000359</td>\n",
       "      <td>0.984900</td>\n",
       "    </tr>\n",
       "    <tr>\n",
       "      <th>pm25:temp</th>\n",
       "      <td>1.0</td>\n",
       "      <td>2.306983e+03</td>\n",
       "      <td>2306.982800</td>\n",
       "      <td>0.152684</td>\n",
       "      <td>0.696218</td>\n",
       "    </tr>\n",
       "    <tr>\n",
       "      <th>pm25:prec</th>\n",
       "      <td>1.0</td>\n",
       "      <td>2.999732e+03</td>\n",
       "      <td>2999.732331</td>\n",
       "      <td>0.198532</td>\n",
       "      <td>0.656180</td>\n",
       "    </tr>\n",
       "    <tr>\n",
       "      <th>Residual</th>\n",
       "      <td>355.0</td>\n",
       "      <td>5.363896e+06</td>\n",
       "      <td>15109.567143</td>\n",
       "      <td>NaN</td>\n",
       "      <td>NaN</td>\n",
       "    </tr>\n",
       "  </tbody>\n",
       "</table>\n",
       "</div>"
      ],
      "text/plain": [
       "              df        sum_sq       mean_sq         F    PR(>F)\n",
       "pm10         1.0  7.507348e+04  75073.479325  4.968606  0.026437\n",
       "pm25         1.0  3.745534e+04  37455.337109  2.478915  0.116273\n",
       "temp         1.0  1.757853e+04  17578.528367  1.163404  0.281493\n",
       "humi         1.0  1.467224e+04  14672.243167  0.971056  0.325088\n",
       "prec         1.0  6.108905e+02    610.890518  0.040431  0.840756\n",
       "pm10:temp    1.0  1.911251e+04  19112.513535  1.264928  0.261480\n",
       "pm10:prec    1.0  5.420094e+00      5.420094  0.000359  0.984900\n",
       "pm25:temp    1.0  2.306983e+03   2306.982800  0.152684  0.696218\n",
       "pm25:prec    1.0  2.999732e+03   2999.732331  0.198532  0.656180\n",
       "Residual   355.0  5.363896e+06  15109.567143       NaN       NaN"
      ]
     },
     "execution_count": 102,
     "metadata": {},
     "output_type": "execute_result"
    }
   ],
   "source": [
    "anova_lm(lm)"
   ]
  },
  {
   "cell_type": "code",
   "execution_count": 49,
   "metadata": {},
   "outputs": [],
   "source": [
    "def anova(col_name):\n",
    "    formula = col_name + ' ~ pm10 + pm25 + temp + humi + prec + CONTENT + CONTENT:temp + CONTENT:prec + CONTENT:humi'\n",
    "    lm = ols(formula, df_20).fit()\n",
    "    return lm.summary()"
   ]
  },
  {
   "cell_type": "code",
   "execution_count": 50,
   "metadata": {},
   "outputs": [],
   "source": [
    "def coef_bar(colname):\n",
    "    X = df_20.drop(colname, axis=1)\n",
    "    Y = df_20[colname]\n",
    "\n",
    "    X_train, X_test, y_train, y_test = train_test_split(X, Y, test_size=0.33, random_state=42)\n",
    "    ridge = Ridge(fit_intercept=True,\n",
    "    #               alpha=0.5\n",
    "                 )\n",
    "    # solver : svd, 초코피? 는 NE바로안될떄 적용하고, 뒤에 4개는 SGD에 사용\n",
    "    ridge.fit(X_train,y_train)\n",
    "    # lasso.fit(X_train, y_train)\n",
    "\n",
    "    # set_df\n",
    "    df_sukbak = pd.DataFrame(ridge.coef_, df_20.drop(colname,axis=1).columns).rename(columns={0:'coef'})\n",
    "    df_sukbak = df_sukbak.sort_values(by='coef', ascending=False)\n",
    "\n",
    "    # bar\n",
    "    plt.figure(figsize=(12, 6))\n",
    "    plt.barh(df_sukbak.index, df_sukbak['coef'])\n",
    "    # plt.xticks(df_sukbak['coef'])\n",
    "    return None"
   ]
  },
  {
   "cell_type": "markdown",
   "metadata": {},
   "source": [
    "# Check Coef"
   ]
  },
  {
   "cell_type": "code",
   "execution_count": 51,
   "metadata": {},
   "outputs": [],
   "source": [
    "from sklearn.linear_model import Lasso, Ridge"
   ]
  },
  {
   "cell_type": "code",
   "execution_count": 52,
   "metadata": {},
   "outputs": [],
   "source": [
    "from sklearn.model_selection import train_test_split"
   ]
  },
  {
   "cell_type": "markdown",
   "metadata": {},
   "source": [
    "## 숙박 10"
   ]
  },
  {
   "cell_type": "code",
   "execution_count": 50,
   "metadata": {},
   "outputs": [
    {
     "data": {
      "text/plain": [
       "(                 df         sum_sq        mean_sq           F        PR(>F)\n",
       " pm10            1.0    5500.425612    5500.425612    3.224574  7.339335e-02\n",
       " pm25            1.0     906.117490     906.117490    0.531203  4.665834e-01\n",
       " temp            1.0    7883.308244    7883.308244    4.621517  3.225040e-02\n",
       " humi            1.0    5929.307514    5929.307514    3.476002  6.309244e-02\n",
       " prec            1.0     735.099347     735.099347    0.430945  5.119520e-01\n",
       " CONTENT         1.0  207581.779054  207581.779054  121.692920  1.608558e-24\n",
       " CONTENT:temp    1.0   37642.715134   37642.715134   22.067698  3.772468e-06\n",
       " CONTENT:prec    1.0    2852.312264    2852.312264    1.672142  1.968151e-01\n",
       " CONTENT:humi    1.0     317.770640     317.770640    0.186290  6.662852e-01\n",
       " Residual      354.0  603847.370746    1705.783533         NaN           NaN,\n",
       " <class 'statsmodels.iolib.summary.Summary'>\n",
       " \"\"\"\n",
       "                             OLS Regression Results                            \n",
       " ==============================================================================\n",
       " Dep. Variable:                     숙박   R-squared:                       0.308\n",
       " Model:                            OLS   Adj. R-squared:                  0.291\n",
       " Method:                 Least Squares   F-statistic:                     17.54\n",
       " Date:                Wed, 14 Aug 2019   Prob (F-statistic):           5.02e-24\n",
       " Time:                        17:07:26   Log-Likelihood:                -1865.8\n",
       " No. Observations:                 364   AIC:                             3752.\n",
       " Df Residuals:                     354   BIC:                             3791.\n",
       " Df Model:                           9                                         \n",
       " Covariance Type:            nonrobust                                         \n",
       " ================================================================================\n",
       "                    coef    std err          t      P>|t|      [0.025      0.975]\n",
       " --------------------------------------------------------------------------------\n",
       " Intercept      110.2802     20.879      5.282      0.000      69.217     151.344\n",
       " pm10            -0.1595      0.184     -0.864      0.388      -0.522       0.203\n",
       " pm25             0.3804      0.250      1.519      0.130      -0.112       0.873\n",
       " temp             1.8106      0.547      3.310      0.001       0.735       2.887\n",
       " humi            -0.0391      0.452     -0.086      0.931      -0.929       0.851\n",
       " prec             0.6273      0.516      1.216      0.225      -0.388       1.642\n",
       " CONTENT         -0.0313      0.032     -0.983      0.326      -0.094       0.031\n",
       " CONTENT:temp    -0.0040      0.001     -3.816      0.000      -0.006      -0.002\n",
       " CONTENT:prec    -0.0007      0.001     -0.847      0.398      -0.002       0.001\n",
       " CONTENT:humi    -0.0003      0.001     -0.432      0.666      -0.002       0.001\n",
       " ==============================================================================\n",
       " Omnibus:                        8.311   Durbin-Watson:                   1.555\n",
       " Prob(Omnibus):                  0.016   Jarque-Bera (JB):                8.602\n",
       " Skew:                           0.372   Prob(JB):                       0.0136\n",
       " Kurtosis:                       2.887   Cond. No.                     3.04e+05\n",
       " ==============================================================================\n",
       " \n",
       " Warnings:\n",
       " [1] Standard Errors assume that the covariance matrix of the errors is correctly specified.\n",
       " [2] The condition number is large, 3.04e+05. This might indicate that there are\n",
       " strong multicollinearity or other numerical problems.\n",
       " \"\"\")"
      ]
     },
     "execution_count": 50,
     "metadata": {},
     "output_type": "execute_result"
    }
   ],
   "source": [
    "anova(\"숙박\")"
   ]
  },
  {
   "cell_type": "code",
   "execution_count": 51,
   "metadata": {},
   "outputs": [
    {
     "data": {
      "image/png": "[encoded data removed]",
      "text/plain": [
       "<Figure size 864x432 with 1 Axes>"
      ]
     },
     "metadata": {
      "needs_background": "light"
     },
     "output_type": "display_data"
    }
   ],
   "source": [
    "coef_bar('숙박')"
   ]
  },
  {
   "cell_type": "markdown",
   "metadata": {},
   "source": [
    "## 레저용품 20"
   ]
  },
  {
   "cell_type": "code",
   "execution_count": 52,
   "metadata": {},
   "outputs": [
    {
     "data": {
      "text/plain": [
       "(                 df        sum_sq       mean_sq           F        PR(>F)\n",
       " pm10            1.0  6.709977e+04  6.709977e+04    2.917459  8.849994e-02\n",
       " pm25            1.0  4.191943e+05  4.191943e+05   18.226327  2.520563e-05\n",
       " temp            1.0  2.722123e+04  2.722123e+04    1.183564  2.773698e-01\n",
       " humi            1.0  3.933178e+05  3.933178e+05   17.101230  4.427585e-05\n",
       " prec            1.0  1.167452e+04  1.167452e+04    0.507602  4.766469e-01\n",
       " CONTENT         1.0  3.630503e+06  3.630503e+06  157.852186  3.323623e-30\n",
       " CONTENT:temp    1.0  4.241539e+05  4.241539e+05   18.441968  2.263420e-05\n",
       " CONTENT:prec    1.0  6.768573e+03  6.768573e+03    0.294294  5.878225e-01\n",
       " CONTENT:humi    1.0  1.242268e+05  1.242268e+05    5.401310  2.068550e-02\n",
       " Residual      355.0  8.164782e+06  2.299939e+04         NaN           NaN,\n",
       " <class 'statsmodels.iolib.summary.Summary'>\n",
       " \"\"\"\n",
       "                             OLS Regression Results                            \n",
       " ==============================================================================\n",
       " Dep. Variable:                   레저용품   R-squared:                       0.385\n",
       " Model:                            OLS   Adj. R-squared:                  0.369\n",
       " Method:                 Least Squares   F-statistic:                     24.66\n",
       " Date:                Wed, 14 Aug 2019   Prob (F-statistic):           8.99e-33\n",
       " Time:                        17:07:27   Log-Likelihood:                -2345.7\n",
       " No. Observations:                 365   AIC:                             4711.\n",
       " Df Residuals:                     355   BIC:                             4750.\n",
       " Df Model:                           9                                         \n",
       " Covariance Type:            nonrobust                                         \n",
       " ================================================================================\n",
       "                    coef    std err          t      P>|t|      [0.025      0.975]\n",
       " --------------------------------------------------------------------------------\n",
       " Intercept      423.7932     76.668      5.528      0.000     273.012     574.574\n",
       " pm10            -2.6076      0.677     -3.851      0.000      -3.939      -1.276\n",
       " pm25             5.0176      0.919      5.460      0.000       3.210       6.825\n",
       " temp             2.0720      2.008      1.032      0.303      -1.878       6.022\n",
       " humi             1.8413      1.662      1.108      0.269      -1.426       5.109\n",
       " prec            -1.7226      1.895     -0.909      0.364      -5.449       2.004\n",
       " CONTENT          0.0185      0.117      0.158      0.874      -0.211       0.248\n",
       " CONTENT:temp    -0.0106      0.004     -2.767      0.006      -0.018      -0.003\n",
       " CONTENT:prec     0.0026      0.003      0.817      0.414      -0.004       0.009\n",
       " CONTENT:humi    -0.0062      0.003     -2.324      0.021      -0.011      -0.001\n",
       " ==============================================================================\n",
       " Omnibus:                        2.904   Durbin-Watson:                   1.473\n",
       " Prob(Omnibus):                  0.234   Jarque-Bera (JB):                2.981\n",
       " Skew:                           0.208   Prob(JB):                        0.225\n",
       " Kurtosis:                       2.851   Cond. No.                     3.04e+05\n",
       " ==============================================================================\n",
       " \n",
       " Warnings:\n",
       " [1] Standard Errors assume that the covariance matrix of the errors is correctly specified.\n",
       " [2] The condition number is large, 3.04e+05. This might indicate that there are\n",
       " strong multicollinearity or other numerical problems.\n",
       " \"\"\")"
      ]
     },
     "execution_count": 52,
     "metadata": {},
     "output_type": "execute_result"
    }
   ],
   "source": [
    "anova(\"레저용품\")"
   ]
  },
  {
   "cell_type": "code",
   "execution_count": 53,
   "metadata": {},
   "outputs": [
    {
     "data": {
      "image/png": "[encoded data removed]",
      "text/plain": [
       "<Figure size 864x432 with 1 Axes>"
      ]
     },
     "metadata": {
      "needs_background": "light"
     },
     "output_type": "display_data"
    }
   ],
   "source": [
    "coef_bar('레저용품')"
   ]
  },
  {
   "cell_type": "markdown",
   "metadata": {},
   "source": [
    "# 레저업소 21"
   ]
  },
  {
   "cell_type": "code",
   "execution_count": 56,
   "metadata": {},
   "outputs": [
    {
     "data": {
      "text/html": [
       "<table class=\"simpletable\">\n",
       "<caption>OLS Regression Results</caption>\n",
       "<tr>\n",
       "  <th>Dep. Variable:</th>          <td>레저업소</td>       <th>  R-squared:         </th> <td>   0.380</td>\n",
       "</tr>\n",
       "<tr>\n",
       "  <th>Model:</th>                   <td>OLS</td>       <th>  Adj. R-squared:    </th> <td>   0.364</td>\n",
       "</tr>\n",
       "<tr>\n",
       "  <th>Method:</th>             <td>Least Squares</td>  <th>  F-statistic:       </th> <td>   24.16</td>\n",
       "</tr>\n",
       "<tr>\n",
       "  <th>Date:</th>             <td>Fri, 23 Aug 2019</td> <th>  Prob (F-statistic):</th> <td>3.43e-32</td>\n",
       "</tr>\n",
       "<tr>\n",
       "  <th>Time:</th>                 <td>00:33:38</td>     <th>  Log-Likelihood:    </th> <td> -2575.2</td>\n",
       "</tr>\n",
       "<tr>\n",
       "  <th>No. Observations:</th>      <td>   365</td>      <th>  AIC:               </th> <td>   5170.</td>\n",
       "</tr>\n",
       "<tr>\n",
       "  <th>Df Residuals:</th>          <td>   355</td>      <th>  BIC:               </th> <td>   5209.</td>\n",
       "</tr>\n",
       "<tr>\n",
       "  <th>Df Model:</th>              <td>     9</td>      <th>                     </th>     <td> </td>   \n",
       "</tr>\n",
       "<tr>\n",
       "  <th>Covariance Type:</th>      <td>nonrobust</td>    <th>                     </th>     <td> </td>   \n",
       "</tr>\n",
       "</table>\n",
       "<table class=\"simpletable\">\n",
       "<tr>\n",
       "        <td></td>          <th>coef</th>     <th>std err</th>      <th>t</th>      <th>P>|t|</th>  <th>[0.025</th>    <th>0.975]</th>  \n",
       "</tr>\n",
       "<tr>\n",
       "  <th>Intercept</th>    <td> 1410.1330</td> <td>  143.320</td> <td>    9.839</td> <td> 0.000</td> <td> 1128.270</td> <td> 1691.996</td>\n",
       "</tr>\n",
       "<tr>\n",
       "  <th>pm10</th>         <td>   -1.2678</td> <td>    1.111</td> <td>   -1.141</td> <td> 0.255</td> <td>   -3.453</td> <td>    0.918</td>\n",
       "</tr>\n",
       "<tr>\n",
       "  <th>pm25</th>         <td>    5.2710</td> <td>    1.499</td> <td>    3.515</td> <td> 0.000</td> <td>    2.322</td> <td>    8.220</td>\n",
       "</tr>\n",
       "<tr>\n",
       "  <th>temp</th>         <td>    3.8380</td> <td>    3.766</td> <td>    1.019</td> <td> 0.309</td> <td>   -3.569</td> <td>   11.245</td>\n",
       "</tr>\n",
       "<tr>\n",
       "  <th>humi</th>         <td>   -0.5176</td> <td>    3.122</td> <td>   -0.166</td> <td> 0.868</td> <td>   -6.657</td> <td>    5.621</td>\n",
       "</tr>\n",
       "<tr>\n",
       "  <th>prec</th>         <td>   -1.7216</td> <td>    3.553</td> <td>   -0.485</td> <td> 0.628</td> <td>   -8.709</td> <td>    5.266</td>\n",
       "</tr>\n",
       "<tr>\n",
       "  <th>CONTENT</th>      <td>   -0.2395</td> <td>    0.219</td> <td>   -1.096</td> <td> 0.274</td> <td>   -0.669</td> <td>    0.190</td>\n",
       "</tr>\n",
       "<tr>\n",
       "  <th>CONTENT:temp</th> <td>   -0.0220</td> <td>    0.007</td> <td>   -3.049</td> <td> 0.002</td> <td>   -0.036</td> <td>   -0.008</td>\n",
       "</tr>\n",
       "<tr>\n",
       "  <th>CONTENT:prec</th> <td>    0.0048</td> <td>    0.006</td> <td>    0.801</td> <td> 0.424</td> <td>   -0.007</td> <td>    0.017</td>\n",
       "</tr>\n",
       "<tr>\n",
       "  <th>CONTENT:humi</th> <td>   -0.0054</td> <td>    0.005</td> <td>   -1.089</td> <td> 0.277</td> <td>   -0.015</td> <td>    0.004</td>\n",
       "</tr>\n",
       "</table>\n",
       "<table class=\"simpletable\">\n",
       "<tr>\n",
       "  <th>Omnibus:</th>       <td>22.177</td> <th>  Durbin-Watson:     </th> <td>   1.079</td>\n",
       "</tr>\n",
       "<tr>\n",
       "  <th>Prob(Omnibus):</th> <td> 0.000</td> <th>  Jarque-Bera (JB):  </th> <td>  25.450</td>\n",
       "</tr>\n",
       "<tr>\n",
       "  <th>Skew:</th>          <td> 0.557</td> <th>  Prob(JB):          </th> <td>2.98e-06</td>\n",
       "</tr>\n",
       "<tr>\n",
       "  <th>Kurtosis:</th>      <td> 3.659</td> <th>  Cond. No.          </th> <td>3.03e+05</td>\n",
       "</tr>\n",
       "</table><br/><br/>Warnings:<br/>[1] Standard Errors assume that the covariance matrix of the errors is correctly specified.<br/>[2] The condition number is large, 3.03e+05. This might indicate that there are<br/>strong multicollinearity or other numerical problems."
      ],
      "text/plain": [
       "<class 'statsmodels.iolib.summary.Summary'>\n",
       "\"\"\"\n",
       "                            OLS Regression Results                            \n",
       "==============================================================================\n",
       "Dep. Variable:                   레저업소   R-squared:                       0.380\n",
       "Model:                            OLS   Adj. R-squared:                  0.364\n",
       "Method:                 Least Squares   F-statistic:                     24.16\n",
       "Date:                Fri, 23 Aug 2019   Prob (F-statistic):           3.43e-32\n",
       "Time:                        00:33:38   Log-Likelihood:                -2575.2\n",
       "No. Observations:                 365   AIC:                             5170.\n",
       "Df Residuals:                     355   BIC:                             5209.\n",
       "Df Model:                           9                                         \n",
       "Covariance Type:            nonrobust                                         \n",
       "================================================================================\n",
       "                   coef    std err          t      P>|t|      [0.025      0.975]\n",
       "--------------------------------------------------------------------------------\n",
       "Intercept     1410.1330    143.320      9.839      0.000    1128.270    1691.996\n",
       "pm10            -1.2678      1.111     -1.141      0.255      -3.453       0.918\n",
       "pm25             5.2710      1.499      3.515      0.000       2.322       8.220\n",
       "temp             3.8380      3.766      1.019      0.309      -3.569      11.245\n",
       "humi            -0.5176      3.122     -0.166      0.868      -6.657       5.621\n",
       "prec            -1.7216      3.553     -0.485      0.628      -8.709       5.266\n",
       "CONTENT         -0.2395      0.219     -1.096      0.274      -0.669       0.190\n",
       "CONTENT:temp    -0.0220      0.007     -3.049      0.002      -0.036      -0.008\n",
       "CONTENT:prec     0.0048      0.006      0.801      0.424      -0.007       0.017\n",
       "CONTENT:humi    -0.0054      0.005     -1.089      0.277      -0.015       0.004\n",
       "==============================================================================\n",
       "Omnibus:                       22.177   Durbin-Watson:                   1.079\n",
       "Prob(Omnibus):                  0.000   Jarque-Bera (JB):               25.450\n",
       "Skew:                           0.557   Prob(JB):                     2.98e-06\n",
       "Kurtosis:                       3.659   Cond. No.                     3.03e+05\n",
       "==============================================================================\n",
       "\n",
       "Warnings:\n",
       "[1] Standard Errors assume that the covariance matrix of the errors is correctly specified.\n",
       "[2] The condition number is large, 3.03e+05. This might indicate that there are\n",
       "strong multicollinearity or other numerical problems.\n",
       "\"\"\""
      ]
     },
     "execution_count": 56,
     "metadata": {},
     "output_type": "execute_result"
    }
   ],
   "source": [
    "anova('레저업소')"
   ]
  },
  {
   "cell_type": "markdown",
   "metadata": {},
   "source": [
    "## 문화취미 22"
   ]
  },
  {
   "cell_type": "code",
   "execution_count": 54,
   "metadata": {},
   "outputs": [
    {
     "data": {
      "text/plain": [
       "(                 df        sum_sq       mean_sq          F        PR(>F)\n",
       " pm10            1.0  2.068681e+04  2.068681e+04   0.508166  4.764022e-01\n",
       " pm25            1.0  7.047461e+04  7.047461e+04   1.731190  1.891080e-01\n",
       " temp            1.0  6.644622e+04  6.644622e+04   1.632234  2.022292e-01\n",
       " humi            1.0  7.220604e+05  7.220604e+05  17.737220  3.218731e-05\n",
       " prec            1.0  1.566378e+03  1.566378e+03   0.038478  8.445993e-01\n",
       " CONTENT         1.0  3.606637e+06  3.606637e+06  88.596063  6.262966e-19\n",
       " CONTENT:temp    1.0  2.254355e+05  2.254355e+05   5.537764  1.915520e-02\n",
       " CONTENT:prec    1.0  1.172124e+04  1.172124e+04   0.287929  5.918867e-01\n",
       " CONTENT:humi    1.0  2.230792e+03  2.230792e+03   0.054799  8.150489e-01\n",
       " Residual      355.0  1.445161e+07  4.070877e+04        NaN           NaN,\n",
       " <class 'statsmodels.iolib.summary.Summary'>\n",
       " \"\"\"\n",
       "                             OLS Regression Results                            \n",
       " ==============================================================================\n",
       " Dep. Variable:                   문화취미   R-squared:                       0.246\n",
       " Model:                            OLS   Adj. R-squared:                  0.227\n",
       " Method:                 Least Squares   F-statistic:                     12.90\n",
       " Date:                Wed, 14 Aug 2019   Prob (F-statistic):           8.08e-18\n",
       " Time:                        17:07:28   Log-Likelihood:                -2449.9\n",
       " No. Observations:                 365   AIC:                             4920.\n",
       " Df Residuals:                     355   BIC:                             4959.\n",
       " Df Model:                           9                                         \n",
       " Covariance Type:            nonrobust                                         \n",
       " ================================================================================\n",
       "                    coef    std err          t      P>|t|      [0.025      0.975]\n",
       " --------------------------------------------------------------------------------\n",
       " Intercept      672.9740    102.000      6.598      0.000     472.373     873.575\n",
       " pm10            -1.3429      0.901     -1.491      0.137      -3.114       0.429\n",
       " pm25             3.1855      1.223      2.605      0.010       0.781       5.590\n",
       " temp             5.1557      2.672      1.930      0.054      -0.099      10.411\n",
       " humi            -2.4677      2.211     -1.116      0.265      -6.815       1.880\n",
       " prec             1.1981      2.521      0.475      0.635      -3.760       6.156\n",
       " CONTENT         -0.2379      0.155     -1.531      0.127      -0.544       0.068\n",
       " CONTENT:temp    -0.0098      0.005     -1.922      0.055      -0.020       0.000\n",
       " CONTENT:prec    -0.0014      0.004     -0.321      0.748      -0.010       0.007\n",
       " CONTENT:humi    -0.0008      0.004     -0.234      0.815      -0.008       0.006\n",
       " ==============================================================================\n",
       " Omnibus:                       53.806   Durbin-Watson:                   0.834\n",
       " Prob(Omnibus):                  0.000   Jarque-Bera (JB):               79.358\n",
       " Skew:                           0.944   Prob(JB):                     5.85e-18\n",
       " Kurtosis:                       4.287   Cond. No.                     3.04e+05\n",
       " ==============================================================================\n",
       " \n",
       " Warnings:\n",
       " [1] Standard Errors assume that the covariance matrix of the errors is correctly specified.\n",
       " [2] The condition number is large, 3.04e+05. This might indicate that there are\n",
       " strong multicollinearity or other numerical problems.\n",
       " \"\"\")"
      ]
     },
     "execution_count": 54,
     "metadata": {},
     "output_type": "execute_result"
    }
   ],
   "source": [
    "anova(\"문화취미\")"
   ]
  },
  {
   "cell_type": "code",
   "execution_count": 55,
   "metadata": {},
   "outputs": [
    {
     "data": {
      "image/png": "[encoded data removed]",
      "text/plain": [
       "<Figure size 864x432 with 1 Axes>"
      ]
     },
     "metadata": {
      "needs_background": "light"
     },
     "output_type": "display_data"
    }
   ],
   "source": [
    "coef_bar('문화취미')"
   ]
  },
  {
   "cell_type": "markdown",
   "metadata": {},
   "source": [
    "# 가구 30 Null로 삭제"
   ]
  },
  {
   "cell_type": "markdown",
   "metadata": {},
   "source": [
    "## 전기 31 Null로 삭제"
   ]
  },
  {
   "cell_type": "markdown",
   "metadata": {},
   "source": [
    "## 주방용구 32 Null로 삭제"
   ]
  },
  {
   "cell_type": "markdown",
   "metadata": {},
   "source": [
    "# 연료 33"
   ]
  },
  {
   "cell_type": "code",
   "execution_count": 53,
   "metadata": {},
   "outputs": [
    {
     "data": {
      "text/html": [
       "<table class=\"simpletable\">\n",
       "<caption>OLS Regression Results</caption>\n",
       "<tr>\n",
       "  <th>Dep. Variable:</th>           <td>연료</td>        <th>  R-squared:         </th> <td>   0.419</td>\n",
       "</tr>\n",
       "<tr>\n",
       "  <th>Model:</th>                   <td>OLS</td>       <th>  Adj. R-squared:    </th> <td>   0.404</td>\n",
       "</tr>\n",
       "<tr>\n",
       "  <th>Method:</th>             <td>Least Squares</td>  <th>  F-statistic:       </th> <td>   28.42</td>\n",
       "</tr>\n",
       "<tr>\n",
       "  <th>Date:</th>             <td>Fri, 23 Aug 2019</td> <th>  Prob (F-statistic):</th> <td>4.82e-37</td>\n",
       "</tr>\n",
       "<tr>\n",
       "  <th>Time:</th>                 <td>00:30:33</td>     <th>  Log-Likelihood:    </th> <td> -2428.3</td>\n",
       "</tr>\n",
       "<tr>\n",
       "  <th>No. Observations:</th>      <td>   365</td>      <th>  AIC:               </th> <td>   4877.</td>\n",
       "</tr>\n",
       "<tr>\n",
       "  <th>Df Residuals:</th>          <td>   355</td>      <th>  BIC:               </th> <td>   4916.</td>\n",
       "</tr>\n",
       "<tr>\n",
       "  <th>Df Model:</th>              <td>     9</td>      <th>                     </th>     <td> </td>   \n",
       "</tr>\n",
       "<tr>\n",
       "  <th>Covariance Type:</th>      <td>nonrobust</td>    <th>                     </th>     <td> </td>   \n",
       "</tr>\n",
       "</table>\n",
       "<table class=\"simpletable\">\n",
       "<tr>\n",
       "        <td></td>          <th>coef</th>     <th>std err</th>      <th>t</th>      <th>P>|t|</th>  <th>[0.025</th>    <th>0.975]</th>  \n",
       "</tr>\n",
       "<tr>\n",
       "  <th>Intercept</th>    <td> 1554.7064</td> <td>   95.839</td> <td>   16.222</td> <td> 0.000</td> <td> 1366.224</td> <td> 1743.189</td>\n",
       "</tr>\n",
       "<tr>\n",
       "  <th>pm10</th>         <td>   -1.0620</td> <td>    0.743</td> <td>   -1.429</td> <td> 0.154</td> <td>   -2.523</td> <td>    0.399</td>\n",
       "</tr>\n",
       "<tr>\n",
       "  <th>pm25</th>         <td>    1.4675</td> <td>    1.003</td> <td>    1.464</td> <td> 0.144</td> <td>   -0.504</td> <td>    3.439</td>\n",
       "</tr>\n",
       "<tr>\n",
       "  <th>temp</th>         <td>   12.5090</td> <td>    2.518</td> <td>    4.967</td> <td> 0.000</td> <td>    7.556</td> <td>   17.462</td>\n",
       "</tr>\n",
       "<tr>\n",
       "  <th>humi</th>         <td>   -3.2794</td> <td>    2.087</td> <td>   -1.571</td> <td> 0.117</td> <td>   -7.385</td> <td>    0.826</td>\n",
       "</tr>\n",
       "<tr>\n",
       "  <th>prec</th>         <td>   -4.3153</td> <td>    2.376</td> <td>   -1.816</td> <td> 0.070</td> <td>   -8.988</td> <td>    0.357</td>\n",
       "</tr>\n",
       "<tr>\n",
       "  <th>CONTENT</th>      <td>   -0.3350</td> <td>    0.146</td> <td>   -2.292</td> <td> 0.022</td> <td>   -0.623</td> <td>   -0.048</td>\n",
       "</tr>\n",
       "<tr>\n",
       "  <th>CONTENT:temp</th> <td>   -0.0181</td> <td>    0.005</td> <td>   -3.756</td> <td> 0.000</td> <td>   -0.028</td> <td>   -0.009</td>\n",
       "</tr>\n",
       "<tr>\n",
       "  <th>CONTENT:prec</th> <td>    0.0038</td> <td>    0.004</td> <td>    0.959</td> <td> 0.338</td> <td>   -0.004</td> <td>    0.012</td>\n",
       "</tr>\n",
       "<tr>\n",
       "  <th>CONTENT:humi</th> <td>    0.0011</td> <td>    0.003</td> <td>    0.333</td> <td> 0.739</td> <td>   -0.005</td> <td>    0.008</td>\n",
       "</tr>\n",
       "</table>\n",
       "<table class=\"simpletable\">\n",
       "<tr>\n",
       "  <th>Omnibus:</th>       <td> 1.662</td> <th>  Durbin-Watson:     </th> <td>   1.270</td>\n",
       "</tr>\n",
       "<tr>\n",
       "  <th>Prob(Omnibus):</th> <td> 0.436</td> <th>  Jarque-Bera (JB):  </th> <td>   1.417</td>\n",
       "</tr>\n",
       "<tr>\n",
       "  <th>Skew:</th>          <td> 0.097</td> <th>  Prob(JB):          </th> <td>   0.492</td>\n",
       "</tr>\n",
       "<tr>\n",
       "  <th>Kurtosis:</th>      <td> 3.235</td> <th>  Cond. No.          </th> <td>3.03e+05</td>\n",
       "</tr>\n",
       "</table><br/><br/>Warnings:<br/>[1] Standard Errors assume that the covariance matrix of the errors is correctly specified.<br/>[2] The condition number is large, 3.03e+05. This might indicate that there are<br/>strong multicollinearity or other numerical problems."
      ],
      "text/plain": [
       "<class 'statsmodels.iolib.summary.Summary'>\n",
       "\"\"\"\n",
       "                            OLS Regression Results                            \n",
       "==============================================================================\n",
       "Dep. Variable:                     연료   R-squared:                       0.419\n",
       "Model:                            OLS   Adj. R-squared:                  0.404\n",
       "Method:                 Least Squares   F-statistic:                     28.42\n",
       "Date:                Fri, 23 Aug 2019   Prob (F-statistic):           4.82e-37\n",
       "Time:                        00:30:33   Log-Likelihood:                -2428.3\n",
       "No. Observations:                 365   AIC:                             4877.\n",
       "Df Residuals:                     355   BIC:                             4916.\n",
       "Df Model:                           9                                         \n",
       "Covariance Type:            nonrobust                                         \n",
       "================================================================================\n",
       "                   coef    std err          t      P>|t|      [0.025      0.975]\n",
       "--------------------------------------------------------------------------------\n",
       "Intercept     1554.7064     95.839     16.222      0.000    1366.224    1743.189\n",
       "pm10            -1.0620      0.743     -1.429      0.154      -2.523       0.399\n",
       "pm25             1.4675      1.003      1.464      0.144      -0.504       3.439\n",
       "temp            12.5090      2.518      4.967      0.000       7.556      17.462\n",
       "humi            -3.2794      2.087     -1.571      0.117      -7.385       0.826\n",
       "prec            -4.3153      2.376     -1.816      0.070      -8.988       0.357\n",
       "CONTENT         -0.3350      0.146     -2.292      0.022      -0.623      -0.048\n",
       "CONTENT:temp    -0.0181      0.005     -3.756      0.000      -0.028      -0.009\n",
       "CONTENT:prec     0.0038      0.004      0.959      0.338      -0.004       0.012\n",
       "CONTENT:humi     0.0011      0.003      0.333      0.739      -0.005       0.008\n",
       "==============================================================================\n",
       "Omnibus:                        1.662   Durbin-Watson:                   1.270\n",
       "Prob(Omnibus):                  0.436   Jarque-Bera (JB):                1.417\n",
       "Skew:                           0.097   Prob(JB):                        0.492\n",
       "Kurtosis:                       3.235   Cond. No.                     3.03e+05\n",
       "==============================================================================\n",
       "\n",
       "Warnings:\n",
       "[1] Standard Errors assume that the covariance matrix of the errors is correctly specified.\n",
       "[2] The condition number is large, 3.03e+05. This might indicate that there are\n",
       "strong multicollinearity or other numerical problems.\n",
       "\"\"\""
      ]
     },
     "execution_count": 53,
     "metadata": {},
     "output_type": "execute_result"
    }
   ],
   "source": [
    "anova('연료')"
   ]
  },
  {
   "cell_type": "markdown",
   "metadata": {},
   "source": [
    "## 유통업 40"
   ]
  },
  {
   "cell_type": "code",
   "execution_count": 54,
   "metadata": {},
   "outputs": [
    {
     "data": {
      "text/html": [
       "<table class=\"simpletable\">\n",
       "<caption>OLS Regression Results</caption>\n",
       "<tr>\n",
       "  <th>Dep. Variable:</th>           <td>유통업</td>       <th>  R-squared:         </th> <td>   0.450</td>\n",
       "</tr>\n",
       "<tr>\n",
       "  <th>Model:</th>                   <td>OLS</td>       <th>  Adj. R-squared:    </th> <td>   0.436</td>\n",
       "</tr>\n",
       "<tr>\n",
       "  <th>Method:</th>             <td>Least Squares</td>  <th>  F-statistic:       </th> <td>   32.29</td>\n",
       "</tr>\n",
       "<tr>\n",
       "  <th>Date:</th>             <td>Fri, 23 Aug 2019</td> <th>  Prob (F-statistic):</th> <td>3.31e-41</td>\n",
       "</tr>\n",
       "<tr>\n",
       "  <th>Time:</th>                 <td>00:30:34</td>     <th>  Log-Likelihood:    </th> <td> -3370.9</td>\n",
       "</tr>\n",
       "<tr>\n",
       "  <th>No. Observations:</th>      <td>   365</td>      <th>  AIC:               </th> <td>   6762.</td>\n",
       "</tr>\n",
       "<tr>\n",
       "  <th>Df Residuals:</th>          <td>   355</td>      <th>  BIC:               </th> <td>   6801.</td>\n",
       "</tr>\n",
       "<tr>\n",
       "  <th>Df Model:</th>              <td>     9</td>      <th>                     </th>     <td> </td>   \n",
       "</tr>\n",
       "<tr>\n",
       "  <th>Covariance Type:</th>      <td>nonrobust</td>    <th>                     </th>     <td> </td>   \n",
       "</tr>\n",
       "</table>\n",
       "<table class=\"simpletable\">\n",
       "<tr>\n",
       "        <td></td>          <th>coef</th>     <th>std err</th>      <th>t</th>      <th>P>|t|</th>  <th>[0.025</th>    <th>0.975]</th>  \n",
       "</tr>\n",
       "<tr>\n",
       "  <th>Intercept</th>    <td> 2.929e+04</td> <td> 1268.025</td> <td>   23.102</td> <td> 0.000</td> <td> 2.68e+04</td> <td> 3.18e+04</td>\n",
       "</tr>\n",
       "<tr>\n",
       "  <th>pm10</th>         <td>  -17.5654</td> <td>    9.831</td> <td>   -1.787</td> <td> 0.075</td> <td>  -36.901</td> <td>    1.770</td>\n",
       "</tr>\n",
       "<tr>\n",
       "  <th>pm25</th>         <td>   16.4867</td> <td>   13.266</td> <td>    1.243</td> <td> 0.215</td> <td>   -9.604</td> <td>   42.577</td>\n",
       "</tr>\n",
       "<tr>\n",
       "  <th>temp</th>         <td>  142.5600</td> <td>   33.321</td> <td>    4.278</td> <td> 0.000</td> <td>   77.028</td> <td>  208.092</td>\n",
       "</tr>\n",
       "<tr>\n",
       "  <th>humi</th>         <td>   17.3234</td> <td>   27.618</td> <td>    0.627</td> <td> 0.531</td> <td>  -36.992</td> <td>   71.639</td>\n",
       "</tr>\n",
       "<tr>\n",
       "  <th>prec</th>         <td>  -58.8650</td> <td>   31.436</td> <td>   -1.873</td> <td> 0.062</td> <td> -120.689</td> <td>    2.959</td>\n",
       "</tr>\n",
       "<tr>\n",
       "  <th>CONTENT</th>      <td>   -0.9941</td> <td>    1.934</td> <td>   -0.514</td> <td> 0.608</td> <td>   -4.798</td> <td>    2.810</td>\n",
       "</tr>\n",
       "<tr>\n",
       "  <th>CONTENT:temp</th> <td>   -0.0379</td> <td>    0.064</td> <td>   -0.595</td> <td> 0.552</td> <td>   -0.163</td> <td>    0.087</td>\n",
       "</tr>\n",
       "<tr>\n",
       "  <th>CONTENT:prec</th> <td>    0.0120</td> <td>    0.053</td> <td>    0.226</td> <td> 0.822</td> <td>   -0.092</td> <td>    0.116</td>\n",
       "</tr>\n",
       "<tr>\n",
       "  <th>CONTENT:humi</th> <td>   -0.0670</td> <td>    0.044</td> <td>   -1.517</td> <td> 0.130</td> <td>   -0.154</td> <td>    0.020</td>\n",
       "</tr>\n",
       "</table>\n",
       "<table class=\"simpletable\">\n",
       "<tr>\n",
       "  <th>Omnibus:</th>       <td> 7.673</td> <th>  Durbin-Watson:     </th> <td>   1.602</td>\n",
       "</tr>\n",
       "<tr>\n",
       "  <th>Prob(Omnibus):</th> <td> 0.022</td> <th>  Jarque-Bera (JB):  </th> <td>   7.739</td>\n",
       "</tr>\n",
       "<tr>\n",
       "  <th>Skew:</th>          <td> 0.296</td> <th>  Prob(JB):          </th> <td>  0.0209</td>\n",
       "</tr>\n",
       "<tr>\n",
       "  <th>Kurtosis:</th>      <td> 3.398</td> <th>  Cond. No.          </th> <td>3.03e+05</td>\n",
       "</tr>\n",
       "</table><br/><br/>Warnings:<br/>[1] Standard Errors assume that the covariance matrix of the errors is correctly specified.<br/>[2] The condition number is large, 3.03e+05. This might indicate that there are<br/>strong multicollinearity or other numerical problems."
      ],
      "text/plain": [
       "<class 'statsmodels.iolib.summary.Summary'>\n",
       "\"\"\"\n",
       "                            OLS Regression Results                            \n",
       "==============================================================================\n",
       "Dep. Variable:                    유통업   R-squared:                       0.450\n",
       "Model:                            OLS   Adj. R-squared:                  0.436\n",
       "Method:                 Least Squares   F-statistic:                     32.29\n",
       "Date:                Fri, 23 Aug 2019   Prob (F-statistic):           3.31e-41\n",
       "Time:                        00:30:34   Log-Likelihood:                -3370.9\n",
       "No. Observations:                 365   AIC:                             6762.\n",
       "Df Residuals:                     355   BIC:                             6801.\n",
       "Df Model:                           9                                         \n",
       "Covariance Type:            nonrobust                                         \n",
       "================================================================================\n",
       "                   coef    std err          t      P>|t|      [0.025      0.975]\n",
       "--------------------------------------------------------------------------------\n",
       "Intercept     2.929e+04   1268.025     23.102      0.000    2.68e+04    3.18e+04\n",
       "pm10           -17.5654      9.831     -1.787      0.075     -36.901       1.770\n",
       "pm25            16.4867     13.266      1.243      0.215      -9.604      42.577\n",
       "temp           142.5600     33.321      4.278      0.000      77.028     208.092\n",
       "humi            17.3234     27.618      0.627      0.531     -36.992      71.639\n",
       "prec           -58.8650     31.436     -1.873      0.062    -120.689       2.959\n",
       "CONTENT         -0.9941      1.934     -0.514      0.608      -4.798       2.810\n",
       "CONTENT:temp    -0.0379      0.064     -0.595      0.552      -0.163       0.087\n",
       "CONTENT:prec     0.0120      0.053      0.226      0.822      -0.092       0.116\n",
       "CONTENT:humi    -0.0670      0.044     -1.517      0.130      -0.154       0.020\n",
       "==============================================================================\n",
       "Omnibus:                        7.673   Durbin-Watson:                   1.602\n",
       "Prob(Omnibus):                  0.022   Jarque-Bera (JB):                7.739\n",
       "Skew:                           0.296   Prob(JB):                       0.0209\n",
       "Kurtosis:                       3.398   Cond. No.                     3.03e+05\n",
       "==============================================================================\n",
       "\n",
       "Warnings:\n",
       "[1] Standard Errors assume that the covariance matrix of the errors is correctly specified.\n",
       "[2] The condition number is large, 3.03e+05. This might indicate that there are\n",
       "strong multicollinearity or other numerical problems.\n",
       "\"\"\""
      ]
     },
     "execution_count": 54,
     "metadata": {},
     "output_type": "execute_result"
    }
   ],
   "source": [
    "anova(\"유통업\")"
   ]
  },
  {
   "cell_type": "code",
   "execution_count": 55,
   "metadata": {},
   "outputs": [
    {
     "data": {
      "image/png": "[encoded data removed]",
      "text/plain": [
       "<Figure size 864x432 with 1 Axes>"
      ]
     },
     "metadata": {
      "needs_background": "light"
     },
     "output_type": "display_data"
    }
   ],
   "source": [
    "coef_bar('유통업')"
   ]
  },
  {
   "cell_type": "markdown",
   "metadata": {},
   "source": [
    "## 의복 42 NULL30"
   ]
  },
  {
   "cell_type": "code",
   "execution_count": 34,
   "metadata": {},
   "outputs": [],
   "source": [
    "# anova('의복')"
   ]
  },
  {
   "cell_type": "code",
   "execution_count": 35,
   "metadata": {},
   "outputs": [],
   "source": [
    "# coef_bar('의복')"
   ]
  },
  {
   "cell_type": "markdown",
   "metadata": {},
   "source": [
    "## 직물 43 Null로 삭제"
   ]
  },
  {
   "cell_type": "markdown",
   "metadata": {},
   "source": [
    "## 신변잡화 44"
   ]
  },
  {
   "cell_type": "code",
   "execution_count": 60,
   "metadata": {},
   "outputs": [
    {
     "data": {
      "text/plain": [
       "(                 df         sum_sq       mean_sq          F        PR(>F)\n",
       " pm10            1.0      15.716880     15.716880   0.012900  9.096374e-01\n",
       " pm25            1.0       6.371998      6.371998   0.005230  9.423898e-01\n",
       " temp            1.0    1651.898137   1651.898137   1.355805  2.450478e-01\n",
       " humi            1.0   22814.716624  22814.716624  18.725307  1.965344e-05\n",
       " prec            1.0   10051.973780  10051.973780   8.250214  4.319555e-03\n",
       " CONTENT         1.0   48348.843224  48348.843224  39.682585  8.842735e-10\n",
       " CONTENT:temp    1.0      24.089418     24.089418   0.019772  8.882568e-01\n",
       " CONTENT:prec    1.0     934.297526    934.297526   0.766830  3.817916e-01\n",
       " CONTENT:humi    1.0     869.796469    869.796469   0.713890  3.987244e-01\n",
       " Residual      355.0  432528.252108   1218.389443        NaN           NaN,\n",
       " <class 'statsmodels.iolib.summary.Summary'>\n",
       " \"\"\"\n",
       "                             OLS Regression Results                            \n",
       " ==============================================================================\n",
       " Dep. Variable:                   신변잡화   R-squared:                       0.164\n",
       " Model:                            OLS   Adj. R-squared:                  0.143\n",
       " Method:                 Least Squares   F-statistic:                     7.726\n",
       " Date:                Wed, 14 Aug 2019   Prob (F-statistic):           2.14e-10\n",
       " Time:                        17:07:30   Log-Likelihood:                -1809.6\n",
       " No. Observations:                 365   AIC:                             3639.\n",
       " Df Residuals:                     355   BIC:                             3678.\n",
       " Df Model:                           9                                         \n",
       " Covariance Type:            nonrobust                                         \n",
       " ================================================================================\n",
       "                    coef    std err          t      P>|t|      [0.025      0.975]\n",
       " --------------------------------------------------------------------------------\n",
       " Intercept      132.9164     17.646      7.532      0.000      98.212     167.621\n",
       " pm10            -0.0990      0.156     -0.635      0.526      -0.405       0.208\n",
       " pm25             0.2173      0.212      1.027      0.305      -0.199       0.633\n",
       " temp             0.0706      0.462      0.153      0.879      -0.839       0.980\n",
       " humi             0.0213      0.382      0.056      0.956      -0.731       0.773\n",
       " prec            -0.9959      0.436     -2.284      0.023      -1.854      -0.138\n",
       " CONTENT         -0.0248      0.027     -0.921      0.357      -0.078       0.028\n",
       " CONTENT:temp  9.057e-05      0.001      0.103      0.918      -0.002       0.002\n",
       " CONTENT:prec     0.0009      0.001      1.195      0.233      -0.001       0.002\n",
       " CONTENT:humi    -0.0005      0.001     -0.845      0.399      -0.002       0.001\n",
       " ==============================================================================\n",
       " Omnibus:                       38.531   Durbin-Watson:                   1.798\n",
       " Prob(Omnibus):                  0.000   Jarque-Bera (JB):               49.376\n",
       " Skew:                           0.786   Prob(JB):                     1.90e-11\n",
       " Kurtosis:                       3.880   Cond. No.                     3.04e+05\n",
       " ==============================================================================\n",
       " \n",
       " Warnings:\n",
       " [1] Standard Errors assume that the covariance matrix of the errors is correctly specified.\n",
       " [2] The condition number is large, 3.04e+05. This might indicate that there are\n",
       " strong multicollinearity or other numerical problems.\n",
       " \"\"\")"
      ]
     },
     "execution_count": 60,
     "metadata": {},
     "output_type": "execute_result"
    }
   ],
   "source": [
    "anova('신변잡화')"
   ]
  },
  {
   "cell_type": "code",
   "execution_count": 61,
   "metadata": {},
   "outputs": [
    {
     "data": {
      "image/png": "[encoded data removed]",
      "text/plain": [
       "<Figure size 864x432 with 1 Axes>"
      ]
     },
     "metadata": {
      "needs_background": "light"
     },
     "output_type": "display_data"
    }
   ],
   "source": [
    "coef_bar('신변잡화')"
   ]
  },
  {
   "cell_type": "markdown",
   "metadata": {},
   "source": [
    "## 서적문구 50"
   ]
  },
  {
   "cell_type": "code",
   "execution_count": 62,
   "metadata": {},
   "outputs": [
    {
     "data": {
      "text/plain": [
       "(                 df        sum_sq       mean_sq          F        PR(>F)\n",
       " pm10            1.0  6.377018e+04  6.377018e+04   2.765502  9.719903e-02\n",
       " pm25            1.0  1.799606e+05  1.799606e+05   7.804296  5.494915e-03\n",
       " temp            1.0  5.145073e+05  5.145073e+05  22.312483  3.342708e-06\n",
       " humi            1.0  2.720569e+05  2.720569e+05  11.798209  6.630374e-04\n",
       " prec            1.0  3.763684e+04  3.763684e+04   1.632185  2.022359e-01\n",
       " CONTENT         1.0  1.149655e+06  1.149655e+06  49.856747  8.761462e-12\n",
       " CONTENT:temp    1.0  6.784586e+04  6.784586e+04   2.942251  8.716298e-02\n",
       " CONTENT:prec    1.0  5.104365e+04  5.104365e+04   2.213594  1.376873e-01\n",
       " CONTENT:humi    1.0  9.240293e+04  9.240293e+04   4.007210  4.606655e-02\n",
       " Residual      355.0  8.186005e+06  2.305917e+04        NaN           NaN,\n",
       " <class 'statsmodels.iolib.summary.Summary'>\n",
       " \"\"\"\n",
       "                             OLS Regression Results                            \n",
       " ==============================================================================\n",
       " Dep. Variable:                   서적문구   R-squared:                       0.229\n",
       " Model:                            OLS   Adj. R-squared:                  0.209\n",
       " Method:                 Least Squares   F-statistic:                     11.70\n",
       " Date:                Wed, 14 Aug 2019   Prob (F-statistic):           3.83e-16\n",
       " Time:                        17:07:30   Log-Likelihood:                -2346.2\n",
       " No. Observations:                 365   AIC:                             4712.\n",
       " Df Residuals:                     355   BIC:                             4751.\n",
       " Df Model:                           9                                         \n",
       " Covariance Type:            nonrobust                                         \n",
       " ================================================================================\n",
       "                    coef    std err          t      P>|t|      [0.025      0.975]\n",
       " --------------------------------------------------------------------------------\n",
       " Intercept      622.0605     76.768      8.103      0.000     471.084     773.037\n",
       " pm10            -1.3159      0.678     -1.941      0.053      -2.649       0.018\n",
       " pm25             3.5506      0.920      3.858      0.000       1.741       5.360\n",
       " temp             3.9367      2.011      1.958      0.051      -0.018       7.892\n",
       " humi             1.6517      1.664      0.993      0.321      -1.620       4.924\n",
       " prec            -0.7394      1.897     -0.390      0.697      -4.471       2.992\n",
       " CONTENT          0.0577      0.117      0.493      0.622      -0.172       0.288\n",
       " CONTENT:temp    -0.0018      0.004     -0.460      0.646      -0.009       0.006\n",
       " CONTENT:prec    -0.0005      0.003     -0.151      0.880      -0.007       0.006\n",
       " CONTENT:humi    -0.0053      0.003     -2.002      0.046      -0.011   -9.36e-05\n",
       " ==============================================================================\n",
       " Omnibus:                      151.759   Durbin-Watson:                   1.357\n",
       " Prob(Omnibus):                  0.000   Jarque-Bera (JB):             1162.005\n",
       " Skew:                           1.552   Prob(JB):                    4.72e-253\n",
       " Kurtosis:                      11.171   Cond. No.                     3.04e+05\n",
       " ==============================================================================\n",
       " \n",
       " Warnings:\n",
       " [1] Standard Errors assume that the covariance matrix of the errors is correctly specified.\n",
       " [2] The condition number is large, 3.04e+05. This might indicate that there are\n",
       " strong multicollinearity or other numerical problems.\n",
       " \"\"\")"
      ]
     },
     "execution_count": 62,
     "metadata": {},
     "output_type": "execute_result"
    }
   ],
   "source": [
    "anova('서적문구')"
   ]
  },
  {
   "cell_type": "code",
   "execution_count": 63,
   "metadata": {},
   "outputs": [
    {
     "data": {
      "image/png": "[encoded data removed]",
      "text/plain": [
       "<Figure size 864x432 with 1 Axes>"
      ]
     },
     "metadata": {
      "needs_background": "light"
     },
     "output_type": "display_data"
    }
   ],
   "source": [
    "coef_bar('서적문구')"
   ]
  },
  {
   "cell_type": "markdown",
   "metadata": {},
   "source": [
    "## 자동차판매 60 Null로 삭제"
   ]
  },
  {
   "cell_type": "markdown",
   "metadata": {},
   "source": [
    "## 자동차정비 62 Null로 삭제"
   ]
  },
  {
   "cell_type": "markdown",
   "metadata": {},
   "source": [
    "## 의료기관 70"
   ]
  },
  {
   "cell_type": "code",
   "execution_count": 64,
   "metadata": {},
   "outputs": [
    {
     "data": {
      "text/plain": [
       "(                 df        sum_sq       mean_sq          F        PR(>F)\n",
       " pm10            1.0  4.196407e+05  4.196407e+05   0.105493  7.455260e-01\n",
       " pm25            1.0  1.015221e+06  1.015221e+06   0.255216  6.137398e-01\n",
       " temp            1.0  5.716426e+06  5.716426e+06   1.437048  2.314173e-01\n",
       " humi            1.0  1.904237e+06  1.904237e+06   0.478705  4.894620e-01\n",
       " prec            1.0  4.291644e+06  4.291644e+06   1.078873  2.996568e-01\n",
       " CONTENT         1.0  1.768153e+08  1.768153e+08  44.449448  1.000344e-10\n",
       " CONTENT:temp    1.0  4.855060e+07  4.855060e+07  12.205097  5.368421e-04\n",
       " CONTENT:prec    1.0  2.135423e+06  2.135423e+06   0.536822  4.642361e-01\n",
       " CONTENT:humi    1.0  1.917764e+06  1.917764e+06   0.482105  4.879244e-01\n",
       " Residual      355.0  1.412153e+09  3.977895e+06        NaN           NaN,\n",
       " <class 'statsmodels.iolib.summary.Summary'>\n",
       " \"\"\"\n",
       "                             OLS Regression Results                            \n",
       " ==============================================================================\n",
       " Dep. Variable:                   의료기관   R-squared:                       0.147\n",
       " Model:                            OLS   Adj. R-squared:                  0.125\n",
       " Method:                 Least Squares   F-statistic:                     6.781\n",
       " Date:                Wed, 14 Aug 2019   Prob (F-statistic):           5.37e-09\n",
       " Time:                        17:07:31   Log-Likelihood:                -3286.2\n",
       " No. Observations:                 365   AIC:                             6592.\n",
       " Df Residuals:                     355   BIC:                             6631.\n",
       " Df Model:                           9                                         \n",
       " Covariance Type:            nonrobust                                         \n",
       " ================================================================================\n",
       "                    coef    std err          t      P>|t|      [0.025      0.975]\n",
       " --------------------------------------------------------------------------------\n",
       " Intercept     5861.3173   1008.286      5.813      0.000    3878.353    7844.282\n",
       " pm10             0.7750      8.905      0.087      0.931     -16.738      18.288\n",
       " pm25           -12.0327     12.086     -0.996      0.320     -35.802      11.737\n",
       " temp           -63.3804     26.413     -2.400      0.017    -115.326     -11.435\n",
       " humi            -8.0492     21.851     -0.368      0.713     -51.024      34.925\n",
       " prec             7.8808     24.919      0.316      0.752     -41.126      56.888\n",
       " CONTENT         -0.0021      1.536     -0.001      0.999      -3.024       3.020\n",
       " CONTENT:temp     0.1477      0.050      2.934      0.004       0.049       0.247\n",
       " CONTENT:prec    -0.0417      0.042     -0.993      0.321      -0.124       0.041\n",
       " CONTENT:humi     0.0243      0.035      0.694      0.488      -0.045       0.093\n",
       " ==============================================================================\n",
       " Omnibus:                       29.706   Durbin-Watson:                   2.698\n",
       " Prob(Omnibus):                  0.000   Jarque-Bera (JB):               35.540\n",
       " Skew:                          -0.762   Prob(JB):                     1.92e-08\n",
       " Kurtosis:                       2.874   Cond. No.                     3.04e+05\n",
       " ==============================================================================\n",
       " \n",
       " Warnings:\n",
       " [1] Standard Errors assume that the covariance matrix of the errors is correctly specified.\n",
       " [2] The condition number is large, 3.04e+05. This might indicate that there are\n",
       " strong multicollinearity or other numerical problems.\n",
       " \"\"\")"
      ]
     },
     "execution_count": 64,
     "metadata": {},
     "output_type": "execute_result"
    }
   ],
   "source": [
    "anova('의료기관')"
   ]
  },
  {
   "cell_type": "code",
   "execution_count": 65,
   "metadata": {},
   "outputs": [
    {
     "data": {
      "image/png": "[encoded data removed]",
      "text/plain": [
       "<Figure size 864x432 with 1 Axes>"
      ]
     },
     "metadata": {
      "needs_background": "light"
     },
     "output_type": "display_data"
    }
   ],
   "source": [
    "coef_bar('의료기관')"
   ]
  },
  {
   "cell_type": "markdown",
   "metadata": {},
   "source": [
    "## 보건위생 71"
   ]
  },
  {
   "cell_type": "code",
   "execution_count": 66,
   "metadata": {},
   "outputs": [
    {
     "data": {
      "text/plain": [
       "(                 df        sum_sq       mean_sq           F        PR(>F)\n",
       " pm10            1.0  6.938055e+01  6.938055e+01    0.000697  9.789598e-01\n",
       " pm25            1.0  3.412277e+05  3.412277e+05    3.425603  6.502328e-02\n",
       " temp            1.0  6.016235e+02  6.016235e+02    0.006040  9.380980e-01\n",
       " humi            1.0  1.508249e+06  1.508249e+06   15.141395  1.191184e-04\n",
       " prec            1.0  4.091322e+05  4.091322e+05    4.107301  4.344557e-02\n",
       " CONTENT         1.0  1.257252e+07  1.257252e+07  126.216191  2.910162e-25\n",
       " CONTENT:temp    1.0  2.012716e+05  2.012716e+05    2.020576  1.560581e-01\n",
       " CONTENT:prec    1.0  7.477067e+04  7.477067e+04    0.750627  3.868630e-01\n",
       " CONTENT:humi    1.0  5.486405e+05  5.486405e+05    5.507832  1.948050e-02\n",
       " Residual      355.0  3.536189e+07  9.961097e+04         NaN           NaN,\n",
       " <class 'statsmodels.iolib.summary.Summary'>\n",
       " \"\"\"\n",
       "                             OLS Regression Results                            \n",
       " ==============================================================================\n",
       " Dep. Variable:                   보건위생   R-squared:                       0.307\n",
       " Model:                            OLS   Adj. R-squared:                  0.289\n",
       " Method:                 Least Squares   F-statistic:                     17.46\n",
       " Date:                Wed, 14 Aug 2019   Prob (F-statistic):           6.21e-24\n",
       " Time:                        17:07:32   Log-Likelihood:                -2613.2\n",
       " No. Observations:                 365   AIC:                             5246.\n",
       " Df Residuals:                     355   BIC:                             5285.\n",
       " Df Model:                           9                                         \n",
       " Covariance Type:            nonrobust                                         \n",
       " ================================================================================\n",
       "                    coef    std err          t      P>|t|      [0.025      0.975]\n",
       " --------------------------------------------------------------------------------\n",
       " Intercept     1539.9932    159.555      9.652      0.000    1226.201    1853.785\n",
       " pm10            -2.7610      1.409     -1.959      0.051      -5.532       0.010\n",
       " pm25             5.5096      1.913      2.881      0.004       1.748       9.271\n",
       " temp            -2.9877      4.180     -0.715      0.475     -11.208       5.232\n",
       " humi             5.2157      3.458      1.508      0.132      -1.585      12.016\n",
       " prec            -5.2954      3.943     -1.343      0.180     -13.050       2.460\n",
       " CONTENT         -0.1080      0.243     -0.444      0.657      -0.586       0.370\n",
       " CONTENT:temp    -0.0011      0.008     -0.143      0.886      -0.017       0.015\n",
       " CONTENT:prec     0.0037      0.007      0.558      0.577      -0.009       0.017\n",
       " CONTENT:humi    -0.0130      0.006     -2.347      0.019      -0.024      -0.002\n",
       " ==============================================================================\n",
       " Omnibus:                        3.327   Durbin-Watson:                   1.310\n",
       " Prob(Omnibus):                  0.189   Jarque-Bera (JB):                3.669\n",
       " Skew:                           0.072   Prob(JB):                        0.160\n",
       " Kurtosis:                       3.470   Cond. No.                     3.04e+05\n",
       " ==============================================================================\n",
       " \n",
       " Warnings:\n",
       " [1] Standard Errors assume that the covariance matrix of the errors is correctly specified.\n",
       " [2] The condition number is large, 3.04e+05. This might indicate that there are\n",
       " strong multicollinearity or other numerical problems.\n",
       " \"\"\")"
      ]
     },
     "execution_count": 66,
     "metadata": {},
     "output_type": "execute_result"
    }
   ],
   "source": [
    "anova('보건위생')"
   ]
  },
  {
   "cell_type": "code",
   "execution_count": 67,
   "metadata": {},
   "outputs": [
    {
     "data": {
      "image/png": "[encoded data removed]",
      "text/plain": [
       "<Figure size 864x432 with 1 Axes>"
      ]
     },
     "metadata": {
      "needs_background": "light"
     },
     "output_type": "display_data"
    }
   ],
   "source": [
    "coef_bar('보건위생')"
   ]
  },
  {
   "cell_type": "markdown",
   "metadata": {},
   "source": [
    "## 요식업소 80"
   ]
  },
  {
   "cell_type": "code",
   "execution_count": 68,
   "metadata": {},
   "outputs": [
    {
     "data": {
      "text/plain": [
       "(                 df        sum_sq       mean_sq          F        PR(>F)\n",
       " pm10            1.0  7.016347e+07  7.016347e+07  24.349238  1.237797e-06\n",
       " pm25            1.0  1.435619e+06  1.435619e+06   0.498211  4.807501e-01\n",
       " temp            1.0  1.241945e+08  1.241945e+08  43.099931  1.848036e-10\n",
       " humi            1.0  1.321574e+08  1.321574e+08  45.863370  5.272369e-11\n",
       " prec            1.0  3.333907e+07  3.333907e+07  11.569853  7.466667e-04\n",
       " CONTENT         1.0  2.751808e+08  2.751808e+08  95.497593  3.927152e-20\n",
       " CONTENT:temp    1.0  1.945317e+07  1.945317e+07   6.750947  9.760125e-03\n",
       " CONTENT:prec    1.0  2.047818e+03  2.047818e+03   0.000711  9.787472e-01\n",
       " CONTENT:humi    1.0  1.910658e+07  1.910658e+07   6.630668  1.042804e-02\n",
       " Residual      355.0  1.022949e+09  2.881547e+06        NaN           NaN,\n",
       " <class 'statsmodels.iolib.summary.Summary'>\n",
       " \"\"\"\n",
       "                             OLS Regression Results                            \n",
       " ==============================================================================\n",
       " Dep. Variable:                   요식업소   R-squared:                       0.398\n",
       " Model:                            OLS   Adj. R-squared:                  0.382\n",
       " Method:                 Least Squares   F-statistic:                     26.03\n",
       " Date:                Wed, 14 Aug 2019   Prob (F-statistic):           2.36e-34\n",
       " Time:                        17:07:32   Log-Likelihood:                -3227.3\n",
       " No. Observations:                 365   AIC:                             6475.\n",
       " Df Residuals:                     355   BIC:                             6514.\n",
       " Df Model:                           9                                         \n",
       " Covariance Type:            nonrobust                                         \n",
       " ================================================================================\n",
       "                    coef    std err          t      P>|t|      [0.025      0.975]\n",
       " --------------------------------------------------------------------------------\n",
       " Intercept     1.716e+04    858.163     19.992      0.000    1.55e+04    1.88e+04\n",
       " pm10           -21.1979      7.579     -2.797      0.005     -36.103      -6.293\n",
       " pm25            27.9864     10.287      2.721      0.007       7.756      48.217\n",
       " temp            76.6235     22.480      3.408      0.001      32.412     120.835\n",
       " humi            16.0469     18.598      0.863      0.389     -20.529      52.623\n",
       " prec           -56.7574     21.209     -2.676      0.008     -98.468     -15.047\n",
       " CONTENT          0.7180      1.308      0.549      0.583      -1.854       3.290\n",
       " CONTENT:temp    -0.0527      0.043     -1.230      0.219      -0.137       0.032\n",
       " CONTENT:prec     0.0511      0.036      1.431      0.153      -0.019       0.121\n",
       " CONTENT:humi    -0.0767      0.030     -2.575      0.010      -0.135      -0.018\n",
       " ==============================================================================\n",
       " Omnibus:                       35.097   Durbin-Watson:                   1.229\n",
       " Prob(Omnibus):                  0.000   Jarque-Bera (JB):               81.380\n",
       " Skew:                          -0.489   Prob(JB):                     2.13e-18\n",
       " Kurtosis:                       5.097   Cond. No.                     3.04e+05\n",
       " ==============================================================================\n",
       " \n",
       " Warnings:\n",
       " [1] Standard Errors assume that the covariance matrix of the errors is correctly specified.\n",
       " [2] The condition number is large, 3.04e+05. This might indicate that there are\n",
       " strong multicollinearity or other numerical problems.\n",
       " \"\"\")"
      ]
     },
     "execution_count": 68,
     "metadata": {},
     "output_type": "execute_result"
    }
   ],
   "source": [
    "anova('요식업소')"
   ]
  },
  {
   "cell_type": "code",
   "execution_count": 69,
   "metadata": {},
   "outputs": [
    {
     "data": {
      "image/png": "[encoded data removed]",
      "text/plain": [
       "<Figure size 864x432 with 1 Axes>"
      ]
     },
     "metadata": {
      "needs_background": "light"
     },
     "output_type": "display_data"
    }
   ],
   "source": [
    "coef_bar('요식업소')"
   ]
  },
  {
   "cell_type": "markdown",
   "metadata": {},
   "source": [
    "## 음료식품 81"
   ]
  },
  {
   "cell_type": "code",
   "execution_count": 70,
   "metadata": {},
   "outputs": [
    {
     "data": {
      "text/plain": [
       "(                 df        sum_sq       mean_sq          F    PR(>F)\n",
       " pm10            1.0  1.338571e+06  1.338571e+06  10.275870  0.001470\n",
       " pm25            1.0  4.123154e+05  4.123154e+05   3.165241  0.076077\n",
       " temp            1.0  2.524566e+05  2.524566e+05   1.938046  0.164752\n",
       " humi            1.0  1.339656e+05  1.339656e+05   1.028420  0.311221\n",
       " prec            1.0  6.638326e+05  6.638326e+05   5.096075  0.024587\n",
       " CONTENT         1.0  3.176303e+06  3.176303e+06  24.383676  0.000001\n",
       " CONTENT:temp    1.0  2.342509e+06  2.342509e+06  17.982847  0.000028\n",
       " CONTENT:prec    1.0  5.163793e+04  5.163793e+04   0.396411  0.529353\n",
       " CONTENT:humi    1.0  2.701152e+05  2.701152e+05   2.073606  0.150748\n",
       " Residual      355.0  4.624354e+07  1.302635e+05        NaN       NaN,\n",
       " <class 'statsmodels.iolib.summary.Summary'>\n",
       " \"\"\"\n",
       "                             OLS Regression Results                            \n",
       " ==============================================================================\n",
       " Dep. Variable:                   음료식품   R-squared:                       0.157\n",
       " Model:                            OLS   Adj. R-squared:                  0.136\n",
       " Method:                 Least Squares   F-statistic:                     7.371\n",
       " Date:                Wed, 14 Aug 2019   Prob (F-statistic):           7.17e-10\n",
       " Time:                        17:07:33   Log-Likelihood:                -2662.2\n",
       " No. Observations:                 365   AIC:                             5344.\n",
       " Df Residuals:                     355   BIC:                             5383.\n",
       " Df Model:                           9                                         \n",
       " Covariance Type:            nonrobust                                         \n",
       " ================================================================================\n",
       "                    coef    std err          t      P>|t|      [0.025      0.975]\n",
       " --------------------------------------------------------------------------------\n",
       " Intercept     3198.6737    182.460     17.531      0.000    2839.835    3557.513\n",
       " pm10             0.2084      1.611      0.129      0.897      -2.961       3.377\n",
       " pm25            -3.3770      2.187     -1.544      0.123      -7.678       0.924\n",
       " temp           -13.4453      4.780     -2.813      0.005     -22.845      -4.045\n",
       " humi             4.8791      3.954      1.234      0.218      -2.898      12.656\n",
       " prec            -6.3120      4.509     -1.400      0.162     -15.180       2.556\n",
       " CONTENT          0.3298      0.278      1.186      0.236      -0.217       0.877\n",
       " CONTENT:temp     0.0409      0.009      4.492      0.000       0.023       0.059\n",
       " CONTENT:prec     0.0020      0.008      0.261      0.795      -0.013       0.017\n",
       " CONTENT:humi    -0.0091      0.006     -1.440      0.151      -0.022       0.003\n",
       " ==============================================================================\n",
       " Omnibus:                       57.860   Durbin-Watson:                   1.791\n",
       " Prob(Omnibus):                  0.000   Jarque-Bera (JB):              634.811\n",
       " Skew:                          -0.029   Prob(JB):                    1.42e-138\n",
       " Kurtosis:                       9.460   Cond. No.                     3.04e+05\n",
       " ==============================================================================\n",
       " \n",
       " Warnings:\n",
       " [1] Standard Errors assume that the covariance matrix of the errors is correctly specified.\n",
       " [2] The condition number is large, 3.04e+05. This might indicate that there are\n",
       " strong multicollinearity or other numerical problems.\n",
       " \"\"\")"
      ]
     },
     "execution_count": 70,
     "metadata": {},
     "output_type": "execute_result"
    }
   ],
   "source": [
    "anova('음료식품')"
   ]
  },
  {
   "cell_type": "code",
   "execution_count": 71,
   "metadata": {},
   "outputs": [
    {
     "data": {
      "image/png": "[encoded data removed]",
      "text/plain": [
       "<Figure size 864x432 with 1 Axes>"
      ]
     },
     "metadata": {
      "needs_background": "light"
     },
     "output_type": "display_data"
    }
   ],
   "source": [
    "coef_bar('음료식품')"
   ]
  },
  {
   "cell_type": "markdown",
   "metadata": {},
   "source": [
    "## 수리서비스 92 Null30"
   ]
  },
  {
   "cell_type": "code",
   "execution_count": 72,
   "metadata": {},
   "outputs": [],
   "source": [
    "# anova('수리서비스')"
   ]
  },
  {
   "cell_type": "code",
   "execution_count": 45,
   "metadata": {},
   "outputs": [],
   "source": [
    "# coef_bar('수리서비스')"
   ]
  },
  {
   "cell_type": "markdown",
   "metadata": {},
   "source": [
    "* age30\n",
    "* 레저용품(25) - pm25 prec\n",
    "* 유통업(10) - temp humi\n",
    "* 서적문구(25) - temp 신변 pm25 prec pm10\n",
    "* 요식(10) - 숙박 pm25 보건 레저용품\n",
    "* 음료(10)  - humi prec"
   ]
  },
  {
   "cell_type": "code",
   "execution_count": 73,
   "metadata": {},
   "outputs": [
    {
     "data": {
      "text/plain": [
       "(                 df        sum_sq       mean_sq          F        PR(>F)\n",
       " pm10            1.0  8.933597e+12  8.933597e+12  31.794280  3.501464e-08\n",
       " pm25            1.0  1.863205e+11  1.863205e+11   0.663106  4.160113e-01\n",
       " temp            1.0  2.735204e+12  2.735204e+12   9.734471  1.956494e-03\n",
       " humi            1.0  2.298315e+11  2.298315e+11   0.817960  3.663906e-01\n",
       " prec            1.0  2.489200e+12  2.489200e+12   8.858954  3.116577e-03\n",
       " CONTENT         1.0  2.325065e+12  2.325065e+12   8.274806  4.262771e-03\n",
       " CONTENT:temp    1.0  3.160753e+12  3.160753e+12  11.248982  8.826305e-04\n",
       " CONTENT:prec    1.0  1.199148e+09  1.199148e+09   0.004268  9.479498e-01\n",
       " CONTENT:humi    1.0  5.533765e+08  5.533765e+08   0.001969  9.646277e-01\n",
       " Residual      355.0  9.974835e+13  2.809813e+11        NaN           NaN,\n",
       " <class 'statsmodels.iolib.summary.Summary'>\n",
       " \"\"\"\n",
       "                             OLS Regression Results                            \n",
       " ==============================================================================\n",
       " Dep. Variable:              LCLS_10_P   R-squared:                       0.167\n",
       " Model:                            OLS   Adj. R-squared:                  0.146\n",
       " Method:                 Least Squares   F-statistic:                     7.933\n",
       " Date:                Wed, 14 Aug 2019   Prob (F-statistic):           1.06e-10\n",
       " Time:                        17:40:32   Log-Likelihood:                -5323.8\n",
       " No. Observations:                 365   AIC:                         1.067e+04\n",
       " Df Residuals:                     355   BIC:                         1.071e+04\n",
       " Df Model:                           9                                         \n",
       " Covariance Type:            nonrobust                                         \n",
       " ================================================================================\n",
       "                    coef    std err          t      P>|t|      [0.025      0.975]\n",
       " --------------------------------------------------------------------------------\n",
       " Intercept     6.265e+06   2.68e+05     23.381      0.000    5.74e+06    6.79e+06\n",
       " pm10            71.7001   2366.650      0.030      0.976   -4582.717    4726.117\n",
       " pm25         -4160.6633   3212.215     -1.295      0.196   -1.05e+04    2156.701\n",
       " temp          2.118e+04   7019.879      3.017      0.003    7373.718     3.5e+04\n",
       " humi          7136.1318   5807.531      1.229      0.220   -4285.359    1.86e+04\n",
       " prec         -7429.5742   6622.723     -1.122      0.263   -2.05e+04    5595.128\n",
       " CONTENT        169.1655    408.350      0.414      0.679    -633.923     972.254\n",
       " CONTENT:temp   -39.6888     13.380     -2.966      0.003     -66.003     -13.375\n",
       " CONTENT:prec    -0.3392     11.153     -0.030      0.976     -22.273      21.594\n",
       " CONTENT:humi    -0.4128      9.302     -0.044      0.965     -18.706      17.880\n",
       " ==============================================================================\n",
       " Omnibus:                      142.630   Durbin-Watson:                   0.931\n",
       " Prob(Omnibus):                  0.000   Jarque-Bera (JB):             1179.974\n",
       " Skew:                           1.409   Prob(JB):                    5.91e-257\n",
       " Kurtosis:                      11.345   Cond. No.                     3.04e+05\n",
       " ==============================================================================\n",
       " \n",
       " Warnings:\n",
       " [1] Standard Errors assume that the covariance matrix of the errors is correctly specified.\n",
       " [2] The condition number is large, 3.04e+05. This might indicate that there are\n",
       " strong multicollinearity or other numerical problems.\n",
       " \"\"\")"
      ]
     },
     "execution_count": 73,
     "metadata": {},
     "output_type": "execute_result"
    }
   ],
   "source": [
    "anova('LCLS_10_P')"
   ]
  },
  {
   "cell_type": "code",
   "execution_count": 74,
   "metadata": {},
   "outputs": [
    {
     "data": {
      "text/plain": [
       "(                 df        sum_sq       mean_sq          F        PR(>F)\n",
       " pm10            1.0  8.933597e+12  8.933597e+12  31.794280  3.501464e-08\n",
       " pm25            1.0  1.863205e+11  1.863205e+11   0.663106  4.160113e-01\n",
       " temp            1.0  2.735204e+12  2.735204e+12   9.734471  1.956494e-03\n",
       " humi            1.0  2.298315e+11  2.298315e+11   0.817960  3.663906e-01\n",
       " prec            1.0  2.489200e+12  2.489200e+12   8.858954  3.116577e-03\n",
       " CONTENT         1.0  2.325065e+12  2.325065e+12   8.274806  4.262771e-03\n",
       " CONTENT:temp    1.0  3.160753e+12  3.160753e+12  11.248982  8.826305e-04\n",
       " CONTENT:prec    1.0  1.199148e+09  1.199148e+09   0.004268  9.479498e-01\n",
       " CONTENT:humi    1.0  5.533765e+08  5.533765e+08   0.001969  9.646277e-01\n",
       " Residual      355.0  9.974835e+13  2.809813e+11        NaN           NaN,\n",
       " <class 'statsmodels.iolib.summary.Summary'>\n",
       " \"\"\"\n",
       "                             OLS Regression Results                            \n",
       " ==============================================================================\n",
       " Dep. Variable:              LCLS_10_P   R-squared:                       0.167\n",
       " Model:                            OLS   Adj. R-squared:                  0.146\n",
       " Method:                 Least Squares   F-statistic:                     7.933\n",
       " Date:                Wed, 14 Aug 2019   Prob (F-statistic):           1.06e-10\n",
       " Time:                        17:40:32   Log-Likelihood:                -5323.8\n",
       " No. Observations:                 365   AIC:                         1.067e+04\n",
       " Df Residuals:                     355   BIC:                         1.071e+04\n",
       " Df Model:                           9                                         \n",
       " Covariance Type:            nonrobust                                         \n",
       " ================================================================================\n",
       "                    coef    std err          t      P>|t|      [0.025      0.975]\n",
       " --------------------------------------------------------------------------------\n",
       " Intercept     6.265e+06   2.68e+05     23.381      0.000    5.74e+06    6.79e+06\n",
       " pm10            71.7001   2366.650      0.030      0.976   -4582.717    4726.117\n",
       " pm25         -4160.6633   3212.215     -1.295      0.196   -1.05e+04    2156.701\n",
       " temp          2.118e+04   7019.879      3.017      0.003    7373.718     3.5e+04\n",
       " humi          7136.1318   5807.531      1.229      0.220   -4285.359    1.86e+04\n",
       " prec         -7429.5742   6622.723     -1.122      0.263   -2.05e+04    5595.128\n",
       " CONTENT        169.1655    408.350      0.414      0.679    -633.923     972.254\n",
       " CONTENT:temp   -39.6888     13.380     -2.966      0.003     -66.003     -13.375\n",
       " CONTENT:prec    -0.3392     11.153     -0.030      0.976     -22.273      21.594\n",
       " CONTENT:humi    -0.4128      9.302     -0.044      0.965     -18.706      17.880\n",
       " ==============================================================================\n",
       " Omnibus:                      142.630   Durbin-Watson:                   0.931\n",
       " Prob(Omnibus):                  0.000   Jarque-Bera (JB):             1179.974\n",
       " Skew:                           1.409   Prob(JB):                    5.91e-257\n",
       " Kurtosis:                      11.345   Cond. No.                     3.04e+05\n",
       " ==============================================================================\n",
       " \n",
       " Warnings:\n",
       " [1] Standard Errors assume that the covariance matrix of the errors is correctly specified.\n",
       " [2] The condition number is large, 3.04e+05. This might indicate that there are\n",
       " strong multicollinearity or other numerical problems.\n",
       " \"\"\")"
      ]
     },
     "execution_count": 74,
     "metadata": {},
     "output_type": "execute_result"
    }
   ],
   "source": [
    "anova('LCLS_10_P')"
   ]
  },
  {
   "cell_type": "code",
   "execution_count": 75,
   "metadata": {},
   "outputs": [
    {
     "data": {
      "text/plain": [
       "(                 df        sum_sq       mean_sq         F    PR(>F)\n",
       " pm10            1.0  5.611045e+12  5.611045e+12  4.765399  0.029692\n",
       " pm25            1.0  3.639750e+11  3.639750e+11  0.309120  0.578571\n",
       " temp            1.0  1.437938e+12  1.437938e+12  1.221225  0.269869\n",
       " humi            1.0  4.251533e+12  4.251533e+12  3.610780  0.058216\n",
       " prec            1.0  2.697683e+11  2.697683e+11  0.229111  0.632478\n",
       " CONTENT         1.0  4.961800e+12  4.961800e+12  4.214002  0.040824\n",
       " CONTENT:temp    1.0  3.679487e+12  3.679487e+12  3.124948  0.077961\n",
       " CONTENT:prec    1.0  7.347821e+08  7.347821e+08  0.000624  0.980084\n",
       " CONTENT:humi    1.0  4.706199e+12  4.706199e+12  3.996923  0.046345\n",
       " Residual      355.0  4.179967e+14  1.177456e+12       NaN       NaN,\n",
       " <class 'statsmodels.iolib.summary.Summary'>\n",
       " \"\"\"\n",
       "                             OLS Regression Results                            \n",
       " ==============================================================================\n",
       " Dep. Variable:              LCLS_20_P   R-squared:                       0.057\n",
       " Model:                            OLS   Adj. R-squared:                  0.033\n",
       " Method:                 Least Squares   F-statistic:                     2.386\n",
       " Date:                Wed, 14 Aug 2019   Prob (F-statistic):             0.0124\n",
       " Time:                        17:40:32   Log-Likelihood:                -5585.3\n",
       " No. Observations:                 365   AIC:                         1.119e+04\n",
       " Df Residuals:                     355   BIC:                         1.123e+04\n",
       " Df Model:                           9                                         \n",
       " Covariance Type:            nonrobust                                         \n",
       " ================================================================================\n",
       "                    coef    std err          t      P>|t|      [0.025      0.975]\n",
       " --------------------------------------------------------------------------------\n",
       " Intercept     3.553e+06   5.49e+05      6.478      0.000    2.47e+06    4.63e+06\n",
       " pm10          2896.0061   4844.708      0.598      0.550   -6631.930    1.24e+04\n",
       " pm25          2226.3661   6575.643      0.339      0.735   -1.07e+04    1.52e+04\n",
       " temp          1.412e+04   1.44e+04      0.983      0.326   -1.41e+04    4.24e+04\n",
       " humi          1.442e+04   1.19e+04      1.213      0.226   -8963.587    3.78e+04\n",
       " prec         -1.609e+04   1.36e+04     -1.187      0.236   -4.28e+04    1.06e+04\n",
       " CONTENT       1543.2333    835.922      1.846      0.066    -100.748    3187.215\n",
       " CONTENT:temp   -20.0774     27.390     -0.733      0.464     -73.944      33.789\n",
       " CONTENT:prec    25.4415     22.830      1.114      0.266     -19.458      70.341\n",
       " CONTENT:humi   -38.0674     19.041     -1.999      0.046     -75.515      -0.620\n",
       " ==============================================================================\n",
       " Omnibus:                      480.552   Durbin-Watson:                   0.912\n",
       " Prob(Omnibus):                  0.000   Jarque-Bera (JB):            46281.213\n",
       " Skew:                           6.372   Prob(JB):                         0.00\n",
       " Kurtosis:                      56.673   Cond. No.                     3.04e+05\n",
       " ==============================================================================\n",
       " \n",
       " Warnings:\n",
       " [1] Standard Errors assume that the covariance matrix of the errors is correctly specified.\n",
       " [2] The condition number is large, 3.04e+05. This might indicate that there are\n",
       " strong multicollinearity or other numerical problems.\n",
       " \"\"\")"
      ]
     },
     "execution_count": 75,
     "metadata": {},
     "output_type": "execute_result"
    }
   ],
   "source": [
    "anova('LCLS_20_P')"
   ]
  },
  {
   "cell_type": "code",
   "execution_count": 117,
   "metadata": {},
   "outputs": [],
   "source": [
    "X = df_20.drop('LCLS_30_P', axis=1)\n",
    "Y = df_20['LCLS_30_P']"
   ]
  },
  {
   "cell_type": "code",
   "execution_count": 118,
   "metadata": {},
   "outputs": [],
   "source": [
    "from sklearn.preprocessing import StandardScaler\n",
    "\n",
    "scaler = StandardScaler()\n",
    "scaler.fit(X)\n",
    "X = scaler.transform(X)"
   ]
  },
  {
   "cell_type": "code",
   "execution_count": 124,
   "metadata": {},
   "outputs": [
    {
     "data": {
      "text/plain": [
       "array([[ 1.65866775,  1.2826175 ,  0.80454951, ...,  0.20402643,\n",
       "         0.33590762, -0.28623566],\n",
       "       [-1.13847957, -1.0460702 , -0.68373283, ...,  0.49247223,\n",
       "         0.40729178, -0.28623566],\n",
       "       [-0.30137709, -1.35026814, -0.76797523, ...,  0.45112861,\n",
       "         0.66379236, -0.27785815],\n",
       "       ...,\n",
       "       [-0.58721696, -0.49012223,  0.19519617, ..., -0.31578074,\n",
       "        -1.74645826, -0.28623566],\n",
       "       [ 1.43407928,  1.73891442,  2.50624593, ..., -0.76080088,\n",
       "         1.01890409, -0.13544035],\n",
       "       [ 2.23034749,  0.9521956 ,  1.98675115, ..., -0.80204354,\n",
       "        -0.58230009, -0.28623566]])"
      ]
     },
     "execution_count": 124,
     "metadata": {},
     "output_type": "execute_result"
    }
   ],
   "source": [
    "X"
   ]
  },
  {
   "cell_type": "code",
   "execution_count": 119,
   "metadata": {},
   "outputs": [],
   "source": [
    "lasso = Lasso()"
   ]
  },
  {
   "cell_type": "code",
   "execution_count": 120,
   "metadata": {},
   "outputs": [],
   "source": [
    "\n",
    "X_train, X_test, y_train, y_test = train_test_split(X, Y, test_size=0.33, random_state=42)"
   ]
  },
  {
   "cell_type": "code",
   "execution_count": 121,
   "metadata": {},
   "outputs": [
    {
     "data": {
      "text/plain": [
       "Lasso(alpha=1.0, copy_X=True, fit_intercept=True, max_iter=1000,\n",
       "      normalize=False, positive=False, precompute=False, random_state=None,\n",
       "      selection='cyclic', tol=0.0001, warm_start=False)"
      ]
     },
     "execution_count": 121,
     "metadata": {},
     "output_type": "execute_result"
    }
   ],
   "source": [
    "\n",
    "lasso.fit(X_train, y_train)"
   ]
  },
  {
   "cell_type": "code",
   "execution_count": 122,
   "metadata": {},
   "outputs": [
    {
     "data": {
      "text/plain": [
       "array([  -2851.28205843,  -14477.14266576,  -20203.450174  ,\n",
       "          7303.89012668,  261873.27724224,   81036.56740424,\n",
       "        105496.87296104,  -90322.40638142,   13270.90226776,\n",
       "        -69708.96207789,  157845.04322705,  -31034.96546358,\n",
       "        -51324.4776661 ,  207509.99256421,   57956.69480012,\n",
       "          1495.19027957, -116286.27115006,  -18258.41697008,\n",
       "         56123.79065005,   21025.19396028,  -28937.81036598,\n",
       "        103753.35102972,  -77885.57972673,  988616.71942858,\n",
       "       -145255.09197561, -143261.74318991])"
      ]
     },
     "execution_count": 122,
     "metadata": {},
     "output_type": "execute_result"
    }
   ],
   "source": [
    "lasso.coef_"
   ]
  },
  {
   "cell_type": "code",
   "execution_count": 123,
   "metadata": {},
   "outputs": [
    {
     "data": {
      "text/plain": [
       "<BarContainer object of 26 artists>"
      ]
     },
     "execution_count": 123,
     "metadata": {},
     "output_type": "execute_result"
    },
    {
     "data": {
      "text/plain": [
       "<Figure size 1296x432 with 0 Axes>"
      ]
     },
     "metadata": {},
     "output_type": "display_data"
    },
    {
     "data": {
      "image/png": "[encoded data removed]",
      "text/plain": [
       "<Figure size 864x432 with 1 Axes>"
      ]
     },
     "metadata": {
      "needs_background": "light"
     },
     "output_type": "display_data"
    }
   ],
   "source": [
    "plt.figure(figsize=(18,6))\n",
    "df_sukbak = pd.DataFrame(lasso.coef_, df_20.drop('LCLS_30_P',axis=1).columns).rename(columns={0:'coef'})\n",
    "df_sukbak = df_sukbak.sort_values(by='coef', ascending=False)\n",
    "\n",
    "# bar\n",
    "plt.figure(figsize=(12, 6))\n",
    "plt.barh(df_sukbak.index, df_sukbak['coef'])"
   ]
  },
  {
   "cell_type": "code",
   "execution_count": 94,
   "metadata": {},
   "outputs": [
    {
     "data": {
      "image/png": "[encoded data removed]",
      "text/plain": [
       "<Figure size 864x432 with 1 Axes>"
      ]
     },
     "metadata": {
      "needs_background": "light"
     },
     "output_type": "display_data"
    }
   ],
   "source": [
    "coef_bar('LCLS_30_P')"
   ]
  },
  {
   "cell_type": "code",
   "execution_count": null,
   "metadata": {},
   "outputs": [],
   "source": []
  },
  {
   "cell_type": "code",
   "execution_count": 76,
   "metadata": {},
   "outputs": [
    {
     "data": {
      "text/plain": [
       "(                 df        sum_sq       mean_sq            F         PR(>F)\n",
       " pm10            1.0  7.222900e+13  7.222900e+13   370.584506   4.620354e-57\n",
       " pm25            1.0  1.160194e+12  1.160194e+12     5.952593   1.518444e-02\n",
       " temp            1.0  3.596653e+14  3.596653e+14  1845.330820  1.092469e-142\n",
       " humi            1.0  5.339780e+13  5.339780e+13   273.967469   5.181462e-46\n",
       " prec            1.0  2.159204e+13  2.159204e+13   110.782016   9.946317e-23\n",
       " CONTENT         1.0  2.766559e+13  2.766559e+13   141.943518   9.261032e-28\n",
       " CONTENT:temp    1.0  4.271923e+12  4.271923e+12    21.917905   4.056146e-06\n",
       " CONTENT:prec    1.0  5.428322e+11  5.428322e+11     2.785103   9.602621e-02\n",
       " CONTENT:humi    1.0  1.281016e+11  1.281016e+11     0.657250   4.180758e-01\n",
       " Residual      355.0  6.919149e+13  1.949056e+11          NaN            NaN,\n",
       " <class 'statsmodels.iolib.summary.Summary'>\n",
       " \"\"\"\n",
       "                             OLS Regression Results                            \n",
       " ==============================================================================\n",
       " Dep. Variable:              LCLS_30_P   R-squared:                       0.887\n",
       " Model:                            OLS   Adj. R-squared:                  0.884\n",
       " Method:                 Least Squares   F-statistic:                     308.2\n",
       " Date:                Wed, 14 Aug 2019   Prob (F-statistic):          7.53e-162\n",
       " Time:                        17:40:33   Log-Likelihood:                -5257.1\n",
       " No. Observations:                 365   AIC:                         1.053e+04\n",
       " Df Residuals:                     355   BIC:                         1.057e+04\n",
       " Df Model:                           9                                         \n",
       " Covariance Type:            nonrobust                                         \n",
       " ================================================================================\n",
       "                    coef    std err          t      P>|t|      [0.025      0.975]\n",
       " --------------------------------------------------------------------------------\n",
       " Intercept     7.158e+06   2.23e+05     32.074      0.000    6.72e+06     7.6e+06\n",
       " pm10         -4339.4489   1971.095     -2.202      0.028   -8215.940    -462.958\n",
       " pm25          5688.1725   2675.335      2.126      0.034     426.675    1.09e+04\n",
       " temp          1.324e+05   5846.597     22.642      0.000    1.21e+05    1.44e+05\n",
       " humi         -1.982e+04   4836.877     -4.098      0.000   -2.93e+04   -1.03e+04\n",
       " prec          -2.82e+04   5515.820     -5.112      0.000    -3.9e+04   -1.74e+04\n",
       " CONTENT       -810.9734    340.099     -2.385      0.018   -1479.836    -142.111\n",
       " CONTENT:temp   -53.1951     11.144     -4.774      0.000     -75.111     -31.279\n",
       " CONTENT:prec     8.8587      9.289      0.954      0.341      -9.409      27.126\n",
       " CONTENT:humi     6.2805      7.747      0.811      0.418      -8.955      21.516\n",
       " ==============================================================================\n",
       " Omnibus:                       17.963   Durbin-Watson:                   1.450\n",
       " Prob(Omnibus):                  0.000   Jarque-Bera (JB):               27.209\n",
       " Skew:                          -0.359   Prob(JB):                     1.23e-06\n",
       " Kurtosis:                       4.128   Cond. No.                     3.04e+05\n",
       " ==============================================================================\n",
       " \n",
       " Warnings:\n",
       " [1] Standard Errors assume that the covariance matrix of the errors is correctly specified.\n",
       " [2] The condition number is large, 3.04e+05. This might indicate that there are\n",
       " strong multicollinearity or other numerical problems.\n",
       " \"\"\")"
      ]
     },
     "execution_count": 76,
     "metadata": {},
     "output_type": "execute_result"
    }
   ],
   "source": [
    "anova('LCLS_30_P')"
   ]
  },
  {
   "cell_type": "code",
   "execution_count": 77,
   "metadata": {},
   "outputs": [
    {
     "data": {
      "text/plain": [
       "(                 df        sum_sq       mean_sq         F    PR(>F)\n",
       " pm10            1.0  7.366107e+09  7.366107e+09  0.960162  0.327813\n",
       " pm25            1.0  1.148729e+10  1.148729e+10  1.497353  0.221891\n",
       " temp            1.0  1.325930e+09  1.325930e+09  0.172833  0.677857\n",
       " humi            1.0  1.113881e+10  1.113881e+10  1.451930  0.229021\n",
       " prec            1.0  7.639643e+09  7.639643e+09  0.995817  0.319004\n",
       " CONTENT         1.0  2.785305e+10  2.785305e+10  3.630609  0.057534\n",
       " CONTENT:temp    1.0  4.028943e+09  4.028943e+09  0.525167  0.469123\n",
       " CONTENT:prec    1.0  6.239313e+08  6.239313e+08  0.081329  0.775671\n",
       " CONTENT:humi    1.0  7.353784e+09  7.353784e+09  0.958556  0.328218\n",
       " Residual      355.0  2.723465e+12  7.671731e+09       NaN       NaN,\n",
       " <class 'statsmodels.iolib.summary.Summary'>\n",
       " \"\"\"\n",
       "                             OLS Regression Results                            \n",
       " ==============================================================================\n",
       " Dep. Variable:              LCLS_40_P   R-squared:                       0.028\n",
       " Model:                            OLS   Adj. R-squared:                  0.003\n",
       " Method:                 Least Squares   F-statistic:                     1.142\n",
       " Date:                Wed, 14 Aug 2019   Prob (F-statistic):              0.332\n",
       " Time:                        17:40:33   Log-Likelihood:                -4666.7\n",
       " No. Observations:                 365   AIC:                             9353.\n",
       " Df Residuals:                     355   BIC:                             9392.\n",
       " Df Model:                           9                                         \n",
       " Covariance Type:            nonrobust                                         \n",
       " ================================================================================\n",
       "                    coef    std err          t      P>|t|      [0.025      0.975]\n",
       " --------------------------------------------------------------------------------\n",
       " Intercept     5.467e+05   4.43e+04     12.346      0.000     4.6e+05    6.34e+05\n",
       " pm10           270.5873    391.059      0.692      0.489    -498.496    1039.670\n",
       " pm25          -548.0504    530.778     -1.033      0.303   -1591.914     495.814\n",
       " temp          1281.7261   1159.946      1.105      0.270    -999.503    3562.955\n",
       " humi          -966.1618    959.621     -1.007      0.315   -2853.418     921.094\n",
       " prec          -110.9121   1094.321     -0.101      0.919   -2263.078    2041.254\n",
       " CONTENT        -77.7944     67.475     -1.153      0.250    -210.495      54.906\n",
       " CONTENT:temp    -2.4441      2.211     -1.105      0.270      -6.792       1.904\n",
       " CONTENT:prec    -0.5468      1.843     -0.297      0.767      -4.171       3.077\n",
       " CONTENT:humi     1.5048      1.537      0.979      0.328      -1.518       4.527\n",
       " ==============================================================================\n",
       " Omnibus:                      356.368   Durbin-Watson:                   1.828\n",
       " Prob(Omnibus):                  0.000   Jarque-Bera (JB):            16957.661\n",
       " Skew:                           3.983   Prob(JB):                         0.00\n",
       " Kurtosis:                      35.428   Cond. No.                     3.04e+05\n",
       " ==============================================================================\n",
       " \n",
       " Warnings:\n",
       " [1] Standard Errors assume that the covariance matrix of the errors is correctly specified.\n",
       " [2] The condition number is large, 3.04e+05. This might indicate that there are\n",
       " strong multicollinearity or other numerical problems.\n",
       " \"\"\")"
      ]
     },
     "execution_count": 77,
     "metadata": {},
     "output_type": "execute_result"
    }
   ],
   "source": [
    "anova('LCLS_40_P')"
   ]
  },
  {
   "cell_type": "code",
   "execution_count": 78,
   "metadata": {},
   "outputs": [
    {
     "data": {
      "text/plain": [
       "(                 df        sum_sq       mean_sq          F        PR(>F)\n",
       " pm10            1.0  5.250810e+10  5.250810e+10   1.269774  2.605701e-01\n",
       " pm25            1.0  4.130655e+11  4.130655e+11   9.988933  1.710224e-03\n",
       " temp            1.0  7.832616e+07  7.832616e+07   0.001894  9.653103e-01\n",
       " humi            1.0  4.044735e+12  4.044735e+12  97.811565  1.567290e-20\n",
       " prec            1.0  1.348097e+12  1.348097e+12  32.600283  2.393819e-08\n",
       " CONTENT         1.0  1.078233e+12  1.078233e+12  26.074312  5.370406e-07\n",
       " CONTENT:temp    1.0  9.761613e+10  9.761613e+10   2.360597  1.253254e-01\n",
       " CONTENT:prec    1.0  3.080522e+10  3.080522e+10   0.744946  3.886639e-01\n",
       " CONTENT:humi    1.0  2.745522e+10  2.745522e+10   0.663934  4.157207e-01\n",
       " Residual      355.0  1.468007e+13  4.135231e+10        NaN           NaN,\n",
       " <class 'statsmodels.iolib.summary.Summary'>\n",
       " \"\"\"\n",
       "                             OLS Regression Results                            \n",
       " ==============================================================================\n",
       " Dep. Variable:              LCLS_50_P   R-squared:                       0.326\n",
       " Model:                            OLS   Adj. R-squared:                  0.309\n",
       " Method:                 Least Squares   F-statistic:                     19.06\n",
       " Date:                Wed, 14 Aug 2019   Prob (F-statistic):           5.67e-26\n",
       " Time:                        17:40:33   Log-Likelihood:                -4974.1\n",
       " No. Observations:                 365   AIC:                             9968.\n",
       " Df Residuals:                     355   BIC:                         1.001e+04\n",
       " Df Model:                           9                                         \n",
       " Covariance Type:            nonrobust                                         \n",
       " ================================================================================\n",
       "                    coef    std err          t      P>|t|      [0.025      0.975]\n",
       " --------------------------------------------------------------------------------\n",
       " Intercept     5.421e+05   1.03e+05      5.274      0.000     3.4e+05    7.44e+05\n",
       " pm10           319.3858    907.915      0.352      0.725   -1466.183    2104.954\n",
       " pm25           981.3862   1232.298      0.796      0.426   -1442.137    3404.909\n",
       " temp         -2616.6190   2693.028     -0.972      0.332   -7912.914    2679.676\n",
       " humi          7659.5042   2227.936      3.438      0.001    3277.891     1.2e+04\n",
       " prec          3677.5005   2540.667      1.447      0.149   -1319.151    8674.152\n",
       " CONTENT        -22.3212    156.655     -0.142      0.887    -330.409     285.767\n",
       " CONTENT:temp    -5.9259      5.133     -1.155      0.249     -16.021       4.169\n",
       " CONTENT:prec     4.9982      4.278      1.168      0.244      -3.416      13.413\n",
       " CONTENT:humi    -2.9076      3.568     -0.815      0.416      -9.925       4.110\n",
       " ==============================================================================\n",
       " Omnibus:                      170.767   Durbin-Watson:                   1.772\n",
       " Prob(Omnibus):                  0.000   Jarque-Bera (JB):              875.527\n",
       " Skew:                           1.972   Prob(JB):                    7.61e-191\n",
       " Kurtosis:                       9.482   Cond. No.                     3.04e+05\n",
       " ==============================================================================\n",
       " \n",
       " Warnings:\n",
       " [1] Standard Errors assume that the covariance matrix of the errors is correctly specified.\n",
       " [2] The condition number is large, 3.04e+05. This might indicate that there are\n",
       " strong multicollinearity or other numerical problems.\n",
       " \"\"\")"
      ]
     },
     "execution_count": 78,
     "metadata": {},
     "output_type": "execute_result"
    }
   ],
   "source": [
    "anova('LCLS_50_P')"
   ]
  },
  {
   "cell_type": "code",
   "execution_count": 79,
   "metadata": {},
   "outputs": [
    {
     "data": {
      "text/plain": [
       "(                 df        sum_sq       mean_sq         F    PR(>F)\n",
       " pm10            1.0  1.847013e+10  1.847013e+10  2.733306  0.099160\n",
       " pm25            1.0  3.295581e+09  3.295581e+09  0.487697  0.485413\n",
       " temp            1.0  1.640962e+09  1.640962e+09  0.242838  0.622468\n",
       " humi            1.0  2.305924e+09  2.305924e+09  0.341243  0.559484\n",
       " prec            1.0  2.118415e+09  2.118415e+09  0.313494  0.575897\n",
       " CONTENT         1.0  1.849493e+07  1.849493e+07  0.002737  0.958306\n",
       " CONTENT:temp    1.0  1.046713e+10  1.046713e+10  1.548981  0.214107\n",
       " CONTENT:prec    1.0  4.184764e+09  4.184764e+09  0.619283  0.431839\n",
       " CONTENT:humi    1.0  2.932973e+09  2.932973e+09  0.434037  0.510442\n",
       " Residual      355.0  2.398888e+12  6.757430e+09       NaN       NaN,\n",
       " <class 'statsmodels.iolib.summary.Summary'>\n",
       " \"\"\"\n",
       "                             OLS Regression Results                            \n",
       " ==============================================================================\n",
       " Dep. Variable:              LCLS_60_P   R-squared:                       0.019\n",
       " Model:                            OLS   Adj. R-squared:                 -0.006\n",
       " Method:                 Least Squares   F-statistic:                    0.7471\n",
       " Date:                Wed, 14 Aug 2019   Prob (F-statistic):              0.666\n",
       " Time:                        17:40:33   Log-Likelihood:                -4643.5\n",
       " No. Observations:                 365   AIC:                             9307.\n",
       " Df Residuals:                     355   BIC:                             9346.\n",
       " Df Model:                           9                                         \n",
       " Covariance Type:            nonrobust                                         \n",
       " ================================================================================\n",
       "                    coef    std err          t      P>|t|      [0.025      0.975]\n",
       " --------------------------------------------------------------------------------\n",
       " Intercept     1.283e+05   4.16e+04      3.087      0.002    4.66e+04     2.1e+05\n",
       " pm10           -16.4512    367.017     -0.045      0.964    -738.252     705.350\n",
       " pm25          -239.9177    498.146     -0.482      0.630   -1219.606     739.771\n",
       " temp         -1137.2479   1088.634     -1.045      0.297   -3278.230    1003.734\n",
       " humi           431.5751    900.624      0.479      0.632   -1339.655    2202.805\n",
       " prec           -37.7285   1027.043     -0.037      0.971   -2057.582    1982.125\n",
       " CONTENT         12.0519     63.326      0.190      0.849    -112.490     136.594\n",
       " CONTENT:temp     3.1300      2.075      1.508      0.132      -0.951       7.211\n",
       " CONTENT:prec    -0.5162      1.730     -0.298      0.766      -3.918       2.885\n",
       " CONTENT:humi    -0.9503      1.442     -0.659      0.510      -3.787       1.887\n",
       " ==============================================================================\n",
       " Omnibus:                      631.643   Durbin-Watson:                   0.879\n",
       " Prob(Omnibus):                  0.000   Jarque-Bera (JB):           239847.612\n",
       " Skew:                          10.068   Prob(JB):                         0.00\n",
       " Kurtosis:                     126.957   Cond. No.                     3.04e+05\n",
       " ==============================================================================\n",
       " \n",
       " Warnings:\n",
       " [1] Standard Errors assume that the covariance matrix of the errors is correctly specified.\n",
       " [2] The condition number is large, 3.04e+05. This might indicate that there are\n",
       " strong multicollinearity or other numerical problems.\n",
       " \"\"\")"
      ]
     },
     "execution_count": 79,
     "metadata": {},
     "output_type": "execute_result"
    }
   ],
   "source": [
    "anova('LCLS_60_P')"
   ]
  },
  {
   "cell_type": "code",
   "execution_count": 80,
   "metadata": {},
   "outputs": [
    {
     "data": {
      "text/plain": [
       "(                 df        sum_sq       mean_sq          F        PR(>F)\n",
       " pm10            1.0  9.549002e+08  9.549002e+08   1.549316  2.140575e-01\n",
       " pm25            1.0  1.886506e+07  1.886506e+07   0.030608  8.612167e-01\n",
       " temp            1.0  8.823692e+09  8.823692e+09  14.316352  1.813076e-04\n",
       " humi            1.0  9.815934e+09  9.815934e+09  15.926256  8.003357e-05\n",
       " prec            1.0  2.129735e+09  2.129735e+09   3.455475  6.386996e-02\n",
       " CONTENT         1.0  1.601366e+10  1.601366e+10  25.982005  5.614999e-07\n",
       " CONTENT:temp    1.0  9.074497e+07  9.074497e+07   0.147233  7.014236e-01\n",
       " CONTENT:prec    1.0  1.427255e+08  1.427255e+08   0.231571  6.306581e-01\n",
       " CONTENT:humi    1.0  2.143083e+08  2.143083e+08   0.347713  5.557856e-01\n",
       " Residual      355.0  2.187995e+11  6.163366e+08        NaN           NaN,\n",
       " <class 'statsmodels.iolib.summary.Summary'>\n",
       " \"\"\"\n",
       "                             OLS Regression Results                            \n",
       " ==============================================================================\n",
       " Dep. Variable:              LCLS_70_P   R-squared:                       0.149\n",
       " Model:                            OLS   Adj. R-squared:                  0.127\n",
       " Method:                 Least Squares   F-statistic:                     6.887\n",
       " Date:                Wed, 14 Aug 2019   Prob (F-statistic):           3.73e-09\n",
       " Time:                        17:40:33   Log-Likelihood:                -4206.5\n",
       " No. Observations:                 365   AIC:                             8433.\n",
       " Df Residuals:                     355   BIC:                             8472.\n",
       " Df Model:                           9                                         \n",
       " Covariance Type:            nonrobust                                         \n",
       " ================================================================================\n",
       "                    coef    std err          t      P>|t|      [0.025      0.975]\n",
       " --------------------------------------------------------------------------------\n",
       " Intercept      1.72e+05   1.26e+04     13.701      0.000    1.47e+05    1.97e+05\n",
       " pm10           -85.3355    110.842     -0.770      0.442    -303.325     132.654\n",
       " pm25           164.2343    150.444      1.092      0.276    -131.639     460.108\n",
       " temp           685.7376    328.776      2.086      0.038      39.144    1332.331\n",
       " humi          -386.6144    271.996     -1.421      0.156    -921.540     148.311\n",
       " prec           -31.1775    310.175     -0.101      0.920    -641.189     578.834\n",
       " CONTENT        -33.9714     19.125     -1.776      0.077     -71.584       3.641\n",
       " CONTENT:temp    -0.3267      0.627     -0.521      0.602      -1.559       0.906\n",
       " CONTENT:prec    -0.3789      0.522     -0.725      0.469      -1.406       0.648\n",
       " CONTENT:humi     0.2569      0.436      0.590      0.556      -0.600       1.114\n",
       " ==============================================================================\n",
       " Omnibus:                       42.367   Durbin-Watson:                   1.750\n",
       " Prob(Omnibus):                  0.000   Jarque-Bera (JB):               62.594\n",
       " Skew:                           0.763   Prob(JB):                     2.56e-14\n",
       " Kurtosis:                       4.338   Cond. No.                     3.04e+05\n",
       " ==============================================================================\n",
       " \n",
       " Warnings:\n",
       " [1] Standard Errors assume that the covariance matrix of the errors is correctly specified.\n",
       " [2] The condition number is large, 3.04e+05. This might indicate that there are\n",
       " strong multicollinearity or other numerical problems.\n",
       " \"\"\")"
      ]
     },
     "execution_count": 80,
     "metadata": {},
     "output_type": "execute_result"
    }
   ],
   "source": [
    "anova('LCLS_70_P')"
   ]
  },
  {
   "cell_type": "code",
   "execution_count": 81,
   "metadata": {},
   "outputs": [
    {
     "data": {
      "text/plain": [
       "(                 df        sum_sq       mean_sq          F        PR(>F)\n",
       " pm10            1.0  1.825324e+10  1.825324e+10  23.580050  1.799526e-06\n",
       " pm25            1.0  2.957240e+09  2.957240e+09   3.820246  5.142143e-02\n",
       " temp            1.0  6.302719e+10  6.302719e+10  81.420301  1.170467e-17\n",
       " humi            1.0  2.058987e+10  2.058987e+10  26.598571  4.171400e-07\n",
       " prec            1.0  6.722107e+09  6.722107e+09   8.683807  3.422640e-03\n",
       " CONTENT         1.0  8.718035e+09  8.718035e+09  11.262203  8.765598e-04\n",
       " CONTENT:temp    1.0  1.426982e+08  1.426982e+08   0.184342  6.679289e-01\n",
       " CONTENT:prec    1.0  2.457016e+07  2.457016e+07   0.031740  8.587002e-01\n",
       " CONTENT:humi    1.0  1.603779e+08  1.603779e+08   0.207181  6.492644e-01\n",
       " Residual      355.0  2.748044e+11  7.740968e+08        NaN           NaN,\n",
       " <class 'statsmodels.iolib.summary.Summary'>\n",
       " \"\"\"\n",
       "                             OLS Regression Results                            \n",
       " ==============================================================================\n",
       " Dep. Variable:              LCLS_80_P   R-squared:                       0.305\n",
       " Model:                            OLS   Adj. R-squared:                  0.287\n",
       " Method:                 Least Squares   F-statistic:                     17.31\n",
       " Date:                Wed, 14 Aug 2019   Prob (F-statistic):           9.84e-24\n",
       " Time:                        17:40:33   Log-Likelihood:                -4248.1\n",
       " No. Observations:                 365   AIC:                             8516.\n",
       " Df Residuals:                     355   BIC:                             8555.\n",
       " Df Model:                           9                                         \n",
       " Covariance Type:            nonrobust                                         \n",
       " ================================================================================\n",
       "                    coef    std err          t      P>|t|      [0.025      0.975]\n",
       " --------------------------------------------------------------------------------\n",
       " Intercept     1.132e+05   1.41e+04      8.048      0.000    8.55e+04    1.41e+05\n",
       " pm10            12.7160    124.220      0.102      0.919    -231.584     257.016\n",
       " pm25           -92.2649    168.602     -0.547      0.585    -423.850     239.320\n",
       " temp          1694.6160    368.459      4.599      0.000     969.980    2419.252\n",
       " humi          -473.5757    304.825     -1.554      0.121   -1073.065     125.914\n",
       " prec          -392.3182    347.613     -1.129      0.260   -1075.957     291.321\n",
       " CONTENT        -25.2277     21.433     -1.177      0.240     -67.380      16.925\n",
       " CONTENT:temp    -0.4237      0.702     -0.603      0.547      -1.805       0.957\n",
       " CONTENT:prec    -0.0584      0.585     -0.100      0.921      -1.210       1.093\n",
       " CONTENT:humi     0.2222      0.488      0.455      0.649      -0.738       1.182\n",
       " ==============================================================================\n",
       " Omnibus:                      129.819   Durbin-Watson:                   1.524\n",
       " Prob(Omnibus):                  0.000   Jarque-Bera (JB):              491.679\n",
       " Skew:                           1.542   Prob(JB):                    1.71e-107\n",
       " Kurtosis:                       7.777   Cond. No.                     3.04e+05\n",
       " ==============================================================================\n",
       " \n",
       " Warnings:\n",
       " [1] Standard Errors assume that the covariance matrix of the errors is correctly specified.\n",
       " [2] The condition number is large, 3.04e+05. This might indicate that there are\n",
       " strong multicollinearity or other numerical problems.\n",
       " \"\"\")"
      ]
     },
     "execution_count": 81,
     "metadata": {},
     "output_type": "execute_result"
    }
   ],
   "source": [
    "anova('LCLS_80_P')"
   ]
  },
  {
   "cell_type": "markdown",
   "metadata": {},
   "source": [
    "# Viz"
   ]
  },
  {
   "cell_type": "code",
   "execution_count": 29,
   "metadata": {},
   "outputs": [
    {
     "data": {
      "text/html": [
       "<div>\n",
       "<style scoped>\n",
       "    .dataframe tbody tr th:only-of-type {\n",
       "        vertical-align: middle;\n",
       "    }\n",
       "\n",
       "    .dataframe tbody tr th {\n",
       "        vertical-align: top;\n",
       "    }\n",
       "\n",
       "    .dataframe thead th {\n",
       "        text-align: right;\n",
       "    }\n",
       "</style>\n",
       "<table border=\"1\" class=\"dataframe\">\n",
       "  <thead>\n",
       "    <tr style=\"text-align: right;\">\n",
       "      <th></th>\n",
       "      <th>숙박</th>\n",
       "      <th>레저용품</th>\n",
       "      <th>레저업소</th>\n",
       "      <th>문화취미</th>\n",
       "      <th>연료</th>\n",
       "      <th>유통업</th>\n",
       "      <th>신변잡화</th>\n",
       "      <th>서적문구</th>\n",
       "      <th>의료기관</th>\n",
       "      <th>보건위생</th>\n",
       "      <th>요식업소</th>\n",
       "      <th>음료식품</th>\n",
       "      <th>pop</th>\n",
       "      <th>LCLS_10_P</th>\n",
       "      <th>LCLS_20_P</th>\n",
       "      <th>LCLS_30_P</th>\n",
       "      <th>LCLS_40_P</th>\n",
       "      <th>LCLS_50_P</th>\n",
       "      <th>LCLS_60_P</th>\n",
       "      <th>LCLS_70_P</th>\n",
       "      <th>LCLS_80_P</th>\n",
       "      <th>pm10</th>\n",
       "      <th>pm25</th>\n",
       "      <th>CONTENT</th>\n",
       "      <th>temp</th>\n",
       "      <th>humi</th>\n",
       "      <th>prec</th>\n",
       "    </tr>\n",
       "  </thead>\n",
       "  <tbody>\n",
       "    <tr>\n",
       "      <th>0</th>\n",
       "      <td>170.0</td>\n",
       "      <td>588.0</td>\n",
       "      <td>1435.0</td>\n",
       "      <td>481.0</td>\n",
       "      <td>1346.0</td>\n",
       "      <td>31921.0</td>\n",
       "      <td>91.0</td>\n",
       "      <td>875.0</td>\n",
       "      <td>1738.0</td>\n",
       "      <td>1946.0</td>\n",
       "      <td>17722.0</td>\n",
       "      <td>2929.0</td>\n",
       "      <td>265602.51</td>\n",
       "      <td>5.775959e+06</td>\n",
       "      <td>4.653959e+06</td>\n",
       "      <td>7.123695e+06</td>\n",
       "      <td>460575.529718</td>\n",
       "      <td>8.889679e+05</td>\n",
       "      <td>102938.908335</td>\n",
       "      <td>158304.695151</td>\n",
       "      <td>125768.139866</td>\n",
       "      <td>68.127083</td>\n",
       "      <td>35.221528</td>\n",
       "      <td>515</td>\n",
       "      <td>16.580764</td>\n",
       "      <td>56.770833</td>\n",
       "      <td>0.0</td>\n",
       "    </tr>\n",
       "    <tr>\n",
       "      <th>1</th>\n",
       "      <td>33.0</td>\n",
       "      <td>144.0</td>\n",
       "      <td>905.0</td>\n",
       "      <td>319.0</td>\n",
       "      <td>1198.0</td>\n",
       "      <td>27563.0</td>\n",
       "      <td>100.0</td>\n",
       "      <td>621.0</td>\n",
       "      <td>8115.0</td>\n",
       "      <td>1214.0</td>\n",
       "      <td>15401.0</td>\n",
       "      <td>3701.0</td>\n",
       "      <td>286616.48</td>\n",
       "      <td>5.798567e+06</td>\n",
       "      <td>4.068040e+06</td>\n",
       "      <td>6.922594e+06</td>\n",
       "      <td>517274.801816</td>\n",
       "      <td>7.320147e+05</td>\n",
       "      <td>85751.772442</td>\n",
       "      <td>189721.667844</td>\n",
       "      <td>159773.285544</td>\n",
       "      <td>71.924306</td>\n",
       "      <td>29.909028</td>\n",
       "      <td>888</td>\n",
       "      <td>19.631111</td>\n",
       "      <td>57.827083</td>\n",
       "      <td>0.0</td>\n",
       "    </tr>\n",
       "    <tr>\n",
       "      <th>2</th>\n",
       "      <td>74.0</td>\n",
       "      <td>86.0</td>\n",
       "      <td>875.0</td>\n",
       "      <td>270.0</td>\n",
       "      <td>953.0</td>\n",
       "      <td>27872.0</td>\n",
       "      <td>94.0</td>\n",
       "      <td>602.0</td>\n",
       "      <td>6476.0</td>\n",
       "      <td>1175.0</td>\n",
       "      <td>15424.0</td>\n",
       "      <td>3737.0</td>\n",
       "      <td>296960.76</td>\n",
       "      <td>5.882238e+06</td>\n",
       "      <td>4.045719e+06</td>\n",
       "      <td>6.679634e+06</td>\n",
       "      <td>396954.848039</td>\n",
       "      <td>6.941187e+05</td>\n",
       "      <td>109181.181977</td>\n",
       "      <td>146743.364491</td>\n",
       "      <td>83460.961960</td>\n",
       "      <td>72.979861</td>\n",
       "      <td>24.331944</td>\n",
       "      <td>856</td>\n",
       "      <td>19.192500</td>\n",
       "      <td>61.674306</td>\n",
       "      <td>0.1</td>\n",
       "    </tr>\n",
       "    <tr>\n",
       "      <th>3</th>\n",
       "      <td>62.0</td>\n",
       "      <td>85.0</td>\n",
       "      <td>877.0</td>\n",
       "      <td>155.0</td>\n",
       "      <td>1051.0</td>\n",
       "      <td>30752.0</td>\n",
       "      <td>103.0</td>\n",
       "      <td>668.0</td>\n",
       "      <td>5931.0</td>\n",
       "      <td>1241.0</td>\n",
       "      <td>16000.0</td>\n",
       "      <td>3715.0</td>\n",
       "      <td>298269.85</td>\n",
       "      <td>6.163598e+06</td>\n",
       "      <td>4.284199e+06</td>\n",
       "      <td>6.238373e+06</td>\n",
       "      <td>400734.630537</td>\n",
       "      <td>9.144325e+05</td>\n",
       "      <td>106260.195832</td>\n",
       "      <td>133827.487702</td>\n",
       "      <td>85526.543799</td>\n",
       "      <td>18.221528</td>\n",
       "      <td>10.952778</td>\n",
       "      <td>893</td>\n",
       "      <td>14.075417</td>\n",
       "      <td>60.129861</td>\n",
       "      <td>18.5</td>\n",
       "    </tr>\n",
       "    <tr>\n",
       "      <th>4</th>\n",
       "      <td>38.0</td>\n",
       "      <td>129.0</td>\n",
       "      <td>915.0</td>\n",
       "      <td>294.0</td>\n",
       "      <td>1019.0</td>\n",
       "      <td>25341.0</td>\n",
       "      <td>47.0</td>\n",
       "      <td>479.0</td>\n",
       "      <td>5600.0</td>\n",
       "      <td>1002.0</td>\n",
       "      <td>14145.0</td>\n",
       "      <td>3398.0</td>\n",
       "      <td>289595.03</td>\n",
       "      <td>6.131853e+06</td>\n",
       "      <td>3.723724e+06</td>\n",
       "      <td>5.135552e+06</td>\n",
       "      <td>430144.414585</td>\n",
       "      <td>1.099378e+06</td>\n",
       "      <td>120809.906702</td>\n",
       "      <td>149481.681510</td>\n",
       "      <td>89173.629481</td>\n",
       "      <td>8.854861</td>\n",
       "      <td>3.891667</td>\n",
       "      <td>864</td>\n",
       "      <td>8.620000</td>\n",
       "      <td>77.163194</td>\n",
       "      <td>10.5</td>\n",
       "    </tr>\n",
       "  </tbody>\n",
       "</table>\n",
       "</div>"
      ],
      "text/plain": [
       "      숙박   레저용품    레저업소   문화취미      연료      유통업   신변잡화   서적문구    의료기관    보건위생  \\\n",
       "0  170.0  588.0  1435.0  481.0  1346.0  31921.0   91.0  875.0  1738.0  1946.0   \n",
       "1   33.0  144.0   905.0  319.0  1198.0  27563.0  100.0  621.0  8115.0  1214.0   \n",
       "2   74.0   86.0   875.0  270.0   953.0  27872.0   94.0  602.0  6476.0  1175.0   \n",
       "3   62.0   85.0   877.0  155.0  1051.0  30752.0  103.0  668.0  5931.0  1241.0   \n",
       "4   38.0  129.0   915.0  294.0  1019.0  25341.0   47.0  479.0  5600.0  1002.0   \n",
       "\n",
       "      요식업소    음료식품        pop     LCLS_10_P     LCLS_20_P     LCLS_30_P  \\\n",
       "0  17722.0  2929.0  265602.51  5.775959e+06  4.653959e+06  7.123695e+06   \n",
       "1  15401.0  3701.0  286616.48  5.798567e+06  4.068040e+06  6.922594e+06   \n",
       "2  15424.0  3737.0  296960.76  5.882238e+06  4.045719e+06  6.679634e+06   \n",
       "3  16000.0  3715.0  298269.85  6.163598e+06  4.284199e+06  6.238373e+06   \n",
       "4  14145.0  3398.0  289595.03  6.131853e+06  3.723724e+06  5.135552e+06   \n",
       "\n",
       "       LCLS_40_P     LCLS_50_P      LCLS_60_P      LCLS_70_P      LCLS_80_P  \\\n",
       "0  460575.529718  8.889679e+05  102938.908335  158304.695151  125768.139866   \n",
       "1  517274.801816  7.320147e+05   85751.772442  189721.667844  159773.285544   \n",
       "2  396954.848039  6.941187e+05  109181.181977  146743.364491   83460.961960   \n",
       "3  400734.630537  9.144325e+05  106260.195832  133827.487702   85526.543799   \n",
       "4  430144.414585  1.099378e+06  120809.906702  149481.681510   89173.629481   \n",
       "\n",
       "        pm10       pm25  CONTENT       temp       humi  prec  \n",
       "0  68.127083  35.221528      515  16.580764  56.770833   0.0  \n",
       "1  71.924306  29.909028      888  19.631111  57.827083   0.0  \n",
       "2  72.979861  24.331944      856  19.192500  61.674306   0.1  \n",
       "3  18.221528  10.952778      893  14.075417  60.129861  18.5  \n",
       "4   8.854861   3.891667      864   8.620000  77.163194  10.5  "
      ]
     },
     "execution_count": 29,
     "metadata": {},
     "output_type": "execute_result"
    }
   ],
   "source": [
    "df_20.head()"
   ]
  }
 ],
 "metadata": {
  "kernelspec": {
   "display_name": "2019BigC",
   "language": "python",
   "name": "2019bigc"
  },
  "language_info": {
   "codemirror_mode": {
    "name": "ipython",
    "version": 3
   },
   "file_extension": ".py",
   "mimetype": "text/x-python",
   "name": "python",
   "nbconvert_exporter": "python",
   "pygments_lexer": "ipython3",
   "version": "3.7.3"
  }
 },
 "nbformat": 4,
 "nbformat_minor": 2
}

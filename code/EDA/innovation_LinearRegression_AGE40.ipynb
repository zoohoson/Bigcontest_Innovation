{
 "cells": [
  {
   "cell_type": "code",
   "execution_count": 1,
   "metadata": {},
   "outputs": [],
   "source": [
    "import warnings\n",
    "warnings.filterwarnings(\"ignore\")"
   ]
  },
  {
   "cell_type": "code",
   "execution_count": 2,
   "metadata": {},
   "outputs": [],
   "source": [
    "import pandas as pd\n",
    "import numpy as np\n",
    "pd.options.display.max_columns=50\n",
    "\n",
    "import sklearn\n",
    "from sklearn.linear_model import Lasso, Ridge\n",
    "from sklearn.model_selection import train_test_split\n",
    "\n",
    "import matplotlib.pyplot as plt\n",
    "%matplotlib inline"
   ]
  },
  {
   "cell_type": "code",
   "execution_count": 3,
   "metadata": {},
   "outputs": [],
   "source": [
    "# 필요한 패키지와 라이브러리를 가져옴\n",
    "import matplotlib as mpl\n",
    "import matplotlib.pyplot as plt\n",
    "import matplotlib.font_manager as fm\n",
    "path = 'C:\\\\Users\\\\JuhoSon\\\\AppData\\\\Local\\\\Microsoft\\\\Windows\\\\Fonts\\\\NanumGothicCoding-Bold.ttf'\n",
    "font_name = fm.FontProperties(fname=path, size=50).get_name()\n",
    "plt.rc('font', family=font_name)"
   ]
  },
  {
   "cell_type": "markdown",
   "metadata": {},
   "source": [
    "# Data Load"
   ]
  },
  {
   "cell_type": "code",
   "execution_count": 4,
   "metadata": {},
   "outputs": [],
   "source": [
    "df_20 = pd.read_csv('./data/innovation/create/df_age40.csv')"
   ]
  },
  {
   "cell_type": "code",
   "execution_count": 5,
   "metadata": {},
   "outputs": [
    {
     "data": {
      "text/plain": [
       "(365, 38)"
      ]
     },
     "execution_count": 5,
     "metadata": {},
     "output_type": "execute_result"
    }
   ],
   "source": [
    "df_20.shape"
   ]
  },
  {
   "cell_type": "code",
   "execution_count": 6,
   "metadata": {},
   "outputs": [
    {
     "data": {
      "text/html": [
       "<div>\n",
       "<style scoped>\n",
       "    .dataframe tbody tr th:only-of-type {\n",
       "        vertical-align: middle;\n",
       "    }\n",
       "\n",
       "    .dataframe tbody tr th {\n",
       "        vertical-align: top;\n",
       "    }\n",
       "\n",
       "    .dataframe thead th {\n",
       "        text-align: right;\n",
       "    }\n",
       "</style>\n",
       "<table border=\"1\" class=\"dataframe\">\n",
       "  <thead>\n",
       "    <tr style=\"text-align: right;\">\n",
       "      <th></th>\n",
       "      <th>age40숙박</th>\n",
       "      <th>age40레저용품</th>\n",
       "      <th>age40레저업소</th>\n",
       "      <th>age40문화취미</th>\n",
       "      <th>age40가구</th>\n",
       "      <th>age40전기</th>\n",
       "      <th>age40주방</th>\n",
       "      <th>age40연료</th>\n",
       "      <th>age40광학</th>\n",
       "      <th>age40가전</th>\n",
       "      <th>age40유통업</th>\n",
       "      <th>age40의복</th>\n",
       "      <th>age40직물</th>\n",
       "      <th>age40신변잡화</th>\n",
       "      <th>age40서적문구</th>\n",
       "      <th>age40사무통신</th>\n",
       "      <th>age40자동차판매</th>\n",
       "      <th>age40자동차정비</th>\n",
       "      <th>age40의료기관</th>\n",
       "      <th>age40보건위생</th>\n",
       "      <th>age40요식업소</th>\n",
       "      <th>age40음료식품</th>\n",
       "      <th>age40수리서비스</th>\n",
       "      <th>age40</th>\n",
       "      <th>LCLS_10_P</th>\n",
       "      <th>LCLS_20_P</th>\n",
       "      <th>LCLS_30_P</th>\n",
       "      <th>LCLS_40_P</th>\n",
       "      <th>LCLS_50_P</th>\n",
       "      <th>LCLS_60_P</th>\n",
       "      <th>LCLS_70_P</th>\n",
       "      <th>LCLS_80_P</th>\n",
       "      <th>pm10</th>\n",
       "      <th>pm25</th>\n",
       "      <th>CONTENT</th>\n",
       "      <th>temp</th>\n",
       "      <th>humi</th>\n",
       "      <th>강수량(mm)</th>\n",
       "    </tr>\n",
       "  </thead>\n",
       "  <tbody>\n",
       "    <tr>\n",
       "      <th>0</th>\n",
       "      <td>74.0</td>\n",
       "      <td>508.0</td>\n",
       "      <td>1155.0</td>\n",
       "      <td>733.0</td>\n",
       "      <td>NaN</td>\n",
       "      <td>NaN</td>\n",
       "      <td>NaN</td>\n",
       "      <td>1851.0</td>\n",
       "      <td>12.0</td>\n",
       "      <td>90.0</td>\n",
       "      <td>43393.0</td>\n",
       "      <td>608.0</td>\n",
       "      <td>NaN</td>\n",
       "      <td>156.0</td>\n",
       "      <td>2473.0</td>\n",
       "      <td>29.0</td>\n",
       "      <td>NaN</td>\n",
       "      <td>143.0</td>\n",
       "      <td>1846.0</td>\n",
       "      <td>2935.0</td>\n",
       "      <td>22259.0</td>\n",
       "      <td>4292.0</td>\n",
       "      <td>145.0</td>\n",
       "      <td>326534.25</td>\n",
       "      <td>5.775959e+06</td>\n",
       "      <td>4.653959e+06</td>\n",
       "      <td>7.123695e+06</td>\n",
       "      <td>460575.529718</td>\n",
       "      <td>8.889679e+05</td>\n",
       "      <td>102938.908335</td>\n",
       "      <td>158304.695151</td>\n",
       "      <td>125768.139866</td>\n",
       "      <td>68.127083</td>\n",
       "      <td>35.221528</td>\n",
       "      <td>515</td>\n",
       "      <td>16.580764</td>\n",
       "      <td>56.770833</td>\n",
       "      <td>0.0</td>\n",
       "    </tr>\n",
       "    <tr>\n",
       "      <th>1</th>\n",
       "      <td>47.0</td>\n",
       "      <td>164.0</td>\n",
       "      <td>580.0</td>\n",
       "      <td>226.0</td>\n",
       "      <td>NaN</td>\n",
       "      <td>NaN</td>\n",
       "      <td>NaN</td>\n",
       "      <td>1567.0</td>\n",
       "      <td>87.0</td>\n",
       "      <td>185.0</td>\n",
       "      <td>35439.0</td>\n",
       "      <td>510.0</td>\n",
       "      <td>8.0</td>\n",
       "      <td>89.0</td>\n",
       "      <td>2063.0</td>\n",
       "      <td>NaN</td>\n",
       "      <td>NaN</td>\n",
       "      <td>226.0</td>\n",
       "      <td>10584.0</td>\n",
       "      <td>1507.0</td>\n",
       "      <td>18013.0</td>\n",
       "      <td>5175.0</td>\n",
       "      <td>632.0</td>\n",
       "      <td>374955.29</td>\n",
       "      <td>5.798567e+06</td>\n",
       "      <td>4.068040e+06</td>\n",
       "      <td>6.922594e+06</td>\n",
       "      <td>517274.801816</td>\n",
       "      <td>7.320147e+05</td>\n",
       "      <td>85751.772442</td>\n",
       "      <td>189721.667844</td>\n",
       "      <td>159773.285544</td>\n",
       "      <td>71.924306</td>\n",
       "      <td>29.909028</td>\n",
       "      <td>888</td>\n",
       "      <td>19.631111</td>\n",
       "      <td>57.827083</td>\n",
       "      <td>0.0</td>\n",
       "    </tr>\n",
       "    <tr>\n",
       "      <th>2</th>\n",
       "      <td>39.0</td>\n",
       "      <td>122.0</td>\n",
       "      <td>758.0</td>\n",
       "      <td>213.0</td>\n",
       "      <td>20.0</td>\n",
       "      <td>NaN</td>\n",
       "      <td>NaN</td>\n",
       "      <td>1496.0</td>\n",
       "      <td>55.0</td>\n",
       "      <td>78.0</td>\n",
       "      <td>36553.0</td>\n",
       "      <td>457.0</td>\n",
       "      <td>12.0</td>\n",
       "      <td>116.0</td>\n",
       "      <td>1814.0</td>\n",
       "      <td>16.0</td>\n",
       "      <td>12.0</td>\n",
       "      <td>219.0</td>\n",
       "      <td>8320.0</td>\n",
       "      <td>1578.0</td>\n",
       "      <td>18875.0</td>\n",
       "      <td>4937.0</td>\n",
       "      <td>405.0</td>\n",
       "      <td>391194.83</td>\n",
       "      <td>5.882238e+06</td>\n",
       "      <td>4.045719e+06</td>\n",
       "      <td>6.679634e+06</td>\n",
       "      <td>396954.848039</td>\n",
       "      <td>6.941187e+05</td>\n",
       "      <td>109181.181977</td>\n",
       "      <td>146743.364491</td>\n",
       "      <td>83460.961960</td>\n",
       "      <td>72.979861</td>\n",
       "      <td>24.331944</td>\n",
       "      <td>856</td>\n",
       "      <td>19.192500</td>\n",
       "      <td>61.674306</td>\n",
       "      <td>0.1</td>\n",
       "    </tr>\n",
       "    <tr>\n",
       "      <th>3</th>\n",
       "      <td>39.0</td>\n",
       "      <td>178.0</td>\n",
       "      <td>777.0</td>\n",
       "      <td>213.0</td>\n",
       "      <td>17.0</td>\n",
       "      <td>NaN</td>\n",
       "      <td>21.0</td>\n",
       "      <td>1598.0</td>\n",
       "      <td>81.0</td>\n",
       "      <td>123.0</td>\n",
       "      <td>46101.0</td>\n",
       "      <td>437.0</td>\n",
       "      <td>20.0</td>\n",
       "      <td>144.0</td>\n",
       "      <td>1848.0</td>\n",
       "      <td>34.0</td>\n",
       "      <td>NaN</td>\n",
       "      <td>200.0</td>\n",
       "      <td>7963.0</td>\n",
       "      <td>1615.0</td>\n",
       "      <td>19880.0</td>\n",
       "      <td>5217.0</td>\n",
       "      <td>620.0</td>\n",
       "      <td>388102.91</td>\n",
       "      <td>6.163598e+06</td>\n",
       "      <td>4.284199e+06</td>\n",
       "      <td>6.238373e+06</td>\n",
       "      <td>400734.630537</td>\n",
       "      <td>9.144325e+05</td>\n",
       "      <td>106260.195832</td>\n",
       "      <td>133827.487702</td>\n",
       "      <td>85526.543799</td>\n",
       "      <td>18.221528</td>\n",
       "      <td>10.952778</td>\n",
       "      <td>893</td>\n",
       "      <td>14.075417</td>\n",
       "      <td>60.129861</td>\n",
       "      <td>18.5</td>\n",
       "    </tr>\n",
       "    <tr>\n",
       "      <th>4</th>\n",
       "      <td>100.0</td>\n",
       "      <td>142.0</td>\n",
       "      <td>728.0</td>\n",
       "      <td>295.0</td>\n",
       "      <td>30.0</td>\n",
       "      <td>NaN</td>\n",
       "      <td>NaN</td>\n",
       "      <td>1545.0</td>\n",
       "      <td>38.0</td>\n",
       "      <td>67.0</td>\n",
       "      <td>32439.0</td>\n",
       "      <td>322.0</td>\n",
       "      <td>8.0</td>\n",
       "      <td>58.0</td>\n",
       "      <td>1313.0</td>\n",
       "      <td>20.0</td>\n",
       "      <td>NaN</td>\n",
       "      <td>148.0</td>\n",
       "      <td>7195.0</td>\n",
       "      <td>1313.0</td>\n",
       "      <td>18571.0</td>\n",
       "      <td>4556.0</td>\n",
       "      <td>251.0</td>\n",
       "      <td>376708.57</td>\n",
       "      <td>6.131853e+06</td>\n",
       "      <td>3.723724e+06</td>\n",
       "      <td>5.135552e+06</td>\n",
       "      <td>430144.414585</td>\n",
       "      <td>1.099378e+06</td>\n",
       "      <td>120809.906702</td>\n",
       "      <td>149481.681510</td>\n",
       "      <td>89173.629481</td>\n",
       "      <td>8.854861</td>\n",
       "      <td>3.891667</td>\n",
       "      <td>864</td>\n",
       "      <td>8.620000</td>\n",
       "      <td>77.163194</td>\n",
       "      <td>10.5</td>\n",
       "    </tr>\n",
       "  </tbody>\n",
       "</table>\n",
       "</div>"
      ],
      "text/plain": [
       "   age40숙박  age40레저용품  age40레저업소  age40문화취미  age40가구  age40전기  age40주방  \\\n",
       "0     74.0      508.0     1155.0      733.0      NaN      NaN      NaN   \n",
       "1     47.0      164.0      580.0      226.0      NaN      NaN      NaN   \n",
       "2     39.0      122.0      758.0      213.0     20.0      NaN      NaN   \n",
       "3     39.0      178.0      777.0      213.0     17.0      NaN     21.0   \n",
       "4    100.0      142.0      728.0      295.0     30.0      NaN      NaN   \n",
       "\n",
       "   age40연료  age40광학  age40가전  age40유통업  age40의복  age40직물  age40신변잡화  \\\n",
       "0   1851.0     12.0     90.0   43393.0    608.0      NaN      156.0   \n",
       "1   1567.0     87.0    185.0   35439.0    510.0      8.0       89.0   \n",
       "2   1496.0     55.0     78.0   36553.0    457.0     12.0      116.0   \n",
       "3   1598.0     81.0    123.0   46101.0    437.0     20.0      144.0   \n",
       "4   1545.0     38.0     67.0   32439.0    322.0      8.0       58.0   \n",
       "\n",
       "   age40서적문구  age40사무통신  age40자동차판매  age40자동차정비  age40의료기관  age40보건위생  \\\n",
       "0     2473.0       29.0         NaN       143.0     1846.0     2935.0   \n",
       "1     2063.0        NaN         NaN       226.0    10584.0     1507.0   \n",
       "2     1814.0       16.0        12.0       219.0     8320.0     1578.0   \n",
       "3     1848.0       34.0         NaN       200.0     7963.0     1615.0   \n",
       "4     1313.0       20.0         NaN       148.0     7195.0     1313.0   \n",
       "\n",
       "   age40요식업소  age40음료식품  age40수리서비스      age40     LCLS_10_P     LCLS_20_P  \\\n",
       "0    22259.0     4292.0       145.0  326534.25  5.775959e+06  4.653959e+06   \n",
       "1    18013.0     5175.0       632.0  374955.29  5.798567e+06  4.068040e+06   \n",
       "2    18875.0     4937.0       405.0  391194.83  5.882238e+06  4.045719e+06   \n",
       "3    19880.0     5217.0       620.0  388102.91  6.163598e+06  4.284199e+06   \n",
       "4    18571.0     4556.0       251.0  376708.57  6.131853e+06  3.723724e+06   \n",
       "\n",
       "      LCLS_30_P      LCLS_40_P     LCLS_50_P      LCLS_60_P      LCLS_70_P  \\\n",
       "0  7.123695e+06  460575.529718  8.889679e+05  102938.908335  158304.695151   \n",
       "1  6.922594e+06  517274.801816  7.320147e+05   85751.772442  189721.667844   \n",
       "2  6.679634e+06  396954.848039  6.941187e+05  109181.181977  146743.364491   \n",
       "3  6.238373e+06  400734.630537  9.144325e+05  106260.195832  133827.487702   \n",
       "4  5.135552e+06  430144.414585  1.099378e+06  120809.906702  149481.681510   \n",
       "\n",
       "       LCLS_80_P       pm10       pm25  CONTENT       temp       humi  강수량(mm)  \n",
       "0  125768.139866  68.127083  35.221528      515  16.580764  56.770833      0.0  \n",
       "1  159773.285544  71.924306  29.909028      888  19.631111  57.827083      0.0  \n",
       "2   83460.961960  72.979861  24.331944      856  19.192500  61.674306      0.1  \n",
       "3   85526.543799  18.221528  10.952778      893  14.075417  60.129861     18.5  \n",
       "4   89173.629481   8.854861   3.891667      864   8.620000  77.163194     10.5  "
      ]
     },
     "execution_count": 6,
     "metadata": {},
     "output_type": "execute_result"
    }
   ],
   "source": [
    "df_20.head()"
   ]
  },
  {
   "cell_type": "code",
   "execution_count": 7,
   "metadata": {},
   "outputs": [
    {
     "data": {
      "text/plain": [
       "Text(0.5, 0, '업종')"
      ]
     },
     "execution_count": 7,
     "metadata": {},
     "output_type": "execute_result"
    },
    {
     "data": {
      "image/png": "[encoded data removed]",
      "text/plain": [
       "<Figure size 1296x432 with 1 Axes>"
      ]
     },
     "metadata": {
      "needs_background": "light"
     },
     "output_type": "display_data"
    }
   ],
   "source": [
    "df_null = pd.DataFrame(df_20.isnull().sum()).rename(columns={0:'null'})\n",
    "\n",
    "df_null.reset_index(inplace=True)\n",
    "\n",
    "drop_idx = np.where(df_null.null==0)[0]\n",
    "df_null.drop(drop_idx, inplace=True)\n",
    "\n",
    "df_null = df_null.sort_values(by='null', ascending=False).set_index('index')\n",
    "\n",
    "plt.figure(figsize=(18,6))\n",
    "plt.bar(df_null.index, df_null.null, color='y')\n",
    "plt.xticks(df_null.index)\n",
    "plt.ylabel('결측치 개수')\n",
    "plt.xlabel('업종')"
   ]
  },
  {
   "cell_type": "code",
   "execution_count": 7,
   "metadata": {},
   "outputs": [
    {
     "data": {
      "text/plain": [
       "age40숙박         0\n",
       "age40레저용품       0\n",
       "age40레저업소       0\n",
       "age40문화취미       0\n",
       "age40가구       112\n",
       "age40전기       294\n",
       "age40주방       196\n",
       "age40연료         0\n",
       "age40광학        18\n",
       "age40가전         1\n",
       "age40유통업        0\n",
       "age40의복         0\n",
       "age40직물       153\n",
       "age40신변잡화       0\n",
       "age40서적문구       0\n",
       "age40사무통신     110\n",
       "age40자동차판매    343\n",
       "age40자동차정비      0\n",
       "age40의료기관       0\n",
       "age40보건위생       0\n",
       "age40요식업소       0\n",
       "age40음료식품       0\n",
       "age40수리서비스      2\n",
       "age40           0\n",
       "LCLS_10_P       0\n",
       "LCLS_20_P       0\n",
       "LCLS_30_P       0\n",
       "LCLS_40_P       0\n",
       "LCLS_50_P       0\n",
       "LCLS_60_P       0\n",
       "LCLS_70_P       0\n",
       "LCLS_80_P       0\n",
       "pm10            0\n",
       "pm25            0\n",
       "CONTENT         0\n",
       "temp            0\n",
       "humi            0\n",
       "강수량(mm)         0\n",
       "dtype: int64"
      ]
     },
     "execution_count": 7,
     "metadata": {},
     "output_type": "execute_result"
    }
   ],
   "source": [
    "df_20.isnull().sum()"
   ]
  },
  {
   "cell_type": "code",
   "execution_count": 8,
   "metadata": {},
   "outputs": [
    {
     "name": "stdout",
     "output_type": "stream",
     "text": [
      "age40 null columns :  ['가구', '전기', '주방', '광학', '가전', '직물', '사무통신', '자동차판매', '수리서비스']\n"
     ]
    }
   ],
   "source": [
    "print('age40 null columns : ', ['가구', '전기', '주방', '광학', '가전', '직물', '사무통신', '자동차판매', '수리서비스'])"
   ]
  },
  {
   "cell_type": "code",
   "execution_count": 9,
   "metadata": {},
   "outputs": [],
   "source": [
    "df_20.drop(['age40가구', 'age40전기', 'age40주방', \n",
    "           'age40광학', 'age40가전', 'age40직물', \n",
    "           'age40사무통신', 'age40자동차판매', 'age40자동차정비',\n",
    "           \n",
    "           'age40수리서비스'], axis=1, inplace=True)"
   ]
  },
  {
   "cell_type": "code",
   "execution_count": 10,
   "metadata": {},
   "outputs": [],
   "source": [
    "df_20  = df_20.rename(columns={'강수량(mm)':'prec'})"
   ]
  },
  {
   "cell_type": "code",
   "execution_count": 11,
   "metadata": {},
   "outputs": [],
   "source": [
    "df_20.columns = ['숙박', '레저용품', '레저업소', '문화취미', '연료', '유통업',\n",
    "       '의복', '신변잡화', '서적문구', '의료기관', '보건위생',\n",
    "       '요식업소', '음료식품', 'pop', 'LCLS_10_P',\n",
    "       'LCLS_20_P', 'LCLS_30_P', 'LCLS_40_P', 'LCLS_50_P', 'LCLS_60_P',\n",
    "       'LCLS_70_P', 'LCLS_80_P', 'pm10', 'pm25', 'CONTENT', 'temp', 'humi',\n",
    "       'prec']"
   ]
  },
  {
   "cell_type": "markdown",
   "metadata": {},
   "source": [
    "# Two_way Anova (F)"
   ]
  },
  {
   "cell_type": "code",
   "execution_count": 12,
   "metadata": {},
   "outputs": [],
   "source": [
    "import scipy.stats as stats\n",
    "import pandas as pd\n",
    "import urllib\n",
    "from statsmodels.formula.api import ols\n",
    "from statsmodels.stats.anova import anova_lm\n",
    "import matplotlib.pyplot as plt\n",
    "import numpy as np\n",
    "%matplotlib inline"
   ]
  },
  {
   "cell_type": "code",
   "execution_count": 27,
   "metadata": {},
   "outputs": [],
   "source": [
    "# good_idx = np.where(df_20.pm10<=50)[0]\n",
    "\n",
    "# bad_idx = np.where(df_20.pm10>50)[0]\n",
    "\n",
    "# df_20['pm10_category']=[0]*len(df_20)"
   ]
  },
  {
   "cell_type": "code",
   "execution_count": 11,
   "metadata": {},
   "outputs": [],
   "source": [
    "# for i in range(len(df_20)):\n",
    "#     if i in good_idx:\n",
    "#         df_20['pm10_category'].iloc[i] = 'good'\n",
    "# #     elif i in middle_idx:\n",
    "# #         df_20['pm10_category'].iloc[i] = 'middle'\n",
    "#     else:\n",
    "#         df_20['pm10_category'].iloc[i] = 'bad'"
   ]
  },
  {
   "cell_type": "code",
   "execution_count": 12,
   "metadata": {},
   "outputs": [],
   "source": [
    "# good_idx_25 = np.where(df_20.pm25<=25)[0]\n",
    "\n",
    "# bad_idx_25 = np.where(df_20.pm25>25)[0]\n",
    "\n",
    "# df_20['pm25_category']=[0]*len(df_20)"
   ]
  },
  {
   "cell_type": "code",
   "execution_count": 13,
   "metadata": {},
   "outputs": [],
   "source": [
    "# for i in range(len(df_20)):\n",
    "#     if i in good_idx:\n",
    "#         df_20['pm25_category'].iloc[i] = 'good'\n",
    "# #     elif i in middle_idx:\n",
    "# #         df_20['pm10_category'].iloc[i] = 'middle'\n",
    "#     else:\n",
    "#         df_20['pm25_category'].iloc[i] = 'bad'"
   ]
  },
  {
   "cell_type": "code",
   "execution_count": 14,
   "metadata": {},
   "outputs": [],
   "source": [
    "# good_idx_temp = np.where(df_20.temp<=35)[0]\n",
    "\n",
    "# bad_idx_temp = np.where(df_20.temp>35)[0]\n",
    "\n",
    "# df_20['temp_category']=[0]*len(df_20)"
   ]
  },
  {
   "cell_type": "code",
   "execution_count": 15,
   "metadata": {},
   "outputs": [],
   "source": [
    "# for i in range(len(df_20)):\n",
    "#     if i in good_idx:\n",
    "#         df_20['temp_category'].iloc[i] = 'bad'\n",
    "# #     elif i in middle_idx:\n",
    "# #         df_20['pm10_category'].iloc[i] = 'middle'\n",
    "#     else:\n",
    "#         df_20['temp_category'].iloc[i] = 'good'"
   ]
  },
  {
   "cell_type": "code",
   "execution_count": 16,
   "metadata": {},
   "outputs": [],
   "source": [
    "# df_anova = df_20[['age20숙박_USE_AMT', 'pm10', 'pm25', 'temp']]"
   ]
  },
  {
   "cell_type": "markdown",
   "metadata": {},
   "source": [
    "* anova function"
   ]
  },
  {
   "cell_type": "code",
   "execution_count": 101,
   "metadata": {},
   "outputs": [],
   "source": [
    "formula = '숙박 ~ pm10 + pm25 + temp + humi + prec + pm10:temp + pm10:prec + pm25:temp + pm25:prec'\n",
    "# :뒤로넣으면 서로 겹치는 변수를 고려해서 반영해주는것.\n",
    "lm = ols(formula, df_20).fit()"
   ]
  },
  {
   "cell_type": "code",
   "execution_count": 102,
   "metadata": {},
   "outputs": [
    {
     "data": {
      "text/html": [
       "<div>\n",
       "<style scoped>\n",
       "    .dataframe tbody tr th:only-of-type {\n",
       "        vertical-align: middle;\n",
       "    }\n",
       "\n",
       "    .dataframe tbody tr th {\n",
       "        vertical-align: top;\n",
       "    }\n",
       "\n",
       "    .dataframe thead th {\n",
       "        text-align: right;\n",
       "    }\n",
       "</style>\n",
       "<table border=\"1\" class=\"dataframe\">\n",
       "  <thead>\n",
       "    <tr style=\"text-align: right;\">\n",
       "      <th></th>\n",
       "      <th>df</th>\n",
       "      <th>sum_sq</th>\n",
       "      <th>mean_sq</th>\n",
       "      <th>F</th>\n",
       "      <th>PR(&gt;F)</th>\n",
       "    </tr>\n",
       "  </thead>\n",
       "  <tbody>\n",
       "    <tr>\n",
       "      <th>pm10</th>\n",
       "      <td>1.0</td>\n",
       "      <td>7.507348e+04</td>\n",
       "      <td>75073.479325</td>\n",
       "      <td>4.968606</td>\n",
       "      <td>0.026437</td>\n",
       "    </tr>\n",
       "    <tr>\n",
       "      <th>pm25</th>\n",
       "      <td>1.0</td>\n",
       "      <td>3.745534e+04</td>\n",
       "      <td>37455.337109</td>\n",
       "      <td>2.478915</td>\n",
       "      <td>0.116273</td>\n",
       "    </tr>\n",
       "    <tr>\n",
       "      <th>temp</th>\n",
       "      <td>1.0</td>\n",
       "      <td>1.757853e+04</td>\n",
       "      <td>17578.528367</td>\n",
       "      <td>1.163404</td>\n",
       "      <td>0.281493</td>\n",
       "    </tr>\n",
       "    <tr>\n",
       "      <th>humi</th>\n",
       "      <td>1.0</td>\n",
       "      <td>1.467224e+04</td>\n",
       "      <td>14672.243167</td>\n",
       "      <td>0.971056</td>\n",
       "      <td>0.325088</td>\n",
       "    </tr>\n",
       "    <tr>\n",
       "      <th>prec</th>\n",
       "      <td>1.0</td>\n",
       "      <td>6.108905e+02</td>\n",
       "      <td>610.890518</td>\n",
       "      <td>0.040431</td>\n",
       "      <td>0.840756</td>\n",
       "    </tr>\n",
       "    <tr>\n",
       "      <th>pm10:temp</th>\n",
       "      <td>1.0</td>\n",
       "      <td>1.911251e+04</td>\n",
       "      <td>19112.513535</td>\n",
       "      <td>1.264928</td>\n",
       "      <td>0.261480</td>\n",
       "    </tr>\n",
       "    <tr>\n",
       "      <th>pm10:prec</th>\n",
       "      <td>1.0</td>\n",
       "      <td>5.420094e+00</td>\n",
       "      <td>5.420094</td>\n",
       "      <td>0.000359</td>\n",
       "      <td>0.984900</td>\n",
       "    </tr>\n",
       "    <tr>\n",
       "      <th>pm25:temp</th>\n",
       "      <td>1.0</td>\n",
       "      <td>2.306983e+03</td>\n",
       "      <td>2306.982800</td>\n",
       "      <td>0.152684</td>\n",
       "      <td>0.696218</td>\n",
       "    </tr>\n",
       "    <tr>\n",
       "      <th>pm25:prec</th>\n",
       "      <td>1.0</td>\n",
       "      <td>2.999732e+03</td>\n",
       "      <td>2999.732331</td>\n",
       "      <td>0.198532</td>\n",
       "      <td>0.656180</td>\n",
       "    </tr>\n",
       "    <tr>\n",
       "      <th>Residual</th>\n",
       "      <td>355.0</td>\n",
       "      <td>5.363896e+06</td>\n",
       "      <td>15109.567143</td>\n",
       "      <td>NaN</td>\n",
       "      <td>NaN</td>\n",
       "    </tr>\n",
       "  </tbody>\n",
       "</table>\n",
       "</div>"
      ],
      "text/plain": [
       "              df        sum_sq       mean_sq         F    PR(>F)\n",
       "pm10         1.0  7.507348e+04  75073.479325  4.968606  0.026437\n",
       "pm25         1.0  3.745534e+04  37455.337109  2.478915  0.116273\n",
       "temp         1.0  1.757853e+04  17578.528367  1.163404  0.281493\n",
       "humi         1.0  1.467224e+04  14672.243167  0.971056  0.325088\n",
       "prec         1.0  6.108905e+02    610.890518  0.040431  0.840756\n",
       "pm10:temp    1.0  1.911251e+04  19112.513535  1.264928  0.261480\n",
       "pm10:prec    1.0  5.420094e+00      5.420094  0.000359  0.984900\n",
       "pm25:temp    1.0  2.306983e+03   2306.982800  0.152684  0.696218\n",
       "pm25:prec    1.0  2.999732e+03   2999.732331  0.198532  0.656180\n",
       "Residual   355.0  5.363896e+06  15109.567143       NaN       NaN"
      ]
     },
     "execution_count": 102,
     "metadata": {},
     "output_type": "execute_result"
    }
   ],
   "source": [
    "anova_lm(lm)"
   ]
  },
  {
   "cell_type": "code",
   "execution_count": 13,
   "metadata": {},
   "outputs": [],
   "source": [
    "def anova(col_name):\n",
    "    formula = col_name + ' ~ pm10 + pm25 + temp + humi + CONTENT + prec + CONTENT:temp + CONTENT:prec + CONTENT:humi'\n",
    "    lm = ols(formula, df_20).fit()\n",
    "    return lm.summary()"
   ]
  },
  {
   "cell_type": "code",
   "execution_count": 33,
   "metadata": {},
   "outputs": [],
   "source": [
    "def coef_bar(colname):\n",
    "    X = df_20.drop(colname, axis=1)\n",
    "    Y = df_20[colname]\n",
    "    scaler = StandardScaler()\n",
    "    \n",
    "    scaler.fit(X)\n",
    "    X = scaler.transform(X)\n",
    "    X_train, X_test, y_train, y_test = train_test_split(X, Y, test_size=0.33, random_state=42)\n",
    "    ridge = Ridge(fit_intercept=True,\n",
    "    #               alpha=0.5\n",
    "                 )\n",
    "    # solver : svd, 초코피? 는 NE바로안될떄 적용하고, 뒤에 4개는 SGD에 사용\n",
    "    ridge.fit(X_train,y_train)\n",
    "    # lasso.fit(X_train, y_train)\n",
    "\n",
    "    # set_df\n",
    "    df_sukbak = pd.DataFrame(ridge.coef_, df_20.drop(colname,axis=1).columns).rename(columns={0:'coef'})\n",
    "    df_sukbak = df_sukbak.sort_values(by='coef', ascending=False)\n",
    "\n",
    "    # bar\n",
    "    plt.figure(figsize=(12, 6))\n",
    "    plt.barh(df_sukbak.index, df_sukbak['coef'])\n",
    "    # plt.xticks(df_sukbak['coef'])\n",
    "    return None"
   ]
  },
  {
   "cell_type": "markdown",
   "metadata": {},
   "source": [
    "# Check Coef"
   ]
  },
  {
   "cell_type": "code",
   "execution_count": 16,
   "metadata": {},
   "outputs": [],
   "source": [
    "from sklearn.linear_model import Lasso, Ridge"
   ]
  },
  {
   "cell_type": "code",
   "execution_count": 27,
   "metadata": {},
   "outputs": [],
   "source": [
    "from sklearn.model_selection import train_test_split\n",
    "from sklearn.preprocessing import normalize, StandardScaler"
   ]
  },
  {
   "cell_type": "markdown",
   "metadata": {},
   "source": [
    "## 숙박 10"
   ]
  },
  {
   "cell_type": "code",
   "execution_count": 44,
   "metadata": {},
   "outputs": [
    {
     "data": {
      "text/plain": [
       "(                 df         sum_sq       mean_sq          F        PR(>F)\n",
       " pm10            1.0    1476.893928   1476.893928   4.236722  4.028791e-02\n",
       " pm25            1.0      42.285514     42.285514   0.121303  7.278318e-01\n",
       " temp            1.0     373.095741    373.095741   1.070289  3.015844e-01\n",
       " humi            1.0     203.924827    203.924827   0.584993  4.448699e-01\n",
       " CONTENT         1.0   15011.442507  15011.442507  43.062884  1.879505e-10\n",
       " prec            1.0      61.888418     61.888418   0.177537  6.737531e-01\n",
       " CONTENT:temp    1.0     580.779835    580.779835   1.666066  1.976263e-01\n",
       " CONTENT:prec    1.0      13.244287     13.244287   0.037993  8.455677e-01\n",
       " CONTENT:humi    1.0     193.698828    193.698828   0.555658  4.565082e-01\n",
       " Residual      355.0  123750.702282    348.593528        NaN           NaN,\n",
       " <class 'statsmodels.iolib.summary.Summary'>\n",
       " \"\"\"\n",
       "                             OLS Regression Results                            \n",
       " ==============================================================================\n",
       " Dep. Variable:                     숙박   R-squared:                       0.127\n",
       " Model:                            OLS   Adj. R-squared:                  0.105\n",
       " Method:                 Least Squares   F-statistic:                     5.724\n",
       " Date:                Wed, 14 Aug 2019   Prob (F-statistic):           2.00e-07\n",
       " Time:                        17:11:27   Log-Likelihood:                -1581.2\n",
       " No. Observations:                 365   AIC:                             3182.\n",
       " Df Residuals:                     355   BIC:                             3221.\n",
       " Df Model:                           9                                         \n",
       " Covariance Type:            nonrobust                                         \n",
       " ================================================================================\n",
       "                    coef    std err          t      P>|t|      [0.025      0.975]\n",
       " --------------------------------------------------------------------------------\n",
       " Intercept       72.4921      9.410      7.704      0.000      53.985      90.999\n",
       " pm10             0.0014      0.073      0.020      0.984      -0.142       0.145\n",
       " pm25            -0.0242      0.098     -0.246      0.806      -0.218       0.169\n",
       " temp            -0.0686      0.247     -0.278      0.781      -0.555       0.418\n",
       " humi             0.1216      0.205      0.593      0.553      -0.281       0.525\n",
       " CONTENT         -0.0100      0.014     -0.696      0.487      -0.038       0.018\n",
       " prec            -0.0726      0.233     -0.311      0.756      -0.531       0.386\n",
       " CONTENT:temp    -0.0004      0.000     -0.859      0.391      -0.001       0.001\n",
       " CONTENT:prec     0.0002      0.000      0.572      0.568      -0.001       0.001\n",
       " CONTENT:humi    -0.0002      0.000     -0.745      0.457      -0.001       0.000\n",
       " ==============================================================================\n",
       " Omnibus:                        1.150   Durbin-Watson:                   1.740\n",
       " Prob(Omnibus):                  0.563   Jarque-Bera (JB):                1.252\n",
       " Skew:                           0.117   Prob(JB):                        0.535\n",
       " Kurtosis:                       2.833   Cond. No.                     3.03e+05\n",
       " ==============================================================================\n",
       " \n",
       " Warnings:\n",
       " [1] Standard Errors assume that the covariance matrix of the errors is correctly specified.\n",
       " [2] The condition number is large, 3.03e+05. This might indicate that there are\n",
       " strong multicollinearity or other numerical problems.\n",
       " \"\"\")"
      ]
     },
     "execution_count": 44,
     "metadata": {},
     "output_type": "execute_result"
    }
   ],
   "source": [
    "anova(\"숙박\")"
   ]
  },
  {
   "cell_type": "code",
   "execution_count": 34,
   "metadata": {},
   "outputs": [
    {
     "data": {
      "image/png": "[encoded data removed]",
      "text/plain": [
       "<Figure size 864x432 with 1 Axes>"
      ]
     },
     "metadata": {
      "needs_background": "light"
     },
     "output_type": "display_data"
    }
   ],
   "source": [
    "coef_bar('숙박')"
   ]
  },
  {
   "cell_type": "markdown",
   "metadata": {},
   "source": [
    "## 레저용품 20"
   ]
  },
  {
   "cell_type": "code",
   "execution_count": 36,
   "metadata": {},
   "outputs": [
    {
     "data": {
      "text/html": [
       "<table class=\"simpletable\">\n",
       "<caption>OLS Regression Results</caption>\n",
       "<tr>\n",
       "  <th>Dep. Variable:</th>          <td>레저용품</td>       <th>  R-squared:         </th> <td>   0.376</td>\n",
       "</tr>\n",
       "<tr>\n",
       "  <th>Model:</th>                   <td>OLS</td>       <th>  Adj. R-squared:    </th> <td>   0.360</td>\n",
       "</tr>\n",
       "<tr>\n",
       "  <th>Method:</th>             <td>Least Squares</td>  <th>  F-statistic:       </th> <td>   23.74</td>\n",
       "</tr>\n",
       "<tr>\n",
       "  <th>Date:</th>             <td>Fri, 23 Aug 2019</td> <th>  Prob (F-statistic):</th> <td>1.08e-31</td>\n",
       "</tr>\n",
       "<tr>\n",
       "  <th>Time:</th>                 <td>00:42:26</td>     <th>  Log-Likelihood:    </th> <td> -2294.7</td>\n",
       "</tr>\n",
       "<tr>\n",
       "  <th>No. Observations:</th>      <td>   365</td>      <th>  AIC:               </th> <td>   4609.</td>\n",
       "</tr>\n",
       "<tr>\n",
       "  <th>Df Residuals:</th>          <td>   355</td>      <th>  BIC:               </th> <td>   4648.</td>\n",
       "</tr>\n",
       "<tr>\n",
       "  <th>Df Model:</th>              <td>     9</td>      <th>                     </th>     <td> </td>   \n",
       "</tr>\n",
       "<tr>\n",
       "  <th>Covariance Type:</th>      <td>nonrobust</td>    <th>                     </th>     <td> </td>   \n",
       "</tr>\n",
       "</table>\n",
       "<table class=\"simpletable\">\n",
       "<tr>\n",
       "        <td></td>          <th>coef</th>     <th>std err</th>      <th>t</th>      <th>P>|t|</th>  <th>[0.025</th>    <th>0.975]</th>  \n",
       "</tr>\n",
       "<tr>\n",
       "  <th>Intercept</th>    <td>  394.3644</td> <td>   66.470</td> <td>    5.933</td> <td> 0.000</td> <td>  263.640</td> <td>  525.089</td>\n",
       "</tr>\n",
       "<tr>\n",
       "  <th>pm10</th>         <td>   -0.9573</td> <td>    0.515</td> <td>   -1.858</td> <td> 0.064</td> <td>   -1.971</td> <td>    0.056</td>\n",
       "</tr>\n",
       "<tr>\n",
       "  <th>pm25</th>         <td>    3.4690</td> <td>    0.695</td> <td>    4.988</td> <td> 0.000</td> <td>    2.101</td> <td>    4.837</td>\n",
       "</tr>\n",
       "<tr>\n",
       "  <th>temp</th>         <td>    1.9938</td> <td>    1.747</td> <td>    1.141</td> <td> 0.254</td> <td>   -1.441</td> <td>    5.429</td>\n",
       "</tr>\n",
       "<tr>\n",
       "  <th>humi</th>         <td>   -0.1372</td> <td>    1.448</td> <td>   -0.095</td> <td> 0.925</td> <td>   -2.984</td> <td>    2.710</td>\n",
       "</tr>\n",
       "<tr>\n",
       "  <th>CONTENT</th>      <td>   -0.0539</td> <td>    0.101</td> <td>   -0.531</td> <td> 0.595</td> <td>   -0.253</td> <td>    0.146</td>\n",
       "</tr>\n",
       "<tr>\n",
       "  <th>prec</th>         <td>   -1.3008</td> <td>    1.648</td> <td>   -0.789</td> <td> 0.430</td> <td>   -4.542</td> <td>    1.940</td>\n",
       "</tr>\n",
       "<tr>\n",
       "  <th>CONTENT:temp</th> <td>   -0.0098</td> <td>    0.003</td> <td>   -2.927</td> <td> 0.004</td> <td>   -0.016</td> <td>   -0.003</td>\n",
       "</tr>\n",
       "<tr>\n",
       "  <th>CONTENT:prec</th> <td>    0.0015</td> <td>    0.003</td> <td>    0.551</td> <td> 0.582</td> <td>   -0.004</td> <td>    0.007</td>\n",
       "</tr>\n",
       "<tr>\n",
       "  <th>CONTENT:humi</th> <td>   -0.0027</td> <td>    0.002</td> <td>   -1.154</td> <td> 0.249</td> <td>   -0.007</td> <td>    0.002</td>\n",
       "</tr>\n",
       "</table>\n",
       "<table class=\"simpletable\">\n",
       "<tr>\n",
       "  <th>Omnibus:</th>       <td>18.012</td> <th>  Durbin-Watson:     </th> <td>   1.339</td>\n",
       "</tr>\n",
       "<tr>\n",
       "  <th>Prob(Omnibus):</th> <td> 0.000</td> <th>  Jarque-Bera (JB):  </th> <td>  23.702</td>\n",
       "</tr>\n",
       "<tr>\n",
       "  <th>Skew:</th>          <td> 0.412</td> <th>  Prob(JB):          </th> <td>7.13e-06</td>\n",
       "</tr>\n",
       "<tr>\n",
       "  <th>Kurtosis:</th>      <td> 3.938</td> <th>  Cond. No.          </th> <td>3.03e+05</td>\n",
       "</tr>\n",
       "</table><br/><br/>Warnings:<br/>[1] Standard Errors assume that the covariance matrix of the errors is correctly specified.<br/>[2] The condition number is large, 3.03e+05. This might indicate that there are<br/>strong multicollinearity or other numerical problems."
      ],
      "text/plain": [
       "<class 'statsmodels.iolib.summary.Summary'>\n",
       "\"\"\"\n",
       "                            OLS Regression Results                            \n",
       "==============================================================================\n",
       "Dep. Variable:                   레저용품   R-squared:                       0.376\n",
       "Model:                            OLS   Adj. R-squared:                  0.360\n",
       "Method:                 Least Squares   F-statistic:                     23.74\n",
       "Date:                Fri, 23 Aug 2019   Prob (F-statistic):           1.08e-31\n",
       "Time:                        00:42:26   Log-Likelihood:                -2294.7\n",
       "No. Observations:                 365   AIC:                             4609.\n",
       "Df Residuals:                     355   BIC:                             4648.\n",
       "Df Model:                           9                                         \n",
       "Covariance Type:            nonrobust                                         \n",
       "================================================================================\n",
       "                   coef    std err          t      P>|t|      [0.025      0.975]\n",
       "--------------------------------------------------------------------------------\n",
       "Intercept      394.3644     66.470      5.933      0.000     263.640     525.089\n",
       "pm10            -0.9573      0.515     -1.858      0.064      -1.971       0.056\n",
       "pm25             3.4690      0.695      4.988      0.000       2.101       4.837\n",
       "temp             1.9938      1.747      1.141      0.254      -1.441       5.429\n",
       "humi            -0.1372      1.448     -0.095      0.925      -2.984       2.710\n",
       "CONTENT         -0.0539      0.101     -0.531      0.595      -0.253       0.146\n",
       "prec            -1.3008      1.648     -0.789      0.430      -4.542       1.940\n",
       "CONTENT:temp    -0.0098      0.003     -2.927      0.004      -0.016      -0.003\n",
       "CONTENT:prec     0.0015      0.003      0.551      0.582      -0.004       0.007\n",
       "CONTENT:humi    -0.0027      0.002     -1.154      0.249      -0.007       0.002\n",
       "==============================================================================\n",
       "Omnibus:                       18.012   Durbin-Watson:                   1.339\n",
       "Prob(Omnibus):                  0.000   Jarque-Bera (JB):               23.702\n",
       "Skew:                           0.412   Prob(JB):                     7.13e-06\n",
       "Kurtosis:                       3.938   Cond. No.                     3.03e+05\n",
       "==============================================================================\n",
       "\n",
       "Warnings:\n",
       "[1] Standard Errors assume that the covariance matrix of the errors is correctly specified.\n",
       "[2] The condition number is large, 3.03e+05. This might indicate that there are\n",
       "strong multicollinearity or other numerical problems.\n",
       "\"\"\""
      ]
     },
     "execution_count": 36,
     "metadata": {},
     "output_type": "execute_result"
    }
   ],
   "source": [
    "anova(\"레저용품\")"
   ]
  },
  {
   "cell_type": "code",
   "execution_count": 35,
   "metadata": {},
   "outputs": [
    {
     "data": {
      "image/png": "[encoded data removed]",
      "text/plain": [
       "<Figure size 864x432 with 1 Axes>"
      ]
     },
     "metadata": {
      "needs_background": "light"
     },
     "output_type": "display_data"
    }
   ],
   "source": [
    "coef_bar('레저용품')"
   ]
  },
  {
   "cell_type": "markdown",
   "metadata": {},
   "source": [
    "# 레저업소 21"
   ]
  },
  {
   "cell_type": "code",
   "execution_count": 20,
   "metadata": {},
   "outputs": [
    {
     "data": {
      "text/html": [
       "<table class=\"simpletable\">\n",
       "<caption>OLS Regression Results</caption>\n",
       "<tr>\n",
       "  <th>Dep. Variable:</th>          <td>레저업소</td>       <th>  R-squared:         </th> <td>   0.390</td>\n",
       "</tr>\n",
       "<tr>\n",
       "  <th>Model:</th>                   <td>OLS</td>       <th>  Adj. R-squared:    </th> <td>   0.375</td>\n",
       "</tr>\n",
       "<tr>\n",
       "  <th>Method:</th>             <td>Least Squares</td>  <th>  F-statistic:       </th> <td>   25.22</td>\n",
       "</tr>\n",
       "<tr>\n",
       "  <th>Date:</th>             <td>Fri, 23 Aug 2019</td> <th>  Prob (F-statistic):</th> <td>2.03e-33</td>\n",
       "</tr>\n",
       "<tr>\n",
       "  <th>Time:</th>                 <td>00:36:14</td>     <th>  Log-Likelihood:    </th> <td> -2473.7</td>\n",
       "</tr>\n",
       "<tr>\n",
       "  <th>No. Observations:</th>      <td>   365</td>      <th>  AIC:               </th> <td>   4967.</td>\n",
       "</tr>\n",
       "<tr>\n",
       "  <th>Df Residuals:</th>          <td>   355</td>      <th>  BIC:               </th> <td>   5006.</td>\n",
       "</tr>\n",
       "<tr>\n",
       "  <th>Df Model:</th>              <td>     9</td>      <th>                     </th>     <td> </td>   \n",
       "</tr>\n",
       "<tr>\n",
       "  <th>Covariance Type:</th>      <td>nonrobust</td>    <th>                     </th>     <td> </td>   \n",
       "</tr>\n",
       "</table>\n",
       "<table class=\"simpletable\">\n",
       "<tr>\n",
       "        <td></td>          <th>coef</th>     <th>std err</th>      <th>t</th>      <th>P>|t|</th>  <th>[0.025</th>    <th>0.975]</th>  \n",
       "</tr>\n",
       "<tr>\n",
       "  <th>Intercept</th>    <td> 1303.2630</td> <td>  108.530</td> <td>   12.008</td> <td> 0.000</td> <td> 1089.820</td> <td> 1516.706</td>\n",
       "</tr>\n",
       "<tr>\n",
       "  <th>pm10</th>         <td>   -1.3774</td> <td>    0.841</td> <td>   -1.637</td> <td> 0.103</td> <td>   -3.032</td> <td>    0.277</td>\n",
       "</tr>\n",
       "<tr>\n",
       "  <th>pm25</th>         <td>    2.8223</td> <td>    1.135</td> <td>    2.486</td> <td> 0.013</td> <td>    0.589</td> <td>    5.055</td>\n",
       "</tr>\n",
       "<tr>\n",
       "  <th>temp</th>         <td>    6.9807</td> <td>    2.852</td> <td>    2.448</td> <td> 0.015</td> <td>    1.372</td> <td>   12.590</td>\n",
       "</tr>\n",
       "<tr>\n",
       "  <th>humi</th>         <td>   -0.7439</td> <td>    2.364</td> <td>   -0.315</td> <td> 0.753</td> <td>   -5.393</td> <td>    3.905</td>\n",
       "</tr>\n",
       "<tr>\n",
       "  <th>CONTENT</th>      <td>   -0.2152</td> <td>    0.166</td> <td>   -1.300</td> <td> 0.194</td> <td>   -0.541</td> <td>    0.110</td>\n",
       "</tr>\n",
       "<tr>\n",
       "  <th>prec</th>         <td>   -3.1800</td> <td>    2.691</td> <td>   -1.182</td> <td> 0.238</td> <td>   -8.472</td> <td>    2.111</td>\n",
       "</tr>\n",
       "<tr>\n",
       "  <th>CONTENT:temp</th> <td>   -0.0250</td> <td>    0.005</td> <td>   -4.583</td> <td> 0.000</td> <td>   -0.036</td> <td>   -0.014</td>\n",
       "</tr>\n",
       "<tr>\n",
       "  <th>CONTENT:prec</th> <td>    0.0035</td> <td>    0.005</td> <td>    0.774</td> <td> 0.440</td> <td>   -0.005</td> <td>    0.012</td>\n",
       "</tr>\n",
       "<tr>\n",
       "  <th>CONTENT:humi</th> <td>   -0.0019</td> <td>    0.004</td> <td>   -0.495</td> <td> 0.621</td> <td>   -0.009</td> <td>    0.006</td>\n",
       "</tr>\n",
       "</table>\n",
       "<table class=\"simpletable\">\n",
       "<tr>\n",
       "  <th>Omnibus:</th>       <td> 7.187</td> <th>  Durbin-Watson:     </th> <td>   1.393</td>\n",
       "</tr>\n",
       "<tr>\n",
       "  <th>Prob(Omnibus):</th> <td> 0.027</td> <th>  Jarque-Bera (JB):  </th> <td>   8.646</td>\n",
       "</tr>\n",
       "<tr>\n",
       "  <th>Skew:</th>          <td> 0.200</td> <th>  Prob(JB):          </th> <td>  0.0133</td>\n",
       "</tr>\n",
       "<tr>\n",
       "  <th>Kurtosis:</th>      <td> 3.640</td> <th>  Cond. No.          </th> <td>3.03e+05</td>\n",
       "</tr>\n",
       "</table><br/><br/>Warnings:<br/>[1] Standard Errors assume that the covariance matrix of the errors is correctly specified.<br/>[2] The condition number is large, 3.03e+05. This might indicate that there are<br/>strong multicollinearity or other numerical problems."
      ],
      "text/plain": [
       "<class 'statsmodels.iolib.summary.Summary'>\n",
       "\"\"\"\n",
       "                            OLS Regression Results                            \n",
       "==============================================================================\n",
       "Dep. Variable:                   레저업소   R-squared:                       0.390\n",
       "Model:                            OLS   Adj. R-squared:                  0.375\n",
       "Method:                 Least Squares   F-statistic:                     25.22\n",
       "Date:                Fri, 23 Aug 2019   Prob (F-statistic):           2.03e-33\n",
       "Time:                        00:36:14   Log-Likelihood:                -2473.7\n",
       "No. Observations:                 365   AIC:                             4967.\n",
       "Df Residuals:                     355   BIC:                             5006.\n",
       "Df Model:                           9                                         \n",
       "Covariance Type:            nonrobust                                         \n",
       "================================================================================\n",
       "                   coef    std err          t      P>|t|      [0.025      0.975]\n",
       "--------------------------------------------------------------------------------\n",
       "Intercept     1303.2630    108.530     12.008      0.000    1089.820    1516.706\n",
       "pm10            -1.3774      0.841     -1.637      0.103      -3.032       0.277\n",
       "pm25             2.8223      1.135      2.486      0.013       0.589       5.055\n",
       "temp             6.9807      2.852      2.448      0.015       1.372      12.590\n",
       "humi            -0.7439      2.364     -0.315      0.753      -5.393       3.905\n",
       "CONTENT         -0.2152      0.166     -1.300      0.194      -0.541       0.110\n",
       "prec            -3.1800      2.691     -1.182      0.238      -8.472       2.111\n",
       "CONTENT:temp    -0.0250      0.005     -4.583      0.000      -0.036      -0.014\n",
       "CONTENT:prec     0.0035      0.005      0.774      0.440      -0.005       0.012\n",
       "CONTENT:humi    -0.0019      0.004     -0.495      0.621      -0.009       0.006\n",
       "==============================================================================\n",
       "Omnibus:                        7.187   Durbin-Watson:                   1.393\n",
       "Prob(Omnibus):                  0.027   Jarque-Bera (JB):                8.646\n",
       "Skew:                           0.200   Prob(JB):                       0.0133\n",
       "Kurtosis:                       3.640   Cond. No.                     3.03e+05\n",
       "==============================================================================\n",
       "\n",
       "Warnings:\n",
       "[1] Standard Errors assume that the covariance matrix of the errors is correctly specified.\n",
       "[2] The condition number is large, 3.03e+05. This might indicate that there are\n",
       "strong multicollinearity or other numerical problems.\n",
       "\"\"\""
      ]
     },
     "execution_count": 20,
     "metadata": {},
     "output_type": "execute_result"
    }
   ],
   "source": [
    "anova('레저업소')"
   ]
  },
  {
   "cell_type": "code",
   "execution_count": 37,
   "metadata": {},
   "outputs": [
    {
     "data": {
      "image/png": "[encoded data removed]",
      "text/plain": [
       "<Figure size 864x432 with 1 Axes>"
      ]
     },
     "metadata": {
      "needs_background": "light"
     },
     "output_type": "display_data"
    }
   ],
   "source": [
    "coef_bar('레저업소')"
   ]
  },
  {
   "cell_type": "markdown",
   "metadata": {},
   "source": [
    "## 문화취미 22"
   ]
  },
  {
   "cell_type": "code",
   "execution_count": 48,
   "metadata": {},
   "outputs": [
    {
     "data": {
      "text/plain": [
       "(                 df        sum_sq       mean_sq           F        PR(>F)\n",
       " pm10            1.0  2.625125e+04  2.625125e+04    0.305492  5.808076e-01\n",
       " pm25            1.0  2.356817e+05  2.356817e+05    2.742684  9.858413e-02\n",
       " temp            1.0  7.276048e+04  7.276048e+04    0.846731  3.581036e-01\n",
       " humi            1.0  2.154863e+06  2.154863e+06   25.076652  8.698246e-07\n",
       " CONTENT         1.0  9.055219e+06  9.055219e+06  105.377721  8.043428e-22\n",
       " prec            1.0  5.618231e+03  5.618231e+03    0.065381  7.983333e-01\n",
       " CONTENT:temp    1.0  2.208072e+06  2.208072e+06   25.695852  6.446969e-07\n",
       " CONTENT:prec    1.0  2.512899e+04  2.512899e+04    0.292432  5.890054e-01\n",
       " CONTENT:humi    1.0  6.490271e+04  6.490271e+04    0.755288  3.853943e-01\n",
       " Residual      355.0  3.050552e+07  8.593106e+04         NaN           NaN,\n",
       " <class 'statsmodels.iolib.summary.Summary'>\n",
       " \"\"\"\n",
       "                             OLS Regression Results                            \n",
       " ==============================================================================\n",
       " Dep. Variable:                   문화취미   R-squared:                       0.312\n",
       " Model:                            OLS   Adj. R-squared:                  0.295\n",
       " Method:                 Least Squares   F-statistic:                     17.91\n",
       " Date:                Wed, 14 Aug 2019   Prob (F-statistic):           1.67e-24\n",
       " Time:                        17:11:29   Log-Likelihood:                -2586.3\n",
       " No. Observations:                 365   AIC:                             5193.\n",
       " Df Residuals:                     355   BIC:                             5232.\n",
       " Df Model:                           9                                         \n",
       " Covariance Type:            nonrobust                                         \n",
       " ================================================================================\n",
       "                    coef    std err          t      P>|t|      [0.025      0.975]\n",
       " --------------------------------------------------------------------------------\n",
       " Intercept      998.0845    147.746      6.755      0.000     707.518    1288.651\n",
       " pm10            -1.5607      1.146     -1.362      0.174      -3.814       0.692\n",
       " pm25             3.9948      1.546      2.584      0.010       0.955       7.035\n",
       " temp            17.3610      3.882      4.472      0.000       9.725      24.997\n",
       " humi            -6.9120      3.218     -2.148      0.032     -13.241      -0.583\n",
       " CONTENT         -0.4162      0.225     -1.847      0.066      -0.859       0.027\n",
       " prec             0.3570      3.663      0.097      0.922      -6.847       7.561\n",
       " CONTENT:temp    -0.0369      0.007     -4.969      0.000      -0.052      -0.022\n",
       " CONTENT:prec    -0.0002      0.006     -0.025      0.980      -0.012       0.012\n",
       " CONTENT:humi     0.0045      0.005      0.869      0.385      -0.006       0.015\n",
       " ==============================================================================\n",
       " Omnibus:                       43.342   Durbin-Watson:                   0.904\n",
       " Prob(Omnibus):                  0.000   Jarque-Bera (JB):               61.707\n",
       " Skew:                           0.797   Prob(JB):                     3.99e-14\n",
       " Kurtosis:                       4.231   Cond. No.                     3.03e+05\n",
       " ==============================================================================\n",
       " \n",
       " Warnings:\n",
       " [1] Standard Errors assume that the covariance matrix of the errors is correctly specified.\n",
       " [2] The condition number is large, 3.03e+05. This might indicate that there are\n",
       " strong multicollinearity or other numerical problems.\n",
       " \"\"\")"
      ]
     },
     "execution_count": 48,
     "metadata": {},
     "output_type": "execute_result"
    }
   ],
   "source": [
    "anova(\"문화취미\")"
   ]
  },
  {
   "cell_type": "code",
   "execution_count": 24,
   "metadata": {},
   "outputs": [
    {
     "data": {
      "image/png": "[encoded data removed]",
      "text/plain": [
       "<Figure size 864x432 with 1 Axes>"
      ]
     },
     "metadata": {
      "needs_background": "light"
     },
     "output_type": "display_data"
    }
   ],
   "source": [
    "coef_bar('문화취미')"
   ]
  },
  {
   "cell_type": "markdown",
   "metadata": {},
   "source": [
    "# 가구 30 Null로 삭제"
   ]
  },
  {
   "cell_type": "markdown",
   "metadata": {},
   "source": [
    "## 전기 31 Null로 삭제"
   ]
  },
  {
   "cell_type": "markdown",
   "metadata": {},
   "source": [
    "## 주방용구 32 Null로 삭제"
   ]
  },
  {
   "cell_type": "markdown",
   "metadata": {},
   "source": [
    "# 연료 33"
   ]
  },
  {
   "cell_type": "code",
   "execution_count": 38,
   "metadata": {},
   "outputs": [
    {
     "data": {
      "text/html": [
       "<table class=\"simpletable\">\n",
       "<caption>OLS Regression Results</caption>\n",
       "<tr>\n",
       "  <th>Dep. Variable:</th>           <td>연료</td>        <th>  R-squared:         </th> <td>   0.372</td>\n",
       "</tr>\n",
       "<tr>\n",
       "  <th>Model:</th>                   <td>OLS</td>       <th>  Adj. R-squared:    </th> <td>   0.356</td>\n",
       "</tr>\n",
       "<tr>\n",
       "  <th>Method:</th>             <td>Least Squares</td>  <th>  F-statistic:       </th> <td>   23.34</td>\n",
       "</tr>\n",
       "<tr>\n",
       "  <th>Date:</th>             <td>Fri, 23 Aug 2019</td> <th>  Prob (F-statistic):</th> <td>3.19e-31</td>\n",
       "</tr>\n",
       "<tr>\n",
       "  <th>Time:</th>                 <td>00:42:58</td>     <th>  Log-Likelihood:    </th> <td> -2452.5</td>\n",
       "</tr>\n",
       "<tr>\n",
       "  <th>No. Observations:</th>      <td>   365</td>      <th>  AIC:               </th> <td>   4925.</td>\n",
       "</tr>\n",
       "<tr>\n",
       "  <th>Df Residuals:</th>          <td>   355</td>      <th>  BIC:               </th> <td>   4964.</td>\n",
       "</tr>\n",
       "<tr>\n",
       "  <th>Df Model:</th>              <td>     9</td>      <th>                     </th>     <td> </td>   \n",
       "</tr>\n",
       "<tr>\n",
       "  <th>Covariance Type:</th>      <td>nonrobust</td>    <th>                     </th>     <td> </td>   \n",
       "</tr>\n",
       "</table>\n",
       "<table class=\"simpletable\">\n",
       "<tr>\n",
       "        <td></td>          <th>coef</th>     <th>std err</th>      <th>t</th>      <th>P>|t|</th>  <th>[0.025</th>    <th>0.975]</th>  \n",
       "</tr>\n",
       "<tr>\n",
       "  <th>Intercept</th>    <td> 1925.5587</td> <td>  102.412</td> <td>   18.802</td> <td> 0.000</td> <td> 1724.148</td> <td> 2126.970</td>\n",
       "</tr>\n",
       "<tr>\n",
       "  <th>pm10</th>         <td>   -0.8553</td> <td>    0.794</td> <td>   -1.077</td> <td> 0.282</td> <td>   -2.417</td> <td>    0.706</td>\n",
       "</tr>\n",
       "<tr>\n",
       "  <th>pm25</th>         <td>    0.9383</td> <td>    1.071</td> <td>    0.876</td> <td> 0.382</td> <td>   -1.169</td> <td>    3.046</td>\n",
       "</tr>\n",
       "<tr>\n",
       "  <th>temp</th>         <td>   14.0082</td> <td>    2.691</td> <td>    5.205</td> <td> 0.000</td> <td>    8.716</td> <td>   19.301</td>\n",
       "</tr>\n",
       "<tr>\n",
       "  <th>humi</th>         <td>   -0.7415</td> <td>    2.231</td> <td>   -0.332</td> <td> 0.740</td> <td>   -5.128</td> <td>    3.645</td>\n",
       "</tr>\n",
       "<tr>\n",
       "  <th>CONTENT</th>      <td>   -0.1330</td> <td>    0.156</td> <td>   -0.851</td> <td> 0.395</td> <td>   -0.440</td> <td>    0.174</td>\n",
       "</tr>\n",
       "<tr>\n",
       "  <th>prec</th>         <td>   -5.7674</td> <td>    2.539</td> <td>   -2.272</td> <td> 0.024</td> <td>  -10.761</td> <td>   -0.774</td>\n",
       "</tr>\n",
       "<tr>\n",
       "  <th>CONTENT:temp</th> <td>   -0.0186</td> <td>    0.005</td> <td>   -3.610</td> <td> 0.000</td> <td>   -0.029</td> <td>   -0.008</td>\n",
       "</tr>\n",
       "<tr>\n",
       "  <th>CONTENT:prec</th> <td>    0.0038</td> <td>    0.004</td> <td>    0.880</td> <td> 0.379</td> <td>   -0.005</td> <td>    0.012</td>\n",
       "</tr>\n",
       "<tr>\n",
       "  <th>CONTENT:humi</th> <td>   -0.0013</td> <td>    0.004</td> <td>   -0.352</td> <td> 0.725</td> <td>   -0.008</td> <td>    0.006</td>\n",
       "</tr>\n",
       "</table>\n",
       "<table class=\"simpletable\">\n",
       "<tr>\n",
       "  <th>Omnibus:</th>       <td>17.170</td> <th>  Durbin-Watson:     </th> <td>   1.267</td>\n",
       "</tr>\n",
       "<tr>\n",
       "  <th>Prob(Omnibus):</th> <td> 0.000</td> <th>  Jarque-Bera (JB):  </th> <td>  21.920</td>\n",
       "</tr>\n",
       "<tr>\n",
       "  <th>Skew:</th>          <td> 0.408</td> <th>  Prob(JB):          </th> <td>1.74e-05</td>\n",
       "</tr>\n",
       "<tr>\n",
       "  <th>Kurtosis:</th>      <td> 3.881</td> <th>  Cond. No.          </th> <td>3.03e+05</td>\n",
       "</tr>\n",
       "</table><br/><br/>Warnings:<br/>[1] Standard Errors assume that the covariance matrix of the errors is correctly specified.<br/>[2] The condition number is large, 3.03e+05. This might indicate that there are<br/>strong multicollinearity or other numerical problems."
      ],
      "text/plain": [
       "<class 'statsmodels.iolib.summary.Summary'>\n",
       "\"\"\"\n",
       "                            OLS Regression Results                            \n",
       "==============================================================================\n",
       "Dep. Variable:                     연료   R-squared:                       0.372\n",
       "Model:                            OLS   Adj. R-squared:                  0.356\n",
       "Method:                 Least Squares   F-statistic:                     23.34\n",
       "Date:                Fri, 23 Aug 2019   Prob (F-statistic):           3.19e-31\n",
       "Time:                        00:42:58   Log-Likelihood:                -2452.5\n",
       "No. Observations:                 365   AIC:                             4925.\n",
       "Df Residuals:                     355   BIC:                             4964.\n",
       "Df Model:                           9                                         \n",
       "Covariance Type:            nonrobust                                         \n",
       "================================================================================\n",
       "                   coef    std err          t      P>|t|      [0.025      0.975]\n",
       "--------------------------------------------------------------------------------\n",
       "Intercept     1925.5587    102.412     18.802      0.000    1724.148    2126.970\n",
       "pm10            -0.8553      0.794     -1.077      0.282      -2.417       0.706\n",
       "pm25             0.9383      1.071      0.876      0.382      -1.169       3.046\n",
       "temp            14.0082      2.691      5.205      0.000       8.716      19.301\n",
       "humi            -0.7415      2.231     -0.332      0.740      -5.128       3.645\n",
       "CONTENT         -0.1330      0.156     -0.851      0.395      -0.440       0.174\n",
       "prec            -5.7674      2.539     -2.272      0.024     -10.761      -0.774\n",
       "CONTENT:temp    -0.0186      0.005     -3.610      0.000      -0.029      -0.008\n",
       "CONTENT:prec     0.0038      0.004      0.880      0.379      -0.005       0.012\n",
       "CONTENT:humi    -0.0013      0.004     -0.352      0.725      -0.008       0.006\n",
       "==============================================================================\n",
       "Omnibus:                       17.170   Durbin-Watson:                   1.267\n",
       "Prob(Omnibus):                  0.000   Jarque-Bera (JB):               21.920\n",
       "Skew:                           0.408   Prob(JB):                     1.74e-05\n",
       "Kurtosis:                       3.881   Cond. No.                     3.03e+05\n",
       "==============================================================================\n",
       "\n",
       "Warnings:\n",
       "[1] Standard Errors assume that the covariance matrix of the errors is correctly specified.\n",
       "[2] The condition number is large, 3.03e+05. This might indicate that there are\n",
       "strong multicollinearity or other numerical problems.\n",
       "\"\"\""
      ]
     },
     "execution_count": 38,
     "metadata": {},
     "output_type": "execute_result"
    }
   ],
   "source": [
    "anova('연료')"
   ]
  },
  {
   "cell_type": "code",
   "execution_count": 39,
   "metadata": {},
   "outputs": [
    {
     "data": {
      "image/png": "[encoded data removed]",
      "text/plain": [
       "<Figure size 864x432 with 1 Axes>"
      ]
     },
     "metadata": {
      "needs_background": "light"
     },
     "output_type": "display_data"
    }
   ],
   "source": [
    "coef_bar('연료')"
   ]
  },
  {
   "cell_type": "markdown",
   "metadata": {},
   "source": [
    "# 광학제품34 null"
   ]
  },
  {
   "cell_type": "markdown",
   "metadata": {},
   "source": [
    "# 가전35 null"
   ]
  },
  {
   "cell_type": "markdown",
   "metadata": {},
   "source": [
    "## 유통업 40"
   ]
  },
  {
   "cell_type": "code",
   "execution_count": 50,
   "metadata": {},
   "outputs": [
    {
     "data": {
      "text/plain": [
       "(                 df        sum_sq       mean_sq          F        PR(>F)\n",
       " pm10            1.0  6.478723e+08  6.478723e+08  45.232822  7.012986e-11\n",
       " pm25            1.0  7.282984e+04  7.282984e+04   0.005085  9.431930e-01\n",
       " temp            1.0  1.150205e+09  1.150205e+09  80.304403  1.853915e-17\n",
       " humi            1.0  3.128521e+08  3.128521e+08  21.842549  4.208964e-06\n",
       " CONTENT         1.0  7.814544e+08  7.814544e+08  54.559191  1.086379e-12\n",
       " prec            1.0  1.715484e+08  1.715484e+08  11.977080  6.042185e-04\n",
       " CONTENT:temp    1.0  3.469551e+07  3.469551e+07   2.422354  1.205061e-01\n",
       " CONTENT:prec    1.0  7.141458e+06  7.141458e+06   0.498599  4.805796e-01\n",
       " CONTENT:humi    1.0  2.574782e+07  2.574782e+07   1.797648  1.808543e-01\n",
       " Residual      355.0  5.084685e+09  1.432306e+07        NaN           NaN,\n",
       " <class 'statsmodels.iolib.summary.Summary'>\n",
       " \"\"\"\n",
       "                             OLS Regression Results                            \n",
       " ==============================================================================\n",
       " Dep. Variable:                    유통업   R-squared:                       0.381\n",
       " Model:                            OLS   Adj. R-squared:                  0.365\n",
       " Method:                 Least Squares   F-statistic:                     24.29\n",
       " Date:                Wed, 14 Aug 2019   Prob (F-statistic):           2.40e-32\n",
       " Time:                        17:11:30   Log-Likelihood:                -3520.0\n",
       " No. Observations:                 365   AIC:                             7060.\n",
       " Df Residuals:                     355   BIC:                             7099.\n",
       " Df Model:                           9                                         \n",
       " Covariance Type:            nonrobust                                         \n",
       " ================================================================================\n",
       "                    coef    std err          t      P>|t|      [0.025      0.975]\n",
       " --------------------------------------------------------------------------------\n",
       " Intercept     3.777e+04   1907.469     19.802      0.000     3.4e+04    4.15e+04\n",
       " pm10           -26.9179     14.789     -1.820      0.070     -56.003       2.168\n",
       " pm25            28.8298     19.957      1.445      0.149     -10.418      68.078\n",
       " temp           200.4803     50.125      4.000      0.000     101.901     299.059\n",
       " humi            23.6513     41.545      0.569      0.570     -58.055     105.357\n",
       " CONTENT         -0.7784      2.909     -0.268      0.789      -6.500       4.943\n",
       " prec           -75.6145     47.289     -1.599      0.111    -168.616      17.387\n",
       " CONTENT:temp    -0.0677      0.096     -0.706      0.481      -0.256       0.121\n",
       " CONTENT:prec     0.0116      0.080      0.145      0.885      -0.145       0.168\n",
       " CONTENT:humi    -0.0891      0.066     -1.341      0.181      -0.220       0.042\n",
       " ==============================================================================\n",
       " Omnibus:                       22.083   Durbin-Watson:                   1.700\n",
       " Prob(Omnibus):                  0.000   Jarque-Bera (JB):               61.754\n",
       " Skew:                           0.174   Prob(JB):                     3.89e-14\n",
       " Kurtosis:                       4.985   Cond. No.                     3.03e+05\n",
       " ==============================================================================\n",
       " \n",
       " Warnings:\n",
       " [1] Standard Errors assume that the covariance matrix of the errors is correctly specified.\n",
       " [2] The condition number is large, 3.03e+05. This might indicate that there are\n",
       " strong multicollinearity or other numerical problems.\n",
       " \"\"\")"
      ]
     },
     "execution_count": 50,
     "metadata": {},
     "output_type": "execute_result"
    }
   ],
   "source": [
    "anova(\"유통업\")"
   ]
  },
  {
   "cell_type": "code",
   "execution_count": 51,
   "metadata": {},
   "outputs": [
    {
     "data": {
      "image/png": "[encoded data removed]",
      "text/plain": [
       "<Figure size 864x432 with 1 Axes>"
      ]
     },
     "metadata": {
      "needs_background": "light"
     },
     "output_type": "display_data"
    }
   ],
   "source": [
    "coef_bar('유통업')"
   ]
  },
  {
   "cell_type": "markdown",
   "metadata": {},
   "source": [
    "## 의복 42"
   ]
  },
  {
   "cell_type": "code",
   "execution_count": 52,
   "metadata": {},
   "outputs": [
    {
     "data": {
      "text/plain": [
       "(                 df        sum_sq        mean_sq         F    PR(>F)\n",
       " pm10            1.0  6.615459e+03    6615.459443  0.350917  0.553971\n",
       " pm25            1.0  7.914297e+03    7914.297162  0.419814  0.517449\n",
       " temp            1.0  1.391070e+05  139107.021430  7.378936  0.006922\n",
       " humi            1.0  1.482724e+05  148272.390052  7.865114  0.005317\n",
       " CONTENT         1.0  1.292513e+04   12925.125833  0.685614  0.408217\n",
       " prec            1.0  1.458580e+05  145857.967307  7.737040  0.005699\n",
       " CONTENT:temp    1.0  1.226403e+05  122640.281342  6.505458  0.011174\n",
       " CONTENT:prec    1.0  1.714261e+01      17.142615  0.000909  0.975960\n",
       " CONTENT:humi    1.0  9.613580e+04   96135.801702  5.099527  0.024539\n",
       " Residual      355.0  6.692427e+06   18851.906936       NaN       NaN,\n",
       " <class 'statsmodels.iolib.summary.Summary'>\n",
       " \"\"\"\n",
       "                             OLS Regression Results                            \n",
       " ==============================================================================\n",
       " Dep. Variable:                     의복   R-squared:                       0.092\n",
       " Model:                            OLS   Adj. R-squared:                  0.069\n",
       " Method:                 Least Squares   F-statistic:                     4.005\n",
       " Date:                Wed, 14 Aug 2019   Prob (F-statistic):           6.83e-05\n",
       " Time:                        17:11:30   Log-Likelihood:                -2309.4\n",
       " No. Observations:                 365   AIC:                             4639.\n",
       " Df Residuals:                     355   BIC:                             4678.\n",
       " Df Model:                           9                                         \n",
       " Covariance Type:            nonrobust                                         \n",
       " ================================================================================\n",
       "                    coef    std err          t      P>|t|      [0.025      0.975]\n",
       " --------------------------------------------------------------------------------\n",
       " Intercept      320.5206     69.202      4.632      0.000     184.424     456.618\n",
       " pm10             0.0668      0.537      0.125      0.901      -0.988       1.122\n",
       " pm25             0.0724      0.724      0.100      0.920      -1.352       1.496\n",
       " temp            -2.9289      1.818     -1.611      0.108      -6.505       0.647\n",
       " humi             2.5010      1.507      1.659      0.098      -0.463       5.465\n",
       " CONTENT          0.0964      0.106      0.913      0.362      -0.111       0.304\n",
       " prec            -4.2156      1.716     -2.457      0.014      -7.590      -0.842\n",
       " CONTENT:temp     0.0113      0.003      3.237      0.001       0.004       0.018\n",
       " CONTENT:prec     0.0037      0.003      1.264      0.207      -0.002       0.009\n",
       " CONTENT:humi    -0.0054      0.002     -2.258      0.025      -0.010      -0.001\n",
       " ==============================================================================\n",
       " Omnibus:                      227.793   Durbin-Watson:                   0.898\n",
       " Prob(Omnibus):                  0.000   Jarque-Bera (JB):             3002.354\n",
       " Skew:                           2.385   Prob(JB):                         0.00\n",
       " Kurtosis:                      16.216   Cond. No.                     3.03e+05\n",
       " ==============================================================================\n",
       " \n",
       " Warnings:\n",
       " [1] Standard Errors assume that the covariance matrix of the errors is correctly specified.\n",
       " [2] The condition number is large, 3.03e+05. This might indicate that there are\n",
       " strong multicollinearity or other numerical problems.\n",
       " \"\"\")"
      ]
     },
     "execution_count": 52,
     "metadata": {},
     "output_type": "execute_result"
    }
   ],
   "source": [
    "anova('의복')"
   ]
  },
  {
   "cell_type": "code",
   "execution_count": 53,
   "metadata": {},
   "outputs": [
    {
     "data": {
      "image/png": "[encoded data removed]",
      "text/plain": [
       "<Figure size 864x432 with 1 Axes>"
      ]
     },
     "metadata": {
      "needs_background": "light"
     },
     "output_type": "display_data"
    }
   ],
   "source": [
    "coef_bar('의복')"
   ]
  },
  {
   "cell_type": "markdown",
   "metadata": {},
   "source": [
    "## 직물 43 Null로 삭제"
   ]
  },
  {
   "cell_type": "markdown",
   "metadata": {},
   "source": [
    "## 신변잡화 44"
   ]
  },
  {
   "cell_type": "code",
   "execution_count": 54,
   "metadata": {},
   "outputs": [
    {
     "data": {
      "text/plain": [
       "(                 df         sum_sq       mean_sq          F        PR(>F)\n",
       " pm10            1.0   16570.125614  16570.125614   8.077991  4.739544e-03\n",
       " pm25            1.0      79.488215     79.488215   0.038751  8.440559e-01\n",
       " temp            1.0    2253.672818   2253.672818   1.098673  2.952706e-01\n",
       " humi            1.0   70185.297762  70185.297762  34.215564  1.120616e-08\n",
       " CONTENT         1.0   94841.723077  94841.723077  46.235652  4.456180e-11\n",
       " prec            1.0   15476.329299  15476.329299   7.544761  6.325287e-03\n",
       " CONTENT:temp    1.0      25.580037     25.580037   0.012470  9.111476e-01\n",
       " CONTENT:prec    1.0     190.391015    190.391015   0.092816  7.608055e-01\n",
       " CONTENT:humi    1.0     779.480854    779.480854   0.379999  5.379986e-01\n",
       " Residual      355.0  728200.212679   2051.268205        NaN           NaN,\n",
       " <class 'statsmodels.iolib.summary.Summary'>\n",
       " \"\"\"\n",
       "                             OLS Regression Results                            \n",
       " ==============================================================================\n",
       " Dep. Variable:                   신변잡화   R-squared:                       0.216\n",
       " Model:                            OLS   Adj. R-squared:                  0.196\n",
       " Method:                 Least Squares   F-statistic:                     10.86\n",
       " Date:                Wed, 14 Aug 2019   Prob (F-statistic):           6.11e-15\n",
       " Time:                        17:11:31   Log-Likelihood:                -1904.6\n",
       " No. Observations:                 365   AIC:                             3829.\n",
       " Df Residuals:                     355   BIC:                             3868.\n",
       " Df Model:                           9                                         \n",
       " Covariance Type:            nonrobust                                         \n",
       " ================================================================================\n",
       "                    coef    std err          t      P>|t|      [0.025      0.975]\n",
       " --------------------------------------------------------------------------------\n",
       " Intercept      200.9240     22.827      8.802      0.000     156.031     245.817\n",
       " pm10            -0.2483      0.177     -1.403      0.161      -0.596       0.100\n",
       " pm25             0.2081      0.239      0.871      0.384      -0.262       0.678\n",
       " temp             0.2438      0.600      0.406      0.685      -0.936       1.424\n",
       " humi            -0.3451      0.497     -0.694      0.488      -1.323       0.633\n",
       " CONTENT         -0.0445      0.035     -1.279      0.202      -0.113       0.024\n",
       " prec            -0.9692      0.566     -1.713      0.088      -2.082       0.144\n",
       " CONTENT:temp     0.0001      0.001      0.120      0.905      -0.002       0.002\n",
       " CONTENT:prec     0.0006      0.001      0.593      0.554      -0.001       0.002\n",
       " CONTENT:humi    -0.0005      0.001     -0.616      0.538      -0.002       0.001\n",
       " ==============================================================================\n",
       " Omnibus:                       27.473   Durbin-Watson:                   1.558\n",
       " Prob(Omnibus):                  0.000   Jarque-Bera (JB):               32.207\n",
       " Skew:                           0.648   Prob(JB):                     1.01e-07\n",
       " Kurtosis:                       3.661   Cond. No.                     3.03e+05\n",
       " ==============================================================================\n",
       " \n",
       " Warnings:\n",
       " [1] Standard Errors assume that the covariance matrix of the errors is correctly specified.\n",
       " [2] The condition number is large, 3.03e+05. This might indicate that there are\n",
       " strong multicollinearity or other numerical problems.\n",
       " \"\"\")"
      ]
     },
     "execution_count": 54,
     "metadata": {},
     "output_type": "execute_result"
    }
   ],
   "source": [
    "anova('신변잡화')"
   ]
  },
  {
   "cell_type": "code",
   "execution_count": 55,
   "metadata": {},
   "outputs": [
    {
     "data": {
      "image/png": "[encoded data removed]",
      "text/plain": [
       "<Figure size 864x432 with 1 Axes>"
      ]
     },
     "metadata": {
      "needs_background": "light"
     },
     "output_type": "display_data"
    }
   ],
   "source": [
    "coef_bar('신변잡화')"
   ]
  },
  {
   "cell_type": "markdown",
   "metadata": {},
   "source": [
    "## 서적문구 50"
   ]
  },
  {
   "cell_type": "code",
   "execution_count": 56,
   "metadata": {},
   "outputs": [
    {
     "data": {
      "text/plain": [
       "(                 df        sum_sq       mean_sq          F        PR(>F)\n",
       " pm10            1.0  1.185758e+07  1.185758e+07  37.342626  2.607795e-09\n",
       " pm25            1.0  1.674166e+06  1.674166e+06   5.272389  2.224829e-02\n",
       " temp            1.0  6.117023e+06  6.117023e+06  19.264111  1.503333e-05\n",
       " humi            1.0  1.366811e+06  1.366811e+06   4.304445  3.873293e-02\n",
       " CONTENT         1.0  2.146817e+06  2.146817e+06   6.760890  9.706921e-03\n",
       " prec            1.0  3.332671e+03  3.332671e+03   0.010495  9.184595e-01\n",
       " CONTENT:temp    1.0  1.252352e+05  1.252352e+05   0.394398  5.304002e-01\n",
       " CONTENT:prec    1.0  1.630505e+05  1.630505e+05   0.513489  4.741037e-01\n",
       " CONTENT:humi    1.0  4.403473e+03  4.403473e+03   0.013868  9.063235e-01\n",
       " Residual      355.0  1.127248e+08  3.175347e+05        NaN           NaN,\n",
       " <class 'statsmodels.iolib.summary.Summary'>\n",
       " \"\"\"\n",
       "                             OLS Regression Results                            \n",
       " ==============================================================================\n",
       " Dep. Variable:                   서적문구   R-squared:                       0.172\n",
       " Model:                            OLS   Adj. R-squared:                  0.151\n",
       " Method:                 Least Squares   F-statistic:                     8.209\n",
       " Date:                Wed, 14 Aug 2019   Prob (F-statistic):           4.17e-11\n",
       " Time:                        17:11:32   Log-Likelihood:                -2824.8\n",
       " No. Observations:                 365   AIC:                             5670.\n",
       " Df Residuals:                     355   BIC:                             5709.\n",
       " Df Model:                           9                                         \n",
       " Covariance Type:            nonrobust                                         \n",
       " ================================================================================\n",
       "                    coef    std err          t      P>|t|      [0.025      0.975]\n",
       " --------------------------------------------------------------------------------\n",
       " Intercept     1339.7866    284.011      4.717      0.000     781.231    1898.342\n",
       " pm10             1.0561      2.202      0.480      0.632      -3.275       5.387\n",
       " pm25             8.8312      2.971      2.972      0.003       2.987      14.675\n",
       " temp            17.9801      7.463      2.409      0.016       3.302      32.658\n",
       " humi            -5.0605      6.186     -0.818      0.414     -17.226       7.105\n",
       " CONTENT         -0.2562      0.433     -0.591      0.555      -1.108       0.596\n",
       " prec             4.6115      7.041      0.655      0.513      -9.236      18.459\n",
       " CONTENT:temp    -0.0072      0.014     -0.504      0.615      -0.035       0.021\n",
       " CONTENT:prec    -0.0079      0.012     -0.664      0.507      -0.031       0.015\n",
       " CONTENT:humi     0.0012      0.010      0.118      0.906      -0.018       0.021\n",
       " ==============================================================================\n",
       " Omnibus:                      283.069   Durbin-Watson:                   0.559\n",
       " Prob(Omnibus):                  0.000   Jarque-Bera (JB):             6727.200\n",
       " Skew:                           2.996   Prob(JB):                         0.00\n",
       " Kurtosis:                      23.160   Cond. No.                     3.03e+05\n",
       " ==============================================================================\n",
       " \n",
       " Warnings:\n",
       " [1] Standard Errors assume that the covariance matrix of the errors is correctly specified.\n",
       " [2] The condition number is large, 3.03e+05. This might indicate that there are\n",
       " strong multicollinearity or other numerical problems.\n",
       " \"\"\")"
      ]
     },
     "execution_count": 56,
     "metadata": {},
     "output_type": "execute_result"
    }
   ],
   "source": [
    "anova('서적문구')"
   ]
  },
  {
   "cell_type": "code",
   "execution_count": 57,
   "metadata": {},
   "outputs": [
    {
     "data": {
      "image/png": "[encoded data removed]",
      "text/plain": [
       "<Figure size 864x432 with 1 Axes>"
      ]
     },
     "metadata": {
      "needs_background": "light"
     },
     "output_type": "display_data"
    }
   ],
   "source": [
    "coef_bar('서적문구')"
   ]
  },
  {
   "cell_type": "markdown",
   "metadata": {},
   "source": [
    "# 사무통신52 Null"
   ]
  },
  {
   "cell_type": "markdown",
   "metadata": {},
   "source": [
    "## 자동차판매 60 Null로 삭제"
   ]
  },
  {
   "cell_type": "markdown",
   "metadata": {},
   "source": [
    "## 자동차정비 62 Null로 삭제"
   ]
  },
  {
   "cell_type": "markdown",
   "metadata": {},
   "source": [
    "## 의료기관 70"
   ]
  },
  {
   "cell_type": "code",
   "execution_count": 58,
   "metadata": {},
   "outputs": [
    {
     "data": {
      "text/plain": [
       "(                 df        sum_sq       mean_sq          F        PR(>F)\n",
       " pm10            1.0  4.726050e+06  4.726050e+06   0.610706  4.350428e-01\n",
       " pm25            1.0  3.966280e+06  3.966280e+06   0.512528  4.745173e-01\n",
       " temp            1.0  3.010531e+07  3.010531e+07   3.890247  4.934301e-02\n",
       " humi            1.0  5.003170e+06  5.003170e+06   0.646516  4.218991e-01\n",
       " CONTENT         1.0  3.333361e+08  3.333361e+08  43.074119  1.869905e-10\n",
       " prec            1.0  7.759131e+06  7.759131e+06   1.002645  3.173534e-01\n",
       " CONTENT:temp    1.0  5.132659e+07  5.132659e+07   6.632488  1.041759e-02\n",
       " CONTENT:prec    1.0  2.296312e+06  2.296312e+06   0.296732  5.862802e-01\n",
       " CONTENT:humi    1.0  3.930122e+06  3.930122e+06   0.507855  4.765368e-01\n",
       " Residual      355.0  2.747225e+09  7.738663e+06        NaN           NaN,\n",
       " <class 'statsmodels.iolib.summary.Summary'>\n",
       " \"\"\"\n",
       "                             OLS Regression Results                            \n",
       " ==============================================================================\n",
       " Dep. Variable:                   의료기관   R-squared:                       0.139\n",
       " Model:                            OLS   Adj. R-squared:                  0.117\n",
       " Method:                 Least Squares   F-statistic:                     6.353\n",
       " Date:                Wed, 14 Aug 2019   Prob (F-statistic):           2.32e-08\n",
       " Time:                        17:11:33   Log-Likelihood:                -3407.6\n",
       " No. Observations:                 365   AIC:                             6835.\n",
       " Df Residuals:                     355   BIC:                             6874.\n",
       " Df Model:                           9                                         \n",
       " Covariance Type:            nonrobust                                         \n",
       " ================================================================================\n",
       "                    coef    std err          t      P>|t|      [0.025      0.975]\n",
       " --------------------------------------------------------------------------------\n",
       " Intercept     7446.8065   1402.080      5.311      0.000    4689.380    1.02e+04\n",
       " pm10             2.1658     10.871      0.199      0.842     -19.213      23.545\n",
       " pm25           -16.1345     14.669     -1.100      0.272     -44.984      12.715\n",
       " temp           -75.5498     36.844     -2.051      0.041    -148.010      -3.090\n",
       " humi           -12.4537     30.538     -0.408      0.684     -72.511      47.604\n",
       " CONTENT          0.6104      2.138      0.285      0.775      -3.595       4.816\n",
       " prec             9.2566     34.759      0.266      0.790     -59.104      77.617\n",
       " CONTENT:temp     0.1459      0.071      2.069      0.039       0.007       0.285\n",
       " CONTENT:prec    -0.0496      0.059     -0.846      0.398      -0.165       0.066\n",
       " CONTENT:humi     0.0348      0.049      0.713      0.477      -0.061       0.131\n",
       " ==============================================================================\n",
       " Omnibus:                       37.989   Durbin-Watson:                   2.548\n",
       " Prob(Omnibus):                  0.000   Jarque-Bera (JB):               48.035\n",
       " Skew:                          -0.889   Prob(JB):                     3.71e-11\n",
       " Kurtosis:                       3.011   Cond. No.                     3.03e+05\n",
       " ==============================================================================\n",
       " \n",
       " Warnings:\n",
       " [1] Standard Errors assume that the covariance matrix of the errors is correctly specified.\n",
       " [2] The condition number is large, 3.03e+05. This might indicate that there are\n",
       " strong multicollinearity or other numerical problems.\n",
       " \"\"\")"
      ]
     },
     "execution_count": 58,
     "metadata": {},
     "output_type": "execute_result"
    }
   ],
   "source": [
    "anova('의료기관')"
   ]
  },
  {
   "cell_type": "code",
   "execution_count": 59,
   "metadata": {},
   "outputs": [
    {
     "data": {
      "image/png": "[encoded data removed]",
      "text/plain": [
       "<Figure size 864x432 with 1 Axes>"
      ]
     },
     "metadata": {
      "needs_background": "light"
     },
     "output_type": "display_data"
    }
   ],
   "source": [
    "coef_bar('의료기관')"
   ]
  },
  {
   "cell_type": "markdown",
   "metadata": {},
   "source": [
    "## 보건위생 71"
   ]
  },
  {
   "cell_type": "code",
   "execution_count": 60,
   "metadata": {},
   "outputs": [
    {
     "data": {
      "text/plain": [
       "(                 df        sum_sq       mean_sq           F        PR(>F)\n",
       " pm10            1.0  2.177904e+04  2.177904e+04    0.107108  7.436543e-01\n",
       " pm25            1.0  8.321981e+05  8.321981e+05    4.092684  4.381828e-02\n",
       " temp            1.0  6.042879e+05  6.042879e+05    2.971840  8.559602e-02\n",
       " humi            1.0  2.926213e+06  2.926213e+06   14.390886  1.745403e-04\n",
       " CONTENT         1.0  2.474373e+07  2.474373e+07  121.687695  1.579582e-24\n",
       " prec            1.0  7.593531e+05  7.593531e+05    3.734439  5.409682e-02\n",
       " CONTENT:temp    1.0  7.463713e+05  7.463713e+05    3.670595  5.618335e-02\n",
       " CONTENT:prec    1.0  6.613501e+04  6.613501e+04    0.325247  5.688322e-01\n",
       " CONTENT:humi    1.0  1.147691e+06  1.147691e+06    5.644253  1.804287e-02\n",
       " Residual      355.0  7.218498e+07  2.033380e+05         NaN           NaN,\n",
       " <class 'statsmodels.iolib.summary.Summary'>\n",
       " \"\"\"\n",
       "                             OLS Regression Results                            \n",
       " ==============================================================================\n",
       " Dep. Variable:                   보건위생   R-squared:                       0.306\n",
       " Model:                            OLS   Adj. R-squared:                  0.289\n",
       " Method:                 Least Squares   F-statistic:                     17.40\n",
       " Date:                Wed, 14 Aug 2019   Prob (F-statistic):           7.46e-24\n",
       " Time:                        17:11:33   Log-Likelihood:                -2743.5\n",
       " No. Observations:                 365   AIC:                             5507.\n",
       " Df Residuals:                     355   BIC:                             5546.\n",
       " Df Model:                           9                                         \n",
       " Covariance Type:            nonrobust                                         \n",
       " ================================================================================\n",
       "                    coef    std err          t      P>|t|      [0.025      0.975]\n",
       " --------------------------------------------------------------------------------\n",
       " Intercept     2090.0061    227.274      9.196      0.000    1643.034    2536.978\n",
       " pm10            -2.5488      1.762     -1.446      0.149      -6.014       0.917\n",
       " pm25             5.9128      2.378      2.487      0.013       1.236      10.589\n",
       " temp            -6.1556      5.972     -1.031      0.303     -17.901       5.590\n",
       " humi             8.1485      4.950      1.646      0.101      -1.587      17.884\n",
       " CONTENT         -0.0792      0.347     -0.228      0.819      -0.761       0.603\n",
       " prec            -8.8644      5.634     -1.573      0.117     -19.945       2.217\n",
       " CONTENT:temp    -0.0069      0.011     -0.602      0.547      -0.029       0.016\n",
       " CONTENT:prec     0.0078      0.009      0.826      0.409      -0.011       0.027\n",
       " CONTENT:humi    -0.0188      0.008     -2.376      0.018      -0.034      -0.003\n",
       " ==============================================================================\n",
       " Omnibus:                        7.602   Durbin-Watson:                   1.275\n",
       " Prob(Omnibus):                  0.022   Jarque-Bera (JB):               10.886\n",
       " Skew:                           0.132   Prob(JB):                      0.00433\n",
       " Kurtosis:                       3.804   Cond. No.                     3.03e+05\n",
       " ==============================================================================\n",
       " \n",
       " Warnings:\n",
       " [1] Standard Errors assume that the covariance matrix of the errors is correctly specified.\n",
       " [2] The condition number is large, 3.03e+05. This might indicate that there are\n",
       " strong multicollinearity or other numerical problems.\n",
       " \"\"\")"
      ]
     },
     "execution_count": 60,
     "metadata": {},
     "output_type": "execute_result"
    }
   ],
   "source": [
    "anova('보건위생')"
   ]
  },
  {
   "cell_type": "code",
   "execution_count": 61,
   "metadata": {},
   "outputs": [
    {
     "data": {
      "image/png": "[encoded data removed]",
      "text/plain": [
       "<Figure size 864x432 with 1 Axes>"
      ]
     },
     "metadata": {
      "needs_background": "light"
     },
     "output_type": "display_data"
    }
   ],
   "source": [
    "coef_bar('보건위생')"
   ]
  },
  {
   "cell_type": "markdown",
   "metadata": {},
   "source": [
    "## 요식업소 80"
   ]
  },
  {
   "cell_type": "code",
   "execution_count": 62,
   "metadata": {},
   "outputs": [
    {
     "data": {
      "text/plain": [
       "(                 df        sum_sq       mean_sq          F        PR(>F)\n",
       " pm10            1.0  9.340936e+07  9.340936e+07  14.286999  1.840451e-04\n",
       " pm25            1.0  1.581238e+05  1.581238e+05   0.024185  8.765032e-01\n",
       " temp            1.0  1.644360e+08  1.644360e+08  25.150553  8.392482e-07\n",
       " humi            1.0  1.452449e+08  1.452449e+08  22.215263  3.505787e-06\n",
       " CONTENT         1.0  4.897369e+08  4.897369e+08  74.905452  1.746613e-16\n",
       " prec            1.0  8.578760e+07  8.578760e+07  13.121248  3.345178e-04\n",
       " CONTENT:temp    1.0  8.394602e+07  8.394602e+07  12.839577  3.867514e-04\n",
       " CONTENT:prec    1.0  2.498906e+04  2.498906e+04   0.003822  9.507386e-01\n",
       " CONTENT:humi    1.0  1.756698e+07  1.756698e+07   2.686876  1.020639e-01\n",
       " Residual      355.0  2.321014e+09  6.538067e+06        NaN           NaN,\n",
       " <class 'statsmodels.iolib.summary.Summary'>\n",
       " \"\"\"\n",
       "                             OLS Regression Results                            \n",
       " ==============================================================================\n",
       " Dep. Variable:                   요식업소   R-squared:                       0.318\n",
       " Model:                            OLS   Adj. R-squared:                  0.300\n",
       " Method:                 Least Squares   F-statistic:                     18.36\n",
       " Date:                Wed, 14 Aug 2019   Prob (F-statistic):           4.38e-25\n",
       " Time:                        17:11:34   Log-Likelihood:                -3376.8\n",
       " No. Observations:                 365   AIC:                             6774.\n",
       " Df Residuals:                     355   BIC:                             6813.\n",
       " Df Model:                           9                                         \n",
       " Covariance Type:            nonrobust                                         \n",
       " ================================================================================\n",
       "                    coef    std err          t      P>|t|      [0.025      0.975]\n",
       " --------------------------------------------------------------------------------\n",
       " Intercept     2.135e+04   1288.737     16.566      0.000    1.88e+04    2.39e+04\n",
       " pm10            -9.2352      9.992     -0.924      0.356     -28.886      10.416\n",
       " pm25            13.0514     13.483      0.968      0.334     -13.466      39.568\n",
       " temp           124.4558     33.866      3.675      0.000      57.853     191.058\n",
       " humi            25.9351     28.069      0.924      0.356     -29.268      81.138\n",
       " CONTENT          0.6784      1.966      0.345      0.730      -3.187       4.544\n",
       " prec           -74.4011     31.949     -2.329      0.020    -137.235     -11.567\n",
       " CONTENT:temp    -0.1619      0.065     -2.498      0.013      -0.289      -0.034\n",
       " CONTENT:prec     0.0512      0.054      0.951      0.342      -0.055       0.157\n",
       " CONTENT:humi    -0.0736      0.045     -1.639      0.102      -0.162       0.015\n",
       " ==============================================================================\n",
       " Omnibus:                      105.046   Durbin-Watson:                   1.205\n",
       " Prob(Omnibus):                  0.000   Jarque-Bera (JB):              545.865\n",
       " Skew:                          -1.108   Prob(JB):                    2.93e-119\n",
       " Kurtosis:                       8.566   Cond. No.                     3.03e+05\n",
       " ==============================================================================\n",
       " \n",
       " Warnings:\n",
       " [1] Standard Errors assume that the covariance matrix of the errors is correctly specified.\n",
       " [2] The condition number is large, 3.03e+05. This might indicate that there are\n",
       " strong multicollinearity or other numerical problems.\n",
       " \"\"\")"
      ]
     },
     "execution_count": 62,
     "metadata": {},
     "output_type": "execute_result"
    }
   ],
   "source": [
    "anova('요식업소')"
   ]
  },
  {
   "cell_type": "code",
   "execution_count": 63,
   "metadata": {},
   "outputs": [
    {
     "data": {
      "image/png": "[encoded data removed]",
      "text/plain": [
       "<Figure size 864x432 with 1 Axes>"
      ]
     },
     "metadata": {
      "needs_background": "light"
     },
     "output_type": "display_data"
    }
   ],
   "source": [
    "coef_bar('요식업소')"
   ]
  },
  {
   "cell_type": "markdown",
   "metadata": {},
   "source": [
    "## 음료식품 81"
   ]
  },
  {
   "cell_type": "code",
   "execution_count": 64,
   "metadata": {},
   "outputs": [
    {
     "data": {
      "text/plain": [
       "(                 df        sum_sq       mean_sq         F    PR(>F)\n",
       " pm10            1.0  6.528213e+05  6.528213e+05  2.485983  0.115755\n",
       " pm25            1.0  1.597657e+05  1.597657e+05  0.608397  0.435912\n",
       " temp            1.0  3.233113e+05  3.233113e+05  1.231189  0.267927\n",
       " humi            1.0  2.728406e+02  2.728406e+02  0.001039  0.974304\n",
       " CONTENT         1.0  2.525944e+06  2.525944e+06  9.618950  0.002080\n",
       " prec            1.0  1.632391e+06  1.632391e+06  6.216246  0.013113\n",
       " CONTENT:temp    1.0  1.402232e+06  1.402232e+06  5.339787  0.021417\n",
       " CONTENT:prec    1.0  2.545024e+05  2.545024e+05  0.969161  0.325560\n",
       " CONTENT:humi    1.0  3.018705e+05  3.018705e+05  1.149541  0.284374\n",
       " Residual      355.0  9.322330e+07  2.626008e+05       NaN       NaN,\n",
       " <class 'statsmodels.iolib.summary.Summary'>\n",
       " \"\"\"\n",
       "                             OLS Regression Results                            \n",
       " ==============================================================================\n",
       " Dep. Variable:                   음료식품   R-squared:                       0.072\n",
       " Model:                            OLS   Adj. R-squared:                  0.049\n",
       " Method:                 Least Squares   F-statistic:                     3.069\n",
       " Date:                Wed, 14 Aug 2019   Prob (F-statistic):            0.00148\n",
       " Time:                        17:11:35   Log-Likelihood:                -2790.1\n",
       " No. Observations:                 365   AIC:                             5600.\n",
       " Df Residuals:                     355   BIC:                             5639.\n",
       " Df Model:                           9                                         \n",
       " Covariance Type:            nonrobust                                         \n",
       " ================================================================================\n",
       "                    coef    std err          t      P>|t|      [0.025      0.975]\n",
       " --------------------------------------------------------------------------------\n",
       " Intercept     4498.6507    258.278     17.418      0.000    3990.703    5006.598\n",
       " pm10            -0.5560      2.003     -0.278      0.781      -4.494       3.382\n",
       " pm25            -2.6141      2.702     -0.967      0.334      -7.928       2.700\n",
       " temp           -18.2409      6.787     -2.688      0.008     -31.589      -4.893\n",
       " humi             7.7559      5.625      1.379      0.169      -3.307      18.819\n",
       " CONTENT          0.4076      0.394      1.035      0.302      -0.367       1.182\n",
       " prec            -6.1514      6.403     -0.961      0.337     -18.744       6.441\n",
       " CONTENT:temp     0.0346      0.013      2.665      0.008       0.009       0.060\n",
       " CONTENT:prec    -0.0025      0.011     -0.235      0.814      -0.024       0.019\n",
       " CONTENT:humi    -0.0096      0.009     -1.072      0.284      -0.027       0.008\n",
       " ==============================================================================\n",
       " Omnibus:                      123.923   Durbin-Watson:                   1.614\n",
       " Prob(Omnibus):                  0.000   Jarque-Bera (JB):             1904.344\n",
       " Skew:                          -0.972   Prob(JB):                         0.00\n",
       " Kurtosis:                      14.020   Cond. No.                     3.03e+05\n",
       " ==============================================================================\n",
       " \n",
       " Warnings:\n",
       " [1] Standard Errors assume that the covariance matrix of the errors is correctly specified.\n",
       " [2] The condition number is large, 3.03e+05. This might indicate that there are\n",
       " strong multicollinearity or other numerical problems.\n",
       " \"\"\")"
      ]
     },
     "execution_count": 64,
     "metadata": {},
     "output_type": "execute_result"
    }
   ],
   "source": [
    "anova('음료식품')"
   ]
  },
  {
   "cell_type": "code",
   "execution_count": 65,
   "metadata": {},
   "outputs": [
    {
     "data": {
      "image/png": "[encoded data removed]",
      "text/plain": [
       "<Figure size 864x432 with 1 Axes>"
      ]
     },
     "metadata": {
      "needs_background": "light"
     },
     "output_type": "display_data"
    }
   ],
   "source": [
    "coef_bar('음료식품')"
   ]
  },
  {
   "cell_type": "markdown",
   "metadata": {},
   "source": [
    "## 수리서비스 92 NUll 40"
   ]
  },
  {
   "cell_type": "code",
   "execution_count": 66,
   "metadata": {},
   "outputs": [],
   "source": [
    "# anova('수리서비스')"
   ]
  },
  {
   "cell_type": "code",
   "execution_count": 39,
   "metadata": {},
   "outputs": [],
   "source": [
    "# coef_bar('수리서비스')"
   ]
  },
  {
   "cell_type": "markdown",
   "metadata": {},
   "source": [
    "* age40\n",
    "* 숙박(10) - temp pm10\n",
    "* 레저용품(10 25) - pm25 문화취미 보건위생\n",
    "* 유통업(10) - temp humi \n",
    "* 신변잡화(10) - 보건위생 레저업소\n",
    "* 요식업소(10) - prec 숙박 신변잡화"
   ]
  },
  {
   "cell_type": "code",
   "execution_count": 67,
   "metadata": {},
   "outputs": [
    {
     "data": {
      "text/plain": [
       "(                 df        sum_sq       mean_sq          F        PR(>F)\n",
       " pm10            1.0  7.635486e+12  7.635486e+12  27.060065  3.340985e-07\n",
       " pm25            1.0  5.556909e+11  5.556909e+11   1.969361  1.613897e-01\n",
       " temp            1.0  2.926500e+12  2.926500e+12  10.371479  1.397942e-03\n",
       " humi            1.0  3.378672e+11  3.378672e+11   1.197397  2.745845e-01\n",
       " CONTENT         1.0  2.471916e+12  2.471916e+12   8.760439  3.285119e-03\n",
       " prec            1.0  2.447860e+12  2.447860e+12   8.675182  3.438482e-03\n",
       " CONTENT:temp    1.0  3.264340e+12  3.264340e+12  11.568777  7.470851e-04\n",
       " CONTENT:prec    1.0  7.407664e+08  7.407664e+08   0.002625  9.591652e-01\n",
       " CONTENT:humi    1.0  3.376241e+06  3.376241e+06   0.000012  9.972420e-01\n",
       " Residual      355.0  1.001697e+14  2.821681e+11        NaN           NaN,\n",
       " <class 'statsmodels.iolib.summary.Summary'>\n",
       " \"\"\"\n",
       "                             OLS Regression Results                            \n",
       " ==============================================================================\n",
       " Dep. Variable:              LCLS_10_P   R-squared:                       0.164\n",
       " Model:                            OLS   Adj. R-squared:                  0.143\n",
       " Method:                 Least Squares   F-statistic:                     7.734\n",
       " Date:                Wed, 14 Aug 2019   Prob (F-statistic):           2.09e-10\n",
       " Time:                        17:39:20   Log-Likelihood:                -5324.6\n",
       " No. Observations:                 365   AIC:                         1.067e+04\n",
       " Df Residuals:                     355   BIC:                         1.071e+04\n",
       " Df Model:                           9                                         \n",
       " Covariance Type:            nonrobust                                         \n",
       " ================================================================================\n",
       "                    coef    std err          t      P>|t|      [0.025      0.975]\n",
       " --------------------------------------------------------------------------------\n",
       " Intercept     6.231e+06   2.68e+05     23.273      0.000     5.7e+06    6.76e+06\n",
       " pm10           857.9240   2075.784      0.413      0.680   -3224.456    4940.304\n",
       " pm25         -4883.2186   2801.052     -1.743      0.082   -1.04e+04     625.523\n",
       " temp          2.163e+04   7035.402      3.075      0.002    7794.719    3.55e+04\n",
       " humi          7273.9455   5831.209      1.247      0.213   -4194.111    1.87e+04\n",
       " CONTENT        155.3385    408.348      0.380      0.704    -647.746     958.423\n",
       " prec         -7372.5917   6637.318     -1.111      0.267   -2.04e+04    5680.816\n",
       " CONTENT:temp   -40.7114     13.463     -3.024      0.003     -67.188     -14.234\n",
       " CONTENT:prec    -0.5004     11.186     -0.045      0.964     -22.500      21.499\n",
       " CONTENT:humi     0.0323      9.323      0.003      0.997     -18.304      18.368\n",
       " ==============================================================================\n",
       " Omnibus:                      140.748   Durbin-Watson:                   0.934\n",
       " Prob(Omnibus):                  0.000   Jarque-Bera (JB):             1139.158\n",
       " Skew:                           1.393   Prob(JB):                    4.31e-248\n",
       " Kurtosis:                      11.194   Cond. No.                     3.03e+05\n",
       " ==============================================================================\n",
       " \n",
       " Warnings:\n",
       " [1] Standard Errors assume that the covariance matrix of the errors is correctly specified.\n",
       " [2] The condition number is large, 3.03e+05. This might indicate that there are\n",
       " strong multicollinearity or other numerical problems.\n",
       " \"\"\")"
      ]
     },
     "execution_count": 67,
     "metadata": {},
     "output_type": "execute_result"
    }
   ],
   "source": [
    "anova('LCLS_10_P')"
   ]
  },
  {
   "cell_type": "code",
   "execution_count": 68,
   "metadata": {},
   "outputs": [
    {
     "data": {
      "text/plain": [
       "(                 df        sum_sq       mean_sq          F        PR(>F)\n",
       " pm10            1.0  7.635486e+12  7.635486e+12  27.060065  3.340985e-07\n",
       " pm25            1.0  5.556909e+11  5.556909e+11   1.969361  1.613897e-01\n",
       " temp            1.0  2.926500e+12  2.926500e+12  10.371479  1.397942e-03\n",
       " humi            1.0  3.378672e+11  3.378672e+11   1.197397  2.745845e-01\n",
       " CONTENT         1.0  2.471916e+12  2.471916e+12   8.760439  3.285119e-03\n",
       " prec            1.0  2.447860e+12  2.447860e+12   8.675182  3.438482e-03\n",
       " CONTENT:temp    1.0  3.264340e+12  3.264340e+12  11.568777  7.470851e-04\n",
       " CONTENT:prec    1.0  7.407664e+08  7.407664e+08   0.002625  9.591652e-01\n",
       " CONTENT:humi    1.0  3.376241e+06  3.376241e+06   0.000012  9.972420e-01\n",
       " Residual      355.0  1.001697e+14  2.821681e+11        NaN           NaN,\n",
       " <class 'statsmodels.iolib.summary.Summary'>\n",
       " \"\"\"\n",
       "                             OLS Regression Results                            \n",
       " ==============================================================================\n",
       " Dep. Variable:              LCLS_10_P   R-squared:                       0.164\n",
       " Model:                            OLS   Adj. R-squared:                  0.143\n",
       " Method:                 Least Squares   F-statistic:                     7.734\n",
       " Date:                Wed, 14 Aug 2019   Prob (F-statistic):           2.09e-10\n",
       " Time:                        17:39:20   Log-Likelihood:                -5324.6\n",
       " No. Observations:                 365   AIC:                         1.067e+04\n",
       " Df Residuals:                     355   BIC:                         1.071e+04\n",
       " Df Model:                           9                                         \n",
       " Covariance Type:            nonrobust                                         \n",
       " ================================================================================\n",
       "                    coef    std err          t      P>|t|      [0.025      0.975]\n",
       " --------------------------------------------------------------------------------\n",
       " Intercept     6.231e+06   2.68e+05     23.273      0.000     5.7e+06    6.76e+06\n",
       " pm10           857.9240   2075.784      0.413      0.680   -3224.456    4940.304\n",
       " pm25         -4883.2186   2801.052     -1.743      0.082   -1.04e+04     625.523\n",
       " temp          2.163e+04   7035.402      3.075      0.002    7794.719    3.55e+04\n",
       " humi          7273.9455   5831.209      1.247      0.213   -4194.111    1.87e+04\n",
       " CONTENT        155.3385    408.348      0.380      0.704    -647.746     958.423\n",
       " prec         -7372.5917   6637.318     -1.111      0.267   -2.04e+04    5680.816\n",
       " CONTENT:temp   -40.7114     13.463     -3.024      0.003     -67.188     -14.234\n",
       " CONTENT:prec    -0.5004     11.186     -0.045      0.964     -22.500      21.499\n",
       " CONTENT:humi     0.0323      9.323      0.003      0.997     -18.304      18.368\n",
       " ==============================================================================\n",
       " Omnibus:                      140.748   Durbin-Watson:                   0.934\n",
       " Prob(Omnibus):                  0.000   Jarque-Bera (JB):             1139.158\n",
       " Skew:                           1.393   Prob(JB):                    4.31e-248\n",
       " Kurtosis:                      11.194   Cond. No.                     3.03e+05\n",
       " ==============================================================================\n",
       " \n",
       " Warnings:\n",
       " [1] Standard Errors assume that the covariance matrix of the errors is correctly specified.\n",
       " [2] The condition number is large, 3.03e+05. This might indicate that there are\n",
       " strong multicollinearity or other numerical problems.\n",
       " \"\"\")"
      ]
     },
     "execution_count": 68,
     "metadata": {},
     "output_type": "execute_result"
    }
   ],
   "source": [
    "anova('LCLS_10_P')"
   ]
  },
  {
   "cell_type": "code",
   "execution_count": 69,
   "metadata": {},
   "outputs": [
    {
     "data": {
      "text/plain": [
       "(                 df        sum_sq       mean_sq         F    PR(>F)\n",
       " pm10            1.0  1.045265e+13  1.045265e+13  9.037741  0.002833\n",
       " pm25            1.0  1.403743e+12  1.403743e+12  1.213728  0.271341\n",
       " temp            1.0  2.422868e+12  2.422868e+12  2.094900  0.148674\n",
       " humi            1.0  3.050764e+12  3.050764e+12  2.637802  0.105235\n",
       " CONTENT         1.0  7.059592e+12  7.059592e+12  6.103982  0.013957\n",
       " prec            1.0  1.951432e+11  1.951432e+11  0.168728  0.681493\n",
       " CONTENT:temp    1.0  2.970333e+12  2.970333e+12  2.568259  0.109917\n",
       " CONTENT:prec    1.0  3.545182e+09  3.545182e+09  0.003065  0.955879\n",
       " CONTENT:humi    1.0  5.143452e+12  5.143452e+12  4.447217  0.035658\n",
       " Residual      355.0  4.105771e+14  1.156555e+12       NaN       NaN,\n",
       " <class 'statsmodels.iolib.summary.Summary'>\n",
       " \"\"\"\n",
       "                             OLS Regression Results                            \n",
       " ==============================================================================\n",
       " Dep. Variable:              LCLS_20_P   R-squared:                       0.074\n",
       " Model:                            OLS   Adj. R-squared:                  0.050\n",
       " Method:                 Least Squares   F-statistic:                     3.142\n",
       " Date:                Wed, 14 Aug 2019   Prob (F-statistic):            0.00117\n",
       " Time:                        17:39:21   Log-Likelihood:                -5582.0\n",
       " No. Observations:                 365   AIC:                         1.118e+04\n",
       " Df Residuals:                     355   BIC:                         1.122e+04\n",
       " Df Model:                           9                                         \n",
       " Covariance Type:            nonrobust                                         \n",
       " ================================================================================\n",
       "                    coef    std err          t      P>|t|      [0.025      0.975]\n",
       " --------------------------------------------------------------------------------\n",
       " Intercept      3.31e+06   5.42e+05      6.107      0.000    2.24e+06    4.38e+06\n",
       " pm10          7920.0700   4202.536      1.885      0.060    -344.926    1.62e+04\n",
       " pm25         -2082.7505   5670.879     -0.367      0.714   -1.32e+04    9069.991\n",
       " temp          1.241e+04   1.42e+04      0.871      0.384   -1.56e+04    4.04e+04\n",
       " humi          1.726e+04   1.18e+04      1.462      0.145   -5953.702    4.05e+04\n",
       " CONTENT       1460.9931    826.722      1.767      0.078    -164.895    3086.881\n",
       " prec         -1.692e+04   1.34e+04     -1.259      0.209   -4.34e+04    9504.321\n",
       " CONTENT:temp   -14.4596     27.256     -0.531      0.596     -68.064      39.144\n",
       " CONTENT:prec    27.2479     22.647      1.203      0.230     -17.292      71.787\n",
       " CONTENT:humi   -39.8055     18.876     -2.109      0.036     -76.927      -2.684\n",
       " ==============================================================================\n",
       " Omnibus:                      475.195   Durbin-Watson:                   0.914\n",
       " Prob(Omnibus):                  0.000   Jarque-Bera (JB):            45161.478\n",
       " Skew:                           6.244   Prob(JB):                         0.00\n",
       " Kurtosis:                      56.043   Cond. No.                     3.03e+05\n",
       " ==============================================================================\n",
       " \n",
       " Warnings:\n",
       " [1] Standard Errors assume that the covariance matrix of the errors is correctly specified.\n",
       " [2] The condition number is large, 3.03e+05. This might indicate that there are\n",
       " strong multicollinearity or other numerical problems.\n",
       " \"\"\")"
      ]
     },
     "execution_count": 69,
     "metadata": {},
     "output_type": "execute_result"
    }
   ],
   "source": [
    "anova('LCLS_20_P')"
   ]
  },
  {
   "cell_type": "code",
   "execution_count": 70,
   "metadata": {},
   "outputs": [
    {
     "data": {
      "text/plain": [
       "(                 df        sum_sq       mean_sq            F         PR(>F)\n",
       " pm10            1.0  7.334144e+13  7.334144e+13   373.780950   2.113125e-57\n",
       " pm25            1.0  3.562697e+12  3.562697e+12    18.157104   2.609216e-05\n",
       " temp            1.0  3.559249e+14  3.559249e+14  1813.953529  1.400258e-141\n",
       " humi            1.0  5.271573e+13  5.271573e+13   268.663077   2.342610e-45\n",
       " CONTENT         1.0  2.836461e+13  2.836461e+13   144.558816   3.624593e-28\n",
       " prec            1.0  2.141294e+13  2.141294e+13   109.129993   1.879290e-22\n",
       " CONTENT:temp    1.0  4.137616e+12  4.137616e+12    21.087154   6.102068e-06\n",
       " CONTENT:prec    1.0  5.782013e+11  5.782013e+11     2.946774   8.692147e-02\n",
       " CONTENT:humi    1.0  1.497782e+11  1.497782e+11     0.763337   3.828768e-01\n",
       " Residual      355.0  6.965633e+13  1.962150e+11          NaN            NaN,\n",
       " <class 'statsmodels.iolib.summary.Summary'>\n",
       " \"\"\"\n",
       "                             OLS Regression Results                            \n",
       " ==============================================================================\n",
       " Dep. Variable:              LCLS_30_P   R-squared:                       0.886\n",
       " Model:                            OLS   Adj. R-squared:                  0.883\n",
       " Method:                 Least Squares   F-statistic:                     305.9\n",
       " Date:                Wed, 14 Aug 2019   Prob (F-statistic):          2.46e-161\n",
       " Time:                        17:39:21   Log-Likelihood:                -5258.3\n",
       " No. Observations:                 365   AIC:                         1.054e+04\n",
       " Df Residuals:                     355   BIC:                         1.058e+04\n",
       " Df Model:                           9                                         \n",
       " Covariance Type:            nonrobust                                         \n",
       " ================================================================================\n",
       "                    coef    std err          t      P>|t|      [0.025      0.975]\n",
       " --------------------------------------------------------------------------------\n",
       " Intercept     7.094e+06   2.23e+05     31.773      0.000    6.65e+06    7.53e+06\n",
       " pm10         -2553.0135   1730.989     -1.475      0.141   -5957.296     851.269\n",
       " pm25          3637.1864   2335.787      1.557      0.120    -956.534    8230.907\n",
       " temp          1.325e+05   5866.798     22.578      0.000    1.21e+05    1.44e+05\n",
       " humi         -1.929e+04   4862.625     -3.967      0.000   -2.89e+04   -9729.072\n",
       " CONTENT       -845.6969    340.520     -2.484      0.013   -1515.387    -176.007\n",
       " prec          -2.84e+04   5534.837     -5.131      0.000   -3.93e+04   -1.75e+04\n",
       " CONTENT:temp   -52.9989     11.227     -4.721      0.000     -75.078     -30.920\n",
       " CONTENT:prec     8.9176      9.328      0.956      0.340      -9.428      27.263\n",
       " CONTENT:humi     6.7927      7.775      0.874      0.383      -8.498      22.083\n",
       " ==============================================================================\n",
       " Omnibus:                       17.572   Durbin-Watson:                   1.455\n",
       " Prob(Omnibus):                  0.000   Jarque-Bera (JB):               26.241\n",
       " Skew:                          -0.357   Prob(JB):                     2.00e-06\n",
       " Kurtosis:                       4.103   Cond. No.                     3.03e+05\n",
       " ==============================================================================\n",
       " \n",
       " Warnings:\n",
       " [1] Standard Errors assume that the covariance matrix of the errors is correctly specified.\n",
       " [2] The condition number is large, 3.03e+05. This might indicate that there are\n",
       " strong multicollinearity or other numerical problems.\n",
       " \"\"\")"
      ]
     },
     "execution_count": 70,
     "metadata": {},
     "output_type": "execute_result"
    }
   ],
   "source": [
    "anova('LCLS_30_P')"
   ]
  },
  {
   "cell_type": "code",
   "execution_count": 71,
   "metadata": {},
   "outputs": [
    {
     "data": {
      "text/plain": [
       "(                 df        sum_sq       mean_sq         F    PR(>F)\n",
       " pm10            1.0  7.032760e+09  7.032760e+09  0.913819  0.339754\n",
       " pm25            1.0  9.514702e+08  9.514702e+08  0.123632  0.725337\n",
       " temp            1.0  1.388821e+09  1.388821e+09  0.180460  0.671236\n",
       " humi            1.0  1.678508e+10  1.678508e+10  2.181011  0.140609\n",
       " CONTENT         1.0  2.753759e+10  2.753759e+10  3.578165  0.059358\n",
       " prec            1.0  5.552934e+09  5.552934e+09  0.721534  0.396214\n",
       " CONTENT:temp    1.0  4.565140e+09  4.565140e+09  0.593183  0.441703\n",
       " CONTENT:prec    1.0  5.491100e+08  5.491100e+08  0.071350  0.789536\n",
       " CONTENT:humi    1.0  5.835845e+09  5.835845e+09  0.758295  0.384451\n",
       " Residual      355.0  2.732083e+12  7.696009e+09       NaN       NaN,\n",
       " <class 'statsmodels.iolib.summary.Summary'>\n",
       " \"\"\"\n",
       "                             OLS Regression Results                            \n",
       " ==============================================================================\n",
       " Dep. Variable:              LCLS_40_P   R-squared:                       0.025\n",
       " Model:                            OLS   Adj. R-squared:                  0.000\n",
       " Method:                 Least Squares   F-statistic:                     1.013\n",
       " Date:                Wed, 14 Aug 2019   Prob (F-statistic):              0.429\n",
       " Time:                        17:39:21   Log-Likelihood:                -4667.3\n",
       " No. Observations:                 365   AIC:                             9355.\n",
       " Df Residuals:                     355   BIC:                             9394.\n",
       " Df Model:                           9                                         \n",
       " Covariance Type:            nonrobust                                         \n",
       " ================================================================================\n",
       "                    coef    std err          t      P>|t|      [0.025      0.975]\n",
       " --------------------------------------------------------------------------------\n",
       " Intercept     5.504e+05   4.42e+04     12.448      0.000    4.63e+05    6.37e+05\n",
       " pm10           -40.3553    342.816     -0.118      0.906    -714.561     633.850\n",
       " pm25           -83.2537    462.594     -0.180      0.857    -993.023     826.515\n",
       " temp          1359.5719   1161.897      1.170      0.243    -925.496    3644.639\n",
       " humi         -1004.7072    963.025     -1.043      0.298   -2898.658     889.244\n",
       " CONTENT        -69.7115     67.439     -1.034      0.302    -202.341      62.918\n",
       " prec           -93.1217   1096.154     -0.085      0.932   -2248.893    2062.650\n",
       " CONTENT:temp    -2.4449      2.223     -1.100      0.272      -6.818       1.928\n",
       " CONTENT:prec    -0.4699      1.847     -0.254      0.799      -4.103       3.163\n",
       " CONTENT:humi     1.3408      1.540      0.871      0.384      -1.687       4.369\n",
       " ==============================================================================\n",
       " Omnibus:                      360.196   Durbin-Watson:                   1.821\n",
       " Prob(Omnibus):                  0.000   Jarque-Bera (JB):            17693.416\n",
       " Skew:                           4.042   Prob(JB):                         0.00\n",
       " Kurtosis:                      36.137   Cond. No.                     3.03e+05\n",
       " ==============================================================================\n",
       " \n",
       " Warnings:\n",
       " [1] Standard Errors assume that the covariance matrix of the errors is correctly specified.\n",
       " [2] The condition number is large, 3.03e+05. This might indicate that there are\n",
       " strong multicollinearity or other numerical problems.\n",
       " \"\"\")"
      ]
     },
     "execution_count": 71,
     "metadata": {},
     "output_type": "execute_result"
    }
   ],
   "source": [
    "anova('LCLS_40_P')"
   ]
  },
  {
   "cell_type": "code",
   "execution_count": 72,
   "metadata": {},
   "outputs": [
    {
     "data": {
      "text/plain": [
       "(                 df        sum_sq       mean_sq           F        PR(>F)\n",
       " pm10            1.0  2.862858e+10  2.862858e+10    0.697445  4.042051e-01\n",
       " pm25            1.0  9.656730e+10  9.656730e+10    2.352559  1.259682e-01\n",
       " temp            1.0  8.312111e+08  8.312111e+08    0.020250  8.869222e-01\n",
       " humi            1.0  4.465780e+12  4.465780e+12  108.794701  2.138958e-22\n",
       " CONTENT         1.0  1.143793e+12  1.143793e+12   27.864914  2.270598e-07\n",
       " prec            1.0  1.331059e+12  1.331059e+12   32.427068  2.597446e-08\n",
       " CONTENT:temp    1.0  7.635898e+10  7.635898e+10    1.860247  1.734605e-01\n",
       " CONTENT:prec    1.0  3.283721e+10  3.283721e+10    0.799976  3.717067e-01\n",
       " CONTENT:humi    1.0  2.485197e+10  2.485197e+10    0.605440  4.370282e-01\n",
       " Residual      355.0  1.457196e+13  4.104777e+10         NaN           NaN,\n",
       " <class 'statsmodels.iolib.summary.Summary'>\n",
       " \"\"\"\n",
       "                             OLS Regression Results                            \n",
       " ==============================================================================\n",
       " Dep. Variable:              LCLS_50_P   R-squared:                       0.331\n",
       " Model:                            OLS   Adj. R-squared:                  0.314\n",
       " Method:                 Least Squares   F-statistic:                     19.49\n",
       " Date:                Wed, 14 Aug 2019   Prob (F-statistic):           1.61e-26\n",
       " Time:                        17:39:21   Log-Likelihood:                -4972.8\n",
       " No. Observations:                 365   AIC:                             9966.\n",
       " Df Residuals:                     355   BIC:                         1.000e+04\n",
       " Df Model:                           9                                         \n",
       " Covariance Type:            nonrobust                                         \n",
       " ================================================================================\n",
       "                    coef    std err          t      P>|t|      [0.025      0.975]\n",
       " --------------------------------------------------------------------------------\n",
       " Intercept     5.113e+05   1.02e+05      5.007      0.000     3.1e+05    7.12e+05\n",
       " pm10          1532.0978    791.722      1.935      0.054     -24.958    3089.154\n",
       " pm25          -520.2638   1068.346     -0.487      0.627   -2621.347    1580.819\n",
       " temp         -3071.9970   2683.365     -1.145      0.253   -8349.288    2205.294\n",
       " humi          8044.5721   2224.075      3.617      0.000    3670.553    1.24e+04\n",
       " CONTENT        -49.7620    155.747     -0.320      0.750    -356.066     256.542\n",
       " prec          3554.5068   2531.532      1.404      0.161   -1424.179    8533.193\n",
       " CONTENT:temp    -5.2055      5.135     -1.014      0.311     -15.304       4.893\n",
       " CONTENT:prec     5.0118      4.267      1.175      0.241      -3.379      13.403\n",
       " CONTENT:humi    -2.7669      3.556     -0.778      0.437      -9.760       4.227\n",
       " ==============================================================================\n",
       " Omnibus:                      163.066   Durbin-Watson:                   1.748\n",
       " Prob(Omnibus):                  0.000   Jarque-Bera (JB):              759.372\n",
       " Skew:                           1.907   Prob(JB):                    1.27e-165\n",
       " Kurtosis:                       8.948   Cond. No.                     3.03e+05\n",
       " ==============================================================================\n",
       " \n",
       " Warnings:\n",
       " [1] Standard Errors assume that the covariance matrix of the errors is correctly specified.\n",
       " [2] The condition number is large, 3.03e+05. This might indicate that there are\n",
       " strong multicollinearity or other numerical problems.\n",
       " \"\"\")"
      ]
     },
     "execution_count": 72,
     "metadata": {},
     "output_type": "execute_result"
    }
   ],
   "source": [
    "anova('LCLS_50_P')"
   ]
  },
  {
   "cell_type": "code",
   "execution_count": 73,
   "metadata": {},
   "outputs": [
    {
     "data": {
      "text/plain": [
       "(                 df        sum_sq       mean_sq         F    PR(>F)\n",
       " pm10            1.0  2.759580e+10  2.759580e+10  4.094666  0.043768\n",
       " pm25            1.0  1.569013e+07  1.569013e+07  0.002328  0.961544\n",
       " temp            1.0  6.985734e+08  6.985734e+08  0.103654  0.747677\n",
       " humi            1.0  5.028553e+09  5.028553e+09  0.746137  0.388285\n",
       " CONTENT         1.0  3.745475e+08  3.745475e+08  0.055575  0.813767\n",
       " prec            1.0  1.866922e+09  1.866922e+09  0.277014  0.598994\n",
       " CONTENT:temp    1.0  8.760469e+09  8.760469e+09  1.299879  0.255004\n",
       " CONTENT:prec    1.0  4.430481e+09  4.430481e+09  0.657395  0.418024\n",
       " CONTENT:humi    1.0  3.046271e+09  3.046271e+09  0.452006  0.501821\n",
       " Residual      355.0  2.392505e+12  6.739450e+09       NaN       NaN,\n",
       " <class 'statsmodels.iolib.summary.Summary'>\n",
       " \"\"\"\n",
       "                             OLS Regression Results                            \n",
       " ==============================================================================\n",
       " Dep. Variable:              LCLS_60_P   R-squared:                       0.021\n",
       " Model:                            OLS   Adj. R-squared:                 -0.004\n",
       " Method:                 Least Squares   F-statistic:                    0.8543\n",
       " Date:                Wed, 14 Aug 2019   Prob (F-statistic):              0.567\n",
       " Time:                        17:39:21   Log-Likelihood:                -4643.0\n",
       " No. Observations:                 365   AIC:                             9306.\n",
       " Df Residuals:                     355   BIC:                             9345.\n",
       " Df Model:                           9                                         \n",
       " Covariance Type:            nonrobust                                         \n",
       " ================================================================================\n",
       "                    coef    std err          t      P>|t|      [0.025      0.975]\n",
       " --------------------------------------------------------------------------------\n",
       " Intercept     1.368e+05   4.14e+04      3.306      0.001    5.54e+04    2.18e+05\n",
       " pm10          -294.5034    320.804     -0.918      0.359    -925.420     336.413\n",
       " pm25            82.8713    432.892      0.191      0.848    -768.484     934.226\n",
       " temp         -1051.0948   1087.295     -0.967      0.334   -3189.443    1087.254\n",
       " humi           333.6161    901.191      0.370      0.711   -1438.728    2105.960\n",
       " CONTENT         17.9684     63.109      0.285      0.776    -106.145     142.082\n",
       " prec            -7.5838   1025.772     -0.007      0.994   -2024.938    2009.771\n",
       " CONTENT:temp     2.9642      2.081      1.425      0.155      -1.128       7.056\n",
       " CONTENT:prec    -0.5344      1.729     -0.309      0.757      -3.934       2.866\n",
       " CONTENT:humi    -0.9687      1.441     -0.672      0.502      -3.802       1.865\n",
       " ==============================================================================\n",
       " Omnibus:                      631.158   Durbin-Watson:                   0.878\n",
       " Prob(Omnibus):                  0.000   Jarque-Bera (JB):           238487.384\n",
       " Skew:                          10.055   Prob(JB):                         0.00\n",
       " Kurtosis:                     126.600   Cond. No.                     3.03e+05\n",
       " ==============================================================================\n",
       " \n",
       " Warnings:\n",
       " [1] Standard Errors assume that the covariance matrix of the errors is correctly specified.\n",
       " [2] The condition number is large, 3.03e+05. This might indicate that there are\n",
       " strong multicollinearity or other numerical problems.\n",
       " \"\"\")"
      ]
     },
     "execution_count": 73,
     "metadata": {},
     "output_type": "execute_result"
    }
   ],
   "source": [
    "anova('LCLS_60_P')"
   ]
  },
  {
   "cell_type": "code",
   "execution_count": 74,
   "metadata": {},
   "outputs": [
    {
     "data": {
      "text/plain": [
       "(                 df        sum_sq       mean_sq          F    PR(>F)\n",
       " pm10            1.0  2.602662e+09  2.602662e+09   4.227623  0.040502\n",
       " pm25            1.0  1.936107e+08  1.936107e+08   0.314491  0.575291\n",
       " temp            1.0  7.304239e+09  7.304239e+09  11.864611  0.000641\n",
       " humi            1.0  1.108819e+10  1.108819e+10  18.011052  0.000028\n",
       " CONTENT         1.0  1.462165e+10  1.462165e+10  23.750611  0.000002\n",
       " prec            1.0  2.133437e+09  2.133437e+09   3.465440  0.063490\n",
       " CONTENT:temp    1.0  1.067619e+08  1.067619e+08   0.173418  0.677343\n",
       " CONTENT:prec    1.0  1.497045e+08  1.497045e+08   0.243172  0.622229\n",
       " CONTENT:humi    1.0  2.543220e+08  2.543220e+08   0.413107  0.520812\n",
       " Residual      355.0  2.185495e+11  6.156324e+08        NaN       NaN,\n",
       " <class 'statsmodels.iolib.summary.Summary'>\n",
       " \"\"\"\n",
       "                             OLS Regression Results                            \n",
       " ==============================================================================\n",
       " Dep. Variable:              LCLS_70_P   R-squared:                       0.150\n",
       " Model:                            OLS   Adj. R-squared:                  0.128\n",
       " Method:                 Least Squares   F-statistic:                     6.940\n",
       " Date:                Wed, 14 Aug 2019   Prob (F-statistic):           3.11e-09\n",
       " Time:                        17:39:22   Log-Likelihood:                -4206.3\n",
       " No. Observations:                 365   AIC:                             8433.\n",
       " Df Residuals:                     355   BIC:                             8472.\n",
       " Df Model:                           9                                         \n",
       " Covariance Type:            nonrobust                                         \n",
       " ================================================================================\n",
       "                    coef    std err          t      P>|t|      [0.025      0.975]\n",
       " --------------------------------------------------------------------------------\n",
       " Intercept     1.748e+05   1.25e+04     13.979      0.000     1.5e+05    1.99e+05\n",
       " pm10          -126.9118     96.959     -1.309      0.191    -317.598      63.775\n",
       " pm25           184.4769    130.836      1.410      0.159     -72.835     441.788\n",
       " temp           689.3160    328.621      2.098      0.037      43.027    1335.605\n",
       " humi          -415.8095    272.374     -1.527      0.128    -951.479     119.860\n",
       " CONTENT        -33.5396     19.074     -1.758      0.080     -71.051       3.972\n",
       " prec           -25.5458    310.027     -0.082      0.934    -635.266     584.175\n",
       " CONTENT:temp    -0.3608      0.629     -0.574      0.567      -1.598       0.876\n",
       " CONTENT:prec    -0.3997      0.523     -0.765      0.445      -1.427       0.628\n",
       " CONTENT:humi     0.2799      0.435      0.643      0.521      -0.577       1.136\n",
       " ==============================================================================\n",
       " Omnibus:                       39.998   Durbin-Watson:                   1.752\n",
       " Prob(Omnibus):                  0.000   Jarque-Bera (JB):               56.507\n",
       " Skew:                           0.748   Prob(JB):                     5.37e-13\n",
       " Kurtosis:                       4.215   Cond. No.                     3.03e+05\n",
       " ==============================================================================\n",
       " \n",
       " Warnings:\n",
       " [1] Standard Errors assume that the covariance matrix of the errors is correctly specified.\n",
       " [2] The condition number is large, 3.03e+05. This might indicate that there are\n",
       " strong multicollinearity or other numerical problems.\n",
       " \"\"\")"
      ]
     },
     "execution_count": 74,
     "metadata": {},
     "output_type": "execute_result"
    }
   ],
   "source": [
    "anova('LCLS_70_P')"
   ]
  },
  {
   "cell_type": "code",
   "execution_count": 75,
   "metadata": {},
   "outputs": [
    {
     "data": {
      "text/plain": [
       "(                 df        sum_sq       mean_sq          F        PR(>F)\n",
       " pm10            1.0  1.998761e+10  1.998761e+10  25.824850  6.057544e-07\n",
       " pm25            1.0  3.130564e+09  3.130564e+09   4.044822  4.506255e-02\n",
       " temp            1.0  6.027771e+10  6.027771e+10  77.881371  5.054311e-17\n",
       " humi            1.0  2.183384e+10  2.183384e+10  28.210252  1.924527e-07\n",
       " CONTENT         1.0  8.470094e+09  8.470094e+09  10.943723  1.035328e-03\n",
       " prec            1.0  6.575042e+09  6.575042e+09   8.495235  3.786658e-03\n",
       " CONTENT:temp    1.0  1.760845e+08  1.760845e+08   0.227509  6.336707e-01\n",
       " CONTENT:prec    1.0  2.294745e+07  2.294745e+07   0.029649  8.633870e-01\n",
       " CONTENT:humi    1.0  1.670700e+08  1.670700e+08   0.215862  6.424963e-01\n",
       " Residual      355.0  2.747587e+11  7.739682e+08        NaN           NaN,\n",
       " <class 'statsmodels.iolib.summary.Summary'>\n",
       " \"\"\"\n",
       "                             OLS Regression Results                            \n",
       " ==============================================================================\n",
       " Dep. Variable:              LCLS_80_P   R-squared:                       0.305\n",
       " Model:                            OLS   Adj. R-squared:                  0.287\n",
       " Method:                 Least Squares   F-statistic:                     17.32\n",
       " Date:                Wed, 14 Aug 2019   Prob (F-statistic):           9.57e-24\n",
       " Time:                        17:39:22   Log-Likelihood:                -4248.1\n",
       " No. Observations:                 365   AIC:                             8516.\n",
       " Df Residuals:                     355   BIC:                             8555.\n",
       " Df Model:                           9                                         \n",
       " Covariance Type:            nonrobust                                         \n",
       " ================================================================================\n",
       "                    coef    std err          t      P>|t|      [0.025      0.975]\n",
       " --------------------------------------------------------------------------------\n",
       " Intercept     1.141e+05    1.4e+04      8.137      0.000    8.65e+04    1.42e+05\n",
       " pm10           -13.4635    108.715     -0.124      0.902    -227.270     200.343\n",
       " pm25           -62.9982    146.700     -0.429      0.668    -351.508     225.511\n",
       " temp          1708.2679    368.465      4.636      0.000     983.619    2432.917\n",
       " humi          -485.7674    305.398     -1.591      0.113   -1086.384     114.849\n",
       " CONTENT        -24.6681     21.386     -1.153      0.250     -66.728      17.392\n",
       " prec          -387.4688    347.616     -1.115      0.266   -1071.115     296.178\n",
       " CONTENT:temp    -0.4583      0.705     -0.650      0.516      -1.845       0.928\n",
       " CONTENT:prec    -0.0650      0.586     -0.111      0.912      -1.217       1.087\n",
       " CONTENT:humi     0.2269      0.488      0.465      0.642      -0.733       1.187\n",
       " ==============================================================================\n",
       " Omnibus:                      129.899   Durbin-Watson:                   1.526\n",
       " Prob(Omnibus):                  0.000   Jarque-Bera (JB):              490.330\n",
       " Skew:                           1.545   Prob(JB):                    3.36e-107\n",
       " Kurtosis:                       7.764   Cond. No.                     3.03e+05\n",
       " ==============================================================================\n",
       " \n",
       " Warnings:\n",
       " [1] Standard Errors assume that the covariance matrix of the errors is correctly specified.\n",
       " [2] The condition number is large, 3.03e+05. This might indicate that there are\n",
       " strong multicollinearity or other numerical problems.\n",
       " \"\"\")"
      ]
     },
     "execution_count": 75,
     "metadata": {},
     "output_type": "execute_result"
    }
   ],
   "source": [
    "anova('LCLS_80_P')"
   ]
  },
  {
   "cell_type": "code",
   "execution_count": null,
   "metadata": {},
   "outputs": [],
   "source": []
  }
 ],
 "metadata": {
  "kernelspec": {
   "display_name": "2019BigC",
   "language": "python",
   "name": "2019bigc"
  },
  "language_info": {
   "codemirror_mode": {
    "name": "ipython",
    "version": 3
   },
   "file_extension": ".py",
   "mimetype": "text/x-python",
   "name": "python",
   "nbconvert_exporter": "python",
   "pygments_lexer": "ipython3",
   "version": "3.7.3"
  }
 },
 "nbformat": 4,
 "nbformat_minor": 2
}

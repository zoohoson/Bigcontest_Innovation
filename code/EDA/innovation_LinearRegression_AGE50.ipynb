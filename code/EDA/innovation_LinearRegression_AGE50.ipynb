{
 "cells": [
  {
   "cell_type": "code",
   "execution_count": 1,
   "metadata": {},
   "outputs": [],
   "source": [
    "import warnings\n",
    "warnings.filterwarnings(\"ignore\")"
   ]
  },
  {
   "cell_type": "code",
   "execution_count": 2,
   "metadata": {},
   "outputs": [],
   "source": [
    "import pandas as pd\n",
    "import numpy as np\n",
    "pd.options.display.max_columns=50\n",
    "\n",
    "import sklearn\n",
    "from sklearn.linear_model import Lasso, Ridge\n",
    "from sklearn.model_selection import train_test_split\n",
    "\n",
    "import matplotlib.pyplot as plt\n",
    "%matplotlib inline"
   ]
  },
  {
   "cell_type": "code",
   "execution_count": 3,
   "metadata": {},
   "outputs": [],
   "source": [
    "# 필요한 패키지와 라이브러리를 가져옴\n",
    "import matplotlib as mpl\n",
    "import matplotlib.pyplot as plt\n",
    "import matplotlib.font_manager as fm\n",
    "path = 'C:\\\\Users\\\\JuhoSon\\\\AppData\\\\Local\\\\Microsoft\\\\Windows\\\\Fonts\\\\NanumGothicCoding-Bold.ttf'\n",
    "font_name = fm.FontProperties(fname=path, size=50).get_name()\n",
    "plt.rc('font', family=font_name)"
   ]
  },
  {
   "cell_type": "markdown",
   "metadata": {},
   "source": [
    "# Data Load"
   ]
  },
  {
   "cell_type": "code",
   "execution_count": 4,
   "metadata": {},
   "outputs": [],
   "source": [
    "df_20 = pd.read_csv('./data/innovation/create/df_age50.csv')"
   ]
  },
  {
   "cell_type": "code",
   "execution_count": 5,
   "metadata": {},
   "outputs": [
    {
     "data": {
      "text/plain": [
       "(365, 38)"
      ]
     },
     "execution_count": 5,
     "metadata": {},
     "output_type": "execute_result"
    }
   ],
   "source": [
    "df_20.shape"
   ]
  },
  {
   "cell_type": "code",
   "execution_count": 6,
   "metadata": {},
   "outputs": [
    {
     "data": {
      "text/html": [
       "<div>\n",
       "<style scoped>\n",
       "    .dataframe tbody tr th:only-of-type {\n",
       "        vertical-align: middle;\n",
       "    }\n",
       "\n",
       "    .dataframe tbody tr th {\n",
       "        vertical-align: top;\n",
       "    }\n",
       "\n",
       "    .dataframe thead th {\n",
       "        text-align: right;\n",
       "    }\n",
       "</style>\n",
       "<table border=\"1\" class=\"dataframe\">\n",
       "  <thead>\n",
       "    <tr style=\"text-align: right;\">\n",
       "      <th></th>\n",
       "      <th>age50숙박</th>\n",
       "      <th>age50레저용품</th>\n",
       "      <th>age50레저업소</th>\n",
       "      <th>age50문화취미</th>\n",
       "      <th>age50가구</th>\n",
       "      <th>age50전기</th>\n",
       "      <th>age50주방</th>\n",
       "      <th>age50연료</th>\n",
       "      <th>age50광학</th>\n",
       "      <th>age50가전</th>\n",
       "      <th>age50유통업</th>\n",
       "      <th>age50의복</th>\n",
       "      <th>age50직물</th>\n",
       "      <th>age50신변잡화</th>\n",
       "      <th>age50서적문구</th>\n",
       "      <th>age50사무통신</th>\n",
       "      <th>age50자동차판매</th>\n",
       "      <th>age50자동차정비</th>\n",
       "      <th>age50의료기관</th>\n",
       "      <th>age50보건위생</th>\n",
       "      <th>age50요식업소</th>\n",
       "      <th>age50음료식품</th>\n",
       "      <th>age50수리서비스</th>\n",
       "      <th>age50</th>\n",
       "      <th>LCLS_10_P</th>\n",
       "      <th>LCLS_20_P</th>\n",
       "      <th>LCLS_30_P</th>\n",
       "      <th>LCLS_40_P</th>\n",
       "      <th>LCLS_50_P</th>\n",
       "      <th>LCLS_60_P</th>\n",
       "      <th>LCLS_70_P</th>\n",
       "      <th>LCLS_80_P</th>\n",
       "      <th>pm10</th>\n",
       "      <th>pm25</th>\n",
       "      <th>CONTENT</th>\n",
       "      <th>temp</th>\n",
       "      <th>humi</th>\n",
       "      <th>강수량(mm)</th>\n",
       "    </tr>\n",
       "  </thead>\n",
       "  <tbody>\n",
       "    <tr>\n",
       "      <th>0</th>\n",
       "      <td>NaN</td>\n",
       "      <td>206.0</td>\n",
       "      <td>1204.0</td>\n",
       "      <td>388.0</td>\n",
       "      <td>25.0</td>\n",
       "      <td>NaN</td>\n",
       "      <td>12.0</td>\n",
       "      <td>2085.0</td>\n",
       "      <td>8.0</td>\n",
       "      <td>64.0</td>\n",
       "      <td>28978.0</td>\n",
       "      <td>437.0</td>\n",
       "      <td>12.0</td>\n",
       "      <td>72.0</td>\n",
       "      <td>760.0</td>\n",
       "      <td>NaN</td>\n",
       "      <td>NaN</td>\n",
       "      <td>58.0</td>\n",
       "      <td>978.0</td>\n",
       "      <td>1877.0</td>\n",
       "      <td>14351.0</td>\n",
       "      <td>2763.0</td>\n",
       "      <td>99.0</td>\n",
       "      <td>326373.41</td>\n",
       "      <td>5.775959e+06</td>\n",
       "      <td>4.653959e+06</td>\n",
       "      <td>7.123695e+06</td>\n",
       "      <td>460575.529718</td>\n",
       "      <td>8.889679e+05</td>\n",
       "      <td>102938.908335</td>\n",
       "      <td>158304.695151</td>\n",
       "      <td>125768.139866</td>\n",
       "      <td>68.127083</td>\n",
       "      <td>35.221528</td>\n",
       "      <td>515</td>\n",
       "      <td>16.580764</td>\n",
       "      <td>56.770833</td>\n",
       "      <td>0.0</td>\n",
       "    </tr>\n",
       "    <tr>\n",
       "      <th>1</th>\n",
       "      <td>39.0</td>\n",
       "      <td>131.0</td>\n",
       "      <td>643.0</td>\n",
       "      <td>210.0</td>\n",
       "      <td>NaN</td>\n",
       "      <td>NaN</td>\n",
       "      <td>25.0</td>\n",
       "      <td>2265.0</td>\n",
       "      <td>46.0</td>\n",
       "      <td>140.0</td>\n",
       "      <td>26613.0</td>\n",
       "      <td>513.0</td>\n",
       "      <td>12.0</td>\n",
       "      <td>140.0</td>\n",
       "      <td>687.0</td>\n",
       "      <td>43.0</td>\n",
       "      <td>NaN</td>\n",
       "      <td>264.0</td>\n",
       "      <td>8666.0</td>\n",
       "      <td>1307.0</td>\n",
       "      <td>13421.0</td>\n",
       "      <td>3256.0</td>\n",
       "      <td>337.0</td>\n",
       "      <td>369821.56</td>\n",
       "      <td>5.798567e+06</td>\n",
       "      <td>4.068040e+06</td>\n",
       "      <td>6.922594e+06</td>\n",
       "      <td>517274.801816</td>\n",
       "      <td>7.320147e+05</td>\n",
       "      <td>85751.772442</td>\n",
       "      <td>189721.667844</td>\n",
       "      <td>159773.285544</td>\n",
       "      <td>71.924306</td>\n",
       "      <td>29.909028</td>\n",
       "      <td>888</td>\n",
       "      <td>19.631111</td>\n",
       "      <td>57.827083</td>\n",
       "      <td>0.0</td>\n",
       "    </tr>\n",
       "    <tr>\n",
       "      <th>2</th>\n",
       "      <td>42.0</td>\n",
       "      <td>119.0</td>\n",
       "      <td>771.0</td>\n",
       "      <td>173.0</td>\n",
       "      <td>13.0</td>\n",
       "      <td>NaN</td>\n",
       "      <td>37.0</td>\n",
       "      <td>2106.0</td>\n",
       "      <td>50.0</td>\n",
       "      <td>72.0</td>\n",
       "      <td>26966.0</td>\n",
       "      <td>546.0</td>\n",
       "      <td>12.0</td>\n",
       "      <td>107.0</td>\n",
       "      <td>669.0</td>\n",
       "      <td>25.0</td>\n",
       "      <td>NaN</td>\n",
       "      <td>241.0</td>\n",
       "      <td>7405.0</td>\n",
       "      <td>1381.0</td>\n",
       "      <td>13933.0</td>\n",
       "      <td>3392.0</td>\n",
       "      <td>276.0</td>\n",
       "      <td>384986.42</td>\n",
       "      <td>5.882238e+06</td>\n",
       "      <td>4.045719e+06</td>\n",
       "      <td>6.679634e+06</td>\n",
       "      <td>396954.848039</td>\n",
       "      <td>6.941187e+05</td>\n",
       "      <td>109181.181977</td>\n",
       "      <td>146743.364491</td>\n",
       "      <td>83460.961960</td>\n",
       "      <td>72.979861</td>\n",
       "      <td>24.331944</td>\n",
       "      <td>856</td>\n",
       "      <td>19.192500</td>\n",
       "      <td>61.674306</td>\n",
       "      <td>0.1</td>\n",
       "    </tr>\n",
       "    <tr>\n",
       "      <th>3</th>\n",
       "      <td>35.0</td>\n",
       "      <td>115.0</td>\n",
       "      <td>751.0</td>\n",
       "      <td>225.0</td>\n",
       "      <td>NaN</td>\n",
       "      <td>13.0</td>\n",
       "      <td>29.0</td>\n",
       "      <td>2103.0</td>\n",
       "      <td>49.0</td>\n",
       "      <td>101.0</td>\n",
       "      <td>28748.0</td>\n",
       "      <td>396.0</td>\n",
       "      <td>24.0</td>\n",
       "      <td>107.0</td>\n",
       "      <td>659.0</td>\n",
       "      <td>NaN</td>\n",
       "      <td>NaN</td>\n",
       "      <td>198.0</td>\n",
       "      <td>6935.0</td>\n",
       "      <td>1335.0</td>\n",
       "      <td>14271.0</td>\n",
       "      <td>3537.0</td>\n",
       "      <td>347.0</td>\n",
       "      <td>377589.84</td>\n",
       "      <td>6.163598e+06</td>\n",
       "      <td>4.284199e+06</td>\n",
       "      <td>6.238373e+06</td>\n",
       "      <td>400734.630537</td>\n",
       "      <td>9.144325e+05</td>\n",
       "      <td>106260.195832</td>\n",
       "      <td>133827.487702</td>\n",
       "      <td>85526.543799</td>\n",
       "      <td>18.221528</td>\n",
       "      <td>10.952778</td>\n",
       "      <td>893</td>\n",
       "      <td>14.075417</td>\n",
       "      <td>60.129861</td>\n",
       "      <td>18.5</td>\n",
       "    </tr>\n",
       "    <tr>\n",
       "      <th>4</th>\n",
       "      <td>51.0</td>\n",
       "      <td>81.0</td>\n",
       "      <td>719.0</td>\n",
       "      <td>183.0</td>\n",
       "      <td>20.0</td>\n",
       "      <td>17.0</td>\n",
       "      <td>NaN</td>\n",
       "      <td>2023.0</td>\n",
       "      <td>25.0</td>\n",
       "      <td>104.0</td>\n",
       "      <td>24812.0</td>\n",
       "      <td>243.0</td>\n",
       "      <td>12.0</td>\n",
       "      <td>76.0</td>\n",
       "      <td>549.0</td>\n",
       "      <td>29.0</td>\n",
       "      <td>NaN</td>\n",
       "      <td>149.0</td>\n",
       "      <td>6381.0</td>\n",
       "      <td>1278.0</td>\n",
       "      <td>13619.0</td>\n",
       "      <td>3470.0</td>\n",
       "      <td>140.0</td>\n",
       "      <td>361374.41</td>\n",
       "      <td>6.131853e+06</td>\n",
       "      <td>3.723724e+06</td>\n",
       "      <td>5.135552e+06</td>\n",
       "      <td>430144.414585</td>\n",
       "      <td>1.099378e+06</td>\n",
       "      <td>120809.906702</td>\n",
       "      <td>149481.681510</td>\n",
       "      <td>89173.629481</td>\n",
       "      <td>8.854861</td>\n",
       "      <td>3.891667</td>\n",
       "      <td>864</td>\n",
       "      <td>8.620000</td>\n",
       "      <td>77.163194</td>\n",
       "      <td>10.5</td>\n",
       "    </tr>\n",
       "  </tbody>\n",
       "</table>\n",
       "</div>"
      ],
      "text/plain": [
       "   age50숙박  age50레저용품  age50레저업소  age50문화취미  age50가구  age50전기  age50주방  \\\n",
       "0      NaN      206.0     1204.0      388.0     25.0      NaN     12.0   \n",
       "1     39.0      131.0      643.0      210.0      NaN      NaN     25.0   \n",
       "2     42.0      119.0      771.0      173.0     13.0      NaN     37.0   \n",
       "3     35.0      115.0      751.0      225.0      NaN     13.0     29.0   \n",
       "4     51.0       81.0      719.0      183.0     20.0     17.0      NaN   \n",
       "\n",
       "   age50연료  age50광학  age50가전  age50유통업  age50의복  age50직물  age50신변잡화  \\\n",
       "0   2085.0      8.0     64.0   28978.0    437.0     12.0       72.0   \n",
       "1   2265.0     46.0    140.0   26613.0    513.0     12.0      140.0   \n",
       "2   2106.0     50.0     72.0   26966.0    546.0     12.0      107.0   \n",
       "3   2103.0     49.0    101.0   28748.0    396.0     24.0      107.0   \n",
       "4   2023.0     25.0    104.0   24812.0    243.0     12.0       76.0   \n",
       "\n",
       "   age50서적문구  age50사무통신  age50자동차판매  age50자동차정비  age50의료기관  age50보건위생  \\\n",
       "0      760.0        NaN         NaN        58.0      978.0     1877.0   \n",
       "1      687.0       43.0         NaN       264.0     8666.0     1307.0   \n",
       "2      669.0       25.0         NaN       241.0     7405.0     1381.0   \n",
       "3      659.0        NaN         NaN       198.0     6935.0     1335.0   \n",
       "4      549.0       29.0         NaN       149.0     6381.0     1278.0   \n",
       "\n",
       "   age50요식업소  age50음료식품  age50수리서비스      age50     LCLS_10_P     LCLS_20_P  \\\n",
       "0    14351.0     2763.0        99.0  326373.41  5.775959e+06  4.653959e+06   \n",
       "1    13421.0     3256.0       337.0  369821.56  5.798567e+06  4.068040e+06   \n",
       "2    13933.0     3392.0       276.0  384986.42  5.882238e+06  4.045719e+06   \n",
       "3    14271.0     3537.0       347.0  377589.84  6.163598e+06  4.284199e+06   \n",
       "4    13619.0     3470.0       140.0  361374.41  6.131853e+06  3.723724e+06   \n",
       "\n",
       "      LCLS_30_P      LCLS_40_P     LCLS_50_P      LCLS_60_P      LCLS_70_P  \\\n",
       "0  7.123695e+06  460575.529718  8.889679e+05  102938.908335  158304.695151   \n",
       "1  6.922594e+06  517274.801816  7.320147e+05   85751.772442  189721.667844   \n",
       "2  6.679634e+06  396954.848039  6.941187e+05  109181.181977  146743.364491   \n",
       "3  6.238373e+06  400734.630537  9.144325e+05  106260.195832  133827.487702   \n",
       "4  5.135552e+06  430144.414585  1.099378e+06  120809.906702  149481.681510   \n",
       "\n",
       "       LCLS_80_P       pm10       pm25  CONTENT       temp       humi  강수량(mm)  \n",
       "0  125768.139866  68.127083  35.221528      515  16.580764  56.770833      0.0  \n",
       "1  159773.285544  71.924306  29.909028      888  19.631111  57.827083      0.0  \n",
       "2   83460.961960  72.979861  24.331944      856  19.192500  61.674306      0.1  \n",
       "3   85526.543799  18.221528  10.952778      893  14.075417  60.129861     18.5  \n",
       "4   89173.629481   8.854861   3.891667      864   8.620000  77.163194     10.5  "
      ]
     },
     "execution_count": 6,
     "metadata": {},
     "output_type": "execute_result"
    }
   ],
   "source": [
    "df_20.head()"
   ]
  },
  {
   "cell_type": "code",
   "execution_count": 7,
   "metadata": {},
   "outputs": [
    {
     "data": {
      "text/plain": [
       "Text(0.5, 0, '업종')"
      ]
     },
     "execution_count": 7,
     "metadata": {},
     "output_type": "execute_result"
    },
    {
     "data": {
      "image/png": "[encoded data removed]",
      "text/plain": [
       "<Figure size 1296x432 with 1 Axes>"
      ]
     },
     "metadata": {
      "needs_background": "light"
     },
     "output_type": "display_data"
    }
   ],
   "source": [
    "df_null = pd.DataFrame(df_20.isnull().sum()).rename(columns={0:'null'})\n",
    "\n",
    "df_null.reset_index(inplace=True)\n",
    "\n",
    "drop_idx = np.where(df_null.null==0)[0]\n",
    "df_null.drop(drop_idx, inplace=True)\n",
    "\n",
    "df_null = df_null.sort_values(by='null', ascending=False).set_index('index')\n",
    "\n",
    "plt.figure(figsize=(18,6))\n",
    "plt.bar(df_null.index, df_null.null, color='y')\n",
    "plt.xticks(df_null.index)\n",
    "plt.ylabel('결측치 개수')\n",
    "plt.xlabel('업종')"
   ]
  },
  {
   "cell_type": "code",
   "execution_count": 7,
   "metadata": {},
   "outputs": [
    {
     "data": {
      "text/plain": [
       "age50숙박        21\n",
       "age50레저용품       1\n",
       "age50레저업소       0\n",
       "age50문화취미       0\n",
       "age50가구       173\n",
       "age50전기       268\n",
       "age50주방       124\n",
       "age50연료         0\n",
       "age50광학        47\n",
       "age50가전         2\n",
       "age50유통업        0\n",
       "age50의복         0\n",
       "age50직물        90\n",
       "age50신변잡화       0\n",
       "age50서적문구       0\n",
       "age50사무통신      99\n",
       "age50자동차판매    329\n",
       "age50자동차정비      1\n",
       "age50의료기관       0\n",
       "age50보건위생       0\n",
       "age50요식업소       0\n",
       "age50음료식품       0\n",
       "age50수리서비스     13\n",
       "age50           0\n",
       "LCLS_10_P       0\n",
       "LCLS_20_P       0\n",
       "LCLS_30_P       0\n",
       "LCLS_40_P       0\n",
       "LCLS_50_P       0\n",
       "LCLS_60_P       0\n",
       "LCLS_70_P       0\n",
       "LCLS_80_P       0\n",
       "pm10            0\n",
       "pm25            0\n",
       "CONTENT         0\n",
       "temp            0\n",
       "humi            0\n",
       "강수량(mm)         0\n",
       "dtype: int64"
      ]
     },
     "execution_count": 7,
     "metadata": {},
     "output_type": "execute_result"
    }
   ],
   "source": [
    "df_20.isnull().sum()"
   ]
  },
  {
   "cell_type": "code",
   "execution_count": 8,
   "metadata": {},
   "outputs": [
    {
     "name": "stdout",
     "output_type": "stream",
     "text": [
      "age50 null columns :  ['가구', '전기', '주방', '광학', '가전', '직물', '사무통신', '자동차판매', '자동차정비', '수리서비스', '숙박', '레저용품']\n"
     ]
    }
   ],
   "source": [
    "print('age50 null columns : ', ['가구', '전기', '주방', '광학', '가전', '직물', '사무통신', '자동차판매', '자동차정비', '수리서비스', '숙박', '레저용품'])"
   ]
  },
  {
   "cell_type": "code",
   "execution_count": 9,
   "metadata": {},
   "outputs": [],
   "source": [
    "df_20.drop(['age50가구', 'age50전기', 'age50주방', \n",
    "           'age50광학', 'age50가전', 'age50직물', \n",
    "           'age50사무통신', 'age50자동차판매', 'age50자동차정비',\n",
    "           \n",
    "           'age50수리서비스', 'age50숙박', 'age50레저용품'], axis=1, inplace=True)"
   ]
  },
  {
   "cell_type": "code",
   "execution_count": 10,
   "metadata": {},
   "outputs": [],
   "source": [
    "df_20  = df_20.rename(columns={'강수량(mm)':'prec'})"
   ]
  },
  {
   "cell_type": "code",
   "execution_count": 11,
   "metadata": {},
   "outputs": [],
   "source": [
    "df_20.columns = ['레저업소', '문화취미', '연료', '유통업',\n",
    "       '의복', '신변잡화', '서적문구', '의료기관', '보건위생',\n",
    "       '요식업소', '음료식품', 'pop', 'LCLS_10_P',\n",
    "       'LCLS_20_P', 'LCLS_30_P', 'LCLS_40_P', 'LCLS_50_P', 'LCLS_60_P',\n",
    "       'LCLS_70_P', 'LCLS_80_P', 'pm10', 'pm25', 'CONTENT', 'temp', 'humi',\n",
    "       'prec']"
   ]
  },
  {
   "cell_type": "code",
   "execution_count": null,
   "metadata": {},
   "outputs": [],
   "source": []
  },
  {
   "cell_type": "markdown",
   "metadata": {},
   "source": [
    "# Two_way Anova (F)"
   ]
  },
  {
   "cell_type": "code",
   "execution_count": 14,
   "metadata": {},
   "outputs": [],
   "source": [
    "import scipy.stats as stats\n",
    "import pandas as pd\n",
    "import urllib\n",
    "from statsmodels.formula.api import ols\n",
    "from statsmodels.stats.anova import anova_lm\n",
    "import matplotlib.pyplot as plt\n",
    "import numpy as np\n",
    "%matplotlib inline"
   ]
  },
  {
   "cell_type": "code",
   "execution_count": 27,
   "metadata": {},
   "outputs": [],
   "source": [
    "# good_idx = np.where(df_20.pm10<=50)[0]\n",
    "\n",
    "# bad_idx = np.where(df_20.pm10>50)[0]\n",
    "\n",
    "# df_20['pm10_category']=[0]*len(df_20)"
   ]
  },
  {
   "cell_type": "code",
   "execution_count": 11,
   "metadata": {},
   "outputs": [],
   "source": [
    "# for i in range(len(df_20)):\n",
    "#     if i in good_idx:\n",
    "#         df_20['pm10_category'].iloc[i] = 'good'\n",
    "# #     elif i in middle_idx:\n",
    "# #         df_20['pm10_category'].iloc[i] = 'middle'\n",
    "#     else:\n",
    "#         df_20['pm10_category'].iloc[i] = 'bad'"
   ]
  },
  {
   "cell_type": "code",
   "execution_count": 12,
   "metadata": {},
   "outputs": [],
   "source": [
    "# good_idx_25 = np.where(df_20.pm25<=25)[0]\n",
    "\n",
    "# bad_idx_25 = np.where(df_20.pm25>25)[0]\n",
    "\n",
    "# df_20['pm25_category']=[0]*len(df_20)"
   ]
  },
  {
   "cell_type": "code",
   "execution_count": 13,
   "metadata": {},
   "outputs": [],
   "source": [
    "# for i in range(len(df_20)):\n",
    "#     if i in good_idx:\n",
    "#         df_20['pm25_category'].iloc[i] = 'good'\n",
    "# #     elif i in middle_idx:\n",
    "# #         df_20['pm10_category'].iloc[i] = 'middle'\n",
    "#     else:\n",
    "#         df_20['pm25_category'].iloc[i] = 'bad'"
   ]
  },
  {
   "cell_type": "code",
   "execution_count": 14,
   "metadata": {},
   "outputs": [],
   "source": [
    "# good_idx_temp = np.where(df_20.temp<=35)[0]\n",
    "\n",
    "# bad_idx_temp = np.where(df_20.temp>35)[0]\n",
    "\n",
    "# df_20['temp_category']=[0]*len(df_20)"
   ]
  },
  {
   "cell_type": "code",
   "execution_count": 15,
   "metadata": {},
   "outputs": [],
   "source": [
    "# for i in range(len(df_20)):\n",
    "#     if i in good_idx:\n",
    "#         df_20['temp_category'].iloc[i] = 'bad'\n",
    "# #     elif i in middle_idx:\n",
    "# #         df_20['pm10_category'].iloc[i] = 'middle'\n",
    "#     else:\n",
    "#         df_20['temp_category'].iloc[i] = 'good'"
   ]
  },
  {
   "cell_type": "code",
   "execution_count": 16,
   "metadata": {},
   "outputs": [],
   "source": [
    "# df_anova = df_20[['age20숙박_USE_AMT', 'pm10', 'pm25', 'temp']]"
   ]
  },
  {
   "cell_type": "markdown",
   "metadata": {},
   "source": [
    "* anova function"
   ]
  },
  {
   "cell_type": "code",
   "execution_count": 46,
   "metadata": {
    "collapsed": true
   },
   "outputs": [
    {
     "ename": "PatsyError",
     "evalue": "Error evaluating factor: NameError: name '숙박' is not defined\n    숙박 ~ pm10 + pm25 + CONTENT + temp + humi + prec + pm10:temp + pm10:prec + pm25:temp + pm25:prec\n    ^^",
     "output_type": "error",
     "traceback": [
      "\u001b[1;31m---------------------------------------------------------------------------\u001b[0m",
      "\u001b[1;31mNameError\u001b[0m                                 Traceback (most recent call last)",
      "\u001b[1;32m~\\Miniconda3\\envs\\2019BigC\\lib\\site-packages\\patsy\\compat.py\u001b[0m in \u001b[0;36mcall_and_wrap_exc\u001b[1;34m(msg, origin, f, *args, **kwargs)\u001b[0m\n\u001b[0;32m     35\u001b[0m     \u001b[1;32mtry\u001b[0m\u001b[1;33m:\u001b[0m\u001b[1;33m\u001b[0m\u001b[1;33m\u001b[0m\u001b[0m\n\u001b[1;32m---> 36\u001b[1;33m         \u001b[1;32mreturn\u001b[0m \u001b[0mf\u001b[0m\u001b[1;33m(\u001b[0m\u001b[1;33m*\u001b[0m\u001b[0margs\u001b[0m\u001b[1;33m,\u001b[0m \u001b[1;33m**\u001b[0m\u001b[0mkwargs\u001b[0m\u001b[1;33m)\u001b[0m\u001b[1;33m\u001b[0m\u001b[1;33m\u001b[0m\u001b[0m\n\u001b[0m\u001b[0;32m     37\u001b[0m     \u001b[1;32mexcept\u001b[0m \u001b[0mException\u001b[0m \u001b[1;32mas\u001b[0m \u001b[0me\u001b[0m\u001b[1;33m:\u001b[0m\u001b[1;33m\u001b[0m\u001b[1;33m\u001b[0m\u001b[0m\n",
      "\u001b[1;32m~\\Miniconda3\\envs\\2019BigC\\lib\\site-packages\\patsy\\eval.py\u001b[0m in \u001b[0;36meval\u001b[1;34m(self, expr, source_name, inner_namespace)\u001b[0m\n\u001b[0;32m    165\u001b[0m         return eval(code, {}, VarLookupDict([inner_namespace]\n\u001b[1;32m--> 166\u001b[1;33m                                             + self._namespaces))\n\u001b[0m\u001b[0;32m    167\u001b[0m \u001b[1;33m\u001b[0m\u001b[0m\n",
      "\u001b[1;32m<string>\u001b[0m in \u001b[0;36m<module>\u001b[1;34m\u001b[0m\n",
      "\u001b[1;31mNameError\u001b[0m: name '숙박' is not defined",
      "\nThe above exception was the direct cause of the following exception:\n",
      "\u001b[1;31mPatsyError\u001b[0m                                Traceback (most recent call last)",
      "\u001b[1;32m<ipython-input-46-518132dd0bc8>\u001b[0m in \u001b[0;36m<module>\u001b[1;34m\u001b[0m\n\u001b[0;32m      1\u001b[0m \u001b[0mformula\u001b[0m \u001b[1;33m=\u001b[0m \u001b[1;34m'숙박 ~ pm10 + pm25 + CONTENT + temp + humi + prec + pm10:temp + pm10:prec + pm25:temp + pm25:prec'\u001b[0m\u001b[1;33m\u001b[0m\u001b[1;33m\u001b[0m\u001b[0m\n\u001b[0;32m      2\u001b[0m \u001b[1;31m# :뒤로넣으면 서로 겹치는 변수를 고려해서 반영해주는것.\u001b[0m\u001b[1;33m\u001b[0m\u001b[1;33m\u001b[0m\u001b[1;33m\u001b[0m\u001b[0m\n\u001b[1;32m----> 3\u001b[1;33m \u001b[0mlm\u001b[0m \u001b[1;33m=\u001b[0m \u001b[0mols\u001b[0m\u001b[1;33m(\u001b[0m\u001b[0mformula\u001b[0m\u001b[1;33m,\u001b[0m \u001b[0mdf_20\u001b[0m\u001b[1;33m)\u001b[0m\u001b[1;33m.\u001b[0m\u001b[0mfit\u001b[0m\u001b[1;33m(\u001b[0m\u001b[1;33m)\u001b[0m\u001b[1;33m\u001b[0m\u001b[1;33m\u001b[0m\u001b[0m\n\u001b[0m",
      "\u001b[1;32m~\\Miniconda3\\envs\\2019BigC\\lib\\site-packages\\statsmodels\\base\\model.py\u001b[0m in \u001b[0;36mfrom_formula\u001b[1;34m(cls, formula, data, subset, drop_cols, *args, **kwargs)\u001b[0m\n\u001b[0;32m    157\u001b[0m \u001b[1;33m\u001b[0m\u001b[0m\n\u001b[0;32m    158\u001b[0m         tmp = handle_formula_data(data, None, formula, depth=eval_env,\n\u001b[1;32m--> 159\u001b[1;33m                                   missing=missing)\n\u001b[0m\u001b[0;32m    160\u001b[0m         \u001b[1;33m(\u001b[0m\u001b[1;33m(\u001b[0m\u001b[0mendog\u001b[0m\u001b[1;33m,\u001b[0m \u001b[0mexog\u001b[0m\u001b[1;33m)\u001b[0m\u001b[1;33m,\u001b[0m \u001b[0mmissing_idx\u001b[0m\u001b[1;33m,\u001b[0m \u001b[0mdesign_info\u001b[0m\u001b[1;33m)\u001b[0m \u001b[1;33m=\u001b[0m \u001b[0mtmp\u001b[0m\u001b[1;33m\u001b[0m\u001b[1;33m\u001b[0m\u001b[0m\n\u001b[0;32m    161\u001b[0m \u001b[1;33m\u001b[0m\u001b[0m\n",
      "\u001b[1;32m~\\Miniconda3\\envs\\2019BigC\\lib\\site-packages\\statsmodels\\formula\\formulatools.py\u001b[0m in \u001b[0;36mhandle_formula_data\u001b[1;34m(Y, X, formula, depth, missing)\u001b[0m\n\u001b[0;32m     63\u001b[0m         \u001b[1;32mif\u001b[0m \u001b[0mdata_util\u001b[0m\u001b[1;33m.\u001b[0m\u001b[0m_is_using_pandas\u001b[0m\u001b[1;33m(\u001b[0m\u001b[0mY\u001b[0m\u001b[1;33m,\u001b[0m \u001b[1;32mNone\u001b[0m\u001b[1;33m)\u001b[0m\u001b[1;33m:\u001b[0m\u001b[1;33m\u001b[0m\u001b[1;33m\u001b[0m\u001b[0m\n\u001b[0;32m     64\u001b[0m             result = dmatrices(formula, Y, depth, return_type='dataframe',\n\u001b[1;32m---> 65\u001b[1;33m                                NA_action=na_action)\n\u001b[0m\u001b[0;32m     66\u001b[0m         \u001b[1;32melse\u001b[0m\u001b[1;33m:\u001b[0m\u001b[1;33m\u001b[0m\u001b[1;33m\u001b[0m\u001b[0m\n\u001b[0;32m     67\u001b[0m             result = dmatrices(formula, Y, depth, return_type='dataframe',\n",
      "\u001b[1;32m~\\Miniconda3\\envs\\2019BigC\\lib\\site-packages\\patsy\\highlevel.py\u001b[0m in \u001b[0;36mdmatrices\u001b[1;34m(formula_like, data, eval_env, NA_action, return_type)\u001b[0m\n\u001b[0;32m    308\u001b[0m     \u001b[0meval_env\u001b[0m \u001b[1;33m=\u001b[0m \u001b[0mEvalEnvironment\u001b[0m\u001b[1;33m.\u001b[0m\u001b[0mcapture\u001b[0m\u001b[1;33m(\u001b[0m\u001b[0meval_env\u001b[0m\u001b[1;33m,\u001b[0m \u001b[0mreference\u001b[0m\u001b[1;33m=\u001b[0m\u001b[1;36m1\u001b[0m\u001b[1;33m)\u001b[0m\u001b[1;33m\u001b[0m\u001b[1;33m\u001b[0m\u001b[0m\n\u001b[0;32m    309\u001b[0m     (lhs, rhs) = _do_highlevel_design(formula_like, data, eval_env,\n\u001b[1;32m--> 310\u001b[1;33m                                       NA_action, return_type)\n\u001b[0m\u001b[0;32m    311\u001b[0m     \u001b[1;32mif\u001b[0m \u001b[0mlhs\u001b[0m\u001b[1;33m.\u001b[0m\u001b[0mshape\u001b[0m\u001b[1;33m[\u001b[0m\u001b[1;36m1\u001b[0m\u001b[1;33m]\u001b[0m \u001b[1;33m==\u001b[0m \u001b[1;36m0\u001b[0m\u001b[1;33m:\u001b[0m\u001b[1;33m\u001b[0m\u001b[1;33m\u001b[0m\u001b[0m\n\u001b[0;32m    312\u001b[0m         \u001b[1;32mraise\u001b[0m \u001b[0mPatsyError\u001b[0m\u001b[1;33m(\u001b[0m\u001b[1;34m\"model is missing required outcome variables\"\u001b[0m\u001b[1;33m)\u001b[0m\u001b[1;33m\u001b[0m\u001b[1;33m\u001b[0m\u001b[0m\n",
      "\u001b[1;32m~\\Miniconda3\\envs\\2019BigC\\lib\\site-packages\\patsy\\highlevel.py\u001b[0m in \u001b[0;36m_do_highlevel_design\u001b[1;34m(formula_like, data, eval_env, NA_action, return_type)\u001b[0m\n\u001b[0;32m    163\u001b[0m         \u001b[1;32mreturn\u001b[0m \u001b[0miter\u001b[0m\u001b[1;33m(\u001b[0m\u001b[1;33m[\u001b[0m\u001b[0mdata\u001b[0m\u001b[1;33m]\u001b[0m\u001b[1;33m)\u001b[0m\u001b[1;33m\u001b[0m\u001b[1;33m\u001b[0m\u001b[0m\n\u001b[0;32m    164\u001b[0m     design_infos = _try_incr_builders(formula_like, data_iter_maker, eval_env,\n\u001b[1;32m--> 165\u001b[1;33m                                       NA_action)\n\u001b[0m\u001b[0;32m    166\u001b[0m     \u001b[1;32mif\u001b[0m \u001b[0mdesign_infos\u001b[0m \u001b[1;32mis\u001b[0m \u001b[1;32mnot\u001b[0m \u001b[1;32mNone\u001b[0m\u001b[1;33m:\u001b[0m\u001b[1;33m\u001b[0m\u001b[1;33m\u001b[0m\u001b[0m\n\u001b[0;32m    167\u001b[0m         return build_design_matrices(design_infos, data,\n",
      "\u001b[1;32m~\\Miniconda3\\envs\\2019BigC\\lib\\site-packages\\patsy\\highlevel.py\u001b[0m in \u001b[0;36m_try_incr_builders\u001b[1;34m(formula_like, data_iter_maker, eval_env, NA_action)\u001b[0m\n\u001b[0;32m     68\u001b[0m                                       \u001b[0mdata_iter_maker\u001b[0m\u001b[1;33m,\u001b[0m\u001b[1;33m\u001b[0m\u001b[1;33m\u001b[0m\u001b[0m\n\u001b[0;32m     69\u001b[0m                                       \u001b[0meval_env\u001b[0m\u001b[1;33m,\u001b[0m\u001b[1;33m\u001b[0m\u001b[1;33m\u001b[0m\u001b[0m\n\u001b[1;32m---> 70\u001b[1;33m                                       NA_action)\n\u001b[0m\u001b[0;32m     71\u001b[0m     \u001b[1;32melse\u001b[0m\u001b[1;33m:\u001b[0m\u001b[1;33m\u001b[0m\u001b[1;33m\u001b[0m\u001b[0m\n\u001b[0;32m     72\u001b[0m         \u001b[1;32mreturn\u001b[0m \u001b[1;32mNone\u001b[0m\u001b[1;33m\u001b[0m\u001b[1;33m\u001b[0m\u001b[0m\n",
      "\u001b[1;32m~\\Miniconda3\\envs\\2019BigC\\lib\\site-packages\\patsy\\build.py\u001b[0m in \u001b[0;36mdesign_matrix_builders\u001b[1;34m(termlists, data_iter_maker, eval_env, NA_action)\u001b[0m\n\u001b[0;32m    694\u001b[0m                                                    \u001b[0mfactor_states\u001b[0m\u001b[1;33m,\u001b[0m\u001b[1;33m\u001b[0m\u001b[1;33m\u001b[0m\u001b[0m\n\u001b[0;32m    695\u001b[0m                                                    \u001b[0mdata_iter_maker\u001b[0m\u001b[1;33m,\u001b[0m\u001b[1;33m\u001b[0m\u001b[1;33m\u001b[0m\u001b[0m\n\u001b[1;32m--> 696\u001b[1;33m                                                    NA_action)\n\u001b[0m\u001b[0;32m    697\u001b[0m     \u001b[1;31m# Now we need the factor infos, which encapsulate the knowledge of\u001b[0m\u001b[1;33m\u001b[0m\u001b[1;33m\u001b[0m\u001b[1;33m\u001b[0m\u001b[0m\n\u001b[0;32m    698\u001b[0m     \u001b[1;31m# how to turn any given factor into a chunk of data:\u001b[0m\u001b[1;33m\u001b[0m\u001b[1;33m\u001b[0m\u001b[1;33m\u001b[0m\u001b[0m\n",
      "\u001b[1;32m~\\Miniconda3\\envs\\2019BigC\\lib\\site-packages\\patsy\\build.py\u001b[0m in \u001b[0;36m_examine_factor_types\u001b[1;34m(factors, factor_states, data_iter_maker, NA_action)\u001b[0m\n\u001b[0;32m    441\u001b[0m     \u001b[1;32mfor\u001b[0m \u001b[0mdata\u001b[0m \u001b[1;32min\u001b[0m \u001b[0mdata_iter_maker\u001b[0m\u001b[1;33m(\u001b[0m\u001b[1;33m)\u001b[0m\u001b[1;33m:\u001b[0m\u001b[1;33m\u001b[0m\u001b[1;33m\u001b[0m\u001b[0m\n\u001b[0;32m    442\u001b[0m         \u001b[1;32mfor\u001b[0m \u001b[0mfactor\u001b[0m \u001b[1;32min\u001b[0m \u001b[0mlist\u001b[0m\u001b[1;33m(\u001b[0m\u001b[0mexamine_needed\u001b[0m\u001b[1;33m)\u001b[0m\u001b[1;33m:\u001b[0m\u001b[1;33m\u001b[0m\u001b[1;33m\u001b[0m\u001b[0m\n\u001b[1;32m--> 443\u001b[1;33m             \u001b[0mvalue\u001b[0m \u001b[1;33m=\u001b[0m \u001b[0mfactor\u001b[0m\u001b[1;33m.\u001b[0m\u001b[0meval\u001b[0m\u001b[1;33m(\u001b[0m\u001b[0mfactor_states\u001b[0m\u001b[1;33m[\u001b[0m\u001b[0mfactor\u001b[0m\u001b[1;33m]\u001b[0m\u001b[1;33m,\u001b[0m \u001b[0mdata\u001b[0m\u001b[1;33m)\u001b[0m\u001b[1;33m\u001b[0m\u001b[1;33m\u001b[0m\u001b[0m\n\u001b[0m\u001b[0;32m    444\u001b[0m             \u001b[1;32mif\u001b[0m \u001b[0mfactor\u001b[0m \u001b[1;32min\u001b[0m \u001b[0mcat_sniffers\u001b[0m \u001b[1;32mor\u001b[0m \u001b[0mguess_categorical\u001b[0m\u001b[1;33m(\u001b[0m\u001b[0mvalue\u001b[0m\u001b[1;33m)\u001b[0m\u001b[1;33m:\u001b[0m\u001b[1;33m\u001b[0m\u001b[1;33m\u001b[0m\u001b[0m\n\u001b[0;32m    445\u001b[0m                 \u001b[1;32mif\u001b[0m \u001b[0mfactor\u001b[0m \u001b[1;32mnot\u001b[0m \u001b[1;32min\u001b[0m \u001b[0mcat_sniffers\u001b[0m\u001b[1;33m:\u001b[0m\u001b[1;33m\u001b[0m\u001b[1;33m\u001b[0m\u001b[0m\n",
      "\u001b[1;32m~\\Miniconda3\\envs\\2019BigC\\lib\\site-packages\\patsy\\eval.py\u001b[0m in \u001b[0;36meval\u001b[1;34m(self, memorize_state, data)\u001b[0m\n\u001b[0;32m    564\u001b[0m         return self._eval(memorize_state[\"eval_code\"],\n\u001b[0;32m    565\u001b[0m                           \u001b[0mmemorize_state\u001b[0m\u001b[1;33m,\u001b[0m\u001b[1;33m\u001b[0m\u001b[1;33m\u001b[0m\u001b[0m\n\u001b[1;32m--> 566\u001b[1;33m                           data)\n\u001b[0m\u001b[0;32m    567\u001b[0m \u001b[1;33m\u001b[0m\u001b[0m\n\u001b[0;32m    568\u001b[0m     \u001b[0m__getstate__\u001b[0m \u001b[1;33m=\u001b[0m \u001b[0mno_pickling\u001b[0m\u001b[1;33m\u001b[0m\u001b[1;33m\u001b[0m\u001b[0m\n",
      "\u001b[1;32m~\\Miniconda3\\envs\\2019BigC\\lib\\site-packages\\patsy\\eval.py\u001b[0m in \u001b[0;36m_eval\u001b[1;34m(self, code, memorize_state, data)\u001b[0m\n\u001b[0;32m    549\u001b[0m                                  \u001b[0mmemorize_state\u001b[0m\u001b[1;33m[\u001b[0m\u001b[1;34m\"eval_env\"\u001b[0m\u001b[1;33m]\u001b[0m\u001b[1;33m.\u001b[0m\u001b[0meval\u001b[0m\u001b[1;33m,\u001b[0m\u001b[1;33m\u001b[0m\u001b[1;33m\u001b[0m\u001b[0m\n\u001b[0;32m    550\u001b[0m                                  \u001b[0mcode\u001b[0m\u001b[1;33m,\u001b[0m\u001b[1;33m\u001b[0m\u001b[1;33m\u001b[0m\u001b[0m\n\u001b[1;32m--> 551\u001b[1;33m                                  inner_namespace=inner_namespace)\n\u001b[0m\u001b[0;32m    552\u001b[0m \u001b[1;33m\u001b[0m\u001b[0m\n\u001b[0;32m    553\u001b[0m     \u001b[1;32mdef\u001b[0m \u001b[0mmemorize_chunk\u001b[0m\u001b[1;33m(\u001b[0m\u001b[0mself\u001b[0m\u001b[1;33m,\u001b[0m \u001b[0mstate\u001b[0m\u001b[1;33m,\u001b[0m \u001b[0mwhich_pass\u001b[0m\u001b[1;33m,\u001b[0m \u001b[0mdata\u001b[0m\u001b[1;33m)\u001b[0m\u001b[1;33m:\u001b[0m\u001b[1;33m\u001b[0m\u001b[1;33m\u001b[0m\u001b[0m\n",
      "\u001b[1;32m~\\Miniconda3\\envs\\2019BigC\\lib\\site-packages\\patsy\\compat.py\u001b[0m in \u001b[0;36mcall_and_wrap_exc\u001b[1;34m(msg, origin, f, *args, **kwargs)\u001b[0m\n\u001b[0;32m     41\u001b[0m                                  origin)\n\u001b[0;32m     42\u001b[0m             \u001b[1;31m# Use 'exec' to hide this syntax from the Python 2 parser:\u001b[0m\u001b[1;33m\u001b[0m\u001b[1;33m\u001b[0m\u001b[1;33m\u001b[0m\u001b[0m\n\u001b[1;32m---> 43\u001b[1;33m             \u001b[0mexec\u001b[0m\u001b[1;33m(\u001b[0m\u001b[1;34m\"raise new_exc from e\"\u001b[0m\u001b[1;33m)\u001b[0m\u001b[1;33m\u001b[0m\u001b[1;33m\u001b[0m\u001b[0m\n\u001b[0m\u001b[0;32m     44\u001b[0m         \u001b[1;32melse\u001b[0m\u001b[1;33m:\u001b[0m\u001b[1;33m\u001b[0m\u001b[1;33m\u001b[0m\u001b[0m\n\u001b[0;32m     45\u001b[0m             \u001b[1;31m# In python 2, we just let the original exception escape -- better\u001b[0m\u001b[1;33m\u001b[0m\u001b[1;33m\u001b[0m\u001b[1;33m\u001b[0m\u001b[0m\n",
      "\u001b[1;32m~\\Miniconda3\\envs\\2019BigC\\lib\\site-packages\\patsy\\compat.py\u001b[0m in \u001b[0;36m<module>\u001b[1;34m\u001b[0m\n",
      "\u001b[1;31mPatsyError\u001b[0m: Error evaluating factor: NameError: name '숙박' is not defined\n    숙박 ~ pm10 + pm25 + CONTENT + temp + humi + prec + pm10:temp + pm10:prec + pm25:temp + pm25:prec\n    ^^"
     ]
    }
   ],
   "source": [
    "formula = '숙박 ~ pm10 + pm25 + CONTENT + temp + humi + prec + pm10:temp + pm10:prec + pm25:temp + pm25:prec'\n",
    "# :뒤로넣으면 서로 겹치는 변수를 고려해서 반영해주는것.\n",
    "lm = ols(formula, df_20).fit()"
   ]
  },
  {
   "cell_type": "code",
   "execution_count": 102,
   "metadata": {},
   "outputs": [
    {
     "data": {
      "text/html": [
       "<div>\n",
       "<style scoped>\n",
       "    .dataframe tbody tr th:only-of-type {\n",
       "        vertical-align: middle;\n",
       "    }\n",
       "\n",
       "    .dataframe tbody tr th {\n",
       "        vertical-align: top;\n",
       "    }\n",
       "\n",
       "    .dataframe thead th {\n",
       "        text-align: right;\n",
       "    }\n",
       "</style>\n",
       "<table border=\"1\" class=\"dataframe\">\n",
       "  <thead>\n",
       "    <tr style=\"text-align: right;\">\n",
       "      <th></th>\n",
       "      <th>df</th>\n",
       "      <th>sum_sq</th>\n",
       "      <th>mean_sq</th>\n",
       "      <th>F</th>\n",
       "      <th>PR(&gt;F)</th>\n",
       "    </tr>\n",
       "  </thead>\n",
       "  <tbody>\n",
       "    <tr>\n",
       "      <th>pm10</th>\n",
       "      <td>1.0</td>\n",
       "      <td>7.507348e+04</td>\n",
       "      <td>75073.479325</td>\n",
       "      <td>4.968606</td>\n",
       "      <td>0.026437</td>\n",
       "    </tr>\n",
       "    <tr>\n",
       "      <th>pm25</th>\n",
       "      <td>1.0</td>\n",
       "      <td>3.745534e+04</td>\n",
       "      <td>37455.337109</td>\n",
       "      <td>2.478915</td>\n",
       "      <td>0.116273</td>\n",
       "    </tr>\n",
       "    <tr>\n",
       "      <th>temp</th>\n",
       "      <td>1.0</td>\n",
       "      <td>1.757853e+04</td>\n",
       "      <td>17578.528367</td>\n",
       "      <td>1.163404</td>\n",
       "      <td>0.281493</td>\n",
       "    </tr>\n",
       "    <tr>\n",
       "      <th>humi</th>\n",
       "      <td>1.0</td>\n",
       "      <td>1.467224e+04</td>\n",
       "      <td>14672.243167</td>\n",
       "      <td>0.971056</td>\n",
       "      <td>0.325088</td>\n",
       "    </tr>\n",
       "    <tr>\n",
       "      <th>prec</th>\n",
       "      <td>1.0</td>\n",
       "      <td>6.108905e+02</td>\n",
       "      <td>610.890518</td>\n",
       "      <td>0.040431</td>\n",
       "      <td>0.840756</td>\n",
       "    </tr>\n",
       "    <tr>\n",
       "      <th>pm10:temp</th>\n",
       "      <td>1.0</td>\n",
       "      <td>1.911251e+04</td>\n",
       "      <td>19112.513535</td>\n",
       "      <td>1.264928</td>\n",
       "      <td>0.261480</td>\n",
       "    </tr>\n",
       "    <tr>\n",
       "      <th>pm10:prec</th>\n",
       "      <td>1.0</td>\n",
       "      <td>5.420094e+00</td>\n",
       "      <td>5.420094</td>\n",
       "      <td>0.000359</td>\n",
       "      <td>0.984900</td>\n",
       "    </tr>\n",
       "    <tr>\n",
       "      <th>pm25:temp</th>\n",
       "      <td>1.0</td>\n",
       "      <td>2.306983e+03</td>\n",
       "      <td>2306.982800</td>\n",
       "      <td>0.152684</td>\n",
       "      <td>0.696218</td>\n",
       "    </tr>\n",
       "    <tr>\n",
       "      <th>pm25:prec</th>\n",
       "      <td>1.0</td>\n",
       "      <td>2.999732e+03</td>\n",
       "      <td>2999.732331</td>\n",
       "      <td>0.198532</td>\n",
       "      <td>0.656180</td>\n",
       "    </tr>\n",
       "    <tr>\n",
       "      <th>Residual</th>\n",
       "      <td>355.0</td>\n",
       "      <td>5.363896e+06</td>\n",
       "      <td>15109.567143</td>\n",
       "      <td>NaN</td>\n",
       "      <td>NaN</td>\n",
       "    </tr>\n",
       "  </tbody>\n",
       "</table>\n",
       "</div>"
      ],
      "text/plain": [
       "              df        sum_sq       mean_sq         F    PR(>F)\n",
       "pm10         1.0  7.507348e+04  75073.479325  4.968606  0.026437\n",
       "pm25         1.0  3.745534e+04  37455.337109  2.478915  0.116273\n",
       "temp         1.0  1.757853e+04  17578.528367  1.163404  0.281493\n",
       "humi         1.0  1.467224e+04  14672.243167  0.971056  0.325088\n",
       "prec         1.0  6.108905e+02    610.890518  0.040431  0.840756\n",
       "pm10:temp    1.0  1.911251e+04  19112.513535  1.264928  0.261480\n",
       "pm10:prec    1.0  5.420094e+00      5.420094  0.000359  0.984900\n",
       "pm25:temp    1.0  2.306983e+03   2306.982800  0.152684  0.696218\n",
       "pm25:prec    1.0  2.999732e+03   2999.732331  0.198532  0.656180\n",
       "Residual   355.0  5.363896e+06  15109.567143       NaN       NaN"
      ]
     },
     "execution_count": 102,
     "metadata": {},
     "output_type": "execute_result"
    }
   ],
   "source": [
    "anova_lm(lm)"
   ]
  },
  {
   "cell_type": "code",
   "execution_count": 70,
   "metadata": {},
   "outputs": [],
   "source": [
    "def anova(col_name):\n",
    "    formula = col_name + ' ~ pm10 + pm25 + temp + humi + CONTENT + prec + CONTENT:temp + CONTENT:prec + CONTENT:humi'\n",
    "    lm = ols(formula, df_20).fit()\n",
    "    return anova_lm(lm), lm.summary()"
   ]
  },
  {
   "cell_type": "code",
   "execution_count": 48,
   "metadata": {},
   "outputs": [],
   "source": [
    "def coef_bar(colname):\n",
    "    X = df_20.drop(colname, axis=1)\n",
    "    Y = df_20[colname]\n",
    "\n",
    "    X_train, X_test, y_train, y_test = train_test_split(X, Y, test_size=0.33, random_state=42)\n",
    "    ridge = Ridge(fit_intercept=True,\n",
    "    #               alpha=0.5\n",
    "                 )\n",
    "    # solver : svd, 초코피? 는 NE바로안될떄 적용하고, 뒤에 4개는 SGD에 사용\n",
    "    ridge.fit(X_train,y_train)\n",
    "    # lasso.fit(X_train, y_train)\n",
    "\n",
    "    # set_df\n",
    "    df_sukbak = pd.DataFrame(ridge.coef_, df_20.drop(colname,axis=1).columns).rename(columns={0:'coef'})\n",
    "    df_sukbak = df_sukbak.sort_values(by='coef', ascending=False)\n",
    "\n",
    "    # bar\n",
    "    plt.figure(figsize=(12, 6))\n",
    "    plt.barh(df_sukbak.index, df_sukbak['coef'])\n",
    "    # plt.xticks(df_sukbak['coef'])\n",
    "    return None"
   ]
  },
  {
   "cell_type": "markdown",
   "metadata": {},
   "source": [
    "# Check Coef"
   ]
  },
  {
   "cell_type": "code",
   "execution_count": 17,
   "metadata": {},
   "outputs": [],
   "source": [
    "from sklearn.linear_model import Lasso, Ridge"
   ]
  },
  {
   "cell_type": "code",
   "execution_count": 18,
   "metadata": {},
   "outputs": [],
   "source": [
    "from sklearn.model_selection import train_test_split"
   ]
  },
  {
   "cell_type": "markdown",
   "metadata": {},
   "source": [
    "## 숙박 10"
   ]
  },
  {
   "cell_type": "code",
   "execution_count": 19,
   "metadata": {},
   "outputs": [],
   "source": [
    "# anova(\"숙박\")"
   ]
  },
  {
   "cell_type": "code",
   "execution_count": 20,
   "metadata": {},
   "outputs": [],
   "source": [
    "# coef_bar('숙박')"
   ]
  },
  {
   "cell_type": "markdown",
   "metadata": {},
   "source": [
    "## 레저용품 20"
   ]
  },
  {
   "cell_type": "code",
   "execution_count": 21,
   "metadata": {},
   "outputs": [],
   "source": [
    "# anova(\"레저용품\")"
   ]
  },
  {
   "cell_type": "code",
   "execution_count": 22,
   "metadata": {},
   "outputs": [],
   "source": [
    "# coef_bar('레저용품')"
   ]
  },
  {
   "cell_type": "markdown",
   "metadata": {},
   "source": [
    "## 문화취미 22"
   ]
  },
  {
   "cell_type": "code",
   "execution_count": 71,
   "metadata": {},
   "outputs": [
    {
     "data": {
      "text/plain": [
       "(                 df        sum_sq       mean_sq          F        PR(>F)\n",
       " pm10            1.0  4.728444e+04  4.728444e+04   2.607102  1.072744e-01\n",
       " pm25            1.0  1.611619e+04  1.611619e+04   0.888592  3.465003e-01\n",
       " temp            1.0  4.389667e+03  4.389667e+03   0.242031  6.230470e-01\n",
       " humi            1.0  2.676011e+05  2.676011e+05  14.754608  1.450074e-04\n",
       " CONTENT         1.0  1.662313e+06  1.662313e+06  91.654232  1.825737e-19\n",
       " prec            1.0  7.694543e+03  7.694543e+03   0.424251  5.152450e-01\n",
       " CONTENT:temp    1.0  4.260249e+05  4.260249e+05  23.489557  1.880662e-06\n",
       " CONTENT:prec    1.0  2.961682e+02  2.961682e+02   0.016330  8.983893e-01\n",
       " CONTENT:humi    1.0  9.654655e+02  9.654655e+02   0.053232  8.176640e-01\n",
       " Residual      355.0  6.438557e+06  1.813678e+04        NaN           NaN,\n",
       " <class 'statsmodels.iolib.summary.Summary'>\n",
       " \"\"\"\n",
       "                             OLS Regression Results                            \n",
       " ==============================================================================\n",
       " Dep. Variable:                   문화취미   R-squared:                       0.274\n",
       " Model:                            OLS   Adj. R-squared:                  0.256\n",
       " Method:                 Least Squares   F-statistic:                     14.90\n",
       " Date:                Wed, 14 Aug 2019   Prob (F-statistic):           1.49e-20\n",
       " Time:                        16:40:25   Log-Likelihood:                -2302.4\n",
       " No. Observations:                 365   AIC:                             4625.\n",
       " Df Residuals:                     355   BIC:                             4664.\n",
       " Df Model:                           9                                         \n",
       " Covariance Type:            nonrobust                                         \n",
       " ================================================================================\n",
       "                    coef    std err          t      P>|t|      [0.025      0.975]\n",
       " --------------------------------------------------------------------------------\n",
       " Intercept      457.2205     67.877      6.736      0.000     323.730     590.711\n",
       " pm10            -0.0828      0.526     -0.157      0.875      -1.118       0.952\n",
       " pm25             1.1539      0.710      1.625      0.105      -0.243       2.550\n",
       " temp             6.4389      1.784      3.610      0.000       2.931       9.947\n",
       " humi            -1.5949      1.478     -1.079      0.281      -4.502       1.313\n",
       " CONTENT         -0.1195      0.104     -1.154      0.249      -0.323       0.084\n",
       " prec            -0.1732      1.683     -0.103      0.918      -3.483       3.136\n",
       " CONTENT:temp    -0.0151      0.003     -4.436      0.000      -0.022      -0.008\n",
       " CONTENT:prec -5.594e-05      0.003     -0.020      0.984      -0.006       0.006\n",
       " CONTENT:humi     0.0005      0.002      0.231      0.818      -0.004       0.005\n",
       " ==============================================================================\n",
       " Omnibus:                       47.600   Durbin-Watson:                   0.725\n",
       " Prob(Omnibus):                  0.000   Jarque-Bera (JB):               66.497\n",
       " Skew:                           0.879   Prob(JB):                     3.63e-15\n",
       " Kurtosis:                       4.132   Cond. No.                     3.03e+05\n",
       " ==============================================================================\n",
       " \n",
       " Warnings:\n",
       " [1] Standard Errors assume that the covariance matrix of the errors is correctly specified.\n",
       " [2] The condition number is large, 3.03e+05. This might indicate that there are\n",
       " strong multicollinearity or other numerical problems.\n",
       " \"\"\")"
      ]
     },
     "execution_count": 71,
     "metadata": {},
     "output_type": "execute_result"
    }
   ],
   "source": [
    "anova(\"문화취미\")"
   ]
  },
  {
   "cell_type": "code",
   "execution_count": 72,
   "metadata": {},
   "outputs": [
    {
     "data": {
      "image/png": "[encoded data removed]",
      "text/plain": [
       "<Figure size 864x432 with 1 Axes>"
      ]
     },
     "metadata": {
      "needs_background": "light"
     },
     "output_type": "display_data"
    }
   ],
   "source": [
    "coef_bar('문화취미')"
   ]
  },
  {
   "cell_type": "markdown",
   "metadata": {},
   "source": [
    "# 가구 30 Null로 삭제"
   ]
  },
  {
   "cell_type": "markdown",
   "metadata": {},
   "source": [
    "## 전기 31 Null로 삭제"
   ]
  },
  {
   "cell_type": "markdown",
   "metadata": {},
   "source": [
    "## 주방용구 32 Null로 삭제"
   ]
  },
  {
   "cell_type": "markdown",
   "metadata": {},
   "source": [
    "## 유통업 40"
   ]
  },
  {
   "cell_type": "code",
   "execution_count": 73,
   "metadata": {},
   "outputs": [
    {
     "data": {
      "text/plain": [
       "(                 df        sum_sq       mean_sq          F        PR(>F)\n",
       " pm10            1.0  5.489628e+07  5.489628e+07  10.887269  1.066385e-03\n",
       " pm25            1.0  4.777820e+05  4.777820e+05   0.094756  7.583965e-01\n",
       " temp            1.0  3.928635e+08  3.928635e+08  77.914396  4.985489e-17\n",
       " humi            1.0  9.853177e+07  9.853177e+07  19.541250  1.310119e-05\n",
       " CONTENT         1.0  6.939295e+07  6.939295e+07  13.762312  2.406953e-04\n",
       " prec            1.0  6.064986e+07  6.064986e+07  12.028346  5.883577e-04\n",
       " CONTENT:temp    1.0  6.871209e+06  6.871209e+06   1.362728  2.438487e-01\n",
       " CONTENT:prec    1.0  6.671921e+06  6.671921e+06   1.323204  2.507920e-01\n",
       " CONTENT:humi    1.0  1.439132e+07  1.439132e+07   2.854150  9.201637e-02\n",
       " Residual      355.0  1.789997e+09  5.042245e+06        NaN           NaN,\n",
       " <class 'statsmodels.iolib.summary.Summary'>\n",
       " \"\"\"\n",
       "                             OLS Regression Results                            \n",
       " ==============================================================================\n",
       " Dep. Variable:                    유통업   R-squared:                       0.282\n",
       " Model:                            OLS   Adj. R-squared:                  0.264\n",
       " Method:                 Least Squares   F-statistic:                     15.53\n",
       " Date:                Wed, 14 Aug 2019   Prob (F-statistic):           2.16e-21\n",
       " Time:                        16:40:26   Log-Likelihood:                -3329.4\n",
       " No. Observations:                 365   AIC:                             6679.\n",
       " Df Residuals:                     355   BIC:                             6718.\n",
       " Df Model:                           9                                         \n",
       " Covariance Type:            nonrobust                                         \n",
       " ================================================================================\n",
       "                    coef    std err          t      P>|t|      [0.025      0.975]\n",
       " --------------------------------------------------------------------------------\n",
       " Intercept     2.587e+04   1131.753     22.855      0.000    2.36e+04    2.81e+04\n",
       " pm10           -10.9775      8.775     -1.251      0.212     -28.235       6.280\n",
       " pm25            20.6642     11.841      1.745      0.082      -2.623      43.951\n",
       " temp           112.5557     29.740      3.785      0.000      54.066     171.045\n",
       " humi            19.3616     24.650      0.785      0.433     -29.117      67.840\n",
       " CONTENT          1.6057      1.726      0.930      0.353      -1.789       5.000\n",
       " prec           -41.1270     28.058     -1.466      0.144     -96.307      14.053\n",
       " CONTENT:temp    -0.0082      0.057     -0.144      0.886      -0.120       0.104\n",
       " CONTENT:prec    -0.0017      0.047     -0.035      0.972      -0.095       0.091\n",
       " CONTENT:humi    -0.0666      0.039     -1.689      0.092      -0.144       0.011\n",
       " ==============================================================================\n",
       " Omnibus:                       65.839   Durbin-Watson:                   1.648\n",
       " Prob(Omnibus):                  0.000   Jarque-Bera (JB):              604.808\n",
       " Skew:                          -0.397   Prob(JB):                    4.65e-132\n",
       " Kurtosis:                       9.256   Cond. No.                     3.03e+05\n",
       " ==============================================================================\n",
       " \n",
       " Warnings:\n",
       " [1] Standard Errors assume that the covariance matrix of the errors is correctly specified.\n",
       " [2] The condition number is large, 3.03e+05. This might indicate that there are\n",
       " strong multicollinearity or other numerical problems.\n",
       " \"\"\")"
      ]
     },
     "execution_count": 73,
     "metadata": {},
     "output_type": "execute_result"
    }
   ],
   "source": [
    "anova(\"유통업\")"
   ]
  },
  {
   "cell_type": "code",
   "execution_count": 74,
   "metadata": {},
   "outputs": [
    {
     "data": {
      "image/png": "[encoded data removed]",
      "text/plain": [
       "<Figure size 864x432 with 1 Axes>"
      ]
     },
     "metadata": {
      "needs_background": "light"
     },
     "output_type": "display_data"
    }
   ],
   "source": [
    "coef_bar('유통업')"
   ]
  },
  {
   "cell_type": "markdown",
   "metadata": {},
   "source": [
    "## 의복 42"
   ]
  },
  {
   "cell_type": "code",
   "execution_count": 75,
   "metadata": {},
   "outputs": [
    {
     "data": {
      "text/plain": [
       "(                 df        sum_sq        mean_sq          F        PR(>F)\n",
       " pm10            1.0  1.094309e+05  109430.934457  14.989187  1.286962e-04\n",
       " pm25            1.0  2.605920e+04   26059.199239   3.569431  5.966719e-02\n",
       " temp            1.0  2.680508e+05  268050.812425  36.715978  3.488575e-09\n",
       " humi            1.0  1.197302e+05  119730.192215  16.399917  6.301209e-05\n",
       " CONTENT         1.0  6.174768e+04   61747.684813   8.457824  3.863456e-03\n",
       " prec            1.0  9.870207e+04   98702.066989  13.519612  2.725925e-04\n",
       " CONTENT:temp    1.0  1.752446e+05  175244.600736  24.003945  1.463988e-06\n",
       " CONTENT:prec    1.0  9.247273e+02     924.727303   0.126664  7.221282e-01\n",
       " CONTENT:humi    1.0  2.358745e+04   23587.449726   3.230866  7.311217e-02\n",
       " Residual      355.0  2.591734e+06    7300.658423        NaN           NaN,\n",
       " <class 'statsmodels.iolib.summary.Summary'>\n",
       " \"\"\"\n",
       "                             OLS Regression Results                            \n",
       " ==============================================================================\n",
       " Dep. Variable:                     의복   R-squared:                       0.254\n",
       " Model:                            OLS   Adj. R-squared:                  0.235\n",
       " Method:                 Least Squares   F-statistic:                     13.45\n",
       " Date:                Wed, 14 Aug 2019   Prob (F-statistic):           1.44e-18\n",
       " Time:                        16:40:26   Log-Likelihood:                -2136.3\n",
       " No. Observations:                 365   AIC:                             4293.\n",
       " Df Residuals:                     355   BIC:                             4332.\n",
       " Df Model:                           9                                         \n",
       " Covariance Type:            nonrobust                                         \n",
       " ================================================================================\n",
       "                    coef    std err          t      P>|t|      [0.025      0.975]\n",
       " --------------------------------------------------------------------------------\n",
       " Intercept      315.8826     43.065      7.335      0.000     231.189     400.576\n",
       " pm10            -0.1243      0.334     -0.372      0.710      -0.781       0.532\n",
       " pm25            -0.2821      0.451     -0.626      0.532      -1.168       0.604\n",
       " temp            -1.4358      1.132     -1.269      0.205      -3.661       0.790\n",
       " humi             0.7559      0.938      0.806      0.421      -1.089       2.601\n",
       " CONTENT          0.0474      0.066      0.721      0.471      -0.082       0.177\n",
       " prec            -2.5482      1.068     -2.387      0.018      -4.648      -0.449\n",
       " CONTENT:temp     0.0112      0.002      5.189      0.000       0.007       0.015\n",
       " CONTENT:prec     0.0012      0.002      0.688      0.492      -0.002       0.005\n",
       " CONTENT:humi    -0.0027      0.001     -1.797      0.073      -0.006       0.000\n",
       " ==============================================================================\n",
       " Omnibus:                       29.345   Durbin-Watson:                   1.217\n",
       " Prob(Omnibus):                  0.000   Jarque-Bera (JB):               54.110\n",
       " Skew:                           0.481   Prob(JB):                     1.78e-12\n",
       " Kurtosis:                       4.622   Cond. No.                     3.03e+05\n",
       " ==============================================================================\n",
       " \n",
       " Warnings:\n",
       " [1] Standard Errors assume that the covariance matrix of the errors is correctly specified.\n",
       " [2] The condition number is large, 3.03e+05. This might indicate that there are\n",
       " strong multicollinearity or other numerical problems.\n",
       " \"\"\")"
      ]
     },
     "execution_count": 75,
     "metadata": {},
     "output_type": "execute_result"
    }
   ],
   "source": [
    "anova('의복')"
   ]
  },
  {
   "cell_type": "code",
   "execution_count": 76,
   "metadata": {},
   "outputs": [
    {
     "data": {
      "image/png": "[encoded data removed]",
      "text/plain": [
       "<Figure size 864x432 with 1 Axes>"
      ]
     },
     "metadata": {
      "needs_background": "light"
     },
     "output_type": "display_data"
    }
   ],
   "source": [
    "coef_bar('의복')"
   ]
  },
  {
   "cell_type": "markdown",
   "metadata": {},
   "source": [
    "## 직물 43 Null로 삭제"
   ]
  },
  {
   "cell_type": "markdown",
   "metadata": {},
   "source": [
    "## 신변잡화 44"
   ]
  },
  {
   "cell_type": "code",
   "execution_count": 77,
   "metadata": {},
   "outputs": [
    {
     "data": {
      "text/plain": [
       "(                 df         sum_sq      mean_sq         F    PR(>F)\n",
       " pm10            1.0    1247.072034  1247.072034  1.555903  0.213088\n",
       " pm25            1.0     286.567673   286.567673  0.357535  0.550260\n",
       " temp            1.0    3354.219047  3354.219047  4.184874  0.041523\n",
       " humi            1.0    7929.996594  7929.996594  9.893820  0.001798\n",
       " CONTENT         1.0      96.051821    96.051821  0.119839  0.729415\n",
       " prec            1.0    1158.000786  1158.000786  1.444774  0.230170\n",
       " CONTENT:temp    1.0     186.893917   186.893917  0.233177  0.629476\n",
       " CONTENT:prec    1.0     252.043392   252.043392  0.314461  0.575310\n",
       " CONTENT:humi    1.0      92.236728    92.236728  0.115079  0.734635\n",
       " Residual      355.0  284536.085132   801.510099       NaN       NaN,\n",
       " <class 'statsmodels.iolib.summary.Summary'>\n",
       " \"\"\"\n",
       "                             OLS Regression Results                            \n",
       " ==============================================================================\n",
       " Dep. Variable:                   신변잡화   R-squared:                       0.049\n",
       " Model:                            OLS   Adj. R-squared:                  0.025\n",
       " Method:                 Least Squares   F-statistic:                     2.024\n",
       " Date:                Wed, 14 Aug 2019   Prob (F-statistic):             0.0359\n",
       " Time:                        16:40:27   Log-Likelihood:                -1733.1\n",
       " No. Observations:                 365   AIC:                             3486.\n",
       " Df Residuals:                     355   BIC:                             3525.\n",
       " Df Model:                           9                                         \n",
       " Covariance Type:            nonrobust                                         \n",
       " ================================================================================\n",
       "                    coef    std err          t      P>|t|      [0.025      0.975]\n",
       " --------------------------------------------------------------------------------\n",
       " Intercept      106.1227     14.269      7.437      0.000      78.060     134.185\n",
       " pm10            -0.0710      0.111     -0.642      0.522      -0.289       0.147\n",
       " pm25             0.0381      0.149      0.255      0.799      -0.255       0.332\n",
       " temp             0.3420      0.375      0.912      0.362      -0.395       1.079\n",
       " humi            -0.1932      0.311     -0.622      0.535      -0.804       0.418\n",
       " CONTENT          0.0049      0.022      0.226      0.822      -0.038       0.048\n",
       " prec            -0.3957      0.354     -1.119      0.264      -1.091       0.300\n",
       " CONTENT:temp     0.0004      0.001      0.493      0.623      -0.001       0.002\n",
       " CONTENT:prec     0.0004      0.001      0.655      0.513      -0.001       0.002\n",
       " CONTENT:humi    -0.0002      0.000     -0.339      0.735      -0.001       0.001\n",
       " ==============================================================================\n",
       " Omnibus:                        3.289   Durbin-Watson:                   1.582\n",
       " Prob(Omnibus):                  0.193   Jarque-Bera (JB):                3.369\n",
       " Skew:                           0.223   Prob(JB):                        0.186\n",
       " Kurtosis:                       2.850   Cond. No.                     3.03e+05\n",
       " ==============================================================================\n",
       " \n",
       " Warnings:\n",
       " [1] Standard Errors assume that the covariance matrix of the errors is correctly specified.\n",
       " [2] The condition number is large, 3.03e+05. This might indicate that there are\n",
       " strong multicollinearity or other numerical problems.\n",
       " \"\"\")"
      ]
     },
     "execution_count": 77,
     "metadata": {},
     "output_type": "execute_result"
    }
   ],
   "source": [
    "anova('신변잡화')"
   ]
  },
  {
   "cell_type": "code",
   "execution_count": 78,
   "metadata": {},
   "outputs": [
    {
     "data": {
      "image/png": "[encoded data removed]",
      "text/plain": [
       "<Figure size 864x432 with 1 Axes>"
      ]
     },
     "metadata": {
      "needs_background": "light"
     },
     "output_type": "display_data"
    }
   ],
   "source": [
    "coef_bar('신변잡화')"
   ]
  },
  {
   "cell_type": "markdown",
   "metadata": {},
   "source": [
    "## 서적문구 50"
   ]
  },
  {
   "cell_type": "code",
   "execution_count": 79,
   "metadata": {},
   "outputs": [
    {
     "data": {
      "text/plain": [
       "(                 df        sum_sq       mean_sq          F        PR(>F)\n",
       " pm10            1.0  2.586053e+06  2.586053e+06  48.195385  1.843976e-11\n",
       " pm25            1.0  8.084855e+04  8.084855e+04   1.506747  2.204495e-01\n",
       " temp            1.0  7.339581e+05  7.339581e+05  13.678525  2.512557e-04\n",
       " humi            1.0  2.198652e+04  2.198652e+04   0.409755  5.225067e-01\n",
       " CONTENT         1.0  1.117378e+04  1.117378e+04   0.208242  6.484279e-01\n",
       " prec            1.0  1.931003e+04  1.931003e+04   0.359874  5.489587e-01\n",
       " CONTENT:temp    1.0  3.079377e+04  3.079377e+04   0.573893  4.492187e-01\n",
       " CONTENT:prec    1.0  5.092843e+04  5.092843e+04   0.949136  3.306027e-01\n",
       " CONTENT:humi    1.0  1.045723e+04  1.045723e+04   0.194888  6.591481e-01\n",
       " Residual      355.0  1.904848e+07  5.365769e+04        NaN           NaN,\n",
       " <class 'statsmodels.iolib.summary.Summary'>\n",
       " \"\"\"\n",
       "                             OLS Regression Results                            \n",
       " ==============================================================================\n",
       " Dep. Variable:                   서적문구   R-squared:                       0.157\n",
       " Model:                            OLS   Adj. R-squared:                  0.136\n",
       " Method:                 Least Squares   F-statistic:                     7.342\n",
       " Date:                Wed, 14 Aug 2019   Prob (F-statistic):           7.92e-10\n",
       " Time:                        16:40:28   Log-Likelihood:                -2500.3\n",
       " No. Observations:                 365   AIC:                             5021.\n",
       " Df Residuals:                     355   BIC:                             5060.\n",
       " Df Model:                           9                                         \n",
       " Covariance Type:            nonrobust                                         \n",
       " ================================================================================\n",
       "                    coef    std err          t      P>|t|      [0.025      0.975]\n",
       " --------------------------------------------------------------------------------\n",
       " Intercept      509.6681    116.750      4.365      0.000     280.060     739.276\n",
       " pm10             1.5094      0.905      1.668      0.096      -0.271       3.290\n",
       " pm25             1.9934      1.221      1.632      0.104      -0.409       4.396\n",
       " temp             3.9874      3.068      1.300      0.195      -2.046      10.021\n",
       " humi            -2.0919      2.543     -0.823      0.411      -7.093       2.909\n",
       " CONTENT         -0.0925      0.178     -0.520      0.604      -0.443       0.258\n",
       " prec             3.4234      2.894      1.183      0.238      -2.269       9.116\n",
       " CONTENT:temp     0.0037      0.006      0.630      0.529      -0.008       0.015\n",
       " CONTENT:prec    -0.0052      0.005     -1.057      0.291      -0.015       0.004\n",
       " CONTENT:humi     0.0018      0.004      0.441      0.659      -0.006       0.010\n",
       " ==============================================================================\n",
       " Omnibus:                      210.618   Durbin-Watson:                   0.463\n",
       " Prob(Omnibus):                  0.000   Jarque-Bera (JB):             1757.006\n",
       " Skew:                           2.328   Prob(JB):                         0.00\n",
       " Kurtosis:                      12.687   Cond. No.                     3.03e+05\n",
       " ==============================================================================\n",
       " \n",
       " Warnings:\n",
       " [1] Standard Errors assume that the covariance matrix of the errors is correctly specified.\n",
       " [2] The condition number is large, 3.03e+05. This might indicate that there are\n",
       " strong multicollinearity or other numerical problems.\n",
       " \"\"\")"
      ]
     },
     "execution_count": 79,
     "metadata": {},
     "output_type": "execute_result"
    }
   ],
   "source": [
    "anova('서적문구')"
   ]
  },
  {
   "cell_type": "code",
   "execution_count": 80,
   "metadata": {},
   "outputs": [
    {
     "data": {
      "image/png": "[encoded data removed]",
      "text/plain": [
       "<Figure size 864x432 with 1 Axes>"
      ]
     },
     "metadata": {
      "needs_background": "light"
     },
     "output_type": "display_data"
    }
   ],
   "source": [
    "coef_bar('서적문구')"
   ]
  },
  {
   "cell_type": "markdown",
   "metadata": {},
   "source": [
    "## 자동차판매 60 Null로 삭제"
   ]
  },
  {
   "cell_type": "markdown",
   "metadata": {},
   "source": [
    "## 자동차정비 62 Null로 삭제"
   ]
  },
  {
   "cell_type": "markdown",
   "metadata": {},
   "source": [
    "## 의료기관 70"
   ]
  },
  {
   "cell_type": "code",
   "execution_count": 81,
   "metadata": {},
   "outputs": [
    {
     "data": {
      "text/plain": [
       "(                 df        sum_sq       mean_sq          F        PR(>F)\n",
       " pm10            1.0  3.578007e+07  3.578007e+07   6.045630  1.441738e-02\n",
       " pm25            1.0  4.509422e+06  4.509422e+06   0.761941  3.833118e-01\n",
       " temp            1.0  5.268246e+06  5.268246e+06   0.890157  3.460765e-01\n",
       " humi            1.0  8.655908e+06  8.655908e+06   1.462558  2.273284e-01\n",
       " CONTENT         1.0  3.744714e+08  3.744714e+08  63.273083  2.434784e-14\n",
       " prec            1.0  2.196364e+06  2.196364e+06   0.371112  5.427885e-01\n",
       " CONTENT:temp    1.0  3.942247e+07  3.942247e+07   6.661073  1.025487e-02\n",
       " CONTENT:prec    1.0  2.388812e+06  2.388812e+06   0.403629  5.256303e-01\n",
       " CONTENT:humi    1.0  2.300222e+06  2.300222e+06   0.388660  5.334048e-01\n",
       " Residual      355.0  2.101009e+09  5.918336e+06        NaN           NaN,\n",
       " <class 'statsmodels.iolib.summary.Summary'>\n",
       " \"\"\"\n",
       "                             OLS Regression Results                            \n",
       " ==============================================================================\n",
       " Dep. Variable:                   의료기관   R-squared:                       0.184\n",
       " Model:                            OLS   Adj. R-squared:                  0.164\n",
       " Method:                 Least Squares   F-statistic:                     8.918\n",
       " Date:                Wed, 14 Aug 2019   Prob (F-statistic):           3.82e-12\n",
       " Time:                        16:40:28   Log-Likelihood:                -3358.7\n",
       " No. Observations:                 365   AIC:                             6737.\n",
       " Df Residuals:                     355   BIC:                             6776.\n",
       " Df Model:                           9                                         \n",
       " Covariance Type:            nonrobust                                         \n",
       " ================================================================================\n",
       "                    coef    std err          t      P>|t|      [0.025      0.975]\n",
       " --------------------------------------------------------------------------------\n",
       " Intercept     4975.3232   1226.139      4.058      0.000    2563.915    7386.732\n",
       " pm10             9.0238      9.507      0.949      0.343      -9.673      27.720\n",
       " pm25           -14.9897     12.828     -1.168      0.243     -40.219      10.239\n",
       " temp           -50.5467     32.221     -1.569      0.118    -113.914      12.821\n",
       " humi            -9.0540     26.706     -0.339      0.735     -61.575      43.467\n",
       " CONTENT          1.3972      1.870      0.747      0.456      -2.281       5.075\n",
       " prec            13.8061     30.398      0.454      0.650     -45.976      73.588\n",
       " CONTENT:temp     0.1311      0.062      2.126      0.034       0.010       0.252\n",
       " CONTENT:prec    -0.0447      0.051     -0.873      0.383      -0.145       0.056\n",
       " CONTENT:humi     0.0266      0.043      0.623      0.533      -0.057       0.111\n",
       " ==============================================================================\n",
       " Omnibus:                       34.732   Durbin-Watson:                   2.298\n",
       " Prob(Omnibus):                  0.000   Jarque-Bera (JB):               42.815\n",
       " Skew:                          -0.839   Prob(JB):                     5.05e-10\n",
       " Kurtosis:                       3.048   Cond. No.                     3.03e+05\n",
       " ==============================================================================\n",
       " \n",
       " Warnings:\n",
       " [1] Standard Errors assume that the covariance matrix of the errors is correctly specified.\n",
       " [2] The condition number is large, 3.03e+05. This might indicate that there are\n",
       " strong multicollinearity or other numerical problems.\n",
       " \"\"\")"
      ]
     },
     "execution_count": 81,
     "metadata": {},
     "output_type": "execute_result"
    }
   ],
   "source": [
    "anova('의료기관')"
   ]
  },
  {
   "cell_type": "code",
   "execution_count": 82,
   "metadata": {},
   "outputs": [
    {
     "data": {
      "image/png": "[encoded data removed]",
      "text/plain": [
       "<Figure size 864x432 with 1 Axes>"
      ]
     },
     "metadata": {
      "needs_background": "light"
     },
     "output_type": "display_data"
    }
   ],
   "source": [
    "coef_bar('의료기관')"
   ]
  },
  {
   "cell_type": "markdown",
   "metadata": {},
   "source": [
    "## 보건위생 71"
   ]
  },
  {
   "cell_type": "code",
   "execution_count": 83,
   "metadata": {},
   "outputs": [
    {
     "data": {
      "text/plain": [
       "(                 df        sum_sq       mean_sq          F        PR(>F)\n",
       " pm10            1.0  1.127741e+06  1.127741e+06  17.025403  4.599481e-05\n",
       " pm25            1.0  4.934409e+05  4.934409e+05   7.449433  6.661702e-03\n",
       " temp            1.0  1.501211e+06  1.501211e+06  22.663652  2.814791e-06\n",
       " humi            1.0  1.062755e+06  1.062755e+06  16.044320  7.539818e-05\n",
       " CONTENT         1.0  6.455217e+06  6.455217e+06  97.453835  1.805853e-20\n",
       " prec            1.0  1.528044e+05  1.528044e+05   2.306875  1.296929e-01\n",
       " CONTENT:temp    1.0  7.206464e+04  7.206464e+04   1.087953  2.976349e-01\n",
       " CONTENT:prec    1.0  2.040081e+04  2.040081e+04   0.307989  5.792662e-01\n",
       " CONTENT:humi    1.0  6.656618e+05  6.656618e+05  10.049436  1.656466e-03\n",
       " Residual      355.0  2.351474e+07  6.623872e+04        NaN           NaN,\n",
       " <class 'statsmodels.iolib.summary.Summary'>\n",
       " \"\"\"\n",
       "                             OLS Regression Results                            \n",
       " ==============================================================================\n",
       " Dep. Variable:                   보건위생   R-squared:                       0.329\n",
       " Model:                            OLS   Adj. R-squared:                  0.312\n",
       " Method:                 Least Squares   F-statistic:                     19.38\n",
       " Date:                Wed, 14 Aug 2019   Prob (F-statistic):           2.24e-26\n",
       " Time:                        16:40:29   Log-Likelihood:                -2538.8\n",
       " No. Observations:                 365   AIC:                             5098.\n",
       " Df Residuals:                     355   BIC:                             5137.\n",
       " Df Model:                           9                                         \n",
       " Covariance Type:            nonrobust                                         \n",
       " ================================================================================\n",
       "                    coef    std err          t      P>|t|      [0.025      0.975]\n",
       " --------------------------------------------------------------------------------\n",
       " Intercept     1516.0134    129.717     11.687      0.000    1260.904    1771.123\n",
       " pm10            -1.2524      1.006     -1.245      0.214      -3.230       0.726\n",
       " pm25             4.2622      1.357      3.141      0.002       1.593       6.931\n",
       " temp           -10.5714      3.409     -3.101      0.002     -17.275      -3.868\n",
       " humi             5.9900      2.825      2.120      0.035       0.434      11.546\n",
       " CONTENT          0.0981      0.198      0.496      0.620      -0.291       0.487\n",
       " prec            -5.9393      3.216     -1.847      0.066     -12.264       0.385\n",
       " CONTENT:temp     0.0034      0.007      0.514      0.607      -0.009       0.016\n",
       " CONTENT:prec     0.0069      0.005      1.275      0.203      -0.004       0.018\n",
       " CONTENT:humi    -0.0143      0.005     -3.170      0.002      -0.023      -0.005\n",
       " ==============================================================================\n",
       " Omnibus:                       21.606   Durbin-Watson:                   1.289\n",
       " Prob(Omnibus):                  0.000   Jarque-Bera (JB):               64.342\n",
       " Skew:                           0.107   Prob(JB):                     1.07e-14\n",
       " Kurtosis:                       5.046   Cond. No.                     3.03e+05\n",
       " ==============================================================================\n",
       " \n",
       " Warnings:\n",
       " [1] Standard Errors assume that the covariance matrix of the errors is correctly specified.\n",
       " [2] The condition number is large, 3.03e+05. This might indicate that there are\n",
       " strong multicollinearity or other numerical problems.\n",
       " \"\"\")"
      ]
     },
     "execution_count": 83,
     "metadata": {},
     "output_type": "execute_result"
    }
   ],
   "source": [
    "anova('보건위생')"
   ]
  },
  {
   "cell_type": "code",
   "execution_count": 84,
   "metadata": {},
   "outputs": [
    {
     "data": {
      "image/png": "[encoded data removed]",
      "text/plain": [
       "<Figure size 864x432 with 1 Axes>"
      ]
     },
     "metadata": {
      "needs_background": "light"
     },
     "output_type": "display_data"
    }
   ],
   "source": [
    "coef_bar('보건위생')"
   ]
  },
  {
   "cell_type": "markdown",
   "metadata": {},
   "source": [
    "## 요식업소 80"
   ]
  },
  {
   "cell_type": "code",
   "execution_count": 85,
   "metadata": {},
   "outputs": [
    {
     "data": {
      "text/plain": [
       "(                 df        sum_sq       mean_sq          F        PR(>F)\n",
       " pm10            1.0  1.445647e+05  1.445647e+05   0.095295  7.577311e-01\n",
       " pm25            1.0  4.924830e+05  4.924830e+05   0.324639  5.691931e-01\n",
       " temp            1.0  1.872724e+07  1.872724e+07  12.344796  4.993808e-04\n",
       " humi            1.0  3.932759e+07  3.932759e+07  25.924322  5.773514e-07\n",
       " CONTENT         1.0  2.063171e+07  2.063171e+07  13.600203  2.615515e-04\n",
       " prec            1.0  1.617839e+07  1.617839e+07  10.664618  1.198397e-03\n",
       " CONTENT:temp    1.0  8.755847e+06  8.755847e+06   5.771760  1.679859e-02\n",
       " CONTENT:prec    1.0  6.618931e+04  6.618931e+04   0.043631  8.346609e-01\n",
       " CONTENT:humi    1.0  2.812414e+06  2.812414e+06   1.853913  1.741925e-01\n",
       " Residual      355.0  5.385404e+08  1.517015e+06        NaN           NaN,\n",
       " <class 'statsmodels.iolib.summary.Summary'>\n",
       " \"\"\"\n",
       "                             OLS Regression Results                            \n",
       " ==============================================================================\n",
       " Dep. Variable:                   요식업소   R-squared:                       0.166\n",
       " Model:                            OLS   Adj. R-squared:                  0.145\n",
       " Method:                 Least Squares   F-statistic:                     7.847\n",
       " Date:                Wed, 14 Aug 2019   Prob (F-statistic):           1.42e-10\n",
       " Time:                        16:40:30   Log-Likelihood:                -3110.2\n",
       " No. Observations:                 365   AIC:                             6240.\n",
       " Df Residuals:                     355   BIC:                             6279.\n",
       " Df Model:                           9                                         \n",
       " Covariance Type:            nonrobust                                         \n",
       " ================================================================================\n",
       "                    coef    std err          t      P>|t|      [0.025      0.975]\n",
       " --------------------------------------------------------------------------------\n",
       " Intercept     1.432e+04    620.776     23.075      0.000    1.31e+04    1.55e+04\n",
       " pm10            -4.8481      4.813     -1.007      0.314     -14.314       4.618\n",
       " pm25            11.5611      6.495      1.780      0.076      -1.212      24.334\n",
       " temp            47.0992     16.313      2.887      0.004      15.017      79.181\n",
       " humi             2.6723     13.521      0.198      0.843     -23.918      29.263\n",
       " CONTENT          1.0009      0.947      1.057      0.291      -0.861       2.863\n",
       " prec           -28.7604     15.390     -1.869      0.062     -59.027       1.506\n",
       " CONTENT:temp    -0.0476      0.031     -1.525      0.128      -0.109       0.014\n",
       " CONTENT:prec     0.0148      0.026      0.572      0.567      -0.036       0.066\n",
       " CONTENT:humi    -0.0294      0.022     -1.362      0.174      -0.072       0.013\n",
       " ==============================================================================\n",
       " Omnibus:                      249.574   Durbin-Watson:                   0.953\n",
       " Prob(Omnibus):                  0.000   Jarque-Bera (JB):             4610.320\n",
       " Skew:                          -2.572   Prob(JB):                         0.00\n",
       " Kurtosis:                      19.634   Cond. No.                     3.03e+05\n",
       " ==============================================================================\n",
       " \n",
       " Warnings:\n",
       " [1] Standard Errors assume that the covariance matrix of the errors is correctly specified.\n",
       " [2] The condition number is large, 3.03e+05. This might indicate that there are\n",
       " strong multicollinearity or other numerical problems.\n",
       " \"\"\")"
      ]
     },
     "execution_count": 85,
     "metadata": {},
     "output_type": "execute_result"
    }
   ],
   "source": [
    "anova('요식업소')"
   ]
  },
  {
   "cell_type": "code",
   "execution_count": 86,
   "metadata": {},
   "outputs": [
    {
     "data": {
      "image/png": "[encoded data removed]",
      "text/plain": [
       "<Figure size 864x432 with 1 Axes>"
      ]
     },
     "metadata": {
      "needs_background": "light"
     },
     "output_type": "display_data"
    }
   ],
   "source": [
    "coef_bar('요식업소')"
   ]
  },
  {
   "cell_type": "markdown",
   "metadata": {},
   "source": [
    "## 음료식품 81"
   ]
  },
  {
   "cell_type": "code",
   "execution_count": 87,
   "metadata": {},
   "outputs": [
    {
     "data": {
      "text/plain": [
       "(                 df        sum_sq       mean_sq          F    PR(>F)\n",
       " pm10            1.0  1.106106e+06  1.106106e+06   5.463253  0.019976\n",
       " pm25            1.0  8.906322e+04  8.906322e+04   0.439899  0.507602\n",
       " temp            1.0  2.718623e+06  2.718623e+06  13.427766  0.000286\n",
       " humi            1.0  1.107649e+05  1.107649e+05   0.547087  0.459999\n",
       " CONTENT         1.0  9.628334e+05  9.628334e+05   4.755606  0.029859\n",
       " prec            1.0  1.227342e+05  1.227342e+05   0.606206  0.436739\n",
       " CONTENT:temp    1.0  3.559336e+05  3.559336e+05   1.758020  0.185724\n",
       " CONTENT:prec    1.0  2.547206e+05  2.547206e+05   1.258111  0.262767\n",
       " CONTENT:humi    1.0  1.317029e+06  1.317029e+06   6.505043  0.011176\n",
       " Residual      355.0  7.187431e+07  2.024628e+05        NaN       NaN,\n",
       " <class 'statsmodels.iolib.summary.Summary'>\n",
       " \"\"\"\n",
       "                             OLS Regression Results                            \n",
       " ==============================================================================\n",
       " Dep. Variable:                   음료식품   R-squared:                       0.089\n",
       " Model:                            OLS   Adj. R-squared:                  0.066\n",
       " Method:                 Least Squares   F-statistic:                     3.862\n",
       " Date:                Wed, 14 Aug 2019   Prob (F-statistic):           0.000110\n",
       " Time:                        16:40:30   Log-Likelihood:                -2742.7\n",
       " No. Observations:                 365   AIC:                             5505.\n",
       " Df Residuals:                     355   BIC:                             5544.\n",
       " Df Model:                           9                                         \n",
       " Covariance Type:            nonrobust                                         \n",
       " ================================================================================\n",
       "                    coef    std err          t      P>|t|      [0.025      0.975]\n",
       " --------------------------------------------------------------------------------\n",
       " Intercept     2998.6848    226.784     13.223      0.000    2552.676    3444.694\n",
       " pm10            -1.2254      1.758     -0.697      0.486      -4.683       2.233\n",
       " pm25             1.8574      2.373      0.783      0.434      -2.809       6.524\n",
       " temp           -20.7799      5.959     -3.487      0.001     -32.500      -9.060\n",
       " humi            10.1004      4.939      2.045      0.042       0.386      19.815\n",
       " CONTENT          0.8454      0.346      2.444      0.015       0.165       1.526\n",
       " prec            -4.8558      5.622     -0.864      0.388     -15.913       6.201\n",
       " CONTENT:temp     0.0279      0.011      2.443      0.015       0.005       0.050\n",
       " CONTENT:prec     0.0044      0.009      0.461      0.645      -0.014       0.023\n",
       " CONTENT:humi    -0.0201      0.008     -2.550      0.011      -0.036      -0.005\n",
       " ==============================================================================\n",
       " Omnibus:                       78.273   Durbin-Watson:                   1.500\n",
       " Prob(Omnibus):                  0.000   Jarque-Bera (JB):              972.663\n",
       " Skew:                           0.455   Prob(JB):                    6.15e-212\n",
       " Kurtosis:                      10.945   Cond. No.                     3.03e+05\n",
       " ==============================================================================\n",
       " \n",
       " Warnings:\n",
       " [1] Standard Errors assume that the covariance matrix of the errors is correctly specified.\n",
       " [2] The condition number is large, 3.03e+05. This might indicate that there are\n",
       " strong multicollinearity or other numerical problems.\n",
       " \"\"\")"
      ]
     },
     "execution_count": 87,
     "metadata": {},
     "output_type": "execute_result"
    }
   ],
   "source": [
    "anova('음료식품')"
   ]
  },
  {
   "cell_type": "code",
   "execution_count": 88,
   "metadata": {},
   "outputs": [
    {
     "data": {
      "image/png": "[encoded data removed]",
      "text/plain": [
       "<Figure size 864x432 with 1 Axes>"
      ]
     },
     "metadata": {
      "needs_background": "light"
     },
     "output_type": "display_data"
    }
   ],
   "source": [
    "coef_bar('음료식품')"
   ]
  },
  {
   "cell_type": "markdown",
   "metadata": {},
   "source": [
    "## 수리서비스 92"
   ]
  },
  {
   "cell_type": "code",
   "execution_count": 89,
   "metadata": {},
   "outputs": [],
   "source": [
    "# anova('수리서비스')"
   ]
  },
  {
   "cell_type": "code",
   "execution_count": 90,
   "metadata": {},
   "outputs": [],
   "source": [
    "# coef_bar('수리서비스')"
   ]
  },
  {
   "cell_type": "markdown",
   "metadata": {},
   "source": [
    "* age50\n",
    "* 유통업(10) - temp humi\n",
    "* 의복(10) - pm10 신변잡화 temp\n",
    "* 서적문구(pm10)- temp pm25 pm10\n",
    "* 의료기관(pm10) - prec dpm25 신변잡화 humi pm10\n",
    "* 보건위생 - pm25 prec\n",
    "* 음료식품(pm10) - 연료 prec 의복 ... (pm25 pm10 음의회귀)\n",
    "\n"
   ]
  },
  {
   "cell_type": "code",
   "execution_count": 91,
   "metadata": {},
   "outputs": [
    {
     "data": {
      "text/plain": [
       "(                 df        sum_sq       mean_sq          F        PR(>F)\n",
       " pm10            1.0  7.635486e+12  7.635486e+12  27.060065  3.340985e-07\n",
       " pm25            1.0  5.556909e+11  5.556909e+11   1.969361  1.613897e-01\n",
       " temp            1.0  2.926500e+12  2.926500e+12  10.371479  1.397942e-03\n",
       " humi            1.0  3.378672e+11  3.378672e+11   1.197397  2.745845e-01\n",
       " CONTENT         1.0  2.471916e+12  2.471916e+12   8.760439  3.285119e-03\n",
       " prec            1.0  2.447860e+12  2.447860e+12   8.675182  3.438482e-03\n",
       " CONTENT:temp    1.0  3.264340e+12  3.264340e+12  11.568777  7.470851e-04\n",
       " CONTENT:prec    1.0  7.407664e+08  7.407664e+08   0.002625  9.591652e-01\n",
       " CONTENT:humi    1.0  3.376241e+06  3.376241e+06   0.000012  9.972420e-01\n",
       " Residual      355.0  1.001697e+14  2.821681e+11        NaN           NaN,\n",
       " <class 'statsmodels.iolib.summary.Summary'>\n",
       " \"\"\"\n",
       "                             OLS Regression Results                            \n",
       " ==============================================================================\n",
       " Dep. Variable:              LCLS_10_P   R-squared:                       0.164\n",
       " Model:                            OLS   Adj. R-squared:                  0.143\n",
       " Method:                 Least Squares   F-statistic:                     7.734\n",
       " Date:                Wed, 14 Aug 2019   Prob (F-statistic):           2.09e-10\n",
       " Time:                        16:40:32   Log-Likelihood:                -5324.6\n",
       " No. Observations:                 365   AIC:                         1.067e+04\n",
       " Df Residuals:                     355   BIC:                         1.071e+04\n",
       " Df Model:                           9                                         \n",
       " Covariance Type:            nonrobust                                         \n",
       " ================================================================================\n",
       "                    coef    std err          t      P>|t|      [0.025      0.975]\n",
       " --------------------------------------------------------------------------------\n",
       " Intercept     6.231e+06   2.68e+05     23.273      0.000     5.7e+06    6.76e+06\n",
       " pm10           857.9240   2075.784      0.413      0.680   -3224.456    4940.304\n",
       " pm25         -4883.2186   2801.052     -1.743      0.082   -1.04e+04     625.523\n",
       " temp          2.163e+04   7035.402      3.075      0.002    7794.719    3.55e+04\n",
       " humi          7273.9455   5831.209      1.247      0.213   -4194.111    1.87e+04\n",
       " CONTENT        155.3385    408.348      0.380      0.704    -647.746     958.423\n",
       " prec         -7372.5917   6637.318     -1.111      0.267   -2.04e+04    5680.816\n",
       " CONTENT:temp   -40.7114     13.463     -3.024      0.003     -67.188     -14.234\n",
       " CONTENT:prec    -0.5004     11.186     -0.045      0.964     -22.500      21.499\n",
       " CONTENT:humi     0.0323      9.323      0.003      0.997     -18.304      18.368\n",
       " ==============================================================================\n",
       " Omnibus:                      140.748   Durbin-Watson:                   0.934\n",
       " Prob(Omnibus):                  0.000   Jarque-Bera (JB):             1139.158\n",
       " Skew:                           1.393   Prob(JB):                    4.31e-248\n",
       " Kurtosis:                      11.194   Cond. No.                     3.03e+05\n",
       " ==============================================================================\n",
       " \n",
       " Warnings:\n",
       " [1] Standard Errors assume that the covariance matrix of the errors is correctly specified.\n",
       " [2] The condition number is large, 3.03e+05. This might indicate that there are\n",
       " strong multicollinearity or other numerical problems.\n",
       " \"\"\")"
      ]
     },
     "execution_count": 91,
     "metadata": {},
     "output_type": "execute_result"
    }
   ],
   "source": [
    "anova('LCLS_10_P')"
   ]
  },
  {
   "cell_type": "code",
   "execution_count": 92,
   "metadata": {},
   "outputs": [
    {
     "data": {
      "text/plain": [
       "(                 df        sum_sq       mean_sq          F        PR(>F)\n",
       " pm10            1.0  7.635486e+12  7.635486e+12  27.060065  3.340985e-07\n",
       " pm25            1.0  5.556909e+11  5.556909e+11   1.969361  1.613897e-01\n",
       " temp            1.0  2.926500e+12  2.926500e+12  10.371479  1.397942e-03\n",
       " humi            1.0  3.378672e+11  3.378672e+11   1.197397  2.745845e-01\n",
       " CONTENT         1.0  2.471916e+12  2.471916e+12   8.760439  3.285119e-03\n",
       " prec            1.0  2.447860e+12  2.447860e+12   8.675182  3.438482e-03\n",
       " CONTENT:temp    1.0  3.264340e+12  3.264340e+12  11.568777  7.470851e-04\n",
       " CONTENT:prec    1.0  7.407664e+08  7.407664e+08   0.002625  9.591652e-01\n",
       " CONTENT:humi    1.0  3.376241e+06  3.376241e+06   0.000012  9.972420e-01\n",
       " Residual      355.0  1.001697e+14  2.821681e+11        NaN           NaN,\n",
       " <class 'statsmodels.iolib.summary.Summary'>\n",
       " \"\"\"\n",
       "                             OLS Regression Results                            \n",
       " ==============================================================================\n",
       " Dep. Variable:              LCLS_10_P   R-squared:                       0.164\n",
       " Model:                            OLS   Adj. R-squared:                  0.143\n",
       " Method:                 Least Squares   F-statistic:                     7.734\n",
       " Date:                Wed, 14 Aug 2019   Prob (F-statistic):           2.09e-10\n",
       " Time:                        17:37:11   Log-Likelihood:                -5324.6\n",
       " No. Observations:                 365   AIC:                         1.067e+04\n",
       " Df Residuals:                     355   BIC:                         1.071e+04\n",
       " Df Model:                           9                                         \n",
       " Covariance Type:            nonrobust                                         \n",
       " ================================================================================\n",
       "                    coef    std err          t      P>|t|      [0.025      0.975]\n",
       " --------------------------------------------------------------------------------\n",
       " Intercept     6.231e+06   2.68e+05     23.273      0.000     5.7e+06    6.76e+06\n",
       " pm10           857.9240   2075.784      0.413      0.680   -3224.456    4940.304\n",
       " pm25         -4883.2186   2801.052     -1.743      0.082   -1.04e+04     625.523\n",
       " temp          2.163e+04   7035.402      3.075      0.002    7794.719    3.55e+04\n",
       " humi          7273.9455   5831.209      1.247      0.213   -4194.111    1.87e+04\n",
       " CONTENT        155.3385    408.348      0.380      0.704    -647.746     958.423\n",
       " prec         -7372.5917   6637.318     -1.111      0.267   -2.04e+04    5680.816\n",
       " CONTENT:temp   -40.7114     13.463     -3.024      0.003     -67.188     -14.234\n",
       " CONTENT:prec    -0.5004     11.186     -0.045      0.964     -22.500      21.499\n",
       " CONTENT:humi     0.0323      9.323      0.003      0.997     -18.304      18.368\n",
       " ==============================================================================\n",
       " Omnibus:                      140.748   Durbin-Watson:                   0.934\n",
       " Prob(Omnibus):                  0.000   Jarque-Bera (JB):             1139.158\n",
       " Skew:                           1.393   Prob(JB):                    4.31e-248\n",
       " Kurtosis:                      11.194   Cond. No.                     3.03e+05\n",
       " ==============================================================================\n",
       " \n",
       " Warnings:\n",
       " [1] Standard Errors assume that the covariance matrix of the errors is correctly specified.\n",
       " [2] The condition number is large, 3.03e+05. This might indicate that there are\n",
       " strong multicollinearity or other numerical problems.\n",
       " \"\"\")"
      ]
     },
     "execution_count": 92,
     "metadata": {},
     "output_type": "execute_result"
    }
   ],
   "source": [
    "anova('LCLS_10_P')"
   ]
  },
  {
   "cell_type": "code",
   "execution_count": 93,
   "metadata": {},
   "outputs": [
    {
     "data": {
      "text/plain": [
       "(                 df        sum_sq       mean_sq         F    PR(>F)\n",
       " pm10            1.0  1.045265e+13  1.045265e+13  9.037741  0.002833\n",
       " pm25            1.0  1.403743e+12  1.403743e+12  1.213728  0.271341\n",
       " temp            1.0  2.422868e+12  2.422868e+12  2.094900  0.148674\n",
       " humi            1.0  3.050764e+12  3.050764e+12  2.637802  0.105235\n",
       " CONTENT         1.0  7.059592e+12  7.059592e+12  6.103982  0.013957\n",
       " prec            1.0  1.951432e+11  1.951432e+11  0.168728  0.681493\n",
       " CONTENT:temp    1.0  2.970333e+12  2.970333e+12  2.568259  0.109917\n",
       " CONTENT:prec    1.0  3.545182e+09  3.545182e+09  0.003065  0.955879\n",
       " CONTENT:humi    1.0  5.143452e+12  5.143452e+12  4.447217  0.035658\n",
       " Residual      355.0  4.105771e+14  1.156555e+12       NaN       NaN,\n",
       " <class 'statsmodels.iolib.summary.Summary'>\n",
       " \"\"\"\n",
       "                             OLS Regression Results                            \n",
       " ==============================================================================\n",
       " Dep. Variable:              LCLS_20_P   R-squared:                       0.074\n",
       " Model:                            OLS   Adj. R-squared:                  0.050\n",
       " Method:                 Least Squares   F-statistic:                     3.142\n",
       " Date:                Wed, 14 Aug 2019   Prob (F-statistic):            0.00117\n",
       " Time:                        17:37:22   Log-Likelihood:                -5582.0\n",
       " No. Observations:                 365   AIC:                         1.118e+04\n",
       " Df Residuals:                     355   BIC:                         1.122e+04\n",
       " Df Model:                           9                                         \n",
       " Covariance Type:            nonrobust                                         \n",
       " ================================================================================\n",
       "                    coef    std err          t      P>|t|      [0.025      0.975]\n",
       " --------------------------------------------------------------------------------\n",
       " Intercept      3.31e+06   5.42e+05      6.107      0.000    2.24e+06    4.38e+06\n",
       " pm10          7920.0700   4202.536      1.885      0.060    -344.926    1.62e+04\n",
       " pm25         -2082.7505   5670.879     -0.367      0.714   -1.32e+04    9069.991\n",
       " temp          1.241e+04   1.42e+04      0.871      0.384   -1.56e+04    4.04e+04\n",
       " humi          1.726e+04   1.18e+04      1.462      0.145   -5953.702    4.05e+04\n",
       " CONTENT       1460.9931    826.722      1.767      0.078    -164.895    3086.881\n",
       " prec         -1.692e+04   1.34e+04     -1.259      0.209   -4.34e+04    9504.321\n",
       " CONTENT:temp   -14.4596     27.256     -0.531      0.596     -68.064      39.144\n",
       " CONTENT:prec    27.2479     22.647      1.203      0.230     -17.292      71.787\n",
       " CONTENT:humi   -39.8055     18.876     -2.109      0.036     -76.927      -2.684\n",
       " ==============================================================================\n",
       " Omnibus:                      475.195   Durbin-Watson:                   0.914\n",
       " Prob(Omnibus):                  0.000   Jarque-Bera (JB):            45161.478\n",
       " Skew:                           6.244   Prob(JB):                         0.00\n",
       " Kurtosis:                      56.043   Cond. No.                     3.03e+05\n",
       " ==============================================================================\n",
       " \n",
       " Warnings:\n",
       " [1] Standard Errors assume that the covariance matrix of the errors is correctly specified.\n",
       " [2] The condition number is large, 3.03e+05. This might indicate that there are\n",
       " strong multicollinearity or other numerical problems.\n",
       " \"\"\")"
      ]
     },
     "execution_count": 93,
     "metadata": {},
     "output_type": "execute_result"
    }
   ],
   "source": [
    "anova('LCLS_20_P')"
   ]
  },
  {
   "cell_type": "code",
   "execution_count": 94,
   "metadata": {},
   "outputs": [
    {
     "data": {
      "text/plain": [
       "(                 df        sum_sq       mean_sq            F         PR(>F)\n",
       " pm10            1.0  7.334144e+13  7.334144e+13   373.780950   2.113125e-57\n",
       " pm25            1.0  3.562697e+12  3.562697e+12    18.157104   2.609216e-05\n",
       " temp            1.0  3.559249e+14  3.559249e+14  1813.953529  1.400258e-141\n",
       " humi            1.0  5.271573e+13  5.271573e+13   268.663077   2.342610e-45\n",
       " CONTENT         1.0  2.836461e+13  2.836461e+13   144.558816   3.624593e-28\n",
       " prec            1.0  2.141294e+13  2.141294e+13   109.129993   1.879290e-22\n",
       " CONTENT:temp    1.0  4.137616e+12  4.137616e+12    21.087154   6.102068e-06\n",
       " CONTENT:prec    1.0  5.782013e+11  5.782013e+11     2.946774   8.692147e-02\n",
       " CONTENT:humi    1.0  1.497782e+11  1.497782e+11     0.763337   3.828768e-01\n",
       " Residual      355.0  6.965633e+13  1.962150e+11          NaN            NaN,\n",
       " <class 'statsmodels.iolib.summary.Summary'>\n",
       " \"\"\"\n",
       "                             OLS Regression Results                            \n",
       " ==============================================================================\n",
       " Dep. Variable:              LCLS_30_P   R-squared:                       0.886\n",
       " Model:                            OLS   Adj. R-squared:                  0.883\n",
       " Method:                 Least Squares   F-statistic:                     305.9\n",
       " Date:                Wed, 14 Aug 2019   Prob (F-statistic):          2.46e-161\n",
       " Time:                        17:37:29   Log-Likelihood:                -5258.3\n",
       " No. Observations:                 365   AIC:                         1.054e+04\n",
       " Df Residuals:                     355   BIC:                         1.058e+04\n",
       " Df Model:                           9                                         \n",
       " Covariance Type:            nonrobust                                         \n",
       " ================================================================================\n",
       "                    coef    std err          t      P>|t|      [0.025      0.975]\n",
       " --------------------------------------------------------------------------------\n",
       " Intercept     7.094e+06   2.23e+05     31.773      0.000    6.65e+06    7.53e+06\n",
       " pm10         -2553.0135   1730.989     -1.475      0.141   -5957.296     851.269\n",
       " pm25          3637.1864   2335.787      1.557      0.120    -956.534    8230.907\n",
       " temp          1.325e+05   5866.798     22.578      0.000    1.21e+05    1.44e+05\n",
       " humi         -1.929e+04   4862.625     -3.967      0.000   -2.89e+04   -9729.072\n",
       " CONTENT       -845.6969    340.520     -2.484      0.013   -1515.387    -176.007\n",
       " prec          -2.84e+04   5534.837     -5.131      0.000   -3.93e+04   -1.75e+04\n",
       " CONTENT:temp   -52.9989     11.227     -4.721      0.000     -75.078     -30.920\n",
       " CONTENT:prec     8.9176      9.328      0.956      0.340      -9.428      27.263\n",
       " CONTENT:humi     6.7927      7.775      0.874      0.383      -8.498      22.083\n",
       " ==============================================================================\n",
       " Omnibus:                       17.572   Durbin-Watson:                   1.455\n",
       " Prob(Omnibus):                  0.000   Jarque-Bera (JB):               26.241\n",
       " Skew:                          -0.357   Prob(JB):                     2.00e-06\n",
       " Kurtosis:                       4.103   Cond. No.                     3.03e+05\n",
       " ==============================================================================\n",
       " \n",
       " Warnings:\n",
       " [1] Standard Errors assume that the covariance matrix of the errors is correctly specified.\n",
       " [2] The condition number is large, 3.03e+05. This might indicate that there are\n",
       " strong multicollinearity or other numerical problems.\n",
       " \"\"\")"
      ]
     },
     "execution_count": 94,
     "metadata": {},
     "output_type": "execute_result"
    }
   ],
   "source": [
    "anova('LCLS_30_P')"
   ]
  },
  {
   "cell_type": "code",
   "execution_count": 95,
   "metadata": {},
   "outputs": [
    {
     "data": {
      "text/plain": [
       "(                 df        sum_sq       mean_sq         F    PR(>F)\n",
       " pm10            1.0  7.032760e+09  7.032760e+09  0.913819  0.339754\n",
       " pm25            1.0  9.514702e+08  9.514702e+08  0.123632  0.725337\n",
       " temp            1.0  1.388821e+09  1.388821e+09  0.180460  0.671236\n",
       " humi            1.0  1.678508e+10  1.678508e+10  2.181011  0.140609\n",
       " CONTENT         1.0  2.753759e+10  2.753759e+10  3.578165  0.059358\n",
       " prec            1.0  5.552934e+09  5.552934e+09  0.721534  0.396214\n",
       " CONTENT:temp    1.0  4.565140e+09  4.565140e+09  0.593183  0.441703\n",
       " CONTENT:prec    1.0  5.491100e+08  5.491100e+08  0.071350  0.789536\n",
       " CONTENT:humi    1.0  5.835845e+09  5.835845e+09  0.758295  0.384451\n",
       " Residual      355.0  2.732083e+12  7.696009e+09       NaN       NaN,\n",
       " <class 'statsmodels.iolib.summary.Summary'>\n",
       " \"\"\"\n",
       "                             OLS Regression Results                            \n",
       " ==============================================================================\n",
       " Dep. Variable:              LCLS_40_P   R-squared:                       0.025\n",
       " Model:                            OLS   Adj. R-squared:                  0.000\n",
       " Method:                 Least Squares   F-statistic:                     1.013\n",
       " Date:                Wed, 14 Aug 2019   Prob (F-statistic):              0.429\n",
       " Time:                        17:37:50   Log-Likelihood:                -4667.3\n",
       " No. Observations:                 365   AIC:                             9355.\n",
       " Df Residuals:                     355   BIC:                             9394.\n",
       " Df Model:                           9                                         \n",
       " Covariance Type:            nonrobust                                         \n",
       " ================================================================================\n",
       "                    coef    std err          t      P>|t|      [0.025      0.975]\n",
       " --------------------------------------------------------------------------------\n",
       " Intercept     5.504e+05   4.42e+04     12.448      0.000    4.63e+05    6.37e+05\n",
       " pm10           -40.3553    342.816     -0.118      0.906    -714.561     633.850\n",
       " pm25           -83.2537    462.594     -0.180      0.857    -993.023     826.515\n",
       " temp          1359.5719   1161.897      1.170      0.243    -925.496    3644.639\n",
       " humi         -1004.7072    963.025     -1.043      0.298   -2898.658     889.244\n",
       " CONTENT        -69.7115     67.439     -1.034      0.302    -202.341      62.918\n",
       " prec           -93.1217   1096.154     -0.085      0.932   -2248.893    2062.650\n",
       " CONTENT:temp    -2.4449      2.223     -1.100      0.272      -6.818       1.928\n",
       " CONTENT:prec    -0.4699      1.847     -0.254      0.799      -4.103       3.163\n",
       " CONTENT:humi     1.3408      1.540      0.871      0.384      -1.687       4.369\n",
       " ==============================================================================\n",
       " Omnibus:                      360.196   Durbin-Watson:                   1.821\n",
       " Prob(Omnibus):                  0.000   Jarque-Bera (JB):            17693.416\n",
       " Skew:                           4.042   Prob(JB):                         0.00\n",
       " Kurtosis:                      36.137   Cond. No.                     3.03e+05\n",
       " ==============================================================================\n",
       " \n",
       " Warnings:\n",
       " [1] Standard Errors assume that the covariance matrix of the errors is correctly specified.\n",
       " [2] The condition number is large, 3.03e+05. This might indicate that there are\n",
       " strong multicollinearity or other numerical problems.\n",
       " \"\"\")"
      ]
     },
     "execution_count": 95,
     "metadata": {},
     "output_type": "execute_result"
    }
   ],
   "source": [
    "anova('LCLS_40_P')"
   ]
  },
  {
   "cell_type": "code",
   "execution_count": 96,
   "metadata": {},
   "outputs": [
    {
     "data": {
      "text/plain": [
       "(                 df        sum_sq       mean_sq           F        PR(>F)\n",
       " pm10            1.0  2.862858e+10  2.862858e+10    0.697445  4.042051e-01\n",
       " pm25            1.0  9.656730e+10  9.656730e+10    2.352559  1.259682e-01\n",
       " temp            1.0  8.312111e+08  8.312111e+08    0.020250  8.869222e-01\n",
       " humi            1.0  4.465780e+12  4.465780e+12  108.794701  2.138958e-22\n",
       " CONTENT         1.0  1.143793e+12  1.143793e+12   27.864914  2.270598e-07\n",
       " prec            1.0  1.331059e+12  1.331059e+12   32.427068  2.597446e-08\n",
       " CONTENT:temp    1.0  7.635898e+10  7.635898e+10    1.860247  1.734605e-01\n",
       " CONTENT:prec    1.0  3.283721e+10  3.283721e+10    0.799976  3.717067e-01\n",
       " CONTENT:humi    1.0  2.485197e+10  2.485197e+10    0.605440  4.370282e-01\n",
       " Residual      355.0  1.457196e+13  4.104777e+10         NaN           NaN,\n",
       " <class 'statsmodels.iolib.summary.Summary'>\n",
       " \"\"\"\n",
       "                             OLS Regression Results                            \n",
       " ==============================================================================\n",
       " Dep. Variable:              LCLS_50_P   R-squared:                       0.331\n",
       " Model:                            OLS   Adj. R-squared:                  0.314\n",
       " Method:                 Least Squares   F-statistic:                     19.49\n",
       " Date:                Wed, 14 Aug 2019   Prob (F-statistic):           1.61e-26\n",
       " Time:                        17:37:57   Log-Likelihood:                -4972.8\n",
       " No. Observations:                 365   AIC:                             9966.\n",
       " Df Residuals:                     355   BIC:                         1.000e+04\n",
       " Df Model:                           9                                         \n",
       " Covariance Type:            nonrobust                                         \n",
       " ================================================================================\n",
       "                    coef    std err          t      P>|t|      [0.025      0.975]\n",
       " --------------------------------------------------------------------------------\n",
       " Intercept     5.113e+05   1.02e+05      5.007      0.000     3.1e+05    7.12e+05\n",
       " pm10          1532.0978    791.722      1.935      0.054     -24.958    3089.154\n",
       " pm25          -520.2638   1068.346     -0.487      0.627   -2621.347    1580.819\n",
       " temp         -3071.9970   2683.365     -1.145      0.253   -8349.288    2205.294\n",
       " humi          8044.5721   2224.075      3.617      0.000    3670.553    1.24e+04\n",
       " CONTENT        -49.7620    155.747     -0.320      0.750    -356.066     256.542\n",
       " prec          3554.5068   2531.532      1.404      0.161   -1424.179    8533.193\n",
       " CONTENT:temp    -5.2055      5.135     -1.014      0.311     -15.304       4.893\n",
       " CONTENT:prec     5.0118      4.267      1.175      0.241      -3.379      13.403\n",
       " CONTENT:humi    -2.7669      3.556     -0.778      0.437      -9.760       4.227\n",
       " ==============================================================================\n",
       " Omnibus:                      163.066   Durbin-Watson:                   1.748\n",
       " Prob(Omnibus):                  0.000   Jarque-Bera (JB):              759.372\n",
       " Skew:                           1.907   Prob(JB):                    1.27e-165\n",
       " Kurtosis:                       8.948   Cond. No.                     3.03e+05\n",
       " ==============================================================================\n",
       " \n",
       " Warnings:\n",
       " [1] Standard Errors assume that the covariance matrix of the errors is correctly specified.\n",
       " [2] The condition number is large, 3.03e+05. This might indicate that there are\n",
       " strong multicollinearity or other numerical problems.\n",
       " \"\"\")"
      ]
     },
     "execution_count": 96,
     "metadata": {},
     "output_type": "execute_result"
    }
   ],
   "source": [
    "anova('LCLS_50_P')"
   ]
  },
  {
   "cell_type": "code",
   "execution_count": 97,
   "metadata": {},
   "outputs": [
    {
     "data": {
      "text/plain": [
       "(                 df        sum_sq       mean_sq         F    PR(>F)\n",
       " pm10            1.0  2.759580e+10  2.759580e+10  4.094666  0.043768\n",
       " pm25            1.0  1.569013e+07  1.569013e+07  0.002328  0.961544\n",
       " temp            1.0  6.985734e+08  6.985734e+08  0.103654  0.747677\n",
       " humi            1.0  5.028553e+09  5.028553e+09  0.746137  0.388285\n",
       " CONTENT         1.0  3.745475e+08  3.745475e+08  0.055575  0.813767\n",
       " prec            1.0  1.866922e+09  1.866922e+09  0.277014  0.598994\n",
       " CONTENT:temp    1.0  8.760469e+09  8.760469e+09  1.299879  0.255004\n",
       " CONTENT:prec    1.0  4.430481e+09  4.430481e+09  0.657395  0.418024\n",
       " CONTENT:humi    1.0  3.046271e+09  3.046271e+09  0.452006  0.501821\n",
       " Residual      355.0  2.392505e+12  6.739450e+09       NaN       NaN,\n",
       " <class 'statsmodels.iolib.summary.Summary'>\n",
       " \"\"\"\n",
       "                             OLS Regression Results                            \n",
       " ==============================================================================\n",
       " Dep. Variable:              LCLS_60_P   R-squared:                       0.021\n",
       " Model:                            OLS   Adj. R-squared:                 -0.004\n",
       " Method:                 Least Squares   F-statistic:                    0.8543\n",
       " Date:                Wed, 14 Aug 2019   Prob (F-statistic):              0.567\n",
       " Time:                        17:38:04   Log-Likelihood:                -4643.0\n",
       " No. Observations:                 365   AIC:                             9306.\n",
       " Df Residuals:                     355   BIC:                             9345.\n",
       " Df Model:                           9                                         \n",
       " Covariance Type:            nonrobust                                         \n",
       " ================================================================================\n",
       "                    coef    std err          t      P>|t|      [0.025      0.975]\n",
       " --------------------------------------------------------------------------------\n",
       " Intercept     1.368e+05   4.14e+04      3.306      0.001    5.54e+04    2.18e+05\n",
       " pm10          -294.5034    320.804     -0.918      0.359    -925.420     336.413\n",
       " pm25            82.8713    432.892      0.191      0.848    -768.484     934.226\n",
       " temp         -1051.0948   1087.295     -0.967      0.334   -3189.443    1087.254\n",
       " humi           333.6161    901.191      0.370      0.711   -1438.728    2105.960\n",
       " CONTENT         17.9684     63.109      0.285      0.776    -106.145     142.082\n",
       " prec            -7.5838   1025.772     -0.007      0.994   -2024.938    2009.771\n",
       " CONTENT:temp     2.9642      2.081      1.425      0.155      -1.128       7.056\n",
       " CONTENT:prec    -0.5344      1.729     -0.309      0.757      -3.934       2.866\n",
       " CONTENT:humi    -0.9687      1.441     -0.672      0.502      -3.802       1.865\n",
       " ==============================================================================\n",
       " Omnibus:                      631.158   Durbin-Watson:                   0.878\n",
       " Prob(Omnibus):                  0.000   Jarque-Bera (JB):           238487.384\n",
       " Skew:                          10.055   Prob(JB):                         0.00\n",
       " Kurtosis:                     126.600   Cond. No.                     3.03e+05\n",
       " ==============================================================================\n",
       " \n",
       " Warnings:\n",
       " [1] Standard Errors assume that the covariance matrix of the errors is correctly specified.\n",
       " [2] The condition number is large, 3.03e+05. This might indicate that there are\n",
       " strong multicollinearity or other numerical problems.\n",
       " \"\"\")"
      ]
     },
     "execution_count": 97,
     "metadata": {},
     "output_type": "execute_result"
    }
   ],
   "source": [
    "anova('LCLS_60_P')"
   ]
  },
  {
   "cell_type": "code",
   "execution_count": 98,
   "metadata": {},
   "outputs": [
    {
     "data": {
      "text/plain": [
       "(                 df        sum_sq       mean_sq          F    PR(>F)\n",
       " pm10            1.0  2.602662e+09  2.602662e+09   4.227623  0.040502\n",
       " pm25            1.0  1.936107e+08  1.936107e+08   0.314491  0.575291\n",
       " temp            1.0  7.304239e+09  7.304239e+09  11.864611  0.000641\n",
       " humi            1.0  1.108819e+10  1.108819e+10  18.011052  0.000028\n",
       " CONTENT         1.0  1.462165e+10  1.462165e+10  23.750611  0.000002\n",
       " prec            1.0  2.133437e+09  2.133437e+09   3.465440  0.063490\n",
       " CONTENT:temp    1.0  1.067619e+08  1.067619e+08   0.173418  0.677343\n",
       " CONTENT:prec    1.0  1.497045e+08  1.497045e+08   0.243172  0.622229\n",
       " CONTENT:humi    1.0  2.543220e+08  2.543220e+08   0.413107  0.520812\n",
       " Residual      355.0  2.185495e+11  6.156324e+08        NaN       NaN,\n",
       " <class 'statsmodels.iolib.summary.Summary'>\n",
       " \"\"\"\n",
       "                             OLS Regression Results                            \n",
       " ==============================================================================\n",
       " Dep. Variable:              LCLS_70_P   R-squared:                       0.150\n",
       " Model:                            OLS   Adj. R-squared:                  0.128\n",
       " Method:                 Least Squares   F-statistic:                     6.940\n",
       " Date:                Wed, 14 Aug 2019   Prob (F-statistic):           3.11e-09\n",
       " Time:                        17:38:14   Log-Likelihood:                -4206.3\n",
       " No. Observations:                 365   AIC:                             8433.\n",
       " Df Residuals:                     355   BIC:                             8472.\n",
       " Df Model:                           9                                         \n",
       " Covariance Type:            nonrobust                                         \n",
       " ================================================================================\n",
       "                    coef    std err          t      P>|t|      [0.025      0.975]\n",
       " --------------------------------------------------------------------------------\n",
       " Intercept     1.748e+05   1.25e+04     13.979      0.000     1.5e+05    1.99e+05\n",
       " pm10          -126.9118     96.959     -1.309      0.191    -317.598      63.775\n",
       " pm25           184.4769    130.836      1.410      0.159     -72.835     441.788\n",
       " temp           689.3160    328.621      2.098      0.037      43.027    1335.605\n",
       " humi          -415.8095    272.374     -1.527      0.128    -951.479     119.860\n",
       " CONTENT        -33.5396     19.074     -1.758      0.080     -71.051       3.972\n",
       " prec           -25.5458    310.027     -0.082      0.934    -635.266     584.175\n",
       " CONTENT:temp    -0.3608      0.629     -0.574      0.567      -1.598       0.876\n",
       " CONTENT:prec    -0.3997      0.523     -0.765      0.445      -1.427       0.628\n",
       " CONTENT:humi     0.2799      0.435      0.643      0.521      -0.577       1.136\n",
       " ==============================================================================\n",
       " Omnibus:                       39.998   Durbin-Watson:                   1.752\n",
       " Prob(Omnibus):                  0.000   Jarque-Bera (JB):               56.507\n",
       " Skew:                           0.748   Prob(JB):                     5.37e-13\n",
       " Kurtosis:                       4.215   Cond. No.                     3.03e+05\n",
       " ==============================================================================\n",
       " \n",
       " Warnings:\n",
       " [1] Standard Errors assume that the covariance matrix of the errors is correctly specified.\n",
       " [2] The condition number is large, 3.03e+05. This might indicate that there are\n",
       " strong multicollinearity or other numerical problems.\n",
       " \"\"\")"
      ]
     },
     "execution_count": 98,
     "metadata": {},
     "output_type": "execute_result"
    }
   ],
   "source": [
    "anova('LCLS_70_P')"
   ]
  },
  {
   "cell_type": "code",
   "execution_count": 99,
   "metadata": {},
   "outputs": [
    {
     "data": {
      "text/plain": [
       "(                 df        sum_sq       mean_sq          F        PR(>F)\n",
       " pm10            1.0  1.998761e+10  1.998761e+10  25.824850  6.057544e-07\n",
       " pm25            1.0  3.130564e+09  3.130564e+09   4.044822  4.506255e-02\n",
       " temp            1.0  6.027771e+10  6.027771e+10  77.881371  5.054311e-17\n",
       " humi            1.0  2.183384e+10  2.183384e+10  28.210252  1.924527e-07\n",
       " CONTENT         1.0  8.470094e+09  8.470094e+09  10.943723  1.035328e-03\n",
       " prec            1.0  6.575042e+09  6.575042e+09   8.495235  3.786658e-03\n",
       " CONTENT:temp    1.0  1.760845e+08  1.760845e+08   0.227509  6.336707e-01\n",
       " CONTENT:prec    1.0  2.294745e+07  2.294745e+07   0.029649  8.633870e-01\n",
       " CONTENT:humi    1.0  1.670700e+08  1.670700e+08   0.215862  6.424963e-01\n",
       " Residual      355.0  2.747587e+11  7.739682e+08        NaN           NaN,\n",
       " <class 'statsmodels.iolib.summary.Summary'>\n",
       " \"\"\"\n",
       "                             OLS Regression Results                            \n",
       " ==============================================================================\n",
       " Dep. Variable:              LCLS_80_P   R-squared:                       0.305\n",
       " Model:                            OLS   Adj. R-squared:                  0.287\n",
       " Method:                 Least Squares   F-statistic:                     17.32\n",
       " Date:                Wed, 14 Aug 2019   Prob (F-statistic):           9.57e-24\n",
       " Time:                        17:38:19   Log-Likelihood:                -4248.1\n",
       " No. Observations:                 365   AIC:                             8516.\n",
       " Df Residuals:                     355   BIC:                             8555.\n",
       " Df Model:                           9                                         \n",
       " Covariance Type:            nonrobust                                         \n",
       " ================================================================================\n",
       "                    coef    std err          t      P>|t|      [0.025      0.975]\n",
       " --------------------------------------------------------------------------------\n",
       " Intercept     1.141e+05    1.4e+04      8.137      0.000    8.65e+04    1.42e+05\n",
       " pm10           -13.4635    108.715     -0.124      0.902    -227.270     200.343\n",
       " pm25           -62.9982    146.700     -0.429      0.668    -351.508     225.511\n",
       " temp          1708.2679    368.465      4.636      0.000     983.619    2432.917\n",
       " humi          -485.7674    305.398     -1.591      0.113   -1086.384     114.849\n",
       " CONTENT        -24.6681     21.386     -1.153      0.250     -66.728      17.392\n",
       " prec          -387.4688    347.616     -1.115      0.266   -1071.115     296.178\n",
       " CONTENT:temp    -0.4583      0.705     -0.650      0.516      -1.845       0.928\n",
       " CONTENT:prec    -0.0650      0.586     -0.111      0.912      -1.217       1.087\n",
       " CONTENT:humi     0.2269      0.488      0.465      0.642      -0.733       1.187\n",
       " ==============================================================================\n",
       " Omnibus:                      129.899   Durbin-Watson:                   1.526\n",
       " Prob(Omnibus):                  0.000   Jarque-Bera (JB):              490.330\n",
       " Skew:                           1.545   Prob(JB):                    3.36e-107\n",
       " Kurtosis:                       7.764   Cond. No.                     3.03e+05\n",
       " ==============================================================================\n",
       " \n",
       " Warnings:\n",
       " [1] Standard Errors assume that the covariance matrix of the errors is correctly specified.\n",
       " [2] The condition number is large, 3.03e+05. This might indicate that there are\n",
       " strong multicollinearity or other numerical problems.\n",
       " \"\"\")"
      ]
     },
     "execution_count": 99,
     "metadata": {},
     "output_type": "execute_result"
    }
   ],
   "source": [
    "anova('LCLS_80_P')"
   ]
  },
  {
   "cell_type": "code",
   "execution_count": null,
   "metadata": {},
   "outputs": [],
   "source": []
  }
 ],
 "metadata": {
  "kernelspec": {
   "display_name": "2019BigC",
   "language": "python",
   "name": "2019bigc"
  },
  "language_info": {
   "codemirror_mode": {
    "name": "ipython",
    "version": 3
   },
   "file_extension": ".py",
   "mimetype": "text/x-python",
   "name": "python",
   "nbconvert_exporter": "python",
   "pygments_lexer": "ipython3",
   "version": "3.7.3"
  }
 },
 "nbformat": 4,
 "nbformat_minor": 2
}

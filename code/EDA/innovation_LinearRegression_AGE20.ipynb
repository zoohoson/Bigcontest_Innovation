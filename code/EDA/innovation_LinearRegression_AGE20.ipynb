{
 "cells": [
  {
   "cell_type": "code",
   "execution_count": 2,
   "metadata": {},
   "outputs": [],
   "source": [
    "import warnings\n",
    "warnings.filterwarnings(\"ignore\")"
   ]
  },
  {
   "cell_type": "code",
   "execution_count": 3,
   "metadata": {},
   "outputs": [],
   "source": [
    "import pandas as pd\n",
    "import numpy as np\n",
    "pd.options.display.max_columns=50\n",
    "\n",
    "import sklearn\n",
    "from sklearn.linear_model import Lasso, Ridge\n",
    "from sklearn.model_selection import train_test_split\n",
    "\n",
    "import matplotlib.pyplot as plt\n",
    "%matplotlib inline"
   ]
  },
  {
   "cell_type": "code",
   "execution_count": 4,
   "metadata": {},
   "outputs": [],
   "source": [
    "from sklearn.preprocessing import normalize"
   ]
  },
  {
   "cell_type": "code",
   "execution_count": 5,
   "metadata": {},
   "outputs": [],
   "source": [
    "# 필요한 패키지와 라이브러리를 가져옴\n",
    "import matplotlib as mpl\n",
    "import matplotlib.pyplot as plt\n",
    "import matplotlib.font_manager as fm\n",
    "path = 'C:\\\\Users\\\\JuhoSon\\\\AppData\\\\Local\\\\Microsoft\\\\Windows\\\\Fonts\\\\NanumGothicCoding-Bold.ttf'\n",
    "font_name = fm.FontProperties(fname=path, size=50).get_name()\n",
    "plt.rc('font', family=font_name)"
   ]
  },
  {
   "cell_type": "markdown",
   "metadata": {},
   "source": [
    "# Data Load"
   ]
  },
  {
   "cell_type": "code",
   "execution_count": 6,
   "metadata": {},
   "outputs": [],
   "source": [
    "df_20 = pd.read_csv('./data/innovation/create/df_age20.csv')"
   ]
  },
  {
   "cell_type": "code",
   "execution_count": 7,
   "metadata": {},
   "outputs": [
    {
     "data": {
      "text/plain": [
       "(365, 38)"
      ]
     },
     "execution_count": 7,
     "metadata": {},
     "output_type": "execute_result"
    }
   ],
   "source": [
    "df_20.shape"
   ]
  },
  {
   "cell_type": "code",
   "execution_count": 8,
   "metadata": {},
   "outputs": [
    {
     "data": {
      "text/html": [
       "<div>\n",
       "<style scoped>\n",
       "    .dataframe tbody tr th:only-of-type {\n",
       "        vertical-align: middle;\n",
       "    }\n",
       "\n",
       "    .dataframe tbody tr th {\n",
       "        vertical-align: top;\n",
       "    }\n",
       "\n",
       "    .dataframe thead th {\n",
       "        text-align: right;\n",
       "    }\n",
       "</style>\n",
       "<table border=\"1\" class=\"dataframe\">\n",
       "  <thead>\n",
       "    <tr style=\"text-align: right;\">\n",
       "      <th></th>\n",
       "      <th>age20숙박</th>\n",
       "      <th>age20레저용품</th>\n",
       "      <th>age20레저업소</th>\n",
       "      <th>age20문화취미</th>\n",
       "      <th>age20가구</th>\n",
       "      <th>age20전기</th>\n",
       "      <th>age20주방</th>\n",
       "      <th>age20연료</th>\n",
       "      <th>age20광학</th>\n",
       "      <th>age20가전</th>\n",
       "      <th>age20유통업</th>\n",
       "      <th>age20의복</th>\n",
       "      <th>age20직물</th>\n",
       "      <th>age20신변잡화</th>\n",
       "      <th>age20서적문구</th>\n",
       "      <th>age20사무통신</th>\n",
       "      <th>age20자동차판매</th>\n",
       "      <th>age20자동차정비</th>\n",
       "      <th>age20의료기관</th>\n",
       "      <th>age20보건위생</th>\n",
       "      <th>age20요식업소</th>\n",
       "      <th>age20음료식품</th>\n",
       "      <th>age20수리서비스</th>\n",
       "      <th>age20</th>\n",
       "      <th>LCLS_10_P</th>\n",
       "      <th>LCLS_20_P</th>\n",
       "      <th>LCLS_30_P</th>\n",
       "      <th>LCLS_40_P</th>\n",
       "      <th>LCLS_50_P</th>\n",
       "      <th>LCLS_60_P</th>\n",
       "      <th>LCLS_70_P</th>\n",
       "      <th>LCLS_80_P</th>\n",
       "      <th>pm10</th>\n",
       "      <th>pm25</th>\n",
       "      <th>CONTENT</th>\n",
       "      <th>temp</th>\n",
       "      <th>humi</th>\n",
       "      <th>강수량(mm)</th>\n",
       "    </tr>\n",
       "  </thead>\n",
       "  <tbody>\n",
       "    <tr>\n",
       "      <th>0</th>\n",
       "      <td>432.0</td>\n",
       "      <td>203.0</td>\n",
       "      <td>7993.0</td>\n",
       "      <td>1551.0</td>\n",
       "      <td>21.0</td>\n",
       "      <td>NaN</td>\n",
       "      <td>NaN</td>\n",
       "      <td>498.0</td>\n",
       "      <td>29.0</td>\n",
       "      <td>25.0</td>\n",
       "      <td>36130.0</td>\n",
       "      <td>705.0</td>\n",
       "      <td>NaN</td>\n",
       "      <td>433.0</td>\n",
       "      <td>1432.0</td>\n",
       "      <td>20.0</td>\n",
       "      <td>NaN</td>\n",
       "      <td>109.0</td>\n",
       "      <td>809.0</td>\n",
       "      <td>2419.0</td>\n",
       "      <td>29971.0</td>\n",
       "      <td>2634.0</td>\n",
       "      <td>205.0</td>\n",
       "      <td>276375.29</td>\n",
       "      <td>5.775959e+06</td>\n",
       "      <td>4.653959e+06</td>\n",
       "      <td>7.123695e+06</td>\n",
       "      <td>460575.529718</td>\n",
       "      <td>8.889679e+05</td>\n",
       "      <td>102938.908335</td>\n",
       "      <td>158304.695151</td>\n",
       "      <td>125768.139866</td>\n",
       "      <td>68.127083</td>\n",
       "      <td>35.221528</td>\n",
       "      <td>515</td>\n",
       "      <td>16.580764</td>\n",
       "      <td>56.770833</td>\n",
       "      <td>0.0</td>\n",
       "    </tr>\n",
       "    <tr>\n",
       "      <th>1</th>\n",
       "      <td>105.0</td>\n",
       "      <td>131.0</td>\n",
       "      <td>5367.0</td>\n",
       "      <td>791.0</td>\n",
       "      <td>NaN</td>\n",
       "      <td>NaN</td>\n",
       "      <td>NaN</td>\n",
       "      <td>470.0</td>\n",
       "      <td>63.0</td>\n",
       "      <td>70.0</td>\n",
       "      <td>39422.0</td>\n",
       "      <td>488.0</td>\n",
       "      <td>NaN</td>\n",
       "      <td>369.0</td>\n",
       "      <td>1665.0</td>\n",
       "      <td>112.0</td>\n",
       "      <td>NaN</td>\n",
       "      <td>107.0</td>\n",
       "      <td>4298.0</td>\n",
       "      <td>2108.0</td>\n",
       "      <td>31339.0</td>\n",
       "      <td>3434.0</td>\n",
       "      <td>332.0</td>\n",
       "      <td>362157.39</td>\n",
       "      <td>5.798567e+06</td>\n",
       "      <td>4.068040e+06</td>\n",
       "      <td>6.922594e+06</td>\n",
       "      <td>517274.801816</td>\n",
       "      <td>7.320147e+05</td>\n",
       "      <td>85751.772442</td>\n",
       "      <td>189721.667844</td>\n",
       "      <td>159773.285544</td>\n",
       "      <td>71.924306</td>\n",
       "      <td>29.909028</td>\n",
       "      <td>888</td>\n",
       "      <td>19.631111</td>\n",
       "      <td>57.827083</td>\n",
       "      <td>0.0</td>\n",
       "    </tr>\n",
       "    <tr>\n",
       "      <th>2</th>\n",
       "      <td>87.0</td>\n",
       "      <td>126.0</td>\n",
       "      <td>5656.0</td>\n",
       "      <td>526.0</td>\n",
       "      <td>NaN</td>\n",
       "      <td>NaN</td>\n",
       "      <td>18.0</td>\n",
       "      <td>384.0</td>\n",
       "      <td>42.0</td>\n",
       "      <td>43.0</td>\n",
       "      <td>38026.0</td>\n",
       "      <td>434.0</td>\n",
       "      <td>NaN</td>\n",
       "      <td>326.0</td>\n",
       "      <td>1329.0</td>\n",
       "      <td>112.0</td>\n",
       "      <td>NaN</td>\n",
       "      <td>138.0</td>\n",
       "      <td>3459.0</td>\n",
       "      <td>1974.0</td>\n",
       "      <td>32731.0</td>\n",
       "      <td>3467.0</td>\n",
       "      <td>255.0</td>\n",
       "      <td>364140.16</td>\n",
       "      <td>5.882238e+06</td>\n",
       "      <td>4.045719e+06</td>\n",
       "      <td>6.679634e+06</td>\n",
       "      <td>396954.848039</td>\n",
       "      <td>6.941187e+05</td>\n",
       "      <td>109181.181977</td>\n",
       "      <td>146743.364491</td>\n",
       "      <td>83460.961960</td>\n",
       "      <td>72.979861</td>\n",
       "      <td>24.331944</td>\n",
       "      <td>856</td>\n",
       "      <td>19.192500</td>\n",
       "      <td>61.674306</td>\n",
       "      <td>0.1</td>\n",
       "    </tr>\n",
       "    <tr>\n",
       "      <th>3</th>\n",
       "      <td>151.0</td>\n",
       "      <td>165.0</td>\n",
       "      <td>5300.0</td>\n",
       "      <td>534.0</td>\n",
       "      <td>NaN</td>\n",
       "      <td>NaN</td>\n",
       "      <td>NaN</td>\n",
       "      <td>308.0</td>\n",
       "      <td>80.0</td>\n",
       "      <td>74.0</td>\n",
       "      <td>38258.0</td>\n",
       "      <td>469.0</td>\n",
       "      <td>NaN</td>\n",
       "      <td>314.0</td>\n",
       "      <td>1426.0</td>\n",
       "      <td>83.0</td>\n",
       "      <td>NaN</td>\n",
       "      <td>135.0</td>\n",
       "      <td>3160.0</td>\n",
       "      <td>2047.0</td>\n",
       "      <td>32115.0</td>\n",
       "      <td>3520.0</td>\n",
       "      <td>313.0</td>\n",
       "      <td>355365.76</td>\n",
       "      <td>6.163598e+06</td>\n",
       "      <td>4.284199e+06</td>\n",
       "      <td>6.238373e+06</td>\n",
       "      <td>400734.630537</td>\n",
       "      <td>9.144325e+05</td>\n",
       "      <td>106260.195832</td>\n",
       "      <td>133827.487702</td>\n",
       "      <td>85526.543799</td>\n",
       "      <td>18.221528</td>\n",
       "      <td>10.952778</td>\n",
       "      <td>893</td>\n",
       "      <td>14.075417</td>\n",
       "      <td>60.129861</td>\n",
       "      <td>18.5</td>\n",
       "    </tr>\n",
       "    <tr>\n",
       "      <th>4</th>\n",
       "      <td>187.0</td>\n",
       "      <td>109.0</td>\n",
       "      <td>6001.0</td>\n",
       "      <td>729.0</td>\n",
       "      <td>NaN</td>\n",
       "      <td>NaN</td>\n",
       "      <td>NaN</td>\n",
       "      <td>312.0</td>\n",
       "      <td>89.0</td>\n",
       "      <td>60.0</td>\n",
       "      <td>35063.0</td>\n",
       "      <td>308.0</td>\n",
       "      <td>NaN</td>\n",
       "      <td>244.0</td>\n",
       "      <td>1308.0</td>\n",
       "      <td>56.0</td>\n",
       "      <td>NaN</td>\n",
       "      <td>77.0</td>\n",
       "      <td>3264.0</td>\n",
       "      <td>1838.0</td>\n",
       "      <td>30793.0</td>\n",
       "      <td>3818.0</td>\n",
       "      <td>234.0</td>\n",
       "      <td>343828.64</td>\n",
       "      <td>6.131853e+06</td>\n",
       "      <td>3.723724e+06</td>\n",
       "      <td>5.135552e+06</td>\n",
       "      <td>430144.414585</td>\n",
       "      <td>1.099378e+06</td>\n",
       "      <td>120809.906702</td>\n",
       "      <td>149481.681510</td>\n",
       "      <td>89173.629481</td>\n",
       "      <td>8.854861</td>\n",
       "      <td>3.891667</td>\n",
       "      <td>864</td>\n",
       "      <td>8.620000</td>\n",
       "      <td>77.163194</td>\n",
       "      <td>10.5</td>\n",
       "    </tr>\n",
       "  </tbody>\n",
       "</table>\n",
       "</div>"
      ],
      "text/plain": [
       "   age20숙박  age20레저용품  age20레저업소  age20문화취미  age20가구  age20전기  age20주방  \\\n",
       "0    432.0      203.0     7993.0     1551.0     21.0      NaN      NaN   \n",
       "1    105.0      131.0     5367.0      791.0      NaN      NaN      NaN   \n",
       "2     87.0      126.0     5656.0      526.0      NaN      NaN     18.0   \n",
       "3    151.0      165.0     5300.0      534.0      NaN      NaN      NaN   \n",
       "4    187.0      109.0     6001.0      729.0      NaN      NaN      NaN   \n",
       "\n",
       "   age20연료  age20광학  age20가전  age20유통업  age20의복  age20직물  age20신변잡화  \\\n",
       "0    498.0     29.0     25.0   36130.0    705.0      NaN      433.0   \n",
       "1    470.0     63.0     70.0   39422.0    488.0      NaN      369.0   \n",
       "2    384.0     42.0     43.0   38026.0    434.0      NaN      326.0   \n",
       "3    308.0     80.0     74.0   38258.0    469.0      NaN      314.0   \n",
       "4    312.0     89.0     60.0   35063.0    308.0      NaN      244.0   \n",
       "\n",
       "   age20서적문구  age20사무통신  age20자동차판매  age20자동차정비  age20의료기관  age20보건위생  \\\n",
       "0     1432.0       20.0         NaN       109.0      809.0     2419.0   \n",
       "1     1665.0      112.0         NaN       107.0     4298.0     2108.0   \n",
       "2     1329.0      112.0         NaN       138.0     3459.0     1974.0   \n",
       "3     1426.0       83.0         NaN       135.0     3160.0     2047.0   \n",
       "4     1308.0       56.0         NaN        77.0     3264.0     1838.0   \n",
       "\n",
       "   age20요식업소  age20음료식품  age20수리서비스      age20     LCLS_10_P     LCLS_20_P  \\\n",
       "0    29971.0     2634.0       205.0  276375.29  5.775959e+06  4.653959e+06   \n",
       "1    31339.0     3434.0       332.0  362157.39  5.798567e+06  4.068040e+06   \n",
       "2    32731.0     3467.0       255.0  364140.16  5.882238e+06  4.045719e+06   \n",
       "3    32115.0     3520.0       313.0  355365.76  6.163598e+06  4.284199e+06   \n",
       "4    30793.0     3818.0       234.0  343828.64  6.131853e+06  3.723724e+06   \n",
       "\n",
       "      LCLS_30_P      LCLS_40_P     LCLS_50_P      LCLS_60_P      LCLS_70_P  \\\n",
       "0  7.123695e+06  460575.529718  8.889679e+05  102938.908335  158304.695151   \n",
       "1  6.922594e+06  517274.801816  7.320147e+05   85751.772442  189721.667844   \n",
       "2  6.679634e+06  396954.848039  6.941187e+05  109181.181977  146743.364491   \n",
       "3  6.238373e+06  400734.630537  9.144325e+05  106260.195832  133827.487702   \n",
       "4  5.135552e+06  430144.414585  1.099378e+06  120809.906702  149481.681510   \n",
       "\n",
       "       LCLS_80_P       pm10       pm25  CONTENT       temp       humi  강수량(mm)  \n",
       "0  125768.139866  68.127083  35.221528      515  16.580764  56.770833      0.0  \n",
       "1  159773.285544  71.924306  29.909028      888  19.631111  57.827083      0.0  \n",
       "2   83460.961960  72.979861  24.331944      856  19.192500  61.674306      0.1  \n",
       "3   85526.543799  18.221528  10.952778      893  14.075417  60.129861     18.5  \n",
       "4   89173.629481   8.854861   3.891667      864   8.620000  77.163194     10.5  "
      ]
     },
     "execution_count": 8,
     "metadata": {},
     "output_type": "execute_result"
    }
   ],
   "source": [
    "df_20.head()"
   ]
  },
  {
   "cell_type": "code",
   "execution_count": 88,
   "metadata": {},
   "outputs": [
    {
     "data": {
      "text/plain": [
       "Text(0.5, 0, '업종')"
      ]
     },
     "execution_count": 88,
     "metadata": {},
     "output_type": "execute_result"
    },
    {
     "data": {
      "image/png": "[encoded data removed]",
      "text/plain": [
       "<Figure size 1296x432 with 1 Axes>"
      ]
     },
     "metadata": {
      "needs_background": "light"
     },
     "output_type": "display_data"
    }
   ],
   "source": [
    "df_null = pd.DataFrame(df_20.isnull().sum()).rename(columns={0:'null'})\n",
    "\n",
    "df_null.reset_index(inplace=True)\n",
    "\n",
    "drop_idx = np.where(df_null.null==0)[0]\n",
    "df_null.drop(drop_idx, inplace=True)\n",
    "\n",
    "df_null = df_null.sort_values(by='null', ascending=False).set_index('index')\n",
    "\n",
    "plt.figure(figsize=(18,6))\n",
    "plt.bar(df_null.index, df_null.null, color='y')\n",
    "plt.xticks(df_null.index)\n",
    "plt.ylabel('결측치 개수')\n",
    "plt.xlabel('업종')"
   ]
  },
  {
   "cell_type": "code",
   "execution_count": 9,
   "metadata": {},
   "outputs": [
    {
     "name": "stdout",
     "output_type": "stream",
     "text": [
      "age20 null columns :  ['가구', '전기', '주방', '광학', '가전', '직물', '사무통신', '자동차판매', '자동차정비']\n"
     ]
    }
   ],
   "source": [
    "print('age20 null columns : ', ['가구', '전기', '주방', '광학', '가전', '직물', '사무통신', '자동차판매', '자동차정비'])"
   ]
  },
  {
   "cell_type": "code",
   "execution_count": 10,
   "metadata": {},
   "outputs": [],
   "source": [
    "df_20.drop(['age20가구', 'age20전기', 'age20주방', \n",
    "           'age20광학', 'age20가전', 'age20직물', \n",
    "           'age20사무통신', 'age20자동차판매', 'age20자동차정비'], axis=1, inplace=True)"
   ]
  },
  {
   "cell_type": "code",
   "execution_count": 11,
   "metadata": {},
   "outputs": [],
   "source": [
    "df_20  = df_20.rename(columns={'강수량(mm)':'prec'})"
   ]
  },
  {
   "cell_type": "code",
   "execution_count": 12,
   "metadata": {},
   "outputs": [],
   "source": [
    "df_20.columns = ['숙박', '레저용품', '레저업소', '문화취미', '연료', '유통업',\n",
    "       '의복', '신변잡화', '서적문구', '의료기관', '보건위생',\n",
    "       '요식업소', '음료식품', '수리서비스', 'pop', 'LCLS_10_P',\n",
    "       'LCLS_20_P', 'LCLS_30_P', 'LCLS_40_P', 'LCLS_50_P', 'LCLS_60_P',\n",
    "       'LCLS_70_P', 'LCLS_80_P', 'pm10', 'pm25', 'CONTENT', 'temp', 'humi',\n",
    "       'prec']"
   ]
  },
  {
   "cell_type": "code",
   "execution_count": 13,
   "metadata": {
    "scrolled": true
   },
   "outputs": [
    {
     "data": {
      "text/html": [
       "<div>\n",
       "<style scoped>\n",
       "    .dataframe tbody tr th:only-of-type {\n",
       "        vertical-align: middle;\n",
       "    }\n",
       "\n",
       "    .dataframe tbody tr th {\n",
       "        vertical-align: top;\n",
       "    }\n",
       "\n",
       "    .dataframe thead th {\n",
       "        text-align: right;\n",
       "    }\n",
       "</style>\n",
       "<table border=\"1\" class=\"dataframe\">\n",
       "  <thead>\n",
       "    <tr style=\"text-align: right;\">\n",
       "      <th></th>\n",
       "      <th>숙박</th>\n",
       "      <th>레저용품</th>\n",
       "      <th>레저업소</th>\n",
       "      <th>문화취미</th>\n",
       "      <th>연료</th>\n",
       "      <th>유통업</th>\n",
       "      <th>의복</th>\n",
       "      <th>신변잡화</th>\n",
       "      <th>서적문구</th>\n",
       "      <th>의료기관</th>\n",
       "      <th>보건위생</th>\n",
       "      <th>요식업소</th>\n",
       "      <th>음료식품</th>\n",
       "      <th>수리서비스</th>\n",
       "      <th>pop</th>\n",
       "      <th>LCLS_10_P</th>\n",
       "      <th>LCLS_20_P</th>\n",
       "      <th>LCLS_30_P</th>\n",
       "      <th>LCLS_40_P</th>\n",
       "      <th>LCLS_50_P</th>\n",
       "      <th>LCLS_60_P</th>\n",
       "      <th>LCLS_70_P</th>\n",
       "      <th>LCLS_80_P</th>\n",
       "      <th>pm10</th>\n",
       "      <th>pm25</th>\n",
       "      <th>CONTENT</th>\n",
       "      <th>temp</th>\n",
       "      <th>humi</th>\n",
       "      <th>prec</th>\n",
       "    </tr>\n",
       "  </thead>\n",
       "  <tbody>\n",
       "    <tr>\n",
       "      <th>0</th>\n",
       "      <td>432.0</td>\n",
       "      <td>203.0</td>\n",
       "      <td>7993.0</td>\n",
       "      <td>1551.0</td>\n",
       "      <td>498.0</td>\n",
       "      <td>36130.0</td>\n",
       "      <td>705.0</td>\n",
       "      <td>433.0</td>\n",
       "      <td>1432.0</td>\n",
       "      <td>809.0</td>\n",
       "      <td>2419.0</td>\n",
       "      <td>29971.0</td>\n",
       "      <td>2634.0</td>\n",
       "      <td>205.0</td>\n",
       "      <td>276375.29</td>\n",
       "      <td>5.775959e+06</td>\n",
       "      <td>4.653959e+06</td>\n",
       "      <td>7.123695e+06</td>\n",
       "      <td>460575.529718</td>\n",
       "      <td>8.889679e+05</td>\n",
       "      <td>102938.908335</td>\n",
       "      <td>158304.695151</td>\n",
       "      <td>125768.139866</td>\n",
       "      <td>68.127083</td>\n",
       "      <td>35.221528</td>\n",
       "      <td>515</td>\n",
       "      <td>16.580764</td>\n",
       "      <td>56.770833</td>\n",
       "      <td>0.0</td>\n",
       "    </tr>\n",
       "    <tr>\n",
       "      <th>1</th>\n",
       "      <td>105.0</td>\n",
       "      <td>131.0</td>\n",
       "      <td>5367.0</td>\n",
       "      <td>791.0</td>\n",
       "      <td>470.0</td>\n",
       "      <td>39422.0</td>\n",
       "      <td>488.0</td>\n",
       "      <td>369.0</td>\n",
       "      <td>1665.0</td>\n",
       "      <td>4298.0</td>\n",
       "      <td>2108.0</td>\n",
       "      <td>31339.0</td>\n",
       "      <td>3434.0</td>\n",
       "      <td>332.0</td>\n",
       "      <td>362157.39</td>\n",
       "      <td>5.798567e+06</td>\n",
       "      <td>4.068040e+06</td>\n",
       "      <td>6.922594e+06</td>\n",
       "      <td>517274.801816</td>\n",
       "      <td>7.320147e+05</td>\n",
       "      <td>85751.772442</td>\n",
       "      <td>189721.667844</td>\n",
       "      <td>159773.285544</td>\n",
       "      <td>71.924306</td>\n",
       "      <td>29.909028</td>\n",
       "      <td>888</td>\n",
       "      <td>19.631111</td>\n",
       "      <td>57.827083</td>\n",
       "      <td>0.0</td>\n",
       "    </tr>\n",
       "    <tr>\n",
       "      <th>2</th>\n",
       "      <td>87.0</td>\n",
       "      <td>126.0</td>\n",
       "      <td>5656.0</td>\n",
       "      <td>526.0</td>\n",
       "      <td>384.0</td>\n",
       "      <td>38026.0</td>\n",
       "      <td>434.0</td>\n",
       "      <td>326.0</td>\n",
       "      <td>1329.0</td>\n",
       "      <td>3459.0</td>\n",
       "      <td>1974.0</td>\n",
       "      <td>32731.0</td>\n",
       "      <td>3467.0</td>\n",
       "      <td>255.0</td>\n",
       "      <td>364140.16</td>\n",
       "      <td>5.882238e+06</td>\n",
       "      <td>4.045719e+06</td>\n",
       "      <td>6.679634e+06</td>\n",
       "      <td>396954.848039</td>\n",
       "      <td>6.941187e+05</td>\n",
       "      <td>109181.181977</td>\n",
       "      <td>146743.364491</td>\n",
       "      <td>83460.961960</td>\n",
       "      <td>72.979861</td>\n",
       "      <td>24.331944</td>\n",
       "      <td>856</td>\n",
       "      <td>19.192500</td>\n",
       "      <td>61.674306</td>\n",
       "      <td>0.1</td>\n",
       "    </tr>\n",
       "    <tr>\n",
       "      <th>3</th>\n",
       "      <td>151.0</td>\n",
       "      <td>165.0</td>\n",
       "      <td>5300.0</td>\n",
       "      <td>534.0</td>\n",
       "      <td>308.0</td>\n",
       "      <td>38258.0</td>\n",
       "      <td>469.0</td>\n",
       "      <td>314.0</td>\n",
       "      <td>1426.0</td>\n",
       "      <td>3160.0</td>\n",
       "      <td>2047.0</td>\n",
       "      <td>32115.0</td>\n",
       "      <td>3520.0</td>\n",
       "      <td>313.0</td>\n",
       "      <td>355365.76</td>\n",
       "      <td>6.163598e+06</td>\n",
       "      <td>4.284199e+06</td>\n",
       "      <td>6.238373e+06</td>\n",
       "      <td>400734.630537</td>\n",
       "      <td>9.144325e+05</td>\n",
       "      <td>106260.195832</td>\n",
       "      <td>133827.487702</td>\n",
       "      <td>85526.543799</td>\n",
       "      <td>18.221528</td>\n",
       "      <td>10.952778</td>\n",
       "      <td>893</td>\n",
       "      <td>14.075417</td>\n",
       "      <td>60.129861</td>\n",
       "      <td>18.5</td>\n",
       "    </tr>\n",
       "    <tr>\n",
       "      <th>4</th>\n",
       "      <td>187.0</td>\n",
       "      <td>109.0</td>\n",
       "      <td>6001.0</td>\n",
       "      <td>729.0</td>\n",
       "      <td>312.0</td>\n",
       "      <td>35063.0</td>\n",
       "      <td>308.0</td>\n",
       "      <td>244.0</td>\n",
       "      <td>1308.0</td>\n",
       "      <td>3264.0</td>\n",
       "      <td>1838.0</td>\n",
       "      <td>30793.0</td>\n",
       "      <td>3818.0</td>\n",
       "      <td>234.0</td>\n",
       "      <td>343828.64</td>\n",
       "      <td>6.131853e+06</td>\n",
       "      <td>3.723724e+06</td>\n",
       "      <td>5.135552e+06</td>\n",
       "      <td>430144.414585</td>\n",
       "      <td>1.099378e+06</td>\n",
       "      <td>120809.906702</td>\n",
       "      <td>149481.681510</td>\n",
       "      <td>89173.629481</td>\n",
       "      <td>8.854861</td>\n",
       "      <td>3.891667</td>\n",
       "      <td>864</td>\n",
       "      <td>8.620000</td>\n",
       "      <td>77.163194</td>\n",
       "      <td>10.5</td>\n",
       "    </tr>\n",
       "  </tbody>\n",
       "</table>\n",
       "</div>"
      ],
      "text/plain": [
       "      숙박   레저용품    레저업소    문화취미     연료      유통업     의복   신변잡화    서적문구    의료기관  \\\n",
       "0  432.0  203.0  7993.0  1551.0  498.0  36130.0  705.0  433.0  1432.0   809.0   \n",
       "1  105.0  131.0  5367.0   791.0  470.0  39422.0  488.0  369.0  1665.0  4298.0   \n",
       "2   87.0  126.0  5656.0   526.0  384.0  38026.0  434.0  326.0  1329.0  3459.0   \n",
       "3  151.0  165.0  5300.0   534.0  308.0  38258.0  469.0  314.0  1426.0  3160.0   \n",
       "4  187.0  109.0  6001.0   729.0  312.0  35063.0  308.0  244.0  1308.0  3264.0   \n",
       "\n",
       "     보건위생     요식업소    음료식품  수리서비스        pop     LCLS_10_P     LCLS_20_P  \\\n",
       "0  2419.0  29971.0  2634.0  205.0  276375.29  5.775959e+06  4.653959e+06   \n",
       "1  2108.0  31339.0  3434.0  332.0  362157.39  5.798567e+06  4.068040e+06   \n",
       "2  1974.0  32731.0  3467.0  255.0  364140.16  5.882238e+06  4.045719e+06   \n",
       "3  2047.0  32115.0  3520.0  313.0  355365.76  6.163598e+06  4.284199e+06   \n",
       "4  1838.0  30793.0  3818.0  234.0  343828.64  6.131853e+06  3.723724e+06   \n",
       "\n",
       "      LCLS_30_P      LCLS_40_P     LCLS_50_P      LCLS_60_P      LCLS_70_P  \\\n",
       "0  7.123695e+06  460575.529718  8.889679e+05  102938.908335  158304.695151   \n",
       "1  6.922594e+06  517274.801816  7.320147e+05   85751.772442  189721.667844   \n",
       "2  6.679634e+06  396954.848039  6.941187e+05  109181.181977  146743.364491   \n",
       "3  6.238373e+06  400734.630537  9.144325e+05  106260.195832  133827.487702   \n",
       "4  5.135552e+06  430144.414585  1.099378e+06  120809.906702  149481.681510   \n",
       "\n",
       "       LCLS_80_P       pm10       pm25  CONTENT       temp       humi  prec  \n",
       "0  125768.139866  68.127083  35.221528      515  16.580764  56.770833   0.0  \n",
       "1  159773.285544  71.924306  29.909028      888  19.631111  57.827083   0.0  \n",
       "2   83460.961960  72.979861  24.331944      856  19.192500  61.674306   0.1  \n",
       "3   85526.543799  18.221528  10.952778      893  14.075417  60.129861  18.5  \n",
       "4   89173.629481   8.854861   3.891667      864   8.620000  77.163194  10.5  "
      ]
     },
     "execution_count": 13,
     "metadata": {},
     "output_type": "execute_result"
    }
   ],
   "source": [
    "df_20.head()"
   ]
  },
  {
   "cell_type": "code",
   "execution_count": 14,
   "metadata": {},
   "outputs": [
    {
     "data": {
      "text/plain": [
       "<BarContainer object of 14 artists>"
      ]
     },
     "execution_count": 14,
     "metadata": {},
     "output_type": "execute_result"
    },
    {
     "data": {
      "image/png": "[encoded data removed]",
      "text/plain": [
       "<Figure size 1296x432 with 1 Axes>"
      ]
     },
     "metadata": {
      "needs_background": "light"
     },
     "output_type": "display_data"
    }
   ],
   "source": [
    "df_viz = df_20[['숙박', '레저용품', '레저업소', '문화취미', '연료', '유통업',\n",
    "       '의복', '신변잡화', '서적문구', '의료기관', '보건위생',\n",
    "       '요식업소', '음료식품', '수리서비스']].apply(lambda df:df.sum()).sort_values()\n",
    "\n",
    "plt.figure(figsize=(18,6))\n",
    "plt.barh(df_viz.index,\n",
    "        df_viz)"
   ]
  },
  {
   "cell_type": "markdown",
   "metadata": {},
   "source": [
    "# add weekday"
   ]
  },
  {
   "cell_type": "code",
   "execution_count": 15,
   "metadata": {},
   "outputs": [],
   "source": [
    "df_20.index = pd.date_range('2018-04-01', '2019-03-31')"
   ]
  },
  {
   "cell_type": "code",
   "execution_count": 16,
   "metadata": {},
   "outputs": [],
   "source": [
    "df_20['weekday'] = df_20.index.weekday  # 0 Monday 6 Sunday"
   ]
  },
  {
   "cell_type": "code",
   "execution_count": 17,
   "metadata": {},
   "outputs": [],
   "source": [
    "weekend_dict = {0: 0, 1: 0, 2: 0, 3:0, 4:0, 5:1, 6:1}\n",
    "df_20['weekend'] = [weekend_dict[i] for i in df_20['weekday'].values]"
   ]
  },
  {
   "cell_type": "markdown",
   "metadata": {},
   "source": [
    "# Two_way Anova (F)"
   ]
  },
  {
   "cell_type": "code",
   "execution_count": 29,
   "metadata": {},
   "outputs": [],
   "source": [
    "import scipy.stats as stats\n",
    "import pandas as pd\n",
    "import urllib\n",
    "from statsmodels.formula.api import ols\n",
    "from statsmodels.stats.anova import anova_lm\n",
    "import matplotlib.pyplot as plt\n",
    "import numpy as np\n",
    "%matplotlib inline"
   ]
  },
  {
   "cell_type": "code",
   "execution_count": 27,
   "metadata": {},
   "outputs": [],
   "source": [
    "# good_idx = np.where(df_20.pm10<=50)[0]\n",
    "\n",
    "# bad_idx = np.where(df_20.pm10>50)[0]\n",
    "\n",
    "# df_20['pm10_category']=[0]*len(df_20)"
   ]
  },
  {
   "cell_type": "code",
   "execution_count": 11,
   "metadata": {},
   "outputs": [],
   "source": [
    "# for i in range(len(df_20)):\n",
    "#     if i in good_idx:\n",
    "#         df_20['pm10_category'].iloc[i] = 'good'\n",
    "# #     elif i in middle_idx:\n",
    "# #         df_20['pm10_category'].iloc[i] = 'middle'\n",
    "#     else:\n",
    "#         df_20['pm10_category'].iloc[i] = 'bad'"
   ]
  },
  {
   "cell_type": "code",
   "execution_count": 12,
   "metadata": {},
   "outputs": [],
   "source": [
    "# good_idx_25 = np.where(df_20.pm25<=25)[0]\n",
    "\n",
    "# bad_idx_25 = np.where(df_20.pm25>25)[0]\n",
    "\n",
    "# df_20['pm25_category']=[0]*len(df_20)"
   ]
  },
  {
   "cell_type": "code",
   "execution_count": 13,
   "metadata": {},
   "outputs": [],
   "source": [
    "# for i in range(len(df_20)):\n",
    "#     if i in good_idx:\n",
    "#         df_20['pm25_category'].iloc[i] = 'good'\n",
    "# #     elif i in middle_idx:\n",
    "# #         df_20['pm10_category'].iloc[i] = 'middle'\n",
    "#     else:\n",
    "#         df_20['pm25_category'].iloc[i] = 'bad'"
   ]
  },
  {
   "cell_type": "code",
   "execution_count": 14,
   "metadata": {},
   "outputs": [],
   "source": [
    "# good_idx_temp = np.where(df_20.temp<=35)[0]\n",
    "\n",
    "# bad_idx_temp = np.where(df_20.temp>35)[0]\n",
    "\n",
    "# df_20['temp_category']=[0]*len(df_20)"
   ]
  },
  {
   "cell_type": "code",
   "execution_count": 15,
   "metadata": {},
   "outputs": [],
   "source": [
    "# for i in range(len(df_20)):\n",
    "#     if i in good_idx:\n",
    "#         df_20['temp_category'].iloc[i] = 'bad'\n",
    "# #     elif i in middle_idx:\n",
    "# #         df_20['pm10_category'].iloc[i] = 'middle'\n",
    "#     else:\n",
    "#         df_20['temp_category'].iloc[i] = 'good'"
   ]
  },
  {
   "cell_type": "code",
   "execution_count": 16,
   "metadata": {},
   "outputs": [],
   "source": [
    "# df_anova = df_20[['age20숙박_USE_AMT', 'pm10', 'pm25', 'temp']]"
   ]
  },
  {
   "cell_type": "markdown",
   "metadata": {},
   "source": [
    "* anova function"
   ]
  },
  {
   "cell_type": "code",
   "execution_count": 101,
   "metadata": {},
   "outputs": [],
   "source": [
    "formula = '숙박 ~ temp + humi + prec + weekend + CONTENT + pm10 + pm25'\n",
    "# :뒤로넣으면 서로 겹치는 변수를 고려해서 반영해주는것.\n",
    "lm = ols(formula, df_20).fit()"
   ]
  },
  {
   "cell_type": "code",
   "execution_count": 102,
   "metadata": {},
   "outputs": [
    {
     "data": {
      "text/html": [
       "<div>\n",
       "<style scoped>\n",
       "    .dataframe tbody tr th:only-of-type {\n",
       "        vertical-align: middle;\n",
       "    }\n",
       "\n",
       "    .dataframe tbody tr th {\n",
       "        vertical-align: top;\n",
       "    }\n",
       "\n",
       "    .dataframe thead th {\n",
       "        text-align: right;\n",
       "    }\n",
       "</style>\n",
       "<table border=\"1\" class=\"dataframe\">\n",
       "  <thead>\n",
       "    <tr style=\"text-align: right;\">\n",
       "      <th></th>\n",
       "      <th>df</th>\n",
       "      <th>sum_sq</th>\n",
       "      <th>mean_sq</th>\n",
       "      <th>F</th>\n",
       "      <th>PR(&gt;F)</th>\n",
       "    </tr>\n",
       "  </thead>\n",
       "  <tbody>\n",
       "    <tr>\n",
       "      <th>pm10</th>\n",
       "      <td>1.0</td>\n",
       "      <td>7.507348e+04</td>\n",
       "      <td>75073.479325</td>\n",
       "      <td>4.968606</td>\n",
       "      <td>0.026437</td>\n",
       "    </tr>\n",
       "    <tr>\n",
       "      <th>pm25</th>\n",
       "      <td>1.0</td>\n",
       "      <td>3.745534e+04</td>\n",
       "      <td>37455.337109</td>\n",
       "      <td>2.478915</td>\n",
       "      <td>0.116273</td>\n",
       "    </tr>\n",
       "    <tr>\n",
       "      <th>temp</th>\n",
       "      <td>1.0</td>\n",
       "      <td>1.757853e+04</td>\n",
       "      <td>17578.528367</td>\n",
       "      <td>1.163404</td>\n",
       "      <td>0.281493</td>\n",
       "    </tr>\n",
       "    <tr>\n",
       "      <th>humi</th>\n",
       "      <td>1.0</td>\n",
       "      <td>1.467224e+04</td>\n",
       "      <td>14672.243167</td>\n",
       "      <td>0.971056</td>\n",
       "      <td>0.325088</td>\n",
       "    </tr>\n",
       "    <tr>\n",
       "      <th>prec</th>\n",
       "      <td>1.0</td>\n",
       "      <td>6.108905e+02</td>\n",
       "      <td>610.890518</td>\n",
       "      <td>0.040431</td>\n",
       "      <td>0.840756</td>\n",
       "    </tr>\n",
       "    <tr>\n",
       "      <th>pm10:temp</th>\n",
       "      <td>1.0</td>\n",
       "      <td>1.911251e+04</td>\n",
       "      <td>19112.513535</td>\n",
       "      <td>1.264928</td>\n",
       "      <td>0.261480</td>\n",
       "    </tr>\n",
       "    <tr>\n",
       "      <th>pm10:prec</th>\n",
       "      <td>1.0</td>\n",
       "      <td>5.420094e+00</td>\n",
       "      <td>5.420094</td>\n",
       "      <td>0.000359</td>\n",
       "      <td>0.984900</td>\n",
       "    </tr>\n",
       "    <tr>\n",
       "      <th>pm25:temp</th>\n",
       "      <td>1.0</td>\n",
       "      <td>2.306983e+03</td>\n",
       "      <td>2306.982800</td>\n",
       "      <td>0.152684</td>\n",
       "      <td>0.696218</td>\n",
       "    </tr>\n",
       "    <tr>\n",
       "      <th>pm25:prec</th>\n",
       "      <td>1.0</td>\n",
       "      <td>2.999732e+03</td>\n",
       "      <td>2999.732331</td>\n",
       "      <td>0.198532</td>\n",
       "      <td>0.656180</td>\n",
       "    </tr>\n",
       "    <tr>\n",
       "      <th>Residual</th>\n",
       "      <td>355.0</td>\n",
       "      <td>5.363896e+06</td>\n",
       "      <td>15109.567143</td>\n",
       "      <td>NaN</td>\n",
       "      <td>NaN</td>\n",
       "    </tr>\n",
       "  </tbody>\n",
       "</table>\n",
       "</div>"
      ],
      "text/plain": [
       "              df        sum_sq       mean_sq         F    PR(>F)\n",
       "pm10         1.0  7.507348e+04  75073.479325  4.968606  0.026437\n",
       "pm25         1.0  3.745534e+04  37455.337109  2.478915  0.116273\n",
       "temp         1.0  1.757853e+04  17578.528367  1.163404  0.281493\n",
       "humi         1.0  1.467224e+04  14672.243167  0.971056  0.325088\n",
       "prec         1.0  6.108905e+02    610.890518  0.040431  0.840756\n",
       "pm10:temp    1.0  1.911251e+04  19112.513535  1.264928  0.261480\n",
       "pm10:prec    1.0  5.420094e+00      5.420094  0.000359  0.984900\n",
       "pm25:temp    1.0  2.306983e+03   2306.982800  0.152684  0.696218\n",
       "pm25:prec    1.0  2.999732e+03   2999.732331  0.198532  0.656180\n",
       "Residual   355.0  5.363896e+06  15109.567143       NaN       NaN"
      ]
     },
     "execution_count": 102,
     "metadata": {},
     "output_type": "execute_result"
    }
   ],
   "source": [
    "anova_lm(lm)"
   ]
  },
  {
   "cell_type": "code",
   "execution_count": null,
   "metadata": {},
   "outputs": [],
   "source": [
    "'숙박 ~ temp + humi + prec + weekend + CONTENT + pm10 + pm25'"
   ]
  },
  {
   "cell_type": "code",
   "execution_count": 30,
   "metadata": {},
   "outputs": [],
   "source": [
    "def anova(col_name):\n",
    "    formula = col_name + ' ~ temp + humi + prec + weekend + CONTENT + pm10 + pm25'\n",
    "    lm = ols(formula, df_20).fit()\n",
    "    return anova_lm(lm), lm.summary()"
   ]
  },
  {
   "cell_type": "code",
   "execution_count": 33,
   "metadata": {},
   "outputs": [],
   "source": [
    "def coef_bar(colname):\n",
    "    X = df_20.drop(colname, axis=1)\n",
    "    X = normalize(X)\n",
    "    Y = df_20[colname]\n",
    "\n",
    "    X_train, X_test, y_train, y_test = train_test_split(X, Y, test_size=0.33, random_state=42)\n",
    "    lasso = Lasso(fit_intercept=True,\n",
    "    #               alpha=0.5\n",
    "                 )\n",
    "    lasso.fit(X_train, y_train)\n",
    "\n",
    "    # set_df\n",
    "    df = pd.DataFrame(ridge.coef_, df_20.drop(colname,axis=1).columns).rename(columns={0:'coef'})\n",
    "    df = df.sort_values(by='coef', ascending=False)\n",
    "\n",
    "    # bar\n",
    "    plt.figure(figsize=(12, 6))\n",
    "    plt.barh(df.index, df['coef'])\n",
    "    # plt.xticks(df_sukbak['coef'])\n",
    "    return None"
   ]
  },
  {
   "cell_type": "markdown",
   "metadata": {},
   "source": [
    "# Check Coef"
   ]
  },
  {
   "cell_type": "code",
   "execution_count": 34,
   "metadata": {},
   "outputs": [],
   "source": [
    "from sklearn.linear_model import Lasso, Ridge"
   ]
  },
  {
   "cell_type": "code",
   "execution_count": 35,
   "metadata": {},
   "outputs": [],
   "source": [
    "from sklearn.model_selection import train_test_split"
   ]
  },
  {
   "cell_type": "markdown",
   "metadata": {},
   "source": [
    "## 숙박 10"
   ]
  },
  {
   "cell_type": "code",
   "execution_count": 36,
   "metadata": {},
   "outputs": [
    {
     "data": {
      "text/plain": [
       "(             df        sum_sq       mean_sq            F         PR(>F)\n",
       " temp        1.0  5.476532e+04  5.476532e+04    17.175378   4.260572e-05\n",
       " humi        1.0  9.892897e+01  9.892897e+01     0.031026   8.602825e-01\n",
       " prec        1.0  9.760787e+01  9.760787e+01     0.030612   8.612090e-01\n",
       " weekend     1.0  4.305988e+06  4.305988e+06  1350.434426  2.258315e-123\n",
       " CONTENT     1.0  3.177323e+04  3.177323e+04     9.964652   1.731512e-03\n",
       " pm10        1.0  2.653993e+03  2.653993e+03     0.832339   3.622126e-01\n",
       " pm25        1.0  6.223418e+00  6.223418e+00     0.001952   9.647865e-01\n",
       " Residual  357.0  1.138328e+06  3.188595e+03          NaN            NaN,\n",
       " <class 'statsmodels.iolib.summary.Summary'>\n",
       " \"\"\"\n",
       "                             OLS Regression Results                            \n",
       " ==============================================================================\n",
       " Dep. Variable:                     숙박   R-squared:                       0.794\n",
       " Model:                            OLS   Adj. R-squared:                  0.790\n",
       " Method:                 Least Squares   F-statistic:                     196.9\n",
       " Date:                Tue, 20 Aug 2019   Prob (F-statistic):          1.93e-118\n",
       " Time:                        22:20:03   Log-Likelihood:                -1986.2\n",
       " No. Observations:                 365   AIC:                             3988.\n",
       " Df Residuals:                     357   BIC:                             4020.\n",
       " Df Model:                           7                                         \n",
       " Covariance Type:            nonrobust                                         \n",
       " ==============================================================================\n",
       "                  coef    std err          t      P>|t|      [0.025      0.975]\n",
       " ------------------------------------------------------------------------------\n",
       " Intercept    167.4441     17.922      9.343      0.000     132.197     202.691\n",
       " temp           0.6061      0.361      1.678      0.094      -0.104       1.317\n",
       " humi           0.4318      0.283      1.524      0.128      -0.125       0.989\n",
       " prec          -0.0230      0.301     -0.076      0.939      -0.615       0.569\n",
       " weekend      228.5567      7.697     29.694      0.000     213.420     243.694\n",
       " CONTENT       -0.0387      0.014     -2.772      0.006      -0.066      -0.011\n",
       " pm10          -0.0971      0.220     -0.441      0.659      -0.530       0.336\n",
       " pm25           0.0131      0.297      0.044      0.965      -0.571       0.597\n",
       " ==============================================================================\n",
       " Omnibus:                      118.550   Durbin-Watson:                   1.969\n",
       " Prob(Omnibus):                  0.000   Jarque-Bera (JB):              366.787\n",
       " Skew:                           1.480   Prob(JB):                     2.26e-80\n",
       " Kurtosis:                       6.918   Cond. No.                     3.64e+03\n",
       " ==============================================================================\n",
       " \n",
       " Warnings:\n",
       " [1] Standard Errors assume that the covariance matrix of the errors is correctly specified.\n",
       " [2] The condition number is large, 3.64e+03. This might indicate that there are\n",
       " strong multicollinearity or other numerical problems.\n",
       " \"\"\")"
      ]
     },
     "execution_count": 36,
     "metadata": {},
     "output_type": "execute_result"
    }
   ],
   "source": [
    "anova(\"숙박\")"
   ]
  },
  {
   "cell_type": "code",
   "execution_count": 149,
   "metadata": {},
   "outputs": [
    {
     "data": {
      "image/png": "[encoded data removed]",
      "text/plain": [
       "<Figure size 864x432 with 1 Axes>"
      ]
     },
     "metadata": {
      "needs_background": "light"
     },
     "output_type": "display_data"
    }
   ],
   "source": [
    "coef_bar('숙박')"
   ]
  },
  {
   "cell_type": "markdown",
   "metadata": {},
   "source": [
    "## 레저용품 20"
   ]
  },
  {
   "cell_type": "code",
   "execution_count": 37,
   "metadata": {},
   "outputs": [
    {
     "data": {
      "text/plain": [
       "(             df        sum_sq       mean_sq           F        PR(>F)\n",
       " temp        1.0  1.216900e+06  1.216900e+06  234.776189  4.419755e-41\n",
       " humi        1.0  5.936457e+04  5.936457e+04   11.453188  7.929896e-04\n",
       " prec        1.0  8.141367e+04  8.141367e+04   15.707114  8.932315e-05\n",
       " weekend     1.0  1.227706e+06  1.227706e+06  236.860856  2.353155e-41\n",
       " CONTENT     1.0  1.074404e+05  1.074404e+05   20.728452  7.269670e-06\n",
       " pm10        1.0  1.413616e+05  1.413616e+05   27.272848  3.007739e-07\n",
       " pm25        1.0  9.836368e+04  9.836368e+04   18.977274  1.731165e-05\n",
       " Residual  357.0  1.850415e+06  5.183236e+03         NaN           NaN,\n",
       " <class 'statsmodels.iolib.summary.Summary'>\n",
       " \"\"\"\n",
       "                             OLS Regression Results                            \n",
       " ==============================================================================\n",
       " Dep. Variable:                   레저용품   R-squared:                       0.613\n",
       " Model:                            OLS   Adj. R-squared:                  0.606\n",
       " Method:                 Least Squares   F-statistic:                     80.83\n",
       " Date:                Tue, 20 Aug 2019   Prob (F-statistic):           9.38e-70\n",
       " Time:                        22:20:11   Log-Likelihood:                -2074.8\n",
       " No. Observations:                 365   AIC:                             4166.\n",
       " Df Residuals:                     357   BIC:                             4197.\n",
       " Df Model:                           7                                         \n",
       " Covariance Type:            nonrobust                                         \n",
       " ==============================================================================\n",
       "                  coef    std err          t      P>|t|      [0.025      0.975]\n",
       " ------------------------------------------------------------------------------\n",
       " Intercept    355.4104     22.851     15.554      0.000     310.472     400.349\n",
       " temp          -4.9032      0.461    -10.644      0.000      -5.809      -3.997\n",
       " humi          -0.1149      0.361     -0.318      0.751      -0.825       0.595\n",
       " prec          -1.1069      0.384     -2.886      0.004      -1.861      -0.353\n",
       " weekend       96.8815      9.813      9.872      0.000      77.582     116.181\n",
       " CONTENT       -0.1061      0.018     -5.952      0.000      -0.141      -0.071\n",
       " pm10          -0.4527      0.281     -1.613      0.108      -1.005       0.099\n",
       " pm25           1.6502      0.379      4.356      0.000       0.905       2.395\n",
       " ==============================================================================\n",
       " Omnibus:                       79.901   Durbin-Watson:                   1.063\n",
       " Prob(Omnibus):                  0.000   Jarque-Bera (JB):              268.299\n",
       " Skew:                           0.950   Prob(JB):                     5.49e-59\n",
       " Kurtosis:                       6.746   Cond. No.                     3.64e+03\n",
       " ==============================================================================\n",
       " \n",
       " Warnings:\n",
       " [1] Standard Errors assume that the covariance matrix of the errors is correctly specified.\n",
       " [2] The condition number is large, 3.64e+03. This might indicate that there are\n",
       " strong multicollinearity or other numerical problems.\n",
       " \"\"\")"
      ]
     },
     "execution_count": 37,
     "metadata": {},
     "output_type": "execute_result"
    }
   ],
   "source": [
    "anova(\"레저용품\")"
   ]
  },
  {
   "cell_type": "code",
   "execution_count": 151,
   "metadata": {},
   "outputs": [
    {
     "data": {
      "image/png": "[encoded data removed]",
      "text/plain": [
       "<Figure size 864x432 with 1 Axes>"
      ]
     },
     "metadata": {
      "needs_background": "light"
     },
     "output_type": "display_data"
    }
   ],
   "source": [
    "coef_bar('레저용품')"
   ]
  },
  {
   "cell_type": "markdown",
   "metadata": {},
   "source": [
    "## 문화취미 22"
   ]
  },
  {
   "cell_type": "code",
   "execution_count": 152,
   "metadata": {},
   "outputs": [
    {
     "data": {
      "text/plain": [
       "(                 df        sum_sq       mean_sq          F        PR(>F)\n",
       " pm10            1.0  4.552796e+05  4.552796e+05   4.457206  3.545288e-02\n",
       " pm25            1.0  1.009448e+05  1.009448e+05   0.988254  3.208466e-01\n",
       " temp            1.0  8.456115e+03  8.456115e+03   0.082786  7.737251e-01\n",
       " humi            1.0  7.706482e+05  7.706482e+05   7.544679  6.325572e-03\n",
       " CONTENT         1.0  6.911488e+06  6.911488e+06  67.663766  3.711861e-15\n",
       " prec            1.0  7.750344e+04  7.750344e+04   0.758762  3.843049e-01\n",
       " CONTENT:temp    1.0  1.918119e+05  1.918119e+05   1.877847  1.714450e-01\n",
       " CONTENT:prec    1.0  6.800261e+02  6.800261e+02   0.006657  9.350160e-01\n",
       " CONTENT:humi    1.0  1.906307e+04  1.906307e+04   0.186628  6.660001e-01\n",
       " Residual      355.0  3.626133e+07  1.021446e+05        NaN           NaN,\n",
       " <class 'statsmodels.iolib.summary.Summary'>\n",
       " \"\"\"\n",
       "                             OLS Regression Results                            \n",
       " ==============================================================================\n",
       " Dep. Variable:                   문화취미   R-squared:                       0.191\n",
       " Model:                            OLS   Adj. R-squared:                  0.170\n",
       " Method:                 Least Squares   F-statistic:                     9.285\n",
       " Date:                Wed, 14 Aug 2019   Prob (F-statistic):           1.11e-12\n",
       " Time:                        16:52:01   Log-Likelihood:                -2617.8\n",
       " No. Observations:                 365   AIC:                             5256.\n",
       " Df Residuals:                     355   BIC:                             5295.\n",
       " Df Model:                           9                                         \n",
       " Covariance Type:            nonrobust                                         \n",
       " ================================================================================\n",
       "                    coef    std err          t      P>|t|      [0.025      0.975]\n",
       " --------------------------------------------------------------------------------\n",
       " Intercept     1359.1631    161.571      8.412      0.000    1041.405    1676.921\n",
       " pm10            -2.2591      1.427     -1.583      0.114      -5.065       0.547\n",
       " pm25             2.9727      1.937      1.535      0.126      -0.836       6.782\n",
       " temp             3.7541      4.233      0.887      0.376      -4.570      12.078\n",
       " humi            -3.0606      3.502     -0.874      0.383      -9.947       3.826\n",
       " CONTENT         -0.5301      0.246     -2.153      0.032      -1.014      -0.046\n",
       " prec            -0.6536      3.993     -0.164      0.870      -8.507       7.199\n",
       " CONTENT:temp    -0.0114      0.008     -1.419      0.157      -0.027       0.004\n",
       " CONTENT:prec    -0.0011      0.007     -0.168      0.867      -0.014       0.012\n",
       " CONTENT:humi     0.0024      0.006      0.432      0.666      -0.009       0.013\n",
       " ==============================================================================\n",
       " Omnibus:                       82.191   Durbin-Watson:                   1.071\n",
       " Prob(Omnibus):                  0.000   Jarque-Bera (JB):              221.862\n",
       " Skew:                           1.058   Prob(JB):                     6.66e-49\n",
       " Kurtosis:                       6.179   Cond. No.                     3.04e+05\n",
       " ==============================================================================\n",
       " \n",
       " Warnings:\n",
       " [1] Standard Errors assume that the covariance matrix of the errors is correctly specified.\n",
       " [2] The condition number is large, 3.04e+05. This might indicate that there are\n",
       " strong multicollinearity or other numerical problems.\n",
       " \"\"\")"
      ]
     },
     "execution_count": 152,
     "metadata": {},
     "output_type": "execute_result"
    }
   ],
   "source": [
    "anova(\"문화취미\")"
   ]
  },
  {
   "cell_type": "code",
   "execution_count": 153,
   "metadata": {},
   "outputs": [
    {
     "data": {
      "image/png": "[encoded data removed]",
      "text/plain": [
       "<Figure size 864x432 with 1 Axes>"
      ]
     },
     "metadata": {
      "needs_background": "light"
     },
     "output_type": "display_data"
    }
   ],
   "source": [
    "coef_bar('문화취미')"
   ]
  },
  {
   "cell_type": "markdown",
   "metadata": {},
   "source": [
    "# 가구 30 Null로 삭제"
   ]
  },
  {
   "cell_type": "markdown",
   "metadata": {},
   "source": [
    "## 전기 31 Null로 삭제"
   ]
  },
  {
   "cell_type": "markdown",
   "metadata": {},
   "source": [
    "## 주방용구 32 Null로 삭제"
   ]
  },
  {
   "cell_type": "markdown",
   "metadata": {},
   "source": [
    "## 유통업 40"
   ]
  },
  {
   "cell_type": "code",
   "execution_count": 154,
   "metadata": {},
   "outputs": [
    {
     "data": {
      "text/plain": [
       "(                 df        sum_sq       mean_sq           F        PR(>F)\n",
       " pm10            1.0  9.102984e+08  9.102984e+08  102.300689  2.674612e-21\n",
       " pm25            1.0  1.266173e+06  1.266173e+06    0.142294  7.062361e-01\n",
       " temp            1.0  1.088144e+09  1.088144e+09  122.287206  1.261467e-24\n",
       " humi            1.0  3.318750e+07  3.318750e+07    3.729660  5.425009e-02\n",
       " CONTENT         1.0  1.506003e+08  1.506003e+08   16.924685  4.838287e-05\n",
       " prec            1.0  2.280997e+08  2.280997e+08   25.634184  6.641957e-07\n",
       " CONTENT:temp    1.0  2.492792e+08  2.492792e+08   28.014362  2.113731e-07\n",
       " CONTENT:prec    1.0  1.650336e+06  1.650336e+06    0.185467  6.669776e-01\n",
       " CONTENT:humi    1.0  1.552287e+06  1.552287e+06    0.174448  6.764409e-01\n",
       " Residual      355.0  3.158883e+09  8.898263e+06         NaN           NaN,\n",
       " <class 'statsmodels.iolib.summary.Summary'>\n",
       " \"\"\"\n",
       "                             OLS Regression Results                            \n",
       " ==============================================================================\n",
       " Dep. Variable:                    유통업   R-squared:                       0.458\n",
       " Model:                            OLS   Adj. R-squared:                  0.444\n",
       " Method:                 Least Squares   F-statistic:                     33.27\n",
       " Date:                Wed, 14 Aug 2019   Prob (F-statistic):           3.17e-42\n",
       " Time:                        16:52:02   Log-Likelihood:                -3433.1\n",
       " No. Observations:                 365   AIC:                             6886.\n",
       " Df Residuals:                     355   BIC:                             6925.\n",
       " Df Model:                           9                                         \n",
       " Covariance Type:            nonrobust                                         \n",
       " ================================================================================\n",
       "                    coef    std err          t      P>|t|      [0.025      0.975]\n",
       " --------------------------------------------------------------------------------\n",
       " Intercept     3.455e+04   1508.029     22.911      0.000    3.16e+04    3.75e+04\n",
       " pm10           -23.6795     13.318     -1.778      0.076     -49.872       2.513\n",
       " pm25            -6.3684     18.077     -0.352      0.725     -41.919      29.182\n",
       " temp            27.6736     39.504      0.701      0.484     -50.018     105.365\n",
       " humi            23.0291     32.682      0.705      0.481     -41.245      87.303\n",
       " CONTENT         -0.7135      2.298     -0.310      0.756      -5.233       3.806\n",
       " prec           -83.2934     37.269     -2.235      0.026    -156.590      -9.997\n",
       " CONTENT:temp     0.3741      0.075      4.968      0.000       0.226       0.522\n",
       " CONTENT:prec    -0.0083      0.063     -0.132      0.895      -0.132       0.115\n",
       " CONTENT:humi    -0.0219      0.052     -0.418      0.676      -0.125       0.081\n",
       " ==============================================================================\n",
       " Omnibus:                       13.405   Durbin-Watson:                   0.677\n",
       " Prob(Omnibus):                  0.001   Jarque-Bera (JB):               14.215\n",
       " Skew:                          -0.483   Prob(JB):                     0.000819\n",
       " Kurtosis:                       2.988   Cond. No.                     3.04e+05\n",
       " ==============================================================================\n",
       " \n",
       " Warnings:\n",
       " [1] Standard Errors assume that the covariance matrix of the errors is correctly specified.\n",
       " [2] The condition number is large, 3.04e+05. This might indicate that there are\n",
       " strong multicollinearity or other numerical problems.\n",
       " \"\"\")"
      ]
     },
     "execution_count": 154,
     "metadata": {},
     "output_type": "execute_result"
    }
   ],
   "source": [
    "anova(\"유통업\")"
   ]
  },
  {
   "cell_type": "code",
   "execution_count": 155,
   "metadata": {},
   "outputs": [
    {
     "data": {
      "image/png": "[encoded data removed]",
      "text/plain": [
       "<Figure size 864x432 with 1 Axes>"
      ]
     },
     "metadata": {
      "needs_background": "light"
     },
     "output_type": "display_data"
    }
   ],
   "source": [
    "coef_bar('유통업')"
   ]
  },
  {
   "cell_type": "markdown",
   "metadata": {},
   "source": [
    "## 의복 42"
   ]
  },
  {
   "cell_type": "code",
   "execution_count": 156,
   "metadata": {},
   "outputs": [
    {
     "data": {
      "text/plain": [
       "(                 df        sum_sq       mean_sq          F        PR(>F)\n",
       " pm10            1.0  1.230354e+06  1.230354e+06  25.575738  6.832243e-07\n",
       " pm25            1.0  1.177184e+05  1.177184e+05   2.447047  1.186372e-01\n",
       " temp            1.0  1.903920e+06  1.903920e+06  39.577350  9.281884e-10\n",
       " humi            1.0  3.177409e+05  3.177409e+05   6.604974  1.057672e-02\n",
       " CONTENT         1.0  1.823238e+06  1.823238e+06  37.900195  2.013918e-09\n",
       " prec            1.0  3.479160e+05  3.479160e+05   7.232232  7.498535e-03\n",
       " CONTENT:temp    1.0  6.748383e+04  6.748383e+04   1.402806  2.370466e-01\n",
       " CONTENT:prec    1.0  3.477659e+03  3.477659e+03   0.072291  7.881858e-01\n",
       " CONTENT:humi    1.0  1.208025e+05  1.208025e+05   2.511157  1.139333e-01\n",
       " Residual      355.0  1.707774e+07  4.810630e+04        NaN           NaN,\n",
       " <class 'statsmodels.iolib.summary.Summary'>\n",
       " \"\"\"\n",
       "                             OLS Regression Results                            \n",
       " ==============================================================================\n",
       " Dep. Variable:                     의복   R-squared:                       0.258\n",
       " Model:                            OLS   Adj. R-squared:                  0.239\n",
       " Method:                 Least Squares   F-statistic:                     13.70\n",
       " Date:                Wed, 14 Aug 2019   Prob (F-statistic):           6.38e-19\n",
       " Time:                        16:52:02   Log-Likelihood:                -2480.4\n",
       " No. Observations:                 365   AIC:                             4981.\n",
       " Df Residuals:                     355   BIC:                             5020.\n",
       " Df Model:                           9                                         \n",
       " Covariance Type:            nonrobust                                         \n",
       " ================================================================================\n",
       "                    coef    std err          t      P>|t|      [0.025      0.975]\n",
       " --------------------------------------------------------------------------------\n",
       " Intercept      406.7377    110.881      3.668      0.000     188.671     624.804\n",
       " pm10             0.3115      0.979      0.318      0.751      -1.614       2.237\n",
       " pm25            -0.9940      1.329     -0.748      0.455      -3.608       1.620\n",
       " temp             6.8922      2.905      2.373      0.018       1.180      12.605\n",
       " humi             3.2124      2.403      1.337      0.182      -1.513       7.938\n",
       " CONTENT          0.0268      0.169      0.158      0.874      -0.306       0.359\n",
       " prec            -5.8234      2.740     -2.125      0.034     -11.213      -0.434\n",
       " CONTENT:temp    -0.0024      0.006     -0.425      0.671      -0.013       0.009\n",
       " CONTENT:prec     0.0050      0.005      1.092      0.276      -0.004       0.014\n",
       " CONTENT:humi    -0.0061      0.004     -1.585      0.114      -0.014       0.001\n",
       " ==============================================================================\n",
       " Omnibus:                      443.814   Durbin-Watson:                   1.503\n",
       " Prob(Omnibus):                  0.000   Jarque-Bera (JB):            43556.875\n",
       " Skew:                           5.471   Prob(JB):                         0.00\n",
       " Kurtosis:                      55.386   Cond. No.                     3.04e+05\n",
       " ==============================================================================\n",
       " \n",
       " Warnings:\n",
       " [1] Standard Errors assume that the covariance matrix of the errors is correctly specified.\n",
       " [2] The condition number is large, 3.04e+05. This might indicate that there are\n",
       " strong multicollinearity or other numerical problems.\n",
       " \"\"\")"
      ]
     },
     "execution_count": 156,
     "metadata": {},
     "output_type": "execute_result"
    }
   ],
   "source": [
    "anova('의복')"
   ]
  },
  {
   "cell_type": "code",
   "execution_count": 157,
   "metadata": {},
   "outputs": [
    {
     "data": {
      "image/png": "[encoded data removed]",
      "text/plain": [
       "<Figure size 864x432 with 1 Axes>"
      ]
     },
     "metadata": {
      "needs_background": "light"
     },
     "output_type": "display_data"
    }
   ],
   "source": [
    "coef_bar('의복')"
   ]
  },
  {
   "cell_type": "markdown",
   "metadata": {},
   "source": [
    "## 직물 43 Null로 삭제"
   ]
  },
  {
   "cell_type": "markdown",
   "metadata": {},
   "source": [
    "## 신변잡화 44"
   ]
  },
  {
   "cell_type": "code",
   "execution_count": 158,
   "metadata": {},
   "outputs": [
    {
     "data": {
      "text/plain": [
       "(                 df        sum_sq        mean_sq          F        PR(>F)\n",
       " pm10            1.0  5.937350e+02     593.734979   0.105247  7.458127e-01\n",
       " pm25            1.0  1.615388e+02     161.538815   0.028635  8.657214e-01\n",
       " temp            1.0  6.018350e+03    6018.350389   1.066829  3.023660e-01\n",
       " humi            1.0  1.998610e+05  199861.036679  35.427898  6.356426e-09\n",
       " CONTENT         1.0  1.836792e+05  183679.188981  32.559460  2.440312e-08\n",
       " prec            1.0  4.872102e+04   48721.019413   8.636417  3.510616e-03\n",
       " CONTENT:temp    1.0  4.061838e+03    4061.837601   0.720012  3.967117e-01\n",
       " CONTENT:prec    1.0  2.509408e+03    2509.408126   0.444824  5.052364e-01\n",
       " CONTENT:humi    1.0  5.704339e+03    5704.339351   1.011166  3.153085e-01\n",
       " Residual      355.0  2.002678e+06    5641.346233        NaN           NaN,\n",
       " <class 'statsmodels.iolib.summary.Summary'>\n",
       " \"\"\"\n",
       "                             OLS Regression Results                            \n",
       " ==============================================================================\n",
       " Dep. Variable:                   신변잡화   R-squared:                       0.184\n",
       " Model:                            OLS   Adj. R-squared:                  0.163\n",
       " Method:                 Least Squares   F-statistic:                     8.889\n",
       " Date:                Wed, 14 Aug 2019   Prob (F-statistic):           4.21e-12\n",
       " Time:                        16:52:03   Log-Likelihood:                -2089.3\n",
       " No. Observations:                 365   AIC:                             4199.\n",
       " Df Residuals:                     355   BIC:                             4238.\n",
       " Df Model:                           9                                         \n",
       " Covariance Type:            nonrobust                                         \n",
       " ================================================================================\n",
       "                    coef    std err          t      P>|t|      [0.025      0.975]\n",
       " --------------------------------------------------------------------------------\n",
       " Intercept      392.5059     37.971     10.337      0.000     317.830     467.182\n",
       " pm10            -0.3395      0.335     -1.012      0.312      -0.999       0.320\n",
       " pm25             0.6142      0.455      1.349      0.178      -0.281       1.509\n",
       " temp             0.8888      0.995      0.894      0.372      -1.067       2.845\n",
       " humi            -0.3729      0.823     -0.453      0.651      -1.991       1.246\n",
       " CONTENT         -0.0209      0.058     -0.361      0.718      -0.135       0.093\n",
       " prec            -2.1017      0.938     -2.240      0.026      -3.947      -0.256\n",
       " CONTENT:temp    -0.0008      0.002     -0.430      0.667      -0.005       0.003\n",
       " CONTENT:prec     0.0018      0.002      1.108      0.268      -0.001       0.005\n",
       " CONTENT:humi    -0.0013      0.001     -1.006      0.315      -0.004       0.001\n",
       " ==============================================================================\n",
       " Omnibus:                        5.150   Durbin-Watson:                   1.255\n",
       " Prob(Omnibus):                  0.076   Jarque-Bera (JB):                4.892\n",
       " Skew:                           0.267   Prob(JB):                       0.0866\n",
       " Kurtosis:                       3.189   Cond. No.                     3.04e+05\n",
       " ==============================================================================\n",
       " \n",
       " Warnings:\n",
       " [1] Standard Errors assume that the covariance matrix of the errors is correctly specified.\n",
       " [2] The condition number is large, 3.04e+05. This might indicate that there are\n",
       " strong multicollinearity or other numerical problems.\n",
       " \"\"\")"
      ]
     },
     "execution_count": 158,
     "metadata": {},
     "output_type": "execute_result"
    }
   ],
   "source": [
    "anova('신변잡화')"
   ]
  },
  {
   "cell_type": "code",
   "execution_count": 159,
   "metadata": {},
   "outputs": [
    {
     "data": {
      "image/png": "[encoded data removed]",
      "text/plain": [
       "<Figure size 864x432 with 1 Axes>"
      ]
     },
     "metadata": {
      "needs_background": "light"
     },
     "output_type": "display_data"
    }
   ],
   "source": [
    "coef_bar('신변잡화')"
   ]
  },
  {
   "cell_type": "markdown",
   "metadata": {},
   "source": [
    "## 서적문구 50"
   ]
  },
  {
   "cell_type": "code",
   "execution_count": 160,
   "metadata": {},
   "outputs": [
    {
     "data": {
      "text/plain": [
       "(                 df        sum_sq       mean_sq          F        PR(>F)\n",
       " pm10            1.0  6.312687e+05  6.312687e+05   3.506351  6.195576e-02\n",
       " pm25            1.0  1.431977e+05  1.431977e+05   0.795385  3.730809e-01\n",
       " temp            1.0  4.573858e+06  4.573858e+06  25.405268  7.419241e-07\n",
       " humi            1.0  2.639884e+04  2.639884e+04   0.146631  7.020050e-01\n",
       " CONTENT         1.0  1.785256e+06  1.785256e+06   9.916118  1.777284e-03\n",
       " prec            1.0  9.629475e+03  9.629475e+03   0.053486  8.172372e-01\n",
       " CONTENT:temp    1.0  9.327677e+05  9.327677e+05   5.181012  2.343001e-02\n",
       " CONTENT:prec    1.0  3.052049e+05  3.052049e+05   1.695246  1.937551e-01\n",
       " CONTENT:humi    1.0  6.844264e+02  6.844264e+02   0.003802  9.508705e-01\n",
       " Residual      355.0  6.391271e+07  1.800358e+05        NaN           NaN,\n",
       " <class 'statsmodels.iolib.summary.Summary'>\n",
       " \"\"\"\n",
       "                             OLS Regression Results                            \n",
       " ==============================================================================\n",
       " Dep. Variable:                   서적문구   R-squared:                       0.116\n",
       " Model:                            OLS   Adj. R-squared:                  0.094\n",
       " Method:                 Least Squares   F-statistic:                     5.189\n",
       " Date:                Wed, 14 Aug 2019   Prob (F-statistic):           1.24e-06\n",
       " Time:                        16:52:04   Log-Likelihood:                -2721.3\n",
       " No. Observations:                 365   AIC:                             5463.\n",
       " Df Residuals:                     355   BIC:                             5502.\n",
       " Df Model:                           9                                         \n",
       " Covariance Type:            nonrobust                                         \n",
       " ================================================================================\n",
       "                    coef    std err          t      P>|t|      [0.025      0.975]\n",
       " --------------------------------------------------------------------------------\n",
       " Intercept      981.8847    214.505      4.577      0.000     560.025    1403.744\n",
       " pm10             0.7566      1.894      0.399      0.690      -2.969       4.482\n",
       " pm25             2.1245      2.571      0.826      0.409      -2.932       7.181\n",
       " temp             3.1861      5.619      0.567      0.571      -7.865      14.237\n",
       " humi            -0.5635      4.649     -0.121      0.904      -9.706       8.579\n",
       " CONTENT          0.0125      0.327      0.038      0.969      -0.630       0.655\n",
       " prec             5.4093      5.301      1.020      0.308      -5.017      15.835\n",
       " CONTENT:temp     0.0236      0.011      2.200      0.028       0.003       0.045\n",
       " CONTENT:prec    -0.0100      0.009     -1.124      0.262      -0.028       0.008\n",
       " CONTENT:humi     0.0005      0.007      0.062      0.951      -0.014       0.015\n",
       " ==============================================================================\n",
       " Omnibus:                      221.874   Durbin-Watson:                   0.459\n",
       " Prob(Omnibus):                  0.000   Jarque-Bera (JB):             1726.254\n",
       " Skew:                           2.532   Prob(JB):                         0.00\n",
       " Kurtosis:                      12.373   Cond. No.                     3.04e+05\n",
       " ==============================================================================\n",
       " \n",
       " Warnings:\n",
       " [1] Standard Errors assume that the covariance matrix of the errors is correctly specified.\n",
       " [2] The condition number is large, 3.04e+05. This might indicate that there are\n",
       " strong multicollinearity or other numerical problems.\n",
       " \"\"\")"
      ]
     },
     "execution_count": 160,
     "metadata": {},
     "output_type": "execute_result"
    }
   ],
   "source": [
    "anova('서적문구')"
   ]
  },
  {
   "cell_type": "code",
   "execution_count": 161,
   "metadata": {},
   "outputs": [
    {
     "data": {
      "image/png": "[encoded data removed]",
      "text/plain": [
       "<Figure size 864x432 with 1 Axes>"
      ]
     },
     "metadata": {
      "needs_background": "light"
     },
     "output_type": "display_data"
    }
   ],
   "source": [
    "coef_bar('서적문구')"
   ]
  },
  {
   "cell_type": "markdown",
   "metadata": {},
   "source": [
    "## 자동차판매 60 Null로 삭제"
   ]
  },
  {
   "cell_type": "markdown",
   "metadata": {},
   "source": [
    "## 자동차정비 62 Null로 삭제"
   ]
  },
  {
   "cell_type": "markdown",
   "metadata": {},
   "source": [
    "## 의료기관 70"
   ]
  },
  {
   "cell_type": "code",
   "execution_count": 162,
   "metadata": {},
   "outputs": [
    {
     "data": {
      "text/plain": [
       "(                 df        sum_sq       mean_sq          F        PR(>F)\n",
       " pm10            1.0  1.822837e+05  1.822837e+05   0.139071  7.094284e-01\n",
       " pm25            1.0  1.134275e+05  1.134275e+05   0.086538  7.687969e-01\n",
       " temp            1.0  1.661842e+05  1.661842e+05   0.126789  7.219969e-01\n",
       " humi            1.0  1.042321e+06  1.042321e+06   0.795228  3.731281e-01\n",
       " CONTENT         1.0  6.206074e+07  6.206074e+07  47.348602  2.698171e-11\n",
       " prec            1.0  1.538542e+06  1.538542e+06   1.173815  2.793540e-01\n",
       " CONTENT:temp    1.0  1.243798e+07  1.243798e+07   9.489428  2.227833e-03\n",
       " CONTENT:prec    1.0  5.462831e+05  5.462831e+05   0.416781  5.189647e-01\n",
       " CONTENT:humi    1.0  5.206609e+05  5.206609e+05   0.397233  5.289273e-01\n",
       " Residual      355.0  4.653055e+08  1.310720e+06        NaN           NaN,\n",
       " <class 'statsmodels.iolib.summary.Summary'>\n",
       " \"\"\"\n",
       "                             OLS Regression Results                            \n",
       " ==============================================================================\n",
       " Dep. Variable:                   의료기관   R-squared:                       0.145\n",
       " Model:                            OLS   Adj. R-squared:                  0.123\n",
       " Method:                 Least Squares   F-statistic:                     6.664\n",
       " Date:                Wed, 14 Aug 2019   Prob (F-statistic):           8.02e-09\n",
       " Time:                        16:52:05   Log-Likelihood:                -3083.6\n",
       " No. Observations:                 365   AIC:                             6187.\n",
       " Df Residuals:                     355   BIC:                             6226.\n",
       " Df Model:                           9                                         \n",
       " Covariance Type:            nonrobust                                         \n",
       " ================================================================================\n",
       "                    coef    std err          t      P>|t|      [0.025      0.975]\n",
       " --------------------------------------------------------------------------------\n",
       " Intercept     2757.0418    578.778      4.764      0.000    1618.777    3895.306\n",
       " pm10             1.3528      5.112      0.265      0.791      -8.700      11.405\n",
       " pm25            -5.6547      6.938     -0.815      0.416     -19.299       7.990\n",
       " temp           -26.8590     15.162     -1.772      0.077     -56.677       2.959\n",
       " humi            -3.1141     12.543     -0.248      0.804     -27.782      21.554\n",
       " CONTENT          0.2274      0.882      0.258      0.797      -1.507       1.962\n",
       " prec             3.4072     14.304      0.238      0.812     -24.724      31.538\n",
       " CONTENT:temp     0.0745      0.029      2.579      0.010       0.018       0.131\n",
       " CONTENT:prec    -0.0213      0.024     -0.885      0.377      -0.069       0.026\n",
       " CONTENT:humi     0.0127      0.020      0.630      0.529      -0.027       0.052\n",
       " ==============================================================================\n",
       " Omnibus:                       29.461   Durbin-Watson:                   2.460\n",
       " Prob(Omnibus):                  0.000   Jarque-Bera (JB):               35.195\n",
       " Skew:                          -0.759   Prob(JB):                     2.28e-08\n",
       " Kurtosis:                       2.910   Cond. No.                     3.04e+05\n",
       " ==============================================================================\n",
       " \n",
       " Warnings:\n",
       " [1] Standard Errors assume that the covariance matrix of the errors is correctly specified.\n",
       " [2] The condition number is large, 3.04e+05. This might indicate that there are\n",
       " strong multicollinearity or other numerical problems.\n",
       " \"\"\")"
      ]
     },
     "execution_count": 162,
     "metadata": {},
     "output_type": "execute_result"
    }
   ],
   "source": [
    "anova('의료기관')"
   ]
  },
  {
   "cell_type": "code",
   "execution_count": 163,
   "metadata": {},
   "outputs": [
    {
     "data": {
      "image/png": "[encoded data removed]",
      "text/plain": [
       "<Figure size 864x432 with 1 Axes>"
      ]
     },
     "metadata": {
      "needs_background": "light"
     },
     "output_type": "display_data"
    }
   ],
   "source": [
    "coef_bar('의료기관')"
   ]
  },
  {
   "cell_type": "markdown",
   "metadata": {},
   "source": [
    "## 보건위생 71"
   ]
  },
  {
   "cell_type": "code",
   "execution_count": 164,
   "metadata": {},
   "outputs": [
    {
     "data": {
      "text/plain": [
       "(                 df        sum_sq       mean_sq          F        PR(>F)\n",
       " pm10            1.0  1.812210e+05  1.812210e+05   1.459961  2.277406e-01\n",
       " pm25            1.0  1.115192e+05  1.115192e+05   0.898426  3.438490e-01\n",
       " temp            1.0  1.096968e+06  1.096968e+06   8.837442  3.152610e-03\n",
       " humi            1.0  2.300351e+06  2.300351e+06  18.532185  2.163859e-05\n",
       " CONTENT         1.0  6.632375e+06  6.632375e+06  53.432031  1.787349e-12\n",
       " prec            1.0  1.273783e+06  1.273783e+06  10.261909  1.480938e-03\n",
       " CONTENT:temp    1.0  1.776992e+05  1.776992e+05   1.431588  2.323039e-01\n",
       " CONTENT:prec    1.0  1.199443e+04  1.199443e+04   0.096630  7.560942e-01\n",
       " CONTENT:humi    1.0  9.925677e+05  9.925677e+05   7.996368  4.952973e-03\n",
       " Residual      355.0  4.406520e+07  1.241273e+05        NaN           NaN,\n",
       " <class 'statsmodels.iolib.summary.Summary'>\n",
       " \"\"\"\n",
       "                             OLS Regression Results                            \n",
       " ==============================================================================\n",
       " Dep. Variable:                   보건위생   R-squared:                       0.225\n",
       " Model:                            OLS   Adj. R-squared:                  0.205\n",
       " Method:                 Least Squares   F-statistic:                     11.44\n",
       " Date:                Wed, 14 Aug 2019   Prob (F-statistic):           9.07e-16\n",
       " Time:                        16:52:06   Log-Likelihood:                -2653.4\n",
       " No. Observations:                 365   AIC:                             5327.\n",
       " Df Residuals:                     355   BIC:                             5366.\n",
       " Df Model:                           9                                         \n",
       " Covariance Type:            nonrobust                                         \n",
       " ================================================================================\n",
       "                    coef    std err          t      P>|t|      [0.025      0.975]\n",
       " --------------------------------------------------------------------------------\n",
       " Intercept     1949.6481    178.111     10.946      0.000    1599.363    2299.933\n",
       " pm10            -2.5456      1.573     -1.618      0.106      -5.639       0.548\n",
       " pm25             4.5698      2.135      2.140      0.033       0.371       8.769\n",
       " temp             2.5200      4.666      0.540      0.589      -6.656      11.696\n",
       " humi             7.4025      3.860      1.918      0.056      -0.189      14.994\n",
       " CONTENT          0.2650      0.271      0.976      0.330      -0.269       0.799\n",
       " prec           -11.2468      4.402     -2.555      0.011     -19.904      -2.590\n",
       " CONTENT:temp     0.0016      0.009      0.179      0.858      -0.016       0.019\n",
       " CONTENT:prec     0.0095      0.007      1.286      0.199      -0.005       0.024\n",
       " CONTENT:humi    -0.0175      0.006     -2.828      0.005      -0.030      -0.005\n",
       " ==============================================================================\n",
       " Omnibus:                       26.285   Durbin-Watson:                   1.046\n",
       " Prob(Omnibus):                  0.000   Jarque-Bera (JB):               85.066\n",
       " Skew:                          -0.190   Prob(JB):                     3.37e-19\n",
       " Kurtosis:                       5.334   Cond. No.                     3.04e+05\n",
       " ==============================================================================\n",
       " \n",
       " Warnings:\n",
       " [1] Standard Errors assume that the covariance matrix of the errors is correctly specified.\n",
       " [2] The condition number is large, 3.04e+05. This might indicate that there are\n",
       " strong multicollinearity or other numerical problems.\n",
       " \"\"\")"
      ]
     },
     "execution_count": 164,
     "metadata": {},
     "output_type": "execute_result"
    }
   ],
   "source": [
    "anova('보건위생')"
   ]
  },
  {
   "cell_type": "code",
   "execution_count": 165,
   "metadata": {},
   "outputs": [
    {
     "data": {
      "image/png": "[encoded data removed]",
      "text/plain": [
       "<Figure size 864x432 with 1 Axes>"
      ]
     },
     "metadata": {
      "needs_background": "light"
     },
     "output_type": "display_data"
    }
   ],
   "source": [
    "coef_bar('보건위생')"
   ]
  },
  {
   "cell_type": "markdown",
   "metadata": {},
   "source": [
    "## 요식업소 80"
   ]
  },
  {
   "cell_type": "code",
   "execution_count": 166,
   "metadata": {},
   "outputs": [
    {
     "data": {
      "text/plain": [
       "(                 df        sum_sq       mean_sq          F        PR(>F)\n",
       " pm10            1.0  3.210171e+08  3.210171e+08  37.361462  2.585108e-09\n",
       " pm25            1.0  3.512508e+06  3.512508e+06   0.408802  5.229906e-01\n",
       " temp            1.0  1.278098e+08  1.278098e+08  14.875094  1.363836e-04\n",
       " humi            1.0  7.030146e+07  7.030146e+07   8.182009  4.481129e-03\n",
       " CONTENT         1.0  3.586854e+07  3.586854e+07   4.174547  4.177351e-02\n",
       " prec            1.0  1.316463e+08  1.316463e+08  15.321610  1.087055e-04\n",
       " CONTENT:temp    1.0  2.257943e+08  2.257943e+08  26.278989  4.865670e-07\n",
       " CONTENT:prec    1.0  7.042483e+06  7.042483e+06   0.819637  3.659004e-01\n",
       " CONTENT:humi    1.0  1.227345e+07  1.227345e+07   1.428441  2.328169e-01\n",
       " Residual      355.0  3.050231e+09  8.592200e+06        NaN           NaN,\n",
       " <class 'statsmodels.iolib.summary.Summary'>\n",
       " \"\"\"\n",
       "                             OLS Regression Results                            \n",
       " ==============================================================================\n",
       " Dep. Variable:                   요식업소   R-squared:                       0.235\n",
       " Model:                            OLS   Adj. R-squared:                  0.215\n",
       " Method:                 Least Squares   F-statistic:                     12.09\n",
       " Date:                Wed, 14 Aug 2019   Prob (F-statistic):           1.08e-16\n",
       " Time:                        16:52:06   Log-Likelihood:                -3426.7\n",
       " No. Observations:                 365   AIC:                             6873.\n",
       " Df Residuals:                     355   BIC:                             6912.\n",
       " Df Model:                           9                                         \n",
       " Covariance Type:            nonrobust                                         \n",
       " ================================================================================\n",
       "                    coef    std err          t      P>|t|      [0.025      0.975]\n",
       " --------------------------------------------------------------------------------\n",
       " Intercept     3.006e+04   1481.867     20.285      0.000    2.71e+04     3.3e+04\n",
       " pm10           -34.8607     13.087     -2.664      0.008     -60.599      -9.122\n",
       " pm25            17.5394     17.763      0.987      0.324     -17.395      52.473\n",
       " temp           -96.9366     38.819     -2.497      0.013    -173.281     -20.593\n",
       " humi            26.4806     32.115      0.825      0.410     -36.679      89.640\n",
       " CONTENT         -0.2548      2.258     -0.113      0.910      -4.696       4.186\n",
       " prec           -65.4660     36.623     -1.788      0.075    -137.491       6.559\n",
       " CONTENT:temp     0.3862      0.074      5.220      0.000       0.241       0.532\n",
       " CONTENT:prec    -0.0064      0.062     -0.104      0.917      -0.128       0.115\n",
       " CONTENT:humi    -0.0615      0.051     -1.195      0.233      -0.163       0.040\n",
       " ==============================================================================\n",
       " Omnibus:                       55.581   Durbin-Watson:                   0.610\n",
       " Prob(Omnibus):                  0.000   Jarque-Bera (JB):               95.529\n",
       " Skew:                          -0.887   Prob(JB):                     1.80e-21\n",
       " Kurtosis:                       4.771   Cond. No.                     3.04e+05\n",
       " ==============================================================================\n",
       " \n",
       " Warnings:\n",
       " [1] Standard Errors assume that the covariance matrix of the errors is correctly specified.\n",
       " [2] The condition number is large, 3.04e+05. This might indicate that there are\n",
       " strong multicollinearity or other numerical problems.\n",
       " \"\"\")"
      ]
     },
     "execution_count": 166,
     "metadata": {},
     "output_type": "execute_result"
    }
   ],
   "source": [
    "anova('요식업소')"
   ]
  },
  {
   "cell_type": "code",
   "execution_count": 167,
   "metadata": {},
   "outputs": [
    {
     "data": {
      "image/png": "[encoded data removed]",
      "text/plain": [
       "<Figure size 864x432 with 1 Axes>"
      ]
     },
     "metadata": {
      "needs_background": "light"
     },
     "output_type": "display_data"
    }
   ],
   "source": [
    "coef_bar('요식업소')"
   ]
  },
  {
   "cell_type": "markdown",
   "metadata": {},
   "source": [
    "## 음료식품 81"
   ]
  },
  {
   "cell_type": "code",
   "execution_count": 168,
   "metadata": {},
   "outputs": [
    {
     "data": {
      "text/plain": [
       "(                 df        sum_sq       mean_sq          F        PR(>F)\n",
       " pm10            1.0  2.920715e+06  2.920715e+06  13.547250  2.687539e-04\n",
       " pm25            1.0  4.012914e+05  4.012914e+05   1.861323  1.733365e-01\n",
       " temp            1.0  6.028425e+05  6.028425e+05   2.796184  9.537002e-02\n",
       " humi            1.0  3.567793e+05  3.567793e+05   1.654861  1.991369e-01\n",
       " CONTENT         1.0  2.011030e+07  2.011030e+07  93.278251  9.521644e-20\n",
       " prec            1.0  1.010795e+06  1.010795e+06   4.688404  3.103245e-02\n",
       " CONTENT:temp    1.0  1.061824e+07  1.061824e+07  49.250931  1.148805e-11\n",
       " CONTENT:prec    1.0  5.564802e+04  5.564802e+04   0.258114  6.117343e-01\n",
       " CONTENT:humi    1.0  3.872784e+04  3.872784e+04   0.179633  6.719458e-01\n",
       " Residual      355.0  7.653612e+07  2.155947e+05        NaN           NaN,\n",
       " <class 'statsmodels.iolib.summary.Summary'>\n",
       " \"\"\"\n",
       "                             OLS Regression Results                            \n",
       " ==============================================================================\n",
       " Dep. Variable:                   음료식품   R-squared:                       0.321\n",
       " Model:                            OLS   Adj. R-squared:                  0.303\n",
       " Method:                 Least Squares   F-statistic:                     18.61\n",
       " Date:                Wed, 14 Aug 2019   Prob (F-statistic):           2.08e-25\n",
       " Time:                        16:52:07   Log-Likelihood:                -2754.2\n",
       " No. Observations:                 365   AIC:                             5528.\n",
       " Df Residuals:                     355   BIC:                             5567.\n",
       " Df Model:                           9                                         \n",
       " Covariance Type:            nonrobust                                         \n",
       " ================================================================================\n",
       "                    coef    std err          t      P>|t|      [0.025      0.975]\n",
       " --------------------------------------------------------------------------------\n",
       " Intercept     3109.7218    234.734     13.248      0.000    2648.078    3571.366\n",
       " pm10            -0.3858      2.073     -0.186      0.852      -4.463       3.691\n",
       " pm25            -5.9215      2.814     -2.105      0.036     -11.455      -0.388\n",
       " temp           -34.4648      6.149     -5.605      0.000     -46.558     -22.372\n",
       " humi             5.1661      5.087      1.016      0.311      -4.839      15.171\n",
       " CONTENT          0.2158      0.358      0.603      0.547      -0.488       0.919\n",
       " prec            -5.8092      5.801     -1.001      0.317     -17.218       5.600\n",
       " CONTENT:temp     0.0764      0.012      6.522      0.000       0.053       0.099\n",
       " CONTENT:prec    -0.0019      0.010     -0.194      0.847      -0.021       0.017\n",
       " CONTENT:humi    -0.0035      0.008     -0.424      0.672      -0.019       0.013\n",
       " ==============================================================================\n",
       " Omnibus:                       10.594   Durbin-Watson:                   1.077\n",
       " Prob(Omnibus):                  0.005   Jarque-Bera (JB):               14.421\n",
       " Skew:                          -0.243   Prob(JB):                     0.000739\n",
       " Kurtosis:                       3.844   Cond. No.                     3.04e+05\n",
       " ==============================================================================\n",
       " \n",
       " Warnings:\n",
       " [1] Standard Errors assume that the covariance matrix of the errors is correctly specified.\n",
       " [2] The condition number is large, 3.04e+05. This might indicate that there are\n",
       " strong multicollinearity or other numerical problems.\n",
       " \"\"\")"
      ]
     },
     "execution_count": 168,
     "metadata": {},
     "output_type": "execute_result"
    }
   ],
   "source": [
    "anova('음료식품')"
   ]
  },
  {
   "cell_type": "code",
   "execution_count": 169,
   "metadata": {},
   "outputs": [
    {
     "data": {
      "image/png": "[encoded data removed]",
      "text/plain": [
       "<Figure size 864x432 with 1 Axes>"
      ]
     },
     "metadata": {
      "needs_background": "light"
     },
     "output_type": "display_data"
    }
   ],
   "source": [
    "coef_bar('음료식품')"
   ]
  },
  {
   "cell_type": "markdown",
   "metadata": {},
   "source": [
    "## 수리서비스 92"
   ]
  },
  {
   "cell_type": "code",
   "execution_count": 170,
   "metadata": {},
   "outputs": [
    {
     "data": {
      "text/plain": [
       "(                 df        sum_sq       mean_sq          F    PR(>F)\n",
       " pm10            1.0  3.830652e+04  38306.516512  10.179075  0.001547\n",
       " pm25            1.0  2.522072e+02    252.207215   0.067018  0.795879\n",
       " temp            1.0  5.160381e+04  51603.814574  13.712526  0.000247\n",
       " humi            1.0  4.672336e+03   4672.336280   1.241566  0.265923\n",
       " CONTENT         1.0  5.571701e+04  55717.012470  14.805514  0.000141\n",
       " prec            1.0  2.115469e+03   2115.469078   0.562137  0.453897\n",
       " CONTENT:temp    1.0  6.433032e+04  64330.324593  17.094303  0.000044\n",
       " CONTENT:prec    1.0  1.059960e+03   1059.959924   0.281660  0.595947\n",
       " CONTENT:humi    1.0  2.560329e+02    256.032945   0.068035  0.794371\n",
       " Residual      355.0  1.335958e+06   3763.260993        NaN       NaN,\n",
       " <class 'statsmodels.iolib.summary.Summary'>\n",
       " \"\"\"\n",
       "                             OLS Regression Results                            \n",
       " ==============================================================================\n",
       " Dep. Variable:                  수리서비스   R-squared:                       0.140\n",
       " Model:                            OLS   Adj. R-squared:                  0.119\n",
       " Method:                 Least Squares   F-statistic:                     6.446\n",
       " Date:                Wed, 14 Aug 2019   Prob (F-statistic):           1.69e-08\n",
       " Time:                        16:52:08   Log-Likelihood:                -2015.4\n",
       " No. Observations:                 365   AIC:                             4051.\n",
       " Df Residuals:                     355   BIC:                             4090.\n",
       " Df Model:                           9                                         \n",
       " Covariance Type:            nonrobust                                         \n",
       " ================================================================================\n",
       "                    coef    std err          t      P>|t|      [0.025      0.975]\n",
       " --------------------------------------------------------------------------------\n",
       " Intercept      186.2670     31.013      6.006      0.000     125.275     247.259\n",
       " pm10            -0.0044      0.274     -0.016      0.987      -0.543       0.534\n",
       " pm25            -0.2545      0.372     -0.685      0.494      -0.986       0.477\n",
       " temp            -1.3008      0.812     -1.601      0.110      -2.898       0.297\n",
       " humi             0.4695      0.672      0.699      0.485      -0.852       1.791\n",
       " CONTENT         -0.0063      0.047     -0.133      0.894      -0.099       0.087\n",
       " prec            -0.1529      0.766     -0.199      0.842      -1.660       1.354\n",
       " CONTENT:temp     0.0060      0.002      3.882      0.000       0.003       0.009\n",
       " CONTENT:prec    -0.0004      0.001     -0.302      0.763      -0.003       0.002\n",
       " CONTENT:humi    -0.0003      0.001     -0.261      0.794      -0.002       0.002\n",
       " ==============================================================================\n",
       " Omnibus:                        3.469   Durbin-Watson:                   1.777\n",
       " Prob(Omnibus):                  0.176   Jarque-Bera (JB):                2.783\n",
       " Skew:                           0.094   Prob(JB):                        0.249\n",
       " Kurtosis:                       2.616   Cond. No.                     3.04e+05\n",
       " ==============================================================================\n",
       " \n",
       " Warnings:\n",
       " [1] Standard Errors assume that the covariance matrix of the errors is correctly specified.\n",
       " [2] The condition number is large, 3.04e+05. This might indicate that there are\n",
       " strong multicollinearity or other numerical problems.\n",
       " \"\"\")"
      ]
     },
     "execution_count": 170,
     "metadata": {},
     "output_type": "execute_result"
    }
   ],
   "source": [
    "anova('수리서비스')"
   ]
  },
  {
   "cell_type": "code",
   "execution_count": 171,
   "metadata": {},
   "outputs": [
    {
     "data": {
      "image/png": "[encoded data removed]",
      "text/plain": [
       "<Figure size 864x432 with 1 Axes>"
      ]
     },
     "metadata": {
      "needs_background": "light"
     },
     "output_type": "display_data"
    }
   ],
   "source": [
    "coef_bar('수리서비스')"
   ]
  },
  {
   "cell_type": "code",
   "execution_count": 172,
   "metadata": {},
   "outputs": [],
   "source": [
    "# pm25_first =  ['수리서비스', '보건위생', '의복', '레저용품', '숙박']\n",
    "# temp_frist =  ['음료식품', '유통', '문화취미' ]\n",
    "# pm10_first =  ['요식업소', '의료기관', '자동차정비', '서적문구', '신변잡화']"
   ]
  },
  {
   "cell_type": "code",
   "execution_count": 173,
   "metadata": {},
   "outputs": [
    {
     "data": {
      "text/plain": [
       "(                 df        sum_sq       mean_sq          F        PR(>F)\n",
       " pm10            1.0  8.933597e+12  8.933597e+12  31.794280  3.501464e-08\n",
       " pm25            1.0  1.863205e+11  1.863205e+11   0.663106  4.160113e-01\n",
       " temp            1.0  2.735204e+12  2.735204e+12   9.734471  1.956494e-03\n",
       " humi            1.0  2.298315e+11  2.298315e+11   0.817960  3.663906e-01\n",
       " CONTENT         1.0  2.367124e+12  2.367124e+12   8.424489  3.933228e-03\n",
       " prec            1.0  2.447142e+12  2.447142e+12   8.709271  3.376303e-03\n",
       " CONTENT:temp    1.0  3.160753e+12  3.160753e+12  11.248982  8.826305e-04\n",
       " CONTENT:prec    1.0  1.199148e+09  1.199148e+09   0.004268  9.479498e-01\n",
       " CONTENT:humi    1.0  5.533765e+08  5.533765e+08   0.001969  9.646277e-01\n",
       " Residual      355.0  9.974835e+13  2.809813e+11        NaN           NaN,\n",
       " <class 'statsmodels.iolib.summary.Summary'>\n",
       " \"\"\"\n",
       "                             OLS Regression Results                            \n",
       " ==============================================================================\n",
       " Dep. Variable:              LCLS_10_P   R-squared:                       0.167\n",
       " Model:                            OLS   Adj. R-squared:                  0.146\n",
       " Method:                 Least Squares   F-statistic:                     7.933\n",
       " Date:                Wed, 14 Aug 2019   Prob (F-statistic):           1.06e-10\n",
       " Time:                        17:41:41   Log-Likelihood:                -5323.8\n",
       " No. Observations:                 365   AIC:                         1.067e+04\n",
       " Df Residuals:                     355   BIC:                         1.071e+04\n",
       " Df Model:                           9                                         \n",
       " Covariance Type:            nonrobust                                         \n",
       " ================================================================================\n",
       "                    coef    std err          t      P>|t|      [0.025      0.975]\n",
       " --------------------------------------------------------------------------------\n",
       " Intercept     6.265e+06   2.68e+05     23.381      0.000    5.74e+06    6.79e+06\n",
       " pm10            71.7001   2366.650      0.030      0.976   -4582.717    4726.117\n",
       " pm25         -4160.6633   3212.215     -1.295      0.196   -1.05e+04    2156.701\n",
       " temp          2.118e+04   7019.879      3.017      0.003    7373.718     3.5e+04\n",
       " humi          7136.1318   5807.531      1.229      0.220   -4285.359    1.86e+04\n",
       " CONTENT        169.1655    408.350      0.414      0.679    -633.923     972.254\n",
       " prec         -7429.5742   6622.723     -1.122      0.263   -2.05e+04    5595.128\n",
       " CONTENT:temp   -39.6888     13.380     -2.966      0.003     -66.003     -13.375\n",
       " CONTENT:prec    -0.3392     11.153     -0.030      0.976     -22.273      21.594\n",
       " CONTENT:humi    -0.4128      9.302     -0.044      0.965     -18.706      17.880\n",
       " ==============================================================================\n",
       " Omnibus:                      142.630   Durbin-Watson:                   0.931\n",
       " Prob(Omnibus):                  0.000   Jarque-Bera (JB):             1179.974\n",
       " Skew:                           1.409   Prob(JB):                    5.91e-257\n",
       " Kurtosis:                      11.345   Cond. No.                     3.04e+05\n",
       " ==============================================================================\n",
       " \n",
       " Warnings:\n",
       " [1] Standard Errors assume that the covariance matrix of the errors is correctly specified.\n",
       " [2] The condition number is large, 3.04e+05. This might indicate that there are\n",
       " strong multicollinearity or other numerical problems.\n",
       " \"\"\")"
      ]
     },
     "execution_count": 173,
     "metadata": {},
     "output_type": "execute_result"
    }
   ],
   "source": [
    "anova('LCLS_10_P')"
   ]
  },
  {
   "cell_type": "code",
   "execution_count": 174,
   "metadata": {},
   "outputs": [
    {
     "data": {
      "text/plain": [
       "(                 df        sum_sq       mean_sq          F        PR(>F)\n",
       " pm10            1.0  8.933597e+12  8.933597e+12  31.794280  3.501464e-08\n",
       " pm25            1.0  1.863205e+11  1.863205e+11   0.663106  4.160113e-01\n",
       " temp            1.0  2.735204e+12  2.735204e+12   9.734471  1.956494e-03\n",
       " humi            1.0  2.298315e+11  2.298315e+11   0.817960  3.663906e-01\n",
       " CONTENT         1.0  2.367124e+12  2.367124e+12   8.424489  3.933228e-03\n",
       " prec            1.0  2.447142e+12  2.447142e+12   8.709271  3.376303e-03\n",
       " CONTENT:temp    1.0  3.160753e+12  3.160753e+12  11.248982  8.826305e-04\n",
       " CONTENT:prec    1.0  1.199148e+09  1.199148e+09   0.004268  9.479498e-01\n",
       " CONTENT:humi    1.0  5.533765e+08  5.533765e+08   0.001969  9.646277e-01\n",
       " Residual      355.0  9.974835e+13  2.809813e+11        NaN           NaN,\n",
       " <class 'statsmodels.iolib.summary.Summary'>\n",
       " \"\"\"\n",
       "                             OLS Regression Results                            \n",
       " ==============================================================================\n",
       " Dep. Variable:              LCLS_10_P   R-squared:                       0.167\n",
       " Model:                            OLS   Adj. R-squared:                  0.146\n",
       " Method:                 Least Squares   F-statistic:                     7.933\n",
       " Date:                Wed, 14 Aug 2019   Prob (F-statistic):           1.06e-10\n",
       " Time:                        17:41:41   Log-Likelihood:                -5323.8\n",
       " No. Observations:                 365   AIC:                         1.067e+04\n",
       " Df Residuals:                     355   BIC:                         1.071e+04\n",
       " Df Model:                           9                                         \n",
       " Covariance Type:            nonrobust                                         \n",
       " ================================================================================\n",
       "                    coef    std err          t      P>|t|      [0.025      0.975]\n",
       " --------------------------------------------------------------------------------\n",
       " Intercept     6.265e+06   2.68e+05     23.381      0.000    5.74e+06    6.79e+06\n",
       " pm10            71.7001   2366.650      0.030      0.976   -4582.717    4726.117\n",
       " pm25         -4160.6633   3212.215     -1.295      0.196   -1.05e+04    2156.701\n",
       " temp          2.118e+04   7019.879      3.017      0.003    7373.718     3.5e+04\n",
       " humi          7136.1318   5807.531      1.229      0.220   -4285.359    1.86e+04\n",
       " CONTENT        169.1655    408.350      0.414      0.679    -633.923     972.254\n",
       " prec         -7429.5742   6622.723     -1.122      0.263   -2.05e+04    5595.128\n",
       " CONTENT:temp   -39.6888     13.380     -2.966      0.003     -66.003     -13.375\n",
       " CONTENT:prec    -0.3392     11.153     -0.030      0.976     -22.273      21.594\n",
       " CONTENT:humi    -0.4128      9.302     -0.044      0.965     -18.706      17.880\n",
       " ==============================================================================\n",
       " Omnibus:                      142.630   Durbin-Watson:                   0.931\n",
       " Prob(Omnibus):                  0.000   Jarque-Bera (JB):             1179.974\n",
       " Skew:                           1.409   Prob(JB):                    5.91e-257\n",
       " Kurtosis:                      11.345   Cond. No.                     3.04e+05\n",
       " ==============================================================================\n",
       " \n",
       " Warnings:\n",
       " [1] Standard Errors assume that the covariance matrix of the errors is correctly specified.\n",
       " [2] The condition number is large, 3.04e+05. This might indicate that there are\n",
       " strong multicollinearity or other numerical problems.\n",
       " \"\"\")"
      ]
     },
     "execution_count": 174,
     "metadata": {},
     "output_type": "execute_result"
    }
   ],
   "source": [
    "anova('LCLS_10_P')"
   ]
  },
  {
   "cell_type": "code",
   "execution_count": 175,
   "metadata": {},
   "outputs": [
    {
     "data": {
      "text/plain": [
       "(                 df        sum_sq       mean_sq         F    PR(>F)\n",
       " pm10            1.0  5.611045e+12  5.611045e+12  4.765399  0.029692\n",
       " pm25            1.0  3.639750e+11  3.639750e+11  0.309120  0.578571\n",
       " temp            1.0  1.437938e+12  1.437938e+12  1.221225  0.269869\n",
       " humi            1.0  4.251533e+12  4.251533e+12  3.610780  0.058216\n",
       " CONTENT         1.0  4.981662e+12  4.981662e+12  4.230870  0.040425\n",
       " prec            1.0  2.499063e+11  2.499063e+11  0.212243  0.645297\n",
       " CONTENT:temp    1.0  3.679487e+12  3.679487e+12  3.124948  0.077961\n",
       " CONTENT:prec    1.0  7.347821e+08  7.347821e+08  0.000624  0.980084\n",
       " CONTENT:humi    1.0  4.706199e+12  4.706199e+12  3.996923  0.046345\n",
       " Residual      355.0  4.179967e+14  1.177456e+12       NaN       NaN,\n",
       " <class 'statsmodels.iolib.summary.Summary'>\n",
       " \"\"\"\n",
       "                             OLS Regression Results                            \n",
       " ==============================================================================\n",
       " Dep. Variable:              LCLS_20_P   R-squared:                       0.057\n",
       " Model:                            OLS   Adj. R-squared:                  0.033\n",
       " Method:                 Least Squares   F-statistic:                     2.386\n",
       " Date:                Wed, 14 Aug 2019   Prob (F-statistic):             0.0124\n",
       " Time:                        17:41:41   Log-Likelihood:                -5585.3\n",
       " No. Observations:                 365   AIC:                         1.119e+04\n",
       " Df Residuals:                     355   BIC:                         1.123e+04\n",
       " Df Model:                           9                                         \n",
       " Covariance Type:            nonrobust                                         \n",
       " ================================================================================\n",
       "                    coef    std err          t      P>|t|      [0.025      0.975]\n",
       " --------------------------------------------------------------------------------\n",
       " Intercept     3.553e+06   5.49e+05      6.478      0.000    2.47e+06    4.63e+06\n",
       " pm10          2896.0061   4844.708      0.598      0.550   -6631.930    1.24e+04\n",
       " pm25          2226.3661   6575.643      0.339      0.735   -1.07e+04    1.52e+04\n",
       " temp          1.412e+04   1.44e+04      0.983      0.326   -1.41e+04    4.24e+04\n",
       " humi          1.442e+04   1.19e+04      1.213      0.226   -8963.587    3.78e+04\n",
       " CONTENT       1543.2333    835.922      1.846      0.066    -100.748    3187.215\n",
       " prec         -1.609e+04   1.36e+04     -1.187      0.236   -4.28e+04    1.06e+04\n",
       " CONTENT:temp   -20.0774     27.390     -0.733      0.464     -73.944      33.789\n",
       " CONTENT:prec    25.4415     22.830      1.114      0.266     -19.458      70.341\n",
       " CONTENT:humi   -38.0674     19.041     -1.999      0.046     -75.515      -0.620\n",
       " ==============================================================================\n",
       " Omnibus:                      480.552   Durbin-Watson:                   0.912\n",
       " Prob(Omnibus):                  0.000   Jarque-Bera (JB):            46281.213\n",
       " Skew:                           6.372   Prob(JB):                         0.00\n",
       " Kurtosis:                      56.673   Cond. No.                     3.04e+05\n",
       " ==============================================================================\n",
       " \n",
       " Warnings:\n",
       " [1] Standard Errors assume that the covariance matrix of the errors is correctly specified.\n",
       " [2] The condition number is large, 3.04e+05. This might indicate that there are\n",
       " strong multicollinearity or other numerical problems.\n",
       " \"\"\")"
      ]
     },
     "execution_count": 175,
     "metadata": {},
     "output_type": "execute_result"
    }
   ],
   "source": [
    "anova('LCLS_20_P')"
   ]
  },
  {
   "cell_type": "code",
   "execution_count": 176,
   "metadata": {},
   "outputs": [
    {
     "data": {
      "text/plain": [
       "(                 df        sum_sq       mean_sq            F         PR(>F)\n",
       " pm10            1.0  7.222900e+13  7.222900e+13   370.584506   4.620354e-57\n",
       " pm25            1.0  1.160194e+12  1.160194e+12     5.952593   1.518444e-02\n",
       " temp            1.0  3.596653e+14  3.596653e+14  1845.330820  1.092469e-142\n",
       " humi            1.0  5.339780e+13  5.339780e+13   273.967469   5.181462e-46\n",
       " CONTENT         1.0  2.809228e+13  2.809228e+13   144.132760   4.221623e-28\n",
       " prec            1.0  2.116534e+13  2.116534e+13   108.592774   2.312457e-22\n",
       " CONTENT:temp    1.0  4.271923e+12  4.271923e+12    21.917905   4.056146e-06\n",
       " CONTENT:prec    1.0  5.428322e+11  5.428322e+11     2.785103   9.602621e-02\n",
       " CONTENT:humi    1.0  1.281016e+11  1.281016e+11     0.657250   4.180758e-01\n",
       " Residual      355.0  6.919149e+13  1.949056e+11          NaN            NaN,\n",
       " <class 'statsmodels.iolib.summary.Summary'>\n",
       " \"\"\"\n",
       "                             OLS Regression Results                            \n",
       " ==============================================================================\n",
       " Dep. Variable:              LCLS_30_P   R-squared:                       0.887\n",
       " Model:                            OLS   Adj. R-squared:                  0.884\n",
       " Method:                 Least Squares   F-statistic:                     308.2\n",
       " Date:                Wed, 14 Aug 2019   Prob (F-statistic):          7.53e-162\n",
       " Time:                        17:41:41   Log-Likelihood:                -5257.1\n",
       " No. Observations:                 365   AIC:                         1.053e+04\n",
       " Df Residuals:                     355   BIC:                         1.057e+04\n",
       " Df Model:                           9                                         \n",
       " Covariance Type:            nonrobust                                         \n",
       " ================================================================================\n",
       "                    coef    std err          t      P>|t|      [0.025      0.975]\n",
       " --------------------------------------------------------------------------------\n",
       " Intercept     7.158e+06   2.23e+05     32.074      0.000    6.72e+06     7.6e+06\n",
       " pm10         -4339.4489   1971.095     -2.202      0.028   -8215.940    -462.958\n",
       " pm25          5688.1725   2675.335      2.126      0.034     426.675    1.09e+04\n",
       " temp          1.324e+05   5846.597     22.642      0.000    1.21e+05    1.44e+05\n",
       " humi         -1.982e+04   4836.877     -4.098      0.000   -2.93e+04   -1.03e+04\n",
       " CONTENT       -810.9734    340.099     -2.385      0.018   -1479.836    -142.111\n",
       " prec          -2.82e+04   5515.820     -5.112      0.000    -3.9e+04   -1.74e+04\n",
       " CONTENT:temp   -53.1951     11.144     -4.774      0.000     -75.111     -31.279\n",
       " CONTENT:prec     8.8587      9.289      0.954      0.341      -9.409      27.126\n",
       " CONTENT:humi     6.2805      7.747      0.811      0.418      -8.955      21.516\n",
       " ==============================================================================\n",
       " Omnibus:                       17.963   Durbin-Watson:                   1.450\n",
       " Prob(Omnibus):                  0.000   Jarque-Bera (JB):               27.209\n",
       " Skew:                          -0.359   Prob(JB):                     1.23e-06\n",
       " Kurtosis:                       4.128   Cond. No.                     3.04e+05\n",
       " ==============================================================================\n",
       " \n",
       " Warnings:\n",
       " [1] Standard Errors assume that the covariance matrix of the errors is correctly specified.\n",
       " [2] The condition number is large, 3.04e+05. This might indicate that there are\n",
       " strong multicollinearity or other numerical problems.\n",
       " \"\"\")"
      ]
     },
     "execution_count": 176,
     "metadata": {},
     "output_type": "execute_result"
    }
   ],
   "source": [
    "anova('LCLS_30_P')"
   ]
  },
  {
   "cell_type": "code",
   "execution_count": 177,
   "metadata": {},
   "outputs": [
    {
     "data": {
      "text/plain": [
       "(                 df        sum_sq       mean_sq         F    PR(>F)\n",
       " pm10            1.0  7.366107e+09  7.366107e+09  0.960162  0.327813\n",
       " pm25            1.0  1.148729e+10  1.148729e+10  1.497353  0.221891\n",
       " temp            1.0  1.325930e+09  1.325930e+09  0.172833  0.677857\n",
       " humi            1.0  1.113881e+10  1.113881e+10  1.451930  0.229021\n",
       " CONTENT         1.0  2.810646e+10  2.810646e+10  3.663639  0.056416\n",
       " prec            1.0  7.386242e+09  7.386242e+09  0.962787  0.327154\n",
       " CONTENT:temp    1.0  4.028943e+09  4.028943e+09  0.525167  0.469123\n",
       " CONTENT:prec    1.0  6.239313e+08  6.239313e+08  0.081329  0.775671\n",
       " CONTENT:humi    1.0  7.353784e+09  7.353784e+09  0.958556  0.328218\n",
       " Residual      355.0  2.723465e+12  7.671731e+09       NaN       NaN,\n",
       " <class 'statsmodels.iolib.summary.Summary'>\n",
       " \"\"\"\n",
       "                             OLS Regression Results                            \n",
       " ==============================================================================\n",
       " Dep. Variable:              LCLS_40_P   R-squared:                       0.028\n",
       " Model:                            OLS   Adj. R-squared:                  0.003\n",
       " Method:                 Least Squares   F-statistic:                     1.142\n",
       " Date:                Wed, 14 Aug 2019   Prob (F-statistic):              0.332\n",
       " Time:                        17:41:41   Log-Likelihood:                -4666.7\n",
       " No. Observations:                 365   AIC:                             9353.\n",
       " Df Residuals:                     355   BIC:                             9392.\n",
       " Df Model:                           9                                         \n",
       " Covariance Type:            nonrobust                                         \n",
       " ================================================================================\n",
       "                    coef    std err          t      P>|t|      [0.025      0.975]\n",
       " --------------------------------------------------------------------------------\n",
       " Intercept     5.467e+05   4.43e+04     12.346      0.000     4.6e+05    6.34e+05\n",
       " pm10           270.5873    391.059      0.692      0.489    -498.496    1039.670\n",
       " pm25          -548.0504    530.778     -1.033      0.303   -1591.914     495.814\n",
       " temp          1281.7261   1159.946      1.105      0.270    -999.503    3562.955\n",
       " humi          -966.1618    959.621     -1.007      0.315   -2853.418     921.094\n",
       " CONTENT        -77.7944     67.475     -1.153      0.250    -210.495      54.906\n",
       " prec          -110.9121   1094.321     -0.101      0.919   -2263.078    2041.254\n",
       " CONTENT:temp    -2.4441      2.211     -1.105      0.270      -6.792       1.904\n",
       " CONTENT:prec    -0.5468      1.843     -0.297      0.767      -4.171       3.077\n",
       " CONTENT:humi     1.5048      1.537      0.979      0.328      -1.518       4.527\n",
       " ==============================================================================\n",
       " Omnibus:                      356.368   Durbin-Watson:                   1.828\n",
       " Prob(Omnibus):                  0.000   Jarque-Bera (JB):            16957.661\n",
       " Skew:                           3.983   Prob(JB):                         0.00\n",
       " Kurtosis:                      35.428   Cond. No.                     3.04e+05\n",
       " ==============================================================================\n",
       " \n",
       " Warnings:\n",
       " [1] Standard Errors assume that the covariance matrix of the errors is correctly specified.\n",
       " [2] The condition number is large, 3.04e+05. This might indicate that there are\n",
       " strong multicollinearity or other numerical problems.\n",
       " \"\"\")"
      ]
     },
     "execution_count": 177,
     "metadata": {},
     "output_type": "execute_result"
    }
   ],
   "source": [
    "anova('LCLS_40_P')"
   ]
  },
  {
   "cell_type": "code",
   "execution_count": 178,
   "metadata": {},
   "outputs": [
    {
     "data": {
      "text/plain": [
       "(                 df        sum_sq       mean_sq          F        PR(>F)\n",
       " pm10            1.0  5.250810e+10  5.250810e+10   1.269774  2.605701e-01\n",
       " pm25            1.0  4.130655e+11  4.130655e+11   9.988933  1.710224e-03\n",
       " temp            1.0  7.832616e+07  7.832616e+07   0.001894  9.653103e-01\n",
       " humi            1.0  4.044735e+12  4.044735e+12  97.811565  1.567290e-20\n",
       " CONTENT         1.0  1.057183e+12  1.057183e+12  25.565257  6.866946e-07\n",
       " prec            1.0  1.369148e+12  1.369148e+12  33.109338  1.883709e-08\n",
       " CONTENT:temp    1.0  9.761613e+10  9.761613e+10   2.360597  1.253254e-01\n",
       " CONTENT:prec    1.0  3.080522e+10  3.080522e+10   0.744946  3.886639e-01\n",
       " CONTENT:humi    1.0  2.745522e+10  2.745522e+10   0.663934  4.157207e-01\n",
       " Residual      355.0  1.468007e+13  4.135231e+10        NaN           NaN,\n",
       " <class 'statsmodels.iolib.summary.Summary'>\n",
       " \"\"\"\n",
       "                             OLS Regression Results                            \n",
       " ==============================================================================\n",
       " Dep. Variable:              LCLS_50_P   R-squared:                       0.326\n",
       " Model:                            OLS   Adj. R-squared:                  0.309\n",
       " Method:                 Least Squares   F-statistic:                     19.06\n",
       " Date:                Wed, 14 Aug 2019   Prob (F-statistic):           5.67e-26\n",
       " Time:                        17:41:42   Log-Likelihood:                -4974.1\n",
       " No. Observations:                 365   AIC:                             9968.\n",
       " Df Residuals:                     355   BIC:                         1.001e+04\n",
       " Df Model:                           9                                         \n",
       " Covariance Type:            nonrobust                                         \n",
       " ================================================================================\n",
       "                    coef    std err          t      P>|t|      [0.025      0.975]\n",
       " --------------------------------------------------------------------------------\n",
       " Intercept     5.421e+05   1.03e+05      5.274      0.000     3.4e+05    7.44e+05\n",
       " pm10           319.3858    907.915      0.352      0.725   -1466.183    2104.954\n",
       " pm25           981.3862   1232.298      0.796      0.426   -1442.137    3404.909\n",
       " temp         -2616.6190   2693.028     -0.972      0.332   -7912.914    2679.676\n",
       " humi          7659.5042   2227.936      3.438      0.001    3277.891     1.2e+04\n",
       " CONTENT        -22.3212    156.655     -0.142      0.887    -330.409     285.767\n",
       " prec          3677.5005   2540.667      1.447      0.149   -1319.151    8674.152\n",
       " CONTENT:temp    -5.9259      5.133     -1.155      0.249     -16.021       4.169\n",
       " CONTENT:prec     4.9982      4.278      1.168      0.244      -3.416      13.413\n",
       " CONTENT:humi    -2.9076      3.568     -0.815      0.416      -9.925       4.110\n",
       " ==============================================================================\n",
       " Omnibus:                      170.767   Durbin-Watson:                   1.772\n",
       " Prob(Omnibus):                  0.000   Jarque-Bera (JB):              875.527\n",
       " Skew:                           1.972   Prob(JB):                    7.61e-191\n",
       " Kurtosis:                       9.482   Cond. No.                     3.04e+05\n",
       " ==============================================================================\n",
       " \n",
       " Warnings:\n",
       " [1] Standard Errors assume that the covariance matrix of the errors is correctly specified.\n",
       " [2] The condition number is large, 3.04e+05. This might indicate that there are\n",
       " strong multicollinearity or other numerical problems.\n",
       " \"\"\")"
      ]
     },
     "execution_count": 178,
     "metadata": {},
     "output_type": "execute_result"
    }
   ],
   "source": [
    "anova('LCLS_50_P')"
   ]
  },
  {
   "cell_type": "code",
   "execution_count": 179,
   "metadata": {},
   "outputs": [
    {
     "data": {
      "text/plain": [
       "(                 df        sum_sq       mean_sq         F    PR(>F)\n",
       " pm10            1.0  1.847013e+10  1.847013e+10  2.733306  0.099160\n",
       " pm25            1.0  3.295581e+09  3.295581e+09  0.487697  0.485413\n",
       " temp            1.0  1.640962e+09  1.640962e+09  0.242838  0.622468\n",
       " humi            1.0  2.305924e+09  2.305924e+09  0.341243  0.559484\n",
       " CONTENT         1.0  1.519587e+07  1.519587e+07  0.002249  0.962204\n",
       " prec            1.0  2.121715e+09  2.121715e+09  0.313982  0.575600\n",
       " CONTENT:temp    1.0  1.046713e+10  1.046713e+10  1.548981  0.214107\n",
       " CONTENT:prec    1.0  4.184764e+09  4.184764e+09  0.619283  0.431839\n",
       " CONTENT:humi    1.0  2.932973e+09  2.932973e+09  0.434037  0.510442\n",
       " Residual      355.0  2.398888e+12  6.757430e+09       NaN       NaN,\n",
       " <class 'statsmodels.iolib.summary.Summary'>\n",
       " \"\"\"\n",
       "                             OLS Regression Results                            \n",
       " ==============================================================================\n",
       " Dep. Variable:              LCLS_60_P   R-squared:                       0.019\n",
       " Model:                            OLS   Adj. R-squared:                 -0.006\n",
       " Method:                 Least Squares   F-statistic:                    0.7471\n",
       " Date:                Wed, 14 Aug 2019   Prob (F-statistic):              0.666\n",
       " Time:                        17:41:42   Log-Likelihood:                -4643.5\n",
       " No. Observations:                 365   AIC:                             9307.\n",
       " Df Residuals:                     355   BIC:                             9346.\n",
       " Df Model:                           9                                         \n",
       " Covariance Type:            nonrobust                                         \n",
       " ================================================================================\n",
       "                    coef    std err          t      P>|t|      [0.025      0.975]\n",
       " --------------------------------------------------------------------------------\n",
       " Intercept     1.283e+05   4.16e+04      3.087      0.002    4.66e+04     2.1e+05\n",
       " pm10           -16.4512    367.017     -0.045      0.964    -738.252     705.350\n",
       " pm25          -239.9177    498.146     -0.482      0.630   -1219.606     739.771\n",
       " temp         -1137.2479   1088.634     -1.045      0.297   -3278.230    1003.734\n",
       " humi           431.5751    900.624      0.479      0.632   -1339.655    2202.805\n",
       " CONTENT         12.0519     63.326      0.190      0.849    -112.490     136.594\n",
       " prec           -37.7285   1027.043     -0.037      0.971   -2057.582    1982.125\n",
       " CONTENT:temp     3.1300      2.075      1.508      0.132      -0.951       7.211\n",
       " CONTENT:prec    -0.5162      1.730     -0.298      0.766      -3.918       2.885\n",
       " CONTENT:humi    -0.9503      1.442     -0.659      0.510      -3.787       1.887\n",
       " ==============================================================================\n",
       " Omnibus:                      631.643   Durbin-Watson:                   0.879\n",
       " Prob(Omnibus):                  0.000   Jarque-Bera (JB):           239847.612\n",
       " Skew:                          10.068   Prob(JB):                         0.00\n",
       " Kurtosis:                     126.957   Cond. No.                     3.04e+05\n",
       " ==============================================================================\n",
       " \n",
       " Warnings:\n",
       " [1] Standard Errors assume that the covariance matrix of the errors is correctly specified.\n",
       " [2] The condition number is large, 3.04e+05. This might indicate that there are\n",
       " strong multicollinearity or other numerical problems.\n",
       " \"\"\")"
      ]
     },
     "execution_count": 179,
     "metadata": {},
     "output_type": "execute_result"
    }
   ],
   "source": [
    "anova('LCLS_60_P')"
   ]
  },
  {
   "cell_type": "code",
   "execution_count": 180,
   "metadata": {},
   "outputs": [
    {
     "data": {
      "text/plain": [
       "(                 df        sum_sq       mean_sq          F        PR(>F)\n",
       " pm10            1.0  9.549002e+08  9.549002e+08   1.549316  2.140575e-01\n",
       " pm25            1.0  1.886506e+07  1.886506e+07   0.030608  8.612167e-01\n",
       " temp            1.0  8.823692e+09  8.823692e+09  14.316352  1.813076e-04\n",
       " humi            1.0  9.815934e+09  9.815934e+09  15.926256  8.003357e-05\n",
       " CONTENT         1.0  1.611467e+10  1.611467e+10  26.145886  5.188168e-07\n",
       " prec            1.0  2.028730e+09  2.028730e+09   3.291594  7.047941e-02\n",
       " CONTENT:temp    1.0  9.074497e+07  9.074497e+07   0.147233  7.014236e-01\n",
       " CONTENT:prec    1.0  1.427255e+08  1.427255e+08   0.231571  6.306581e-01\n",
       " CONTENT:humi    1.0  2.143083e+08  2.143083e+08   0.347713  5.557856e-01\n",
       " Residual      355.0  2.187995e+11  6.163366e+08        NaN           NaN,\n",
       " <class 'statsmodels.iolib.summary.Summary'>\n",
       " \"\"\"\n",
       "                             OLS Regression Results                            \n",
       " ==============================================================================\n",
       " Dep. Variable:              LCLS_70_P   R-squared:                       0.149\n",
       " Model:                            OLS   Adj. R-squared:                  0.127\n",
       " Method:                 Least Squares   F-statistic:                     6.887\n",
       " Date:                Wed, 14 Aug 2019   Prob (F-statistic):           3.73e-09\n",
       " Time:                        17:41:42   Log-Likelihood:                -4206.5\n",
       " No. Observations:                 365   AIC:                             8433.\n",
       " Df Residuals:                     355   BIC:                             8472.\n",
       " Df Model:                           9                                         \n",
       " Covariance Type:            nonrobust                                         \n",
       " ================================================================================\n",
       "                    coef    std err          t      P>|t|      [0.025      0.975]\n",
       " --------------------------------------------------------------------------------\n",
       " Intercept      1.72e+05   1.26e+04     13.701      0.000    1.47e+05    1.97e+05\n",
       " pm10           -85.3355    110.842     -0.770      0.442    -303.325     132.654\n",
       " pm25           164.2343    150.444      1.092      0.276    -131.639     460.108\n",
       " temp           685.7376    328.776      2.086      0.038      39.144    1332.331\n",
       " humi          -386.6144    271.996     -1.421      0.156    -921.540     148.311\n",
       " CONTENT        -33.9714     19.125     -1.776      0.077     -71.584       3.641\n",
       " prec           -31.1775    310.175     -0.101      0.920    -641.189     578.834\n",
       " CONTENT:temp    -0.3267      0.627     -0.521      0.602      -1.559       0.906\n",
       " CONTENT:prec    -0.3789      0.522     -0.725      0.469      -1.406       0.648\n",
       " CONTENT:humi     0.2569      0.436      0.590      0.556      -0.600       1.114\n",
       " ==============================================================================\n",
       " Omnibus:                       42.367   Durbin-Watson:                   1.750\n",
       " Prob(Omnibus):                  0.000   Jarque-Bera (JB):               62.594\n",
       " Skew:                           0.763   Prob(JB):                     2.56e-14\n",
       " Kurtosis:                       4.338   Cond. No.                     3.04e+05\n",
       " ==============================================================================\n",
       " \n",
       " Warnings:\n",
       " [1] Standard Errors assume that the covariance matrix of the errors is correctly specified.\n",
       " [2] The condition number is large, 3.04e+05. This might indicate that there are\n",
       " strong multicollinearity or other numerical problems.\n",
       " \"\"\")"
      ]
     },
     "execution_count": 180,
     "metadata": {},
     "output_type": "execute_result"
    }
   ],
   "source": [
    "anova('LCLS_70_P')"
   ]
  },
  {
   "cell_type": "code",
   "execution_count": 181,
   "metadata": {},
   "outputs": [
    {
     "data": {
      "text/plain": [
       "(                 df        sum_sq       mean_sq          F        PR(>F)\n",
       " pm10            1.0  1.825324e+10  1.825324e+10  23.580050  1.799526e-06\n",
       " pm25            1.0  2.957240e+09  2.957240e+09   3.820246  5.142143e-02\n",
       " temp            1.0  6.302719e+10  6.302719e+10  81.420301  1.170467e-17\n",
       " humi            1.0  2.058987e+10  2.058987e+10  26.598571  4.171400e-07\n",
       " CONTENT         1.0  8.851676e+09  8.851676e+09  11.434844  8.010733e-04\n",
       " prec            1.0  6.588466e+09  6.588466e+09   8.511166  3.754429e-03\n",
       " CONTENT:temp    1.0  1.426982e+08  1.426982e+08   0.184342  6.679289e-01\n",
       " CONTENT:prec    1.0  2.457016e+07  2.457016e+07   0.031740  8.587002e-01\n",
       " CONTENT:humi    1.0  1.603779e+08  1.603779e+08   0.207181  6.492644e-01\n",
       " Residual      355.0  2.748044e+11  7.740968e+08        NaN           NaN,\n",
       " <class 'statsmodels.iolib.summary.Summary'>\n",
       " \"\"\"\n",
       "                             OLS Regression Results                            \n",
       " ==============================================================================\n",
       " Dep. Variable:              LCLS_80_P   R-squared:                       0.305\n",
       " Model:                            OLS   Adj. R-squared:                  0.287\n",
       " Method:                 Least Squares   F-statistic:                     17.31\n",
       " Date:                Wed, 14 Aug 2019   Prob (F-statistic):           9.84e-24\n",
       " Time:                        17:41:42   Log-Likelihood:                -4248.1\n",
       " No. Observations:                 365   AIC:                             8516.\n",
       " Df Residuals:                     355   BIC:                             8555.\n",
       " Df Model:                           9                                         \n",
       " Covariance Type:            nonrobust                                         \n",
       " ================================================================================\n",
       "                    coef    std err          t      P>|t|      [0.025      0.975]\n",
       " --------------------------------------------------------------------------------\n",
       " Intercept     1.132e+05   1.41e+04      8.048      0.000    8.55e+04    1.41e+05\n",
       " pm10            12.7160    124.220      0.102      0.919    -231.584     257.016\n",
       " pm25           -92.2649    168.602     -0.547      0.585    -423.850     239.320\n",
       " temp          1694.6160    368.459      4.599      0.000     969.980    2419.252\n",
       " humi          -473.5757    304.825     -1.554      0.121   -1073.065     125.914\n",
       " CONTENT        -25.2277     21.433     -1.177      0.240     -67.380      16.925\n",
       " prec          -392.3182    347.613     -1.129      0.260   -1075.957     291.321\n",
       " CONTENT:temp    -0.4237      0.702     -0.603      0.547      -1.805       0.957\n",
       " CONTENT:prec    -0.0584      0.585     -0.100      0.921      -1.210       1.093\n",
       " CONTENT:humi     0.2222      0.488      0.455      0.649      -0.738       1.182\n",
       " ==============================================================================\n",
       " Omnibus:                      129.819   Durbin-Watson:                   1.524\n",
       " Prob(Omnibus):                  0.000   Jarque-Bera (JB):              491.679\n",
       " Skew:                           1.542   Prob(JB):                    1.71e-107\n",
       " Kurtosis:                       7.777   Cond. No.                     3.04e+05\n",
       " ==============================================================================\n",
       " \n",
       " Warnings:\n",
       " [1] Standard Errors assume that the covariance matrix of the errors is correctly specified.\n",
       " [2] The condition number is large, 3.04e+05. This might indicate that there are\n",
       " strong multicollinearity or other numerical problems.\n",
       " \"\"\")"
      ]
     },
     "execution_count": 181,
     "metadata": {},
     "output_type": "execute_result"
    }
   ],
   "source": [
    "anova('LCLS_80_P')"
   ]
  },
  {
   "cell_type": "code",
   "execution_count": null,
   "metadata": {},
   "outputs": [],
   "source": []
  },
  {
   "cell_type": "code",
   "execution_count": null,
   "metadata": {},
   "outputs": [],
   "source": []
  }
 ],
 "metadata": {
  "kernelspec": {
   "display_name": "2019BigC",
   "language": "python",
   "name": "2019bigc"
  },
  "language_info": {
   "codemirror_mode": {
    "name": "ipython",
    "version": 3
   },
   "file_extension": ".py",
   "mimetype": "text/x-python",
   "name": "python",
   "nbconvert_exporter": "python",
   "pygments_lexer": "ipython3",
   "version": "3.7.3"
  }
 },
 "nbformat": 4,
 "nbformat_minor": 2
}

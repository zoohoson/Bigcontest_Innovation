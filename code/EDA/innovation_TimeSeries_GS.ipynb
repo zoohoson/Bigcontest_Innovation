{
 "cells": [
  {
   "cell_type": "code",
   "execution_count": 1,
   "metadata": {},
   "outputs": [],
   "source": [
    "import pandas as pd\n",
    "import numpy as np"
   ]
  },
  {
   "cell_type": "code",
   "execution_count": 2,
   "metadata": {
    "scrolled": true
   },
   "outputs": [],
   "source": [
    "df_gs_1 = pd.read_excel('./data/innovation/gs/동별매출지수.xlsx')\n",
    "df_gs_2 = pd.read_excel('./data/innovation/gs/카테고리별매출비중.xlsx')\n",
    "df_gs_3 = pd.read_excel('./data/innovation/gs/종합테이블.xlsx')"
   ]
  },
  {
   "cell_type": "code",
   "execution_count": 3,
   "metadata": {},
   "outputs": [
    {
     "data": {
      "text/html": [
       "<div>\n",
       "<style scoped>\n",
       "    .dataframe tbody tr th:only-of-type {\n",
       "        vertical-align: middle;\n",
       "    }\n",
       "\n",
       "    .dataframe tbody tr th {\n",
       "        vertical-align: top;\n",
       "    }\n",
       "\n",
       "    .dataframe thead th {\n",
       "        text-align: right;\n",
       "    }\n",
       "</style>\n",
       "<table border=\"1\" class=\"dataframe\">\n",
       "  <thead>\n",
       "    <tr style=\"text-align: right;\">\n",
       "      <th></th>\n",
       "      <th>ADMD_NM</th>\n",
       "      <th>20180401</th>\n",
       "      <th>20180402</th>\n",
       "      <th>20180403</th>\n",
       "      <th>20180404</th>\n",
       "      <th>20180405</th>\n",
       "      <th>20180406</th>\n",
       "      <th>20180407</th>\n",
       "      <th>20180408</th>\n",
       "      <th>20180409</th>\n",
       "      <th>...</th>\n",
       "      <th>20190322</th>\n",
       "      <th>20190323</th>\n",
       "      <th>20190324</th>\n",
       "      <th>20190325</th>\n",
       "      <th>20190326</th>\n",
       "      <th>20190327</th>\n",
       "      <th>20190328</th>\n",
       "      <th>20190329</th>\n",
       "      <th>20190330</th>\n",
       "      <th>20190331</th>\n",
       "    </tr>\n",
       "  </thead>\n",
       "  <tbody>\n",
       "    <tr>\n",
       "      <th>0</th>\n",
       "      <td>서울특별시</td>\n",
       "      <td>1.011766</td>\n",
       "      <td>1.094877</td>\n",
       "      <td>1.096897</td>\n",
       "      <td>1.089331</td>\n",
       "      <td>1.039238</td>\n",
       "      <td>1.097272</td>\n",
       "      <td>1.053457</td>\n",
       "      <td>1.090531</td>\n",
       "      <td>1.048779</td>\n",
       "      <td>...</td>\n",
       "      <td>1.075611</td>\n",
       "      <td>1.089767</td>\n",
       "      <td>0.999401</td>\n",
       "      <td>1.033118</td>\n",
       "      <td>1.066640</td>\n",
       "      <td>1.067192</td>\n",
       "      <td>1.088420</td>\n",
       "      <td>1.117573</td>\n",
       "      <td>1.062068</td>\n",
       "      <td>0.932746</td>\n",
       "    </tr>\n",
       "    <tr>\n",
       "      <th>1</th>\n",
       "      <td>가회동</td>\n",
       "      <td>0.741018</td>\n",
       "      <td>0.855520</td>\n",
       "      <td>0.981773</td>\n",
       "      <td>1.059795</td>\n",
       "      <td>0.855990</td>\n",
       "      <td>0.924312</td>\n",
       "      <td>0.870220</td>\n",
       "      <td>1.106594</td>\n",
       "      <td>0.850314</td>\n",
       "      <td>...</td>\n",
       "      <td>1.069072</td>\n",
       "      <td>1.373441</td>\n",
       "      <td>0.987582</td>\n",
       "      <td>0.979205</td>\n",
       "      <td>1.046995</td>\n",
       "      <td>1.273272</td>\n",
       "      <td>1.058130</td>\n",
       "      <td>1.196671</td>\n",
       "      <td>1.251309</td>\n",
       "      <td>1.036942</td>\n",
       "    </tr>\n",
       "    <tr>\n",
       "      <th>2</th>\n",
       "      <td>공릉1동</td>\n",
       "      <td>0.672094</td>\n",
       "      <td>0.730841</td>\n",
       "      <td>0.703336</td>\n",
       "      <td>0.735507</td>\n",
       "      <td>0.730212</td>\n",
       "      <td>0.733291</td>\n",
       "      <td>0.725905</td>\n",
       "      <td>0.749556</td>\n",
       "      <td>0.718500</td>\n",
       "      <td>...</td>\n",
       "      <td>0.748217</td>\n",
       "      <td>0.776006</td>\n",
       "      <td>0.660183</td>\n",
       "      <td>0.720459</td>\n",
       "      <td>0.731680</td>\n",
       "      <td>0.711247</td>\n",
       "      <td>0.758420</td>\n",
       "      <td>0.722903</td>\n",
       "      <td>0.733375</td>\n",
       "      <td>0.630326</td>\n",
       "    </tr>\n",
       "    <tr>\n",
       "      <th>3</th>\n",
       "      <td>공릉2동</td>\n",
       "      <td>0.854371</td>\n",
       "      <td>0.757671</td>\n",
       "      <td>0.798944</td>\n",
       "      <td>0.814557</td>\n",
       "      <td>0.784376</td>\n",
       "      <td>0.799479</td>\n",
       "      <td>0.856979</td>\n",
       "      <td>0.921864</td>\n",
       "      <td>0.776545</td>\n",
       "      <td>...</td>\n",
       "      <td>0.784544</td>\n",
       "      <td>0.813513</td>\n",
       "      <td>0.861215</td>\n",
       "      <td>0.703035</td>\n",
       "      <td>0.724664</td>\n",
       "      <td>0.726578</td>\n",
       "      <td>0.754820</td>\n",
       "      <td>0.788876</td>\n",
       "      <td>0.764800</td>\n",
       "      <td>0.760009</td>\n",
       "    </tr>\n",
       "    <tr>\n",
       "      <th>4</th>\n",
       "      <td>교남동</td>\n",
       "      <td>0.880493</td>\n",
       "      <td>0.779827</td>\n",
       "      <td>0.828379</td>\n",
       "      <td>0.729783</td>\n",
       "      <td>0.731970</td>\n",
       "      <td>0.675765</td>\n",
       "      <td>0.891382</td>\n",
       "      <td>0.918072</td>\n",
       "      <td>0.638703</td>\n",
       "      <td>...</td>\n",
       "      <td>1.028600</td>\n",
       "      <td>1.198170</td>\n",
       "      <td>1.024552</td>\n",
       "      <td>0.798985</td>\n",
       "      <td>0.878509</td>\n",
       "      <td>0.849083</td>\n",
       "      <td>1.004118</td>\n",
       "      <td>0.894920</td>\n",
       "      <td>1.038392</td>\n",
       "      <td>0.963536</td>\n",
       "    </tr>\n",
       "  </tbody>\n",
       "</table>\n",
       "<p>5 rows × 366 columns</p>\n",
       "</div>"
      ],
      "text/plain": [
       "  ADMD_NM  20180401  20180402  20180403  20180404  20180405  20180406  \\\n",
       "0   서울특별시  1.011766  1.094877  1.096897  1.089331  1.039238  1.097272   \n",
       "1     가회동  0.741018  0.855520  0.981773  1.059795  0.855990  0.924312   \n",
       "2    공릉1동  0.672094  0.730841  0.703336  0.735507  0.730212  0.733291   \n",
       "3    공릉2동  0.854371  0.757671  0.798944  0.814557  0.784376  0.799479   \n",
       "4     교남동  0.880493  0.779827  0.828379  0.729783  0.731970  0.675765   \n",
       "\n",
       "   20180407  20180408  20180409  ...  20190322  20190323  20190324  20190325  \\\n",
       "0  1.053457  1.090531  1.048779  ...  1.075611  1.089767  0.999401  1.033118   \n",
       "1  0.870220  1.106594  0.850314  ...  1.069072  1.373441  0.987582  0.979205   \n",
       "2  0.725905  0.749556  0.718500  ...  0.748217  0.776006  0.660183  0.720459   \n",
       "3  0.856979  0.921864  0.776545  ...  0.784544  0.813513  0.861215  0.703035   \n",
       "4  0.891382  0.918072  0.638703  ...  1.028600  1.198170  1.024552  0.798985   \n",
       "\n",
       "   20190326  20190327  20190328  20190329  20190330  20190331  \n",
       "0  1.066640  1.067192  1.088420  1.117573  1.062068  0.932746  \n",
       "1  1.046995  1.273272  1.058130  1.196671  1.251309  1.036942  \n",
       "2  0.731680  0.711247  0.758420  0.722903  0.733375  0.630326  \n",
       "3  0.724664  0.726578  0.754820  0.788876  0.764800  0.760009  \n",
       "4  0.878509  0.849083  1.004118  0.894920  1.038392  0.963536  \n",
       "\n",
       "[5 rows x 366 columns]"
      ]
     },
     "execution_count": 3,
     "metadata": {},
     "output_type": "execute_result"
    }
   ],
   "source": [
    "df_gs_1.head()"
   ]
  },
  {
   "cell_type": "code",
   "execution_count": 4,
   "metadata": {},
   "outputs": [
    {
     "data": {
      "text/html": [
       "<div>\n",
       "<style scoped>\n",
       "    .dataframe tbody tr th:only-of-type {\n",
       "        vertical-align: middle;\n",
       "    }\n",
       "\n",
       "    .dataframe tbody tr th {\n",
       "        vertical-align: top;\n",
       "    }\n",
       "\n",
       "    .dataframe thead th {\n",
       "        text-align: right;\n",
       "    }\n",
       "</style>\n",
       "<table border=\"1\" class=\"dataframe\">\n",
       "  <thead>\n",
       "    <tr style=\"text-align: right;\">\n",
       "      <th></th>\n",
       "      <th>ADMD_NM</th>\n",
       "      <th>ANTC_ITEM_LCLS_CD</th>\n",
       "      <th>ANTC_ITEM_LCLS_NM</th>\n",
       "      <th>20180401</th>\n",
       "      <th>20180402</th>\n",
       "      <th>20180403</th>\n",
       "      <th>20180404</th>\n",
       "      <th>20180405</th>\n",
       "      <th>20180406</th>\n",
       "      <th>20180407</th>\n",
       "      <th>...</th>\n",
       "      <th>20190322</th>\n",
       "      <th>20190323</th>\n",
       "      <th>20190324</th>\n",
       "      <th>20190325</th>\n",
       "      <th>20190326</th>\n",
       "      <th>20190327</th>\n",
       "      <th>20190328</th>\n",
       "      <th>20190329</th>\n",
       "      <th>20190330</th>\n",
       "      <th>20190331</th>\n",
       "    </tr>\n",
       "  </thead>\n",
       "  <tbody>\n",
       "    <tr>\n",
       "      <th>0</th>\n",
       "      <td>가회동</td>\n",
       "      <td>10</td>\n",
       "      <td>식사</td>\n",
       "      <td>0.238186</td>\n",
       "      <td>0.248125</td>\n",
       "      <td>0.261384</td>\n",
       "      <td>0.230096</td>\n",
       "      <td>0.261243</td>\n",
       "      <td>0.247716</td>\n",
       "      <td>0.214140</td>\n",
       "      <td>...</td>\n",
       "      <td>0.306698</td>\n",
       "      <td>0.245688</td>\n",
       "      <td>0.289880</td>\n",
       "      <td>0.300438</td>\n",
       "      <td>0.328931</td>\n",
       "      <td>0.299950</td>\n",
       "      <td>0.324462</td>\n",
       "      <td>0.289747</td>\n",
       "      <td>0.248489</td>\n",
       "      <td>0.326596</td>\n",
       "    </tr>\n",
       "    <tr>\n",
       "      <th>1</th>\n",
       "      <td>가회동</td>\n",
       "      <td>20</td>\n",
       "      <td>간식</td>\n",
       "      <td>0.210444</td>\n",
       "      <td>0.214794</td>\n",
       "      <td>0.204568</td>\n",
       "      <td>0.211954</td>\n",
       "      <td>0.136507</td>\n",
       "      <td>0.177715</td>\n",
       "      <td>0.237351</td>\n",
       "      <td>...</td>\n",
       "      <td>0.209100</td>\n",
       "      <td>0.196512</td>\n",
       "      <td>0.247329</td>\n",
       "      <td>0.243400</td>\n",
       "      <td>0.217975</td>\n",
       "      <td>0.253515</td>\n",
       "      <td>0.202995</td>\n",
       "      <td>0.209292</td>\n",
       "      <td>0.187877</td>\n",
       "      <td>0.205701</td>\n",
       "    </tr>\n",
       "    <tr>\n",
       "      <th>2</th>\n",
       "      <td>가회동</td>\n",
       "      <td>30</td>\n",
       "      <td>마실거리</td>\n",
       "      <td>0.412769</td>\n",
       "      <td>0.409670</td>\n",
       "      <td>0.347117</td>\n",
       "      <td>0.316462</td>\n",
       "      <td>0.275644</td>\n",
       "      <td>0.317388</td>\n",
       "      <td>0.356301</td>\n",
       "      <td>...</td>\n",
       "      <td>0.353008</td>\n",
       "      <td>0.240198</td>\n",
       "      <td>0.337292</td>\n",
       "      <td>0.359860</td>\n",
       "      <td>0.361798</td>\n",
       "      <td>0.338741</td>\n",
       "      <td>0.359650</td>\n",
       "      <td>0.398432</td>\n",
       "      <td>0.286222</td>\n",
       "      <td>0.316414</td>\n",
       "    </tr>\n",
       "    <tr>\n",
       "      <th>3</th>\n",
       "      <td>가회동</td>\n",
       "      <td>40</td>\n",
       "      <td>홈&amp;리빙</td>\n",
       "      <td>0.016912</td>\n",
       "      <td>0.025352</td>\n",
       "      <td>0.068550</td>\n",
       "      <td>0.043199</td>\n",
       "      <td>0.032804</td>\n",
       "      <td>0.078555</td>\n",
       "      <td>0.060966</td>\n",
       "      <td>...</td>\n",
       "      <td>0.033069</td>\n",
       "      <td>0.032446</td>\n",
       "      <td>0.019224</td>\n",
       "      <td>0.016066</td>\n",
       "      <td>0.031477</td>\n",
       "      <td>0.013807</td>\n",
       "      <td>0.011708</td>\n",
       "      <td>0.016272</td>\n",
       "      <td>0.030741</td>\n",
       "      <td>0.032521</td>\n",
       "    </tr>\n",
       "    <tr>\n",
       "      <th>4</th>\n",
       "      <td>가회동</td>\n",
       "      <td>50</td>\n",
       "      <td>헬스&amp;뷰티</td>\n",
       "      <td>0.090471</td>\n",
       "      <td>0.086298</td>\n",
       "      <td>0.098328</td>\n",
       "      <td>0.096238</td>\n",
       "      <td>0.223634</td>\n",
       "      <td>0.130952</td>\n",
       "      <td>0.100137</td>\n",
       "      <td>...</td>\n",
       "      <td>0.056393</td>\n",
       "      <td>0.219799</td>\n",
       "      <td>0.088639</td>\n",
       "      <td>0.043856</td>\n",
       "      <td>0.040440</td>\n",
       "      <td>0.054808</td>\n",
       "      <td>0.062644</td>\n",
       "      <td>0.057353</td>\n",
       "      <td>0.201487</td>\n",
       "      <td>0.079969</td>\n",
       "    </tr>\n",
       "  </tbody>\n",
       "</table>\n",
       "<p>5 rows × 368 columns</p>\n",
       "</div>"
      ],
      "text/plain": [
       "  ADMD_NM  ANTC_ITEM_LCLS_CD ANTC_ITEM_LCLS_NM  20180401  20180402  20180403  \\\n",
       "0     가회동                 10                식사  0.238186  0.248125  0.261384   \n",
       "1     가회동                 20                간식  0.210444  0.214794  0.204568   \n",
       "2     가회동                 30              마실거리  0.412769  0.409670  0.347117   \n",
       "3     가회동                 40              홈&리빙  0.016912  0.025352  0.068550   \n",
       "4     가회동                 50             헬스&뷰티  0.090471  0.086298  0.098328   \n",
       "\n",
       "   20180404  20180405  20180406  20180407  ...  20190322  20190323  20190324  \\\n",
       "0  0.230096  0.261243  0.247716  0.214140  ...  0.306698  0.245688  0.289880   \n",
       "1  0.211954  0.136507  0.177715  0.237351  ...  0.209100  0.196512  0.247329   \n",
       "2  0.316462  0.275644  0.317388  0.356301  ...  0.353008  0.240198  0.337292   \n",
       "3  0.043199  0.032804  0.078555  0.060966  ...  0.033069  0.032446  0.019224   \n",
       "4  0.096238  0.223634  0.130952  0.100137  ...  0.056393  0.219799  0.088639   \n",
       "\n",
       "   20190325  20190326  20190327  20190328  20190329  20190330  20190331  \n",
       "0  0.300438  0.328931  0.299950  0.324462  0.289747  0.248489  0.326596  \n",
       "1  0.243400  0.217975  0.253515  0.202995  0.209292  0.187877  0.205701  \n",
       "2  0.359860  0.361798  0.338741  0.359650  0.398432  0.286222  0.316414  \n",
       "3  0.016066  0.031477  0.013807  0.011708  0.016272  0.030741  0.032521  \n",
       "4  0.043856  0.040440  0.054808  0.062644  0.057353  0.201487  0.079969  \n",
       "\n",
       "[5 rows x 368 columns]"
      ]
     },
     "execution_count": 4,
     "metadata": {},
     "output_type": "execute_result"
    }
   ],
   "source": [
    "df_gs_2.head()"
   ]
  },
  {
   "cell_type": "code",
   "execution_count": 5,
   "metadata": {},
   "outputs": [
    {
     "data": {
      "text/html": [
       "<div>\n",
       "<style scoped>\n",
       "    .dataframe tbody tr th:only-of-type {\n",
       "        vertical-align: middle;\n",
       "    }\n",
       "\n",
       "    .dataframe tbody tr th {\n",
       "        vertical-align: top;\n",
       "    }\n",
       "\n",
       "    .dataframe thead th {\n",
       "        text-align: right;\n",
       "    }\n",
       "</style>\n",
       "<table border=\"1\" class=\"dataframe\">\n",
       "  <thead>\n",
       "    <tr style=\"text-align: right;\">\n",
       "      <th></th>\n",
       "      <th>OPER_DT</th>\n",
       "      <th>BOR_CD</th>\n",
       "      <th>ADMD_CD</th>\n",
       "      <th>AMT_IND</th>\n",
       "      <th>LCLS_10_P</th>\n",
       "      <th>LCLS_20_P</th>\n",
       "      <th>LCLS_30_P</th>\n",
       "      <th>LCLS_40_P</th>\n",
       "      <th>LCLS_50_P</th>\n",
       "      <th>LCLS_60_P</th>\n",
       "      <th>LCLS_70_P</th>\n",
       "      <th>LCLS_80_P</th>\n",
       "    </tr>\n",
       "  </thead>\n",
       "  <tbody>\n",
       "    <tr>\n",
       "      <th>0</th>\n",
       "      <td>20180401</td>\n",
       "      <td>1111</td>\n",
       "      <td>11110515</td>\n",
       "      <td>0.736933</td>\n",
       "      <td>0.279018</td>\n",
       "      <td>0.299569</td>\n",
       "      <td>0.334816</td>\n",
       "      <td>0.015636</td>\n",
       "      <td>0.053782</td>\n",
       "      <td>0.000265</td>\n",
       "      <td>0.013092</td>\n",
       "      <td>0.003823</td>\n",
       "    </tr>\n",
       "    <tr>\n",
       "      <th>1</th>\n",
       "      <td>20180401</td>\n",
       "      <td>1111</td>\n",
       "      <td>11110530</td>\n",
       "      <td>1.258473</td>\n",
       "      <td>0.237403</td>\n",
       "      <td>0.257984</td>\n",
       "      <td>0.349826</td>\n",
       "      <td>0.045502</td>\n",
       "      <td>0.092581</td>\n",
       "      <td>0.004988</td>\n",
       "      <td>0.002467</td>\n",
       "      <td>0.009250</td>\n",
       "    </tr>\n",
       "    <tr>\n",
       "      <th>2</th>\n",
       "      <td>20180401</td>\n",
       "      <td>1111</td>\n",
       "      <td>11110540</td>\n",
       "      <td>0.674164</td>\n",
       "      <td>0.254081</td>\n",
       "      <td>0.246844</td>\n",
       "      <td>0.324434</td>\n",
       "      <td>0.065025</td>\n",
       "      <td>0.089691</td>\n",
       "      <td>NaN</td>\n",
       "      <td>0.013212</td>\n",
       "      <td>0.006712</td>\n",
       "    </tr>\n",
       "    <tr>\n",
       "      <th>3</th>\n",
       "      <td>20180401</td>\n",
       "      <td>1111</td>\n",
       "      <td>11110550</td>\n",
       "      <td>1.010874</td>\n",
       "      <td>0.416368</td>\n",
       "      <td>0.217715</td>\n",
       "      <td>0.282613</td>\n",
       "      <td>0.026738</td>\n",
       "      <td>0.036622</td>\n",
       "      <td>0.005893</td>\n",
       "      <td>0.012295</td>\n",
       "      <td>0.001756</td>\n",
       "    </tr>\n",
       "    <tr>\n",
       "      <th>4</th>\n",
       "      <td>20180401</td>\n",
       "      <td>1111</td>\n",
       "      <td>11110560</td>\n",
       "      <td>1.012942</td>\n",
       "      <td>0.311321</td>\n",
       "      <td>0.267387</td>\n",
       "      <td>0.262358</td>\n",
       "      <td>0.014736</td>\n",
       "      <td>0.135350</td>\n",
       "      <td>NaN</td>\n",
       "      <td>0.007270</td>\n",
       "      <td>0.001577</td>\n",
       "    </tr>\n",
       "  </tbody>\n",
       "</table>\n",
       "</div>"
      ],
      "text/plain": [
       "    OPER_DT  BOR_CD   ADMD_CD   AMT_IND  LCLS_10_P  LCLS_20_P  LCLS_30_P  \\\n",
       "0  20180401    1111  11110515  0.736933   0.279018   0.299569   0.334816   \n",
       "1  20180401    1111  11110530  1.258473   0.237403   0.257984   0.349826   \n",
       "2  20180401    1111  11110540  0.674164   0.254081   0.246844   0.324434   \n",
       "3  20180401    1111  11110550  1.010874   0.416368   0.217715   0.282613   \n",
       "4  20180401    1111  11110560  1.012942   0.311321   0.267387   0.262358   \n",
       "\n",
       "   LCLS_40_P  LCLS_50_P  LCLS_60_P  LCLS_70_P  LCLS_80_P  \n",
       "0   0.015636   0.053782   0.000265   0.013092   0.003823  \n",
       "1   0.045502   0.092581   0.004988   0.002467   0.009250  \n",
       "2   0.065025   0.089691        NaN   0.013212   0.006712  \n",
       "3   0.026738   0.036622   0.005893   0.012295   0.001756  \n",
       "4   0.014736   0.135350        NaN   0.007270   0.001577  "
      ]
     },
     "execution_count": 5,
     "metadata": {},
     "output_type": "execute_result"
    }
   ],
   "source": [
    "df_gs_3.head()"
   ]
  },
  {
   "cell_type": "code",
   "execution_count": 6,
   "metadata": {},
   "outputs": [
    {
     "data": {
      "text/plain": [
       "(365, 36)"
      ]
     },
     "execution_count": 6,
     "metadata": {},
     "output_type": "execute_result"
    }
   ],
   "source": [
    "len(df_gs_3.OPER_DT.unique()), len(df_gs_3.ADMD_CD.unique())"
   ]
  },
  {
   "cell_type": "code",
   "execution_count": 7,
   "metadata": {},
   "outputs": [
    {
     "data": {
      "text/plain": [
       "OPER_DT         0\n",
       "BOR_CD          0\n",
       "ADMD_CD         0\n",
       "AMT_IND        15\n",
       "LCLS_10_P      15\n",
       "LCLS_20_P      15\n",
       "LCLS_30_P      15\n",
       "LCLS_40_P      47\n",
       "LCLS_50_P      17\n",
       "LCLS_60_P    1065\n",
       "LCLS_70_P     254\n",
       "LCLS_80_P     597\n",
       "dtype: int64"
      ]
     },
     "execution_count": 7,
     "metadata": {},
     "output_type": "execute_result"
    }
   ],
   "source": [
    "df_gs_3.isnull().sum()"
   ]
  },
  {
   "cell_type": "code",
   "execution_count": 8,
   "metadata": {},
   "outputs": [
    {
     "data": {
      "text/plain": [
       "(13140, 12)"
      ]
     },
     "execution_count": 8,
     "metadata": {},
     "output_type": "execute_result"
    }
   ],
   "source": [
    "df_gs_3.shape"
   ]
  },
  {
   "cell_type": "markdown",
   "metadata": {},
   "source": [
    "# pk확인"
   ]
  },
  {
   "cell_type": "code",
   "execution_count": 8,
   "metadata": {},
   "outputs": [
    {
     "data": {
      "text/plain": [
       "13140"
      ]
     },
     "execution_count": 8,
     "metadata": {},
     "output_type": "execute_result"
    }
   ],
   "source": [
    "len(df_gs_3.groupby(['OPER_DT', 'BOR_CD', 'ADMD_CD']).count())"
   ]
  },
  {
   "cell_type": "markdown",
   "metadata": {},
   "source": [
    "* Add GU_NM, DONG_NM"
   ]
  },
  {
   "cell_type": "code",
   "execution_count": 9,
   "metadata": {},
   "outputs": [],
   "source": [
    "ADMD_temp1 = list(df_gs_3.ADMD_CD.unique())"
   ]
  },
  {
   "cell_type": "code",
   "execution_count": 10,
   "metadata": {},
   "outputs": [],
   "source": [
    "ADMD_temp2 = [\"청운효자동\",\"사직동\", \"삼청동\", \"부암동\", \"평창동\", \"무악동\",\n",
    "              \"교남동\", \"가회동\", \"종로1.2.3.4가동\", \"종로5.6가동\", \"이화동\",\n",
    "              \"혜화동\", \"창신1동\", \"창신2동\", \"창신3동\", \"숭인1동\", \"숭인2동\",\n",
    "              \"월계1동\", \"월계2동\", \"월계3동\", \"공릉1동\", \"공릉2동\", \"하계1동\",\n",
    "              \"하계2동\", \"중계본동\", \"중계1동\", \"중계4동\", \"중계2.3동\", \"상계1동\",\n",
    "              \"상계2동\", \"상계3.4동\", \"상계5동\", \"상계6.7동\", \"상계8동\", \"상계9동\", \"상계10동\"]"
   ]
  },
  {
   "cell_type": "code",
   "execution_count": 11,
   "metadata": {},
   "outputs": [
    {
     "data": {
      "text/plain": [
       "(36, 36)"
      ]
     },
     "execution_count": 11,
     "metadata": {},
     "output_type": "execute_result"
    }
   ],
   "source": [
    "len(ADMD_temp1), len(ADMD_temp2)"
   ]
  },
  {
   "cell_type": "code",
   "execution_count": 12,
   "metadata": {},
   "outputs": [],
   "source": [
    "BOR_NM_dict = {1111:'종로구', 1135:'노원구'}\n",
    "ADMD_NM_dict = dict()\n",
    "for i in range(len(ADMD_temp1)):\n",
    "    ADMD_NM_dict[ADMD_temp1[i]]=ADMD_temp2[i]"
   ]
  },
  {
   "cell_type": "code",
   "execution_count": 13,
   "metadata": {},
   "outputs": [],
   "source": [
    "gs_cols_name_dict = {'OPER_DT':'DATE', 'BOR_CD':'GU_CD', 'ADMD_CD':'DONG_CD'}\n",
    "df_gs_total = df_gs_3.rename(columns=gs_cols_name_dict)"
   ]
  },
  {
   "cell_type": "code",
   "execution_count": 14,
   "metadata": {},
   "outputs": [],
   "source": [
    "GU_NM_list = [BOR_NM_dict[i] for i in df_gs_total.GU_CD]\n",
    "\n",
    "df_gs_total['GU_NM']=GU_NM_list"
   ]
  },
  {
   "cell_type": "code",
   "execution_count": 15,
   "metadata": {},
   "outputs": [],
   "source": [
    "DONG_NM_list = [ADMD_NM_dict[i] for i in df_gs_total.DONG_CD]\n",
    "df_gs_total['DONG_NM'] = DONG_NM_list"
   ]
  },
  {
   "cell_type": "markdown",
   "metadata": {},
   "source": [
    "* change entry from ratio to price"
   ]
  },
  {
   "cell_type": "code",
   "execution_count": 16,
   "metadata": {},
   "outputs": [],
   "source": [
    "df_gs_total.AMT_IND = df_gs_total.AMT_IND*1024712"
   ]
  },
  {
   "cell_type": "code",
   "execution_count": 17,
   "metadata": {},
   "outputs": [],
   "source": [
    "change_cols = ['LCLS_10_P', 'LCLS_20_P', 'LCLS_30_P', 'LCLS_40_P', 'LCLS_50_P', 'LCLS_60_P', 'LCLS_70_P', 'LCLS_80_P']\n",
    "for i in change_cols:\n",
    "    df_gs_total[i] = df_gs_total[i]*df_gs_total.AMT_IND"
   ]
  },
  {
   "cell_type": "code",
   "execution_count": 18,
   "metadata": {
    "scrolled": false
   },
   "outputs": [
    {
     "data": {
      "text/html": [
       "<div>\n",
       "<style scoped>\n",
       "    .dataframe tbody tr th:only-of-type {\n",
       "        vertical-align: middle;\n",
       "    }\n",
       "\n",
       "    .dataframe tbody tr th {\n",
       "        vertical-align: top;\n",
       "    }\n",
       "\n",
       "    .dataframe thead th {\n",
       "        text-align: right;\n",
       "    }\n",
       "</style>\n",
       "<table border=\"1\" class=\"dataframe\">\n",
       "  <thead>\n",
       "    <tr style=\"text-align: right;\">\n",
       "      <th></th>\n",
       "      <th>DATE</th>\n",
       "      <th>GU_CD</th>\n",
       "      <th>DONG_CD</th>\n",
       "      <th>AMT_IND</th>\n",
       "      <th>LCLS_10_P</th>\n",
       "      <th>LCLS_20_P</th>\n",
       "      <th>LCLS_30_P</th>\n",
       "      <th>LCLS_40_P</th>\n",
       "      <th>LCLS_50_P</th>\n",
       "      <th>LCLS_60_P</th>\n",
       "      <th>LCLS_70_P</th>\n",
       "      <th>LCLS_80_P</th>\n",
       "      <th>GU_NM</th>\n",
       "      <th>DONG_NM</th>\n",
       "    </tr>\n",
       "  </thead>\n",
       "  <tbody>\n",
       "    <tr>\n",
       "      <th>0</th>\n",
       "      <td>20180401</td>\n",
       "      <td>1111</td>\n",
       "      <td>11110515</td>\n",
       "      <td>755144.0</td>\n",
       "      <td>210698.680246</td>\n",
       "      <td>226217.675108</td>\n",
       "      <td>252833.916296</td>\n",
       "      <td>11807.246091</td>\n",
       "      <td>40613.486554</td>\n",
       "      <td>199.999934</td>\n",
       "      <td>9886.246727</td>\n",
       "      <td>2886.749044</td>\n",
       "      <td>종로구</td>\n",
       "      <td>청운효자동</td>\n",
       "    </tr>\n",
       "    <tr>\n",
       "      <th>1</th>\n",
       "      <td>20180401</td>\n",
       "      <td>1111</td>\n",
       "      <td>11110530</td>\n",
       "      <td>1289572.0</td>\n",
       "      <td>306148.368702</td>\n",
       "      <td>332688.878992</td>\n",
       "      <td>451125.424913</td>\n",
       "      <td>58678.022751</td>\n",
       "      <td>119389.796290</td>\n",
       "      <td>6431.752494</td>\n",
       "      <td>3181.751234</td>\n",
       "      <td>11928.004625</td>\n",
       "      <td>종로구</td>\n",
       "      <td>사직동</td>\n",
       "    </tr>\n",
       "    <tr>\n",
       "      <th>2</th>\n",
       "      <td>20180401</td>\n",
       "      <td>1111</td>\n",
       "      <td>11110540</td>\n",
       "      <td>690824.0</td>\n",
       "      <td>175525.000000</td>\n",
       "      <td>170526.000000</td>\n",
       "      <td>224127.000000</td>\n",
       "      <td>44921.000000</td>\n",
       "      <td>61961.000000</td>\n",
       "      <td>NaN</td>\n",
       "      <td>9127.000000</td>\n",
       "      <td>4637.000000</td>\n",
       "      <td>종로구</td>\n",
       "      <td>삼청동</td>\n",
       "    </tr>\n",
       "    <tr>\n",
       "      <th>3</th>\n",
       "      <td>20180401</td>\n",
       "      <td>1111</td>\n",
       "      <td>11110550</td>\n",
       "      <td>1035855.0</td>\n",
       "      <td>431297.145908</td>\n",
       "      <td>225521.195571</td>\n",
       "      <td>292746.429347</td>\n",
       "      <td>27696.243316</td>\n",
       "      <td>37934.740845</td>\n",
       "      <td>6104.498527</td>\n",
       "      <td>12735.996926</td>\n",
       "      <td>1818.749561</td>\n",
       "      <td>종로구</td>\n",
       "      <td>부암동</td>\n",
       "    </tr>\n",
       "    <tr>\n",
       "      <th>4</th>\n",
       "      <td>20180401</td>\n",
       "      <td>1111</td>\n",
       "      <td>11110560</td>\n",
       "      <td>1037974.0</td>\n",
       "      <td>323143.000000</td>\n",
       "      <td>277541.000000</td>\n",
       "      <td>272321.000000</td>\n",
       "      <td>15296.000000</td>\n",
       "      <td>140490.000000</td>\n",
       "      <td>NaN</td>\n",
       "      <td>7546.000000</td>\n",
       "      <td>1637.000000</td>\n",
       "      <td>종로구</td>\n",
       "      <td>평창동</td>\n",
       "    </tr>\n",
       "  </tbody>\n",
       "</table>\n",
       "</div>"
      ],
      "text/plain": [
       "       DATE  GU_CD   DONG_CD    AMT_IND      LCLS_10_P      LCLS_20_P  \\\n",
       "0  20180401   1111  11110515   755144.0  210698.680246  226217.675108   \n",
       "1  20180401   1111  11110530  1289572.0  306148.368702  332688.878992   \n",
       "2  20180401   1111  11110540   690824.0  175525.000000  170526.000000   \n",
       "3  20180401   1111  11110550  1035855.0  431297.145908  225521.195571   \n",
       "4  20180401   1111  11110560  1037974.0  323143.000000  277541.000000   \n",
       "\n",
       "       LCLS_30_P     LCLS_40_P      LCLS_50_P    LCLS_60_P     LCLS_70_P  \\\n",
       "0  252833.916296  11807.246091   40613.486554   199.999934   9886.246727   \n",
       "1  451125.424913  58678.022751  119389.796290  6431.752494   3181.751234   \n",
       "2  224127.000000  44921.000000   61961.000000          NaN   9127.000000   \n",
       "3  292746.429347  27696.243316   37934.740845  6104.498527  12735.996926   \n",
       "4  272321.000000  15296.000000  140490.000000          NaN   7546.000000   \n",
       "\n",
       "      LCLS_80_P GU_NM DONG_NM  \n",
       "0   2886.749044   종로구   청운효자동  \n",
       "1  11928.004625   종로구     사직동  \n",
       "2   4637.000000   종로구     삼청동  \n",
       "3   1818.749561   종로구     부암동  \n",
       "4   1637.000000   종로구     평창동  "
      ]
     },
     "execution_count": 18,
     "metadata": {},
     "output_type": "execute_result"
    }
   ],
   "source": [
    "df_gs_total.head()"
   ]
  },
  {
   "cell_type": "code",
   "execution_count": 19,
   "metadata": {},
   "outputs": [
    {
     "data": {
      "text/plain": [
       "(13140, 14)"
      ]
     },
     "execution_count": 19,
     "metadata": {},
     "output_type": "execute_result"
    }
   ],
   "source": [
    "df_gs_total.shape"
   ]
  },
  {
   "cell_type": "code",
   "execution_count": 20,
   "metadata": {},
   "outputs": [
    {
     "data": {
      "text/html": [
       "<div>\n",
       "<style scoped>\n",
       "    .dataframe tbody tr th:only-of-type {\n",
       "        vertical-align: middle;\n",
       "    }\n",
       "\n",
       "    .dataframe tbody tr th {\n",
       "        vertical-align: top;\n",
       "    }\n",
       "\n",
       "    .dataframe thead th {\n",
       "        text-align: right;\n",
       "    }\n",
       "</style>\n",
       "<table border=\"1\" class=\"dataframe\">\n",
       "  <thead>\n",
       "    <tr style=\"text-align: right;\">\n",
       "      <th></th>\n",
       "      <th>DATE</th>\n",
       "      <th>GU_CD</th>\n",
       "      <th>DONG_CD</th>\n",
       "      <th>AMT_IND</th>\n",
       "      <th>LCLS_10_P</th>\n",
       "      <th>LCLS_20_P</th>\n",
       "      <th>LCLS_30_P</th>\n",
       "      <th>LCLS_40_P</th>\n",
       "      <th>LCLS_50_P</th>\n",
       "      <th>LCLS_60_P</th>\n",
       "      <th>LCLS_70_P</th>\n",
       "      <th>LCLS_80_P</th>\n",
       "      <th>GU_NM</th>\n",
       "      <th>DONG_NM</th>\n",
       "    </tr>\n",
       "  </thead>\n",
       "  <tbody>\n",
       "    <tr>\n",
       "      <th>0</th>\n",
       "      <td>20180401</td>\n",
       "      <td>1111</td>\n",
       "      <td>11110515</td>\n",
       "      <td>755144.0</td>\n",
       "      <td>210698.680246</td>\n",
       "      <td>226217.675108</td>\n",
       "      <td>252833.916296</td>\n",
       "      <td>11807.246091</td>\n",
       "      <td>40613.486554</td>\n",
       "      <td>199.999934</td>\n",
       "      <td>9886.246727</td>\n",
       "      <td>2886.749044</td>\n",
       "      <td>종로구</td>\n",
       "      <td>청운효자동</td>\n",
       "    </tr>\n",
       "    <tr>\n",
       "      <th>1</th>\n",
       "      <td>20180401</td>\n",
       "      <td>1111</td>\n",
       "      <td>11110530</td>\n",
       "      <td>1289572.0</td>\n",
       "      <td>306148.368702</td>\n",
       "      <td>332688.878992</td>\n",
       "      <td>451125.424913</td>\n",
       "      <td>58678.022751</td>\n",
       "      <td>119389.796290</td>\n",
       "      <td>6431.752494</td>\n",
       "      <td>3181.751234</td>\n",
       "      <td>11928.004625</td>\n",
       "      <td>종로구</td>\n",
       "      <td>사직동</td>\n",
       "    </tr>\n",
       "    <tr>\n",
       "      <th>2</th>\n",
       "      <td>20180401</td>\n",
       "      <td>1111</td>\n",
       "      <td>11110540</td>\n",
       "      <td>690824.0</td>\n",
       "      <td>175525.000000</td>\n",
       "      <td>170526.000000</td>\n",
       "      <td>224127.000000</td>\n",
       "      <td>44921.000000</td>\n",
       "      <td>61961.000000</td>\n",
       "      <td>NaN</td>\n",
       "      <td>9127.000000</td>\n",
       "      <td>4637.000000</td>\n",
       "      <td>종로구</td>\n",
       "      <td>삼청동</td>\n",
       "    </tr>\n",
       "    <tr>\n",
       "      <th>3</th>\n",
       "      <td>20180401</td>\n",
       "      <td>1111</td>\n",
       "      <td>11110550</td>\n",
       "      <td>1035855.0</td>\n",
       "      <td>431297.145908</td>\n",
       "      <td>225521.195571</td>\n",
       "      <td>292746.429347</td>\n",
       "      <td>27696.243316</td>\n",
       "      <td>37934.740845</td>\n",
       "      <td>6104.498527</td>\n",
       "      <td>12735.996926</td>\n",
       "      <td>1818.749561</td>\n",
       "      <td>종로구</td>\n",
       "      <td>부암동</td>\n",
       "    </tr>\n",
       "    <tr>\n",
       "      <th>4</th>\n",
       "      <td>20180401</td>\n",
       "      <td>1111</td>\n",
       "      <td>11110560</td>\n",
       "      <td>1037974.0</td>\n",
       "      <td>323143.000000</td>\n",
       "      <td>277541.000000</td>\n",
       "      <td>272321.000000</td>\n",
       "      <td>15296.000000</td>\n",
       "      <td>140490.000000</td>\n",
       "      <td>NaN</td>\n",
       "      <td>7546.000000</td>\n",
       "      <td>1637.000000</td>\n",
       "      <td>종로구</td>\n",
       "      <td>평창동</td>\n",
       "    </tr>\n",
       "  </tbody>\n",
       "</table>\n",
       "</div>"
      ],
      "text/plain": [
       "       DATE  GU_CD   DONG_CD    AMT_IND      LCLS_10_P      LCLS_20_P  \\\n",
       "0  20180401   1111  11110515   755144.0  210698.680246  226217.675108   \n",
       "1  20180401   1111  11110530  1289572.0  306148.368702  332688.878992   \n",
       "2  20180401   1111  11110540   690824.0  175525.000000  170526.000000   \n",
       "3  20180401   1111  11110550  1035855.0  431297.145908  225521.195571   \n",
       "4  20180401   1111  11110560  1037974.0  323143.000000  277541.000000   \n",
       "\n",
       "       LCLS_30_P     LCLS_40_P      LCLS_50_P    LCLS_60_P     LCLS_70_P  \\\n",
       "0  252833.916296  11807.246091   40613.486554   199.999934   9886.246727   \n",
       "1  451125.424913  58678.022751  119389.796290  6431.752494   3181.751234   \n",
       "2  224127.000000  44921.000000   61961.000000          NaN   9127.000000   \n",
       "3  292746.429347  27696.243316   37934.740845  6104.498527  12735.996926   \n",
       "4  272321.000000  15296.000000  140490.000000          NaN   7546.000000   \n",
       "\n",
       "      LCLS_80_P GU_NM DONG_NM  \n",
       "0   2886.749044   종로구   청운효자동  \n",
       "1  11928.004625   종로구     사직동  \n",
       "2   4637.000000   종로구     삼청동  \n",
       "3   1818.749561   종로구     부암동  \n",
       "4   1637.000000   종로구     평창동  "
      ]
     },
     "execution_count": 20,
     "metadata": {},
     "output_type": "execute_result"
    }
   ],
   "source": [
    "df_gs_total.head()"
   ]
  },
  {
   "cell_type": "code",
   "execution_count": 23,
   "metadata": {},
   "outputs": [
    {
     "data": {
      "text/plain": [
       "DATE            0\n",
       "GU_CD           0\n",
       "DONG_CD         0\n",
       "AMT_IND        15\n",
       "LCLS_10_P      15\n",
       "LCLS_20_P      15\n",
       "LCLS_30_P      15\n",
       "LCLS_40_P      47\n",
       "LCLS_50_P      17\n",
       "LCLS_60_P    1065\n",
       "LCLS_70_P     254\n",
       "LCLS_80_P     597\n",
       "GU_NM           0\n",
       "DONG_NM         0\n",
       "dtype: int64"
      ]
     },
     "execution_count": 23,
     "metadata": {},
     "output_type": "execute_result"
    }
   ],
   "source": [
    "df_gs_total.isnull().sum()"
   ]
  },
  {
   "cell_type": "code",
   "execution_count": 31,
   "metadata": {},
   "outputs": [
    {
     "ename": "ValueError",
     "evalue": "The truth value of a Series is ambiguous. Use a.empty, a.bool(), a.item(), a.any() or a.all().",
     "output_type": "error",
     "traceback": [
      "\u001b[1;31m---------------------------------------------------------------------------\u001b[0m",
      "\u001b[1;31mValueError\u001b[0m                                Traceback (most recent call last)",
      "\u001b[1;32m<ipython-input-31-b4efff534d2a>\u001b[0m in \u001b[0;36m<module>\u001b[1;34m\u001b[0m\n\u001b[1;32m----> 1\u001b[1;33m \u001b[0mdf_gs_total\u001b[0m\u001b[1;33m.\u001b[0m\u001b[0mloc\u001b[0m\u001b[1;33m[\u001b[0m\u001b[1;33m(\u001b[0m\u001b[0mdf_gs_total\u001b[0m\u001b[1;33m.\u001b[0m\u001b[0mLCLS_60_P\u001b[0m\u001b[1;33m.\u001b[0m\u001b[0misnull\u001b[0m\u001b[1;33m(\u001b[0m\u001b[1;33m)\u001b[0m\u001b[1;33m==\u001b[0m\u001b[1;32mTrue\u001b[0m \u001b[1;33m&\u001b[0m \u001b[0mdf_gs_total\u001b[0m\u001b[1;33m.\u001b[0m\u001b[0mGU_CD\u001b[0m\u001b[1;33m==\u001b[0m\u001b[1;36m1111\u001b[0m\u001b[1;33m)\u001b[0m\u001b[1;33m]\u001b[0m\u001b[1;33m\u001b[0m\u001b[1;33m\u001b[0m\u001b[0m\n\u001b[0m",
      "\u001b[1;32m~\\Miniconda3\\envs\\2019BigC\\lib\\site-packages\\pandas\\core\\generic.py\u001b[0m in \u001b[0;36m__nonzero__\u001b[1;34m(self)\u001b[0m\n\u001b[0;32m   1476\u001b[0m         raise ValueError(\"The truth value of a {0} is ambiguous. \"\n\u001b[0;32m   1477\u001b[0m                          \u001b[1;34m\"Use a.empty, a.bool(), a.item(), a.any() or a.all().\"\u001b[0m\u001b[1;33m\u001b[0m\u001b[1;33m\u001b[0m\u001b[0m\n\u001b[1;32m-> 1478\u001b[1;33m                          .format(self.__class__.__name__))\n\u001b[0m\u001b[0;32m   1479\u001b[0m \u001b[1;33m\u001b[0m\u001b[0m\n\u001b[0;32m   1480\u001b[0m     \u001b[0m__bool__\u001b[0m \u001b[1;33m=\u001b[0m \u001b[0m__nonzero__\u001b[0m\u001b[1;33m\u001b[0m\u001b[1;33m\u001b[0m\u001b[0m\n",
      "\u001b[1;31mValueError\u001b[0m: The truth value of a Series is ambiguous. Use a.empty, a.bool(), a.item(), a.any() or a.all()."
     ]
    }
   ],
   "source": [
    "df_gs_total.loc[(df_gs_total.LCLS_60_P.isnull()==True & df_gs_total.GU_CD==1111)]"
   ]
  },
  {
   "cell_type": "code",
   "execution_count": 22,
   "metadata": {},
   "outputs": [],
   "source": [
    "# df_gs_total.to_csv('./data/innovation/df_gs.csv', index=False)"
   ]
  },
  {
   "cell_type": "code",
   "execution_count": 17,
   "metadata": {},
   "outputs": [],
   "source": [
    "df_gs_total = df_gs_total.groupby(['DATE', 'GU_NM']).mean().reset_index()"
   ]
  },
  {
   "cell_type": "markdown",
   "metadata": {},
   "source": [
    "# Load asos"
   ]
  },
  {
   "cell_type": "code",
   "execution_count": 18,
   "metadata": {},
   "outputs": [],
   "source": [
    "df_asos_no15 = pd.read_csv('./data/innovation/asos/노원구/V10O1611104.csv')  # 상계 6, 7동\n"
   ]
  },
  {
   "cell_type": "code",
   "execution_count": 19,
   "metadata": {},
   "outputs": [],
   "source": [
    "df_asos_no15['DATE'] = [str(df_asos_no15.tm[i])[:8] for i in range(len(df_asos_no15))]"
   ]
  },
  {
   "cell_type": "code",
   "execution_count": 20,
   "metadata": {},
   "outputs": [],
   "source": [
    "drop_cols = ['serial', 'flag', 'co2', 'vocs', 'noise', 'temp', 'humi', 'Unnamed: 10', 'tm']\n",
    "df_asos_no15.drop(drop_cols, axis=1, inplace=True)"
   ]
  },
  {
   "cell_type": "code",
   "execution_count": 21,
   "metadata": {},
   "outputs": [],
   "source": [
    "df_asos_no15 = df_asos_no15.groupby('DATE').mean()\n",
    "df_asos_no15 = df_asos_no15.reset_index()"
   ]
  },
  {
   "cell_type": "code",
   "execution_count": 22,
   "metadata": {},
   "outputs": [],
   "source": [
    "df_asos_no15['GU_NM']=['노원구']*len(df_asos_no15)"
   ]
  },
  {
   "cell_type": "code",
   "execution_count": 23,
   "metadata": {},
   "outputs": [],
   "source": [
    "df_asos_jong13 = pd.read_csv('./data/innovation/asos/종로구/V10O1611887.csv')  # 명동\n"
   ]
  },
  {
   "cell_type": "code",
   "execution_count": 24,
   "metadata": {},
   "outputs": [],
   "source": [
    "df_asos_jong13['DATE'] = [str(df_asos_jong13.tm[i])[:8] for i in range(len(df_asos_jong13))]"
   ]
  },
  {
   "cell_type": "code",
   "execution_count": 25,
   "metadata": {},
   "outputs": [],
   "source": [
    "drop_cols = ['serial', 'flag', 'co2', 'vocs', 'noise', 'temp', 'humi', 'Unnamed: 10', 'tm']\n",
    "df_asos_jong13.drop(drop_cols, axis=1, inplace=True)"
   ]
  },
  {
   "cell_type": "code",
   "execution_count": 26,
   "metadata": {},
   "outputs": [],
   "source": [
    "df_asos_jong13 = df_asos_jong13.groupby('DATE').mean()\n",
    "df_asos_jong13 = df_asos_jong13.reset_index()"
   ]
  },
  {
   "cell_type": "code",
   "execution_count": 27,
   "metadata": {},
   "outputs": [],
   "source": [
    "df_asos_jong13['GU_NM']=['종로구']*len(df_asos_jong13)"
   ]
  },
  {
   "cell_type": "code",
   "execution_count": 28,
   "metadata": {},
   "outputs": [],
   "source": [
    "df_asos = pd.concat([df_asos_no15, df_asos_jong13]).groupby(['DATE', 'GU_NM']).sum().reset_index()"
   ]
  },
  {
   "cell_type": "code",
   "execution_count": 29,
   "metadata": {},
   "outputs": [
    {
     "data": {
      "text/html": [
       "<div>\n",
       "<style scoped>\n",
       "    .dataframe tbody tr th:only-of-type {\n",
       "        vertical-align: middle;\n",
       "    }\n",
       "\n",
       "    .dataframe tbody tr th {\n",
       "        vertical-align: top;\n",
       "    }\n",
       "\n",
       "    .dataframe thead th {\n",
       "        text-align: right;\n",
       "    }\n",
       "</style>\n",
       "<table border=\"1\" class=\"dataframe\">\n",
       "  <thead>\n",
       "    <tr style=\"text-align: right;\">\n",
       "      <th></th>\n",
       "      <th>DATE</th>\n",
       "      <th>GU_NM</th>\n",
       "      <th>pm10</th>\n",
       "      <th>pm25</th>\n",
       "    </tr>\n",
       "  </thead>\n",
       "  <tbody>\n",
       "    <tr>\n",
       "      <th>0</th>\n",
       "      <td>20180401</td>\n",
       "      <td>노원구</td>\n",
       "      <td>68.328472</td>\n",
       "      <td>35.256944</td>\n",
       "    </tr>\n",
       "    <tr>\n",
       "      <th>1</th>\n",
       "      <td>20180401</td>\n",
       "      <td>종로구</td>\n",
       "      <td>84.070139</td>\n",
       "      <td>43.877083</td>\n",
       "    </tr>\n",
       "    <tr>\n",
       "      <th>2</th>\n",
       "      <td>20180402</td>\n",
       "      <td>노원구</td>\n",
       "      <td>72.005556</td>\n",
       "      <td>29.909028</td>\n",
       "    </tr>\n",
       "    <tr>\n",
       "      <th>3</th>\n",
       "      <td>20180402</td>\n",
       "      <td>종로구</td>\n",
       "      <td>72.274306</td>\n",
       "      <td>30.051389</td>\n",
       "    </tr>\n",
       "    <tr>\n",
       "      <th>4</th>\n",
       "      <td>20180403</td>\n",
       "      <td>노원구</td>\n",
       "      <td>72.838194</td>\n",
       "      <td>24.295833</td>\n",
       "    </tr>\n",
       "  </tbody>\n",
       "</table>\n",
       "</div>"
      ],
      "text/plain": [
       "       DATE GU_NM       pm10       pm25\n",
       "0  20180401   노원구  68.328472  35.256944\n",
       "1  20180401   종로구  84.070139  43.877083\n",
       "2  20180402   노원구  72.005556  29.909028\n",
       "3  20180402   종로구  72.274306  30.051389\n",
       "4  20180403   노원구  72.838194  24.295833"
      ]
     },
     "execution_count": 29,
     "metadata": {},
     "output_type": "execute_result"
    }
   ],
   "source": [
    "df_asos.head()"
   ]
  },
  {
   "cell_type": "code",
   "execution_count": 30,
   "metadata": {},
   "outputs": [],
   "source": [
    "df_asos['DATE'] = df_asos.DATE.astype(int)"
   ]
  },
  {
   "cell_type": "markdown",
   "metadata": {},
   "source": [
    "# Load df_news"
   ]
  },
  {
   "cell_type": "code",
   "execution_count": 31,
   "metadata": {},
   "outputs": [],
   "source": [
    "df_news = pd.read_csv('./data/innovation/df_news.csv')"
   ]
  },
  {
   "cell_type": "markdown",
   "metadata": {},
   "source": [
    "### Merge"
   ]
  },
  {
   "cell_type": "code",
   "execution_count": 32,
   "metadata": {},
   "outputs": [],
   "source": [
    "df_total = df_gs_total.merge(df_asos, on=['DATE', 'GU_NM'])"
   ]
  },
  {
   "cell_type": "code",
   "execution_count": 33,
   "metadata": {},
   "outputs": [],
   "source": [
    "df_total = df_total.merge(df_news, on=['DATE'])"
   ]
  },
  {
   "cell_type": "code",
   "execution_count": 36,
   "metadata": {},
   "outputs": [
    {
     "data": {
      "text/html": [
       "<div>\n",
       "<style scoped>\n",
       "    .dataframe tbody tr th:only-of-type {\n",
       "        vertical-align: middle;\n",
       "    }\n",
       "\n",
       "    .dataframe tbody tr th {\n",
       "        vertical-align: top;\n",
       "    }\n",
       "\n",
       "    .dataframe thead th {\n",
       "        text-align: right;\n",
       "    }\n",
       "</style>\n",
       "<table border=\"1\" class=\"dataframe\">\n",
       "  <thead>\n",
       "    <tr style=\"text-align: right;\">\n",
       "      <th></th>\n",
       "      <th>pm10</th>\n",
       "      <th>pm25</th>\n",
       "      <th>CONTENT</th>\n",
       "    </tr>\n",
       "  </thead>\n",
       "  <tbody>\n",
       "    <tr>\n",
       "      <th>DATE</th>\n",
       "      <td>0.549069</td>\n",
       "      <td>0.517023</td>\n",
       "      <td>2.333448e-01</td>\n",
       "    </tr>\n",
       "    <tr>\n",
       "      <th>GU_CD</th>\n",
       "      <td>0.093201</td>\n",
       "      <td>0.040055</td>\n",
       "      <td>0.000000e+00</td>\n",
       "    </tr>\n",
       "    <tr>\n",
       "      <th>DONG_CD</th>\n",
       "      <td>0.093201</td>\n",
       "      <td>0.040055</td>\n",
       "      <td>-9.403440e-18</td>\n",
       "    </tr>\n",
       "    <tr>\n",
       "      <th>AMT_IND</th>\n",
       "      <td>-0.279455</td>\n",
       "      <td>-0.213794</td>\n",
       "      <td>-2.695042e-01</td>\n",
       "    </tr>\n",
       "    <tr>\n",
       "      <th>LCLS_10_P</th>\n",
       "      <td>-0.203816</td>\n",
       "      <td>-0.188319</td>\n",
       "      <td>2.110100e-02</td>\n",
       "    </tr>\n",
       "    <tr>\n",
       "      <th>LCLS_20_P</th>\n",
       "      <td>0.025315</td>\n",
       "      <td>0.023420</td>\n",
       "      <td>-7.332555e-02</td>\n",
       "    </tr>\n",
       "    <tr>\n",
       "      <th>LCLS_30_P</th>\n",
       "      <td>-0.336788</td>\n",
       "      <td>-0.263016</td>\n",
       "      <td>-3.787081e-01</td>\n",
       "    </tr>\n",
       "    <tr>\n",
       "      <th>LCLS_40_P</th>\n",
       "      <td>-0.090201</td>\n",
       "      <td>-0.058117</td>\n",
       "      <td>-5.413709e-03</td>\n",
       "    </tr>\n",
       "    <tr>\n",
       "      <th>LCLS_50_P</th>\n",
       "      <td>-0.082349</td>\n",
       "      <td>-0.013261</td>\n",
       "      <td>-9.036151e-02</td>\n",
       "    </tr>\n",
       "    <tr>\n",
       "      <th>LCLS_60_P</th>\n",
       "      <td>-0.093936</td>\n",
       "      <td>-0.090080</td>\n",
       "      <td>-5.309396e-02</td>\n",
       "    </tr>\n",
       "    <tr>\n",
       "      <th>LCLS_70_P</th>\n",
       "      <td>-0.092929</td>\n",
       "      <td>-0.031152</td>\n",
       "      <td>-9.849906e-02</td>\n",
       "    </tr>\n",
       "    <tr>\n",
       "      <th>LCLS_80_P</th>\n",
       "      <td>-0.033057</td>\n",
       "      <td>-0.054984</td>\n",
       "      <td>-2.409738e-01</td>\n",
       "    </tr>\n",
       "    <tr>\n",
       "      <th>pm10</th>\n",
       "      <td>1.000000</td>\n",
       "      <td>0.936623</td>\n",
       "      <td>3.366597e-01</td>\n",
       "    </tr>\n",
       "    <tr>\n",
       "      <th>pm25</th>\n",
       "      <td>0.936623</td>\n",
       "      <td>1.000000</td>\n",
       "      <td>2.944648e-01</td>\n",
       "    </tr>\n",
       "    <tr>\n",
       "      <th>CONTENT</th>\n",
       "      <td>0.336660</td>\n",
       "      <td>0.294465</td>\n",
       "      <td>1.000000e+00</td>\n",
       "    </tr>\n",
       "  </tbody>\n",
       "</table>\n",
       "</div>"
      ],
      "text/plain": [
       "               pm10      pm25       CONTENT\n",
       "DATE       0.549069  0.517023  2.333448e-01\n",
       "GU_CD      0.093201  0.040055  0.000000e+00\n",
       "DONG_CD    0.093201  0.040055 -9.403440e-18\n",
       "AMT_IND   -0.279455 -0.213794 -2.695042e-01\n",
       "LCLS_10_P -0.203816 -0.188319  2.110100e-02\n",
       "LCLS_20_P  0.025315  0.023420 -7.332555e-02\n",
       "LCLS_30_P -0.336788 -0.263016 -3.787081e-01\n",
       "LCLS_40_P -0.090201 -0.058117 -5.413709e-03\n",
       "LCLS_50_P -0.082349 -0.013261 -9.036151e-02\n",
       "LCLS_60_P -0.093936 -0.090080 -5.309396e-02\n",
       "LCLS_70_P -0.092929 -0.031152 -9.849906e-02\n",
       "LCLS_80_P -0.033057 -0.054984 -2.409738e-01\n",
       "pm10       1.000000  0.936623  3.366597e-01\n",
       "pm25       0.936623  1.000000  2.944648e-01\n",
       "CONTENT    0.336660  0.294465  1.000000e+00"
      ]
     },
     "execution_count": 36,
     "metadata": {},
     "output_type": "execute_result"
    }
   ],
   "source": [
    "df_total.corr()[['pm10', 'pm25', 'CONTENT']]"
   ]
  },
  {
   "cell_type": "code",
   "execution_count": 38,
   "metadata": {},
   "outputs": [
    {
     "data": {
      "text/html": [
       "<div>\n",
       "<style scoped>\n",
       "    .dataframe tbody tr th:only-of-type {\n",
       "        vertical-align: middle;\n",
       "    }\n",
       "\n",
       "    .dataframe tbody tr th {\n",
       "        vertical-align: top;\n",
       "    }\n",
       "\n",
       "    .dataframe thead th {\n",
       "        text-align: right;\n",
       "    }\n",
       "</style>\n",
       "<table border=\"1\" class=\"dataframe\">\n",
       "  <thead>\n",
       "    <tr style=\"text-align: right;\">\n",
       "      <th></th>\n",
       "      <th>DATE</th>\n",
       "      <th>GU_NM</th>\n",
       "      <th>GU_CD</th>\n",
       "      <th>DONG_CD</th>\n",
       "      <th>AMT_IND</th>\n",
       "      <th>LCLS_10_P</th>\n",
       "      <th>LCLS_20_P</th>\n",
       "      <th>LCLS_30_P</th>\n",
       "      <th>LCLS_40_P</th>\n",
       "      <th>LCLS_50_P</th>\n",
       "      <th>LCLS_60_P</th>\n",
       "      <th>LCLS_70_P</th>\n",
       "      <th>LCLS_80_P</th>\n",
       "      <th>pm10</th>\n",
       "      <th>pm25</th>\n",
       "      <th>CONTENT</th>\n",
       "    </tr>\n",
       "  </thead>\n",
       "  <tbody>\n",
       "    <tr>\n",
       "      <th>0</th>\n",
       "      <td>20180401</td>\n",
       "      <td>노원구</td>\n",
       "      <td>1135.0</td>\n",
       "      <td>1.135063e+07</td>\n",
       "      <td>1.015272e+06</td>\n",
       "      <td>303997.857907</td>\n",
       "      <td>244945.230841</td>\n",
       "      <td>374931.325650</td>\n",
       "      <td>24240.817354</td>\n",
       "      <td>46787.781756</td>\n",
       "      <td>5417.837281</td>\n",
       "      <td>8331.826061</td>\n",
       "      <td>6619.375782</td>\n",
       "      <td>68.328472</td>\n",
       "      <td>35.256944</td>\n",
       "      <td>515</td>\n",
       "    </tr>\n",
       "    <tr>\n",
       "      <th>1</th>\n",
       "      <td>20180401</td>\n",
       "      <td>종로구</td>\n",
       "      <td>1111.0</td>\n",
       "      <td>1.111061e+07</td>\n",
       "      <td>1.025086e+06</td>\n",
       "      <td>313276.538395</td>\n",
       "      <td>229183.959785</td>\n",
       "      <td>352516.787803</td>\n",
       "      <td>33958.016953</td>\n",
       "      <td>68124.213224</td>\n",
       "      <td>10029.373692</td>\n",
       "      <td>15065.768480</td>\n",
       "      <td>4995.495591</td>\n",
       "      <td>84.070139</td>\n",
       "      <td>43.877083</td>\n",
       "      <td>515</td>\n",
       "    </tr>\n",
       "    <tr>\n",
       "      <th>2</th>\n",
       "      <td>20180402</td>\n",
       "      <td>노원구</td>\n",
       "      <td>1135.0</td>\n",
       "      <td>1.135063e+07</td>\n",
       "      <td>9.723019e+05</td>\n",
       "      <td>305187.743930</td>\n",
       "      <td>214107.366656</td>\n",
       "      <td>364347.033954</td>\n",
       "      <td>27224.989569</td>\n",
       "      <td>38527.090847</td>\n",
       "      <td>5044.221908</td>\n",
       "      <td>9985.350939</td>\n",
       "      <td>8876.293641</td>\n",
       "      <td>72.005556</td>\n",
       "      <td>29.909028</td>\n",
       "      <td>888</td>\n",
       "    </tr>\n",
       "    <tr>\n",
       "      <th>3</th>\n",
       "      <td>20180402</td>\n",
       "      <td>종로구</td>\n",
       "      <td>1111.0</td>\n",
       "      <td>1.111061e+07</td>\n",
       "      <td>1.129802e+06</td>\n",
       "      <td>350186.823236</td>\n",
       "      <td>221498.911270</td>\n",
       "      <td>426442.127119</td>\n",
       "      <td>39956.697134</td>\n",
       "      <td>66428.244772</td>\n",
       "      <td>9316.849827</td>\n",
       "      <td>15306.177645</td>\n",
       "      <td>3638.706671</td>\n",
       "      <td>72.274306</td>\n",
       "      <td>30.051389</td>\n",
       "      <td>888</td>\n",
       "    </tr>\n",
       "    <tr>\n",
       "      <th>4</th>\n",
       "      <td>20180403</td>\n",
       "      <td>노원구</td>\n",
       "      <td>1135.0</td>\n",
       "      <td>1.135063e+07</td>\n",
       "      <td>9.493711e+05</td>\n",
       "      <td>309591.493097</td>\n",
       "      <td>212932.574189</td>\n",
       "      <td>351559.668716</td>\n",
       "      <td>20892.360423</td>\n",
       "      <td>36532.561026</td>\n",
       "      <td>6065.621221</td>\n",
       "      <td>7723.334973</td>\n",
       "      <td>4392.682208</td>\n",
       "      <td>72.838194</td>\n",
       "      <td>24.295833</td>\n",
       "      <td>856</td>\n",
       "    </tr>\n",
       "  </tbody>\n",
       "</table>\n",
       "</div>"
      ],
      "text/plain": [
       "       DATE GU_NM   GU_CD       DONG_CD       AMT_IND      LCLS_10_P  \\\n",
       "0  20180401   노원구  1135.0  1.135063e+07  1.015272e+06  303997.857907   \n",
       "1  20180401   종로구  1111.0  1.111061e+07  1.025086e+06  313276.538395   \n",
       "2  20180402   노원구  1135.0  1.135063e+07  9.723019e+05  305187.743930   \n",
       "3  20180402   종로구  1111.0  1.111061e+07  1.129802e+06  350186.823236   \n",
       "4  20180403   노원구  1135.0  1.135063e+07  9.493711e+05  309591.493097   \n",
       "\n",
       "       LCLS_20_P      LCLS_30_P     LCLS_40_P     LCLS_50_P     LCLS_60_P  \\\n",
       "0  244945.230841  374931.325650  24240.817354  46787.781756   5417.837281   \n",
       "1  229183.959785  352516.787803  33958.016953  68124.213224  10029.373692   \n",
       "2  214107.366656  364347.033954  27224.989569  38527.090847   5044.221908   \n",
       "3  221498.911270  426442.127119  39956.697134  66428.244772   9316.849827   \n",
       "4  212932.574189  351559.668716  20892.360423  36532.561026   6065.621221   \n",
       "\n",
       "      LCLS_70_P    LCLS_80_P       pm10       pm25  CONTENT  \n",
       "0   8331.826061  6619.375782  68.328472  35.256944      515  \n",
       "1  15065.768480  4995.495591  84.070139  43.877083      515  \n",
       "2   9985.350939  8876.293641  72.005556  29.909028      888  \n",
       "3  15306.177645  3638.706671  72.274306  30.051389      888  \n",
       "4   7723.334973  4392.682208  72.838194  24.295833      856  "
      ]
     },
     "execution_count": 38,
     "metadata": {},
     "output_type": "execute_result"
    }
   ],
   "source": [
    "df_total.head()"
   ]
  },
  {
   "cell_type": "code",
   "execution_count": 39,
   "metadata": {},
   "outputs": [
    {
     "data": {
      "text/plain": [
       "(730, 16)"
      ]
     },
     "execution_count": 39,
     "metadata": {},
     "output_type": "execute_result"
    }
   ],
   "source": [
    "df_total.shape"
   ]
  },
  {
   "cell_type": "markdown",
   "metadata": {},
   "source": [
    "# 정리\n",
    "* 미세먼지와 GS유통데이터와 유의미한 상관관계는 없다."
   ]
  },
  {
   "cell_type": "markdown",
   "metadata": {},
   "source": [
    "# 매출상위 체크-종로구"
   ]
  },
  {
   "cell_type": "code",
   "execution_count": 52,
   "metadata": {},
   "outputs": [],
   "source": [
    "df_top = df_total.groupby('GU_NM').sum()[['LCLS_10_P', 'LCLS_20_P','LCLS_30_P','LCLS_40_P','LCLS_50_P','LCLS_60_P','LCLS_70_P','LCLS_80_P']].T"
   ]
  },
  {
   "cell_type": "code",
   "execution_count": 66,
   "metadata": {
    "scrolled": false
   },
   "outputs": [],
   "source": [
    "df_top = df_top.sort_values(by='종로구')"
   ]
  },
  {
   "cell_type": "code",
   "execution_count": 57,
   "metadata": {},
   "outputs": [],
   "source": [
    "name_dict = {'LCLS_10_P':'식사매출','LCLS_20_P':'간식매출',\n",
    "            'LCLS_30_P':'마실거리매출','LCLS_40_P':'홈리빙매출',\n",
    "            'LCLS_50_P':'헬스뷰티매출','LCLS_60_P':'취미여가매출',\n",
    "            'LCLS_70_P':'사회매출','LCLS_80_P':'임신육아매출',\n",
    "            'LCLS_90_P':'기호품매출',}"
   ]
  },
  {
   "cell_type": "code",
   "execution_count": 67,
   "metadata": {},
   "outputs": [],
   "source": [
    "index_list = [name_dict[i] for i in df_top.index]"
   ]
  },
  {
   "cell_type": "code",
   "execution_count": 68,
   "metadata": {},
   "outputs": [
    {
     "data": {
      "text/plain": [
       "['임신육아매출', '취미여가매출', '사회매출', '홈리빙매출', '헬스뷰티매출', '간식매출', '식사매출', '마실거리매출']"
      ]
     },
     "execution_count": 68,
     "metadata": {},
     "output_type": "execute_result"
    }
   ],
   "source": [
    "index_list"
   ]
  },
  {
   "cell_type": "code",
   "execution_count": 69,
   "metadata": {},
   "outputs": [],
   "source": [
    "df_top.index = index_list"
   ]
  },
  {
   "cell_type": "code",
   "execution_count": 73,
   "metadata": {},
   "outputs": [
    {
     "data": {
      "text/plain": [
       "<BarContainer object of 8 artists>"
      ]
     },
     "execution_count": 73,
     "metadata": {},
     "output_type": "execute_result"
    },
    {
     "data": {
      "image/png": "[encoded data removed]",
      "text/plain": [
       "<Figure size 864x432 with 1 Axes>"
      ]
     },
     "metadata": {
      "needs_background": "light"
     },
     "output_type": "display_data"
    }
   ],
   "source": [
    "plt.figure(figsize=(12,6))\n",
    "plt.bar(df_top.index, df_top['종로구'])"
   ]
  },
  {
   "cell_type": "markdown",
   "metadata": {},
   "source": [
    "# plot by time-JongRo"
   ]
  },
  {
   "cell_type": "code",
   "execution_count": 74,
   "metadata": {},
   "outputs": [],
   "source": [
    "df_total_jongro = df_total.iloc[np.where(df_total.GU_NM=='종로구')[0]]"
   ]
  },
  {
   "cell_type": "code",
   "execution_count": 75,
   "metadata": {},
   "outputs": [],
   "source": [
    "dateIdx = pd.date_range('2018-04-01', '2019-03-31')\n",
    "\n",
    "df_total_jongro.index = dateIdx"
   ]
  },
  {
   "cell_type": "code",
   "execution_count": 81,
   "metadata": {},
   "outputs": [
    {
     "name": "stderr",
     "output_type": "stream",
     "text": [
      "C:\\Users\\JuhoSon\\Miniconda3\\envs\\2019BigC\\lib\\site-packages\\pandas\\core\\frame.py:3940: SettingWithCopyWarning: \n",
      "A value is trying to be set on a copy of a slice from a DataFrame\n",
      "\n",
      "See the caveats in the documentation: http://pandas.pydata.org/pandas-docs/stable/indexing.html#indexing-view-versus-copy\n",
      "  errors=errors)\n"
     ]
    }
   ],
   "source": [
    "drop_cols = [\n",
    "    'DATE', 'GU_NM',\n",
    "    'GU_CD', 'DONG_CD', 'AMT_IND']\n",
    "df_total_jongro.drop(drop_cols, inplace=True, axis=1)"
   ]
  },
  {
   "cell_type": "code",
   "execution_count": 99,
   "metadata": {},
   "outputs": [
    {
     "data": {
      "text/plain": [
       "Index(['LCLS_10_P', 'LCLS_20_P', 'LCLS_30_P', 'LCLS_40_P', 'LCLS_50_P',\n",
       "       'LCLS_60_P', 'LCLS_70_P', 'LCLS_80_P', 'pm10', 'pm25', 'CONTENT'],\n",
       "      dtype='object')"
      ]
     },
     "execution_count": 99,
     "metadata": {},
     "output_type": "execute_result"
    }
   ],
   "source": [
    "df_total_jongro.columns"
   ]
  },
  {
   "cell_type": "code",
   "execution_count": 100,
   "metadata": {},
   "outputs": [],
   "source": [
    "df_total_jongro.columns = ['식사매출', '간식매출',\n",
    "                           '마실거리매출','홈리빙매출',\n",
    "                           '헬스뷰티매출', '취미여가활동매출',\n",
    "                           '사회매출', '임신/육아매출',\n",
    "                            '미세먼지',\n",
    "                           '초미세먼지', '뉴스건수']"
   ]
  },
  {
   "cell_type": "markdown",
   "metadata": {},
   "source": [
    "### April"
   ]
  },
  {
   "cell_type": "code",
   "execution_count": 102,
   "metadata": {},
   "outputs": [],
   "source": [
    "march_idx = pd.date_range('2018-04-01', '2018-04-30')\n",
    "time_4 = df_total_jongro.loc[march_idx]"
   ]
  },
  {
   "cell_type": "code",
   "execution_count": 103,
   "metadata": {},
   "outputs": [],
   "source": [
    "# 필요한 패키지와 라이브러리를 가져옴\n",
    "import matplotlib as mpl\n",
    "import matplotlib.pyplot as plt\n",
    "import matplotlib.font_manager as fm\n",
    "path = 'C:\\\\Users\\\\JuhoSon\\\\AppData\\\\Local\\\\Microsoft\\\\Windows\\\\Fonts\\\\NanumGothicCoding-Bold.ttf'\n",
    "font_name = fm.FontProperties(fname=path, size=50).get_name()\n",
    "plt.rc('font', family=font_name)"
   ]
  },
  {
   "cell_type": "code",
   "execution_count": 104,
   "metadata": {},
   "outputs": [
    {
     "data": {
      "text/plain": [
       "<matplotlib.legend.Legend at 0x21f57eebe10>"
      ]
     },
     "execution_count": 104,
     "metadata": {},
     "output_type": "execute_result"
    },
    {
     "data": {
      "image/png": "[encoded data removed]",
      "text/plain": [
       "<Figure size 1296x432 with 1 Axes>"
      ]
     },
     "metadata": {
      "needs_background": "light"
     },
     "output_type": "display_data"
    }
   ],
   "source": [
    "plt.figure(figsize=(18,6))\n",
    "plt.plot(time_4.index, time_4)\n",
    "plt.legend(time_4.columns)"
   ]
  },
  {
   "cell_type": "code",
   "execution_count": 105,
   "metadata": {},
   "outputs": [],
   "source": [
    "df_viz = time_4"
   ]
  },
  {
   "cell_type": "code",
   "execution_count": 106,
   "metadata": {},
   "outputs": [],
   "source": [
    "top_list = ['마실거리매출', '식사매출', '간식매출']"
   ]
  },
  {
   "cell_type": "code",
   "execution_count": 109,
   "metadata": {},
   "outputs": [
    {
     "data": {
      "text/plain": [
       "<matplotlib.legend.Legend at 0x21f58f359b0>"
      ]
     },
     "execution_count": 109,
     "metadata": {},
     "output_type": "execute_result"
    },
    {
     "data": {
      "image/png": "[encoded data removed]",
      "text/plain": [
       "<Figure size 1296x432 with 1 Axes>"
      ]
     },
     "metadata": {
      "needs_background": "light"
     },
     "output_type": "display_data"
    }
   ],
   "source": [
    "plt.figure(figsize=(18,6))\n",
    "plt.plot(df_viz.index, df_viz[top_list])\n",
    "plt.legend(top_list)\n",
    "# plt.xticks(df_viz.USE_AMT.values)"
   ]
  },
  {
   "cell_type": "code",
   "execution_count": 113,
   "metadata": {},
   "outputs": [],
   "source": [
    "else_cols = ['헬스뷰티매출', \n",
    "             '홈리빙매출',\n",
    "            '사회매출',\n",
    "            '취미여가활동매출',\n",
    "             '임신/육아매출'\n",
    "            ]"
   ]
  },
  {
   "cell_type": "code",
   "execution_count": 114,
   "metadata": {
    "scrolled": false
   },
   "outputs": [
    {
     "data": {
      "text/plain": [
       "Text(0, 0.5, '매출금액')"
      ]
     },
     "execution_count": 114,
     "metadata": {},
     "output_type": "execute_result"
    },
    {
     "data": {
      "image/png": "[encoded data removed]",
      "text/plain": [
       "<Figure size 1296x432 with 1 Axes>"
      ]
     },
     "metadata": {
      "needs_background": "light"
     },
     "output_type": "display_data"
    }
   ],
   "source": [
    "plt.figure(figsize=(18,6))\n",
    "plt.plot(time_4.index, time_4[else_cols])\n",
    "plt.legend(else_cols)\n",
    "plt.title('매출추이')\n",
    "plt.xlabel('년월일')\n",
    "plt.ylabel('매출금액')"
   ]
  },
  {
   "cell_type": "markdown",
   "metadata": {},
   "source": [
    "# 매출상위 체크-노원구"
   ]
  },
  {
   "cell_type": "code",
   "execution_count": 121,
   "metadata": {},
   "outputs": [],
   "source": [
    "df_top_nowon = df_total.groupby('GU_NM').sum()[['LCLS_10_P', 'LCLS_20_P','LCLS_30_P','LCLS_40_P','LCLS_50_P','LCLS_60_P','LCLS_70_P','LCLS_80_P']].T"
   ]
  },
  {
   "cell_type": "code",
   "execution_count": 122,
   "metadata": {
    "scrolled": false
   },
   "outputs": [],
   "source": [
    "df_top_nowon = df_top_nowon.sort_values(by='노원구')"
   ]
  },
  {
   "cell_type": "code",
   "execution_count": 123,
   "metadata": {},
   "outputs": [],
   "source": [
    "name_dict = {'LCLS_10_P':'식사매출','LCLS_20_P':'간식매출',\n",
    "            'LCLS_30_P':'마실거리매출','LCLS_40_P':'홈리빙매출',\n",
    "            'LCLS_50_P':'헬스뷰티매출','LCLS_60_P':'취미여가매출',\n",
    "            'LCLS_70_P':'사회매출','LCLS_80_P':'임신/육아매출',\n",
    "            'LCLS_90_P':'기호품매출',}"
   ]
  },
  {
   "cell_type": "code",
   "execution_count": 124,
   "metadata": {},
   "outputs": [],
   "source": [
    "index_list = [name_dict[i] for i in df_top_nowon.index]"
   ]
  },
  {
   "cell_type": "code",
   "execution_count": 125,
   "metadata": {},
   "outputs": [
    {
     "data": {
      "text/plain": [
       "['임신/육아매출', '취미여가매출', '사회매출', '홈리빙매출', '헬스뷰티매출', '간식매출', '식사매출', '마실거리매출']"
      ]
     },
     "execution_count": 125,
     "metadata": {},
     "output_type": "execute_result"
    }
   ],
   "source": [
    "index_list"
   ]
  },
  {
   "cell_type": "code",
   "execution_count": 128,
   "metadata": {},
   "outputs": [],
   "source": [
    "df_top_nowon.index = index_list"
   ]
  },
  {
   "cell_type": "code",
   "execution_count": 130,
   "metadata": {},
   "outputs": [
    {
     "data": {
      "text/plain": [
       "<BarContainer object of 8 artists>"
      ]
     },
     "execution_count": 130,
     "metadata": {},
     "output_type": "execute_result"
    },
    {
     "data": {
      "image/png": "[encoded data removed]",
      "text/plain": [
       "<Figure size 864x432 with 1 Axes>"
      ]
     },
     "metadata": {
      "needs_background": "light"
     },
     "output_type": "display_data"
    }
   ],
   "source": [
    "plt.figure(figsize=(12,6))\n",
    "plt.bar(df_top_nowon.index, df_top_nowon['노원구'])"
   ]
  },
  {
   "cell_type": "markdown",
   "metadata": {},
   "source": [
    "# plot by time-NoWon"
   ]
  },
  {
   "cell_type": "code",
   "execution_count": 131,
   "metadata": {},
   "outputs": [],
   "source": [
    "df_total_nowon = df_total.iloc[np.where(df_total.GU_NM=='노원구')[0]]"
   ]
  },
  {
   "cell_type": "code",
   "execution_count": 132,
   "metadata": {},
   "outputs": [],
   "source": [
    "dateIdx = pd.date_range('2018-04-01', '2019-03-31')\n",
    "\n",
    "df_total_nowon.index = dateIdx"
   ]
  },
  {
   "cell_type": "code",
   "execution_count": 133,
   "metadata": {},
   "outputs": [
    {
     "name": "stderr",
     "output_type": "stream",
     "text": [
      "C:\\Users\\JuhoSon\\Miniconda3\\envs\\2019BigC\\lib\\site-packages\\pandas\\core\\frame.py:3940: SettingWithCopyWarning: \n",
      "A value is trying to be set on a copy of a slice from a DataFrame\n",
      "\n",
      "See the caveats in the documentation: http://pandas.pydata.org/pandas-docs/stable/indexing.html#indexing-view-versus-copy\n",
      "  errors=errors)\n"
     ]
    }
   ],
   "source": [
    "drop_cols = [\n",
    "    'DATE', 'GU_NM',\n",
    "    'GU_CD', 'DONG_CD', 'AMT_IND']\n",
    "df_total_nowon.drop(drop_cols, inplace=True, axis=1)"
   ]
  },
  {
   "cell_type": "code",
   "execution_count": 134,
   "metadata": {},
   "outputs": [
    {
     "data": {
      "text/plain": [
       "Index(['LCLS_10_P', 'LCLS_20_P', 'LCLS_30_P', 'LCLS_40_P', 'LCLS_50_P',\n",
       "       'LCLS_60_P', 'LCLS_70_P', 'LCLS_80_P', 'pm10', 'pm25', 'CONTENT'],\n",
       "      dtype='object')"
      ]
     },
     "execution_count": 134,
     "metadata": {},
     "output_type": "execute_result"
    }
   ],
   "source": [
    "df_total_nowon.columns"
   ]
  },
  {
   "cell_type": "code",
   "execution_count": 135,
   "metadata": {},
   "outputs": [],
   "source": [
    "df_total_nowon.columns = ['식사매출', '간식매출',\n",
    "                           '마실거리매출','홈리빙매출',\n",
    "                           '헬스뷰티매출', '취미여가활동매출',\n",
    "                           '사회매출', '임신/육아매출',\n",
    "                            '미세먼지',\n",
    "                           '초미세먼지', '뉴스건수']"
   ]
  },
  {
   "cell_type": "markdown",
   "metadata": {},
   "source": [
    "### April"
   ]
  },
  {
   "cell_type": "code",
   "execution_count": 136,
   "metadata": {},
   "outputs": [],
   "source": [
    "march_idx = pd.date_range('2018-04-01', '2018-04-30')\n",
    "time_4_nowon = df_total_nowon.loc[march_idx]"
   ]
  },
  {
   "cell_type": "code",
   "execution_count": 137,
   "metadata": {},
   "outputs": [],
   "source": [
    "# 필요한 패키지와 라이브러리를 가져옴\n",
    "import matplotlib as mpl\n",
    "import matplotlib.pyplot as plt\n",
    "import matplotlib.font_manager as fm\n",
    "path = 'C:\\\\Users\\\\JuhoSon\\\\AppData\\\\Local\\\\Microsoft\\\\Windows\\\\Fonts\\\\NanumGothicCoding-Bold.ttf'\n",
    "font_name = fm.FontProperties(fname=path, size=50).get_name()\n",
    "plt.rc('font', family=font_name)"
   ]
  },
  {
   "cell_type": "code",
   "execution_count": 138,
   "metadata": {},
   "outputs": [
    {
     "data": {
      "text/plain": [
       "<matplotlib.legend.Legend at 0x21f578a3b70>"
      ]
     },
     "execution_count": 138,
     "metadata": {},
     "output_type": "execute_result"
    },
    {
     "data": {
      "image/png": "[encoded data removed]",
      "text/plain": [
       "<Figure size 1296x432 with 1 Axes>"
      ]
     },
     "metadata": {
      "needs_background": "light"
     },
     "output_type": "display_data"
    }
   ],
   "source": [
    "plt.figure(figsize=(18,6))\n",
    "plt.plot(time_4_nowon.index, time_4_nowon)\n",
    "plt.legend(time_4_nowon.columns)"
   ]
  },
  {
   "cell_type": "code",
   "execution_count": 139,
   "metadata": {},
   "outputs": [],
   "source": [
    "df_viz_nowon = time_4_nowon"
   ]
  },
  {
   "cell_type": "code",
   "execution_count": 140,
   "metadata": {},
   "outputs": [],
   "source": [
    "top_list = ['마실거리매출', '식사매출', '간식매출']"
   ]
  },
  {
   "cell_type": "code",
   "execution_count": 141,
   "metadata": {},
   "outputs": [
    {
     "data": {
      "text/plain": [
       "<matplotlib.legend.Legend at 0x21f57cd4550>"
      ]
     },
     "execution_count": 141,
     "metadata": {},
     "output_type": "execute_result"
    },
    {
     "data": {
      "image/png": "[encoded data removed]",
      "text/plain": [
       "<Figure size 1296x432 with 1 Axes>"
      ]
     },
     "metadata": {
      "needs_background": "light"
     },
     "output_type": "display_data"
    }
   ],
   "source": [
    "plt.figure(figsize=(18,6))\n",
    "plt.plot(df_viz_nowon.index, df_viz_nowon[top_list])\n",
    "plt.legend(top_list)\n",
    "# plt.xticks(df_viz.USE_AMT.values)"
   ]
  },
  {
   "cell_type": "code",
   "execution_count": 142,
   "metadata": {},
   "outputs": [],
   "source": [
    "else_cols = ['헬스뷰티매출', \n",
    "             '홈리빙매출',\n",
    "            '사회매출',\n",
    "            '취미여가활동매출',\n",
    "             '임신/육아매출'\n",
    "            ]"
   ]
  },
  {
   "cell_type": "code",
   "execution_count": 143,
   "metadata": {
    "scrolled": false
   },
   "outputs": [
    {
     "data": {
      "text/plain": [
       "Text(0, 0.5, '매출금액')"
      ]
     },
     "execution_count": 143,
     "metadata": {},
     "output_type": "execute_result"
    },
    {
     "data": {
      "image/png": "[encoded data removed]",
      "text/plain": [
       "<Figure size 1296x432 with 1 Axes>"
      ]
     },
     "metadata": {
      "needs_background": "light"
     },
     "output_type": "display_data"
    }
   ],
   "source": [
    "plt.figure(figsize=(18,6))\n",
    "plt.plot(time_4_nowon.index, time_4_nowon[else_cols])\n",
    "plt.legend(else_cols)\n",
    "plt.title('매출추이')\n",
    "plt.xlabel('년월일')\n",
    "plt.ylabel('매출금액')"
   ]
  },
  {
   "cell_type": "markdown",
   "metadata": {},
   "source": [
    "# 1차 Merge 190812월"
   ]
  },
  {
   "cell_type": "code",
   "execution_count": 31,
   "metadata": {},
   "outputs": [],
   "source": [
    "df_gs = df_gs_total.groupby('DATE').sum()[['LCLS_10_P', 'LCLS_20_P', 'LCLS_30_P', 'LCLS_40_P', \n",
    "                               'LCLS_50_P', 'LCLS_60_P', 'LCLS_70_P', 'LCLS_80_P', ]].reset_index()\n",
    "df_gs.to_csv('./data/innovation/df_gs.csv', index=False)"
   ]
  },
  {
   "cell_type": "markdown",
   "metadata": {},
   "source": [
    "# 2차 Merge 190813 화. 노원구만"
   ]
  },
  {
   "cell_type": "code",
   "execution_count": 40,
   "metadata": {},
   "outputs": [],
   "source": [
    "df_gs = df_gs_total.groupby(['DATE', 'GU_NM']).sum()"
   ]
  },
  {
   "cell_type": "code",
   "execution_count": 41,
   "metadata": {},
   "outputs": [],
   "source": [
    "nowon_idx = [(df_gs.index[i][0], '노원구') for i in range(len(df_gs)) if i % 2 ==0]"
   ]
  },
  {
   "cell_type": "code",
   "execution_count": 42,
   "metadata": {},
   "outputs": [],
   "source": [
    "df_gs = df_gs.loc[nowon_idx]"
   ]
  },
  {
   "cell_type": "code",
   "execution_count": 43,
   "metadata": {},
   "outputs": [],
   "source": [
    "df_gs = df_gs.unstack()"
   ]
  },
  {
   "cell_type": "code",
   "execution_count": 45,
   "metadata": {
    "scrolled": true
   },
   "outputs": [],
   "source": [
    "df_gs = df_gs[['LCLS_10_P', 'LCLS_20_P', 'LCLS_30_P', 'LCLS_40_P', \n",
    "                               'LCLS_50_P', 'LCLS_60_P', 'LCLS_70_P', 'LCLS_80_P', ]]"
   ]
  },
  {
   "cell_type": "code",
   "execution_count": 47,
   "metadata": {},
   "outputs": [],
   "source": [
    "df_gs.columns=['LCLS_10_P', 'LCLS_20_P', 'LCLS_30_P', 'LCLS_40_P', \n",
    "                               'LCLS_50_P', 'LCLS_60_P', 'LCLS_70_P', 'LCLS_80_P', ]"
   ]
  },
  {
   "cell_type": "code",
   "execution_count": 49,
   "metadata": {},
   "outputs": [],
   "source": [
    "df_gs.to_csv('./data/innovation/create/df_gs_nowon.csv',index=False)"
   ]
  },
  {
   "cell_type": "code",
   "execution_count": null,
   "metadata": {},
   "outputs": [],
   "source": []
  }
 ],
 "metadata": {
  "kernelspec": {
   "display_name": "2019BigC",
   "language": "python",
   "name": "2019bigc"
  },
  "language_info": {
   "codemirror_mode": {
    "name": "ipython",
    "version": 3
   },
   "file_extension": ".py",
   "mimetype": "text/x-python",
   "name": "python",
   "nbconvert_exporter": "python",
   "pygments_lexer": "ipython3",
   "version": "3.7.3"
  }
 },
 "nbformat": 4,
 "nbformat_minor": 2
}

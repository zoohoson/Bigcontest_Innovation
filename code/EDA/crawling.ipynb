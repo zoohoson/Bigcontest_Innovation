{
 "cells": [
  {
   "cell_type": "code",
   "execution_count": null,
   "metadata": {},
   "outputs": [],
   "source": [
    "import pandas as pd\n",
    "from datetime import datetime, timedelta\n",
    "import requests\n",
    "from bs4 import BeautifulSoup\n",
    "from pandas import DataFrame, Series\n",
    "\n",
    "# set_date\n",
    "\n",
    "start_date=datetime(2018, 4, 1)\n",
    "date_list = [(start_date+timedelta(days=i)).strftime('20%y.%m.%d') for i in range(365)]\n",
    "\n",
    "# get_contents\n",
    "\n",
    "news_list=[]\n",
    "for i in date_list:\n",
    "    url = 'https://search.naver.com/search.naver?where=news&query=미세먼지&sm=tab_opt&sort=0&photo=0&field=0&reporter_article=&pd=3&ds='+i+'&de='+i+'&docid=&nso=so%3Ar%2Cp%3Afrom'+i.replace('.','')+'to'+i.replace('.','')+'%2Ca%3Aall&mynews=0&refresh_start=0&related=0'\n",
    "    res = requests.get(url)\n",
    "    text = res.text\n",
    "    soup = BeautifulSoup(text, 'html.parser')\n",
    "    news_list.append(soup.select(\"#main_pack > div.news.mynews.section._prs_nws > div.section_head > div.title_desc.all_my > span\")[0].text)\n",
    "\n",
    "# extract_number\n",
    "\n",
    "news_list = [i[7:].replace('건','').replace(',','') for i in news_list]\n",
    "\n",
    "df_news = pd.DataFrame(data=news_list, index=pd.date_range('2018-04-01', '2019-03-31'), columns=['CONTENT'])"
   ]
  },
  {
   "cell_type": "code",
   "execution_count": 68,
   "metadata": {},
   "outputs": [],
   "source": [
    "df_news.to_csv('./data/innovation/create/df_naver_news.csv', index=False)"
   ]
  },
  {
   "cell_type": "code",
   "execution_count": 131,
   "metadata": {},
   "outputs": [],
   "source": [
    "df_sns = pd.read_csv('./data/innovation/df_news.csv')\n",
    "\n",
    "df_sns.set_index(pd.date_range('2018-04-01', '2019-03-31'), inplace=True)\n",
    "\n",
    "df_sns.drop('DATE', axis=1, inplace=True)\n",
    "\n",
    "df_total = df_sns.merge(df_news, on=df_sns.index).rename(columns={'CONTENT_x':'sns', 'CONTENT_y':'naver', 'key_0':'DATE'}).set_index('DATE')\n",
    "\n",
    "df_total.corr(method='pearson')"
   ]
  },
  {
   "cell_type": "code",
   "execution_count": 128,
   "metadata": {},
   "outputs": [
    {
     "data": {
      "text/html": [
       "<div>\n",
       "<style scoped>\n",
       "    .dataframe tbody tr th:only-of-type {\n",
       "        vertical-align: middle;\n",
       "    }\n",
       "\n",
       "    .dataframe tbody tr th {\n",
       "        vertical-align: top;\n",
       "    }\n",
       "\n",
       "    .dataframe thead th {\n",
       "        text-align: right;\n",
       "    }\n",
       "</style>\n",
       "<table border=\"1\" class=\"dataframe\">\n",
       "  <thead>\n",
       "    <tr style=\"text-align: right;\">\n",
       "      <th></th>\n",
       "      <th>sns</th>\n",
       "    </tr>\n",
       "  </thead>\n",
       "  <tbody>\n",
       "    <tr>\n",
       "      <th>sns</th>\n",
       "      <td>1.0</td>\n",
       "    </tr>\n",
       "  </tbody>\n",
       "</table>\n",
       "</div>"
      ],
      "text/plain": [
       "     sns\n",
       "sns  1.0"
      ]
     },
     "execution_count": 128,
     "metadata": {},
     "output_type": "execute_result"
    }
   ],
   "source": [
    "df_sns.reset_index().drop('DATE', axis=1).corr()"
   ]
  },
  {
   "cell_type": "code",
   "execution_count": null,
   "metadata": {},
   "outputs": [],
   "source": []
  }
 ],
 "metadata": {
  "kernelspec": {
   "display_name": "BIS",
   "language": "python",
   "name": "study"
  },
  "language_info": {
   "codemirror_mode": {
    "name": "ipython",
    "version": 3
   },
   "file_extension": ".py",
   "mimetype": "text/x-python",
   "name": "python",
   "nbconvert_exporter": "python",
   "pygments_lexer": "ipython3",
   "version": "3.7.7"
  }
 },
 "nbformat": 4,
 "nbformat_minor": 2
}

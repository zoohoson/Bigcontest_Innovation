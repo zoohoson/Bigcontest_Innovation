{
 "cells": [
  {
   "cell_type": "code",
   "execution_count": 1,
   "metadata": {},
   "outputs": [],
   "source": [
    "import pandas as pd\n",
    "import numpy as np\n",
    "import matplotlib.pyplot as plt"
   ]
  },
  {
   "cell_type": "code",
   "execution_count": 2,
   "metadata": {},
   "outputs": [],
   "source": [
    "total = pd.read_csv('./data/innovation/df_gu_total.csv')"
   ]
  },
  {
   "cell_type": "code",
   "execution_count": 126,
   "metadata": {},
   "outputs": [
    {
     "data": {
      "text/html": [
       "<div>\n",
       "<style scoped>\n",
       "    .dataframe tbody tr th:only-of-type {\n",
       "        vertical-align: middle;\n",
       "    }\n",
       "\n",
       "    .dataframe tbody tr th {\n",
       "        vertical-align: top;\n",
       "    }\n",
       "\n",
       "    .dataframe thead th {\n",
       "        text-align: right;\n",
       "    }\n",
       "</style>\n",
       "<table border=\"1\" class=\"dataframe\">\n",
       "  <thead>\n",
       "    <tr style=\"text-align: right;\">\n",
       "      <th></th>\n",
       "      <th>DATE</th>\n",
       "      <th>GU_NM</th>\n",
       "      <th>레저_USE_AMT</th>\n",
       "      <th>문화취미_USE_AMT</th>\n",
       "      <th>가구_USE_AMT</th>\n",
       "      <th>전기_USE_AMT</th>\n",
       "      <th>주방_USE_AMT</th>\n",
       "      <th>연료_USE_AMT</th>\n",
       "      <th>광학_USE_AMT</th>\n",
       "      <th>가전_USE_AMT</th>\n",
       "      <th>...</th>\n",
       "      <th>LCLS_20_P</th>\n",
       "      <th>LCLS_30_P</th>\n",
       "      <th>LCLS_40_P</th>\n",
       "      <th>LCLS_50_P</th>\n",
       "      <th>LCLS_60_P</th>\n",
       "      <th>LCLS_70_P</th>\n",
       "      <th>LCLS_80_P</th>\n",
       "      <th>pm10</th>\n",
       "      <th>pm25</th>\n",
       "      <th>CONTENT</th>\n",
       "    </tr>\n",
       "  </thead>\n",
       "  <tbody>\n",
       "    <tr>\n",
       "      <th>0</th>\n",
       "      <td>20180401</td>\n",
       "      <td>노원구</td>\n",
       "      <td>38739.0</td>\n",
       "      <td>40507.0</td>\n",
       "      <td>21890.0</td>\n",
       "      <td>NaN</td>\n",
       "      <td>2885.0</td>\n",
       "      <td>364300.0</td>\n",
       "      <td>13812.0</td>\n",
       "      <td>145154.0</td>\n",
       "      <td>...</td>\n",
       "      <td>244945.230841</td>\n",
       "      <td>374931.325650</td>\n",
       "      <td>24240.817354</td>\n",
       "      <td>46787.781756</td>\n",
       "      <td>5417.837281</td>\n",
       "      <td>8331.826061</td>\n",
       "      <td>6619.375782</td>\n",
       "      <td>68.328472</td>\n",
       "      <td>35.256944</td>\n",
       "      <td>515</td>\n",
       "    </tr>\n",
       "    <tr>\n",
       "      <th>1</th>\n",
       "      <td>20180401</td>\n",
       "      <td>종로구</td>\n",
       "      <td>18134.0</td>\n",
       "      <td>70755.0</td>\n",
       "      <td>NaN</td>\n",
       "      <td>48.0</td>\n",
       "      <td>1974.0</td>\n",
       "      <td>21652.0</td>\n",
       "      <td>6411.0</td>\n",
       "      <td>5655.0</td>\n",
       "      <td>...</td>\n",
       "      <td>229183.959785</td>\n",
       "      <td>352516.787803</td>\n",
       "      <td>33958.016953</td>\n",
       "      <td>68124.213224</td>\n",
       "      <td>10029.373692</td>\n",
       "      <td>15065.768480</td>\n",
       "      <td>4995.495591</td>\n",
       "      <td>84.070139</td>\n",
       "      <td>43.877083</td>\n",
       "      <td>515</td>\n",
       "    </tr>\n",
       "    <tr>\n",
       "      <th>2</th>\n",
       "      <td>20180402</td>\n",
       "      <td>노원구</td>\n",
       "      <td>24158.0</td>\n",
       "      <td>24220.0</td>\n",
       "      <td>3449.0</td>\n",
       "      <td>2889.0</td>\n",
       "      <td>6052.0</td>\n",
       "      <td>12114002.0</td>\n",
       "      <td>4620.0</td>\n",
       "      <td>153582.0</td>\n",
       "      <td>...</td>\n",
       "      <td>214107.366656</td>\n",
       "      <td>364347.033954</td>\n",
       "      <td>27224.989569</td>\n",
       "      <td>38527.090847</td>\n",
       "      <td>5044.221908</td>\n",
       "      <td>9985.350939</td>\n",
       "      <td>8876.293641</td>\n",
       "      <td>72.005556</td>\n",
       "      <td>29.909028</td>\n",
       "      <td>888</td>\n",
       "    </tr>\n",
       "    <tr>\n",
       "      <th>3</th>\n",
       "      <td>20180402</td>\n",
       "      <td>종로구</td>\n",
       "      <td>13887.0</td>\n",
       "      <td>38318.0</td>\n",
       "      <td>NaN</td>\n",
       "      <td>2356.0</td>\n",
       "      <td>7557.0</td>\n",
       "      <td>29862.0</td>\n",
       "      <td>5267.0</td>\n",
       "      <td>41640.0</td>\n",
       "      <td>...</td>\n",
       "      <td>221498.911270</td>\n",
       "      <td>426442.127119</td>\n",
       "      <td>39956.697134</td>\n",
       "      <td>66428.244772</td>\n",
       "      <td>9316.849827</td>\n",
       "      <td>15306.177645</td>\n",
       "      <td>3638.706671</td>\n",
       "      <td>72.274306</td>\n",
       "      <td>30.051389</td>\n",
       "      <td>888</td>\n",
       "    </tr>\n",
       "    <tr>\n",
       "      <th>4</th>\n",
       "      <td>20180403</td>\n",
       "      <td>노원구</td>\n",
       "      <td>26960.0</td>\n",
       "      <td>18091.0</td>\n",
       "      <td>9782.0</td>\n",
       "      <td>3999.0</td>\n",
       "      <td>33470.0</td>\n",
       "      <td>369762.0</td>\n",
       "      <td>2961.0</td>\n",
       "      <td>88636.0</td>\n",
       "      <td>...</td>\n",
       "      <td>212932.574189</td>\n",
       "      <td>351559.668716</td>\n",
       "      <td>20892.360423</td>\n",
       "      <td>36532.561026</td>\n",
       "      <td>6065.621221</td>\n",
       "      <td>7723.334973</td>\n",
       "      <td>4392.682208</td>\n",
       "      <td>72.838194</td>\n",
       "      <td>24.295833</td>\n",
       "      <td>856</td>\n",
       "    </tr>\n",
       "  </tbody>\n",
       "</table>\n",
       "<p>5 rows × 58 columns</p>\n",
       "</div>"
      ],
      "text/plain": [
       "       DATE GU_NM  레저_USE_AMT  문화취미_USE_AMT  가구_USE_AMT  전기_USE_AMT  \\\n",
       "0  20180401   노원구     38739.0       40507.0     21890.0         NaN   \n",
       "1  20180401   종로구     18134.0       70755.0         NaN        48.0   \n",
       "2  20180402   노원구     24158.0       24220.0      3449.0      2889.0   \n",
       "3  20180402   종로구     13887.0       38318.0         NaN      2356.0   \n",
       "4  20180403   노원구     26960.0       18091.0      9782.0      3999.0   \n",
       "\n",
       "   주방_USE_AMT  연료_USE_AMT  광학_USE_AMT  가전_USE_AMT  ...      LCLS_20_P  \\\n",
       "0      2885.0    364300.0     13812.0    145154.0  ...  244945.230841   \n",
       "1      1974.0     21652.0      6411.0      5655.0  ...  229183.959785   \n",
       "2      6052.0  12114002.0      4620.0    153582.0  ...  214107.366656   \n",
       "3      7557.0     29862.0      5267.0     41640.0  ...  221498.911270   \n",
       "4     33470.0    369762.0      2961.0     88636.0  ...  212932.574189   \n",
       "\n",
       "       LCLS_30_P     LCLS_40_P     LCLS_50_P     LCLS_60_P     LCLS_70_P  \\\n",
       "0  374931.325650  24240.817354  46787.781756   5417.837281   8331.826061   \n",
       "1  352516.787803  33958.016953  68124.213224  10029.373692  15065.768480   \n",
       "2  364347.033954  27224.989569  38527.090847   5044.221908   9985.350939   \n",
       "3  426442.127119  39956.697134  66428.244772   9316.849827  15306.177645   \n",
       "4  351559.668716  20892.360423  36532.561026   6065.621221   7723.334973   \n",
       "\n",
       "     LCLS_80_P       pm10       pm25  CONTENT  \n",
       "0  6619.375782  68.328472  35.256944      515  \n",
       "1  4995.495591  84.070139  43.877083      515  \n",
       "2  8876.293641  72.005556  29.909028      888  \n",
       "3  3638.706671  72.274306  30.051389      888  \n",
       "4  4392.682208  72.838194  24.295833      856  \n",
       "\n",
       "[5 rows x 58 columns]"
      ]
     },
     "execution_count": 126,
     "metadata": {},
     "output_type": "execute_result"
    }
   ],
   "source": [
    "total.head()"
   ]
  },
  {
   "cell_type": "code",
   "execution_count": 127,
   "metadata": {},
   "outputs": [],
   "source": [
    "shinhanIdx = ['leisure', 'culture', 'fuel', 'circul', 'cloth', 'sinbyeon', 'book', 'car repair', 'hospital', 'Public Health', 'food', 'drink', 'repair service']"
   ]
  },
  {
   "cell_type": "code",
   "execution_count": 128,
   "metadata": {},
   "outputs": [
    {
     "data": {
      "text/plain": [
       "Index(['DATE', 'GU_NM', '레저_USE_AMT', '문화취미_USE_AMT', '가구_USE_AMT',\n",
       "       '전기_USE_AMT', '주방_USE_AMT', '연료_USE_AMT', '광학_USE_AMT', '가전_USE_AMT',\n",
       "       '유통업_USE_AMT', '의복_USE_AMT', '직물_USE_AMT', '신변잡화_USE_AMT',\n",
       "       '서적문구_USE_AMT', '사무통신_USE_AMT', '자동차판매_USE_AMT', '자동차정비_USE_AMT',\n",
       "       '의료기관_USE_AMT', '보건위생_USE_AMT', '요식업소_USE_AMT', '음료식품_USE_AMT',\n",
       "       '수리서비스_USE_AMT', 'TMST_00', 'TMST_01', 'TMST_02', 'TMST_03', 'TMST_04',\n",
       "       'TMST_05', 'TMST_06', 'TMST_07', 'TMST_08', 'TMST_09', 'TMST_10',\n",
       "       'TMST_11', 'TMST_12', 'TMST_13', 'TMST_14', 'TMST_15', 'TMST_16',\n",
       "       'TMST_17', 'TMST_18', 'TMST_19', 'TMST_20', 'TMST_21', 'TMST_22',\n",
       "       'TMST_23', 'LCLS_10_P', 'LCLS_20_P', 'LCLS_30_P', 'LCLS_40_P',\n",
       "       'LCLS_50_P', 'LCLS_60_P', 'LCLS_70_P', 'LCLS_80_P', 'pm10', 'pm25',\n",
       "       'CONTENT'],\n",
       "      dtype='object')"
      ]
     },
     "execution_count": 128,
     "metadata": {},
     "output_type": "execute_result"
    }
   ],
   "source": [
    "total.columns"
   ]
  },
  {
   "cell_type": "code",
   "execution_count": 129,
   "metadata": {},
   "outputs": [],
   "source": [
    "total.drop(['가구_USE_AMT', '전기_USE_AMT', '주방_USE_AMT', '광학_USE_AMT', '가전_USE_AMT', \n",
    "            '직물_USE_AMT', '사무통신_USE_AMT', '자동차판매_USE_AMT'], \n",
    "           axis = 1, inplace = True)"
   ]
  },
  {
   "cell_type": "code",
   "execution_count": 130,
   "metadata": {},
   "outputs": [],
   "source": [
    "Time = []\n",
    "for i in range(24) :\n",
    "    Time.append(str(i) + 'h')"
   ]
  },
  {
   "cell_type": "code",
   "execution_count": 132,
   "metadata": {},
   "outputs": [],
   "source": [
    "total.columns = ['DATE', 'GU_NM'] + shinhanIdx + Time + ['LCLS_10_P', 'LCLS_20_P', 'LCLS_30_P',\n",
    "       'LCLS_40_P', 'LCLS_50_P', 'LCLS_60_P', 'LCLS_70_P', 'LCLS_80_P', 'pm10',\n",
    "       'pm25', 'CONTENT']"
   ]
  },
  {
   "cell_type": "code",
   "execution_count": 133,
   "metadata": {},
   "outputs": [],
   "source": [
    "total_nowon = total.iloc[np.where(total.loc[:, 'GU_NM'] == \"노원구\")]\n",
    "total_jongro = total.iloc[np.where(total.loc[:, 'GU_NM'] == \"종로구\")]"
   ]
  },
  {
   "cell_type": "code",
   "execution_count": 134,
   "metadata": {},
   "outputs": [
    {
     "name": "stderr",
     "output_type": "stream",
     "text": [
      "/root/miniconda3/envs/Big_Contest/lib/python3.7/site-packages/pandas/core/frame.py:4097: SettingWithCopyWarning: \n",
      "A value is trying to be set on a copy of a slice from a DataFrame\n",
      "\n",
      "See the caveats in the documentation: http://pandas.pydata.org/pandas-docs/stable/user_guide/indexing.html#returning-a-view-versus-a-copy\n",
      "  errors=errors,\n"
     ]
    }
   ],
   "source": [
    "dateIdx = pd.date_range('2018/04/01', '2019/03/31')\n",
    "\n",
    "total_nowon.index = dateIdx\n",
    "total_jongro.index = dateIdx\n",
    "\n",
    "total_nowon.drop(['DATE', 'GU_NM'], axis = 1, inplace = True)\n",
    "total_jongro.drop(['DATE', 'GU_NM'], axis = 1, inplace = True)"
   ]
  },
  {
   "cell_type": "code",
   "execution_count": 135,
   "metadata": {},
   "outputs": [],
   "source": [
    "dateIdx_NB = set(dateIdx) - set(pd.date_range('2018-04-01', '2019-03-31', freq = 'B'))\n",
    "\n",
    "total_nowon_B = pd.DataFrame(total_nowon, index = pd.date_range('2018-04-01', '2019-03-31', freq = 'B'))\n",
    "total_jongro_B = pd.DataFrame(total_jongro, index = pd.date_range('2018-04-01', '2019-03-31', freq = 'B'))\n",
    "\n",
    "total_nowon_NB = pd.DataFrame(total_nowon, index = dateIdx_NB)\n",
    "total_jongro_NB = pd.DataFrame(total_jongro, index = dateIdx_NB)"
   ]
  },
  {
   "cell_type": "code",
   "execution_count": 136,
   "metadata": {},
   "outputs": [],
   "source": [
    "corr_nowon = total_nowon.corr()\n",
    "corr_jongro = total_jongro.corr()\n",
    "\n",
    "corr_nowon_B = total_nowon_B.corr()\n",
    "corr_jongro_B = total_jongro_B.corr()\n",
    "\n",
    "corr_nowon_NB = total_nowon_NB.corr()\n",
    "corr_jongro_NB = total_jongro_NB.corr()"
   ]
  },
  {
   "cell_type": "code",
   "execution_count": 144,
   "metadata": {},
   "outputs": [
    {
     "data": {
      "image/png": "[encoded data removed]",
      "text/plain": [
       "<Figure size 720x360 with 3 Axes>"
      ]
     },
     "metadata": {
      "needs_background": "light"
     },
     "output_type": "display_data"
    }
   ],
   "source": [
    "fig1, axes = plt.subplots(3, 1, sharex=True)\n",
    "\n",
    "corr_nowon['CONTENT']['0h':'23h'].plot(kind = 'bar', figsize = (10, 5), ax = axes[0], title = 'Every day', \n",
    "                                                ylim = [-0.6,0.6], color = 'silver', yticks = [-0.6, 0.0, 0.6])\n",
    "corr_nowon['CONTENT']['0h':'23h'].plot(ylim = [-0.6,0.6], ax = axes[0], color = 'darkred', marker = 'o', \n",
    "                                                linewidth = 4, markersize = 10, yticks = [-0.6, 0.0, 0.6])\n",
    "axes[0].axhline(0, color='k')\n",
    "corr_nowon_B['CONTENT']['0h':'23h'].plot(kind = 'bar', figsize = (10, 5), ax = axes[1], title = 'Business day', \n",
    "                                                  ylim = [-0.6,0.6], color = 'silver', yticks = [-0.6, 0.0, 0.6])\n",
    "corr_nowon_B['CONTENT']['0h':'23h'].plot(ylim = [-0.6,0.6], ax = axes[1], color = 'darkred', marker = 'o', \n",
    "                                                  linewidth = 4, markersize = 10, yticks = [-0.6, 0.0, 0.6])\n",
    "axes[1].axhline(0, color='k')\n",
    "corr_nowon_NB['CONTENT']['0h':'23h'].plot(kind = 'bar', figsize = (10, 5), ax = axes[2], title = 'Nonbusiness day', \n",
    "                                                   ylim = [-0.6,0.6], color = 'silver', yticks = [-0.6, 0.0, 0.6])\n",
    "corr_nowon_NB['CONTENT']['0h':'23h'].plot(ylim = [-0.6,0.6], ax = axes[2], color = 'darkred', marker = 'o', \n",
    "                                                   linewidth = 4, markersize = 10, yticks = [-0.6, 0.0, 0.6])\n",
    "axes[2].axhline(0, color='k')\n",
    "\n",
    "plt.subplots_adjust(hspace = 0.5)\n",
    "plt.savefig(\"/root/Big_Contest/EDA/NOWON/img/time_news_nowon.png\", dpi = 300)"
   ]
  },
  {
   "cell_type": "code",
   "execution_count": 145,
   "metadata": {},
   "outputs": [
    {
     "data": {
      "image/png": "[encoded data removed]",
      "text/plain": [
       "<Figure size 720x360 with 3 Axes>"
      ]
     },
     "metadata": {
      "needs_background": "light"
     },
     "output_type": "display_data"
    }
   ],
   "source": [
    "fig2, axes = plt.subplots(3, 1, sharex = True)\n",
    "corr_jongro['CONTENT']['0h':'23h'].plot(kind = 'bar', figsize = (10, 5), ax = axes[0], title = 'Every day', \n",
    "                                                 ylim = [-1,0.6], color = 'silver', yticks = [-0.6, 0.0, 0.6])\n",
    "corr_jongro['CONTENT']['0h':'23h'].plot(ylim = [-1,0.6], ax = axes[0], color = 'darkred', marker = 'o', \n",
    "                                                 linewidth = 4, markersize = 10, yticks = [-0.6, 0.0, 0.6])\n",
    "axes[0].axhline(0, color='k')\n",
    "corr_jongro_B['CONTENT']['0h':'23h'].plot(kind = 'bar', figsize = (10, 5), ax = axes[1], title = 'Business day', \n",
    "                                                   ylim = [-1,0.6], color = 'silver', yticks = [-0.6, 0.0, 0.6])\n",
    "corr_jongro_B['CONTENT']['0h':'23h'].plot(ylim = [-1,0.6], ax = axes[1], color = 'darkred', marker = 'o', \n",
    "                                                   linewidth = 4, markersize = 10, yticks = [-0.6, 0.0, 0.6])\n",
    "axes[1].axhline(0, color='k')\n",
    "corr_jongro_NB['CONTENT']['0h':'23h'].plot(kind = 'bar', figsize = (10, 5), ax = axes[2], title = 'Nonbusiness day', \n",
    "                                                    ylim = [-1,0.6], color = 'silver', yticks = [-0.6, 0.0, 0.6])\n",
    "corr_jongro_NB['CONTENT']['0h':'23h'].plot(ylim = [-1,0.6], ax = axes[2], color = 'darkred', marker = 'o', \n",
    "                                                    linewidth = 4, markersize = 10, yticks = [-0.6, 0.0, 0.6])\n",
    "axes[2].axhline(0, color='k')\n",
    "\n",
    "plt.subplots_adjust(hspace = 0.5)\n",
    "plt.savefig(\"/root/Big_Contest/EDA/JONGRO/img/time_news_jongro.png\", dpi = 300)"
   ]
  },
  {
   "cell_type": "code",
   "execution_count": null,
   "metadata": {},
   "outputs": [],
   "source": []
  }
 ],
 "metadata": {
  "kernelspec": {
   "display_name": "2019BigC",
   "language": "python",
   "name": "2019bigc"
  },
  "language_info": {
   "codemirror_mode": {
    "name": "ipython",
    "version": 3
   },
   "file_extension": ".py",
   "mimetype": "text/x-python",
   "name": "python",
   "nbconvert_exporter": "python",
   "pygments_lexer": "ipython3",
   "version": "3.7.3"
  }
 },
 "nbformat": 4,
 "nbformat_minor": 4
}

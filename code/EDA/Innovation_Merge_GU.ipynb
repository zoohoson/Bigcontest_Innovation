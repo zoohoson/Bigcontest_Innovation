{
 "cells": [
  {
   "cell_type": "code",
   "execution_count": 1,
   "metadata": {},
   "outputs": [],
   "source": [
    "import pandas as pd\n",
    "import numpy as np"
   ]
  },
  {
   "cell_type": "code",
   "execution_count": 2,
   "metadata": {},
   "outputs": [],
   "source": [
    "import matplotlib.pyplot as plt\n",
    "%matplotlib inline"
   ]
  },
  {
   "cell_type": "code",
   "execution_count": 3,
   "metadata": {},
   "outputs": [],
   "source": [
    "# 필요한 패키지와 라이브러리를 가져옴\n",
    "import matplotlib as mpl\n",
    "import matplotlib.pyplot as plt\n",
    "import matplotlib.font_manager as fm\n",
    "path = 'C:\\\\Users\\\\JuhoSon\\\\AppData\\\\Local\\\\Microsoft\\\\Windows\\\\Fonts\\\\NanumGothicCoding-Bold.ttf'\n",
    "font_name = fm.FontProperties(fname=path, size=50).get_name()\n",
    "plt.rc('font', family=font_name)"
   ]
  },
  {
   "cell_type": "markdown",
   "metadata": {},
   "source": [
    "# GS Retail"
   ]
  },
  {
   "cell_type": "code",
   "execution_count": 21,
   "metadata": {
    "scrolled": true
   },
   "outputs": [],
   "source": [
    "df_gs = pd.read_csv('./data/innovation/create/df_gs_nowon.csv')"
   ]
  },
  {
   "cell_type": "code",
   "execution_count": 22,
   "metadata": {},
   "outputs": [
    {
     "data": {
      "text/html": [
       "<div>\n",
       "<style scoped>\n",
       "    .dataframe tbody tr th:only-of-type {\n",
       "        vertical-align: middle;\n",
       "    }\n",
       "\n",
       "    .dataframe tbody tr th {\n",
       "        vertical-align: top;\n",
       "    }\n",
       "\n",
       "    .dataframe thead th {\n",
       "        text-align: right;\n",
       "    }\n",
       "</style>\n",
       "<table border=\"1\" class=\"dataframe\">\n",
       "  <thead>\n",
       "    <tr style=\"text-align: right;\">\n",
       "      <th></th>\n",
       "      <th>LCLS_10_P</th>\n",
       "      <th>LCLS_20_P</th>\n",
       "      <th>LCLS_30_P</th>\n",
       "      <th>LCLS_40_P</th>\n",
       "      <th>LCLS_50_P</th>\n",
       "      <th>LCLS_60_P</th>\n",
       "      <th>LCLS_70_P</th>\n",
       "      <th>LCLS_80_P</th>\n",
       "    </tr>\n",
       "  </thead>\n",
       "  <tbody>\n",
       "    <tr>\n",
       "      <th>0</th>\n",
       "      <td>5775959</td>\n",
       "      <td>4653959</td>\n",
       "      <td>7123695</td>\n",
       "      <td>460575</td>\n",
       "      <td>888967</td>\n",
       "      <td>102938</td>\n",
       "      <td>158304</td>\n",
       "      <td>125768</td>\n",
       "    </tr>\n",
       "    <tr>\n",
       "      <th>1</th>\n",
       "      <td>5798567</td>\n",
       "      <td>4068039</td>\n",
       "      <td>6922593</td>\n",
       "      <td>517274</td>\n",
       "      <td>732014</td>\n",
       "      <td>85751</td>\n",
       "      <td>189721</td>\n",
       "      <td>159773</td>\n",
       "    </tr>\n",
       "    <tr>\n",
       "      <th>2</th>\n",
       "      <td>5882238</td>\n",
       "      <td>4045718</td>\n",
       "      <td>6679633</td>\n",
       "      <td>396954</td>\n",
       "      <td>694118</td>\n",
       "      <td>109181</td>\n",
       "      <td>146743</td>\n",
       "      <td>83460</td>\n",
       "    </tr>\n",
       "    <tr>\n",
       "      <th>3</th>\n",
       "      <td>6163597</td>\n",
       "      <td>4284198</td>\n",
       "      <td>6238373</td>\n",
       "      <td>400734</td>\n",
       "      <td>914432</td>\n",
       "      <td>106260</td>\n",
       "      <td>133827</td>\n",
       "      <td>85526</td>\n",
       "    </tr>\n",
       "    <tr>\n",
       "      <th>4</th>\n",
       "      <td>6131852</td>\n",
       "      <td>3723724</td>\n",
       "      <td>5135552</td>\n",
       "      <td>430144</td>\n",
       "      <td>1099378</td>\n",
       "      <td>120809</td>\n",
       "      <td>149481</td>\n",
       "      <td>89173</td>\n",
       "    </tr>\n",
       "  </tbody>\n",
       "</table>\n",
       "</div>"
      ],
      "text/plain": [
       "   LCLS_10_P  LCLS_20_P  LCLS_30_P  LCLS_40_P  LCLS_50_P  LCLS_60_P  \\\n",
       "0    5775959    4653959    7123695     460575     888967     102938   \n",
       "1    5798567    4068039    6922593     517274     732014      85751   \n",
       "2    5882238    4045718    6679633     396954     694118     109181   \n",
       "3    6163597    4284198    6238373     400734     914432     106260   \n",
       "4    6131852    3723724    5135552     430144    1099378     120809   \n",
       "\n",
       "   LCLS_70_P  LCLS_80_P  \n",
       "0     158304     125768  \n",
       "1     189721     159773  \n",
       "2     146743      83460  \n",
       "3     133827      85526  \n",
       "4     149481      89173  "
      ]
     },
     "execution_count": 22,
     "metadata": {},
     "output_type": "execute_result"
    }
   ],
   "source": [
    "df_gs.astype(int).head()"
   ]
  },
  {
   "cell_type": "code",
   "execution_count": 6,
   "metadata": {},
   "outputs": [
    {
     "data": {
      "text/plain": [
       "(365, 8)"
      ]
     },
     "execution_count": 6,
     "metadata": {},
     "output_type": "execute_result"
    }
   ],
   "source": [
    "df_gs.shape"
   ]
  },
  {
   "cell_type": "code",
   "execution_count": 7,
   "metadata": {},
   "outputs": [],
   "source": [
    "# df_gs_total = df_gs_total.groupby(['DATE', 'GU_NM']).mean().reset_index()"
   ]
  },
  {
   "cell_type": "markdown",
   "metadata": {},
   "source": [
    "# ShinHan Card"
   ]
  },
  {
   "cell_type": "code",
   "execution_count": 8,
   "metadata": {},
   "outputs": [],
   "source": [
    "df_card = pd.read_csv('./data/innovation/create/df_shinhan_nowon.csv')"
   ]
  },
  {
   "cell_type": "code",
   "execution_count": 9,
   "metadata": {},
   "outputs": [
    {
     "data": {
      "text/html": [
       "<div>\n",
       "<style scoped>\n",
       "    .dataframe tbody tr th:only-of-type {\n",
       "        vertical-align: middle;\n",
       "    }\n",
       "\n",
       "    .dataframe tbody tr th {\n",
       "        vertical-align: top;\n",
       "    }\n",
       "\n",
       "    .dataframe thead th {\n",
       "        text-align: right;\n",
       "    }\n",
       "</style>\n",
       "<table border=\"1\" class=\"dataframe\">\n",
       "  <thead>\n",
       "    <tr style=\"text-align: right;\">\n",
       "      <th></th>\n",
       "      <th>age20숙박</th>\n",
       "      <th>age20레저용품</th>\n",
       "      <th>age20레저업소</th>\n",
       "      <th>age20문화취미</th>\n",
       "      <th>age20가구</th>\n",
       "      <th>age20전기</th>\n",
       "      <th>age20주방</th>\n",
       "      <th>age20연료</th>\n",
       "      <th>age20광학</th>\n",
       "      <th>age20가전</th>\n",
       "      <th>...</th>\n",
       "      <th>age50신변잡화</th>\n",
       "      <th>age50서적문구</th>\n",
       "      <th>age50사무통신</th>\n",
       "      <th>age50자동차판매</th>\n",
       "      <th>age50자동차정비</th>\n",
       "      <th>age50의료기관</th>\n",
       "      <th>age50보건위생</th>\n",
       "      <th>age50요식업소</th>\n",
       "      <th>age50음료식품</th>\n",
       "      <th>age50수리서비스</th>\n",
       "    </tr>\n",
       "  </thead>\n",
       "  <tbody>\n",
       "    <tr>\n",
       "      <th>0</th>\n",
       "      <td>432.0</td>\n",
       "      <td>203.0</td>\n",
       "      <td>7993.0</td>\n",
       "      <td>1551.0</td>\n",
       "      <td>21.0</td>\n",
       "      <td>NaN</td>\n",
       "      <td>NaN</td>\n",
       "      <td>498.0</td>\n",
       "      <td>29.0</td>\n",
       "      <td>25.0</td>\n",
       "      <td>...</td>\n",
       "      <td>72.0</td>\n",
       "      <td>760.0</td>\n",
       "      <td>NaN</td>\n",
       "      <td>NaN</td>\n",
       "      <td>58.0</td>\n",
       "      <td>978.0</td>\n",
       "      <td>1877.0</td>\n",
       "      <td>14351.0</td>\n",
       "      <td>2763.0</td>\n",
       "      <td>99.0</td>\n",
       "    </tr>\n",
       "    <tr>\n",
       "      <th>1</th>\n",
       "      <td>105.0</td>\n",
       "      <td>131.0</td>\n",
       "      <td>5367.0</td>\n",
       "      <td>791.0</td>\n",
       "      <td>NaN</td>\n",
       "      <td>NaN</td>\n",
       "      <td>NaN</td>\n",
       "      <td>470.0</td>\n",
       "      <td>63.0</td>\n",
       "      <td>70.0</td>\n",
       "      <td>...</td>\n",
       "      <td>140.0</td>\n",
       "      <td>687.0</td>\n",
       "      <td>43.0</td>\n",
       "      <td>NaN</td>\n",
       "      <td>264.0</td>\n",
       "      <td>8666.0</td>\n",
       "      <td>1307.0</td>\n",
       "      <td>13421.0</td>\n",
       "      <td>3256.0</td>\n",
       "      <td>337.0</td>\n",
       "    </tr>\n",
       "    <tr>\n",
       "      <th>2</th>\n",
       "      <td>87.0</td>\n",
       "      <td>126.0</td>\n",
       "      <td>5656.0</td>\n",
       "      <td>526.0</td>\n",
       "      <td>NaN</td>\n",
       "      <td>NaN</td>\n",
       "      <td>18.0</td>\n",
       "      <td>384.0</td>\n",
       "      <td>42.0</td>\n",
       "      <td>43.0</td>\n",
       "      <td>...</td>\n",
       "      <td>107.0</td>\n",
       "      <td>669.0</td>\n",
       "      <td>25.0</td>\n",
       "      <td>NaN</td>\n",
       "      <td>241.0</td>\n",
       "      <td>7405.0</td>\n",
       "      <td>1381.0</td>\n",
       "      <td>13933.0</td>\n",
       "      <td>3392.0</td>\n",
       "      <td>276.0</td>\n",
       "    </tr>\n",
       "    <tr>\n",
       "      <th>3</th>\n",
       "      <td>151.0</td>\n",
       "      <td>165.0</td>\n",
       "      <td>5300.0</td>\n",
       "      <td>534.0</td>\n",
       "      <td>NaN</td>\n",
       "      <td>NaN</td>\n",
       "      <td>NaN</td>\n",
       "      <td>308.0</td>\n",
       "      <td>80.0</td>\n",
       "      <td>74.0</td>\n",
       "      <td>...</td>\n",
       "      <td>107.0</td>\n",
       "      <td>659.0</td>\n",
       "      <td>NaN</td>\n",
       "      <td>NaN</td>\n",
       "      <td>198.0</td>\n",
       "      <td>6935.0</td>\n",
       "      <td>1335.0</td>\n",
       "      <td>14271.0</td>\n",
       "      <td>3537.0</td>\n",
       "      <td>347.0</td>\n",
       "    </tr>\n",
       "    <tr>\n",
       "      <th>4</th>\n",
       "      <td>187.0</td>\n",
       "      <td>109.0</td>\n",
       "      <td>6001.0</td>\n",
       "      <td>729.0</td>\n",
       "      <td>NaN</td>\n",
       "      <td>NaN</td>\n",
       "      <td>NaN</td>\n",
       "      <td>312.0</td>\n",
       "      <td>89.0</td>\n",
       "      <td>60.0</td>\n",
       "      <td>...</td>\n",
       "      <td>76.0</td>\n",
       "      <td>549.0</td>\n",
       "      <td>29.0</td>\n",
       "      <td>NaN</td>\n",
       "      <td>149.0</td>\n",
       "      <td>6381.0</td>\n",
       "      <td>1278.0</td>\n",
       "      <td>13619.0</td>\n",
       "      <td>3470.0</td>\n",
       "      <td>140.0</td>\n",
       "    </tr>\n",
       "  </tbody>\n",
       "</table>\n",
       "<p>5 rows × 92 columns</p>\n",
       "</div>"
      ],
      "text/plain": [
       "   age20숙박  age20레저용품  age20레저업소  age20문화취미  age20가구  age20전기  age20주방  \\\n",
       "0    432.0      203.0     7993.0     1551.0     21.0      NaN      NaN   \n",
       "1    105.0      131.0     5367.0      791.0      NaN      NaN      NaN   \n",
       "2     87.0      126.0     5656.0      526.0      NaN      NaN     18.0   \n",
       "3    151.0      165.0     5300.0      534.0      NaN      NaN      NaN   \n",
       "4    187.0      109.0     6001.0      729.0      NaN      NaN      NaN   \n",
       "\n",
       "   age20연료  age20광학  age20가전  ...  age50신변잡화  age50서적문구  age50사무통신  \\\n",
       "0    498.0     29.0     25.0  ...       72.0      760.0        NaN   \n",
       "1    470.0     63.0     70.0  ...      140.0      687.0       43.0   \n",
       "2    384.0     42.0     43.0  ...      107.0      669.0       25.0   \n",
       "3    308.0     80.0     74.0  ...      107.0      659.0        NaN   \n",
       "4    312.0     89.0     60.0  ...       76.0      549.0       29.0   \n",
       "\n",
       "   age50자동차판매  age50자동차정비  age50의료기관  age50보건위생  age50요식업소  age50음료식품  \\\n",
       "0         NaN        58.0      978.0     1877.0    14351.0     2763.0   \n",
       "1         NaN       264.0     8666.0     1307.0    13421.0     3256.0   \n",
       "2         NaN       241.0     7405.0     1381.0    13933.0     3392.0   \n",
       "3         NaN       198.0     6935.0     1335.0    14271.0     3537.0   \n",
       "4         NaN       149.0     6381.0     1278.0    13619.0     3470.0   \n",
       "\n",
       "   age50수리서비스  \n",
       "0        99.0  \n",
       "1       337.0  \n",
       "2       276.0  \n",
       "3       347.0  \n",
       "4       140.0  \n",
       "\n",
       "[5 rows x 92 columns]"
      ]
     },
     "execution_count": 9,
     "metadata": {},
     "output_type": "execute_result"
    }
   ],
   "source": [
    "df_card.head()"
   ]
  },
  {
   "cell_type": "code",
   "execution_count": 10,
   "metadata": {},
   "outputs": [
    {
     "data": {
      "text/plain": [
       "(365, 92)"
      ]
     },
     "execution_count": 10,
     "metadata": {},
     "output_type": "execute_result"
    }
   ],
   "source": [
    "df_card.shape"
   ]
  },
  {
   "cell_type": "markdown",
   "metadata": {},
   "source": [
    "# SKT population"
   ]
  },
  {
   "cell_type": "code",
   "execution_count": 11,
   "metadata": {
    "scrolled": true
   },
   "outputs": [],
   "source": [
    "df_skt = pd.read_csv('./data/innovation/create/df_skt_nowon.csv')"
   ]
  },
  {
   "cell_type": "code",
   "execution_count": 12,
   "metadata": {},
   "outputs": [
    {
     "data": {
      "text/html": [
       "<div>\n",
       "<style scoped>\n",
       "    .dataframe tbody tr th:only-of-type {\n",
       "        vertical-align: middle;\n",
       "    }\n",
       "\n",
       "    .dataframe tbody tr th {\n",
       "        vertical-align: top;\n",
       "    }\n",
       "\n",
       "    .dataframe thead th {\n",
       "        text-align: right;\n",
       "    }\n",
       "</style>\n",
       "<table border=\"1\" class=\"dataframe\">\n",
       "  <thead>\n",
       "    <tr style=\"text-align: right;\">\n",
       "      <th></th>\n",
       "      <th>age20</th>\n",
       "      <th>age30</th>\n",
       "      <th>age40</th>\n",
       "      <th>age50</th>\n",
       "    </tr>\n",
       "  </thead>\n",
       "  <tbody>\n",
       "    <tr>\n",
       "      <th>0</th>\n",
       "      <td>276375.29</td>\n",
       "      <td>265602.51</td>\n",
       "      <td>326534.25</td>\n",
       "      <td>326373.41</td>\n",
       "    </tr>\n",
       "    <tr>\n",
       "      <th>1</th>\n",
       "      <td>362157.39</td>\n",
       "      <td>286616.48</td>\n",
       "      <td>374955.29</td>\n",
       "      <td>369821.56</td>\n",
       "    </tr>\n",
       "    <tr>\n",
       "      <th>2</th>\n",
       "      <td>364140.16</td>\n",
       "      <td>296960.76</td>\n",
       "      <td>391194.83</td>\n",
       "      <td>384986.42</td>\n",
       "    </tr>\n",
       "    <tr>\n",
       "      <th>3</th>\n",
       "      <td>355365.76</td>\n",
       "      <td>298269.85</td>\n",
       "      <td>388102.91</td>\n",
       "      <td>377589.84</td>\n",
       "    </tr>\n",
       "    <tr>\n",
       "      <th>4</th>\n",
       "      <td>343828.64</td>\n",
       "      <td>289595.03</td>\n",
       "      <td>376708.57</td>\n",
       "      <td>361374.41</td>\n",
       "    </tr>\n",
       "  </tbody>\n",
       "</table>\n",
       "</div>"
      ],
      "text/plain": [
       "       age20      age30      age40      age50\n",
       "0  276375.29  265602.51  326534.25  326373.41\n",
       "1  362157.39  286616.48  374955.29  369821.56\n",
       "2  364140.16  296960.76  391194.83  384986.42\n",
       "3  355365.76  298269.85  388102.91  377589.84\n",
       "4  343828.64  289595.03  376708.57  361374.41"
      ]
     },
     "execution_count": 12,
     "metadata": {},
     "output_type": "execute_result"
    }
   ],
   "source": [
    "df_skt.head()"
   ]
  },
  {
   "cell_type": "code",
   "execution_count": 13,
   "metadata": {},
   "outputs": [
    {
     "data": {
      "text/plain": [
       "(365, 4)"
      ]
     },
     "execution_count": 13,
     "metadata": {},
     "output_type": "execute_result"
    }
   ],
   "source": [
    "df_skt.shape"
   ]
  },
  {
   "cell_type": "markdown",
   "metadata": {},
   "source": [
    "# asos"
   ]
  },
  {
   "cell_type": "code",
   "execution_count": 14,
   "metadata": {},
   "outputs": [],
   "source": [
    "df_asos = pd.read_csv('./data/innovation/create/df_asos_nowon.csv')"
   ]
  },
  {
   "cell_type": "code",
   "execution_count": 15,
   "metadata": {},
   "outputs": [
    {
     "data": {
      "text/plain": [
       "Index(['noise', 'temp', 'humi', 'pm10', 'pm25', 'DATE', 'CONTENT', '강수량(mm)'], dtype='object')"
      ]
     },
     "execution_count": 15,
     "metadata": {},
     "output_type": "execute_result"
    }
   ],
   "source": [
    "df_asos.columns"
   ]
  },
  {
   "cell_type": "code",
   "execution_count": 16,
   "metadata": {},
   "outputs": [],
   "source": [
    "df_asos.drop(['DATE', 'noise'], axis=1, inplace=True)"
   ]
  },
  {
   "cell_type": "code",
   "execution_count": 17,
   "metadata": {},
   "outputs": [
    {
     "data": {
      "text/html": [
       "<div>\n",
       "<style scoped>\n",
       "    .dataframe tbody tr th:only-of-type {\n",
       "        vertical-align: middle;\n",
       "    }\n",
       "\n",
       "    .dataframe tbody tr th {\n",
       "        vertical-align: top;\n",
       "    }\n",
       "\n",
       "    .dataframe thead th {\n",
       "        text-align: right;\n",
       "    }\n",
       "</style>\n",
       "<table border=\"1\" class=\"dataframe\">\n",
       "  <thead>\n",
       "    <tr style=\"text-align: right;\">\n",
       "      <th></th>\n",
       "      <th>temp</th>\n",
       "      <th>humi</th>\n",
       "      <th>pm10</th>\n",
       "      <th>pm25</th>\n",
       "      <th>CONTENT</th>\n",
       "      <th>강수량(mm)</th>\n",
       "    </tr>\n",
       "  </thead>\n",
       "  <tbody>\n",
       "    <tr>\n",
       "      <th>0</th>\n",
       "      <td>16.580764</td>\n",
       "      <td>56.770833</td>\n",
       "      <td>68.127083</td>\n",
       "      <td>35.221528</td>\n",
       "      <td>515</td>\n",
       "      <td>0.0</td>\n",
       "    </tr>\n",
       "    <tr>\n",
       "      <th>1</th>\n",
       "      <td>19.631111</td>\n",
       "      <td>57.827083</td>\n",
       "      <td>71.924306</td>\n",
       "      <td>29.909028</td>\n",
       "      <td>888</td>\n",
       "      <td>0.0</td>\n",
       "    </tr>\n",
       "    <tr>\n",
       "      <th>2</th>\n",
       "      <td>19.192500</td>\n",
       "      <td>61.674306</td>\n",
       "      <td>72.979861</td>\n",
       "      <td>24.331944</td>\n",
       "      <td>856</td>\n",
       "      <td>0.1</td>\n",
       "    </tr>\n",
       "    <tr>\n",
       "      <th>3</th>\n",
       "      <td>14.075417</td>\n",
       "      <td>60.129861</td>\n",
       "      <td>18.221528</td>\n",
       "      <td>10.952778</td>\n",
       "      <td>893</td>\n",
       "      <td>18.5</td>\n",
       "    </tr>\n",
       "    <tr>\n",
       "      <th>4</th>\n",
       "      <td>8.620000</td>\n",
       "      <td>77.163194</td>\n",
       "      <td>8.854861</td>\n",
       "      <td>3.891667</td>\n",
       "      <td>864</td>\n",
       "      <td>10.5</td>\n",
       "    </tr>\n",
       "  </tbody>\n",
       "</table>\n",
       "</div>"
      ],
      "text/plain": [
       "        temp       humi       pm10       pm25  CONTENT  강수량(mm)\n",
       "0  16.580764  56.770833  68.127083  35.221528      515      0.0\n",
       "1  19.631111  57.827083  71.924306  29.909028      888      0.0\n",
       "2  19.192500  61.674306  72.979861  24.331944      856      0.1\n",
       "3  14.075417  60.129861  18.221528  10.952778      893     18.5\n",
       "4   8.620000  77.163194   8.854861   3.891667      864     10.5"
      ]
     },
     "execution_count": 17,
     "metadata": {},
     "output_type": "execute_result"
    }
   ],
   "source": [
    "df_asos.head()"
   ]
  },
  {
   "cell_type": "markdown",
   "metadata": {},
   "source": [
    "# Merge Data"
   ]
  },
  {
   "cell_type": "code",
   "execution_count": 18,
   "metadata": {},
   "outputs": [
    {
     "data": {
      "text/plain": [
       "((365, 6), (365, 92), (365, 4), (365, 8))"
      ]
     },
     "execution_count": 18,
     "metadata": {},
     "output_type": "execute_result"
    }
   ],
   "source": [
    "df_asos.shape, df_card.shape, df_skt.shape, df_gs.shape"
   ]
  },
  {
   "cell_type": "code",
   "execution_count": 19,
   "metadata": {},
   "outputs": [],
   "source": [
    "dateidx = pd.date_range('2018-04-01', '2019-03-31')\n",
    "df_asos= df_asos.set_index(dateidx)\n",
    "df_skt = df_skt.set_index(dateidx)\n",
    "df_gs = df_gs.set_index(dateidx)\n",
    "df_card = df_card.set_index(dateidx)"
   ]
  },
  {
   "cell_type": "code",
   "execution_count": 20,
   "metadata": {},
   "outputs": [],
   "source": [
    "df_total = df_card.merge(df_skt, on=df_card.index).set_index('key_0')\n",
    "df_total = df_total.merge(df_gs, on=df_total.index).set_index('key_0')\n",
    "df_total = df_total.merge(df_asos, on=df_total.index).set_index('key_0')"
   ]
  },
  {
   "cell_type": "markdown",
   "metadata": {},
   "source": [
    "# 20, 30, 40, 50대 데이터로 구분하기"
   ]
  },
  {
   "cell_type": "code",
   "execution_count": 24,
   "metadata": {},
   "outputs": [
    {
     "data": {
      "text/html": [
       "<div>\n",
       "<style scoped>\n",
       "    .dataframe tbody tr th:only-of-type {\n",
       "        vertical-align: middle;\n",
       "    }\n",
       "\n",
       "    .dataframe tbody tr th {\n",
       "        vertical-align: top;\n",
       "    }\n",
       "\n",
       "    .dataframe thead th {\n",
       "        text-align: right;\n",
       "    }\n",
       "</style>\n",
       "<table border=\"1\" class=\"dataframe\">\n",
       "  <thead>\n",
       "    <tr style=\"text-align: right;\">\n",
       "      <th></th>\n",
       "      <th>age20숙박</th>\n",
       "      <th>age20레저용품</th>\n",
       "      <th>age20레저업소</th>\n",
       "      <th>age20문화취미</th>\n",
       "      <th>age20가구</th>\n",
       "      <th>age20전기</th>\n",
       "      <th>age20주방</th>\n",
       "      <th>age20연료</th>\n",
       "      <th>age20광학</th>\n",
       "      <th>age20가전</th>\n",
       "      <th>...</th>\n",
       "      <th>LCLS_50_P</th>\n",
       "      <th>LCLS_60_P</th>\n",
       "      <th>LCLS_70_P</th>\n",
       "      <th>LCLS_80_P</th>\n",
       "      <th>temp</th>\n",
       "      <th>humi</th>\n",
       "      <th>pm10</th>\n",
       "      <th>pm25</th>\n",
       "      <th>CONTENT</th>\n",
       "      <th>강수량(mm)</th>\n",
       "    </tr>\n",
       "    <tr>\n",
       "      <th>key_0</th>\n",
       "      <th></th>\n",
       "      <th></th>\n",
       "      <th></th>\n",
       "      <th></th>\n",
       "      <th></th>\n",
       "      <th></th>\n",
       "      <th></th>\n",
       "      <th></th>\n",
       "      <th></th>\n",
       "      <th></th>\n",
       "      <th></th>\n",
       "      <th></th>\n",
       "      <th></th>\n",
       "      <th></th>\n",
       "      <th></th>\n",
       "      <th></th>\n",
       "      <th></th>\n",
       "      <th></th>\n",
       "      <th></th>\n",
       "      <th></th>\n",
       "      <th></th>\n",
       "    </tr>\n",
       "  </thead>\n",
       "  <tbody>\n",
       "    <tr>\n",
       "      <th>2018-04-01</th>\n",
       "      <td>432.0</td>\n",
       "      <td>203.0</td>\n",
       "      <td>7993.0</td>\n",
       "      <td>1551.0</td>\n",
       "      <td>21.0</td>\n",
       "      <td>NaN</td>\n",
       "      <td>NaN</td>\n",
       "      <td>498.0</td>\n",
       "      <td>29.0</td>\n",
       "      <td>25.0</td>\n",
       "      <td>...</td>\n",
       "      <td>8.889679e+05</td>\n",
       "      <td>102938.908335</td>\n",
       "      <td>158304.695151</td>\n",
       "      <td>125768.139866</td>\n",
       "      <td>16.580764</td>\n",
       "      <td>56.770833</td>\n",
       "      <td>68.127083</td>\n",
       "      <td>35.221528</td>\n",
       "      <td>515</td>\n",
       "      <td>0.0</td>\n",
       "    </tr>\n",
       "    <tr>\n",
       "      <th>2018-04-02</th>\n",
       "      <td>105.0</td>\n",
       "      <td>131.0</td>\n",
       "      <td>5367.0</td>\n",
       "      <td>791.0</td>\n",
       "      <td>NaN</td>\n",
       "      <td>NaN</td>\n",
       "      <td>NaN</td>\n",
       "      <td>470.0</td>\n",
       "      <td>63.0</td>\n",
       "      <td>70.0</td>\n",
       "      <td>...</td>\n",
       "      <td>7.320147e+05</td>\n",
       "      <td>85751.772442</td>\n",
       "      <td>189721.667844</td>\n",
       "      <td>159773.285544</td>\n",
       "      <td>19.631111</td>\n",
       "      <td>57.827083</td>\n",
       "      <td>71.924306</td>\n",
       "      <td>29.909028</td>\n",
       "      <td>888</td>\n",
       "      <td>0.0</td>\n",
       "    </tr>\n",
       "    <tr>\n",
       "      <th>2018-04-03</th>\n",
       "      <td>87.0</td>\n",
       "      <td>126.0</td>\n",
       "      <td>5656.0</td>\n",
       "      <td>526.0</td>\n",
       "      <td>NaN</td>\n",
       "      <td>NaN</td>\n",
       "      <td>18.0</td>\n",
       "      <td>384.0</td>\n",
       "      <td>42.0</td>\n",
       "      <td>43.0</td>\n",
       "      <td>...</td>\n",
       "      <td>6.941187e+05</td>\n",
       "      <td>109181.181977</td>\n",
       "      <td>146743.364491</td>\n",
       "      <td>83460.961960</td>\n",
       "      <td>19.192500</td>\n",
       "      <td>61.674306</td>\n",
       "      <td>72.979861</td>\n",
       "      <td>24.331944</td>\n",
       "      <td>856</td>\n",
       "      <td>0.1</td>\n",
       "    </tr>\n",
       "    <tr>\n",
       "      <th>2018-04-04</th>\n",
       "      <td>151.0</td>\n",
       "      <td>165.0</td>\n",
       "      <td>5300.0</td>\n",
       "      <td>534.0</td>\n",
       "      <td>NaN</td>\n",
       "      <td>NaN</td>\n",
       "      <td>NaN</td>\n",
       "      <td>308.0</td>\n",
       "      <td>80.0</td>\n",
       "      <td>74.0</td>\n",
       "      <td>...</td>\n",
       "      <td>9.144325e+05</td>\n",
       "      <td>106260.195832</td>\n",
       "      <td>133827.487702</td>\n",
       "      <td>85526.543799</td>\n",
       "      <td>14.075417</td>\n",
       "      <td>60.129861</td>\n",
       "      <td>18.221528</td>\n",
       "      <td>10.952778</td>\n",
       "      <td>893</td>\n",
       "      <td>18.5</td>\n",
       "    </tr>\n",
       "    <tr>\n",
       "      <th>2018-04-05</th>\n",
       "      <td>187.0</td>\n",
       "      <td>109.0</td>\n",
       "      <td>6001.0</td>\n",
       "      <td>729.0</td>\n",
       "      <td>NaN</td>\n",
       "      <td>NaN</td>\n",
       "      <td>NaN</td>\n",
       "      <td>312.0</td>\n",
       "      <td>89.0</td>\n",
       "      <td>60.0</td>\n",
       "      <td>...</td>\n",
       "      <td>1.099378e+06</td>\n",
       "      <td>120809.906702</td>\n",
       "      <td>149481.681510</td>\n",
       "      <td>89173.629481</td>\n",
       "      <td>8.620000</td>\n",
       "      <td>77.163194</td>\n",
       "      <td>8.854861</td>\n",
       "      <td>3.891667</td>\n",
       "      <td>864</td>\n",
       "      <td>10.5</td>\n",
       "    </tr>\n",
       "  </tbody>\n",
       "</table>\n",
       "<p>5 rows × 110 columns</p>\n",
       "</div>"
      ],
      "text/plain": [
       "            age20숙박  age20레저용품  age20레저업소  age20문화취미  age20가구  age20전기  \\\n",
       "key_0                                                                    \n",
       "2018-04-01    432.0      203.0     7993.0     1551.0     21.0      NaN   \n",
       "2018-04-02    105.0      131.0     5367.0      791.0      NaN      NaN   \n",
       "2018-04-03     87.0      126.0     5656.0      526.0      NaN      NaN   \n",
       "2018-04-04    151.0      165.0     5300.0      534.0      NaN      NaN   \n",
       "2018-04-05    187.0      109.0     6001.0      729.0      NaN      NaN   \n",
       "\n",
       "            age20주방  age20연료  age20광학  age20가전  ...     LCLS_50_P  \\\n",
       "key_0                                           ...                 \n",
       "2018-04-01      NaN    498.0     29.0     25.0  ...  8.889679e+05   \n",
       "2018-04-02      NaN    470.0     63.0     70.0  ...  7.320147e+05   \n",
       "2018-04-03     18.0    384.0     42.0     43.0  ...  6.941187e+05   \n",
       "2018-04-04      NaN    308.0     80.0     74.0  ...  9.144325e+05   \n",
       "2018-04-05      NaN    312.0     89.0     60.0  ...  1.099378e+06   \n",
       "\n",
       "                LCLS_60_P      LCLS_70_P      LCLS_80_P       temp       humi  \\\n",
       "key_0                                                                           \n",
       "2018-04-01  102938.908335  158304.695151  125768.139866  16.580764  56.770833   \n",
       "2018-04-02   85751.772442  189721.667844  159773.285544  19.631111  57.827083   \n",
       "2018-04-03  109181.181977  146743.364491   83460.961960  19.192500  61.674306   \n",
       "2018-04-04  106260.195832  133827.487702   85526.543799  14.075417  60.129861   \n",
       "2018-04-05  120809.906702  149481.681510   89173.629481   8.620000  77.163194   \n",
       "\n",
       "                 pm10       pm25  CONTENT  강수량(mm)  \n",
       "key_0                                               \n",
       "2018-04-01  68.127083  35.221528      515      0.0  \n",
       "2018-04-02  71.924306  29.909028      888      0.0  \n",
       "2018-04-03  72.979861  24.331944      856      0.1  \n",
       "2018-04-04  18.221528  10.952778      893     18.5  \n",
       "2018-04-05   8.854861   3.891667      864     10.5  \n",
       "\n",
       "[5 rows x 110 columns]"
      ]
     },
     "execution_count": 24,
     "metadata": {},
     "output_type": "execute_result"
    }
   ],
   "source": [
    "df_total.head()"
   ]
  },
  {
   "cell_type": "code",
   "execution_count": 22,
   "metadata": {},
   "outputs": [],
   "source": [
    "# AMT_list = ['숙박_USE_AMT', '레저용품_USE_AMT','레저업소_USE_AMT', '문화취미_USE_AMT', '가구_USE_AMT', '전기_USE_AMT',\n",
    "#                   '주방_USE_AMT', '연료_USE_AMT', '광학_USE_AMT', '가전_USE_AMT', '유통업_USE_AMT',\n",
    "#                   '의복_USE_AMT', '직물_USE_AMT', '신변잡화_USE_AMT','서적문구_USE_AMT', '사무통신_USE_AMT',\n",
    "#                   '자동차판매_USE_AMT', '자동차정비_USE_AMT', '의료기관_USE_AMT', '보건위생_USE_AMT', '요식업소_USE_AMT',\n",
    "#                   '음료식품_USE_AMT', '수리서비스_USE_AMT']\n",
    "# age_list = ['age20', 'age30', 'age40', 'age50']"
   ]
  },
  {
   "cell_type": "code",
   "execution_count": 23,
   "metadata": {},
   "outputs": [],
   "source": [
    "AMT_list = ['숙박', '레저용품','레저업소', '문화취미', '가구', '전기',\n",
    "                  '주방', '연료', '광학', '가전', '유통업',\n",
    "                  '의복', '직물', '신변잡화','서적문구', '사무통신',\n",
    "                  '자동차판매', '자동차정비', '의료기관', '보건위생', '요식업소',\n",
    "                  '음료식품', '수리서비스']\n",
    "age_list = ['age20', 'age30', 'age40', 'age50']"
   ]
  },
  {
   "cell_type": "code",
   "execution_count": 24,
   "metadata": {},
   "outputs": [],
   "source": [
    "base_cols = ['LCLS_10_P', 'LCLS_20_P', 'LCLS_30_P', 'LCLS_40_P', \n",
    "        'LCLS_50_P', 'LCLS_60_P', 'LCLS_70_P', 'LCLS_80_P', \n",
    "        \n",
    "        'pm10', 'pm25', 'CONTENT', 'temp', 'humi', '강수량(mm)'\n",
    "        ]"
   ]
  },
  {
   "cell_type": "code",
   "execution_count": 25,
   "metadata": {},
   "outputs": [],
   "source": [
    "age20_cols = ['age20'+i for i in AMT_list]+['age20']+base_cols  # 23개업종 1개인구 8개카테고리, 6개기상데이터 총 38\n",
    "age30_cols = ['age30'+i for i in AMT_list]+['age30']+base_cols\n",
    "age40_cols = ['age40'+i for i in AMT_list]+['age40']+base_cols\n",
    "age50_cols = ['age50'+i for i in AMT_list]+['age50']+base_cols"
   ]
  },
  {
   "cell_type": "code",
   "execution_count": 26,
   "metadata": {},
   "outputs": [],
   "source": [
    "df_20 = df_total[age20_cols]\n",
    "df_30 = df_total[age30_cols]\n",
    "df_40 = df_total[age40_cols]\n",
    "df_50 = df_total[age50_cols]"
   ]
  },
  {
   "cell_type": "code",
   "execution_count": 27,
   "metadata": {},
   "outputs": [
    {
     "data": {
      "text/plain": [
       "((365, 38), (365, 38), (365, 38), (365, 38))"
      ]
     },
     "execution_count": 27,
     "metadata": {},
     "output_type": "execute_result"
    }
   ],
   "source": [
    "df_20.shape, df_30.shape, df_40.shape, df_50.shape"
   ]
  },
  {
   "cell_type": "code",
   "execution_count": 28,
   "metadata": {},
   "outputs": [],
   "source": [
    "df_20.to_csv('./data/innovation/create/df_age20.csv', index=False)\n",
    "df_30.to_csv('./data/innovation/create/df_age30.csv', index=False)\n",
    "df_40.to_csv('./data/innovation/create/df_age40.csv', index=False)\n",
    "df_50.to_csv('./data/innovation/create/df_age50.csv', index=False)"
   ]
  },
  {
   "cell_type": "code",
   "execution_count": 26,
   "metadata": {},
   "outputs": [],
   "source": [
    "df_total.to_csv('./data/innovation/create/df_total_nowon.csv', index=False)"
   ]
  },
  {
   "cell_type": "markdown",
   "metadata": {},
   "source": [
    "# boxplot"
   ]
  },
  {
   "cell_type": "code",
   "execution_count": 1,
   "metadata": {},
   "outputs": [],
   "source": [
    "card_recols=['숙박',\n",
    " '레저용품',\n",
    " '레저업소',\n",
    " '문화취미',\n",
    " '가구',\n",
    " '전기',\n",
    " '주방',\n",
    " '연료',\n",
    " '광학',\n",
    " '가전',\n",
    " '유통업',\n",
    " '의복',\n",
    " '직물',\n",
    " '신변잡화',\n",
    " '서적문구',\n",
    " '사무통신',\n",
    " '자동차판매',\n",
    " '자동차정비',\n",
    " '의료기관',\n",
    " '보건위생',\n",
    " '요식업소',\n",
    " '음료식품',\n",
    " '수리서비스']"
   ]
  },
  {
   "cell_type": "code",
   "execution_count": 2,
   "metadata": {},
   "outputs": [],
   "source": [
    "card_cols = ['age20숙박_USE_AMT',\n",
    " 'age20레저용품_USE_AMT',\n",
    " 'age20레저업소_USE_AMT',\n",
    " 'age20문화취미_USE_AMT',\n",
    " 'age20가구_USE_AMT',\n",
    " 'age20전기_USE_AMT',\n",
    " 'age20주방_USE_AMT',\n",
    " 'age20연료_USE_AMT',\n",
    " 'age20광학_USE_AMT',\n",
    " 'age20가전_USE_AMT',\n",
    " 'age20유통업_USE_AMT',\n",
    " 'age20의복_USE_AMT',\n",
    " 'age20직물_USE_AMT',\n",
    " 'age20신변잡화_USE_AMT',\n",
    " 'age20서적문구_USE_AMT',\n",
    " 'age20사무통신_USE_AMT',\n",
    " 'age20자동차판매_USE_AMT',\n",
    " 'age20자동차정비_USE_AMT',\n",
    " 'age20의료기관_USE_AMT',\n",
    " 'age20보건위생_USE_AMT',\n",
    " 'age20요식업소_USE_AMT',\n",
    " 'age20음료식품_USE_AMT',\n",
    " 'age20수리서비스_USE_AMT']\n",
    "\n",
    "gs_cols = ['LCLS_10_P',\n",
    " 'LCLS_20_P',\n",
    " 'LCLS_30_P',\n",
    " 'LCLS_40_P',\n",
    " 'LCLS_50_P',\n",
    " 'LCLS_60_P',\n",
    " 'LCLS_70_P',\n",
    " 'LCLS_80_P']\n",
    "\n",
    "x_cols = ['age20', \n",
    "          'pm10',\n",
    " 'pm25',\n",
    " 'CONTENT',\n",
    " 'temp']\n",
    "    "
   ]
  },
  {
   "cell_type": "code",
   "execution_count": null,
   "metadata": {},
   "outputs": [],
   "source": []
  },
  {
   "cell_type": "code",
   "execution_count": 102,
   "metadata": {},
   "outputs": [
    {
     "name": "stderr",
     "output_type": "stream",
     "text": [
      "C:\\Users\\JuhoSon\\Miniconda3\\envs\\2019BigC\\lib\\site-packages\\numpy\\lib\\function_base.py:3826: RuntimeWarning: Invalid value encountered in percentile\n",
      "  interpolation=interpolation)\n",
      "C:\\Users\\JuhoSon\\Miniconda3\\envs\\2019BigC\\lib\\site-packages\\matplotlib\\cbook\\__init__.py:1316: RuntimeWarning: invalid value encountered in less_equal\n",
      "  wiskhi = x[x <= hival]\n",
      "C:\\Users\\JuhoSon\\Miniconda3\\envs\\2019BigC\\lib\\site-packages\\matplotlib\\cbook\\__init__.py:1323: RuntimeWarning: invalid value encountered in greater_equal\n",
      "  wisklo = x[x >= loval]\n",
      "C:\\Users\\JuhoSon\\Miniconda3\\envs\\2019BigC\\lib\\site-packages\\matplotlib\\cbook\\__init__.py:1331: RuntimeWarning: invalid value encountered in less\n",
      "  x[x < stats['whislo']],\n",
      "C:\\Users\\JuhoSon\\Miniconda3\\envs\\2019BigC\\lib\\site-packages\\matplotlib\\cbook\\__init__.py:1332: RuntimeWarning: invalid value encountered in greater\n",
      "  x[x > stats['whishi']],\n"
     ]
    },
    {
     "data": {
      "text/plain": [
       "([<matplotlib.axis.XTick at 0x1a427e7d240>,\n",
       "  <matplotlib.axis.XTick at 0x1a427e7bba8>,\n",
       "  <matplotlib.axis.XTick at 0x1a426243828>,\n",
       "  <matplotlib.axis.XTick at 0x1a427b6ec88>,\n",
       "  <matplotlib.axis.XTick at 0x1a427ea7160>,\n",
       "  <matplotlib.axis.XTick at 0x1a427ea75f8>,\n",
       "  <matplotlib.axis.XTick at 0x1a427ea7ac8>,\n",
       "  <matplotlib.axis.XTick at 0x1a427ea7e80>,\n",
       "  <matplotlib.axis.XTick at 0x1a427ea76d8>,\n",
       "  <matplotlib.axis.XTick at 0x1a427b6ef60>,\n",
       "  <matplotlib.axis.XTick at 0x1a427b7f978>,\n",
       "  <matplotlib.axis.XTick at 0x1a427b7fef0>,\n",
       "  <matplotlib.axis.XTick at 0x1a427b864a8>,\n",
       "  <matplotlib.axis.XTick at 0x1a427b86a20>,\n",
       "  <matplotlib.axis.XTick at 0x1a427b86e80>,\n",
       "  <matplotlib.axis.XTick at 0x1a427b8d550>,\n",
       "  <matplotlib.axis.XTick at 0x1a427b8dac8>,\n",
       "  <matplotlib.axis.XTick at 0x1a427b920f0>,\n",
       "  <matplotlib.axis.XTick at 0x1a427b8d8d0>,\n",
       "  <matplotlib.axis.XTick at 0x1a427b7fcf8>,\n",
       "  <matplotlib.axis.XTick at 0x1a427b92518>,\n",
       "  <matplotlib.axis.XTick at 0x1a427b92a90>,\n",
       "  <matplotlib.axis.XTick at 0x1a427b9b0b8>],\n",
       " <a list of 23 Text xticklabel objects>)"
      ]
     },
     "execution_count": 102,
     "metadata": {},
     "output_type": "execute_result"
    },
    {
     "data": {
      "image/png": "[encoded data removed]",
      "text/plain": [
       "<Figure size 1296x864 with 1 Axes>"
      ]
     },
     "metadata": {
      "needs_background": "light"
     },
     "output_type": "display_data"
    }
   ],
   "source": [
    "plt.figure(figsize=(18,12))\n",
    "plt.boxplot(df_20[card_cols].values)\n",
    "plt.xticks(list(range(1,len(card_cols)+1)), card_recols)"
   ]
  },
  {
   "cell_type": "code",
   "execution_count": null,
   "metadata": {},
   "outputs": [],
   "source": []
  }
 ],
 "metadata": {
  "kernelspec": {
   "display_name": "2019BigC",
   "language": "python",
   "name": "2019bigc"
  },
  "language_info": {
   "codemirror_mode": {
    "name": "ipython",
    "version": 3
   },
   "file_extension": ".py",
   "mimetype": "text/x-python",
   "name": "python",
   "nbconvert_exporter": "python",
   "pygments_lexer": "ipython3",
   "version": "3.7.3"
  }
 },
 "nbformat": 4,
 "nbformat_minor": 2
}
